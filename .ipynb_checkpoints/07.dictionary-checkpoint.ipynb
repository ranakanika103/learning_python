{
 "cells": [
  {
   "cell_type": "markdown",
   "id": "3b3e0235-3bf5-4010-886c-e8856372f8c3",
   "metadata": {},
   "source": [
    "# dictionaries"
   ]
  },
  {
   "cell_type": "markdown",
   "id": "59f4c45a-b874-4e6b-a1ce-6be0b29b05b0",
   "metadata": {},
   "source": [
    "#dictionary is more important than sets"
   ]
  },
  {
   "cell_type": "markdown",
   "id": "081deb99-b65d-4d7f-bf3b-54291be361bd",
   "metadata": {},
   "source": [
    "#dictionary is not ordered sequence therefore no indexing slicing\n",
    "\n",
    "##dictionary stores key value pair"
   ]
  },
  {
   "cell_type": "code",
   "execution_count": 25,
   "id": "ad654f84-44c7-485b-8913-cd1cab77b17e",
   "metadata": {},
   "outputs": [],
   "source": [
    "#in this example there are 3 key value pairs name age education are keys and kanika 20 bsc are pairs\n",
    "d={\"name\": \"kanika\", \"age\": 20, \"education\":\"bsc\"}"
   ]
  },
  {
   "cell_type": "code",
   "execution_count": 26,
   "id": "5b4b399f-7e78-4bdb-a0ee-d2a64da671e8",
   "metadata": {},
   "outputs": [
    {
     "data": {
      "text/plain": [
       "{'name': 'kanika', 'age': 20, 'education': 'bsc'}"
      ]
     },
     "execution_count": 26,
     "metadata": {},
     "output_type": "execute_result"
    }
   ],
   "source": [
    "d"
   ]
  },
  {
   "cell_type": "code",
   "execution_count": 6,
   "id": "584c2918-8155-4be0-89f3-40b653895969",
   "metadata": {},
   "outputs": [
    {
     "data": {
      "text/plain": [
       "3"
      ]
     },
     "execution_count": 6,
     "metadata": {},
     "output_type": "execute_result"
    }
   ],
   "source": [
    "len(d)"
   ]
  },
  {
   "cell_type": "code",
   "execution_count": 7,
   "id": "66fd4799-318c-4e23-9700-0ed0a4b08750",
   "metadata": {},
   "outputs": [
    {
     "data": {
      "text/plain": [
       "dict_keys(['name', 'age', 'education'])"
      ]
     },
     "execution_count": 7,
     "metadata": {},
     "output_type": "execute_result"
    }
   ],
   "source": [
    "d.keys()"
   ]
  },
  {
   "cell_type": "code",
   "execution_count": 9,
   "id": "1654fe9c-ec88-47f9-92b8-9c0e2a05fdc5",
   "metadata": {},
   "outputs": [
    {
     "data": {
      "text/plain": [
       "dict_values(['kanika', 20, 'bsc'])"
      ]
     },
     "execution_count": 9,
     "metadata": {},
     "output_type": "execute_result"
    }
   ],
   "source": [
    "d.values()"
   ]
  },
  {
   "cell_type": "code",
   "execution_count": 10,
   "id": "63d2848a-ee7d-4d63-9f42-81df7328b7e2",
   "metadata": {},
   "outputs": [
    {
     "data": {
      "text/plain": [
       "'kanika'"
      ]
     },
     "execution_count": 10,
     "metadata": {},
     "output_type": "execute_result"
    }
   ],
   "source": [
    "d['name']"
   ]
  },
  {
   "cell_type": "code",
   "execution_count": 11,
   "id": "2eeca913-5e40-4d06-bfdc-e58c407d53da",
   "metadata": {},
   "outputs": [
    {
     "data": {
      "text/plain": [
       "20"
      ]
     },
     "execution_count": 11,
     "metadata": {},
     "output_type": "execute_result"
    }
   ],
   "source": [
    "d['age']"
   ]
  },
  {
   "cell_type": "code",
   "execution_count": 12,
   "id": "d6f132de-6ac3-4c7c-b9b3-88e9a4532db2",
   "metadata": {},
   "outputs": [
    {
     "data": {
      "text/plain": [
       "'bsc'"
      ]
     },
     "execution_count": 12,
     "metadata": {},
     "output_type": "execute_result"
    }
   ],
   "source": [
    "d['education']"
   ]
  },
  {
   "cell_type": "code",
   "execution_count": 20,
   "id": "ccd8dcc3-2798-4a77-8230-c6e9ca829400",
   "metadata": {},
   "outputs": [],
   "source": [
    "a={\"subject\":\"maths\",\"village\":\"nangran\", \"pincode\":1416}"
   ]
  },
  {
   "cell_type": "code",
   "execution_count": 21,
   "id": "2bc11e1e-e03c-43cd-918f-3112dc751436",
   "metadata": {},
   "outputs": [
    {
     "data": {
      "text/plain": [
       "{'subject': 'maths', 'village': 'nangran', 'pincode': 1416}"
      ]
     },
     "execution_count": 21,
     "metadata": {},
     "output_type": "execute_result"
    }
   ],
   "source": [
    "a"
   ]
  },
  {
   "cell_type": "code",
   "execution_count": 22,
   "id": "6c72c46a-67a2-46f4-9c49-a5ab3714ecd7",
   "metadata": {},
   "outputs": [
    {
     "data": {
      "text/plain": [
       "3"
      ]
     },
     "execution_count": 22,
     "metadata": {},
     "output_type": "execute_result"
    }
   ],
   "source": [
    "len(a)"
   ]
  },
  {
   "cell_type": "code",
   "execution_count": 23,
   "id": "0510f5c7-7d88-4cfe-9dfc-cd3da174bfd8",
   "metadata": {},
   "outputs": [
    {
     "data": {
      "text/plain": [
       "dict_keys(['subject', 'village', 'pincode'])"
      ]
     },
     "execution_count": 23,
     "metadata": {},
     "output_type": "execute_result"
    }
   ],
   "source": [
    "a.keys()"
   ]
  },
  {
   "cell_type": "code",
   "execution_count": 27,
   "id": "0fedf58c-50ee-4854-b57a-3908ca39ba31",
   "metadata": {},
   "outputs": [
    {
     "data": {
      "text/plain": [
       "'kanika'"
      ]
     },
     "execution_count": 27,
     "metadata": {},
     "output_type": "execute_result"
    }
   ],
   "source": [
    "d[\"name\"]"
   ]
  },
  {
   "cell_type": "code",
   "execution_count": 30,
   "id": "994f252d-e8b4-4e66-ac61-b76d6fa31bef",
   "metadata": {},
   "outputs": [],
   "source": [
    "#to add items in dictionary\n",
    "d[\"village\"]=\"nangran\""
   ]
  },
  {
   "cell_type": "code",
   "execution_count": 29,
   "id": "45f4283a-5cbe-46de-872a-82385affcf09",
   "metadata": {},
   "outputs": [
    {
     "data": {
      "text/plain": [
       "{'name': 'kanika', 'age': 20, 'education': 'bsc', 'village': 'nangran'}"
      ]
     },
     "execution_count": 29,
     "metadata": {},
     "output_type": "execute_result"
    }
   ],
   "source": [
    "d"
   ]
  },
  {
   "cell_type": "markdown",
   "id": "c87655e6-a575-4ad8-9468-9f289322c739",
   "metadata": {},
   "source": [
    "#keys can only have string or integer"
   ]
  },
  {
   "cell_type": "code",
   "execution_count": 31,
   "id": "66bf6418-9cb3-4737-b71e-c41250f7df18",
   "metadata": {},
   "outputs": [
    {
     "data": {
      "text/plain": [
       "{1: 'kanika', 2: 'inder', 3: 'adi'}"
      ]
     },
     "execution_count": 31,
     "metadata": {},
     "output_type": "execute_result"
    }
   ],
   "source": [
    "{1:\"kanika\",2:\"inder\",3:\"adi\"}"
   ]
  },
  {
   "cell_type": "code",
   "execution_count": 101,
   "id": "90e75f30-4d46-4af7-b41e-1427b507e27b",
   "metadata": {},
   "outputs": [],
   "source": [
    "di={1:{\"name\":\"kanika\",\"age\":20},2:{\"name\":\"inder\",\"age\":20},3:{\"name\":\"adi\",\"age\":10, \"dogs\":[\"tommy\",\"jack\",\"rocky\"]}}"
   ]
  },
  {
   "cell_type": "code",
   "execution_count": 102,
   "id": "a28e69b7-0002-4b16-a5f4-c0ee0de6cc93",
   "metadata": {},
   "outputs": [
    {
     "data": {
      "text/plain": [
       "{1: {'name': 'kanika', 'age': 20},\n",
       " 2: {'name': 'inder', 'age': 20},\n",
       " 3: {'name': 'adi', 'age': 10, 'dogs': ['tommy', 'jack', 'rocky']}}"
      ]
     },
     "execution_count": 102,
     "metadata": {},
     "output_type": "execute_result"
    }
   ],
   "source": [
    "di"
   ]
  },
  {
   "cell_type": "code",
   "execution_count": 40,
   "id": "dcf2c3e7-1111-4b14-886d-7f7ff7962c16",
   "metadata": {},
   "outputs": [
    {
     "data": {
      "text/plain": [
       "3"
      ]
     },
     "execution_count": 40,
     "metadata": {},
     "output_type": "execute_result"
    }
   ],
   "source": [
    "len(di)"
   ]
  },
  {
   "cell_type": "code",
   "execution_count": 50,
   "id": "463d5f90-9503-4e00-b413-590ee0655f79",
   "metadata": {},
   "outputs": [],
   "source": [
    "di[1]['education']=\"btech\""
   ]
  },
  {
   "cell_type": "code",
   "execution_count": 51,
   "id": "22694e91-a67d-4dce-8d63-ffc29ae918b1",
   "metadata": {},
   "outputs": [
    {
     "data": {
      "text/plain": [
       "{1: {'name': 'kanika', 'age': 20, 'education': 'btech'},\n",
       " 2: {'name': 'inder', 'age': 20},\n",
       " 3: {'name': 'adi', 'age': 10, 'dogs': ['tommy', 'jack', 'rocky']}}"
      ]
     },
     "execution_count": 51,
     "metadata": {},
     "output_type": "execute_result"
    }
   ],
   "source": [
    "di"
   ]
  },
  {
   "cell_type": "code",
   "execution_count": 47,
   "id": "a759bfad-92cc-4771-8e9c-1594e90da86d",
   "metadata": {},
   "outputs": [
    {
     "data": {
      "text/plain": [
       "dict_keys([1, 2, 3])"
      ]
     },
     "execution_count": 47,
     "metadata": {},
     "output_type": "execute_result"
    }
   ],
   "source": [
    "di.keys()"
   ]
  },
  {
   "cell_type": "code",
   "execution_count": 48,
   "id": "ad86758c-bec3-4564-8f63-f3ba68e08b15",
   "metadata": {},
   "outputs": [
    {
     "data": {
      "text/plain": [
       "dict_values([{'name': 'kanika', 'age': 20}, {'name': 'inder', 'age': 20}, {'name': 'adi', 'age': 10, 'dogs': ['tommy', 'jack', 'rocky']}])"
      ]
     },
     "execution_count": 48,
     "metadata": {},
     "output_type": "execute_result"
    }
   ],
   "source": [
    "di.values()"
   ]
  },
  {
   "cell_type": "code",
   "execution_count": 52,
   "id": "507164c3-73f4-42d4-aa9e-2e5adde6a356",
   "metadata": {},
   "outputs": [
    {
     "data": {
      "text/plain": [
       "dict"
      ]
     },
     "execution_count": 52,
     "metadata": {},
     "output_type": "execute_result"
    }
   ],
   "source": [
    "type(di)"
   ]
  },
  {
   "cell_type": "code",
   "execution_count": 53,
   "id": "e0a4c875-7179-4a0f-becb-07912383f273",
   "metadata": {},
   "outputs": [
    {
     "data": {
      "text/plain": [
       "{'name': 'kanika', 'age': 20, 'education': 'bsc', 'village': 'nangran'}"
      ]
     },
     "execution_count": 53,
     "metadata": {},
     "output_type": "execute_result"
    }
   ],
   "source": [
    "d"
   ]
  },
  {
   "cell_type": "code",
   "execution_count": 54,
   "id": "e791f54f-ab7b-4028-b454-c09e98bf2b0c",
   "metadata": {},
   "outputs": [
    {
     "data": {
      "text/plain": [
       "{1: {'name': 'kanika', 'age': 20, 'education': 'btech'},\n",
       " 2: {'name': 'inder', 'age': 20},\n",
       " 3: {'name': 'adi', 'age': 10, 'dogs': ['tommy', 'jack', 'rocky']}}"
      ]
     },
     "execution_count": 54,
     "metadata": {},
     "output_type": "execute_result"
    }
   ],
   "source": [
    "di"
   ]
  },
  {
   "cell_type": "code",
   "execution_count": 56,
   "id": "86b5dd72-5521-4394-b0c0-dbfea2f9093d",
   "metadata": {},
   "outputs": [
    {
     "data": {
      "text/plain": [
       "dict_keys(['name', 'age', 'education'])"
      ]
     },
     "execution_count": 56,
     "metadata": {},
     "output_type": "execute_result"
    }
   ],
   "source": [
    "di[1].keys()"
   ]
  },
  {
   "cell_type": "code",
   "execution_count": 57,
   "id": "2cf87357-8878-4408-a528-884794bc3630",
   "metadata": {},
   "outputs": [
    {
     "data": {
      "text/plain": [
       "['tommy', 'jack', 'rocky']"
      ]
     },
     "execution_count": 57,
     "metadata": {},
     "output_type": "execute_result"
    }
   ],
   "source": [
    "di[3]['dogs']"
   ]
  },
  {
   "cell_type": "code",
   "execution_count": 59,
   "id": "02dc366a-a526-4c64-b5f2-fb4736ee97d2",
   "metadata": {},
   "outputs": [],
   "source": [
    "#to add items\n",
    "d[\"wifi\"]=\"aa\""
   ]
  },
  {
   "cell_type": "code",
   "execution_count": 60,
   "id": "8b6bcd6d-2aea-458a-93df-bb3ca5edc935",
   "metadata": {},
   "outputs": [
    {
     "data": {
      "text/plain": [
       "{'name': 'kanika',\n",
       " 'age': 20,\n",
       " 'education': 'bsc',\n",
       " 'village': 'nangran',\n",
       " 'wifi': 'aa'}"
      ]
     },
     "execution_count": 60,
     "metadata": {},
     "output_type": "execute_result"
    }
   ],
   "source": [
    "d"
   ]
  },
  {
   "cell_type": "code",
   "execution_count": 62,
   "id": "082298ff-f0da-42fe-9b2f-cf8e88b7722b",
   "metadata": {},
   "outputs": [],
   "source": [
    "#to change the item\n",
    "d[\"wifi\"]=\"bbb\""
   ]
  },
  {
   "cell_type": "code",
   "execution_count": 63,
   "id": "047d810f-7dd2-4e4e-82fb-2aaf4d3cbe7b",
   "metadata": {},
   "outputs": [
    {
     "data": {
      "text/plain": [
       "{'name': 'kanika',\n",
       " 'age': 20,\n",
       " 'education': 'bsc',\n",
       " 'village': 'nangran',\n",
       " 'wifi': 'bbb'}"
      ]
     },
     "execution_count": 63,
     "metadata": {},
     "output_type": "execute_result"
    }
   ],
   "source": [
    "d"
   ]
  },
  {
   "cell_type": "code",
   "execution_count": 64,
   "id": "5016db8b-0b12-4ad0-a5f0-d17e9ab7f063",
   "metadata": {},
   "outputs": [
    {
     "data": {
      "text/plain": [
       "'jack'"
      ]
     },
     "execution_count": 64,
     "metadata": {},
     "output_type": "execute_result"
    }
   ],
   "source": [
    "di[3]['dogs'][1]"
   ]
  },
  {
   "cell_type": "code",
   "execution_count": 77,
   "id": "d0b32d07-1e95-4fe6-ab7a-3f9856e170c7",
   "metadata": {},
   "outputs": [
    {
     "data": {
      "text/plain": [
       "'ja'"
      ]
     },
     "execution_count": 77,
     "metadata": {},
     "output_type": "execute_result"
    }
   ],
   "source": [
    "#there is no indexing slicing in dict. but here we use key such as key3 when we use key and values we can do indexining slicing \n",
    "#in values we can do indexing slicing because in value data type is string and in string indexing slicing is possible\n",
    "di[3]['dogs'][1][0:2]"
   ]
  },
  {
   "cell_type": "code",
   "execution_count": 71,
   "id": "39cd90b2-de9d-462a-a579-524e431de4f6",
   "metadata": {},
   "outputs": [
    {
     "data": {
      "text/plain": [
       "'jac'"
      ]
     },
     "execution_count": 71,
     "metadata": {},
     "output_type": "execute_result"
    }
   ],
   "source": [
    "di[3]['dogs'][1][0:3]"
   ]
  },
  {
   "cell_type": "code",
   "execution_count": 75,
   "id": "b3aa0f07-b7f8-4b48-b518-b06222ec5188",
   "metadata": {},
   "outputs": [
    {
     "data": {
      "text/plain": [
       "20"
      ]
     },
     "execution_count": 75,
     "metadata": {},
     "output_type": "execute_result"
    }
   ],
   "source": [
    "di[1]['age']"
   ]
  },
  {
   "cell_type": "code",
   "execution_count": 76,
   "id": "b043065f-a875-43aa-a278-79115ff691d9",
   "metadata": {},
   "outputs": [
    {
     "data": {
      "text/plain": [
       "'bt'"
      ]
     },
     "execution_count": 76,
     "metadata": {},
     "output_type": "execute_result"
    }
   ],
   "source": [
    "di[1]['education'][0:2]"
   ]
  },
  {
   "cell_type": "code",
   "execution_count": 79,
   "id": "a79a1612-6743-4e06-b96a-c46a541f61d9",
   "metadata": {},
   "outputs": [
    {
     "data": {
      "text/plain": [
       "dict_items([(1, {'name': 'kanika', 'age': 20, 'education': 'btech'}), (2, {'name': 'inder', 'age': 20}), (3, {'name': 'adi', 'age': 10, 'dogs': ['tommy', 'jack', 'rocky']})])"
      ]
     },
     "execution_count": 79,
     "metadata": {},
     "output_type": "execute_result"
    }
   ],
   "source": [
    "di.items()"
   ]
  },
  {
   "cell_type": "code",
   "execution_count": 103,
   "id": "df1fd02d-c156-4764-b85c-d3941dbf583e",
   "metadata": {},
   "outputs": [
    {
     "data": {
      "text/plain": [
       "[(1, {'name': 'kanika', 'age': 20}),\n",
       " (2, {'name': 'inder', 'age': 20}),\n",
       " (3, {'name': 'adi', 'age': 10, 'dogs': ['tommy', 'jack', 'rocky']})]"
      ]
     },
     "execution_count": 103,
     "metadata": {},
     "output_type": "execute_result"
    }
   ],
   "source": [
    "#the output in tuple\n",
    "list(di.items())"
   ]
  },
  {
   "cell_type": "code",
   "execution_count": 84,
   "id": "bc44a727-3265-4c6e-8217-bad8730f03c4",
   "metadata": {},
   "outputs": [
    {
     "data": {
      "text/plain": [
       "(2, {'name': 'inder', 'age': 20})"
      ]
     },
     "execution_count": 84,
     "metadata": {},
     "output_type": "execute_result"
    }
   ],
   "source": [
    "list(di.items())[1]"
   ]
  },
  {
   "cell_type": "code",
   "execution_count": 87,
   "id": "f9c2b6c8-172c-4e4a-9e04-cb98ba297705",
   "metadata": {},
   "outputs": [
    {
     "data": {
      "text/plain": [
       "{'name': 'inder', 'age': 20}"
      ]
     },
     "execution_count": 87,
     "metadata": {},
     "output_type": "execute_result"
    }
   ],
   "source": [
    "list(di.items())[1][1]"
   ]
  },
  {
   "cell_type": "code",
   "execution_count": 88,
   "id": "74b59cbc-a33d-4283-971b-fb7b49ed4b87",
   "metadata": {},
   "outputs": [
    {
     "data": {
      "text/plain": [
       "'ind'"
      ]
     },
     "execution_count": 88,
     "metadata": {},
     "output_type": "execute_result"
    }
   ],
   "source": [
    "list(di.items())[1][1][\"name\"][0:3]"
   ]
  },
  {
   "cell_type": "markdown",
   "id": "84488202-f24f-459c-bcde-519c5ce886e7",
   "metadata": {},
   "source": [
    "#in values we can store any type of data but in keys we can store only strings and intergers"
   ]
  },
  {
   "cell_type": "code",
   "execution_count": 118,
   "id": "5d71544e-88dc-486c-8162-e53e367c24c1",
   "metadata": {},
   "outputs": [],
   "source": [
    "data={\"info\":[12,34.5,\"hello\",{\"keys\":[1,2,3,\"world\"]}]}"
   ]
  },
  {
   "cell_type": "code",
   "execution_count": 121,
   "id": "88925be5-0cda-4cdb-b2fc-53344815f95e",
   "metadata": {},
   "outputs": [
    {
     "data": {
      "text/plain": [
       "'hello'"
      ]
     },
     "execution_count": 121,
     "metadata": {},
     "output_type": "execute_result"
    }
   ],
   "source": [
    "data[\"info\"][2]"
   ]
  },
  {
   "cell_type": "code",
   "execution_count": 126,
   "id": "a12220d4-1f3d-4cd4-ab62-8ec109aed882",
   "metadata": {},
   "outputs": [
    {
     "data": {
      "text/plain": [
       "dict_keys(['info'])"
      ]
     },
     "execution_count": 126,
     "metadata": {},
     "output_type": "execute_result"
    }
   ],
   "source": [
    "data.keys()"
   ]
  },
  {
   "cell_type": "code",
   "execution_count": 127,
   "id": "5703f600-5766-4c8c-bf7e-a34f5b68e043",
   "metadata": {},
   "outputs": [
    {
     "data": {
      "text/plain": [
       "dict_values([[12, 34.5, 'hello', {'keys': [1, 2, 3, 'world']}]])"
      ]
     },
     "execution_count": 127,
     "metadata": {},
     "output_type": "execute_result"
    }
   ],
   "source": [
    "data.values()"
   ]
  },
  {
   "cell_type": "code",
   "execution_count": 130,
   "id": "39eabcdc-a9dd-4aac-9fde-7961dfdff685",
   "metadata": {},
   "outputs": [
    {
     "data": {
      "text/plain": [
       "{'keys': [1, 2, 3, 'world']}"
      ]
     },
     "execution_count": 130,
     "metadata": {},
     "output_type": "execute_result"
    }
   ],
   "source": [
    "data['info'][3]"
   ]
  },
  {
   "cell_type": "code",
   "execution_count": 131,
   "id": "efb2873f-cc42-4bc7-80ae-f90f530e26bc",
   "metadata": {},
   "outputs": [
    {
     "data": {
      "text/plain": [
       "dict_keys(['keys'])"
      ]
     },
     "execution_count": 131,
     "metadata": {},
     "output_type": "execute_result"
    }
   ],
   "source": [
    "data['info'][3].keys()"
   ]
  },
  {
   "cell_type": "code",
   "execution_count": 133,
   "id": "5bb909a8-c273-447c-9b51-cc83e18c33a3",
   "metadata": {},
   "outputs": [
    {
     "data": {
      "text/plain": [
       "'world'"
      ]
     },
     "execution_count": 133,
     "metadata": {},
     "output_type": "execute_result"
    }
   ],
   "source": [
    "data['info'][3]['keys'][3]"
   ]
  },
  {
   "cell_type": "code",
   "execution_count": null,
   "id": "65ef14dd-7102-4493-a197-0ce6ba9912cc",
   "metadata": {},
   "outputs": [],
   "source": []
  }
 ],
 "metadata": {
  "kernelspec": {
   "display_name": "Python [conda env:base] *",
   "language": "python",
   "name": "conda-base-py"
  },
  "language_info": {
   "codemirror_mode": {
    "name": "ipython",
    "version": 3
   },
   "file_extension": ".py",
   "mimetype": "text/x-python",
   "name": "python",
   "nbconvert_exporter": "python",
   "pygments_lexer": "ipython3",
   "version": "3.13.5"
  }
 },
 "nbformat": 4,
 "nbformat_minor": 5
}
