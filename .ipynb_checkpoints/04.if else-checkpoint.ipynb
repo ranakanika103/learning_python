{
 "cells": [
  {
   "cell_type": "markdown",
   "id": "3107eae1-5c8c-4779-878e-582fa2402477",
   "metadata": {},
   "source": [
    "# booleans"
   ]
  },
  {
   "cell_type": "code",
   "execution_count": 1,
   "id": "558d6416-254d-4aea-bfb7-07f5a30a4851",
   "metadata": {},
   "outputs": [
    {
     "data": {
      "text/plain": [
       "1"
      ]
     },
     "execution_count": 1,
     "metadata": {},
     "output_type": "execute_result"
    }
   ],
   "source": [
    "0 or 1"
   ]
  },
  {
   "cell_type": "code",
   "execution_count": 12,
   "id": "8b989f50-15cc-48ea-ae3b-cf57acefc540",
   "metadata": {},
   "outputs": [
    {
     "data": {
      "text/plain": [
       "1"
      ]
     },
     "execution_count": 12,
     "metadata": {},
     "output_type": "execute_result"
    }
   ],
   "source": [
    "#in boolean write first letter in capital\n",
    "int(True)"
   ]
  },
  {
   "cell_type": "code",
   "execution_count": 13,
   "id": "37ee53e7-7aa0-47ca-9f32-9f2b1c75be07",
   "metadata": {},
   "outputs": [
    {
     "data": {
      "text/plain": [
       "0"
      ]
     },
     "execution_count": 13,
     "metadata": {},
     "output_type": "execute_result"
    }
   ],
   "source": [
    "#only zero,none and blank text in  boolean is false rather all numbers are true\n",
    "int(False)"
   ]
  },
  {
   "cell_type": "code",
   "execution_count": 5,
   "id": "0fdcbfaa-b23d-4127-9162-27f171a5192f",
   "metadata": {},
   "outputs": [
    {
     "data": {
      "text/plain": [
       "True"
      ]
     },
     "execution_count": 5,
     "metadata": {},
     "output_type": "execute_result"
    }
   ],
   "source": [
    "bool(5)"
   ]
  },
  {
   "cell_type": "code",
   "execution_count": 6,
   "id": "49ef2007-96c1-4322-9ef3-e93e837768aa",
   "metadata": {},
   "outputs": [
    {
     "data": {
      "text/plain": [
       "True"
      ]
     },
     "execution_count": 6,
     "metadata": {},
     "output_type": "execute_result"
    }
   ],
   "source": [
    "bool(-7)"
   ]
  },
  {
   "cell_type": "code",
   "execution_count": 8,
   "id": "94bb6911-0db7-4fd0-9d16-ce3df6955ac2",
   "metadata": {},
   "outputs": [
    {
     "data": {
      "text/plain": [
       "True"
      ]
     },
     "execution_count": 8,
     "metadata": {},
     "output_type": "execute_result"
    }
   ],
   "source": [
    "bool(5/7)"
   ]
  },
  {
   "cell_type": "code",
   "execution_count": 9,
   "id": "efd3dd62-0124-46ba-b475-264a1cf7d69f",
   "metadata": {},
   "outputs": [
    {
     "data": {
      "text/plain": [
       "False"
      ]
     },
     "execution_count": 9,
     "metadata": {},
     "output_type": "execute_result"
    }
   ],
   "source": [
    "bool()"
   ]
  },
  {
   "cell_type": "code",
   "execution_count": 11,
   "id": "b9da2e8d-1ef6-4758-b21d-fbe5cdb0a237",
   "metadata": {},
   "outputs": [
    {
     "data": {
      "text/plain": [
       "False"
      ]
     },
     "execution_count": 11,
     "metadata": {},
     "output_type": "execute_result"
    }
   ],
   "source": [
    "bool(None)"
   ]
  },
  {
   "cell_type": "code",
   "execution_count": 17,
   "id": "eec15f45-336c-4737-a825-1b83ea814e06",
   "metadata": {},
   "outputs": [
    {
     "data": {
      "text/plain": [
       "False"
      ]
     },
     "execution_count": 17,
     "metadata": {},
     "output_type": "execute_result"
    }
   ],
   "source": [
    "#blank list also false\n",
    "bool([])"
   ]
  },
  {
   "cell_type": "code",
   "execution_count": 18,
   "id": "c3c91244-6dd0-4d5c-a7f7-f71d45136baf",
   "metadata": {},
   "outputs": [
    {
     "data": {
      "text/plain": [
       "False"
      ]
     },
     "execution_count": 18,
     "metadata": {},
     "output_type": "execute_result"
    }
   ],
   "source": [
    "#blank tuple also false\n",
    "bool(())"
   ]
  },
  {
   "cell_type": "code",
   "execution_count": 19,
   "id": "2c38ec62-f124-4553-adb8-7e5548bfe220",
   "metadata": {},
   "outputs": [
    {
     "data": {
      "text/plain": [
       "False"
      ]
     },
     "execution_count": 19,
     "metadata": {},
     "output_type": "execute_result"
    }
   ],
   "source": [
    "#blank dictonary also false\n",
    "bool({})"
   ]
  },
  {
   "cell_type": "code",
   "execution_count": 20,
   "id": "602fe650-4bac-401a-b503-0f7286abcbdb",
   "metadata": {
    "scrolled": true
   },
   "outputs": [
    {
     "data": {
      "text/plain": [
       "True"
      ]
     },
     "execution_count": 20,
     "metadata": {},
     "output_type": "execute_result"
    }
   ],
   "source": [
    "bool({7})"
   ]
  },
  {
   "cell_type": "markdown",
   "id": "da16c7ff-8b2a-4406-ae97-c38e1d06b32a",
   "metadata": {},
   "source": [
    "# comparison operators"
   ]
  },
  {
   "cell_type": "code",
   "execution_count": 39,
   "id": "120819ec-e66d-43cd-b1a9-c574003524aa",
   "metadata": {
    "scrolled": true
   },
   "outputs": [
    {
     "data": {
      "text/plain": [
       "False"
      ]
     },
     "execution_count": 39,
     "metadata": {},
     "output_type": "execute_result"
    }
   ],
   "source": [
    "5>10"
   ]
  },
  {
   "cell_type": "code",
   "execution_count": 40,
   "id": "4289c7e1-761d-4ade-84be-6c713c2a4133",
   "metadata": {},
   "outputs": [
    {
     "data": {
      "text/plain": [
       "True"
      ]
     },
     "execution_count": 40,
     "metadata": {},
     "output_type": "execute_result"
    }
   ],
   "source": [
    "10>5"
   ]
  },
  {
   "cell_type": "code",
   "execution_count": 51,
   "id": "ff1968e7-48d3-4fbf-9846-046eb1f84a41",
   "metadata": {},
   "outputs": [],
   "source": [
    "age=20"
   ]
  },
  {
   "cell_type": "code",
   "execution_count": 42,
   "id": "f3acc65c-0a2c-4708-8547-8db391388ed4",
   "metadata": {},
   "outputs": [
    {
     "data": {
      "text/plain": [
       "False"
      ]
     },
     "execution_count": 42,
     "metadata": {},
     "output_type": "execute_result"
    }
   ],
   "source": [
    "age==18"
   ]
  },
  {
   "cell_type": "code",
   "execution_count": 49,
   "id": "71c78a6b-31c2-43e9-87ce-6883b20fea9a",
   "metadata": {},
   "outputs": [
    {
     "ename": "SyntaxError",
     "evalue": "cannot assign to literal here. Maybe you meant '==' instead of '='? (980191137.py, line 2)",
     "output_type": "error",
     "traceback": [
      "\u001b[1;36m  Cell \u001b[1;32mIn[49], line 2\u001b[1;36m\u001b[0m\n\u001b[1;33m    5=5\u001b[0m\n\u001b[1;37m    ^\u001b[0m\n\u001b[1;31mSyntaxError\u001b[0m\u001b[1;31m:\u001b[0m cannot assign to literal here. Maybe you meant '==' instead of '='?\n"
     ]
    }
   ],
   "source": [
    "#error because you have to use two equal sign(=assign value,==equal to condition)\n",
    "5=5"
   ]
  },
  {
   "cell_type": "code",
   "execution_count": 46,
   "id": "cc89d68b-f617-400d-bac3-4bbe19d7163f",
   "metadata": {},
   "outputs": [
    {
     "data": {
      "text/plain": [
       "True"
      ]
     },
     "execution_count": 46,
     "metadata": {},
     "output_type": "execute_result"
    }
   ],
   "source": [
    "5==5"
   ]
  },
  {
   "cell_type": "code",
   "execution_count": 52,
   "id": "672aafac-64a7-4b9c-be5f-25f02d7e5641",
   "metadata": {},
   "outputs": [
    {
     "data": {
      "text/plain": [
       "True"
      ]
     },
     "execution_count": 52,
     "metadata": {},
     "output_type": "execute_result"
    }
   ],
   "source": [
    "age>=18"
   ]
  },
  {
   "cell_type": "code",
   "execution_count": 53,
   "id": "a6fc1357-5a2c-445d-bcf7-90acc8a2c80e",
   "metadata": {},
   "outputs": [
    {
     "data": {
      "text/plain": [
       "False"
      ]
     },
     "execution_count": 53,
     "metadata": {},
     "output_type": "execute_result"
    }
   ],
   "source": [
    "age<=18"
   ]
  },
  {
   "cell_type": "code",
   "execution_count": 54,
   "id": "aaaee270-5326-4408-80ed-7933fb8d12a0",
   "metadata": {},
   "outputs": [
    {
     "data": {
      "text/plain": [
       "True"
      ]
     },
     "execution_count": 54,
     "metadata": {},
     "output_type": "execute_result"
    }
   ],
   "source": [
    "#not eqal to\n",
    "age!=19"
   ]
  },
  {
   "cell_type": "code",
   "execution_count": 55,
   "id": "5a6e04e0-e1f9-41f8-867c-6d16baf174a2",
   "metadata": {},
   "outputs": [
    {
     "data": {
      "text/plain": [
       "False"
      ]
     },
     "execution_count": 55,
     "metadata": {},
     "output_type": "execute_result"
    }
   ],
   "source": [
    "age!=20"
   ]
  },
  {
   "cell_type": "code",
   "execution_count": 56,
   "id": "96ef0e1e-679a-49fc-95fd-391ae9639324",
   "metadata": {},
   "outputs": [
    {
     "data": {
      "text/plain": [
       "True"
      ]
     },
     "execution_count": 56,
     "metadata": {},
     "output_type": "execute_result"
    }
   ],
   "source": [
    "age>18"
   ]
  },
  {
   "cell_type": "code",
   "execution_count": null,
   "id": "e71184ec-5ad3-428b-8767-8b672eb63281",
   "metadata": {},
   "outputs": [],
   "source": []
  },
  {
   "cell_type": "markdown",
   "id": "f4589b6d-089b-41f7-8e86-db136b0dd857",
   "metadata": {},
   "source": [
    "# if elif else"
   ]
  },
  {
   "cell_type": "code",
   "execution_count": 34,
   "id": "dc14fce2-a22c-4737-96bb-ef5c89ec76da",
   "metadata": {},
   "outputs": [],
   "source": [
    "age=12"
   ]
  },
  {
   "cell_type": "code",
   "execution_count": 37,
   "id": "2b260985-6ea4-4e30-abd5-406128ae052d",
   "metadata": {},
   "outputs": [
    {
     "name": "stdout",
     "output_type": "stream",
     "text": [
      "bye\n"
     ]
    }
   ],
   "source": [
    "#indentation=four space before print\n",
    "if age>18:\n",
    "    print(\"welcome\")\n",
    "else:\n",
    "    print(\"bye\")"
   ]
  },
  {
   "cell_type": "code",
   "execution_count": 57,
   "id": "334bb896-420a-44dd-9592-b13c31b83229",
   "metadata": {},
   "outputs": [
    {
     "data": {
      "text/plain": [
       "True"
      ]
     },
     "execution_count": 57,
     "metadata": {},
     "output_type": "execute_result"
    }
   ],
   "source": [
    "age>18"
   ]
  },
  {
   "cell_type": "code",
   "execution_count": 58,
   "id": "b47160f2-bd44-40bb-ad22-fb0403c7ca6c",
   "metadata": {},
   "outputs": [
    {
     "name": "stdout",
     "output_type": "stream",
     "text": [
      "welcome\n"
     ]
    }
   ],
   "source": [
    "if age>18:\n",
    "    print('welcome')"
   ]
  },
  {
   "cell_type": "code",
   "execution_count": 59,
   "id": "d9bfeb95-73d3-4e30-a203-433a6b33997e",
   "metadata": {},
   "outputs": [
    {
     "name": "stdout",
     "output_type": "stream",
     "text": [
      "welcome\n"
     ]
    }
   ],
   "source": [
    "if True:\n",
    "    print('welcome')"
   ]
  },
  {
   "cell_type": "code",
   "execution_count": 63,
   "id": "e3f804b4-c9b9-45f7-8942-9706068b1b5f",
   "metadata": {},
   "outputs": [],
   "source": [
    "marks=35"
   ]
  },
  {
   "cell_type": "code",
   "execution_count": 64,
   "id": "a223ef6b-40b8-4f21-9f1b-be230b28e892",
   "metadata": {},
   "outputs": [
    {
     "name": "stdout",
     "output_type": "stream",
     "text": [
      "Fail\n"
     ]
    }
   ],
   "source": [
    "if marks>=90:\n",
    "    print(\"A\")\n",
    "elif marks>=75:\n",
    "    print(\"B\")\n",
    "elif marks>=60:\n",
    "    print(\"C\")\n",
    "elif marks>=40:\n",
    "    print(\"D\")\n",
    "else:\n",
    "    print(\"Fail\")"
   ]
  },
  {
   "cell_type": "code",
   "execution_count": 65,
   "id": "52c5901c-864f-415d-aa11-3dc135ada98e",
   "metadata": {},
   "outputs": [],
   "source": [
    "marks=64"
   ]
  },
  {
   "cell_type": "code",
   "execution_count": 66,
   "id": "4448cfcf-ea63-4fef-a593-b477ab2bdc2e",
   "metadata": {},
   "outputs": [
    {
     "name": "stdout",
     "output_type": "stream",
     "text": [
      "C\n"
     ]
    }
   ],
   "source": [
    "if marks>=90:\n",
    "    print(\"A\")\n",
    "elif marks>=75:\n",
    "    print(\"B\")\n",
    "elif marks>=60:\n",
    "    print(\"C\")\n",
    "elif marks>=40:\n",
    "    print(\"D\")\n",
    "else:\n",
    "    print(\"Fail\")"
   ]
  },
  {
   "cell_type": "code",
   "execution_count": 68,
   "id": "4dfbd94f-317d-4a24-9094-e35efdfd1750",
   "metadata": {},
   "outputs": [
    {
     "name": "stdout",
     "output_type": "stream",
     "text": [
      "Hello\n"
     ]
    }
   ],
   "source": [
    "if True:\n",
    "    print('Hello')\n",
    "elif False:\n",
    "    print ('hi')\n",
    "else:\n",
    "    print('bye')"
   ]
  },
  {
   "cell_type": "code",
   "execution_count": 71,
   "id": "58c70feb-06fb-4b95-8568-0f27843d58b9",
   "metadata": {},
   "outputs": [
    {
     "name": "stdout",
     "output_type": "stream",
     "text": [
      "bye\n"
     ]
    }
   ],
   "source": [
    "if False:\n",
    "    print('Hello')\n",
    "elif False:\n",
    "    print ('hi')\n",
    "else:\n",
    "    print('bye')"
   ]
  },
  {
   "cell_type": "code",
   "execution_count": 72,
   "id": "b877478a-2bb3-4a2b-8d2c-3f9af57ae553",
   "metadata": {},
   "outputs": [
    {
     "name": "stdout",
     "output_type": "stream",
     "text": [
      "hi\n"
     ]
    }
   ],
   "source": [
    "if False:\n",
    "    print('Hello')\n",
    "elif True:\n",
    "    print ('hi')\n",
    "else:\n",
    "    print('bye')"
   ]
  },
  {
   "cell_type": "code",
   "execution_count": null,
   "id": "576d3aad-039c-4054-b6ee-48747cedb2e1",
   "metadata": {},
   "outputs": [],
   "source": []
  }
 ],
 "metadata": {
  "kernelspec": {
   "display_name": "Python [conda env:base] *",
   "language": "python",
   "name": "conda-base-py"
  },
  "language_info": {
   "codemirror_mode": {
    "name": "ipython",
    "version": 3
   },
   "file_extension": ".py",
   "mimetype": "text/x-python",
   "name": "python",
   "nbconvert_exporter": "python",
   "pygments_lexer": "ipython3",
   "version": "3.13.5"
  }
 },
 "nbformat": 4,
 "nbformat_minor": 5
}
