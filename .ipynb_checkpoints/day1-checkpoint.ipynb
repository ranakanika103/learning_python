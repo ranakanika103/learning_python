{
 "cells": [
  {
   "cell_type": "code",
   "execution_count": 2,
   "id": "b6d03ef7-7481-4873-9b4e-e4a3322f6df1",
   "metadata": {},
   "outputs": [],
   "source": [
    "a=5"
   ]
  },
  {
   "cell_type": "code",
   "execution_count": 3,
   "id": "d78ec98f-edf3-446d-b3bd-8a8f5d84d460",
   "metadata": {},
   "outputs": [
    {
     "data": {
      "text/plain": [
       "5"
      ]
     },
     "execution_count": 3,
     "metadata": {},
     "output_type": "execute_result"
    }
   ],
   "source": [
    "a"
   ]
  },
  {
   "cell_type": "code",
   "execution_count": 4,
   "id": "0bb1cd0a-7a0d-40eb-b912-2a7c60bc6a25",
   "metadata": {},
   "outputs": [
    {
     "data": {
      "text/plain": [
       "10"
      ]
     },
     "execution_count": 4,
     "metadata": {},
     "output_type": "execute_result"
    }
   ],
   "source": [
    "5+5"
   ]
  },
  {
   "cell_type": "code",
   "execution_count": 5,
   "id": "9be79098-a5be-4667-8faf-51d599af30cb",
   "metadata": {},
   "outputs": [
    {
     "data": {
      "text/plain": [
       "3"
      ]
     },
     "execution_count": 5,
     "metadata": {},
     "output_type": "execute_result"
    }
   ],
   "source": [
    "5-2"
   ]
  },
  {
   "cell_type": "code",
   "execution_count": 6,
   "id": "39a468fb-1561-4912-a023-271ced62fc94",
   "metadata": {},
   "outputs": [
    {
     "data": {
      "text/plain": [
       "25"
      ]
     },
     "execution_count": 6,
     "metadata": {},
     "output_type": "execute_result"
    }
   ],
   "source": [
    "5*5"
   ]
  },
  {
   "cell_type": "code",
   "execution_count": 7,
   "id": "d825d8e7-c812-4a45-ad0e-a3b88eba1c0b",
   "metadata": {},
   "outputs": [
    {
     "data": {
      "text/plain": [
       "2.0"
      ]
     },
     "execution_count": 7,
     "metadata": {},
     "output_type": "execute_result"
    }
   ],
   "source": [
    "8/4"
   ]
  },
  {
   "cell_type": "code",
   "execution_count": 8,
   "id": "e5ff9797-36c8-4b6e-982c-8bf8f148f7d0",
   "metadata": {},
   "outputs": [
    {
     "data": {
      "text/plain": [
       "16"
      ]
     },
     "execution_count": 8,
     "metadata": {},
     "output_type": "execute_result"
    }
   ],
   "source": [
    "4**2"
   ]
  },
  {
   "cell_type": "code",
   "execution_count": 9,
   "id": "3f2af08a-4440-478a-bf45-c22fa8eac105",
   "metadata": {},
   "outputs": [
    {
     "data": {
      "text/plain": [
       "25.0"
      ]
     },
     "execution_count": 9,
     "metadata": {},
     "output_type": "execute_result"
    }
   ],
   "source": [
    "625**(1/2)"
   ]
  },
  {
   "cell_type": "code",
   "execution_count": 10,
   "id": "865f277d-0db2-4134-83af-3b932b901b85",
   "metadata": {},
   "outputs": [],
   "source": [
    "name=\"kanika\""
   ]
  },
  {
   "cell_type": "code",
   "execution_count": 11,
   "id": "0ce107c8-0212-438e-949e-44a461f18ec4",
   "metadata": {},
   "outputs": [],
   "source": [
    "number=\"5000\""
   ]
  },
  {
   "cell_type": "code",
   "execution_count": 12,
   "id": "80eb927e-5630-4632-add9-1a62e122d51a",
   "metadata": {},
   "outputs": [
    {
     "data": {
      "text/plain": [
       "'kanika'"
      ]
     },
     "execution_count": 12,
     "metadata": {},
     "output_type": "execute_result"
    }
   ],
   "source": [
    "name"
   ]
  },
  {
   "cell_type": "code",
   "execution_count": 13,
   "id": "aee19141-2326-469c-a09d-0a0b4fed9fbb",
   "metadata": {},
   "outputs": [
    {
     "data": {
      "text/plain": [
       "'5000'"
      ]
     },
     "execution_count": 13,
     "metadata": {},
     "output_type": "execute_result"
    }
   ],
   "source": [
    "number"
   ]
  },
  {
   "cell_type": "code",
   "execution_count": 1,
   "id": "58af2851-1939-468c-a549-dc65c07df8fb",
   "metadata": {},
   "outputs": [],
   "source": [
    "a=5"
   ]
  },
  {
   "cell_type": "code",
   "execution_count": 2,
   "id": "9bf1ccad-1769-4c58-b2d3-9d3501fd4450",
   "metadata": {},
   "outputs": [],
   "source": [
    "b=7"
   ]
  },
  {
   "cell_type": "code",
   "execution_count": 3,
   "id": "5830194e-3b8c-40f3-9f92-4a8aa89c1b37",
   "metadata": {},
   "outputs": [
    {
     "data": {
      "text/plain": [
       "12"
      ]
     },
     "execution_count": 3,
     "metadata": {},
     "output_type": "execute_result"
    }
   ],
   "source": [
    "a+b"
   ]
  },
  {
   "cell_type": "code",
   "execution_count": 19,
   "id": "1d231628-3db5-4fdb-810f-16962a6a7506",
   "metadata": {},
   "outputs": [
    {
     "data": {
      "text/plain": [
       "0.7142857142857143"
      ]
     },
     "execution_count": 19,
     "metadata": {},
     "output_type": "execute_result"
    }
   ],
   "source": [
    "a/b"
   ]
  },
  {
   "cell_type": "code",
   "execution_count": 22,
   "id": "4342b363-0675-4ee7-9922-bb1bfd4fae54",
   "metadata": {},
   "outputs": [
    {
     "data": {
      "text/plain": [
       "5"
      ]
     },
     "execution_count": 22,
     "metadata": {},
     "output_type": "execute_result"
    }
   ],
   "source": [
    "3+2"
   ]
  },
  {
   "cell_type": "code",
   "execution_count": 29,
   "id": "34631b88-b22d-4275-bbe5-967a2a8209f4",
   "metadata": {},
   "outputs": [
    {
     "data": {
      "text/plain": [
       "int"
      ]
     },
     "execution_count": 29,
     "metadata": {},
     "output_type": "execute_result"
    }
   ],
   "source": [
    "type(a)"
   ]
  },
  {
   "cell_type": "code",
   "execution_count": 30,
   "id": "1ece59c6-4526-4b4b-8c43-35ce331082ca",
   "metadata": {},
   "outputs": [
    {
     "data": {
      "text/plain": [
       "str"
      ]
     },
     "execution_count": 30,
     "metadata": {},
     "output_type": "execute_result"
    }
   ],
   "source": [
    "type(name)"
   ]
  },
  {
   "cell_type": "code",
   "execution_count": 39,
   "id": "7c9a2587-ca45-4f8b-b12e-62706c17193e",
   "metadata": {},
   "outputs": [
    {
     "data": {
      "text/plain": [
       "0"
      ]
     },
     "execution_count": 39,
     "metadata": {},
     "output_type": "execute_result"
    }
   ],
   "source": [
    "100%5"
   ]
  },
  {
   "cell_type": "code",
   "execution_count": 1,
   "id": "0af9f9ad-1dc9-47ea-aff0-af7820bda1bc",
   "metadata": {},
   "outputs": [
    {
     "data": {
      "text/plain": [
       "20"
      ]
     },
     "execution_count": 1,
     "metadata": {},
     "output_type": "execute_result"
    }
   ],
   "source": [
    "100//5"
   ]
  },
  {
   "cell_type": "code",
   "execution_count": 2,
   "id": "ca97a7fd-897b-4f13-ba32-a3696317d56a",
   "metadata": {},
   "outputs": [
    {
     "data": {
      "text/plain": [
       "3"
      ]
     },
     "execution_count": 2,
     "metadata": {},
     "output_type": "execute_result"
    }
   ],
   "source": [
    "7//2"
   ]
  },
  {
   "cell_type": "code",
   "execution_count": 3,
   "id": "ffd2278e-304c-4dde-b096-e83285fcab53",
   "metadata": {},
   "outputs": [
    {
     "data": {
      "text/plain": [
       "2.0"
      ]
     },
     "execution_count": 3,
     "metadata": {},
     "output_type": "execute_result"
    }
   ],
   "source": [
    "10/5"
   ]
  },
  {
   "cell_type": "code",
   "execution_count": 4,
   "id": "9ae99224-500d-4092-9f85-81448e2ab77c",
   "metadata": {},
   "outputs": [
    {
     "data": {
      "text/plain": [
       "3.5"
      ]
     },
     "execution_count": 4,
     "metadata": {},
     "output_type": "execute_result"
    }
   ],
   "source": [
    "7/2"
   ]
  },
  {
   "cell_type": "code",
   "execution_count": 5,
   "id": "de2c646e-90ee-44b2-95f0-9469c6670101",
   "metadata": {},
   "outputs": [
    {
     "data": {
      "text/plain": [
       "True"
      ]
     },
     "execution_count": 5,
     "metadata": {},
     "output_type": "execute_result"
    }
   ],
   "source": [
    "10==10"
   ]
  },
  {
   "cell_type": "code",
   "execution_count": 6,
   "id": "1f3a0723-1755-4015-a314-8cd6f6b399e0",
   "metadata": {},
   "outputs": [
    {
     "data": {
      "text/plain": [
       "False"
      ]
     },
     "execution_count": 6,
     "metadata": {},
     "output_type": "execute_result"
    }
   ],
   "source": [
    "4<2"
   ]
  },
  {
   "cell_type": "code",
   "execution_count": 7,
   "id": "61d76a43-2bf4-4135-8b0f-78ab5b7106ed",
   "metadata": {},
   "outputs": [
    {
     "data": {
      "text/plain": [
       "True"
      ]
     },
     "execution_count": 7,
     "metadata": {},
     "output_type": "execute_result"
    }
   ],
   "source": [
    "8>5"
   ]
  },
  {
   "cell_type": "code",
   "execution_count": 8,
   "id": "bcb13fe1-35e4-4b42-95ec-53a7464a29ee",
   "metadata": {},
   "outputs": [
    {
     "data": {
      "text/plain": [
       "True"
      ]
     },
     "execution_count": 8,
     "metadata": {},
     "output_type": "execute_result"
    }
   ],
   "source": [
    "7!=2"
   ]
  },
  {
   "cell_type": "code",
   "execution_count": 9,
   "id": "deb020fa-545c-4ef5-b62f-7fd2c8c245e3",
   "metadata": {},
   "outputs": [
    {
     "data": {
      "text/plain": [
       "False"
      ]
     },
     "execution_count": 9,
     "metadata": {},
     "output_type": "execute_result"
    }
   ],
   "source": [
    "5!=5"
   ]
  },
  {
   "cell_type": "code",
   "execution_count": 10,
   "id": "b0e2f917-207c-45a7-9a96-e2c6ca12628e",
   "metadata": {},
   "outputs": [
    {
     "data": {
      "text/plain": [
       "True"
      ]
     },
     "execution_count": 10,
     "metadata": {},
     "output_type": "execute_result"
    }
   ],
   "source": [
    "7>=2"
   ]
  },
  {
   "cell_type": "code",
   "execution_count": 11,
   "id": "6954a5d0-f55a-4aa1-b521-3bee8fb3a92a",
   "metadata": {},
   "outputs": [
    {
     "data": {
      "text/plain": [
       "True"
      ]
     },
     "execution_count": 11,
     "metadata": {},
     "output_type": "execute_result"
    }
   ],
   "source": [
    "7>=7"
   ]
  },
  {
   "cell_type": "code",
   "execution_count": 12,
   "id": "8b5acfc2-ce39-41f5-9a30-60f6ceef964d",
   "metadata": {},
   "outputs": [
    {
     "data": {
      "text/plain": [
       "False"
      ]
     },
     "execution_count": 12,
     "metadata": {},
     "output_type": "execute_result"
    }
   ],
   "source": [
    "8>=9"
   ]
  },
  {
   "cell_type": "code",
   "execution_count": 13,
   "id": "173619f2-97de-473e-8c0f-b107187202bb",
   "metadata": {},
   "outputs": [
    {
     "data": {
      "text/plain": [
       "False"
      ]
     },
     "execution_count": 13,
     "metadata": {},
     "output_type": "execute_result"
    }
   ],
   "source": [
    "9<=7"
   ]
  },
  {
   "cell_type": "code",
   "execution_count": 15,
   "id": "ade6c4c4-a678-4950-8b58-e9c3b9540d60",
   "metadata": {},
   "outputs": [
    {
     "data": {
      "text/plain": [
       "True"
      ]
     },
     "execution_count": 15,
     "metadata": {},
     "output_type": "execute_result"
    }
   ],
   "source": [
    "(5>6)or(6>3)"
   ]
  },
  {
   "cell_type": "code",
   "execution_count": 16,
   "id": "9e0b1110-4b8c-4ed1-86d5-cf4e4be01f8a",
   "metadata": {},
   "outputs": [
    {
     "data": {
      "text/plain": [
       "False"
      ]
     },
     "execution_count": 16,
     "metadata": {},
     "output_type": "execute_result"
    }
   ],
   "source": [
    "(9>5)and(6>9)"
   ]
  },
  {
   "cell_type": "code",
   "execution_count": 17,
   "id": "58ad0d9b-a6a5-47a0-b213-a3fce1816228",
   "metadata": {},
   "outputs": [
    {
     "data": {
      "text/plain": [
       "True"
      ]
     },
     "execution_count": 17,
     "metadata": {},
     "output_type": "execute_result"
    }
   ],
   "source": [
    "(7>1)and(9>2)"
   ]
  },
  {
   "cell_type": "code",
   "execution_count": 1,
   "id": "afbfd485-6435-453f-8912-e2d37bc168e4",
   "metadata": {},
   "outputs": [],
   "source": [
    "x=5"
   ]
  },
  {
   "cell_type": "code",
   "execution_count": 2,
   "id": "25dd751d-cddb-46ca-a945-8c0901b59964",
   "metadata": {},
   "outputs": [
    {
     "data": {
      "text/plain": [
       "True"
      ]
     },
     "execution_count": 2,
     "metadata": {},
     "output_type": "execute_result"
    }
   ],
   "source": [
    "x>2"
   ]
  },
  {
   "cell_type": "code",
   "execution_count": 4,
   "id": "587094f8-c83f-4165-a400-8f2c44180b3c",
   "metadata": {},
   "outputs": [
    {
     "data": {
      "text/plain": [
       "False"
      ]
     },
     "execution_count": 4,
     "metadata": {},
     "output_type": "execute_result"
    }
   ],
   "source": [
    "not x"
   ]
  },
  {
   "cell_type": "code",
   "execution_count": 15,
   "id": "95a9ef8b-e0c9-4db0-be4f-1dadf3f13aea",
   "metadata": {},
   "outputs": [],
   "source": [
    "x=7"
   ]
  },
  {
   "cell_type": "code",
   "execution_count": 16,
   "id": "a37af93d-54ed-4eb0-a86f-5c04a516895c",
   "metadata": {},
   "outputs": [],
   "source": [
    "x+=2"
   ]
  },
  {
   "cell_type": "code",
   "execution_count": 17,
   "id": "4bb2d76a-389c-4edb-8615-b18f197c5276",
   "metadata": {},
   "outputs": [
    {
     "data": {
      "text/plain": [
       "9"
      ]
     },
     "execution_count": 17,
     "metadata": {},
     "output_type": "execute_result"
    }
   ],
   "source": [
    "x"
   ]
  },
  {
   "cell_type": "code",
   "execution_count": 7,
   "id": "6b702286-bdca-4d19-a98f-da1787bf3db7",
   "metadata": {},
   "outputs": [],
   "source": [
    "x-=6"
   ]
  },
  {
   "cell_type": "code",
   "execution_count": 8,
   "id": "68669cf6-155e-47cf-8e97-0b2e07839a68",
   "metadata": {},
   "outputs": [
    {
     "data": {
      "text/plain": [
       "3"
      ]
     },
     "execution_count": 8,
     "metadata": {},
     "output_type": "execute_result"
    }
   ],
   "source": [
    "x"
   ]
  },
  {
   "cell_type": "code",
   "execution_count": 9,
   "id": "ce57f4a2-be20-4c49-9a5d-8386bfa2f7d6",
   "metadata": {},
   "outputs": [],
   "source": [
    "y=6"
   ]
  },
  {
   "cell_type": "code",
   "execution_count": 19,
   "id": "1d6e09df-73f0-4e8e-a0fd-4fa54a23a296",
   "metadata": {},
   "outputs": [],
   "source": [
    "y*=2"
   ]
  },
  {
   "cell_type": "code",
   "execution_count": 20,
   "id": "d7eeed7c-7a53-4ae0-aead-912a58f45666",
   "metadata": {},
   "outputs": [
    {
     "data": {
      "text/plain": [
       "12"
      ]
     },
     "execution_count": 20,
     "metadata": {},
     "output_type": "execute_result"
    }
   ],
   "source": [
    "y"
   ]
  },
  {
   "cell_type": "code",
   "execution_count": 21,
   "id": "11d61199-17f8-4746-a457-2077f0563048",
   "metadata": {},
   "outputs": [],
   "source": [
    "y/=2"
   ]
  },
  {
   "cell_type": "code",
   "execution_count": 22,
   "id": "1f49f415-b3db-455f-aab1-bf0731560b24",
   "metadata": {},
   "outputs": [
    {
     "data": {
      "text/plain": [
       "6.0"
      ]
     },
     "execution_count": 22,
     "metadata": {},
     "output_type": "execute_result"
    }
   ],
   "source": [
    "y"
   ]
  },
  {
   "cell_type": "code",
   "execution_count": 23,
   "id": "b691dd7d-db76-4b65-bbfc-015cc685e2c2",
   "metadata": {},
   "outputs": [],
   "source": [
    "y%=6"
   ]
  },
  {
   "cell_type": "code",
   "execution_count": 24,
   "id": "3fb069f7-d962-4125-b875-1662d69e92cf",
   "metadata": {},
   "outputs": [
    {
     "data": {
      "text/plain": [
       "0.0"
      ]
     },
     "execution_count": 24,
     "metadata": {},
     "output_type": "execute_result"
    }
   ],
   "source": [
    "y"
   ]
  },
  {
   "cell_type": "code",
   "execution_count": 27,
   "id": "201bb9c4-9e9d-41c2-8566-654ac2021199",
   "metadata": {},
   "outputs": [],
   "source": [
    "z=2"
   ]
  },
  {
   "cell_type": "code",
   "execution_count": 28,
   "id": "68cc42ef-48d9-4ce2-97d2-3cc090f6a2c1",
   "metadata": {},
   "outputs": [],
   "source": [
    "z**=3"
   ]
  },
  {
   "cell_type": "code",
   "execution_count": 29,
   "id": "24330a14-f3e5-41c4-8e4c-03ccdf40c11f",
   "metadata": {},
   "outputs": [
    {
     "data": {
      "text/plain": [
       "8"
      ]
     },
     "execution_count": 29,
     "metadata": {},
     "output_type": "execute_result"
    }
   ],
   "source": [
    "z"
   ]
  },
  {
   "cell_type": "code",
   "execution_count": 30,
   "id": "c491f69a-926f-4177-bdc8-94de47890a1f",
   "metadata": {},
   "outputs": [],
   "source": [
    "z//=8"
   ]
  },
  {
   "cell_type": "code",
   "execution_count": 31,
   "id": "69d83f27-7252-4dc3-80b9-ce605af6a49b",
   "metadata": {},
   "outputs": [
    {
     "data": {
      "text/plain": [
       "1"
      ]
     },
     "execution_count": 31,
     "metadata": {},
     "output_type": "execute_result"
    }
   ],
   "source": [
    "z"
   ]
  },
  {
   "cell_type": "code",
   "execution_count": 32,
   "id": "b4c09622-2cef-41f2-8340-e9567e6f62fd",
   "metadata": {},
   "outputs": [
    {
     "data": {
      "text/plain": [
       "False"
      ]
     },
     "execution_count": 32,
     "metadata": {},
     "output_type": "execute_result"
    }
   ],
   "source": [
    "(2>3)&(5>2)"
   ]
  },
  {
   "cell_type": "code",
   "execution_count": 37,
   "id": "189e76c0-d540-4395-a43b-44d59e72fc3f",
   "metadata": {},
   "outputs": [
    {
     "data": {
      "text/plain": [
       "True"
      ]
     },
     "execution_count": 37,
     "metadata": {},
     "output_type": "execute_result"
    }
   ],
   "source": [
    "(4>8)|(9>7)"
   ]
  },
  {
   "cell_type": "code",
   "execution_count": 38,
   "id": "6753e514-16e3-4506-97f2-0a762937ad4f",
   "metadata": {},
   "outputs": [],
   "source": [
    "a=5"
   ]
  },
  {
   "cell_type": "code",
   "execution_count": 39,
   "id": "f4a270f8-928d-4e4f-b19a-a62dc0506bfc",
   "metadata": {},
   "outputs": [],
   "source": [
    "b=3"
   ]
  },
  {
   "cell_type": "code",
   "execution_count": 40,
   "id": "ade45305-19b5-4edf-9567-7348e50252fd",
   "metadata": {},
   "outputs": [
    {
     "data": {
      "text/plain": [
       "7"
      ]
     },
     "execution_count": 40,
     "metadata": {},
     "output_type": "execute_result"
    }
   ],
   "source": [
    "(a|b)"
   ]
  },
  {
   "cell_type": "code",
   "execution_count": 41,
   "id": "6c01401b-08d2-432a-86a3-386eb9006be9",
   "metadata": {},
   "outputs": [
    {
     "data": {
      "text/plain": [
       "1"
      ]
     },
     "execution_count": 41,
     "metadata": {},
     "output_type": "execute_result"
    }
   ],
   "source": [
    "(a&b)"
   ]
  },
  {
   "cell_type": "code",
   "execution_count": 42,
   "id": "c45f4e2d-1a5d-4784-b5f8-7043f17531b3",
   "metadata": {},
   "outputs": [],
   "source": [
    "a=4\n"
   ]
  },
  {
   "cell_type": "code",
   "execution_count": 43,
   "id": "587e9182-48fc-4344-9db9-a55d968bd4d8",
   "metadata": {},
   "outputs": [],
   "source": [
    "b=8"
   ]
  },
  {
   "cell_type": "code",
   "execution_count": 44,
   "id": "a4502264-06ed-419a-88ca-9e3c3562465a",
   "metadata": {},
   "outputs": [
    {
     "data": {
      "text/plain": [
       "0"
      ]
     },
     "execution_count": 44,
     "metadata": {},
     "output_type": "execute_result"
    }
   ],
   "source": [
    "(a&b)"
   ]
  },
  {
   "cell_type": "code",
   "execution_count": 45,
   "id": "5f246673-d63d-4b41-885c-f7e6ba172c51",
   "metadata": {},
   "outputs": [
    {
     "data": {
      "text/plain": [
       "12"
      ]
     },
     "execution_count": 45,
     "metadata": {},
     "output_type": "execute_result"
    }
   ],
   "source": [
    "(a|b)"
   ]
  },
  {
   "cell_type": "code",
   "execution_count": 47,
   "id": "49ecdd38-944b-4504-8a74-da6b99f67ecb",
   "metadata": {},
   "outputs": [],
   "source": [
    "a=7"
   ]
  },
  {
   "cell_type": "code",
   "execution_count": 48,
   "id": "1488066f-c62f-4350-9bc4-4f3c6396e72b",
   "metadata": {},
   "outputs": [],
   "source": [
    "b=6"
   ]
  },
  {
   "cell_type": "code",
   "execution_count": 49,
   "id": "5b806d86-4e84-4796-9cf5-b2d0e31ae05d",
   "metadata": {},
   "outputs": [
    {
     "data": {
      "text/plain": [
       "1"
      ]
     },
     "execution_count": 49,
     "metadata": {},
     "output_type": "execute_result"
    }
   ],
   "source": [
    "(a^b)"
   ]
  },
  {
   "cell_type": "code",
   "execution_count": 50,
   "id": "e2f17277-2dcd-4865-b769-a3ddc9dce438",
   "metadata": {},
   "outputs": [],
   "source": [
    "a=5"
   ]
  },
  {
   "cell_type": "code",
   "execution_count": 51,
   "id": "7e38f6d7-a15e-4f34-90b7-86983cdaf14a",
   "metadata": {},
   "outputs": [
    {
     "data": {
      "text/plain": [
       "-6"
      ]
     },
     "execution_count": 51,
     "metadata": {},
     "output_type": "execute_result"
    }
   ],
   "source": [
    "~a"
   ]
  },
  {
   "cell_type": "code",
   "execution_count": 52,
   "id": "866c201c-c461-4571-b33c-d7959b6ae008",
   "metadata": {},
   "outputs": [],
   "source": [
    "a=10"
   ]
  },
  {
   "cell_type": "code",
   "execution_count": 53,
   "id": "ef55d53b-3881-4b39-b479-b0ccca9d0f82",
   "metadata": {},
   "outputs": [
    {
     "data": {
      "text/plain": [
       "-11"
      ]
     },
     "execution_count": 53,
     "metadata": {},
     "output_type": "execute_result"
    }
   ],
   "source": [
    "~a"
   ]
  },
  {
   "cell_type": "code",
   "execution_count": 54,
   "id": "db8b7683-21a3-4158-8a0c-48aac28286d1",
   "metadata": {},
   "outputs": [],
   "source": [
    "a=2"
   ]
  },
  {
   "cell_type": "code",
   "execution_count": 55,
   "id": "a85ae2eb-7aa5-4ad7-a8f4-49b05a103889",
   "metadata": {},
   "outputs": [
    {
     "data": {
      "text/plain": [
       "-3"
      ]
     },
     "execution_count": 55,
     "metadata": {},
     "output_type": "execute_result"
    }
   ],
   "source": [
    "~a"
   ]
  },
  {
   "cell_type": "code",
   "execution_count": 56,
   "id": "6c9317d8-5544-46ba-9d90-44bef4f59b6e",
   "metadata": {},
   "outputs": [
    {
     "data": {
      "text/plain": [
       "4"
      ]
     },
     "execution_count": 56,
     "metadata": {},
     "output_type": "execute_result"
    }
   ],
   "source": [
    "a<<1"
   ]
  },
  {
   "cell_type": "code",
   "execution_count": 57,
   "id": "0104bd1a-7797-4f4f-b58c-60de053b53b7",
   "metadata": {},
   "outputs": [],
   "source": [
    "a=3"
   ]
  },
  {
   "cell_type": "code",
   "execution_count": 59,
   "id": "791ea422-b42d-41b4-b2ff-ca14eb55fc30",
   "metadata": {},
   "outputs": [
    {
     "data": {
      "text/plain": [
       "6"
      ]
     },
     "execution_count": 59,
     "metadata": {},
     "output_type": "execute_result"
    }
   ],
   "source": [
    "a<<1"
   ]
  },
  {
   "cell_type": "code",
   "execution_count": 60,
   "id": "56ac9b2d-9ad2-4d37-8dfd-64c112764bd4",
   "metadata": {},
   "outputs": [
    {
     "data": {
      "text/plain": [
       "'0b101'"
      ]
     },
     "execution_count": 60,
     "metadata": {},
     "output_type": "execute_result"
    }
   ],
   "source": [
    "(bin(5))"
   ]
  },
  {
   "cell_type": "code",
   "execution_count": 61,
   "id": "6ec3a437-1918-4cbd-8473-dfa3aeb08309",
   "metadata": {},
   "outputs": [
    {
     "data": {
      "text/plain": [
       "'0b11'"
      ]
     },
     "execution_count": 61,
     "metadata": {},
     "output_type": "execute_result"
    }
   ],
   "source": [
    "(bin(3))"
   ]
  },
  {
   "cell_type": "code",
   "execution_count": 62,
   "id": "07f765ba-850f-4489-9b2e-c2487bd4c471",
   "metadata": {},
   "outputs": [],
   "source": [
    "a=2"
   ]
  },
  {
   "cell_type": "code",
   "execution_count": 63,
   "id": "d4cc00f1-e164-4524-a97b-13ec9aea63a6",
   "metadata": {},
   "outputs": [
    {
     "data": {
      "text/plain": [
       "1"
      ]
     },
     "execution_count": 63,
     "metadata": {},
     "output_type": "execute_result"
    }
   ],
   "source": [
    "a>>1"
   ]
  },
  {
   "cell_type": "code",
   "execution_count": 64,
   "id": "3ca11d49-4bb9-483b-b6aa-8af7e11be154",
   "metadata": {},
   "outputs": [],
   "source": [
    "a=8"
   ]
  },
  {
   "cell_type": "code",
   "execution_count": 65,
   "id": "d48dd8de-5b05-4239-821c-c8f3393d7aab",
   "metadata": {},
   "outputs": [
    {
     "data": {
      "text/plain": [
       "4"
      ]
     },
     "execution_count": 65,
     "metadata": {},
     "output_type": "execute_result"
    }
   ],
   "source": [
    "a>>1"
   ]
  },
  {
   "cell_type": "code",
   "execution_count": 66,
   "id": "f322b222-1720-4a1d-971e-b1f101754df1",
   "metadata": {},
   "outputs": [],
   "source": [
    "a=20"
   ]
  },
  {
   "cell_type": "code",
   "execution_count": 67,
   "id": "1b18bfec-70ef-4d35-a1d2-537864b8f6a1",
   "metadata": {},
   "outputs": [
    {
     "data": {
      "text/plain": [
       "10"
      ]
     },
     "execution_count": 67,
     "metadata": {},
     "output_type": "execute_result"
    }
   ],
   "source": [
    "a>>1"
   ]
  },
  {
   "cell_type": "code",
   "execution_count": 68,
   "id": "e20df98e-791c-45cb-8311-f05422d9ce00",
   "metadata": {},
   "outputs": [],
   "source": [
    "a=5"
   ]
  },
  {
   "cell_type": "code",
   "execution_count": 69,
   "id": "96a8aab7-72b9-4bf3-a338-1e9caf273b38",
   "metadata": {},
   "outputs": [
    {
     "data": {
      "text/plain": [
       "2"
      ]
     },
     "execution_count": 69,
     "metadata": {},
     "output_type": "execute_result"
    }
   ],
   "source": [
    "a>>1"
   ]
  },
  {
   "cell_type": "code",
   "execution_count": 70,
   "id": "58d131ea-51ec-414b-83aa-ae1b36cfb702",
   "metadata": {},
   "outputs": [],
   "source": [
    "a=9"
   ]
  },
  {
   "cell_type": "code",
   "execution_count": 71,
   "id": "81d9d99d-a17f-418f-b0ee-e93d16604dbd",
   "metadata": {},
   "outputs": [
    {
     "data": {
      "text/plain": [
       "4"
      ]
     },
     "execution_count": 71,
     "metadata": {},
     "output_type": "execute_result"
    }
   ],
   "source": [
    "a>>1"
   ]
  },
  {
   "cell_type": "code",
   "execution_count": 72,
   "id": "d25669d6-b171-490e-9920-ff4be754e5ee",
   "metadata": {},
   "outputs": [],
   "source": [
    "a=55"
   ]
  },
  {
   "cell_type": "code",
   "execution_count": 73,
   "id": "8b35a059-c60e-4ab9-8955-4e401db937ad",
   "metadata": {},
   "outputs": [
    {
     "data": {
      "text/plain": [
       "110"
      ]
     },
     "execution_count": 73,
     "metadata": {},
     "output_type": "execute_result"
    }
   ],
   "source": [
    "a<<1"
   ]
  },
  {
   "cell_type": "code",
   "execution_count": 74,
   "id": "6943be20-3994-47d4-bb80-41bc504cd067",
   "metadata": {},
   "outputs": [],
   "source": [
    "a=625"
   ]
  },
  {
   "cell_type": "code",
   "execution_count": 75,
   "id": "36c12e9a-8dbe-42ba-99e2-4071a052aefa",
   "metadata": {},
   "outputs": [
    {
     "data": {
      "text/plain": [
       "312"
      ]
     },
     "execution_count": 75,
     "metadata": {},
     "output_type": "execute_result"
    }
   ],
   "source": [
    "a>>1"
   ]
  }
 ],
 "metadata": {
  "kernelspec": {
   "display_name": "Python [conda env:base] *",
   "language": "python",
   "name": "conda-base-py"
  },
  "language_info": {
   "codemirror_mode": {
    "name": "ipython",
    "version": 3
   },
   "file_extension": ".py",
   "mimetype": "text/x-python",
   "name": "python",
   "nbconvert_exporter": "python",
   "pygments_lexer": "ipython3",
   "version": "3.13.5"
  }
 },
 "nbformat": 4,
 "nbformat_minor": 5
}
