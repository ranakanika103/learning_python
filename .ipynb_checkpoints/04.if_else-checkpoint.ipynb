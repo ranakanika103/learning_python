{
 "cells": [
  {
   "cell_type": "markdown",
   "id": "3107eae1-5c8c-4779-878e-582fa2402477",
   "metadata": {},
   "source": [
    "# booleans"
   ]
  },
  {
   "cell_type": "code",
   "execution_count": 1,
   "id": "558d6416-254d-4aea-bfb7-07f5a30a4851",
   "metadata": {},
   "outputs": [
    {
     "data": {
      "text/plain": [
       "1"
      ]
     },
     "execution_count": 1,
     "metadata": {},
     "output_type": "execute_result"
    }
   ],
   "source": [
    "0 or 1"
   ]
  },
  {
   "cell_type": "code",
   "execution_count": 12,
   "id": "8b989f50-15cc-48ea-ae3b-cf57acefc540",
   "metadata": {},
   "outputs": [
    {
     "data": {
      "text/plain": [
       "1"
      ]
     },
     "execution_count": 12,
     "metadata": {},
     "output_type": "execute_result"
    }
   ],
   "source": [
    "#in boolean write first letter in capital\n",
    "int(True)"
   ]
  },
  {
   "cell_type": "code",
   "execution_count": 13,
   "id": "37ee53e7-7aa0-47ca-9f32-9f2b1c75be07",
   "metadata": {},
   "outputs": [
    {
     "data": {
      "text/plain": [
       "0"
      ]
     },
     "execution_count": 13,
     "metadata": {},
     "output_type": "execute_result"
    }
   ],
   "source": [
    "#only zero,none and blank text in  boolean is false rather all numbers are true\n",
    "int(False)"
   ]
  },
  {
   "cell_type": "code",
   "execution_count": 5,
   "id": "0fdcbfaa-b23d-4127-9162-27f171a5192f",
   "metadata": {},
   "outputs": [
    {
     "data": {
      "text/plain": [
       "True"
      ]
     },
     "execution_count": 5,
     "metadata": {},
     "output_type": "execute_result"
    }
   ],
   "source": [
    "bool(5)"
   ]
  },
  {
   "cell_type": "code",
   "execution_count": 6,
   "id": "49ef2007-96c1-4322-9ef3-e93e837768aa",
   "metadata": {},
   "outputs": [
    {
     "data": {
      "text/plain": [
       "True"
      ]
     },
     "execution_count": 6,
     "metadata": {},
     "output_type": "execute_result"
    }
   ],
   "source": [
    "bool(-7)"
   ]
  },
  {
   "cell_type": "code",
   "execution_count": 8,
   "id": "94bb6911-0db7-4fd0-9d16-ce3df6955ac2",
   "metadata": {},
   "outputs": [
    {
     "data": {
      "text/plain": [
       "True"
      ]
     },
     "execution_count": 8,
     "metadata": {},
     "output_type": "execute_result"
    }
   ],
   "source": [
    "bool(5/7)"
   ]
  },
  {
   "cell_type": "code",
   "execution_count": 9,
   "id": "efd3dd62-0124-46ba-b475-264a1cf7d69f",
   "metadata": {},
   "outputs": [
    {
     "data": {
      "text/plain": [
       "False"
      ]
     },
     "execution_count": 9,
     "metadata": {},
     "output_type": "execute_result"
    }
   ],
   "source": [
    "bool()"
   ]
  },
  {
   "cell_type": "code",
   "execution_count": 11,
   "id": "b9da2e8d-1ef6-4758-b21d-fbe5cdb0a237",
   "metadata": {},
   "outputs": [
    {
     "data": {
      "text/plain": [
       "False"
      ]
     },
     "execution_count": 11,
     "metadata": {},
     "output_type": "execute_result"
    }
   ],
   "source": [
    "bool(None)"
   ]
  },
  {
   "cell_type": "code",
   "execution_count": 17,
   "id": "eec15f45-336c-4737-a825-1b83ea814e06",
   "metadata": {},
   "outputs": [
    {
     "data": {
      "text/plain": [
       "False"
      ]
     },
     "execution_count": 17,
     "metadata": {},
     "output_type": "execute_result"
    }
   ],
   "source": [
    "#blank list also false\n",
    "bool([])"
   ]
  },
  {
   "cell_type": "code",
   "execution_count": 18,
   "id": "c3c91244-6dd0-4d5c-a7f7-f71d45136baf",
   "metadata": {},
   "outputs": [
    {
     "data": {
      "text/plain": [
       "False"
      ]
     },
     "execution_count": 18,
     "metadata": {},
     "output_type": "execute_result"
    }
   ],
   "source": [
    "#blank tuple also false\n",
    "bool(())"
   ]
  },
  {
   "cell_type": "code",
   "execution_count": 19,
   "id": "2c38ec62-f124-4553-adb8-7e5548bfe220",
   "metadata": {},
   "outputs": [
    {
     "data": {
      "text/plain": [
       "False"
      ]
     },
     "execution_count": 19,
     "metadata": {},
     "output_type": "execute_result"
    }
   ],
   "source": [
    "#blank dictonary also false\n",
    "bool({})"
   ]
  },
  {
   "cell_type": "code",
   "execution_count": 20,
   "id": "602fe650-4bac-401a-b503-0f7286abcbdb",
   "metadata": {
    "scrolled": true
   },
   "outputs": [
    {
     "data": {
      "text/plain": [
       "True"
      ]
     },
     "execution_count": 20,
     "metadata": {},
     "output_type": "execute_result"
    }
   ],
   "source": [
    "bool({7})"
   ]
  },
  {
   "cell_type": "markdown",
   "id": "da16c7ff-8b2a-4406-ae97-c38e1d06b32a",
   "metadata": {},
   "source": [
    "# comparison operators"
   ]
  },
  {
   "cell_type": "code",
   "execution_count": 39,
   "id": "120819ec-e66d-43cd-b1a9-c574003524aa",
   "metadata": {
    "scrolled": true
   },
   "outputs": [
    {
     "data": {
      "text/plain": [
       "False"
      ]
     },
     "execution_count": 39,
     "metadata": {},
     "output_type": "execute_result"
    }
   ],
   "source": [
    "5>10"
   ]
  },
  {
   "cell_type": "code",
   "execution_count": 40,
   "id": "4289c7e1-761d-4ade-84be-6c713c2a4133",
   "metadata": {},
   "outputs": [
    {
     "data": {
      "text/plain": [
       "True"
      ]
     },
     "execution_count": 40,
     "metadata": {},
     "output_type": "execute_result"
    }
   ],
   "source": [
    "10>5"
   ]
  },
  {
   "cell_type": "code",
   "execution_count": 51,
   "id": "ff1968e7-48d3-4fbf-9846-046eb1f84a41",
   "metadata": {},
   "outputs": [],
   "source": [
    "age=20"
   ]
  },
  {
   "cell_type": "code",
   "execution_count": 42,
   "id": "f3acc65c-0a2c-4708-8547-8db391388ed4",
   "metadata": {},
   "outputs": [
    {
     "data": {
      "text/plain": [
       "False"
      ]
     },
     "execution_count": 42,
     "metadata": {},
     "output_type": "execute_result"
    }
   ],
   "source": [
    "age==18"
   ]
  },
  {
   "cell_type": "code",
   "execution_count": 49,
   "id": "71c78a6b-31c2-43e9-87ce-6883b20fea9a",
   "metadata": {},
   "outputs": [
    {
     "ename": "SyntaxError",
     "evalue": "cannot assign to literal here. Maybe you meant '==' instead of '='? (980191137.py, line 2)",
     "output_type": "error",
     "traceback": [
      "\u001b[1;36m  Cell \u001b[1;32mIn[49], line 2\u001b[1;36m\u001b[0m\n\u001b[1;33m    5=5\u001b[0m\n\u001b[1;37m    ^\u001b[0m\n\u001b[1;31mSyntaxError\u001b[0m\u001b[1;31m:\u001b[0m cannot assign to literal here. Maybe you meant '==' instead of '='?\n"
     ]
    }
   ],
   "source": [
    "#error because you have to use two equal sign(=assign value,==equal to condition)\n",
    "5=5"
   ]
  },
  {
   "cell_type": "code",
   "execution_count": 46,
   "id": "cc89d68b-f617-400d-bac3-4bbe19d7163f",
   "metadata": {},
   "outputs": [
    {
     "data": {
      "text/plain": [
       "True"
      ]
     },
     "execution_count": 46,
     "metadata": {},
     "output_type": "execute_result"
    }
   ],
   "source": [
    "5==5"
   ]
  },
  {
   "cell_type": "code",
   "execution_count": 52,
   "id": "672aafac-64a7-4b9c-be5f-25f02d7e5641",
   "metadata": {},
   "outputs": [
    {
     "data": {
      "text/plain": [
       "True"
      ]
     },
     "execution_count": 52,
     "metadata": {},
     "output_type": "execute_result"
    }
   ],
   "source": [
    "age>=18"
   ]
  },
  {
   "cell_type": "code",
   "execution_count": 53,
   "id": "a6fc1357-5a2c-445d-bcf7-90acc8a2c80e",
   "metadata": {},
   "outputs": [
    {
     "data": {
      "text/plain": [
       "False"
      ]
     },
     "execution_count": 53,
     "metadata": {},
     "output_type": "execute_result"
    }
   ],
   "source": [
    "age<=18"
   ]
  },
  {
   "cell_type": "code",
   "execution_count": 54,
   "id": "aaaee270-5326-4408-80ed-7933fb8d12a0",
   "metadata": {},
   "outputs": [
    {
     "data": {
      "text/plain": [
       "True"
      ]
     },
     "execution_count": 54,
     "metadata": {},
     "output_type": "execute_result"
    }
   ],
   "source": [
    "#not eqal to\n",
    "age!=19"
   ]
  },
  {
   "cell_type": "code",
   "execution_count": 55,
   "id": "5a6e04e0-e1f9-41f8-867c-6d16baf174a2",
   "metadata": {},
   "outputs": [
    {
     "data": {
      "text/plain": [
       "False"
      ]
     },
     "execution_count": 55,
     "metadata": {},
     "output_type": "execute_result"
    }
   ],
   "source": [
    "age!=20"
   ]
  },
  {
   "cell_type": "code",
   "execution_count": 56,
   "id": "96ef0e1e-679a-49fc-95fd-391ae9639324",
   "metadata": {},
   "outputs": [
    {
     "data": {
      "text/plain": [
       "True"
      ]
     },
     "execution_count": 56,
     "metadata": {},
     "output_type": "execute_result"
    }
   ],
   "source": [
    "age>18"
   ]
  },
  {
   "cell_type": "code",
   "execution_count": null,
   "id": "e71184ec-5ad3-428b-8767-8b672eb63281",
   "metadata": {},
   "outputs": [],
   "source": []
  },
  {
   "cell_type": "markdown",
   "id": "f4589b6d-089b-41f7-8e86-db136b0dd857",
   "metadata": {},
   "source": [
    "# if elif else"
   ]
  },
  {
   "cell_type": "code",
   "execution_count": 34,
   "id": "dc14fce2-a22c-4737-96bb-ef5c89ec76da",
   "metadata": {},
   "outputs": [],
   "source": [
    "age=12"
   ]
  },
  {
   "cell_type": "code",
   "execution_count": 37,
   "id": "2b260985-6ea4-4e30-abd5-406128ae052d",
   "metadata": {},
   "outputs": [
    {
     "name": "stdout",
     "output_type": "stream",
     "text": [
      "bye\n"
     ]
    }
   ],
   "source": [
    "#indentation=four space before print\n",
    "if age>18:\n",
    "    print(\"welcome\")\n",
    "else:\n",
    "    print(\"bye\")"
   ]
  },
  {
   "cell_type": "code",
   "execution_count": 57,
   "id": "334bb896-420a-44dd-9592-b13c31b83229",
   "metadata": {},
   "outputs": [
    {
     "data": {
      "text/plain": [
       "True"
      ]
     },
     "execution_count": 57,
     "metadata": {},
     "output_type": "execute_result"
    }
   ],
   "source": [
    "age>18"
   ]
  },
  {
   "cell_type": "code",
   "execution_count": 58,
   "id": "b47160f2-bd44-40bb-ad22-fb0403c7ca6c",
   "metadata": {},
   "outputs": [
    {
     "name": "stdout",
     "output_type": "stream",
     "text": [
      "welcome\n"
     ]
    }
   ],
   "source": [
    "if age>18:\n",
    "    print('welcome')"
   ]
  },
  {
   "cell_type": "code",
   "execution_count": 59,
   "id": "d9bfeb95-73d3-4e30-a203-433a6b33997e",
   "metadata": {},
   "outputs": [
    {
     "name": "stdout",
     "output_type": "stream",
     "text": [
      "welcome\n"
     ]
    }
   ],
   "source": [
    "if True:\n",
    "    print('welcome')"
   ]
  },
  {
   "cell_type": "code",
   "execution_count": 63,
   "id": "e3f804b4-c9b9-45f7-8942-9706068b1b5f",
   "metadata": {},
   "outputs": [],
   "source": [
    "marks=35"
   ]
  },
  {
   "cell_type": "code",
   "execution_count": 64,
   "id": "a223ef6b-40b8-4f21-9f1b-be230b28e892",
   "metadata": {},
   "outputs": [
    {
     "name": "stdout",
     "output_type": "stream",
     "text": [
      "Fail\n"
     ]
    }
   ],
   "source": [
    "if marks>=90:\n",
    "    print(\"A\")\n",
    "elif marks>=75:\n",
    "    print(\"B\")\n",
    "elif marks>=60:\n",
    "    print(\"C\")\n",
    "elif marks>=40:\n",
    "    print(\"D\")\n",
    "else:\n",
    "    print(\"Fail\")"
   ]
  },
  {
   "cell_type": "code",
   "execution_count": 65,
   "id": "52c5901c-864f-415d-aa11-3dc135ada98e",
   "metadata": {},
   "outputs": [],
   "source": [
    "marks=64"
   ]
  },
  {
   "cell_type": "code",
   "execution_count": 66,
   "id": "4448cfcf-ea63-4fef-a593-b477ab2bdc2e",
   "metadata": {},
   "outputs": [
    {
     "name": "stdout",
     "output_type": "stream",
     "text": [
      "C\n"
     ]
    }
   ],
   "source": [
    "if marks>=90:\n",
    "    print(\"A\")\n",
    "elif marks>=75:\n",
    "    print(\"B\")\n",
    "elif marks>=60:\n",
    "    print(\"C\")\n",
    "elif marks>=40:\n",
    "    print(\"D\")\n",
    "else:\n",
    "    print(\"Fail\")"
   ]
  },
  {
   "cell_type": "code",
   "execution_count": 68,
   "id": "4dfbd94f-317d-4a24-9094-e35efdfd1750",
   "metadata": {},
   "outputs": [
    {
     "name": "stdout",
     "output_type": "stream",
     "text": [
      "Hello\n"
     ]
    }
   ],
   "source": [
    "if True:\n",
    "    print('Hello')\n",
    "elif False:\n",
    "    print ('hi')\n",
    "else:\n",
    "    print('bye')"
   ]
  },
  {
   "cell_type": "code",
   "execution_count": 71,
   "id": "58c70feb-06fb-4b95-8568-0f27843d58b9",
   "metadata": {},
   "outputs": [
    {
     "name": "stdout",
     "output_type": "stream",
     "text": [
      "bye\n"
     ]
    }
   ],
   "source": [
    "if False:\n",
    "    print('Hello')\n",
    "elif False:\n",
    "    print ('hi')\n",
    "else:\n",
    "    print('bye')"
   ]
  },
  {
   "cell_type": "code",
   "execution_count": 72,
   "id": "b877478a-2bb3-4a2b-8d2c-3f9af57ae553",
   "metadata": {},
   "outputs": [
    {
     "name": "stdout",
     "output_type": "stream",
     "text": [
      "hi\n"
     ]
    }
   ],
   "source": [
    "if False:\n",
    "    print('Hello')\n",
    "elif True:\n",
    "    print ('hi')\n",
    "else:\n",
    "    print('bye')"
   ]
  },
  {
   "cell_type": "code",
   "execution_count": 3,
   "id": "d5a1c144-50e8-48ba-9887-4f007b0612ef",
   "metadata": {},
   "outputs": [],
   "source": [
    "#que.1)positive number or negative"
   ]
  },
  {
   "cell_type": "code",
   "execution_count": 9,
   "id": "4414d2c4-92eb-4187-b45f-cc8e32be9317",
   "metadata": {},
   "outputs": [
    {
     "name": "stdout",
     "output_type": "stream",
     "text": [
      "zero\n"
     ]
    }
   ],
   "source": [
    "n=0\n",
    "if n> 0:\n",
    " print(\"positive\")\n",
    "elif n < 0:\n",
    "    print(\"negative\")\n",
    "else:\n",
    "    print(\"zero\")"
   ]
  },
  {
   "cell_type": "code",
   "execution_count": 10,
   "id": "e6a17d2e-76d4-49a7-abc6-b65bfc55859d",
   "metadata": {},
   "outputs": [
    {
     "name": "stdout",
     "output_type": "stream",
     "text": [
      "positive\n"
     ]
    }
   ],
   "source": [
    "n=5\n",
    "if n> 0:\n",
    " print(\"positive\")\n",
    "elif n < 0:\n",
    "    print(\"negative\")\n",
    "else:\n",
    "    print(\"zero\")"
   ]
  },
  {
   "cell_type": "code",
   "execution_count": 11,
   "id": "660b827c-0e85-40a4-a5a1-a590f35741b0",
   "metadata": {},
   "outputs": [
    {
     "name": "stdout",
     "output_type": "stream",
     "text": [
      "negative\n"
     ]
    }
   ],
   "source": [
    "n=-9\n",
    "if n> 0:\n",
    " print(\"positive\")\n",
    "elif n < 0:\n",
    "    print(\"negative\")\n",
    "else:\n",
    "    print(\"zero\")"
   ]
  },
  {
   "cell_type": "code",
   "execution_count": 20,
   "id": "e3df84ef-6967-4f64-950f-fdaa4d9aa223",
   "metadata": {},
   "outputs": [
    {
     "ename": "IndentationError",
     "evalue": "unindent does not match any outer indentation level (<string>, line 7)",
     "output_type": "error",
     "traceback": [
      "\u001b[1;36m  File \u001b[1;32m<string>:7\u001b[1;36m\u001b[0m\n\u001b[1;33m    print(\"hi\")\u001b[0m\n\u001b[1;37m               ^\u001b[0m\n\u001b[1;31mIndentationError\u001b[0m\u001b[1;31m:\u001b[0m unindent does not match any outer indentation level\n"
     ]
    }
   ],
   "source": [
    "#indent(4spaces or a tab) if indent not equal than it cause error there can be 1 space 2,3 or so on but spacing must be same in whole input\n",
    "n=10\n",
    "m=15\n",
    "\n",
    "if m>n:\n",
    "    print(\"hello\")\n",
    " print(\"hi\")"
   ]
  },
  {
   "cell_type": "code",
   "execution_count": 18,
   "id": "e0190c34-9beb-439f-9263-cdf31aafe8df",
   "metadata": {},
   "outputs": [
    {
     "name": "stdout",
     "output_type": "stream",
     "text": [
      "hello\n",
      "hi\n"
     ]
    }
   ],
   "source": [
    "n=10\n",
    "m=15\n",
    "\n",
    "if m>n:\n",
    "  print(\"hello\")\n",
    "  print(\"hi\")"
   ]
  },
  {
   "cell_type": "code",
   "execution_count": 22,
   "id": "bbab81ab-809f-44f6-a917-f165b0cf944b",
   "metadata": {},
   "outputs": [
    {
     "name": "stdout",
     "output_type": "stream",
     "text": [
      "hi\n"
     ]
    }
   ],
   "source": [
    "#jo cheej indent kai andr hai bas vo chalaigi, here m>n is not true therefore it don't work hi is out of indent therefore it gives output \n",
    "n=10\n",
    "m=5\n",
    "\n",
    "if m>n:\n",
    "  print(\"hello\")\n",
    "print(\"hi\")"
   ]
  },
  {
   "cell_type": "code",
   "execution_count": 23,
   "id": "a6c68bce-2a76-4bc8-a4d6-5e62639a712d",
   "metadata": {},
   "outputs": [
    {
     "name": "stdout",
     "output_type": "stream",
     "text": [
      "bye\n",
      "hi\n"
     ]
    }
   ],
   "source": [
    "n=10\n",
    "m=5\n",
    "\n",
    "if m>n:\n",
    "  print(\"hello\")\n",
    "else:\n",
    "    print(\"bye\")\n",
    "print(\"hi\")"
   ]
  },
  {
   "cell_type": "code",
   "execution_count": 25,
   "id": "ca24e756-0004-44e0-b9fb-7a283548d7a8",
   "metadata": {},
   "outputs": [
    {
     "ename": "SyntaxError",
     "evalue": "invalid syntax (3270537336.py, line 8)",
     "output_type": "error",
     "traceback": [
      "\u001b[1;36m  Cell \u001b[1;32mIn[25], line 8\u001b[1;36m\u001b[0m\n\u001b[1;33m    else:\u001b[0m\n\u001b[1;37m    ^\u001b[0m\n\u001b[1;31mSyntaxError\u001b[0m\u001b[1;31m:\u001b[0m invalid syntax\n"
     ]
    }
   ],
   "source": [
    "#if and else work together we can't add another print between them\n",
    "n=10\n",
    "m=5\n",
    "\n",
    "if m>n:\n",
    "  print(\"hello\")\n",
    "print(\"hi\")\n",
    "else:\n",
    "    print(\"bye\")\n"
   ]
  },
  {
   "cell_type": "code",
   "execution_count": 33,
   "id": "e9d3d5c1-618b-4c0c-866d-d5f7917ada66",
   "metadata": {},
   "outputs": [
    {
     "name": "stdout",
     "output_type": "stream",
     "text": [
      "hi\n"
     ]
    }
   ],
   "source": [
    "m=10\n",
    "n=20\n",
    "o=30\n",
    "\n",
    "if o> n:\n",
    "    print(\"hi\")\n",
    "elif o> m:\n",
    "    print(\"hello\")\n",
    "else:\n",
    "    print(\"bye\")"
   ]
  },
  {
   "cell_type": "code",
   "execution_count": 31,
   "id": "6c6775c4-5c0f-4aa4-8657-60478be9a7ec",
   "metadata": {},
   "outputs": [
    {
     "name": "stdout",
     "output_type": "stream",
     "text": [
      "hello\n"
     ]
    }
   ],
   "source": [
    "m=10\n",
    "n=20\n",
    "o=15\n",
    "\n",
    "if o> n:\n",
    "    print(\"hi\")\n",
    "elif o> m:\n",
    "    print(\"hello\")\n",
    "else:\n",
    "    print(\"bye\")"
   ]
  },
  {
   "cell_type": "code",
   "execution_count": 32,
   "id": "c837e754-5f94-4985-a0d4-691970d0c020",
   "metadata": {},
   "outputs": [
    {
     "name": "stdout",
     "output_type": "stream",
     "text": [
      "hi\n",
      "hello\n"
     ]
    }
   ],
   "source": [
    "#both if are independent\n",
    "m=10\n",
    "n=20\n",
    "o=30\n",
    "\n",
    "if o> n:\n",
    "    print(\"hi\")\n",
    "if o> m:\n",
    "    print(\"hello\")"
   ]
  },
  {
   "cell_type": "code",
   "execution_count": 34,
   "id": "aef93fdc-625f-4ead-899d-0bebdb90970e",
   "metadata": {},
   "outputs": [
    {
     "data": {
      "text/plain": [
       "0"
      ]
     },
     "execution_count": 34,
     "metadata": {},
     "output_type": "execute_result"
    }
   ],
   "source": [
    "28%7"
   ]
  },
  {
   "cell_type": "code",
   "execution_count": 8,
   "id": "a3253705-160c-4e84-ad19-eeeb30737676",
   "metadata": {},
   "outputs": [
    {
     "name": "stdout",
     "output_type": "stream",
     "text": [
      "division\n"
     ]
    }
   ],
   "source": [
    "if 22%7==1 :\n",
    "    print(\"division\")"
   ]
  },
  {
   "cell_type": "code",
   "execution_count": 36,
   "id": "178498d9-e8fb-40e8-ba94-a310f5828b1f",
   "metadata": {},
   "outputs": [
    {
     "name": "stdout",
     "output_type": "stream",
     "text": [
      "division\n"
     ]
    }
   ],
   "source": [
    "if 28%2 ==0:\n",
    "    print(\"division\")"
   ]
  },
  {
   "cell_type": "code",
   "execution_count": 37,
   "id": "f9260f79-996a-4b44-86d9-98f3f5d53d2a",
   "metadata": {},
   "outputs": [
    {
     "name": "stdout",
     "output_type": "stream",
     "text": [
      "even\n"
     ]
    }
   ],
   "source": [
    "if 28%7 ==0:\n",
    "    print(\"even\")"
   ]
  },
  {
   "cell_type": "code",
   "execution_count": 38,
   "id": "58c56c38-cf6f-4563-a53a-86153c69519e",
   "metadata": {},
   "outputs": [
    {
     "data": {
      "text/plain": [
       "True"
      ]
     },
     "execution_count": 38,
     "metadata": {},
     "output_type": "execute_result"
    }
   ],
   "source": [
    "22%2 == 0"
   ]
  },
  {
   "cell_type": "code",
   "execution_count": 40,
   "id": "90195bf0-384f-4afc-b57f-25e2407360e1",
   "metadata": {},
   "outputs": [
    {
     "name": "stdout",
     "output_type": "stream",
     "text": [
      "odd\n"
     ]
    }
   ],
   "source": [
    "n=15\n",
    "if n%2 ==0:\n",
    "    print(\"even\")\n",
    "else:\n",
    "    print(\"odd\")"
   ]
  },
  {
   "cell_type": "code",
   "execution_count": 41,
   "id": "40e13032-3326-47c5-afad-8cf1bc3f7a2c",
   "metadata": {},
   "outputs": [
    {
     "name": "stdin",
     "output_type": "stream",
     "text": [
      " 21\n"
     ]
    },
    {
     "name": "stdout",
     "output_type": "stream",
     "text": [
      "odd\n"
     ]
    }
   ],
   "source": [
    "n=int(input())\n",
    "if n%2 ==0:\n",
    "    print(\"even\")\n",
    "else:\n",
    "    print(\"odd\")"
   ]
  },
  {
   "cell_type": "code",
   "execution_count": 42,
   "id": "8c619ff4-150b-48c6-9ae2-9c6e97db7b79",
   "metadata": {},
   "outputs": [
    {
     "name": "stdin",
     "output_type": "stream",
     "text": [
      " 42\n"
     ]
    },
    {
     "name": "stdout",
     "output_type": "stream",
     "text": [
      "even\n"
     ]
    }
   ],
   "source": [
    "n=int(input())\n",
    "if n%2 ==0:\n",
    "    print(\"even\")\n",
    "else:\n",
    "    print(\"odd\")"
   ]
  },
  {
   "cell_type": "code",
   "execution_count": 43,
   "id": "58baca10-51ae-416f-9cfd-3f9bca3361c4",
   "metadata": {},
   "outputs": [
    {
     "name": "stdout",
     "output_type": "stream",
     "text": [
      "hello\n"
     ]
    }
   ],
   "source": [
    "if 0:\n",
    "    print('hi')\n",
    "if 5:\n",
    "    print(\"hello\")"
   ]
  },
  {
   "cell_type": "code",
   "execution_count": 44,
   "id": "e0af55f8-bf36-404f-be08-89fce0d7c447",
   "metadata": {},
   "outputs": [
    {
     "data": {
      "text/plain": [
       "42"
      ]
     },
     "execution_count": 44,
     "metadata": {},
     "output_type": "execute_result"
    }
   ],
   "source": [
    "n"
   ]
  },
  {
   "cell_type": "code",
   "execution_count": 45,
   "id": "77056c92-44fd-4622-8346-bcb8bf267a2e",
   "metadata": {},
   "outputs": [
    {
     "name": "stdout",
     "output_type": "stream",
     "text": [
      "even\n"
     ]
    }
   ],
   "source": [
    "if n%2:\n",
    "    print(\"odd\")\n",
    "else:\n",
    "    print(\"even\")\n",
    "    "
   ]
  },
  {
   "cell_type": "code",
   "execution_count": 46,
   "id": "a49e6d14-2faf-42b0-933b-4ad1ee7b0ce4",
   "metadata": {},
   "outputs": [],
   "source": [
    "n=31"
   ]
  },
  {
   "cell_type": "code",
   "execution_count": 47,
   "id": "51daf840-b0b1-494a-9265-e31c25f6b43c",
   "metadata": {},
   "outputs": [
    {
     "data": {
      "text/plain": [
       "31"
      ]
     },
     "execution_count": 47,
     "metadata": {},
     "output_type": "execute_result"
    }
   ],
   "source": [
    "n"
   ]
  },
  {
   "cell_type": "code",
   "execution_count": 48,
   "id": "d8445d2b-3b42-40c9-9906-e653ab3142d4",
   "metadata": {},
   "outputs": [
    {
     "name": "stdout",
     "output_type": "stream",
     "text": [
      "odd\n"
     ]
    }
   ],
   "source": [
    "if n%2:\n",
    "    print(\"odd\")\n",
    "else:\n",
    "    print(\"even\")\n",
    "    "
   ]
  },
  {
   "cell_type": "code",
   "execution_count": 53,
   "id": "fa331101-7ca8-4e1c-b8e2-943e191cd31f",
   "metadata": {},
   "outputs": [],
   "source": [
    "n=19\n",
    "m=20\n",
    "o=21"
   ]
  },
  {
   "cell_type": "code",
   "execution_count": 54,
   "id": "1560818b-6aef-4e50-a2f2-275bc805851e",
   "metadata": {},
   "outputs": [
    {
     "data": {
      "text/plain": [
       "1"
      ]
     },
     "execution_count": 54,
     "metadata": {},
     "output_type": "execute_result"
    }
   ],
   "source": [
    "n%3"
   ]
  },
  {
   "cell_type": "code",
   "execution_count": 55,
   "id": "b1b1dec5-8f73-4a7f-9904-beb2100e341c",
   "metadata": {},
   "outputs": [
    {
     "data": {
      "text/plain": [
       "2"
      ]
     },
     "execution_count": 55,
     "metadata": {},
     "output_type": "execute_result"
    }
   ],
   "source": [
    "m%3"
   ]
  },
  {
   "cell_type": "code",
   "execution_count": 56,
   "id": "28ed59f6-4bb4-44f3-b294-d2c35daf7b65",
   "metadata": {},
   "outputs": [
    {
     "data": {
      "text/plain": [
       "0"
      ]
     },
     "execution_count": 56,
     "metadata": {},
     "output_type": "execute_result"
    }
   ],
   "source": [
    "o%3"
   ]
  },
  {
   "cell_type": "code",
   "execution_count": 57,
   "id": "faa81452-ea43-4cdf-9a66-c4eb1766abb2",
   "metadata": {},
   "outputs": [
    {
     "name": "stdout",
     "output_type": "stream",
     "text": [
      "not divisible\n"
     ]
    }
   ],
   "source": [
    "if n%3:\n",
    "    print(\"not divisible\")"
   ]
  },
  {
   "cell_type": "code",
   "execution_count": 62,
   "id": "bbd4c2b2-5b84-455e-ac99-202232660a0f",
   "metadata": {},
   "outputs": [
    {
     "name": "stdout",
     "output_type": "stream",
     "text": [
      "not divisible\n"
     ]
    }
   ],
   "source": [
    "if m%3:#output will be not zero therefore not divisble and true in bool expect zero all are true numbers\n",
    "    print(\"not divisible\")"
   ]
  },
  {
   "cell_type": "code",
   "execution_count": 60,
   "id": "25d63465-1e95-41c8-9faf-dae99fcd40e8",
   "metadata": {},
   "outputs": [
    {
     "name": "stdout",
     "output_type": "stream",
     "text": [
      "divisible\n"
     ]
    }
   ],
   "source": [
    "if o%3: #output will be zero therefore divisble and false in bool expect zero all are true numbers\n",
    "    print(\"not divisible\")\n",
    "else:\n",
    "    print('divisible')"
   ]
  },
  {
   "cell_type": "code",
   "execution_count": 63,
   "id": "ac4d3bae-478c-495b-b0c6-a600e250f2e3",
   "metadata": {},
   "outputs": [
    {
     "name": "stdout",
     "output_type": "stream",
     "text": [
      "not divisible by 2\n"
     ]
    }
   ],
   "source": [
    "if n%2 ==0:\n",
    "    print(\"divisible by 2\")\n",
    "else:\n",
    "    print(\"not divisible by 2\")"
   ]
  },
  {
   "cell_type": "markdown",
   "id": "a713fdd7-7d10-43eb-8f61-36eeb4cd509d",
   "metadata": {},
   "source": [
    "# Nested"
   ]
  },
  {
   "cell_type": "code",
   "execution_count": 11,
   "id": "9ccea268-b577-4b40-a955-245e1e2c0e2c",
   "metadata": {},
   "outputs": [],
   "source": [
    "n=19"
   ]
  },
  {
   "cell_type": "code",
   "execution_count": 14,
   "id": "f007bedf-e17f-4663-983f-b583ccda32e4",
   "metadata": {},
   "outputs": [
    {
     "name": "stdout",
     "output_type": "stream",
     "text": [
      "divisible by 3 not by 2\n"
     ]
    }
   ],
   "source": [
    "#nested=one inside another\n",
    "#2,3,4\n",
    "if n%2 == 0:\n",
    "    # divisible by 2\n",
    "   if n%3 == 0:\n",
    "    # divisible by 3\n",
    "    print(\"divisible by 2 and 3\")\n",
    "   else:\n",
    "    print(\"divisible by 2 not 3\")\n",
    "else:\n",
    "    print(\"divisible by 3 not by 2\")"
   ]
  },
  {
   "cell_type": "code",
   "execution_count": 90,
   "id": "2ee842d0-710c-4643-8fca-3688ec785222",
   "metadata": {},
   "outputs": [
    {
     "data": {
      "text/plain": [
       "21"
      ]
     },
     "execution_count": 90,
     "metadata": {},
     "output_type": "execute_result"
    }
   ],
   "source": [
    "n"
   ]
  },
  {
   "cell_type": "code",
   "execution_count": 74,
   "id": "52376906-46da-423e-a5d2-78878886fadb",
   "metadata": {},
   "outputs": [],
   "source": [
    "n=20"
   ]
  },
  {
   "cell_type": "code",
   "execution_count": 76,
   "id": "af4e180f-ed66-4c74-870c-fda3807a7bdf",
   "metadata": {},
   "outputs": [
    {
     "name": "stdout",
     "output_type": "stream",
     "text": [
      "divisible by 2\n"
     ]
    }
   ],
   "source": [
    "if n%2 == 0:\n",
    "    # divisible by 2\n",
    "   if n%3 == 0:\n",
    "    # divisible by 3\n",
    "    print(\"divisible by 2 and 3\")\n",
    "   else:\n",
    "    print(\"divisible by 2\")\n",
    "else:\n",
    "    print(\"not divisible by 2\")"
   ]
  },
  {
   "cell_type": "code",
   "execution_count": 77,
   "id": "949a88a7-9568-46a9-8c74-97a0355c3c21",
   "metadata": {},
   "outputs": [],
   "source": [
    "n=12"
   ]
  },
  {
   "cell_type": "code",
   "execution_count": 78,
   "id": "5e3a4b89-bb17-4080-ab10-ba68bfd19b8f",
   "metadata": {},
   "outputs": [
    {
     "name": "stdout",
     "output_type": "stream",
     "text": [
      "divisible by 2 and 3\n"
     ]
    }
   ],
   "source": [
    "if n%2 == 0:\n",
    "    # divisible by 2\n",
    "   if n%3 == 0:\n",
    "    # divisible by 3\n",
    "    print(\"divisible by 2 and 3\")\n",
    "   else:\n",
    "    print(\"divisible by 2\")\n",
    "else:\n",
    "    print(\"not divisible by 2\")"
   ]
  },
  {
   "cell_type": "code",
   "execution_count": 80,
   "id": "593b1a87-8bfd-4f61-acc5-6a83ef16e243",
   "metadata": {},
   "outputs": [
    {
     "name": "stdout",
     "output_type": "stream",
     "text": [
      "divisible by 2 and 3\n"
     ]
    }
   ],
   "source": [
    "if n%2 == 0:\n",
    "    # divisible by 2\n",
    "   if n%3 == 0:\n",
    "    # divisible by 3\n",
    "    print(\"divisible by 2 and 3\")\n",
    "   else:\n",
    "     print(\"divisible by 2 not 3\")\n",
    "elif n%3 ==0:\n",
    "    print('divisible by 3 but not 2')\n",
    "else:\n",
    "    print(\"not divisible by 2 and3\")"
   ]
  },
  {
   "cell_type": "code",
   "execution_count": 81,
   "id": "d0bbceb5-41cf-45d8-9159-488ef4e0b7ea",
   "metadata": {},
   "outputs": [],
   "source": [
    "n=19"
   ]
  },
  {
   "cell_type": "code",
   "execution_count": 82,
   "id": "c55d6a53-146a-4899-98bc-598a31107de2",
   "metadata": {},
   "outputs": [
    {
     "name": "stdout",
     "output_type": "stream",
     "text": [
      "not divisible by 2 and3\n"
     ]
    }
   ],
   "source": [
    "if n%2 == 0:\n",
    "    # divisible by 2\n",
    "   if n%3 == 0:\n",
    "    # divisible by 3\n",
    "    print(\"divisible by 2 and 3\")\n",
    "   else:\n",
    "     print(\"divisible by 2 not 3\")\n",
    "elif n%3 ==0:\n",
    "    print('divisible by 3 but not 2')\n",
    "else:\n",
    "    print(\"not divisible by 2 and3\")"
   ]
  },
  {
   "cell_type": "code",
   "execution_count": 83,
   "id": "2a2a19ab-6db8-4cec-9881-a6c1790e8ab6",
   "metadata": {},
   "outputs": [],
   "source": [
    "n=22"
   ]
  },
  {
   "cell_type": "code",
   "execution_count": 84,
   "id": "dde13532-9847-4201-98c9-2f37187a8287",
   "metadata": {},
   "outputs": [
    {
     "name": "stdout",
     "output_type": "stream",
     "text": [
      "divisible by 2 not 3\n"
     ]
    }
   ],
   "source": [
    "if n%2 == 0:\n",
    "    # divisible by 2\n",
    "   if n%3 == 0:\n",
    "    # divisible by 3\n",
    "    print(\"divisible by 2 and 3\")\n",
    "   else:\n",
    "     print(\"divisible by 2 not 3\")\n",
    "elif n%3 ==0:\n",
    "    print('divisible by 3 but not 2')\n",
    "else:\n",
    "    print(\"not divisible by 2 and3\")"
   ]
  },
  {
   "cell_type": "code",
   "execution_count": 85,
   "id": "c09e4a00-fdcd-45ca-910a-d2f8fc3702d6",
   "metadata": {},
   "outputs": [],
   "source": [
    "n=21"
   ]
  },
  {
   "cell_type": "code",
   "execution_count": 91,
   "id": "a65da29f-d66a-4924-8004-2815059d4539",
   "metadata": {},
   "outputs": [
    {
     "name": "stdout",
     "output_type": "stream",
     "text": [
      "divisible by 3 but not 2\n"
     ]
    }
   ],
   "source": [
    "if n%2 == 0:\n",
    "   if n%3 == 0: #4 spaces\n",
    "    print(\"divisible by 2 and 3\") #8 spaces\n",
    "   else: #4 spaces (this else is indent of 3 therefore have 4 spaces)\n",
    "     print(\"divisible by 2 not 3\") #8 spaces after 8 then 12 then 16 etc.\n",
    "elif n%3 ==0:\n",
    "    print('divisible by 3 but not 2')\n",
    "else:\n",
    "    print(\"not divisible by 2 and3\")"
   ]
  },
  {
   "cell_type": "code",
   "execution_count": 92,
   "id": "e9ab36e7-bdb0-4700-a7bd-1de90f7ec730",
   "metadata": {},
   "outputs": [],
   "source": [
    "#combination of 2,3,5\n",
    "n=4"
   ]
  },
  {
   "cell_type": "code",
   "execution_count": 93,
   "id": "2f66ed45-c0b1-4dab-826e-62989b599c93",
   "metadata": {},
   "outputs": [
    {
     "name": "stdout",
     "output_type": "stream",
     "text": [
      "divisible by 2\n"
     ]
    }
   ],
   "source": [
    "if n%2 == 0:\n",
    "    print(\"divisible by 2\")\n",
    "else:\n",
    "    print('not divisible by 2')"
   ]
  },
  {
   "cell_type": "code",
   "execution_count": 15,
   "id": "cf2b970a-d5ec-4cd0-860c-51785b492c17",
   "metadata": {},
   "outputs": [],
   "source": [
    "n=7"
   ]
  },
  {
   "cell_type": "code",
   "execution_count": 17,
   "id": "ba5a230f-434a-4789-84b5-97731772feec",
   "metadata": {},
   "outputs": [
    {
     "name": "stdout",
     "output_type": "stream",
     "text": [
      "not divisible by 2 and 3\n"
     ]
    }
   ],
   "source": [
    "if n%2 == 0:\n",
    "    if n%3 == 0:\n",
    "        print(\"divisible by 2 and 3\")\n",
    "    else:\n",
    "        print(\"divisible by 2 but not 3\")\n",
    "elif n% 3==0:\n",
    "    print(\"divisible by 3 but not 2\")\n",
    "else:\n",
    "    print('not divisible by 2 and 3')"
   ]
  },
  {
   "cell_type": "code",
   "execution_count": 30,
   "id": "d7ccde22-4270-4321-a3c0-2803a9c75e39",
   "metadata": {},
   "outputs": [],
   "source": [
    "n=30"
   ]
  },
  {
   "cell_type": "code",
   "execution_count": 31,
   "id": "dbb3d741-ade8-4ce2-b4bf-523fbf9313a9",
   "metadata": {},
   "outputs": [
    {
     "name": "stdout",
     "output_type": "stream",
     "text": [
      "divisible by 2,3,5\n"
     ]
    }
   ],
   "source": [
    "if n%2 == 0:\n",
    "    if n%3 == 0:\n",
    "        if n%5 == 0:\n",
    "            print(\"divisible by 2,3,5\")\n",
    "        else:\n",
    "            print(\"divisible by 2,3 but not 5\")\n",
    "    elif n% 5==0:    \n",
    "        print(\"divisible by 2 and 5 not 3\")\n",
    "    else:\n",
    "        print('divisible by 2 not 3 and 5')\n",
    "elif n%3 == 0:\n",
    "    if n% 5 == 0:\n",
    "        print('divisible by 3 and 5')\n",
    "    else:\n",
    "        print('divisible by 3')\n",
    "elif n%5 ==0:\n",
    "    print(\"divisible by 5\")\n",
    "else:\n",
    "    print(\"not divisible by any number\")"
   ]
  },
  {
   "cell_type": "code",
   "execution_count": 32,
   "id": "b94abd66-1899-46c0-abe7-defa8fd8aa87",
   "metadata": {},
   "outputs": [],
   "source": [
    "n=15"
   ]
  },
  {
   "cell_type": "code",
   "execution_count": 29,
   "id": "ad4311df-7e92-4eba-890a-9172089a1500",
   "metadata": {},
   "outputs": [
    {
     "name": "stdout",
     "output_type": "stream",
     "text": [
      "divisible by 3 and 5\n"
     ]
    }
   ],
   "source": [
    "if n%2 == 0:\n",
    "    if n%3 == 0:\n",
    "        if n%5 == 0:\n",
    "            print(\"divisible by 2,3,5\")\n",
    "        else:\n",
    "            print(\"divisible by 2,3 but not 5\")\n",
    "    elif n% 5==0: \n",
    "        print(\"divisible by 2 and 5 not 3\")\n",
    "    else:\n",
    "        print('divisible by 2 not 3 and 5')\n",
    "elif n%3 == 0:\n",
    "    if n% 5 == 0:\n",
    "        print('divisible by 3 and 5')\n",
    "    else:\n",
    "        print('divisible by 3')\n",
    "elif n%5 ==0:\n",
    "    print(\"divisible by 5\")\n",
    "else:\n",
    "    print(\"not divisible by any number\")"
   ]
  },
  {
   "cell_type": "code",
   "execution_count": 33,
   "id": "201ae8bc-dac0-40f2-a822-c8a52489f4c4",
   "metadata": {},
   "outputs": [],
   "source": [
    "n=42"
   ]
  },
  {
   "cell_type": "code",
   "execution_count": 34,
   "id": "aa0ffe31-ba5e-4a3e-ad9a-6ffb0c6bbb4e",
   "metadata": {},
   "outputs": [
    {
     "name": "stdout",
     "output_type": "stream",
     "text": [
      "divisible by 2and 3 not 5\n"
     ]
    }
   ],
   "source": [
    "if n%2 == 0:\n",
    "    if n%3 == 0:\n",
    "        if n%5 == 0:\n",
    "            print(\"divisible by 2,3,5\")\n",
    "        else:\n",
    "            print(\"divisible by 2and 3 not 5\")\n",
    "    elif n% 5 ==0:\n",
    "        print(\"divisible by 2 and 5 not 3\")\n",
    "    else:\n",
    "        print(\"divisible by 2 not by 3 and 5\")\n",
    "elif n%3 == 0:\n",
    "    if n% 5 == 0:\n",
    "        print('divisible by 3 and 5')\n",
    "    else:\n",
    "        print('divisible by 3')\n",
    "elif n%5 ==0:\n",
    "    print(\"divisible by 5\")\n",
    "else:\n",
    "    print(\"not divisible by any number\")"
   ]
  },
  {
   "cell_type": "code",
   "execution_count": 118,
   "id": "4a304089-f49b-4b81-a621-7d7a7540bd85",
   "metadata": {},
   "outputs": [],
   "source": [
    "age=40\n",
    "city=\"delhi\""
   ]
  },
  {
   "cell_type": "code",
   "execution_count": 111,
   "id": "b69c8270-731d-4b89-b123-d8c0cdb37f97",
   "metadata": {},
   "outputs": [
    {
     "name": "stdout",
     "output_type": "stream",
     "text": [
      "welcome to delhi\n"
     ]
    }
   ],
   "source": [
    "if city ==\"delhi\":\n",
    "    print(\"welcome to delhi\")"
   ]
  },
  {
   "cell_type": "code",
   "execution_count": 112,
   "id": "7149b526-ba59-400f-9ac0-b69223fc1c6e",
   "metadata": {},
   "outputs": [],
   "source": [
    "city=\"chd\""
   ]
  },
  {
   "cell_type": "code",
   "execution_count": 113,
   "id": "73da0cd1-e0ea-44d6-86f6-298b7233076e",
   "metadata": {},
   "outputs": [
    {
     "name": "stdout",
     "output_type": "stream",
     "text": [
      "welcome to chd\n"
     ]
    }
   ],
   "source": [
    "if city ==\"delhi\":\n",
    "    print(\"welcome to delhi\")\n",
    "elif city ==\"chd\":\n",
    "    print(\"welcome to chd\")"
   ]
  },
  {
   "cell_type": "code",
   "execution_count": 114,
   "id": "e27995d8-b707-4992-bd93-d48c045cd0f5",
   "metadata": {},
   "outputs": [],
   "source": [
    "city=\"agra\""
   ]
  },
  {
   "cell_type": "code",
   "execution_count": 116,
   "id": "27452001-ec76-4255-846b-4eb764faafb2",
   "metadata": {},
   "outputs": [
    {
     "name": "stdout",
     "output_type": "stream",
     "text": [
      "where are you?\n"
     ]
    }
   ],
   "source": [
    "if city ==\"delhi\":\n",
    "    print(\"welcome to delhi\")\n",
    "elif city ==\"chd\":\n",
    "    print(\"welcome to chd\")\n",
    "else:\n",
    "    print(\"where are you?\")"
   ]
  },
  {
   "cell_type": "code",
   "execution_count": 119,
   "id": "95510857-d596-4e73-befc-27df10944ba9",
   "metadata": {},
   "outputs": [
    {
     "name": "stdout",
     "output_type": "stream",
     "text": [
      "meet me outside\n"
     ]
    }
   ],
   "source": [
    "if city ==\"delhi\":\n",
    "    if age<30:\n",
    "        print(\"welcome to delhi young man\")\n",
    "    else:\n",
    "        print(\"meet me outside\")\n",
    "elif city ==\"chd\":\n",
    "    print(\"welcome to chd\")\n",
    "else:\n",
    "    print(\"where are you?\")"
   ]
  },
  {
   "cell_type": "code",
   "execution_count": 1,
   "id": "bdc3a935-a0a3-468c-b9eb-bbe96513cc4f",
   "metadata": {},
   "outputs": [],
   "source": [
    "age=40\n",
    "city=\"chd\""
   ]
  },
  {
   "cell_type": "code",
   "execution_count": 2,
   "id": "9e568f05-5b9d-46f1-8929-e48968131ed2",
   "metadata": {},
   "outputs": [
    {
     "name": "stdout",
     "output_type": "stream",
     "text": [
      "welcome to chd retirement\n"
     ]
    }
   ],
   "source": [
    "if city ==\"delhi\":\n",
    "    if age<30:\n",
    "        print(\"welcome to delhi young man\")\n",
    "    else:\n",
    "        print(\"meet me outside\")\n",
    "elif city ==\"chd\":\n",
    "    if age >50:\n",
    "        print(\"welcome to chd\")\n",
    "    else:\n",
    "        print(\"welcome to chd retirement\")\n",
    "else:\n",
    "    print(\"where are you?\")"
   ]
  },
  {
   "cell_type": "markdown",
   "id": "b09a4d66-18fe-46a7-acba-b52457024337",
   "metadata": {},
   "source": [
    "# logical operations"
   ]
  },
  {
   "cell_type": "markdown",
   "id": "7d949897-9181-4b3d-942b-f595a8b211ba",
   "metadata": {},
   "source": [
    "## NOT"
   ]
  },
  {
   "cell_type": "code",
   "execution_count": 1,
   "id": "3e98e456-8c9b-4721-b734-f7bb0c7a73cf",
   "metadata": {},
   "outputs": [
    {
     "data": {
      "text/plain": [
       "False"
      ]
     },
     "execution_count": 1,
     "metadata": {},
     "output_type": "execute_result"
    }
   ],
   "source": [
    "not True"
   ]
  },
  {
   "cell_type": "code",
   "execution_count": 2,
   "id": "c2878cd8-9915-417d-bf47-efcc1be824c4",
   "metadata": {},
   "outputs": [
    {
     "name": "stdout",
     "output_type": "stream",
     "text": [
      "hello\n"
     ]
    }
   ],
   "source": [
    "if True:\n",
    "    print(\"hello\")"
   ]
  },
  {
   "cell_type": "code",
   "execution_count": 3,
   "id": "9c3103b9-e041-4f08-a178-39b847ecb204",
   "metadata": {},
   "outputs": [],
   "source": [
    "#not true=false (therefore no output)\n",
    "if not True:\n",
    "    print(\"hello\")"
   ]
  },
  {
   "cell_type": "code",
   "execution_count": 4,
   "id": "7b9cc484-cd23-4391-8585-805cf4440ccd",
   "metadata": {},
   "outputs": [
    {
     "name": "stdout",
     "output_type": "stream",
     "text": [
      "hello\n"
     ]
    }
   ],
   "source": [
    "if not False:\n",
    "    print(\"hello\")"
   ]
  },
  {
   "cell_type": "code",
   "execution_count": 5,
   "id": "bb9f7e14-f9b9-44f6-b950-067f135fb27c",
   "metadata": {},
   "outputs": [
    {
     "name": "stdout",
     "output_type": "stream",
     "text": [
      "hi kanika\n"
     ]
    }
   ],
   "source": [
    "name=\"kanika\"\n",
    "if name:\n",
    "    print(\"hi\",name)\n",
    "    "
   ]
  },
  {
   "cell_type": "code",
   "execution_count": 6,
   "id": "6c78c14f-65ce-41e7-8644-9142c953964b",
   "metadata": {},
   "outputs": [],
   "source": [
    "#blank \"\" therefore no output\n",
    "name=\"\"\n",
    "if name:\n",
    "    print(\"hi\",name)\n",
    "    "
   ]
  },
  {
   "cell_type": "code",
   "execution_count": 9,
   "id": "24aa1113-952f-4dec-a303-e446c96ba69b",
   "metadata": {},
   "outputs": [
    {
     "name": "stdout",
     "output_type": "stream",
     "text": [
      "hi user nice to meet you\n"
     ]
    },
    {
     "name": "stdin",
     "output_type": "stream",
     "text": [
      "enter your name kanika\n"
     ]
    }
   ],
   "source": [
    "first=True\n",
    "if first:\n",
    "    print(\"hi user nice to meet you\")\n",
    "    name=input(\"enter your name\")\n",
    "else:\n",
    "    print(\"name\")"
   ]
  },
  {
   "cell_type": "code",
   "execution_count": 11,
   "id": "672f1eac-51f4-4e03-bbea-4d5b19545d28",
   "metadata": {},
   "outputs": [
    {
     "data": {
      "text/plain": [
       "'kanu'"
      ]
     },
     "execution_count": 11,
     "metadata": {},
     "output_type": "execute_result"
    }
   ],
   "source": [
    "name"
   ]
  },
  {
   "cell_type": "code",
   "execution_count": 40,
   "id": "b10d2db6-9f3c-4633-b585-478c4a4ded05",
   "metadata": {},
   "outputs": [],
   "source": [
    "first=True"
   ]
  },
  {
   "cell_type": "code",
   "execution_count": 43,
   "id": "f358692e-39db-44e4-aeca-2ce4d7488cd3",
   "metadata": {},
   "outputs": [
    {
     "name": "stdout",
     "output_type": "stream",
     "text": [
      "hi kanika\n"
     ]
    }
   ],
   "source": [
    "#if you first run the upper code first=true then, you will be first person and the code run and output will be enter your name, if you only\n",
    "#run the below code again ypu will be second person therefore outpu will be hi kanika\n",
    "if first:\n",
    "    print(\"hi user nice to meet you\")\n",
    "    name=input(\"enter your name\")\n",
    "    first =False\n",
    "else:\n",
    "    print(\"hi\",name)"
   ]
  },
  {
   "cell_type": "code",
   "execution_count": 28,
   "id": "98160bd8-e37a-463e-aa45-d548cc6e52cf",
   "metadata": {},
   "outputs": [],
   "source": [
    "#cards game\n",
    "count=3"
   ]
  },
  {
   "cell_type": "code",
   "execution_count": 14,
   "id": "e95708b6-fabd-4232-987f-32ce451764a2",
   "metadata": {},
   "outputs": [
    {
     "name": "stdout",
     "output_type": "stream",
     "text": [
      "count\n"
     ]
    }
   ],
   "source": [
    "if count:\n",
    "    print(\"count\")"
   ]
  },
  {
   "cell_type": "code",
   "execution_count": 17,
   "id": "3efd06e0-fbdf-46d0-a26d-ba74b6581d36",
   "metadata": {},
   "outputs": [],
   "source": [
    "count=0"
   ]
  },
  {
   "cell_type": "code",
   "execution_count": 27,
   "id": "70ce3be5-f373-401a-b773-b752100673d4",
   "metadata": {},
   "outputs": [
    {
     "name": "stdout",
     "output_type": "stream",
     "text": [
      "you are out of game\n"
     ]
    }
   ],
   "source": [
    "#count not run on zero\n",
    "if count:\n",
    "    print(\"you are out of game\")"
   ]
  },
  {
   "cell_type": "code",
   "execution_count": 21,
   "id": "ea4d6392-ee04-467d-9b8d-8deef7a20d73",
   "metadata": {},
   "outputs": [
    {
     "name": "stdout",
     "output_type": "stream",
     "text": [
      "you are out of game\n"
     ]
    }
   ],
   "source": [
    "if  not count:\n",
    "    print(\"you are out of game\")\n"
   ]
  },
  {
   "cell_type": "code",
   "execution_count": 22,
   "id": "6be2bdff-c4f6-48e3-bf4c-01d2f92ad664",
   "metadata": {},
   "outputs": [],
   "source": [
    "count=3"
   ]
  },
  {
   "cell_type": "code",
   "execution_count": 26,
   "id": "acc7c056-d5ad-4988-a418-2020937a7f9f",
   "metadata": {},
   "outputs": [],
   "source": [
    "# not count give output only on zero\n",
    "if  not count:\n",
    "    print(\"you are out of game\")\n"
   ]
  },
  {
   "cell_type": "code",
   "execution_count": 24,
   "id": "f1a1e451-9686-4ee1-9299-69592d8cbb19",
   "metadata": {},
   "outputs": [],
   "source": [
    "count=2"
   ]
  },
  {
   "cell_type": "code",
   "execution_count": 25,
   "id": "cffaad59-f80f-41ef-8533-588e6d717891",
   "metadata": {},
   "outputs": [],
   "source": [
    "if  not count:\n",
    "    print(\"you are out of game\")\n"
   ]
  },
  {
   "cell_type": "markdown",
   "id": "b695c8b0-406b-4cdd-bc87-75962cf0ee66",
   "metadata": {},
   "source": [
    "##  AND"
   ]
  },
  {
   "cell_type": "code",
   "execution_count": 54,
   "id": "df517ccd-c063-41ca-9c65-3902870e7e9a",
   "metadata": {},
   "outputs": [],
   "source": [
    "#example\n",
    "attendence = 50\n",
    "marks=50"
   ]
  },
  {
   "cell_type": "code",
   "execution_count": 37,
   "id": "b2a95e65-35d8-46f9-a318-7a60f6785962",
   "metadata": {},
   "outputs": [
    {
     "name": "stdout",
     "output_type": "stream",
     "text": [
      "fail\n"
     ]
    }
   ],
   "source": [
    "if attendence <75:\n",
    "    print(\"fail\")"
   ]
  },
  {
   "cell_type": "code",
   "execution_count": 34,
   "id": "54eb739f-8c73-4ef0-8fe8-27387a92d485",
   "metadata": {},
   "outputs": [],
   "source": [
    "if marks<35:\n",
    "    print(\"fail\")"
   ]
  },
  {
   "cell_type": "code",
   "execution_count": 35,
   "id": "b998690a-3f20-40a8-b976-71be5d20ec07",
   "metadata": {},
   "outputs": [
    {
     "name": "stdout",
     "output_type": "stream",
     "text": [
      "fail\n"
     ]
    }
   ],
   "source": [
    "if attendence>75 and marks>35:\n",
    "    print(\"pass\")\n",
    "else:\n",
    "    print(\"fail\")"
   ]
  },
  {
   "cell_type": "code",
   "execution_count": 38,
   "id": "23d6e2d0-2bb2-4a39-8a0e-c8218ff967e5",
   "metadata": {},
   "outputs": [],
   "source": [
    "attendence = 76\n",
    "marks=50"
   ]
  },
  {
   "cell_type": "code",
   "execution_count": 39,
   "id": "bc2a38d3-0fae-4ab3-9d6d-19eabae1bcb5",
   "metadata": {},
   "outputs": [
    {
     "name": "stdout",
     "output_type": "stream",
     "text": [
      "pass\n"
     ]
    }
   ],
   "source": [
    "if attendence>75 and marks>35:\n",
    "    print(\"pass\")\n",
    "else:\n",
    "    print(\"fail\")"
   ]
  },
  {
   "cell_type": "code",
   "execution_count": 48,
   "id": "1ade3dbd-0970-4adf-be09-7aef514213e8",
   "metadata": {},
   "outputs": [],
   "source": [
    "#examples\n",
    "ticket=True\n",
    "age=20"
   ]
  },
  {
   "cell_type": "code",
   "execution_count": 49,
   "id": "6a4d865f-a760-4c6f-b869-8c1ba4f39a46",
   "metadata": {},
   "outputs": [
    {
     "name": "stdout",
     "output_type": "stream",
     "text": [
      "welcome\n"
     ]
    }
   ],
   "source": [
    "if age>=18 and ticket:\n",
    "    print(\"welcome\")\n",
    "else:\n",
    "    print(\"bye\")"
   ]
  },
  {
   "cell_type": "code",
   "execution_count": 46,
   "id": "0a90eaa0-dfe0-4037-acfe-f1e86f8a9a74",
   "metadata": {},
   "outputs": [],
   "source": [
    "ticket=False\n",
    "age=18"
   ]
  },
  {
   "cell_type": "code",
   "execution_count": 47,
   "id": "98e0d6cf-3135-425b-b30e-cfd5bbee41e4",
   "metadata": {},
   "outputs": [
    {
     "name": "stdout",
     "output_type": "stream",
     "text": [
      "bye\n"
     ]
    }
   ],
   "source": [
    "if age>=18 and ticket:\n",
    "    print(\"welcome\")\n",
    "else:\n",
    "    print(\"bye\")"
   ]
  },
  {
   "cell_type": "code",
   "execution_count": 50,
   "id": "1ca385ef-06a2-43d5-b364-33a113c451d5",
   "metadata": {},
   "outputs": [],
   "source": [
    "ticket=False\n",
    "age=18"
   ]
  },
  {
   "cell_type": "code",
   "execution_count": 51,
   "id": "d528661d-29b8-49e4-81d4-ece4ce9f26c5",
   "metadata": {},
   "outputs": [
    {
     "name": "stdout",
     "output_type": "stream",
     "text": [
      "welcome\n"
     ]
    }
   ],
   "source": [
    "if age>=18 and not ticket:\n",
    "    print(\"welcome\")\n",
    "else:\n",
    "    print(\"bye\")"
   ]
  },
  {
   "cell_type": "code",
   "execution_count": 52,
   "id": "25d91692-580f-44ce-81c5-17a220806092",
   "metadata": {},
   "outputs": [],
   "source": [
    "ticket=True\n",
    "age=20"
   ]
  },
  {
   "cell_type": "code",
   "execution_count": 53,
   "id": "dc2234cc-47d0-4260-b802-dec3b99c0d3d",
   "metadata": {},
   "outputs": [
    {
     "name": "stdout",
     "output_type": "stream",
     "text": [
      "bye\n"
     ]
    }
   ],
   "source": [
    "if age>=18 and not ticket:\n",
    "    print(\"welcome\")\n",
    "else:\n",
    "    print(\"bye\")"
   ]
  },
  {
   "cell_type": "code",
   "execution_count": 55,
   "id": "1939d366-96e0-45fb-9011-8363eebf5b37",
   "metadata": {},
   "outputs": [
    {
     "data": {
      "text/plain": [
       "True"
      ]
     },
     "execution_count": 55,
     "metadata": {},
     "output_type": "execute_result"
    }
   ],
   "source": [
    "True and True"
   ]
  },
  {
   "cell_type": "code",
   "execution_count": 56,
   "id": "0077c0ee-5033-4d68-93b2-7af8792f6bc8",
   "metadata": {},
   "outputs": [
    {
     "data": {
      "text/plain": [
       "False"
      ]
     },
     "execution_count": 56,
     "metadata": {},
     "output_type": "execute_result"
    }
   ],
   "source": [
    "False and True"
   ]
  },
  {
   "cell_type": "code",
   "execution_count": 57,
   "id": "993077ee-06ca-4fca-bc7a-5effc89af94c",
   "metadata": {},
   "outputs": [
    {
     "data": {
      "text/plain": [
       "False"
      ]
     },
     "execution_count": 57,
     "metadata": {},
     "output_type": "execute_result"
    }
   ],
   "source": [
    "False and False"
   ]
  },
  {
   "cell_type": "markdown",
   "id": "67e3077e-f770-4ab7-ace4-1a0d6d443dfc",
   "metadata": {},
   "source": [
    "## OR"
   ]
  },
  {
   "cell_type": "code",
   "execution_count": 58,
   "id": "f652f5dd-7f90-4914-b56e-42e9f34b11fa",
   "metadata": {},
   "outputs": [
    {
     "data": {
      "text/plain": [
       "True"
      ]
     },
     "execution_count": 58,
     "metadata": {},
     "output_type": "execute_result"
    }
   ],
   "source": [
    "True or True"
   ]
  },
  {
   "cell_type": "code",
   "execution_count": 59,
   "id": "608fd888-2e41-44c7-89d3-96eaeaa986ce",
   "metadata": {},
   "outputs": [
    {
     "data": {
      "text/plain": [
       "True"
      ]
     },
     "execution_count": 59,
     "metadata": {},
     "output_type": "execute_result"
    }
   ],
   "source": [
    "True or False"
   ]
  },
  {
   "cell_type": "code",
   "execution_count": 60,
   "id": "00f6d27f-efd6-4736-9ada-e52caca4aad6",
   "metadata": {},
   "outputs": [
    {
     "data": {
      "text/plain": [
       "False"
      ]
     },
     "execution_count": 60,
     "metadata": {},
     "output_type": "execute_result"
    }
   ],
   "source": [
    "False or False"
   ]
  },
  {
   "cell_type": "code",
   "execution_count": 62,
   "id": "2c11a3cf-9a48-48c5-a98d-ed604d40689d",
   "metadata": {},
   "outputs": [],
   "source": [
    "#example\n",
    "marks=90 #student1\n",
    "donation=90000 #student2"
   ]
  },
  {
   "cell_type": "code",
   "execution_count": 63,
   "id": "2d81ac9c-ffd8-499e-88b5-98d7659f82ef",
   "metadata": {},
   "outputs": [
    {
     "name": "stdout",
     "output_type": "stream",
     "text": [
      "welcome to the school\n"
     ]
    }
   ],
   "source": [
    "if marks>80 or donation>80000:\n",
    "    print(\"welcome to the school\")\n",
    "else:\n",
    "    print(\"no entery\")"
   ]
  },
  {
   "cell_type": "code",
   "execution_count": 64,
   "id": "91fafd0a-c2b9-4d17-a30f-b634f91a94e6",
   "metadata": {},
   "outputs": [],
   "source": [
    "marks=50 #student1\n",
    "donation=90000 #student2"
   ]
  },
  {
   "cell_type": "code",
   "execution_count": 65,
   "id": "b0be3e06-a7ab-4a78-bea9-e9d03332c2aa",
   "metadata": {},
   "outputs": [
    {
     "name": "stdout",
     "output_type": "stream",
     "text": [
      "welcome to the school\n"
     ]
    }
   ],
   "source": [
    "if marks>80 or donation>80000:\n",
    "    print(\"welcome to the school\")\n",
    "else:\n",
    "    print(\"no entery\")"
   ]
  },
  {
   "cell_type": "code",
   "execution_count": 66,
   "id": "0461df00-4867-459e-87b6-0eb1501f94b3",
   "metadata": {},
   "outputs": [],
   "source": [
    "marks=50 #student1\n",
    "donation=9000 #student2"
   ]
  },
  {
   "cell_type": "code",
   "execution_count": 67,
   "id": "e3f6bd92-6909-452e-8579-963acc3306e7",
   "metadata": {},
   "outputs": [
    {
     "name": "stdout",
     "output_type": "stream",
     "text": [
      "no entery\n"
     ]
    }
   ],
   "source": [
    "if marks>80 or donation>80000:\n",
    "    print(\"welcome to the school\")\n",
    "else:\n",
    "    print(\"no entery\")"
   ]
  },
  {
   "cell_type": "code",
   "execution_count": 68,
   "id": "2092926f-105a-4099-964c-48e245763eb0",
   "metadata": {},
   "outputs": [],
   "source": [
    "#example\n",
    "email=True\n",
    "number=True"
   ]
  },
  {
   "cell_type": "code",
   "execution_count": 69,
   "id": "627bf19d-e373-4111-a62b-439c04b1f757",
   "metadata": {},
   "outputs": [
    {
     "name": "stdout",
     "output_type": "stream",
     "text": [
      "welcome user\n"
     ]
    }
   ],
   "source": [
    "if email or number:\n",
    "    print(\"welcome user\")\n",
    "else:\n",
    "    print(\"login \")"
   ]
  },
  {
   "cell_type": "code",
   "execution_count": 70,
   "id": "1c9b5c4a-e490-4fca-847a-51a7e43ec712",
   "metadata": {},
   "outputs": [],
   "source": [
    "email=True\n",
    "number=False"
   ]
  },
  {
   "cell_type": "code",
   "execution_count": 71,
   "id": "f5885db0-c1ac-43af-9228-b7eb99b9b28f",
   "metadata": {},
   "outputs": [
    {
     "name": "stdout",
     "output_type": "stream",
     "text": [
      "welcome user\n"
     ]
    }
   ],
   "source": [
    "if email or number:\n",
    "    print(\"welcome user\")\n",
    "else:\n",
    "    print(\"login \")"
   ]
  },
  {
   "cell_type": "code",
   "execution_count": 72,
   "id": "1a5810f6-adeb-40d3-bcbb-770605a71413",
   "metadata": {},
   "outputs": [],
   "source": [
    "email=False\n",
    "number=False"
   ]
  },
  {
   "cell_type": "code",
   "execution_count": 94,
   "id": "46362d6d-5815-4040-892d-c8284e06f591",
   "metadata": {},
   "outputs": [
    {
     "name": "stdout",
     "output_type": "stream",
     "text": [
      "welcome user\n"
     ]
    }
   ],
   "source": [
    "if email or number:\n",
    "    print(\"welcome user\")\n",
    "else:\n",
    "    print(\"login \")"
   ]
  },
  {
   "cell_type": "code",
   "execution_count": 74,
   "id": "473924a2-a466-4336-afdf-6d0c006929cc",
   "metadata": {},
   "outputs": [],
   "source": [
    "email=True\n",
    "number=False\n",
    "password=True"
   ]
  },
  {
   "cell_type": "code",
   "execution_count": 92,
   "id": "5aea4a65-88a6-470f-8efa-d72b183d3d77",
   "metadata": {},
   "outputs": [
    {
     "name": "stdout",
     "output_type": "stream",
     "text": [
      "bye\n"
     ]
    }
   ],
   "source": [
    "if (email or number) and password:\n",
    "    print(\"welcome\")\n",
    "else:\n",
    "    print(\"bye\")"
   ]
  },
  {
   "cell_type": "code",
   "execution_count": 87,
   "id": "a7ba44f5-7238-42d9-aff7-2dea91e5a3c1",
   "metadata": {},
   "outputs": [],
   "source": [
    "email=True\n",
    "number=False\n",
    "password=False"
   ]
  },
  {
   "cell_type": "code",
   "execution_count": 89,
   "id": "f3be07f9-f32d-4a83-94cf-75f5b875b8cb",
   "metadata": {},
   "outputs": [
    {
     "name": "stdout",
     "output_type": "stream",
     "text": [
      "bye\n"
     ]
    }
   ],
   "source": [
    "if (email or number) and password:\n",
    "    print(\"welcome\")\n",
    "else:\n",
    "    print(\"bye\")"
   ]
  },
  {
   "cell_type": "code",
   "execution_count": 82,
   "id": "c4be4099-402a-4028-8415-3804ac978037",
   "metadata": {},
   "outputs": [],
   "source": [
    "email=False\n",
    "number=False\n",
    "password=False"
   ]
  },
  {
   "cell_type": "code",
   "execution_count": 90,
   "id": "28c29b11-bced-4d45-bb58-738d0112fb66",
   "metadata": {},
   "outputs": [
    {
     "name": "stdout",
     "output_type": "stream",
     "text": [
      "bye\n"
     ]
    }
   ],
   "source": [
    "if (email or number) and password:\n",
    "    print(\"welcome\")\n",
    "else:\n",
    "    print(\"bye\")"
   ]
  },
  {
   "cell_type": "code",
   "execution_count": 85,
   "id": "6b584f04-8eaf-4273-9291-59340ceb697e",
   "metadata": {},
   "outputs": [],
   "source": [
    "email=False\n",
    "number=True\n",
    "password=True"
   ]
  },
  {
   "cell_type": "code",
   "execution_count": 91,
   "id": "425e2746-200a-4abb-9f0c-f34a176a7cf6",
   "metadata": {},
   "outputs": [
    {
     "name": "stdout",
     "output_type": "stream",
     "text": [
      "bye\n"
     ]
    }
   ],
   "source": [
    "if (email or number) and password:\n",
    "    print(\"welcome\")\n",
    "else:\n",
    "    print(\"bye\")"
   ]
  },
  {
   "cell_type": "code",
   "execution_count": 97,
   "id": "dd89e38b-7bfc-4d71-85ce-5666eb0b0e27",
   "metadata": {},
   "outputs": [],
   "source": [
    "hindi=50\n",
    "english=50\n",
    "maths=50\n",
    "science=50"
   ]
  },
  {
   "cell_type": "code",
   "execution_count": 98,
   "id": "da69057d-70cd-49c3-a443-1cf555fe786e",
   "metadata": {},
   "outputs": [
    {
     "name": "stdout",
     "output_type": "stream",
     "text": [
      "pass\n"
     ]
    }
   ],
   "source": [
    "if (hindi>35) and (english>35) and (maths>35) and (science>35):\n",
    "    print(\"pass\")\n",
    "else:\n",
    "    print(\"fail\")"
   ]
  },
  {
   "cell_type": "code",
   "execution_count": 105,
   "id": "94a5073c-e398-4143-9a50-3199fdd90540",
   "metadata": {},
   "outputs": [],
   "source": [
    "hindi= 50\n",
    "english= 50\n",
    "maths= 50\n",
    "science= 30"
   ]
  },
  {
   "cell_type": "code",
   "execution_count": 106,
   "id": "86c993c1-ee22-454f-b0f3-89b787b12932",
   "metadata": {},
   "outputs": [
    {
     "name": "stdout",
     "output_type": "stream",
     "text": [
      "fail\n"
     ]
    }
   ],
   "source": [
    "if (hindi>35) and (english>35) and (maths>35) and (science>35):\n",
    "    print(\"pass\")\n",
    "else:\n",
    "    print(\"fail\")"
   ]
  },
  {
   "cell_type": "code",
   "execution_count": 111,
   "id": "37fbd100-f64e-4c62-bab8-300325eb4c5f",
   "metadata": {},
   "outputs": [],
   "source": [
    "hindi= 80\n",
    "english= 80\n",
    "maths= 70\n",
    "science= 80"
   ]
  },
  {
   "cell_type": "code",
   "execution_count": 112,
   "id": "81a3d085-4c6c-4eac-ba53-eb990fcd8230",
   "metadata": {},
   "outputs": [],
   "source": [
    "average=(hindi + english + maths + science)//4"
   ]
  },
  {
   "cell_type": "code",
   "execution_count": 115,
   "id": "8bbc5257-eeda-44c5-a13c-dcdee86ce143",
   "metadata": {},
   "outputs": [
    {
     "data": {
      "text/plain": [
       "77"
      ]
     },
     "execution_count": 115,
     "metadata": {},
     "output_type": "execute_result"
    }
   ],
   "source": [
    "average"
   ]
  },
  {
   "cell_type": "code",
   "execution_count": 116,
   "id": "001c6a78-f360-4b89-8de7-24b312371b35",
   "metadata": {},
   "outputs": [
    {
     "name": "stdout",
     "output_type": "stream",
     "text": [
      "pass\n",
      "distinction\n"
     ]
    }
   ],
   "source": [
    "if (hindi>35) and (english>35) and (maths>35) and (science>35):\n",
    "    print(\"pass\")\n",
    "    if average >= 75 and (hindi >40 and english >40 and maths >40 and science >40):\n",
    "        print(\"distinction\")      \n",
    "else:\n",
    "    print(\"fail\")"
   ]
  },
  {
   "cell_type": "code",
   "execution_count": 122,
   "id": "f1167daa-45dc-4272-85e5-d889034501f4",
   "metadata": {},
   "outputs": [],
   "source": [
    "hindi= 80\n",
    "english= 60\n",
    "maths= 70\n",
    "science= 39"
   ]
  },
  {
   "cell_type": "code",
   "execution_count": 123,
   "id": "af2a0a0b-049b-48c4-aae3-77b41b7c2b8a",
   "metadata": {},
   "outputs": [
    {
     "name": "stdout",
     "output_type": "stream",
     "text": [
      "pass\n",
      "kanika\n"
     ]
    }
   ],
   "source": [
    "if (hindi>35) and (english>35) and (maths>35) and (science>35):\n",
    "    print(\"pass\")\n",
    "    if average >= 75 and (hindi >40 and english >40 and maths >40 and science >40):\n",
    "        print(\"distinction\")  \n",
    "    else:\n",
    "        print(\"kanika\")\n",
    "else:\n",
    "    print(\"fail\")"
   ]
  },
  {
   "cell_type": "code",
   "execution_count": 127,
   "id": "e6da7628-917f-4f48-b13e-1f1b132907c6",
   "metadata": {},
   "outputs": [],
   "source": [
    "hindi= 80\n",
    "english= 60\n",
    "maths= 70\n",
    "science= 100"
   ]
  },
  {
   "cell_type": "code",
   "execution_count": 144,
   "id": "c5e06138-bb9b-4d4c-8ef4-d07f953712ad",
   "metadata": {},
   "outputs": [
    {
     "name": "stdout",
     "output_type": "stream",
     "text": [
      "pass\n",
      "distinction\n",
      "topper\n"
     ]
    }
   ],
   "source": [
    "if (hindi>35) and (english>35) and (maths>35) and (science>35):\n",
    "    print(\"pass\")\n",
    "    if average >= 75 and (hindi >40) and (english >40) and (maths >40) and (science >40):\n",
    "        print(\"distinction\")  \n",
    "    else:\n",
    "        print(\"kanika\")\n",
    "    if hindi > 90 or english > 90 or maths > 90 or science > 90:\n",
    "        print(\"topper\")\n",
    "else:\n",
    "    print(\"fail\")"
   ]
  },
  {
   "cell_type": "code",
   "execution_count": 132,
   "id": "7c0a13bc-22ba-4bd3-bd59-a9fe7c69c968",
   "metadata": {},
   "outputs": [],
   "source": [
    "username=\"kanika\"\n",
    "password=12345"
   ]
  },
  {
   "cell_type": "code",
   "execution_count": 136,
   "id": "c0ebcd8a-4180-434c-8153-45625057e8bb",
   "metadata": {},
   "outputs": [
    {
     "name": "stdout",
     "output_type": "stream",
     "text": [
      "login\n"
     ]
    }
   ],
   "source": [
    "if username and password:\n",
    "    if not username == \"kanika\" or not password==12345:\n",
    "        print(\"incorrect input\")\n",
    "    else:\n",
    "        print(\"login\")\n",
    "else:\n",
    "    print(\"incomplete input\")"
   ]
  },
  {
   "cell_type": "code",
   "execution_count": 137,
   "id": "c09b9e13-75f8-445b-90be-0f5fa48df780",
   "metadata": {},
   "outputs": [],
   "source": [
    "username=\"kanika\"\n",
    "password=1234"
   ]
  },
  {
   "cell_type": "code",
   "execution_count": 146,
   "id": "eb8cad57-9d06-496d-8990-89417a5ccb62",
   "metadata": {},
   "outputs": [
    {
     "name": "stdout",
     "output_type": "stream",
     "text": [
      "incomplete input\n"
     ]
    }
   ],
   "source": [
    "if username and password:\n",
    "    if not username == \"kanika\" or not password==12345:\n",
    "        print(\"incorrect input\")\n",
    "    else:\n",
    "        print(\"login\")\n",
    "else:\n",
    "    print(\"incomplete input\")"
   ]
  },
  {
   "cell_type": "code",
   "execution_count": 141,
   "id": "64c29b92-71c2-4d87-80b1-22897e5bbd14",
   "metadata": {},
   "outputs": [],
   "source": [
    "username=\"\"\n",
    "password=1234"
   ]
  },
  {
   "cell_type": "code",
   "execution_count": 142,
   "id": "f6f55310-cdfa-47b5-a173-a7e18c5710e4",
   "metadata": {},
   "outputs": [
    {
     "name": "stdout",
     "output_type": "stream",
     "text": [
      "incomplete input\n"
     ]
    }
   ],
   "source": [
    "if username and password:\n",
    "    if not username == \"kanika\" or not password==12345:\n",
    "        print(\"incorrect input\")\n",
    "    else:\n",
    "        print(\"login\")\n",
    "else:\n",
    "    print(\"incomplete input\")"
   ]
  },
  {
   "cell_type": "code",
   "execution_count": 149,
   "id": "835ca352-b776-41cb-9ade-01a3e933b919",
   "metadata": {},
   "outputs": [],
   "source": [
    "username=\"kanika\"\n",
    "password=123"
   ]
  },
  {
   "cell_type": "code",
   "execution_count": 150,
   "id": "c3630f97-35d1-4555-80dc-9c355f15d3c4",
   "metadata": {},
   "outputs": [
    {
     "name": "stdout",
     "output_type": "stream",
     "text": [
      "login\n"
     ]
    }
   ],
   "source": [
    "if username and password:\n",
    "    if not username == \"kanika\" and not password==12345:\n",
    "        print(\"incorrect input\")\n",
    "    else:\n",
    "        print(\"login\")\n",
    "else:\n",
    "    print(\"incomplete input\")"
   ]
  },
  {
   "cell_type": "code",
   "execution_count": 151,
   "id": "16f8b118-8cc1-4cb3-b845-93ae6f69fb30",
   "metadata": {},
   "outputs": [
    {
     "data": {
      "text/plain": [
       "True"
      ]
     },
     "execution_count": 151,
     "metadata": {},
     "output_type": "execute_result"
    }
   ],
   "source": [
    "'k' in \"kanika\""
   ]
  },
  {
   "cell_type": "code",
   "execution_count": 153,
   "id": "9d5af078-97f5-4741-a6bf-e319f05c3fba",
   "metadata": {},
   "outputs": [
    {
     "data": {
      "text/plain": [
       "False"
      ]
     },
     "execution_count": 153,
     "metadata": {},
     "output_type": "execute_result"
    }
   ],
   "source": [
    "'k ' in \"kanika\""
   ]
  },
  {
   "cell_type": "code",
   "execution_count": null,
   "id": "a1f6f444-7835-4218-bb09-39ac2de73a2c",
   "metadata": {},
   "outputs": [],
   "source": [
    "\"full-time\" \"part-time\" \"unemployeed\""
   ]
  },
  {
   "cell_type": "code",
   "execution_count": 154,
   "id": "916db514-c69c-4f78-a5fa-9fa26896b31f",
   "metadata": {},
   "outputs": [],
   "source": [
    "age= 20\n",
    "income= 50000\n",
    "credit_score= 350\n",
    "debts= 5000\n",
    "employment= \"full-time\""
   ]
  },
  {
   "cell_type": "code",
   "execution_count": 155,
   "id": "4581225d-cff5-4afd-8af1-3eb043c5aea3",
   "metadata": {},
   "outputs": [
    {
     "name": "stdout",
     "output_type": "stream",
     "text": [
      "loan approved\n",
      "loan300000.0\n",
      "intrest 36000.0\n"
     ]
    }
   ],
   "source": [
    "if age>=18 and not employment==\"unemployment\":\n",
    "    if credit_score>400 and debts <= income*0.3:\n",
    "        loan=income*12*0.5\n",
    "        intrest= loan * 0.1\n",
    "        \n",
    "        print(\"loan approved\")\n",
    "        print(f\"loan{loan}\")\n",
    "        print(f\"intrest {intrest}\")\n",
    "            \n",
    "    elif credit_score >400 and debts >=income*0.3:\n",
    "        loan = income *12*0.3\n",
    "        intrest = loan*0.1\n",
    "\n",
    "        print(\"loan approved\")\n",
    "        print(f\"loan{loan}\")\n",
    "        print(f\"intrest {intrest}\")\n",
    "\n",
    "    elif credit_score <= 400 and debts <income*0.3:\n",
    "        loan = income *12*0.5\n",
    "        intrest = loan*0.12\n",
    "\n",
    "        print(\"loan approved\")\n",
    "        print(f\"loan{loan}\")\n",
    "        print(f\"intrest {intrest}\")\n",
    "            \n",
    "    else:\n",
    "        print(\"loan rejected\")\n",
    "\n",
    "else:\n",
    "    print(\"loan rejected\")\n",
    "    "
   ]
  },
  {
   "cell_type": "code",
   "execution_count": 158,
   "id": "5d6bc584-1ca1-4a7f-ba00-a42cc939d7d8",
   "metadata": {},
   "outputs": [],
   "source": [
    "age= 20\n",
    "income= 50000\n",
    "credit_score= 450\n",
    "debts= 5000\n",
    "employment= \"part-time\" "
   ]
  },
  {
   "cell_type": "code",
   "execution_count": 159,
   "id": "7d7f87e2-c773-4f35-a280-41a30d013954",
   "metadata": {},
   "outputs": [
    {
     "name": "stdout",
     "output_type": "stream",
     "text": [
      "loan approved\n",
      "loan300000.0\n",
      "intrest 30000.0\n"
     ]
    }
   ],
   "source": [
    "if age>=18 and not employment==\"unemployment\":\n",
    "    if credit_score>400 and debts <= income*0.3:\n",
    "        loan=income*12*0.5\n",
    "        intrest= loan * 0.1\n",
    "        \n",
    "        print(\"loan approved\")\n",
    "        print(f\"loan{loan}\")\n",
    "        print(f\"intrest {intrest}\")\n",
    "            \n",
    "    elif credit_score >400 and debts >=income*0.3:\n",
    "        loan = income *12*0.3\n",
    "        intrest = loan*0.1\n",
    "\n",
    "        print(\"loan approved\")\n",
    "        print(f\"loan{loan}\")\n",
    "        print(f\"intrest {intrest}\")\n",
    "\n",
    "    elif credit_score <= 400 and debts <income*0.3:\n",
    "        loan = income *12*0.5\n",
    "        intrest = loan*0.12\n",
    "\n",
    "        print(\"loan approved\")\n",
    "        print(f\"loan{loan}\")\n",
    "        print(f\"intrest {intrest}\")\n",
    "            \n",
    "    else:\n",
    "        print(\"loan rejected\")\n",
    "\n",
    "else:\n",
    "    print(\"loan rejected\")"
   ]
  },
  {
   "cell_type": "code",
   "execution_count": 165,
   "id": "64f2af49-ae7b-48a6-8dca-31e17eb26ffb",
   "metadata": {},
   "outputs": [],
   "source": [
    "age= 20\n",
    "income= 50000\n",
    "credit_score= 450\n",
    "debts= 50000\n",
    "employment= \"unemployed\" "
   ]
  },
  {
   "cell_type": "code",
   "execution_count": 166,
   "id": "57530fdb-b060-4047-8816-5ab7aad1472c",
   "metadata": {},
   "outputs": [
    {
     "name": "stdout",
     "output_type": "stream",
     "text": [
      "loan approved\n",
      "loan180000.0\n",
      "intrest 18000.0\n"
     ]
    }
   ],
   "source": [
    "if age>=18 and not employment==\"unemployment\":\n",
    "    if credit_score>400 and debts <= income*0.3:\n",
    "        loan=income*12*0.5\n",
    "        intrest= loan * 0.1\n",
    "        \n",
    "        print(\"loan approved\")\n",
    "        print(f\"loan{loan}\")\n",
    "        print(f\"intrest {intrest}\")\n",
    "            \n",
    "    elif credit_score >400 and debts >=income*0.3:\n",
    "        loan = income *12*0.3\n",
    "        intrest = loan*0.1\n",
    "\n",
    "        print(\"loan approved\")\n",
    "        print(f\"loan{loan}\")\n",
    "        print(f\"intrest {intrest}\")\n",
    "\n",
    "    elif credit_score <= 400 and debts <income*0.3:\n",
    "        loan = income *12*0.5\n",
    "        intrest = loan*0.12\n",
    "\n",
    "        print(\"loan approved\")\n",
    "        print(f\"loan{loan}\")\n",
    "        print(f\"intrest {intrest}\")\n",
    "            \n",
    "    else:\n",
    "        print(\"loan rejected\")\n",
    "\n",
    "else:\n",
    "    print(\"loan rejected\")"
   ]
  },
  {
   "cell_type": "code",
   "execution_count": 169,
   "id": "f15a131c-3632-4d98-bc98-eeca8faa94ca",
   "metadata": {},
   "outputs": [],
   "source": [
    "age= 17\n",
    "income= 50000\n",
    "credit_score= 350\n",
    "debts= 5000\n",
    "employment= \"full-time\""
   ]
  },
  {
   "cell_type": "code",
   "execution_count": 170,
   "id": "e3a87d80-c842-4264-8f2b-ae5e3f621d51",
   "metadata": {},
   "outputs": [
    {
     "name": "stdout",
     "output_type": "stream",
     "text": [
      "loan rejected\n"
     ]
    }
   ],
   "source": [
    "if age>=18 and not employment==\"unemployment\":\n",
    "    if credit_score>400 and debts <= income*0.3:\n",
    "        loan=income*12*0.5\n",
    "        intrest= loan * 0.1\n",
    "        \n",
    "        print(\"loan approved\")\n",
    "        print(f\"loan{loan}\")\n",
    "        print(f\"intrest {intrest}\")\n",
    "            \n",
    "    elif credit_score >400 and debts >=income*0.3:\n",
    "        loan = income *12*0.3\n",
    "        intrest = loan*0.1\n",
    "\n",
    "        print(\"loan approved\")\n",
    "        print(f\"loan{loan}\")\n",
    "        print(f\"intrest {intrest}\")\n",
    "\n",
    "    elif credit_score <= 400 and debts <income*0.3:\n",
    "        loan = income *12*0.5\n",
    "        intrest = loan*0.12\n",
    "\n",
    "        print(\"loan approved\")\n",
    "        print(f\"loan{loan}\")\n",
    "        print(f\"intrest {intrest}\")\n",
    "            \n",
    "    else:\n",
    "        print(\"loan rejected\")\n",
    "\n",
    "else:\n",
    "    print(\"loan rejected\")"
   ]
  },
  {
   "cell_type": "code",
   "execution_count": null,
   "id": "f927d86e-560c-4e50-a969-a4040cf9820c",
   "metadata": {},
   "outputs": [],
   "source": []
  }
 ],
 "metadata": {
  "kernelspec": {
   "display_name": "Python [conda env:base] *",
   "language": "python",
   "name": "conda-base-py"
  },
  "language_info": {
   "codemirror_mode": {
    "name": "ipython",
    "version": 3
   },
   "file_extension": ".py",
   "mimetype": "text/x-python",
   "name": "python",
   "nbconvert_exporter": "python",
   "pygments_lexer": "ipython3",
   "version": "3.13.5"
  }
 },
 "nbformat": 4,
 "nbformat_minor": 5
}
