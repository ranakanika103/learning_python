{
 "cells": [
  {
   "cell_type": "markdown",
   "id": "ff761f8a-8642-4f9b-9095-7450fac317cf",
   "metadata": {},
   "source": [
    "# list"
   ]
  },
  {
   "cell_type": "code",
   "execution_count": 3,
   "id": "e822a1c1-793b-4969-bf3d-690ffe1e0893",
   "metadata": {},
   "outputs": [],
   "source": [
    "#list is also an ordered squence"
   ]
  },
  {
   "cell_type": "code",
   "execution_count": 1,
   "id": "d0342405-b511-4d20-b084-4f0ce4ab135d",
   "metadata": {},
   "outputs": [
    {
     "data": {
      "text/plain": [
       "[8, 5, 2, 4]"
      ]
     },
     "execution_count": 1,
     "metadata": {},
     "output_type": "execute_result"
    }
   ],
   "source": [
    "#list square bracket sai banti hai []\n",
    "[8,5,2,4]"
   ]
  },
  {
   "cell_type": "code",
   "execution_count": 2,
   "id": "ac13b435-603f-4b68-8655-ae1c22d11af2",
   "metadata": {},
   "outputs": [],
   "source": [
    "dogs=[\"tom\",\"jack\",\"rocky\"]"
   ]
  },
  {
   "cell_type": "code",
   "execution_count": 4,
   "id": "6a9c00ed-eb33-4bf2-aed9-3570e1374e5e",
   "metadata": {},
   "outputs": [],
   "source": [
    "# you can change items in list"
   ]
  },
  {
   "cell_type": "code",
   "execution_count": 5,
   "id": "84070085-fe5c-4291-8fd0-c8307f707cd7",
   "metadata": {},
   "outputs": [
    {
     "data": {
      "text/plain": [
       "'tom'"
      ]
     },
     "execution_count": 5,
     "metadata": {},
     "output_type": "execute_result"
    }
   ],
   "source": [
    "#indexing\n",
    "dogs[0]"
   ]
  },
  {
   "cell_type": "code",
   "execution_count": 7,
   "id": "7bde4116-cfe4-4c87-9729-f2f686df43a7",
   "metadata": {},
   "outputs": [
    {
     "data": {
      "text/plain": [
       "['tom', 'jack']"
      ]
     },
     "execution_count": 7,
     "metadata": {},
     "output_type": "execute_result"
    }
   ],
   "source": [
    "#slicing\n",
    "dogs[0:2]"
   ]
  },
  {
   "cell_type": "code",
   "execution_count": 8,
   "id": "239ffdb8-6512-4a4d-979a-41075fb2bd26",
   "metadata": {},
   "outputs": [],
   "source": [
    "dogs[0]=\"jerry\""
   ]
  },
  {
   "cell_type": "code",
   "execution_count": 9,
   "id": "a660d349-9f2e-4476-bb94-a4243f3fb859",
   "metadata": {},
   "outputs": [
    {
     "data": {
      "text/plain": [
       "['jerry', 'jack', 'rocky']"
      ]
     },
     "execution_count": 9,
     "metadata": {},
     "output_type": "execute_result"
    }
   ],
   "source": [
    "dogs"
   ]
  },
  {
   "cell_type": "code",
   "execution_count": 21,
   "id": "d70411b1-c6ca-4768-a5be-ed5a099e0f46",
   "metadata": {},
   "outputs": [],
   "source": [
    "li = [5, 5.3, 6+3j, \"kanika rana\" , (8,5,6,2), [\"kanika\", 4,6], True, False]"
   ]
  },
  {
   "cell_type": "code",
   "execution_count": 22,
   "id": "a9d6dca5-d5de-470b-8fae-629b42489fe3",
   "metadata": {},
   "outputs": [
    {
     "data": {
      "text/plain": [
       "[5, 5.3, (6+3j), 'kanika rana', (8, 5, 6, 2), ['kanika', 4, 6], True, False]"
      ]
     },
     "execution_count": 22,
     "metadata": {},
     "output_type": "execute_result"
    }
   ],
   "source": [
    "li"
   ]
  },
  {
   "cell_type": "code",
   "execution_count": 23,
   "id": "84d8a761-5cf2-43fe-83df-c5679f3b0f08",
   "metadata": {},
   "outputs": [
    {
     "data": {
      "text/plain": [
       "5"
      ]
     },
     "execution_count": 23,
     "metadata": {},
     "output_type": "execute_result"
    }
   ],
   "source": [
    "li[0]"
   ]
  },
  {
   "cell_type": "code",
   "execution_count": 24,
   "id": "c9754a87-c5f7-4e2f-a3de-e315aea68488",
   "metadata": {},
   "outputs": [
    {
     "data": {
      "text/plain": [
       "'kanika rana'"
      ]
     },
     "execution_count": 24,
     "metadata": {},
     "output_type": "execute_result"
    }
   ],
   "source": [
    "li[3]"
   ]
  },
  {
   "cell_type": "code",
   "execution_count": 25,
   "id": "7bc08519-6a7a-448d-a895-7cc58d7eb95f",
   "metadata": {},
   "outputs": [
    {
     "data": {
      "text/plain": [
       "'kanika '"
      ]
     },
     "execution_count": 25,
     "metadata": {},
     "output_type": "execute_result"
    }
   ],
   "source": [
    "li[3][0:7]"
   ]
  },
  {
   "cell_type": "code",
   "execution_count": 26,
   "id": "c16c2abf-d744-405d-8f2b-9a3fa8bf1cc9",
   "metadata": {},
   "outputs": [
    {
     "data": {
      "text/plain": [
       "(8, 5, 6, 2)"
      ]
     },
     "execution_count": 26,
     "metadata": {},
     "output_type": "execute_result"
    }
   ],
   "source": [
    "li[4]"
   ]
  },
  {
   "cell_type": "code",
   "execution_count": 27,
   "id": "95fb96af-934f-4f5a-8140-0987f45417c9",
   "metadata": {},
   "outputs": [
    {
     "data": {
      "text/plain": [
       "True"
      ]
     },
     "execution_count": 27,
     "metadata": {},
     "output_type": "execute_result"
    }
   ],
   "source": [
    "li[6]"
   ]
  },
  {
   "cell_type": "code",
   "execution_count": 29,
   "id": "2595f645-712c-4f14-bda0-4e2210ca5e87",
   "metadata": {},
   "outputs": [
    {
     "data": {
      "text/plain": [
       "6"
      ]
     },
     "execution_count": 29,
     "metadata": {},
     "output_type": "execute_result"
    }
   ],
   "source": [
    "li[5][2]\n"
   ]
  },
  {
   "cell_type": "code",
   "execution_count": 30,
   "id": "768d6afd-a8f1-4346-bd5c-a7844cc23b20",
   "metadata": {},
   "outputs": [
    {
     "data": {
      "text/plain": [
       "'i'"
      ]
     },
     "execution_count": 30,
     "metadata": {},
     "output_type": "execute_result"
    }
   ],
   "source": [
    "li[5][0][3]"
   ]
  },
  {
   "cell_type": "code",
   "execution_count": 31,
   "id": "50330275-9922-4753-8b16-3d613e4c382a",
   "metadata": {},
   "outputs": [
    {
     "data": {
      "text/plain": [
       "['kanika', 4, 6]"
      ]
     },
     "execution_count": 31,
     "metadata": {},
     "output_type": "execute_result"
    }
   ],
   "source": [
    "li[5][0:3]"
   ]
  },
  {
   "cell_type": "code",
   "execution_count": 9,
   "id": "37cac640-0a77-46d1-901e-63761999e06d",
   "metadata": {},
   "outputs": [],
   "source": [
    "dogs=[\"tom\",\"jack\",\"rocky\"]"
   ]
  },
  {
   "cell_type": "code",
   "execution_count": 30,
   "id": "4c076621-1a00-454c-8c14-ce546246ca86",
   "metadata": {},
   "outputs": [],
   "source": [
    "#append use to add items in list (when you run this code again and again the item add again and again in output)\n",
    "dogs.append(\"jerry\")\n"
   ]
  },
  {
   "cell_type": "code",
   "execution_count": 11,
   "id": "f5a26dbf-ac35-4523-960d-6bdf6c207a16",
   "metadata": {},
   "outputs": [
    {
     "data": {
      "text/plain": [
       "['tom', 'jack', 'rocky', 'jerry']"
      ]
     },
     "execution_count": 11,
     "metadata": {},
     "output_type": "execute_result"
    }
   ],
   "source": [
    "dogs"
   ]
  },
  {
   "cell_type": "markdown",
   "id": "2ac8dc3f-3719-40fe-9d49-5eaeda0a3ebf",
   "metadata": {},
   "source": [
    "#### reference"
   ]
  },
  {
   "cell_type": "code",
   "execution_count": 12,
   "id": "7cf7da5a-75e7-4799-ade5-2b70b68f0b79",
   "metadata": {},
   "outputs": [],
   "source": [
    "stu = [\"a\",\"b\",\"c\",\"d\",\"e\"]"
   ]
  },
  {
   "cell_type": "code",
   "execution_count": 13,
   "id": "a1469b89-302f-461b-b9d6-111a1e00f8ad",
   "metadata": {},
   "outputs": [],
   "source": [
    "fail = stu"
   ]
  },
  {
   "cell_type": "code",
   "execution_count": 14,
   "id": "5b026a2c-4ecf-4bd5-9d30-5aa9f9ba2d7b",
   "metadata": {},
   "outputs": [
    {
     "data": {
      "text/plain": [
       "['a', 'b', 'c', 'd', 'e']"
      ]
     },
     "execution_count": 14,
     "metadata": {},
     "output_type": "execute_result"
    }
   ],
   "source": [
    "fail"
   ]
  },
  {
   "cell_type": "code",
   "execution_count": 15,
   "id": "23909c11-aa87-426c-b531-7764d71a88c9",
   "metadata": {},
   "outputs": [],
   "source": [
    "fail[0]=\"kanika\""
   ]
  },
  {
   "cell_type": "code",
   "execution_count": 16,
   "id": "66d7abb3-2832-4f9a-af37-19267b547126",
   "metadata": {},
   "outputs": [
    {
     "data": {
      "text/plain": [
       "['kanika', 'b', 'c', 'd', 'e']"
      ]
     },
     "execution_count": 16,
     "metadata": {},
     "output_type": "execute_result"
    }
   ],
   "source": [
    "fail"
   ]
  },
  {
   "cell_type": "code",
   "execution_count": 17,
   "id": "5c367fb2-c54c-47a1-91f3-5ac578098c21",
   "metadata": {},
   "outputs": [
    {
     "data": {
      "text/plain": [
       "['kanika', 'b', 'c', 'd', 'e']"
      ]
     },
     "execution_count": 17,
     "metadata": {},
     "output_type": "execute_result"
    }
   ],
   "source": [
    "stu"
   ]
  },
  {
   "cell_type": "code",
   "execution_count": 18,
   "id": "d655bed0-6e54-4877-8bc8-19eb8c90aea3",
   "metadata": {},
   "outputs": [],
   "source": [
    "a = [1,5,3]"
   ]
  },
  {
   "cell_type": "code",
   "execution_count": 19,
   "id": "597ff0b0-6b42-4817-864b-be7fc760da26",
   "metadata": {},
   "outputs": [],
   "source": [
    "b=a"
   ]
  },
  {
   "cell_type": "code",
   "execution_count": 20,
   "id": "6440600e-476a-4f76-b9dd-391416d02b75",
   "metadata": {},
   "outputs": [
    {
     "data": {
      "text/plain": [
       "[1, 5, 3]"
      ]
     },
     "execution_count": 20,
     "metadata": {},
     "output_type": "execute_result"
    }
   ],
   "source": [
    "b"
   ]
  },
  {
   "cell_type": "code",
   "execution_count": 21,
   "id": "be71dcb4-015b-4b34-818e-8fd1166b358d",
   "metadata": {},
   "outputs": [],
   "source": [
    "b[1]=50"
   ]
  },
  {
   "cell_type": "code",
   "execution_count": 22,
   "id": "d361c73a-0fdb-4362-af9e-03b0f7d9f61a",
   "metadata": {},
   "outputs": [
    {
     "data": {
      "text/plain": [
       "[1, 50, 3]"
      ]
     },
     "execution_count": 22,
     "metadata": {},
     "output_type": "execute_result"
    }
   ],
   "source": [
    "b"
   ]
  },
  {
   "cell_type": "code",
   "execution_count": 23,
   "id": "9ed37d4a-55f1-4ad0-8677-02e2cbb71689",
   "metadata": {},
   "outputs": [
    {
     "data": {
      "text/plain": [
       "[1, 50, 3]"
      ]
     },
     "execution_count": 23,
     "metadata": {},
     "output_type": "execute_result"
    }
   ],
   "source": [
    "a"
   ]
  },
  {
   "cell_type": "code",
   "execution_count": 24,
   "id": "8becf5f6-24a3-4c04-a34e-a3a1776145d1",
   "metadata": {},
   "outputs": [],
   "source": [
    "b=a.copy()"
   ]
  },
  {
   "cell_type": "code",
   "execution_count": 25,
   "id": "7aaabdce-e947-46e4-952f-ea3bee6aed5f",
   "metadata": {},
   "outputs": [
    {
     "data": {
      "text/plain": [
       "[1, 50, 3]"
      ]
     },
     "execution_count": 25,
     "metadata": {},
     "output_type": "execute_result"
    }
   ],
   "source": [
    "a"
   ]
  },
  {
   "cell_type": "code",
   "execution_count": 26,
   "id": "f89628ef-82a8-44d2-8643-f65612fba6eb",
   "metadata": {},
   "outputs": [],
   "source": [
    "b[1]=5"
   ]
  },
  {
   "cell_type": "code",
   "execution_count": 27,
   "id": "46b33dfc-1bf3-4936-86b1-875c4537bf9b",
   "metadata": {},
   "outputs": [
    {
     "data": {
      "text/plain": [
       "[1, 5, 3]"
      ]
     },
     "execution_count": 27,
     "metadata": {},
     "output_type": "execute_result"
    }
   ],
   "source": [
    "b"
   ]
  },
  {
   "cell_type": "code",
   "execution_count": 28,
   "id": "103cd9f8-d976-4d9f-aabd-2ec2ae42c086",
   "metadata": {},
   "outputs": [
    {
     "data": {
      "text/plain": [
       "[1, 50, 3]"
      ]
     },
     "execution_count": 28,
     "metadata": {},
     "output_type": "execute_result"
    }
   ],
   "source": [
    "a"
   ]
  },
  {
   "cell_type": "code",
   "execution_count": 31,
   "id": "bb0ffb11-b5b5-45f3-a553-64ec07e6e069",
   "metadata": {},
   "outputs": [
    {
     "data": {
      "text/plain": [
       "3"
      ]
     },
     "execution_count": 31,
     "metadata": {},
     "output_type": "execute_result"
    }
   ],
   "source": [
    "dogs.count(\"jerry\")"
   ]
  },
  {
   "cell_type": "code",
   "execution_count": 32,
   "id": "8a6e8cc1-3a81-4a0a-88f4-40f43e5c6959",
   "metadata": {},
   "outputs": [
    {
     "data": {
      "text/plain": [
       "0"
      ]
     },
     "execution_count": 32,
     "metadata": {},
     "output_type": "execute_result"
    }
   ],
   "source": [
    "dogs.index(\"tom\")"
   ]
  },
  {
   "cell_type": "code",
   "execution_count": 67,
   "id": "d2030608-3076-4bb4-ae69-7cb6eaf129e8",
   "metadata": {},
   "outputs": [],
   "source": [
    "dogs=[\"tom\",\"rocky\",\"jack\"]"
   ]
  },
  {
   "cell_type": "code",
   "execution_count": 68,
   "id": "f242c23b-7aa7-4fbc-b3d6-af2ad5be19f6",
   "metadata": {},
   "outputs": [],
   "source": [
    "friend=[\"sammy\",\"rammy\",\"jeconb\"]"
   ]
  },
  {
   "cell_type": "code",
   "execution_count": 75,
   "id": "03e278b2-f09e-49cc-bf92-6806c4632991",
   "metadata": {},
   "outputs": [],
   "source": [
    "# pop and append are the important one functions used in list"
   ]
  },
  {
   "cell_type": "code",
   "execution_count": 35,
   "id": "456bdb87-7b7e-48a9-be7f-d0bdf27206a6",
   "metadata": {},
   "outputs": [],
   "source": [
    "dogs.append(\"friend\")"
   ]
  },
  {
   "cell_type": "code",
   "execution_count": 36,
   "id": "b0188e0d-de45-41a0-9cba-6ddd2babef91",
   "metadata": {},
   "outputs": [
    {
     "data": {
      "text/plain": [
       "['tom', 'jack', 'rocky', 'jerry', 'jerry', 'jerry', 'friend']"
      ]
     },
     "execution_count": 36,
     "metadata": {},
     "output_type": "execute_result"
    }
   ],
   "source": [
    "dogs"
   ]
  },
  {
   "cell_type": "code",
   "execution_count": 39,
   "id": "4888e34b-302d-4f19-bacb-2bf4e3a367e0",
   "metadata": {},
   "outputs": [],
   "source": [
    "#by using append it add the friend list not the individual items there to add individual items we use extend\n",
    "dogs.append(friend)"
   ]
  },
  {
   "cell_type": "code",
   "execution_count": 38,
   "id": "6e8aa3fa-0d1e-486b-bead-01b2800fef5b",
   "metadata": {},
   "outputs": [
    {
     "data": {
      "text/plain": [
       "['tom',\n",
       " 'jack',\n",
       " 'rocky',\n",
       " 'jerry',\n",
       " 'jerry',\n",
       " 'jerry',\n",
       " 'friend',\n",
       " ['sammy', 'rammy', 'jeconb']]"
      ]
     },
     "execution_count": 38,
     "metadata": {},
     "output_type": "execute_result"
    }
   ],
   "source": [
    "dogs"
   ]
  },
  {
   "cell_type": "code",
   "execution_count": 69,
   "id": "15325a10-5fa5-4867-a754-a7c431e19791",
   "metadata": {},
   "outputs": [],
   "source": [
    "dogs.extend(friend)"
   ]
  },
  {
   "cell_type": "code",
   "execution_count": 70,
   "id": "d6cfa461-bcd7-4f11-945a-6ae4d55b4a7d",
   "metadata": {},
   "outputs": [
    {
     "data": {
      "text/plain": [
       "['tom', 'rocky', 'jack', 'sammy', 'rammy', 'jeconb']"
      ]
     },
     "execution_count": 70,
     "metadata": {},
     "output_type": "execute_result"
    }
   ],
   "source": [
    "dogs"
   ]
  },
  {
   "cell_type": "code",
   "execution_count": 62,
   "id": "2a1a859b-449b-4bf3-b66f-c02470779ceb",
   "metadata": {},
   "outputs": [
    {
     "data": {
      "text/plain": [
       "'jeconb'"
      ]
     },
     "execution_count": 62,
     "metadata": {},
     "output_type": "execute_result"
    }
   ],
   "source": [
    "# using pop we can remove last item and when we run this code again and again then after last item remove it considered the next item as last item\n",
    "dogs.pop()"
   ]
  },
  {
   "cell_type": "code",
   "execution_count": 63,
   "id": "87af69dd-b628-42bd-baa2-61bc53481590",
   "metadata": {},
   "outputs": [
    {
     "data": {
      "text/plain": [
       "'rammy'"
      ]
     },
     "execution_count": 63,
     "metadata": {},
     "output_type": "execute_result"
    }
   ],
   "source": [
    "dogs.pop()"
   ]
  },
  {
   "cell_type": "code",
   "execution_count": 71,
   "id": "b3cc6ebd-3dab-4096-a1e0-20babf7b0def",
   "metadata": {},
   "outputs": [
    {
     "data": {
      "text/plain": [
       "'jack'"
      ]
     },
     "execution_count": 71,
     "metadata": {},
     "output_type": "execute_result"
    }
   ],
   "source": [
    "dogs.pop(2) # if you want to remove second item"
   ]
  },
  {
   "cell_type": "code",
   "execution_count": 72,
   "id": "73b313b8-c05e-4d94-9ea3-829f1bb4d17f",
   "metadata": {},
   "outputs": [
    {
     "data": {
      "text/plain": [
       "['tom', 'rocky', 'sammy', 'rammy', 'jeconb']"
      ]
     },
     "execution_count": 72,
     "metadata": {},
     "output_type": "execute_result"
    }
   ],
   "source": [
    "dogs"
   ]
  },
  {
   "cell_type": "code",
   "execution_count": 73,
   "id": "df357fe2-1a34-487e-8d0a-1109223230b0",
   "metadata": {},
   "outputs": [],
   "source": [
    "dogs.append(\"jack\")"
   ]
  },
  {
   "cell_type": "code",
   "execution_count": 74,
   "id": "a9b80fcc-e6d7-4ecf-895b-0e9b5c9c617c",
   "metadata": {},
   "outputs": [
    {
     "data": {
      "text/plain": [
       "['tom', 'rocky', 'sammy', 'rammy', 'jeconb', 'jack']"
      ]
     },
     "execution_count": 74,
     "metadata": {},
     "output_type": "execute_result"
    }
   ],
   "source": [
    "dogs"
   ]
  },
  {
   "cell_type": "code",
   "execution_count": 87,
   "id": "c13a23a8-8748-4e5b-b5cf-a10d12f0e886",
   "metadata": {},
   "outputs": [],
   "source": [
    "# by using remove we can't save the output which is remove but in pop we can save the remove output therefore we use pop mostly not remove\n",
    "dogs.remove(\"tom\")"
   ]
  },
  {
   "cell_type": "code",
   "execution_count": 88,
   "id": "255e8a4a-5be3-410b-ac9b-75c86757b1ec",
   "metadata": {},
   "outputs": [
    {
     "data": {
      "text/plain": [
       "['jack', 'jeconb', 'rammy', 'rocky', 'sammy']"
      ]
     },
     "execution_count": 88,
     "metadata": {},
     "output_type": "execute_result"
    }
   ],
   "source": [
    "dogs"
   ]
  },
  {
   "cell_type": "code",
   "execution_count": 94,
   "id": "057b57c2-d5ab-4edf-845e-eb232bc5dce3",
   "metadata": {},
   "outputs": [],
   "source": [
    "a=dogs.pop()"
   ]
  },
  {
   "cell_type": "code",
   "execution_count": 95,
   "id": "89ca4883-d027-4a48-bac2-b1e1488864c9",
   "metadata": {},
   "outputs": [
    {
     "data": {
      "text/plain": [
       "'sammy'"
      ]
     },
     "execution_count": 95,
     "metadata": {},
     "output_type": "execute_result"
    }
   ],
   "source": [
    "a"
   ]
  },
  {
   "cell_type": "code",
   "execution_count": 77,
   "id": "81c1162b-3217-4ef7-ac4e-bf08f16cbfd9",
   "metadata": {},
   "outputs": [],
   "source": [
    "dogs.sort()"
   ]
  },
  {
   "cell_type": "code",
   "execution_count": 78,
   "id": "cb515d89-5bc0-41b2-9219-f13387ead3b6",
   "metadata": {},
   "outputs": [
    {
     "data": {
      "text/plain": [
       "['jack', 'jeconb', 'rammy', 'rocky', 'sammy', 'tom']"
      ]
     },
     "execution_count": 78,
     "metadata": {},
     "output_type": "execute_result"
    }
   ],
   "source": [
    "dogs"
   ]
  },
  {
   "cell_type": "code",
   "execution_count": 79,
   "id": "51e98467-6654-4662-8248-9c0342430f04",
   "metadata": {},
   "outputs": [],
   "source": [
    "li=[8,5,2,6]"
   ]
  },
  {
   "cell_type": "code",
   "execution_count": 80,
   "id": "260d296f-0621-4973-98c3-535fde18fe5e",
   "metadata": {},
   "outputs": [],
   "source": [
    "li.sort() #sort by default ascending process work karta hai"
   ]
  },
  {
   "cell_type": "code",
   "execution_count": 81,
   "id": "83a38a42-4852-4419-9439-a85d9ee7b581",
   "metadata": {},
   "outputs": [
    {
     "data": {
      "text/plain": [
       "[2, 5, 6, 8]"
      ]
     },
     "execution_count": 81,
     "metadata": {},
     "output_type": "execute_result"
    }
   ],
   "source": [
    "li"
   ]
  },
  {
   "cell_type": "code",
   "execution_count": 84,
   "id": "e99e3eb8-d1c0-48c0-b836-d04fdc614ac4",
   "metadata": {},
   "outputs": [],
   "source": [
    "li.sort(reverse=True) # by using this we can sort as descending order"
   ]
  },
  {
   "cell_type": "code",
   "execution_count": 83,
   "id": "1a10dd5c-cb6e-4e36-9d71-59d87d56c4e7",
   "metadata": {},
   "outputs": [
    {
     "data": {
      "text/plain": [
       "[8, 6, 5, 2]"
      ]
     },
     "execution_count": 83,
     "metadata": {},
     "output_type": "execute_result"
    }
   ],
   "source": [
    "li"
   ]
  },
  {
   "cell_type": "code",
   "execution_count": 85,
   "id": "aecc70d0-d2de-47a6-b30b-ad87e8a4608c",
   "metadata": {},
   "outputs": [],
   "source": [
    "li.reverse()"
   ]
  },
  {
   "cell_type": "code",
   "execution_count": 86,
   "id": "5fea1909-52fd-4454-ab67-077b17ce7742",
   "metadata": {},
   "outputs": [
    {
     "data": {
      "text/plain": [
       "[2, 5, 6, 8]"
      ]
     },
     "execution_count": 86,
     "metadata": {},
     "output_type": "execute_result"
    }
   ],
   "source": [
    "li"
   ]
  },
  {
   "cell_type": "code",
   "execution_count": 92,
   "id": "e8db3227-5cd5-4bae-9f0e-b96a9aec9d02",
   "metadata": {},
   "outputs": [],
   "source": [
    "li.clear()"
   ]
  },
  {
   "cell_type": "code",
   "execution_count": 93,
   "id": "95ddff13-aa41-4b54-965a-6eb4d94b86c8",
   "metadata": {},
   "outputs": [
    {
     "data": {
      "text/plain": [
       "[]"
      ]
     },
     "execution_count": 93,
     "metadata": {},
     "output_type": "execute_result"
    }
   ],
   "source": [
    "li"
   ]
  },
  {
   "cell_type": "code",
   "execution_count": null,
   "id": "be788c71-f76f-4d2a-b469-e898fdf7b411",
   "metadata": {},
   "outputs": [],
   "source": []
  }
 ],
 "metadata": {
  "kernelspec": {
   "display_name": "Python [conda env:base] *",
   "language": "python",
   "name": "conda-base-py"
  },
  "language_info": {
   "codemirror_mode": {
    "name": "ipython",
    "version": 3
   },
   "file_extension": ".py",
   "mimetype": "text/x-python",
   "name": "python",
   "nbconvert_exporter": "python",
   "pygments_lexer": "ipython3",
   "version": "3.13.5"
  }
 },
 "nbformat": 4,
 "nbformat_minor": 5
}
