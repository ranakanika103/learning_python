{
 "cells": [
  {
   "cell_type": "markdown",
   "id": "b5d80741-13c3-4783-8349-23999b00450b",
   "metadata": {},
   "source": [
    "# Recursion"
   ]
  },
  {
   "cell_type": "markdown",
   "id": "27fe0803-a80b-4373-990c-d5c032174c0d",
   "metadata": {},
   "source": [
    "### when we call a function in itself then, it is called recursion.\n",
    "Major points:-\n",
    "1. We call a function in itself\n",
    "2. We assume the second call will give a correct output\n",
    "3. It must have a terminating condition"
   ]
  },
  {
   "cell_type": "code",
   "execution_count": 1,
   "id": "8ba49f2a-3710-4572-9993-b7d6cbe3c8e1",
   "metadata": {},
   "outputs": [],
   "source": [
    "def factorial(n):\n",
    "    if n==0 or n==1:\n",
    "        return 1\n",
    "    return n*factorial(n-1)"
   ]
  },
  {
   "cell_type": "code",
   "execution_count": 2,
   "id": "3cf79225-97f3-4fff-bf4d-8e11ed96101e",
   "metadata": {},
   "outputs": [
    {
     "data": {
      "text/plain": [
       "120"
      ]
     },
     "execution_count": 2,
     "metadata": {},
     "output_type": "execute_result"
    }
   ],
   "source": [
    "factorial(5)"
   ]
  },
  {
   "cell_type": "code",
   "execution_count": 3,
   "id": "d33683ac-542b-4fd7-a556-4e78808187b6",
   "metadata": {},
   "outputs": [],
   "source": [
    "def factorial(n):\n",
    "    print(n,n-1)\n",
    "    if n==0:\n",
    "        return 1\n",
    "    return n*factorial(n-1)"
   ]
  },
  {
   "cell_type": "code",
   "execution_count": 4,
   "id": "db433c72-5fc8-4531-96eb-059d34746533",
   "metadata": {},
   "outputs": [
    {
     "name": "stdout",
     "output_type": "stream",
     "text": [
      "5 4\n",
      "4 3\n",
      "3 2\n",
      "2 1\n",
      "1 0\n",
      "0 -1\n"
     ]
    },
    {
     "data": {
      "text/plain": [
       "120"
      ]
     },
     "execution_count": 4,
     "metadata": {},
     "output_type": "execute_result"
    }
   ],
   "source": [
    "factorial(5)"
   ]
  },
  {
   "cell_type": "code",
   "execution_count": 15,
   "id": "c300cceb-6802-4a65-a356-e12c98c60f72",
   "metadata": {},
   "outputs": [],
   "source": [
    "# tailed type (recursion are of two types i) tailed ii)non-tailed\n",
    "def factorial(n):\n",
    "    if n==0:\n",
    "        return 1\n",
    "    print(n,n-1)\n",
    "    return n*factorial(n-1)"
   ]
  },
  {
   "cell_type": "code",
   "execution_count": 11,
   "id": "135762a3-37f6-43e0-ae4f-26c2085e945c",
   "metadata": {},
   "outputs": [
    {
     "name": "stdout",
     "output_type": "stream",
     "text": [
      "5 4\n",
      "4 3\n",
      "3 2\n",
      "2 1\n",
      "1 0\n"
     ]
    },
    {
     "data": {
      "text/plain": [
       "120"
      ]
     },
     "execution_count": 11,
     "metadata": {},
     "output_type": "execute_result"
    }
   ],
   "source": [
    "factorial(5)"
   ]
  },
  {
   "cell_type": "code",
   "execution_count": 14,
   "id": "92add1e3-0ac2-474c-8fcb-bc35880b002b",
   "metadata": {},
   "outputs": [],
   "source": [
    "#non-tailed\n",
    "def factorial(n):\n",
    "    if n==0:\n",
    "        return 1\n",
    "    abc=n*factorial(n-1)\n",
    "    print(abc)\n",
    "    return abc"
   ]
  },
  {
   "cell_type": "code",
   "execution_count": 13,
   "id": "d90984b0-0f6f-46c0-8f5c-58db985634fd",
   "metadata": {},
   "outputs": [
    {
     "name": "stdout",
     "output_type": "stream",
     "text": [
      "1\n",
      "2\n",
      "6\n",
      "24\n",
      "120\n"
     ]
    },
    {
     "data": {
      "text/plain": [
       "120"
      ]
     },
     "execution_count": 13,
     "metadata": {},
     "output_type": "execute_result"
    }
   ],
   "source": [
    "factorial(5)"
   ]
  },
  {
   "cell_type": "code",
   "execution_count": 43,
   "id": "97b4d413-0d87-47c4-88e7-3240fe111356",
   "metadata": {},
   "outputs": [],
   "source": [
    "li=[4,5,7,8,3,6]"
   ]
  },
  {
   "cell_type": "code",
   "execution_count": 20,
   "id": "2cbefea0-cf12-4997-8e42-4f4ed96f5fcd",
   "metadata": {},
   "outputs": [],
   "source": [
    "def addList(li):\n",
    "    if len(li)==0:\n",
    "        return 0\n",
    "    print(li)\n",
    "    return li[0]+addList(li[1:])"
   ]
  },
  {
   "cell_type": "code",
   "execution_count": 21,
   "id": "3624ddc0-b951-47ae-bcc8-61faee21d4f3",
   "metadata": {},
   "outputs": [
    {
     "name": "stdout",
     "output_type": "stream",
     "text": [
      "[4, 5, 7, 8, 3, 6]\n",
      "[5, 7, 8, 3, 6]\n",
      "[7, 8, 3, 6]\n",
      "[8, 3, 6]\n",
      "[3, 6]\n",
      "[6]\n"
     ]
    },
    {
     "data": {
      "text/plain": [
       "33"
      ]
     },
     "execution_count": 21,
     "metadata": {},
     "output_type": "execute_result"
    }
   ],
   "source": [
    "addList(li)"
   ]
  },
  {
   "cell_type": "code",
   "execution_count": 29,
   "id": "39f6e871-f1cf-4896-a32f-44a47ffae9fb",
   "metadata": {},
   "outputs": [],
   "source": [
    "def addList(li):\n",
    "    print(li)\n",
    "    if len(li)==0:\n",
    "        return 0\n",
    "    return li[0]+addList(li[1:])"
   ]
  },
  {
   "cell_type": "code",
   "execution_count": 23,
   "id": "64cd7a5a-78a0-4bc7-9c23-ee56209bf81d",
   "metadata": {},
   "outputs": [
    {
     "name": "stdout",
     "output_type": "stream",
     "text": [
      "[4, 5, 7, 8, 3, 6]\n",
      "[5, 7, 8, 3, 6]\n",
      "[7, 8, 3, 6]\n",
      "[8, 3, 6]\n",
      "[3, 6]\n",
      "[6]\n",
      "[]\n"
     ]
    },
    {
     "data": {
      "text/plain": [
       "33"
      ]
     },
     "execution_count": 23,
     "metadata": {},
     "output_type": "execute_result"
    }
   ],
   "source": [
    "addList(li)"
   ]
  },
  {
   "cell_type": "code",
   "execution_count": 26,
   "id": "004ba5fe-3f1e-4adb-b4f2-c451af8cd1e1",
   "metadata": {},
   "outputs": [],
   "source": [
    "def addList(li):\n",
    "    if len(li)==0:\n",
    "        return 0\n",
    "    return li[0]+addList(li[1:])"
   ]
  },
  {
   "cell_type": "code",
   "execution_count": 27,
   "id": "580916f7-1eed-4f1b-96da-9ab9fe21c8bf",
   "metadata": {},
   "outputs": [
    {
     "data": {
      "text/plain": [
       "33"
      ]
     },
     "execution_count": 27,
     "metadata": {},
     "output_type": "execute_result"
    }
   ],
   "source": [
    "addList(li)"
   ]
  },
  {
   "cell_type": "code",
   "execution_count": 33,
   "id": "9b684211-f342-4ee5-ac61-2aaf892b92b1",
   "metadata": {},
   "outputs": [
    {
     "data": {
      "text/plain": [
       "True"
      ]
     },
     "execution_count": 33,
     "metadata": {},
     "output_type": "execute_result"
    }
   ],
   "source": [
    "# checking type\n",
    "type(5) is int"
   ]
  },
  {
   "cell_type": "code",
   "execution_count": 51,
   "id": "bb5eb1b0-3198-4c5d-87d5-70f7efce898a",
   "metadata": {},
   "outputs": [],
   "source": [
    "#depth first search (dfs) and bsf [these topics see youself]"
   ]
  },
  {
   "cell_type": "code",
   "execution_count": 50,
   "id": "0da42bfb-4170-4802-aefc-958d93397983",
   "metadata": {},
   "outputs": [],
   "source": [
    "def addList(li):\n",
    "    print(li)\n",
    "    if type(li) is int:\n",
    "        return li\n",
    "    elif len(li)==0:\n",
    "        return 0\n",
    "    abc= addList(li[0])+addList(li[1:])\n",
    "    print(li[0])\n",
    "    return abc"
   ]
  },
  {
   "cell_type": "code",
   "execution_count": 49,
   "id": "ea66f006-0e0b-4d85-8c92-82ab51b66513",
   "metadata": {},
   "outputs": [
    {
     "name": "stdout",
     "output_type": "stream",
     "text": [
      "[1, 2, 3, [7, 8, 9, 5], 4, 5, 7]\n",
      "1\n",
      "[2, 3, [7, 8, 9, 5], 4, 5, 7]\n",
      "2\n",
      "[3, [7, 8, 9, 5], 4, 5, 7]\n",
      "3\n",
      "[[7, 8, 9, 5], 4, 5, 7]\n",
      "[7, 8, 9, 5]\n",
      "7\n",
      "[8, 9, 5]\n",
      "8\n",
      "[9, 5]\n",
      "9\n",
      "[5]\n",
      "5\n",
      "[]\n",
      "5\n",
      "9\n",
      "8\n",
      "7\n",
      "[4, 5, 7]\n",
      "4\n",
      "[5, 7]\n",
      "5\n",
      "[7]\n",
      "7\n",
      "[]\n",
      "7\n",
      "5\n",
      "4\n",
      "[7, 8, 9, 5]\n",
      "3\n",
      "2\n",
      "1\n"
     ]
    },
    {
     "data": {
      "text/plain": [
       "51"
      ]
     },
     "execution_count": 49,
     "metadata": {},
     "output_type": "execute_result"
    }
   ],
   "source": [
    "addList([1,2,3,[7,8,9,5],4,5,7])"
   ]
  },
  {
   "cell_type": "code",
   "execution_count": null,
   "id": "d239ee15-9be9-4cd9-ba18-f13a770a56a2",
   "metadata": {},
   "outputs": [],
   "source": []
  }
 ],
 "metadata": {
  "kernelspec": {
   "display_name": "Python [conda env:base] *",
   "language": "python",
   "name": "conda-base-py"
  },
  "language_info": {
   "codemirror_mode": {
    "name": "ipython",
    "version": 3
   },
   "file_extension": ".py",
   "mimetype": "text/x-python",
   "name": "python",
   "nbconvert_exporter": "python",
   "pygments_lexer": "ipython3",
   "version": "3.13.5"
  }
 },
 "nbformat": 4,
 "nbformat_minor": 5
}
