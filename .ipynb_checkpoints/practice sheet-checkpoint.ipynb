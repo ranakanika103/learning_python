{
 "cells": [
  {
   "cell_type": "code",
   "execution_count": 1,
   "id": "37e05b37-6b85-447f-ae20-d963794ff47e",
   "metadata": {},
   "outputs": [],
   "source": [
    "a=\"PythonIndexingIsFun\""
   ]
  },
  {
   "cell_type": "code",
   "execution_count": 2,
   "id": "b28b121f-3551-4b9d-9169-03b98d01a086",
   "metadata": {},
   "outputs": [
    {
     "data": {
      "text/plain": [
       "'PythonIndexingIsFun'"
      ]
     },
     "execution_count": 2,
     "metadata": {},
     "output_type": "execute_result"
    }
   ],
   "source": [
    "a"
   ]
  },
  {
   "cell_type": "code",
   "execution_count": 3,
   "id": "9d4659a3-73e6-409f-a97d-ebf77bc737ab",
   "metadata": {},
   "outputs": [
    {
     "data": {
      "text/plain": [
       "'P'"
      ]
     },
     "execution_count": 3,
     "metadata": {},
     "output_type": "execute_result"
    }
   ],
   "source": [
    "a[0]"
   ]
  },
  {
   "cell_type": "code",
   "execution_count": 4,
   "id": "39143423-3a83-472d-8216-3b34b3a569d6",
   "metadata": {},
   "outputs": [
    {
     "data": {
      "text/plain": [
       "'n'"
      ]
     },
     "execution_count": 4,
     "metadata": {},
     "output_type": "execute_result"
    }
   ],
   "source": [
    "a[-1]"
   ]
  },
  {
   "cell_type": "code",
   "execution_count": 81,
   "id": "76cd8506-a1ff-4da0-a4d7-e3d366e60143",
   "metadata": {},
   "outputs": [
    {
     "data": {
      "text/plain": [
       "'I'"
      ]
     },
     "execution_count": 81,
     "metadata": {},
     "output_type": "execute_result"
    }
   ],
   "source": [
    "a[6]"
   ]
  },
  {
   "cell_type": "code",
   "execution_count": 7,
   "id": "c2478879-4bf3-4c7b-b638-6ebb91e044b2",
   "metadata": {},
   "outputs": [
    {
     "data": {
      "text/plain": [
       "'u'"
      ]
     },
     "execution_count": 7,
     "metadata": {},
     "output_type": "execute_result"
    }
   ],
   "source": [
    "a[-2]"
   ]
  },
  {
   "cell_type": "code",
   "execution_count": 8,
   "id": "244209d2-4db8-4530-9358-c4545e8c46c8",
   "metadata": {},
   "outputs": [
    {
     "data": {
      "text/plain": [
       "'Python'"
      ]
     },
     "execution_count": 8,
     "metadata": {},
     "output_type": "execute_result"
    }
   ],
   "source": [
    "a[0:6]"
   ]
  },
  {
   "cell_type": "code",
   "execution_count": 9,
   "id": "d4197746-6b3b-44d0-b0ac-82d751921b0c",
   "metadata": {},
   "outputs": [
    {
     "data": {
      "text/plain": [
       "'Indexing'"
      ]
     },
     "execution_count": 9,
     "metadata": {},
     "output_type": "execute_result"
    }
   ],
   "source": [
    "a[6:14]"
   ]
  },
  {
   "cell_type": "code",
   "execution_count": 10,
   "id": "e83ef973-3cfd-437a-bf97-bc0ab3bdb92d",
   "metadata": {},
   "outputs": [
    {
     "data": {
      "text/plain": [
       "'IsFun'"
      ]
     },
     "execution_count": 10,
     "metadata": {},
     "output_type": "execute_result"
    }
   ],
   "source": [
    "a[14:19]"
   ]
  },
  {
   "cell_type": "code",
   "execution_count": 11,
   "id": "031b561a-c441-497d-a47b-b2d5983cf207",
   "metadata": {},
   "outputs": [
    {
     "data": {
      "text/plain": [
       "'PythonIndexingIsFun'"
      ]
     },
     "execution_count": 11,
     "metadata": {},
     "output_type": "execute_result"
    }
   ],
   "source": [
    "a[0:]"
   ]
  },
  {
   "cell_type": "code",
   "execution_count": 15,
   "id": "03a2eba8-8cc9-4cd2-b6d5-63a9f2f64595",
   "metadata": {},
   "outputs": [
    {
     "data": {
      "text/plain": [
       "'nuFsIgnixednInohtyP'"
      ]
     },
     "execution_count": 15,
     "metadata": {},
     "output_type": "execute_result"
    }
   ],
   "source": [
    "a[::-1]"
   ]
  },
  {
   "cell_type": "code",
   "execution_count": 16,
   "id": "964df412-bb7c-4e9c-af3f-9ac114a050e2",
   "metadata": {},
   "outputs": [],
   "source": [
    "n=[10, 20, 30, 40, 50, 60]"
   ]
  },
  {
   "cell_type": "code",
   "execution_count": 17,
   "id": "e190033c-711e-48da-99c2-b3b566716c52",
   "metadata": {},
   "outputs": [
    {
     "data": {
      "text/plain": [
       "[10, 20, 30, 40, 50, 60]"
      ]
     },
     "execution_count": 17,
     "metadata": {},
     "output_type": "execute_result"
    }
   ],
   "source": [
    "n"
   ]
  },
  {
   "cell_type": "code",
   "execution_count": 18,
   "id": "d1a07afb-38f3-44d9-a1cb-a2e1b631baf7",
   "metadata": {},
   "outputs": [
    {
     "data": {
      "text/plain": [
       "30"
      ]
     },
     "execution_count": 18,
     "metadata": {},
     "output_type": "execute_result"
    }
   ],
   "source": [
    "n[2]"
   ]
  },
  {
   "cell_type": "code",
   "execution_count": 19,
   "id": "759c9a1d-dca6-4657-a170-5489afd412ad",
   "metadata": {},
   "outputs": [
    {
     "data": {
      "text/plain": [
       "60"
      ]
     },
     "execution_count": 19,
     "metadata": {},
     "output_type": "execute_result"
    }
   ],
   "source": [
    "n[5]"
   ]
  },
  {
   "cell_type": "code",
   "execution_count": 20,
   "id": "b264ce12-3604-41c3-ad2e-6886c324dade",
   "metadata": {},
   "outputs": [
    {
     "data": {
      "text/plain": [
       "50"
      ]
     },
     "execution_count": 20,
     "metadata": {},
     "output_type": "execute_result"
    }
   ],
   "source": [
    "n[4]"
   ]
  },
  {
   "cell_type": "code",
   "execution_count": 21,
   "id": "950ceb8b-b624-4566-9f88-67bf62731b39",
   "metadata": {},
   "outputs": [
    {
     "data": {
      "text/plain": [
       "[20, 30, 40]"
      ]
     },
     "execution_count": 21,
     "metadata": {},
     "output_type": "execute_result"
    }
   ],
   "source": [
    "n[1:4]"
   ]
  },
  {
   "cell_type": "code",
   "execution_count": 22,
   "id": "771ee367-1166-44ca-9a88-d7d7ccb34d23",
   "metadata": {},
   "outputs": [
    {
     "data": {
      "text/plain": [
       "[10, 30, 50]"
      ]
     },
     "execution_count": 22,
     "metadata": {},
     "output_type": "execute_result"
    }
   ],
   "source": [
    "n[0:5:2]"
   ]
  },
  {
   "cell_type": "code",
   "execution_count": 23,
   "id": "614f2569-4f0b-4893-9ffe-92b33cf6ad5e",
   "metadata": {},
   "outputs": [
    {
     "data": {
      "text/plain": [
       "[60, 50, 40, 30, 20, 10]"
      ]
     },
     "execution_count": 23,
     "metadata": {},
     "output_type": "execute_result"
    }
   ],
   "source": [
    "n[::-1]"
   ]
  },
  {
   "cell_type": "code",
   "execution_count": 24,
   "id": "f4228b6f-ff19-4494-a56d-c2a0a26f67a5",
   "metadata": {},
   "outputs": [],
   "source": [
    "t=\"abcdefghij\""
   ]
  },
  {
   "cell_type": "code",
   "execution_count": 25,
   "id": "3e664b96-e538-4898-ab50-f5865676997a",
   "metadata": {},
   "outputs": [
    {
     "data": {
      "text/plain": [
       "'abcdefghij'"
      ]
     },
     "execution_count": 25,
     "metadata": {},
     "output_type": "execute_result"
    }
   ],
   "source": [
    "t"
   ]
  },
  {
   "cell_type": "code",
   "execution_count": 26,
   "id": "f4fcafa3-3764-4816-b12d-20c99e819bb1",
   "metadata": {},
   "outputs": [
    {
     "data": {
      "text/plain": [
       "'acegi'"
      ]
     },
     "execution_count": 26,
     "metadata": {},
     "output_type": "execute_result"
    }
   ],
   "source": [
    "t[0:11:2]"
   ]
  },
  {
   "cell_type": "code",
   "execution_count": 27,
   "id": "a92e477f-7743-4c85-abb8-9e68deeb3870",
   "metadata": {},
   "outputs": [
    {
     "data": {
      "text/plain": [
       "'beh'"
      ]
     },
     "execution_count": 27,
     "metadata": {},
     "output_type": "execute_result"
    }
   ],
   "source": [
    "t[1:11:3]"
   ]
  },
  {
   "cell_type": "code",
   "execution_count": 82,
   "id": "2e622a31-0f80-46ce-8be6-f143440ac466",
   "metadata": {},
   "outputs": [
    {
     "data": {
      "text/plain": [
       "'jihgfedcba'"
      ]
     },
     "execution_count": 82,
     "metadata": {},
     "output_type": "execute_result"
    }
   ],
   "source": [
    "t[::-1]"
   ]
  },
  {
   "cell_type": "code",
   "execution_count": 64,
   "id": "22b99237-7fb1-4ce4-90fd-0d1b9fa082c2",
   "metadata": {},
   "outputs": [],
   "source": [
    "info=(\"maths\" , \"science\" , \"english\" , \"history\")"
   ]
  },
  {
   "cell_type": "code",
   "execution_count": 66,
   "id": "091caab8-2675-406b-8a40-99d6d31c31f1",
   "metadata": {},
   "outputs": [
    {
     "data": {
      "text/plain": [
       "('maths', 'science', 'english', 'history')"
      ]
     },
     "execution_count": 66,
     "metadata": {},
     "output_type": "execute_result"
    }
   ],
   "source": [
    "info"
   ]
  },
  {
   "cell_type": "code",
   "execution_count": 83,
   "id": "fb30eeb7-6659-420d-a5a3-c38ee8e33e58",
   "metadata": {},
   "outputs": [
    {
     "data": {
      "text/plain": [
       "('maths', 'history')"
      ]
     },
     "execution_count": 83,
     "metadata": {},
     "output_type": "execute_result"
    }
   ],
   "source": [
    "info[0],info[-1]"
   ]
  },
  {
   "cell_type": "code",
   "execution_count": 69,
   "id": "e95e9811-2412-45cb-878b-80550180dc5a",
   "metadata": {},
   "outputs": [
    {
     "data": {
      "text/plain": [
       "('science', 'english')"
      ]
     },
     "execution_count": 69,
     "metadata": {},
     "output_type": "execute_result"
    }
   ],
   "source": [
    "info[1:-1]"
   ]
  },
  {
   "cell_type": "code",
   "execution_count": 87,
   "id": "6810e1b8-127a-44e2-84a8-3717de9678d5",
   "metadata": {},
   "outputs": [],
   "source": [
    "fruits=['apple', 'banana', 'cherry', 'date']"
   ]
  },
  {
   "cell_type": "code",
   "execution_count": 88,
   "id": "70bc2ce0-3d27-4f58-a52a-c708b17ec973",
   "metadata": {},
   "outputs": [
    {
     "data": {
      "text/plain": [
       "['apple', 'banana', 'cherry', 'date']"
      ]
     },
     "execution_count": 88,
     "metadata": {},
     "output_type": "execute_result"
    }
   ],
   "source": [
    "fruits"
   ]
  },
  {
   "cell_type": "code",
   "execution_count": 92,
   "id": "0ca48356-dadb-4d85-a931-4efc0ecdbef3",
   "metadata": {},
   "outputs": [
    {
     "name": "stdout",
     "output_type": "stream",
     "text": [
      "Index0:apple\n",
      "Index1:banana\n",
      "Index2:cherry\n",
      "Index3:date\n"
     ]
    }
   ],
   "source": [
    "for index, value in enumerate(fruits):\n",
    "    print(f\"Index{index}:{value}\")"
   ]
  },
  {
   "cell_type": "code",
   "execution_count": 86,
   "id": "5f18ab13-1ad5-4b55-8b87-6e13f03d6d72",
   "metadata": {},
   "outputs": [
    {
     "data": {
      "text/plain": [
       "'banana'"
      ]
     },
     "execution_count": 86,
     "metadata": {},
     "output_type": "execute_result"
    }
   ],
   "source": [
    "f[1]"
   ]
  },
  {
   "cell_type": "markdown",
   "id": "58807043-9e4f-4ac3-b492-5e33381f8bc4",
   "metadata": {},
   "source": [
    "# complex"
   ]
  },
  {
   "cell_type": "code",
   "execution_count": 4,
   "id": "dfeca566-d5b4-4e00-8271-c73950534583",
   "metadata": {},
   "outputs": [],
   "source": [
    "a=3+2j"
   ]
  },
  {
   "cell_type": "code",
   "execution_count": 5,
   "id": "3b1ad4ea-7795-48b7-b6b2-3930336c403e",
   "metadata": {},
   "outputs": [
    {
     "data": {
      "text/plain": [
       "complex"
      ]
     },
     "execution_count": 5,
     "metadata": {},
     "output_type": "execute_result"
    }
   ],
   "source": [
    "type(a)"
   ]
  },
  {
   "cell_type": "code",
   "execution_count": 6,
   "id": "901c96a4-7eb8-47aa-8557-ae51b50bba11",
   "metadata": {},
   "outputs": [
    {
     "data": {
      "text/plain": [
       "(3+2j)"
      ]
     },
     "execution_count": 6,
     "metadata": {},
     "output_type": "execute_result"
    }
   ],
   "source": [
    "a"
   ]
  },
  {
   "cell_type": "code",
   "execution_count": 7,
   "id": "71d250f1-95ab-466f-a0dd-f8d7fa378cb9",
   "metadata": {},
   "outputs": [
    {
     "name": "stdout",
     "output_type": "stream",
     "text": [
      "(3+2j)\n"
     ]
    }
   ],
   "source": [
    "print(a)"
   ]
  },
  {
   "cell_type": "code",
   "execution_count": 8,
   "id": "88153ada-5118-46b2-b467-445656d63f0d",
   "metadata": {},
   "outputs": [
    {
     "name": "stdout",
     "output_type": "stream",
     "text": [
      "<class 'complex'>\n"
     ]
    }
   ],
   "source": [
    "print(type(a))"
   ]
  },
  {
   "cell_type": "code",
   "execution_count": 9,
   "id": "03f7f99e-4588-49e4-a273-9dd3787175bc",
   "metadata": {},
   "outputs": [],
   "source": [
    "a=complex(3,4)"
   ]
  },
  {
   "cell_type": "code",
   "execution_count": 10,
   "id": "f6cfed17-2086-4a51-b759-d5c946f8088d",
   "metadata": {},
   "outputs": [
    {
     "name": "stdout",
     "output_type": "stream",
     "text": [
      "(3+4j)\n"
     ]
    }
   ],
   "source": [
    "print(a)"
   ]
  },
  {
   "cell_type": "code",
   "execution_count": 11,
   "id": "4a5cf908-6d0a-4755-993d-928950ce09d1",
   "metadata": {},
   "outputs": [],
   "source": [
    "#arithmetic with complex numbers\n",
    "a=2+3j\n",
    "b=1-4j"
   ]
  },
  {
   "cell_type": "code",
   "execution_count": 12,
   "id": "5ea4ba40-2660-44e9-a6d8-b772dee2f1a7",
   "metadata": {},
   "outputs": [
    {
     "data": {
      "text/plain": [
       "(3-1j)"
      ]
     },
     "execution_count": 12,
     "metadata": {},
     "output_type": "execute_result"
    }
   ],
   "source": [
    "a+b"
   ]
  },
  {
   "cell_type": "code",
   "execution_count": 13,
   "id": "3a6bb197-1732-4777-9514-71e29f77da2a",
   "metadata": {},
   "outputs": [
    {
     "data": {
      "text/plain": [
       "(1+7j)"
      ]
     },
     "execution_count": 13,
     "metadata": {},
     "output_type": "execute_result"
    }
   ],
   "source": [
    "a-b"
   ]
  },
  {
   "cell_type": "code",
   "execution_count": 14,
   "id": "1c495c44-ef79-4fc6-81ba-ef86b5592e4a",
   "metadata": {},
   "outputs": [
    {
     "data": {
      "text/plain": [
       "(14-5j)"
      ]
     },
     "execution_count": 14,
     "metadata": {},
     "output_type": "execute_result"
    }
   ],
   "source": [
    "a*b"
   ]
  },
  {
   "cell_type": "code",
   "execution_count": 15,
   "id": "db1dcfbe-af79-49e5-9910-d7133ecb8f4f",
   "metadata": {},
   "outputs": [
    {
     "data": {
      "text/plain": [
       "(-0.5882352941176471+0.6470588235294118j)"
      ]
     },
     "execution_count": 15,
     "metadata": {},
     "output_type": "execute_result"
    }
   ],
   "source": [
    "a/b"
   ]
  },
  {
   "cell_type": "code",
   "execution_count": 18,
   "id": "71aa603e-4472-4c02-9cac-6631b0fc708d",
   "metadata": {},
   "outputs": [],
   "source": [
    "# conjugate of a complex numbers\n",
    "a=3+4j"
   ]
  },
  {
   "cell_type": "code",
   "execution_count": 20,
   "id": "c91d8e9e-732e-4a18-ac22-eef83982522d",
   "metadata": {},
   "outputs": [
    {
     "data": {
      "text/plain": [
       "(3-4j)"
      ]
     },
     "execution_count": 20,
     "metadata": {},
     "output_type": "execute_result"
    }
   ],
   "source": [
    "a.conjugate()"
   ]
  },
  {
   "cell_type": "code",
   "execution_count": 21,
   "id": "dde5de56-f2ad-4193-ade8-a775c8ba67e1",
   "metadata": {},
   "outputs": [],
   "source": [
    "# modules(absolute value) it means to find the underroot or to get magnitude of a complex number\n",
    "a=3+4j\n"
   ]
  },
  {
   "cell_type": "code",
   "execution_count": 24,
   "id": "5c564cbd-b219-4c8d-9a44-dcf86f711260",
   "metadata": {},
   "outputs": [
    {
     "data": {
      "text/plain": [
       "5.0"
      ]
     },
     "execution_count": 24,
     "metadata": {},
     "output_type": "execute_result"
    }
   ],
   "source": [
    "#(3^2 + 4^2)^1/2 = 5\n",
    "abs(a)"
   ]
  },
  {
   "cell_type": "code",
   "execution_count": 25,
   "id": "794c77ce-3f38-4ed4-90dc-49a77e699b51",
   "metadata": {},
   "outputs": [],
   "source": [
    "# using cmath Module(for advanced operations) python cmath built for complex math function\n",
    "import cmath"
   ]
  },
  {
   "cell_type": "code",
   "execution_count": 36,
   "id": "b6e1c3f9-1871-4345-a2ea-d6707eae69f8",
   "metadata": {},
   "outputs": [],
   "source": [
    "z=1+2j"
   ]
  },
  {
   "cell_type": "code",
   "execution_count": 37,
   "id": "8203257b-1481-4002-9bcc-c15941d5b1f3",
   "metadata": {},
   "outputs": [
    {
     "data": {
      "text/plain": [
       "(1.272019649514069+0.7861513777574233j)"
      ]
     },
     "execution_count": 37,
     "metadata": {},
     "output_type": "execute_result"
    }
   ],
   "source": [
    "cmath.sqrt(z)"
   ]
  },
  {
   "cell_type": "markdown",
   "id": "c9f17740-b4e2-405c-86cd-575ecba79052",
   "metadata": {},
   "source": [
    "# numbers and variables"
   ]
  },
  {
   "cell_type": "code",
   "execution_count": 7,
   "id": "fa675047-629d-4604-9d88-709b5b32fb2c",
   "metadata": {},
   "outputs": [],
   "source": [
    "a=20"
   ]
  },
  {
   "cell_type": "code",
   "execution_count": 8,
   "id": "51b0abf1-fb31-4c2c-99b8-c0c7f2e8dc5c",
   "metadata": {},
   "outputs": [
    {
     "data": {
      "text/plain": [
       "int"
      ]
     },
     "execution_count": 8,
     "metadata": {},
     "output_type": "execute_result"
    }
   ],
   "source": [
    "type(a)"
   ]
  },
  {
   "cell_type": "code",
   "execution_count": 74,
   "id": "87e5c560-246d-4344-95b8-44bff95f2d3f",
   "metadata": {},
   "outputs": [],
   "source": [
    "b=(20.6//2)"
   ]
  },
  {
   "cell_type": "code",
   "execution_count": 75,
   "id": "0e3a7879-5390-4ae1-b503-acd54bf269b5",
   "metadata": {},
   "outputs": [
    {
     "data": {
      "text/plain": [
       "10.0"
      ]
     },
     "execution_count": 75,
     "metadata": {},
     "output_type": "execute_result"
    }
   ],
   "source": [
    "b"
   ]
  },
  {
   "cell_type": "code",
   "execution_count": 76,
   "id": "f2d4cf5f-c0c4-443b-8c7e-4af3eba1c4b8",
   "metadata": {},
   "outputs": [
    {
     "data": {
      "text/plain": [
       "float"
      ]
     },
     "execution_count": 76,
     "metadata": {},
     "output_type": "execute_result"
    }
   ],
   "source": [
    "type(b)"
   ]
  },
  {
   "cell_type": "code",
   "execution_count": 14,
   "id": "17ae1987-bb94-4579-b06b-25a2d36a0da9",
   "metadata": {},
   "outputs": [],
   "source": [
    "c=3+6j"
   ]
  },
  {
   "cell_type": "code",
   "execution_count": 15,
   "id": "70c7e8c3-e038-4163-9bfc-14ef96c0f266",
   "metadata": {},
   "outputs": [
    {
     "data": {
      "text/plain": [
       "complex"
      ]
     },
     "execution_count": 15,
     "metadata": {},
     "output_type": "execute_result"
    }
   ],
   "source": [
    "type(c)"
   ]
  },
  {
   "cell_type": "code",
   "execution_count": 16,
   "id": "d44f38e3-7d4f-4d67-be7a-a8f02f0ebed2",
   "metadata": {},
   "outputs": [],
   "source": [
    "d=\"67\""
   ]
  },
  {
   "cell_type": "code",
   "execution_count": 17,
   "id": "719063c7-4033-43a3-a447-263615ace554",
   "metadata": {},
   "outputs": [
    {
     "data": {
      "text/plain": [
       "str"
      ]
     },
     "execution_count": 17,
     "metadata": {},
     "output_type": "execute_result"
    }
   ],
   "source": [
    "type(d)"
   ]
  },
  {
   "cell_type": "code",
   "execution_count": 18,
   "id": "52a1047d-15cc-4552-ba3f-194d1c9b35f4",
   "metadata": {},
   "outputs": [],
   "source": [
    "e=(23>30)&(48>23)"
   ]
  },
  {
   "cell_type": "code",
   "execution_count": 19,
   "id": "96d7558f-b3a3-4a29-9d2a-b3cfe607bd9b",
   "metadata": {},
   "outputs": [
    {
     "data": {
      "text/plain": [
       "False"
      ]
     },
     "execution_count": 19,
     "metadata": {},
     "output_type": "execute_result"
    }
   ],
   "source": [
    "e"
   ]
  },
  {
   "cell_type": "code",
   "execution_count": 20,
   "id": "a004172b-ec9e-435e-a41f-5befd5ae6d60",
   "metadata": {},
   "outputs": [],
   "source": [
    "e=(23>30)|(48>23)"
   ]
  },
  {
   "cell_type": "code",
   "execution_count": 21,
   "id": "29b58a3a-edd2-4763-a2f6-d7f82499b48e",
   "metadata": {},
   "outputs": [
    {
     "data": {
      "text/plain": [
       "True"
      ]
     },
     "execution_count": 21,
     "metadata": {},
     "output_type": "execute_result"
    }
   ],
   "source": [
    "e"
   ]
  },
  {
   "cell_type": "code",
   "execution_count": 23,
   "id": "9f0bee9f-4ee8-41ff-ad34-8a81f672f3a1",
   "metadata": {},
   "outputs": [
    {
     "data": {
      "text/plain": [
       "int"
      ]
     },
     "execution_count": 23,
     "metadata": {},
     "output_type": "execute_result"
    }
   ],
   "source": [
    "type(a)"
   ]
  },
  {
   "cell_type": "code",
   "execution_count": 77,
   "id": "d4fef42e-3bc7-450f-95ed-7cb803303185",
   "metadata": {},
   "outputs": [
    {
     "data": {
      "text/plain": [
       "float"
      ]
     },
     "execution_count": 77,
     "metadata": {},
     "output_type": "execute_result"
    }
   ],
   "source": [
    "type(b)"
   ]
  },
  {
   "cell_type": "code",
   "execution_count": 25,
   "id": "1b1d10ef-9c80-48cf-a8d4-30d9eaccb052",
   "metadata": {},
   "outputs": [
    {
     "data": {
      "text/plain": [
       "complex"
      ]
     },
     "execution_count": 25,
     "metadata": {},
     "output_type": "execute_result"
    }
   ],
   "source": [
    "type(c)"
   ]
  },
  {
   "cell_type": "code",
   "execution_count": 26,
   "id": "e52c3337-7d3c-41de-99ab-0789cca74da0",
   "metadata": {},
   "outputs": [
    {
     "data": {
      "text/plain": [
       "str"
      ]
     },
     "execution_count": 26,
     "metadata": {},
     "output_type": "execute_result"
    }
   ],
   "source": [
    "type(d)"
   ]
  },
  {
   "cell_type": "code",
   "execution_count": 27,
   "id": "be4e51d8-01a7-4bec-986b-a97d3f58ffc4",
   "metadata": {},
   "outputs": [
    {
     "data": {
      "text/plain": [
       "bool"
      ]
     },
     "execution_count": 27,
     "metadata": {},
     "output_type": "execute_result"
    }
   ],
   "source": [
    "type(e)"
   ]
  },
  {
   "cell_type": "code",
   "execution_count": 34,
   "id": "3d551c7c-1559-45ce-a70c-f620fd837ae4",
   "metadata": {},
   "outputs": [],
   "source": [
    "x=15"
   ]
  },
  {
   "cell_type": "code",
   "execution_count": 35,
   "id": "64a4d7f2-a4df-423a-b821-b1e6b55e1963",
   "metadata": {},
   "outputs": [],
   "source": [
    "y=4"
   ]
  },
  {
   "cell_type": "code",
   "execution_count": 36,
   "id": "1aec614d-99d2-4963-973e-ecb12939c2a1",
   "metadata": {},
   "outputs": [
    {
     "data": {
      "text/plain": [
       "19"
      ]
     },
     "execution_count": 36,
     "metadata": {},
     "output_type": "execute_result"
    }
   ],
   "source": [
    "x+y"
   ]
  },
  {
   "cell_type": "code",
   "execution_count": 37,
   "id": "c1e7ac8f-fab3-46f2-87bc-7bb3a6d86a0d",
   "metadata": {},
   "outputs": [
    {
     "data": {
      "text/plain": [
       "11"
      ]
     },
     "execution_count": 37,
     "metadata": {},
     "output_type": "execute_result"
    }
   ],
   "source": [
    "x-y"
   ]
  },
  {
   "cell_type": "code",
   "execution_count": 38,
   "id": "a073a13f-622e-49fe-abac-11da1e8d36c8",
   "metadata": {},
   "outputs": [
    {
     "data": {
      "text/plain": [
       "60"
      ]
     },
     "execution_count": 38,
     "metadata": {},
     "output_type": "execute_result"
    }
   ],
   "source": [
    "x*y"
   ]
  },
  {
   "cell_type": "code",
   "execution_count": 39,
   "id": "a3eed83d-b493-46f6-bb2e-9e587c506a72",
   "metadata": {},
   "outputs": [
    {
     "data": {
      "text/plain": [
       "3.75"
      ]
     },
     "execution_count": 39,
     "metadata": {},
     "output_type": "execute_result"
    }
   ],
   "source": [
    "x/y"
   ]
  },
  {
   "cell_type": "code",
   "execution_count": 40,
   "id": "4890e529-3ce7-4442-a8d9-3e571ab61132",
   "metadata": {},
   "outputs": [
    {
     "data": {
      "text/plain": [
       "3"
      ]
     },
     "execution_count": 40,
     "metadata": {},
     "output_type": "execute_result"
    }
   ],
   "source": [
    "x//y"
   ]
  },
  {
   "cell_type": "code",
   "execution_count": 41,
   "id": "7dac1c02-64b4-433d-9f3e-3bc099d7b60c",
   "metadata": {},
   "outputs": [
    {
     "data": {
      "text/plain": [
       "3"
      ]
     },
     "execution_count": 41,
     "metadata": {},
     "output_type": "execute_result"
    }
   ],
   "source": [
    "x%y"
   ]
  },
  {
   "cell_type": "code",
   "execution_count": 42,
   "id": "f855b83a-8770-4d4c-9dd5-4eca31349dec",
   "metadata": {},
   "outputs": [
    {
     "data": {
      "text/plain": [
       "50625"
      ]
     },
     "execution_count": 42,
     "metadata": {},
     "output_type": "execute_result"
    }
   ],
   "source": [
    "x**y"
   ]
  },
  {
   "cell_type": "code",
   "execution_count": 62,
   "id": "bf9869a5-3e81-4bce-9efb-f521de05b157",
   "metadata": {},
   "outputs": [],
   "source": [
    "x=10"
   ]
  },
  {
   "cell_type": "code",
   "execution_count": 63,
   "id": "3b533b79-cf46-41dd-ba66-69ea5142e9da",
   "metadata": {},
   "outputs": [
    {
     "data": {
      "text/plain": [
       "10"
      ]
     },
     "execution_count": 63,
     "metadata": {},
     "output_type": "execute_result"
    }
   ],
   "source": [
    "x"
   ]
  },
  {
   "cell_type": "code",
   "execution_count": 64,
   "id": "5d293063-793c-4a12-aec7-c8e6f703a9f5",
   "metadata": {},
   "outputs": [],
   "source": [
    "x+=2"
   ]
  },
  {
   "cell_type": "code",
   "execution_count": 65,
   "id": "aa5666b5-4d12-4f69-95fd-242ed76f9c02",
   "metadata": {},
   "outputs": [
    {
     "data": {
      "text/plain": [
       "12"
      ]
     },
     "execution_count": 65,
     "metadata": {},
     "output_type": "execute_result"
    }
   ],
   "source": [
    "x"
   ]
  },
  {
   "cell_type": "code",
   "execution_count": 66,
   "id": "a8ca9baa-15e1-42bc-81f7-28d3532abc44",
   "metadata": {},
   "outputs": [],
   "source": [
    "x-=4"
   ]
  },
  {
   "cell_type": "code",
   "execution_count": 67,
   "id": "0c115e7d-2812-4841-99ec-c72537e8e191",
   "metadata": {},
   "outputs": [
    {
     "data": {
      "text/plain": [
       "8"
      ]
     },
     "execution_count": 67,
     "metadata": {},
     "output_type": "execute_result"
    }
   ],
   "source": [
    "x"
   ]
  },
  {
   "cell_type": "code",
   "execution_count": 68,
   "id": "a58deb29-d8d4-4b17-9a5b-74be0c8f7a1c",
   "metadata": {},
   "outputs": [],
   "source": [
    "x*=2"
   ]
  },
  {
   "cell_type": "code",
   "execution_count": 69,
   "id": "3569101a-2512-4e67-8d2b-7d788b4948e3",
   "metadata": {},
   "outputs": [
    {
     "data": {
      "text/plain": [
       "16"
      ]
     },
     "execution_count": 69,
     "metadata": {},
     "output_type": "execute_result"
    }
   ],
   "source": [
    "x"
   ]
  },
  {
   "cell_type": "code",
   "execution_count": 70,
   "id": "e7f3cd55-bca2-4362-b3b4-24d757e4a4df",
   "metadata": {},
   "outputs": [],
   "source": [
    "x**=2"
   ]
  },
  {
   "cell_type": "code",
   "execution_count": 71,
   "id": "f14373e5-1f8c-4f20-a824-53f788181b25",
   "metadata": {},
   "outputs": [
    {
     "data": {
      "text/plain": [
       "256"
      ]
     },
     "execution_count": 71,
     "metadata": {},
     "output_type": "execute_result"
    }
   ],
   "source": [
    "x"
   ]
  },
  {
   "cell_type": "code",
   "execution_count": 72,
   "id": "db30cd81-433e-4cd5-a188-42f1d99d7780",
   "metadata": {},
   "outputs": [],
   "source": [
    "x//=2"
   ]
  },
  {
   "cell_type": "code",
   "execution_count": 73,
   "id": "65a73919-b662-4512-a83d-70f3aad30750",
   "metadata": {},
   "outputs": [
    {
     "data": {
      "text/plain": [
       "128"
      ]
     },
     "execution_count": 73,
     "metadata": {},
     "output_type": "execute_result"
    }
   ],
   "source": [
    "x"
   ]
  },
  {
   "cell_type": "code",
   "execution_count": 78,
   "id": "25ad88a0-bac3-4bc0-8c61-2711e754069c",
   "metadata": {},
   "outputs": [],
   "source": [
    "x=12.6"
   ]
  },
  {
   "cell_type": "code",
   "execution_count": 79,
   "id": "ec1abe6e-414a-4752-921a-9906e2e4b491",
   "metadata": {},
   "outputs": [
    {
     "data": {
      "text/plain": [
       "float"
      ]
     },
     "execution_count": 79,
     "metadata": {},
     "output_type": "execute_result"
    }
   ],
   "source": [
    "type(x)"
   ]
  },
  {
   "cell_type": "code",
   "execution_count": 83,
   "id": "76f3fe6c-c61e-4885-bf0e-2ef044c79921",
   "metadata": {},
   "outputs": [],
   "source": [
    "x=int(x)"
   ]
  },
  {
   "cell_type": "code",
   "execution_count": 84,
   "id": "f9e13e8d-fcd7-4554-882e-44024aacf64a",
   "metadata": {},
   "outputs": [
    {
     "data": {
      "text/plain": [
       "12"
      ]
     },
     "execution_count": 84,
     "metadata": {},
     "output_type": "execute_result"
    }
   ],
   "source": [
    "x"
   ]
  },
  {
   "cell_type": "code",
   "execution_count": 85,
   "id": "79315cce-14cb-49b4-af4f-530207dcf615",
   "metadata": {},
   "outputs": [
    {
     "data": {
      "text/plain": [
       "int"
      ]
     },
     "execution_count": 85,
     "metadata": {},
     "output_type": "execute_result"
    }
   ],
   "source": [
    "type(x)"
   ]
  },
  {
   "cell_type": "code",
   "execution_count": 86,
   "id": "d9d50608-a6fb-4a69-939d-5b17dba49618",
   "metadata": {},
   "outputs": [
    {
     "data": {
      "text/plain": [
       "int"
      ]
     },
     "execution_count": 86,
     "metadata": {},
     "output_type": "execute_result"
    }
   ],
   "source": [
    "y=30\n",
    "type(y)"
   ]
  },
  {
   "cell_type": "code",
   "execution_count": 87,
   "id": "517d690a-2b0e-4a9b-b434-c1422ffcd18b",
   "metadata": {},
   "outputs": [],
   "source": [
    "y=float(y)"
   ]
  },
  {
   "cell_type": "code",
   "execution_count": 88,
   "id": "d45a84d9-de03-491a-9b20-1ad2b850b44d",
   "metadata": {},
   "outputs": [
    {
     "data": {
      "text/plain": [
       "30.0"
      ]
     },
     "execution_count": 88,
     "metadata": {},
     "output_type": "execute_result"
    }
   ],
   "source": [
    "y"
   ]
  },
  {
   "cell_type": "code",
   "execution_count": 89,
   "id": "d1f4ae1f-d872-4891-bdde-2269e1528105",
   "metadata": {},
   "outputs": [
    {
     "data": {
      "text/plain": [
       "float"
      ]
     },
     "execution_count": 89,
     "metadata": {},
     "output_type": "execute_result"
    }
   ],
   "source": [
    "type(y)"
   ]
  },
  {
   "cell_type": "code",
   "execution_count": 92,
   "id": "f7b48a99-1533-483f-97e9-df329188c4a7",
   "metadata": {},
   "outputs": [
    {
     "data": {
      "text/plain": [
       "str"
      ]
     },
     "execution_count": 92,
     "metadata": {},
     "output_type": "execute_result"
    }
   ],
   "source": [
    "z=\"50\"\n",
    "type(z)"
   ]
  },
  {
   "cell_type": "code",
   "execution_count": 93,
   "id": "82384493-ee0d-4a87-8e12-572fc5fe4f08",
   "metadata": {},
   "outputs": [],
   "source": [
    "z=int(z)"
   ]
  },
  {
   "cell_type": "code",
   "execution_count": 94,
   "id": "98de83a1-3ad9-4875-a251-a7831fd92530",
   "metadata": {},
   "outputs": [
    {
     "data": {
      "text/plain": [
       "int"
      ]
     },
     "execution_count": 94,
     "metadata": {},
     "output_type": "execute_result"
    }
   ],
   "source": [
    "type(z)"
   ]
  },
  {
   "cell_type": "code",
   "execution_count": 95,
   "id": "b39e3277-8c7d-4cf2-a2fd-19b4e832cfcc",
   "metadata": {},
   "outputs": [
    {
     "data": {
      "text/plain": [
       "50"
      ]
     },
     "execution_count": 95,
     "metadata": {},
     "output_type": "execute_result"
    }
   ],
   "source": [
    "z"
   ]
  },
  {
   "cell_type": "code",
   "execution_count": 96,
   "id": "7ff1659f-ae23-4d04-b69d-e1af9a02bd86",
   "metadata": {},
   "outputs": [
    {
     "data": {
      "text/plain": [
       "int"
      ]
     },
     "execution_count": 96,
     "metadata": {},
     "output_type": "execute_result"
    }
   ],
   "source": [
    "z=69\n",
    "type(z)"
   ]
  },
  {
   "cell_type": "code",
   "execution_count": 97,
   "id": "928f19f3-f7af-4385-9607-cf2b87a4dcee",
   "metadata": {},
   "outputs": [],
   "source": [
    "z=str(z)"
   ]
  },
  {
   "cell_type": "code",
   "execution_count": 99,
   "id": "1369c23a-8f80-4a1e-8c2c-83466c41c485",
   "metadata": {},
   "outputs": [
    {
     "data": {
      "text/plain": [
       "str"
      ]
     },
     "execution_count": 99,
     "metadata": {},
     "output_type": "execute_result"
    }
   ],
   "source": [
    "type(z)"
   ]
  },
  {
   "cell_type": "code",
   "execution_count": 109,
   "id": "79f0304d-e65c-464b-a65a-5141c4755b7f",
   "metadata": {},
   "outputs": [
    {
     "name": "stdin",
     "output_type": "stream",
     "text": [
      "enter your age 47\n"
     ]
    }
   ],
   "source": [
    "age=input('enter your age')"
   ]
  },
  {
   "cell_type": "code",
   "execution_count": 110,
   "id": "a2a4fc21-8b3f-4ae6-b432-28140d66b4cd",
   "metadata": {},
   "outputs": [
    {
     "data": {
      "text/plain": [
       "str"
      ]
     },
     "execution_count": 110,
     "metadata": {},
     "output_type": "execute_result"
    }
   ],
   "source": [
    "type(age)"
   ]
  },
  {
   "cell_type": "code",
   "execution_count": 111,
   "id": "04f70a37-2454-483a-b397-29b2d1fe8394",
   "metadata": {},
   "outputs": [],
   "source": [
    "age=int(age)"
   ]
  },
  {
   "cell_type": "code",
   "execution_count": 112,
   "id": "63e3c26e-80d7-4a3d-b559-6dde0357d8ab",
   "metadata": {},
   "outputs": [
    {
     "data": {
      "text/plain": [
       "int"
      ]
     },
     "execution_count": 112,
     "metadata": {},
     "output_type": "execute_result"
    }
   ],
   "source": [
    "type(age)"
   ]
  },
  {
   "cell_type": "code",
   "execution_count": 119,
   "id": "948a3b2c-2e73-4b8a-b3ba-f1a15befc420",
   "metadata": {},
   "outputs": [
    {
     "name": "stdin",
     "output_type": "stream",
     "text": [
      "enter your height 32\n"
     ]
    }
   ],
   "source": [
    "height=input('enter your height')"
   ]
  },
  {
   "cell_type": "code",
   "execution_count": 121,
   "id": "2ca46440-886d-48ce-9ea9-d2e2ed531a48",
   "metadata": {},
   "outputs": [],
   "source": [
    "height=float(height)"
   ]
  },
  {
   "cell_type": "code",
   "execution_count": 122,
   "id": "7ace6b73-4d48-4040-b809-a48a427f8f6f",
   "metadata": {},
   "outputs": [
    {
     "data": {
      "text/plain": [
       "float"
      ]
     },
     "execution_count": 122,
     "metadata": {},
     "output_type": "execute_result"
    }
   ],
   "source": [
    "type(height)"
   ]
  },
  {
   "cell_type": "code",
   "execution_count": 124,
   "id": "155e9033-c261-41d9-b3a9-bf3cab50f48d",
   "metadata": {},
   "outputs": [
    {
     "data": {
      "text/plain": [
       "79.0"
      ]
     },
     "execution_count": 124,
     "metadata": {},
     "output_type": "execute_result"
    }
   ],
   "source": [
    "age+height"
   ]
  },
  {
   "cell_type": "code",
   "execution_count": 125,
   "id": "d8d72911-5bfd-4903-b00e-1c7bea509758",
   "metadata": {},
   "outputs": [
    {
     "data": {
      "text/plain": [
       "1504.0"
      ]
     },
     "execution_count": 125,
     "metadata": {},
     "output_type": "execute_result"
    }
   ],
   "source": [
    "age*height"
   ]
  },
  {
   "cell_type": "code",
   "execution_count": 126,
   "id": "8bd75027-2a18-4ac6-9511-ef39b051dcb4",
   "metadata": {},
   "outputs": [
    {
     "data": {
      "text/plain": [
       "float"
      ]
     },
     "execution_count": 126,
     "metadata": {},
     "output_type": "execute_result"
    }
   ],
   "source": [
    "type(age+height)"
   ]
  },
  {
   "cell_type": "code",
   "execution_count": 128,
   "id": "f39ae918-7226-422c-86a8-34f678868fbc",
   "metadata": {},
   "outputs": [],
   "source": [
    "a=2+5j"
   ]
  },
  {
   "cell_type": "code",
   "execution_count": 129,
   "id": "88252c07-a40d-4af6-875a-4c8f22446f3c",
   "metadata": {},
   "outputs": [],
   "source": [
    "b=9+5j"
   ]
  },
  {
   "cell_type": "code",
   "execution_count": 130,
   "id": "7ce2f381-3e37-47a7-8806-213416e5a9f4",
   "metadata": {},
   "outputs": [
    {
     "data": {
      "text/plain": [
       "(11+10j)"
      ]
     },
     "execution_count": 130,
     "metadata": {},
     "output_type": "execute_result"
    }
   ],
   "source": [
    "a+b"
   ]
  },
  {
   "cell_type": "code",
   "execution_count": 131,
   "id": "6d94b175-1cac-4537-8e62-d60e4f21a420",
   "metadata": {},
   "outputs": [
    {
     "data": {
      "text/plain": [
       "(-7+0j)"
      ]
     },
     "execution_count": 131,
     "metadata": {},
     "output_type": "execute_result"
    }
   ],
   "source": [
    "a-b"
   ]
  },
  {
   "cell_type": "code",
   "execution_count": 132,
   "id": "c1891833-739b-4c16-86e2-04913dfcec5a",
   "metadata": {},
   "outputs": [
    {
     "data": {
      "text/plain": [
       "complex"
      ]
     },
     "execution_count": 132,
     "metadata": {},
     "output_type": "execute_result"
    }
   ],
   "source": [
    "type(a+b)"
   ]
  },
  {
   "cell_type": "code",
   "execution_count": 133,
   "id": "18cd9ada-96f1-42fe-97e4-7b0aa65257cf",
   "metadata": {},
   "outputs": [],
   "source": [
    "x=25"
   ]
  },
  {
   "cell_type": "code",
   "execution_count": 134,
   "id": "0ec09791-720f-4e73-90cb-6ab2e36b1423",
   "metadata": {},
   "outputs": [],
   "source": [
    "y=x"
   ]
  },
  {
   "cell_type": "code",
   "execution_count": 135,
   "id": "42aa1eaf-8771-4cee-a192-9fa5a3d94033",
   "metadata": {},
   "outputs": [
    {
     "data": {
      "text/plain": [
       "25"
      ]
     },
     "execution_count": 135,
     "metadata": {},
     "output_type": "execute_result"
    }
   ],
   "source": [
    "y"
   ]
  },
  {
   "cell_type": "code",
   "execution_count": 136,
   "id": "79bf683f-29f2-48f6-a89b-cabd69ea4b9b",
   "metadata": {},
   "outputs": [
    {
     "data": {
      "text/plain": [
       "140721348130472"
      ]
     },
     "execution_count": 136,
     "metadata": {},
     "output_type": "execute_result"
    }
   ],
   "source": [
    "id(y)"
   ]
  },
  {
   "cell_type": "code",
   "execution_count": 137,
   "id": "530dfd33-5095-41b8-bd23-781ade1c5555",
   "metadata": {},
   "outputs": [
    {
     "data": {
      "text/plain": [
       "140721348130472"
      ]
     },
     "execution_count": 137,
     "metadata": {},
     "output_type": "execute_result"
    }
   ],
   "source": [
    "id(x)"
   ]
  },
  {
   "cell_type": "code",
   "execution_count": 138,
   "id": "54931802-d5ac-4a5e-98ff-8ce9a7b65472",
   "metadata": {},
   "outputs": [
    {
     "data": {
      "text/plain": [
       "'class=5'"
      ]
     },
     "execution_count": 138,
     "metadata": {},
     "output_type": "execute_result"
    }
   ],
   "source": [
    "'class=5'"
   ]
  },
  {
   "cell_type": "code",
   "execution_count": 139,
   "id": "3f964fc9-d7c8-4ceb-9e4b-6af6051ad73e",
   "metadata": {},
   "outputs": [
    {
     "name": "stdin",
     "output_type": "stream",
     "text": [
      "enter first number 32\n",
      "enter second number 22\n"
     ]
    }
   ],
   "source": [
    "num1=input(\"enter first number\")\n",
    "num2=input(\"enter second number\")"
   ]
  },
  {
   "cell_type": "code",
   "execution_count": 140,
   "id": "65bed9c0-5295-4d0e-a1df-d1cb581b4062",
   "metadata": {},
   "outputs": [],
   "source": [
    "num1=int(num1)\n",
    "num2=float(num2)"
   ]
  },
  {
   "cell_type": "code",
   "execution_count": 145,
   "id": "93375514-1484-4d27-9348-5a4e84b52b7c",
   "metadata": {},
   "outputs": [
    {
     "data": {
      "text/plain": [
       "54.0"
      ]
     },
     "execution_count": 145,
     "metadata": {},
     "output_type": "execute_result"
    }
   ],
   "source": [
    " num1+num2"
   ]
  },
  {
   "cell_type": "code",
   "execution_count": 146,
   "id": "9d1d53ec-b538-4f43-810b-e96cb593bc80",
   "metadata": {},
   "outputs": [],
   "source": [
    "#valid\n",
    "my_name=\"kanika\"\n",
    "age_25=25\n",
    "_value=100\n",
    "totalamount=500\n",
    "PI=3.14"
   ]
  },
  {
   "cell_type": "code",
   "execution_count": 147,
   "id": "d0746cf6-c1ba-4afa-97eb-6a86b7ee2488",
   "metadata": {},
   "outputs": [
    {
     "ename": "SyntaxError",
     "evalue": "invalid decimal literal (2470636442.py, line 2)",
     "output_type": "error",
     "traceback": [
      "\u001b[1;36m  Cell \u001b[1;32mIn[147], line 2\u001b[1;36m\u001b[0m\n\u001b[1;33m    2name=\"kanika\" #cannot start with a digit\u001b[0m\n\u001b[1;37m    ^\u001b[0m\n\u001b[1;31mSyntaxError\u001b[0m\u001b[1;31m:\u001b[0m invalid decimal literal\n"
     ]
    }
   ],
   "source": [
    "#invalid(will cause error)\n",
    "2name=\"kanika\" #cannot start with a digit\n",
    "my-name=\"kanika\" #hyphens not allowed\n",
    "class=10 #'class' is a python keyword\n",
    "total amount=200 #spaces not allowed\n",
    "@temp=30 #special symbols not allowed\n",
    "!hi=23 #special symbols not allowed"
   ]
  },
  {
   "cell_type": "code",
   "execution_count": 148,
   "id": "d84ff954-1e62-4297-b1eb-b016ba3f195b",
   "metadata": {},
   "outputs": [],
   "source": [
    "x=25"
   ]
  },
  {
   "cell_type": "code",
   "execution_count": 149,
   "id": "c5ca481c-1ccf-4218-81d6-c630f6833264",
   "metadata": {},
   "outputs": [
    {
     "data": {
      "text/plain": [
       "True"
      ]
     },
     "execution_count": 149,
     "metadata": {},
     "output_type": "execute_result"
    }
   ],
   "source": [
    "isinstance(x,int)"
   ]
  },
  {
   "cell_type": "code",
   "execution_count": 150,
   "id": "e35d118b-b850-4266-b56e-df28fa1def6e",
   "metadata": {},
   "outputs": [
    {
     "data": {
      "text/plain": [
       "False"
      ]
     },
     "execution_count": 150,
     "metadata": {},
     "output_type": "execute_result"
    }
   ],
   "source": [
    "isinstance(x,str)"
   ]
  },
  {
   "cell_type": "code",
   "execution_count": 151,
   "id": "f9bad242-a86c-4482-ae4b-fe02c26c7adf",
   "metadata": {},
   "outputs": [],
   "source": [
    "PI=3.45\n",
    "GRAVITY=8.42"
   ]
  },
  {
   "cell_type": "code",
   "execution_count": 155,
   "id": "10cd1df9-a8a1-4ac4-ab29-5715a6c53c60",
   "metadata": {},
   "outputs": [
    {
     "data": {
      "text/plain": [
       "3.45"
      ]
     },
     "execution_count": 155,
     "metadata": {},
     "output_type": "execute_result"
    }
   ],
   "source": [
    "PI"
   ]
  },
  {
   "cell_type": "code",
   "execution_count": 153,
   "id": "e9a77e40-c3b4-441d-b9c2-80677cc8804c",
   "metadata": {},
   "outputs": [
    {
     "data": {
      "text/plain": [
       "8.42"
      ]
     },
     "execution_count": 153,
     "metadata": {},
     "output_type": "execute_result"
    }
   ],
   "source": [
    "GRAVITY"
   ]
  },
  {
   "cell_type": "code",
   "execution_count": 156,
   "id": "e5b5d792-5100-4786-9499-398054a036f5",
   "metadata": {},
   "outputs": [],
   "source": [
    "import keyword"
   ]
  },
  {
   "cell_type": "code",
   "execution_count": 157,
   "id": "2cbbe61d-1fc4-4e74-ac6f-41e7e018286c",
   "metadata": {},
   "outputs": [
    {
     "data": {
      "text/plain": [
       "['False',\n",
       " 'None',\n",
       " 'True',\n",
       " 'and',\n",
       " 'as',\n",
       " 'assert',\n",
       " 'async',\n",
       " 'await',\n",
       " 'break',\n",
       " 'class',\n",
       " 'continue',\n",
       " 'def',\n",
       " 'del',\n",
       " 'elif',\n",
       " 'else',\n",
       " 'except',\n",
       " 'finally',\n",
       " 'for',\n",
       " 'from',\n",
       " 'global',\n",
       " 'if',\n",
       " 'import',\n",
       " 'in',\n",
       " 'is',\n",
       " 'lambda',\n",
       " 'nonlocal',\n",
       " 'not',\n",
       " 'or',\n",
       " 'pass',\n",
       " 'raise',\n",
       " 'return',\n",
       " 'try',\n",
       " 'while',\n",
       " 'with',\n",
       " 'yield']"
      ]
     },
     "execution_count": 157,
     "metadata": {},
     "output_type": "execute_result"
    }
   ],
   "source": [
    "keyword.kwlist"
   ]
  },
  {
   "cell_type": "code",
   "execution_count": 214,
   "id": "5b01e6e4-893e-4ae3-8a02-24ed7c47242a",
   "metadata": {},
   "outputs": [
    {
     "name": "stdin",
     "output_type": "stream",
     "text": [
      "enter first number 10\n",
      "enter second number 20\n",
      "enter third number 30\n"
     ]
    }
   ],
   "source": [
    "a=int(input(\"enter first number\"))\n",
    "b=int(input(\"enter second number\"))\n",
    "c=int(input(\"enter third number\"))"
   ]
  },
  {
   "cell_type": "code",
   "execution_count": 215,
   "id": "56d18f33-d395-49bb-9b55-335fc0a5a7dc",
   "metadata": {},
   "outputs": [
    {
     "data": {
      "text/plain": [
       "10"
      ]
     },
     "execution_count": 215,
     "metadata": {},
     "output_type": "execute_result"
    }
   ],
   "source": [
    "a"
   ]
  },
  {
   "cell_type": "code",
   "execution_count": 216,
   "id": "31b6c6b4-7a4a-4300-b9e3-96f595cdc162",
   "metadata": {},
   "outputs": [
    {
     "data": {
      "text/plain": [
       "20"
      ]
     },
     "execution_count": 216,
     "metadata": {},
     "output_type": "execute_result"
    }
   ],
   "source": [
    "b"
   ]
  },
  {
   "cell_type": "code",
   "execution_count": 217,
   "id": "d4519f51-c60e-434a-97c4-5905d2998162",
   "metadata": {},
   "outputs": [
    {
     "data": {
      "text/plain": [
       "30"
      ]
     },
     "execution_count": 217,
     "metadata": {},
     "output_type": "execute_result"
    }
   ],
   "source": [
    "c"
   ]
  },
  {
   "cell_type": "code",
   "execution_count": 218,
   "id": "f9a52ad4-1777-45a8-a0d4-392caca64d39",
   "metadata": {},
   "outputs": [],
   "source": [
    "a,b,c=c,a,b"
   ]
  },
  {
   "cell_type": "code",
   "execution_count": 219,
   "id": "11308611-d774-4958-a928-eae5d7e10074",
   "metadata": {},
   "outputs": [
    {
     "data": {
      "text/plain": [
       "30"
      ]
     },
     "execution_count": 219,
     "metadata": {},
     "output_type": "execute_result"
    }
   ],
   "source": [
    "a"
   ]
  },
  {
   "cell_type": "code",
   "execution_count": 220,
   "id": "7090218a-3f74-4e41-8a41-fc0d7e69e9af",
   "metadata": {},
   "outputs": [
    {
     "data": {
      "text/plain": [
       "10"
      ]
     },
     "execution_count": 220,
     "metadata": {},
     "output_type": "execute_result"
    }
   ],
   "source": [
    "b"
   ]
  },
  {
   "cell_type": "code",
   "execution_count": 221,
   "id": "ec5013d2-46fe-4572-bb1d-6731418ffa5f",
   "metadata": {},
   "outputs": [
    {
     "data": {
      "text/plain": [
       "20"
      ]
     },
     "execution_count": 221,
     "metadata": {},
     "output_type": "execute_result"
    }
   ],
   "source": [
    "c"
   ]
  },
  {
   "cell_type": "markdown",
   "id": "fc2a9b48-2061-4273-ab41-22db5c253280",
   "metadata": {},
   "source": [
    "# string"
   ]
  },
  {
   "cell_type": "code",
   "execution_count": 226,
   "id": "0e8cd84f-06e7-4599-b1f7-b81c1c987a5e",
   "metadata": {},
   "outputs": [],
   "source": [
    "word=\"ha\""
   ]
  },
  {
   "cell_type": "code",
   "execution_count": 228,
   "id": "758e4fbc-40d4-4892-80f7-cbb37ab33589",
   "metadata": {},
   "outputs": [
    {
     "data": {
      "text/plain": [
       "'hahaha'"
      ]
     },
     "execution_count": 228,
     "metadata": {},
     "output_type": "execute_result"
    }
   ],
   "source": [
    "word*3"
   ]
  },
  {
   "cell_type": "code",
   "execution_count": 234,
   "id": "38e37e91-2c09-486e-9ab2-a880ea0120a2",
   "metadata": {},
   "outputs": [
    {
     "data": {
      "text/plain": [
       "True"
      ]
     },
     "execution_count": 234,
     "metadata": {},
     "output_type": "execute_result"
    }
   ],
   "source": [
    "# string membership\n",
    "'Py' in 'Python'"
   ]
  },
  {
   "cell_type": "code",
   "execution_count": 235,
   "id": "9f0d6325-7e7a-440b-8b57-275b1850f8b6",
   "metadata": {},
   "outputs": [
    {
     "data": {
      "text/plain": [
       "False"
      ]
     },
     "execution_count": 235,
     "metadata": {},
     "output_type": "execute_result"
    }
   ],
   "source": [
    "'py' in 'java'"
   ]
  },
  {
   "cell_type": "code",
   "execution_count": 236,
   "id": "52077bb5-c249-4985-b2df-f33e9895b50b",
   "metadata": {},
   "outputs": [
    {
     "data": {
      "text/plain": [
       "True"
      ]
     },
     "execution_count": 236,
     "metadata": {},
     "output_type": "execute_result"
    }
   ],
   "source": [
    "#string comparison\n",
    "\"apple\"==\"apple\""
   ]
  },
  {
   "cell_type": "code",
   "execution_count": 237,
   "id": "c933ae96-cc67-4a87-977b-66edfa7bb999",
   "metadata": {},
   "outputs": [
    {
     "data": {
      "text/plain": [
       "False"
      ]
     },
     "execution_count": 237,
     "metadata": {},
     "output_type": "execute_result"
    }
   ],
   "source": [
    "\"apple\"==\"banana\""
   ]
  },
  {
   "cell_type": "code",
   "execution_count": 238,
   "id": "963a737a-a252-48e6-b0d5-f074ace5e397",
   "metadata": {},
   "outputs": [
    {
     "data": {
      "text/plain": [
       "False"
      ]
     },
     "execution_count": 238,
     "metadata": {},
     "output_type": "execute_result"
    }
   ],
   "source": [
    "\"apple\">\"banana\""
   ]
  },
  {
   "cell_type": "code",
   "execution_count": 239,
   "id": "c55f7895-c670-422e-bc6f-2a882f47ec8b",
   "metadata": {},
   "outputs": [
    {
     "data": {
      "text/plain": [
       "True"
      ]
     },
     "execution_count": 239,
     "metadata": {},
     "output_type": "execute_result"
    }
   ],
   "source": [
    "\"apple\"<\"banana\""
   ]
  },
  {
   "cell_type": "code",
   "execution_count": 240,
   "id": "e7099783-a8ce-4b54-ab9f-8b29c19a29c6",
   "metadata": {},
   "outputs": [],
   "source": [
    "s=\"hello\""
   ]
  },
  {
   "cell_type": "code",
   "execution_count": 241,
   "id": "262107e8-dbae-422d-8807-2b68a096dce1",
   "metadata": {},
   "outputs": [
    {
     "data": {
      "text/plain": [
       "'h'"
      ]
     },
     "execution_count": 241,
     "metadata": {},
     "output_type": "execute_result"
    }
   ],
   "source": [
    "s[0]"
   ]
  },
  {
   "cell_type": "code",
   "execution_count": 242,
   "id": "31b10b22-8c73-495d-b862-5d46272ed16a",
   "metadata": {},
   "outputs": [
    {
     "ename": "TypeError",
     "evalue": "'str' object does not support item assignment",
     "output_type": "error",
     "traceback": [
      "\u001b[1;31m---------------------------------------------------------------------------\u001b[0m",
      "\u001b[1;31mTypeError\u001b[0m                                 Traceback (most recent call last)",
      "Cell \u001b[1;32mIn[242], line 1\u001b[0m\n\u001b[1;32m----> 1\u001b[0m s[\u001b[38;5;241m0\u001b[39m]\u001b[38;5;241m=\u001b[39m\u001b[38;5;124m'\u001b[39m\u001b[38;5;124mY\u001b[39m\u001b[38;5;124m'\u001b[39m\n",
      "\u001b[1;31mTypeError\u001b[0m: 'str' object does not support item assignment"
     ]
    }
   ],
   "source": [
    "s[0]='Y'"
   ]
  },
  {
   "cell_type": "code",
   "execution_count": null,
   "id": "f274a339-509f-4fa7-b438-6ea4e9d5319d",
   "metadata": {},
   "outputs": [],
   "source": []
  }
 ],
 "metadata": {
  "kernelspec": {
   "display_name": "Python [conda env:base] *",
   "language": "python",
   "name": "conda-base-py"
  },
  "language_info": {
   "codemirror_mode": {
    "name": "ipython",
    "version": 3
   },
   "file_extension": ".py",
   "mimetype": "text/x-python",
   "name": "python",
   "nbconvert_exporter": "python",
   "pygments_lexer": "ipython3",
   "version": "3.13.5"
  }
 },
 "nbformat": 4,
 "nbformat_minor": 5
}
