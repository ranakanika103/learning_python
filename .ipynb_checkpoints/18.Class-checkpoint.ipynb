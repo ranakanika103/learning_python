{
 "cells": [
  {
   "cell_type": "code",
   "execution_count": 5,
   "id": "7bfdbcd6-f31c-47da-913c-df9be3750680",
   "metadata": {},
   "outputs": [],
   "source": [
    "#functions and variables can be used and change by anyone \n",
    "# variable- attribute\n",
    "# function- methods"
   ]
  },
  {
   "cell_type": "code",
   "execution_count": 6,
   "id": "f4ac3f5f-ef3a-49b0-853c-76602cce188c",
   "metadata": {},
   "outputs": [],
   "source": [
    "def makeCoffee():\n",
    "    print(\"making coffee\")"
   ]
  },
  {
   "cell_type": "code",
   "execution_count": 7,
   "id": "f1db4891-1c46-43c4-ace0-280c8977aeb4",
   "metadata": {},
   "outputs": [
    {
     "name": "stdout",
     "output_type": "stream",
     "text": [
      "making coffee\n"
     ]
    }
   ],
   "source": [
    "makeCoffee()"
   ]
  },
  {
   "cell_type": "code",
   "execution_count": 16,
   "id": "18119596-889a-4d56-9748-7fe03a2f6f06",
   "metadata": {},
   "outputs": [],
   "source": [
    "def fuelUp(a=None):\n",
    "    print('filling..')\n",
    "    print(\"full tank\")\n",
    "    print(\"bye\")"
   ]
  },
  {
   "cell_type": "code",
   "execution_count": 13,
   "id": "aee96c24-4ce3-4c35-a67b-b11682817cdd",
   "metadata": {},
   "outputs": [
    {
     "name": "stdout",
     "output_type": "stream",
     "text": [
      "filling..\n",
      "full tank\n",
      "bye\n"
     ]
    }
   ],
   "source": [
    "fuelUp()"
   ]
  },
  {
   "cell_type": "code",
   "execution_count": 3,
   "id": "bda837fc-5ec9-4569-9094-946eb40092cf",
   "metadata": {},
   "outputs": [],
   "source": [
    "def eat():\n",
    "    print(\"eating pasta\")"
   ]
  },
  {
   "cell_type": "code",
   "execution_count": 4,
   "id": "f0edb377-e51c-4e09-b36e-425f7918f21c",
   "metadata": {},
   "outputs": [
    {
     "name": "stdout",
     "output_type": "stream",
     "text": [
      "eating pasta\n"
     ]
    }
   ],
   "source": [
    "eat()"
   ]
  },
  {
   "cell_type": "code",
   "execution_count": 7,
   "id": "4b961190-a36d-4c11-9601-3a6f4c2aa1cf",
   "metadata": {},
   "outputs": [],
   "source": [
    "#category=functions,variables\n",
    "class Car():\n",
    "    tyre=4\n",
    "    def move():\n",
    "        print(\" i am moving forward\")"
   ]
  },
  {
   "cell_type": "code",
   "execution_count": 9,
   "id": "c02820a0-db39-406d-86ba-9af595aa8868",
   "metadata": {},
   "outputs": [
    {
     "ename": "NameError",
     "evalue": "name 'tyre' is not defined",
     "output_type": "error",
     "traceback": [
      "\u001b[1;31m---------------------------------------------------------------------------\u001b[0m",
      "\u001b[1;31mNameError\u001b[0m                                 Traceback (most recent call last)",
      "Cell \u001b[1;32mIn[9], line 1\u001b[0m\n\u001b[1;32m----> 1\u001b[0m tyre\n",
      "\u001b[1;31mNameError\u001b[0m: name 'tyre' is not defined"
     ]
    }
   ],
   "source": [
    "tyre"
   ]
  },
  {
   "cell_type": "code",
   "execution_count": 12,
   "id": "ff923fca-f72e-40dc-a32c-ef1a2133bf19",
   "metadata": {},
   "outputs": [
    {
     "data": {
      "text/plain": [
       "4"
      ]
     },
     "execution_count": 12,
     "metadata": {},
     "output_type": "execute_result"
    }
   ],
   "source": [
    "# variables there is no() after variable\n",
    "Car.tyre"
   ]
  },
  {
   "cell_type": "code",
   "execution_count": 13,
   "id": "685e6ae8-9f1a-4ea9-b251-e38f47592bee",
   "metadata": {},
   "outputs": [
    {
     "ename": "NameError",
     "evalue": "name 'move' is not defined",
     "output_type": "error",
     "traceback": [
      "\u001b[1;31m---------------------------------------------------------------------------\u001b[0m",
      "\u001b[1;31mNameError\u001b[0m                                 Traceback (most recent call last)",
      "Cell \u001b[1;32mIn[13], line 1\u001b[0m\n\u001b[1;32m----> 1\u001b[0m move()\n",
      "\u001b[1;31mNameError\u001b[0m: name 'move' is not defined"
     ]
    }
   ],
   "source": [
    "move()"
   ]
  },
  {
   "cell_type": "code",
   "execution_count": 15,
   "id": "f9d4490c-689a-4229-a709-c075476cb2bb",
   "metadata": {},
   "outputs": [
    {
     "name": "stdout",
     "output_type": "stream",
     "text": [
      " i am moving forward\n"
     ]
    }
   ],
   "source": [
    "#function - there is () after function\n",
    "Car.move()"
   ]
  },
  {
   "cell_type": "code",
   "execution_count": 18,
   "id": "d07b0802-25c3-4a58-9f16-a567d9df6e4d",
   "metadata": {},
   "outputs": [],
   "source": [
    "class Human():\n",
    "    legs=2\n",
    "    def eatUp():\n",
    "         print(\" i am eating\")\n",
    "         print(\" now i am full\")"
   ]
  },
  {
   "cell_type": "code",
   "execution_count": 20,
   "id": "b404e8a4-fd2c-4ebe-8931-f1d52bfdf8d3",
   "metadata": {},
   "outputs": [
    {
     "data": {
      "text/plain": [
       "2"
      ]
     },
     "execution_count": 20,
     "metadata": {},
     "output_type": "execute_result"
    }
   ],
   "source": [
    "#haja asi sirf category di gal kardai pai loi particular asi human ya car define ni kiti\n",
    "Human.legs"
   ]
  },
  {
   "cell_type": "code",
   "execution_count": 21,
   "id": "d4da1839-d1b0-44ec-b92b-950b3738fafa",
   "metadata": {},
   "outputs": [
    {
     "name": "stdout",
     "output_type": "stream",
     "text": [
      " i am eating\n",
      " now i am full\n"
     ]
    }
   ],
   "source": [
    "Human.eatUp()"
   ]
  },
  {
   "cell_type": "code",
   "execution_count": 23,
   "id": "5b179005-526a-4982-a08f-16ff36da15a7",
   "metadata": {},
   "outputs": [
    {
     "ename": "AttributeError",
     "evalue": "type object 'Human' has no attribute 'tyre'",
     "output_type": "error",
     "traceback": [
      "\u001b[1;31m---------------------------------------------------------------------------\u001b[0m",
      "\u001b[1;31mAttributeError\u001b[0m                            Traceback (most recent call last)",
      "Cell \u001b[1;32mIn[23], line 1\u001b[0m\n\u001b[1;32m----> 1\u001b[0m Human\u001b[38;5;241m.\u001b[39mtyre\n",
      "\u001b[1;31mAttributeError\u001b[0m: type object 'Human' has no attribute 'tyre'"
     ]
    }
   ],
   "source": [
    "Human.tyre"
   ]
  },
  {
   "cell_type": "code",
   "execution_count": 24,
   "id": "68a0f54e-ded0-4246-bd25-3eb7f8f2701f",
   "metadata": {},
   "outputs": [
    {
     "ename": "AttributeError",
     "evalue": "type object 'Car' has no attribute 'legs'",
     "output_type": "error",
     "traceback": [
      "\u001b[1;31m---------------------------------------------------------------------------\u001b[0m",
      "\u001b[1;31mAttributeError\u001b[0m                            Traceback (most recent call last)",
      "Cell \u001b[1;32mIn[24], line 1\u001b[0m\n\u001b[1;32m----> 1\u001b[0m Car\u001b[38;5;241m.\u001b[39mlegs\n",
      "\u001b[1;31mAttributeError\u001b[0m: type object 'Car' has no attribute 'legs'"
     ]
    }
   ],
   "source": [
    "Car.legs"
   ]
  },
  {
   "cell_type": "code",
   "execution_count": 26,
   "id": "98e9d1aa-cbd1-43e2-b9da-26b2e6f5f2ac",
   "metadata": {},
   "outputs": [],
   "source": [
    "#class(DEFINATION) - defining and binding variables and functions"
   ]
  },
  {
   "cell_type": "code",
   "execution_count": 24,
   "id": "703bf6eb-ffa6-4dda-9cdf-8ad5daf1291a",
   "metadata": {},
   "outputs": [],
   "source": [
    "gadi1=Car()"
   ]
  },
  {
   "cell_type": "code",
   "execution_count": 25,
   "id": "cc7e9043-5f8c-47a2-9914-dc8c9e670efb",
   "metadata": {},
   "outputs": [],
   "source": [
    "gadi2=Car()"
   ]
  },
  {
   "cell_type": "code",
   "execution_count": 26,
   "id": "94157ae0-9416-41c9-a14f-7451756e5a05",
   "metadata": {},
   "outputs": [
    {
     "data": {
      "text/plain": [
       "4"
      ]
     },
     "execution_count": 26,
     "metadata": {},
     "output_type": "execute_result"
    }
   ],
   "source": [
    "gadi1.tyre"
   ]
  },
  {
   "cell_type": "code",
   "execution_count": 27,
   "id": "27a8f2fb-074f-4bd2-abeb-66ee458868d9",
   "metadata": {},
   "outputs": [
    {
     "data": {
      "text/plain": [
       "4"
      ]
     },
     "execution_count": 27,
     "metadata": {},
     "output_type": "execute_result"
    }
   ],
   "source": [
    "gadi2.tyre"
   ]
  },
  {
   "cell_type": "code",
   "execution_count": 28,
   "id": "41d710fa-4efc-4b66-8380-cf9239f7f9b9",
   "metadata": {},
   "outputs": [],
   "source": [
    "gadi1.tyre=3"
   ]
  },
  {
   "cell_type": "code",
   "execution_count": 29,
   "id": "e8b15459-fc27-440d-8cda-354a2ac6f63b",
   "metadata": {},
   "outputs": [
    {
     "data": {
      "text/plain": [
       "3"
      ]
     },
     "execution_count": 29,
     "metadata": {},
     "output_type": "execute_result"
    }
   ],
   "source": [
    "gadi1.tyre"
   ]
  },
  {
   "cell_type": "code",
   "execution_count": 30,
   "id": "112c493e-29e5-46b1-90d7-b587cf742888",
   "metadata": {},
   "outputs": [
    {
     "data": {
      "text/plain": [
       "4"
      ]
     },
     "execution_count": 30,
     "metadata": {},
     "output_type": "execute_result"
    }
   ],
   "source": [
    "gadi2.tyre"
   ]
  },
  {
   "cell_type": "code",
   "execution_count": 31,
   "id": "6a9892b2-5ea9-45d4-b917-ae6865253a98",
   "metadata": {},
   "outputs": [
    {
     "ename": "TypeError",
     "evalue": "Car.move() takes 0 positional arguments but 1 was given",
     "output_type": "error",
     "traceback": [
      "\u001b[1;31m---------------------------------------------------------------------------\u001b[0m",
      "\u001b[1;31mTypeError\u001b[0m                                 Traceback (most recent call last)",
      "Cell \u001b[1;32mIn[31], line 2\u001b[0m\n\u001b[0;32m      1\u001b[0m \u001b[38;5;66;03m# here over object not move \u001b[39;00m\n\u001b[1;32m----> 2\u001b[0m gadi1\u001b[38;5;241m.\u001b[39mmove()\n",
      "\u001b[1;31mTypeError\u001b[0m: Car.move() takes 0 positional arguments but 1 was given"
     ]
    }
   ],
   "source": [
    "# here over object not move \n",
    "gadi1.move()"
   ]
  },
  {
   "cell_type": "code",
   "execution_count": 47,
   "id": "ce5e4bcb-9ee2-4b94-85ff-281efff54673",
   "metadata": {},
   "outputs": [],
   "source": [
    "# self= to move the create item or object\n",
    "# when we use function we should write self must\n",
    "class Car():\n",
    "    tyre=4\n",
    "    def move(self):\n",
    "        print(\" i am moving forward\")"
   ]
  },
  {
   "cell_type": "code",
   "execution_count": 42,
   "id": "5f3f17c0-d425-4b83-987f-6a0b231d9075",
   "metadata": {},
   "outputs": [],
   "source": [
    "gadi2=Car()"
   ]
  },
  {
   "cell_type": "code",
   "execution_count": 44,
   "id": "e5d7af5e-2df1-4d5b-8e53-a3aa7a39c8f3",
   "metadata": {},
   "outputs": [
    {
     "name": "stdout",
     "output_type": "stream",
     "text": [
      " i am moving forward\n"
     ]
    }
   ],
   "source": [
    "# now object can move but class not\n",
    "gadi2.move()"
   ]
  },
  {
   "cell_type": "code",
   "execution_count": 39,
   "id": "9320a44b-d7c5-47e0-a097-d0b0e3999a04",
   "metadata": {},
   "outputs": [
    {
     "ename": "TypeError",
     "evalue": "Car.move() missing 1 required positional argument: 'self'",
     "output_type": "error",
     "traceback": [
      "\u001b[1;31m---------------------------------------------------------------------------\u001b[0m",
      "\u001b[1;31mTypeError\u001b[0m                                 Traceback (most recent call last)",
      "Cell \u001b[1;32mIn[39], line 2\u001b[0m\n\u001b[0;32m      1\u001b[0m \u001b[38;5;66;03m# now we can't move the class \u001b[39;00m\n\u001b[1;32m----> 2\u001b[0m Car\u001b[38;5;241m.\u001b[39mmove()\n",
      "\u001b[1;31mTypeError\u001b[0m: Car.move() missing 1 required positional argument: 'self'"
     ]
    }
   ],
   "source": [
    "# now we can't move the class \n",
    "Car.move()"
   ]
  },
  {
   "cell_type": "code",
   "execution_count": 49,
   "id": "4706d5a5-e425-423d-99f5-b674d5d44338",
   "metadata": {},
   "outputs": [],
   "source": [
    "gadi1.name=\"nano\""
   ]
  },
  {
   "cell_type": "code",
   "execution_count": 50,
   "id": "6992ff02-4420-4cdb-9842-6cecacfe4f42",
   "metadata": {},
   "outputs": [],
   "source": [
    "gadi2.name=\"alto\""
   ]
  },
  {
   "cell_type": "code",
   "execution_count": 51,
   "id": "2776d818-7635-4483-a372-11cc044419e0",
   "metadata": {},
   "outputs": [
    {
     "data": {
      "text/plain": [
       "'nano'"
      ]
     },
     "execution_count": 51,
     "metadata": {},
     "output_type": "execute_result"
    }
   ],
   "source": [
    "gadi1.name"
   ]
  },
  {
   "cell_type": "code",
   "execution_count": 65,
   "id": "e7132f3d-3251-4d34-b3c1-c13bf471dab8",
   "metadata": {},
   "outputs": [],
   "source": [
    "class Car():\n",
    "    tyre=4\n",
    "    def __init__(self): #init=initialize(special function after__ and they run automatically) we can see them by write def__ and click on tab\n",
    "        self.name=\"nano\"\n",
    "    def move():\n",
    "        print(\"moving forward\")       "
   ]
  },
  {
   "cell_type": "code",
   "execution_count": 66,
   "id": "fee1095d-94ee-4c3d-96c2-1d7cf9cd179f",
   "metadata": {},
   "outputs": [],
   "source": [
    "gadi1=Car()"
   ]
  },
  {
   "cell_type": "code",
   "execution_count": 67,
   "id": "79b6c43b-3e5a-4f7f-83d6-7af4b0cb6102",
   "metadata": {},
   "outputs": [
    {
     "data": {
      "text/plain": [
       "'nano'"
      ]
     },
     "execution_count": 67,
     "metadata": {},
     "output_type": "execute_result"
    }
   ],
   "source": [
    "gadi1.name"
   ]
  },
  {
   "cell_type": "code",
   "execution_count": 68,
   "id": "d08ce199-dad4-4afe-b9f1-ef54d54b4aa0",
   "metadata": {},
   "outputs": [],
   "source": [
    "gadi2=Car()"
   ]
  },
  {
   "cell_type": "code",
   "execution_count": 69,
   "id": "a37ae559-14e4-4126-a563-9da44debb207",
   "metadata": {},
   "outputs": [
    {
     "data": {
      "text/plain": [
       "'nano'"
      ]
     },
     "execution_count": 69,
     "metadata": {},
     "output_type": "execute_result"
    }
   ],
   "source": [
    "gadi2.name"
   ]
  },
  {
   "cell_type": "code",
   "execution_count": 80,
   "id": "18f27873-8de9-48b9-9e53-05e74c1ed19b",
   "metadata": {},
   "outputs": [],
   "source": [
    "class Car():\n",
    "    #variable belonging to whole class\n",
    "    tyre=4\n",
    "    def __init__(self,modelName):\n",
    "        # variable of the object\n",
    "        self.name=modelName\n",
    "    def move():\n",
    "        print(\"moving forward\") "
   ]
  },
  {
   "cell_type": "code",
   "execution_count": 87,
   "id": "4d2ebce5-09bf-4930-b3b5-255fc85d11e9",
   "metadata": {},
   "outputs": [],
   "source": [
    "gadi1=Car(\"nano\")"
   ]
  },
  {
   "cell_type": "code",
   "execution_count": 88,
   "id": "ebdf20fb-8311-4d86-9db5-83c7f2a4414d",
   "metadata": {},
   "outputs": [
    {
     "data": {
      "text/plain": [
       "'nano'"
      ]
     },
     "execution_count": 88,
     "metadata": {},
     "output_type": "execute_result"
    }
   ],
   "source": [
    "gadi1.name"
   ]
  },
  {
   "cell_type": "code",
   "execution_count": 90,
   "id": "492f7d79-211c-4867-9fc2-6ddd6e5745be",
   "metadata": {},
   "outputs": [],
   "source": [
    "gadi2=Car(\"alto\")"
   ]
  },
  {
   "cell_type": "code",
   "execution_count": 91,
   "id": "9ae5ba7a-867a-406f-b42b-fffd7f055ad8",
   "metadata": {},
   "outputs": [
    {
     "data": {
      "text/plain": [
       "'alto'"
      ]
     },
     "execution_count": 91,
     "metadata": {},
     "output_type": "execute_result"
    }
   ],
   "source": [
    "gadi2.name"
   ]
  },
  {
   "cell_type": "code",
   "execution_count": 99,
   "id": "8a981893-2576-4396-9962-5eba9d04d9e5",
   "metadata": {},
   "outputs": [],
   "source": [
    "class Car():\n",
    "    #variable belonging to whole class\n",
    "    tyre=4\n",
    "    def __init__(self,model,year=None): # automaticzlly runs when object is created\n",
    "        self.model=model\n",
    "        self.year=None\n",
    "    def introduction(self):\n",
    "        print(f\"hi i am {self.model} and i was made in {self.year}\")\n",
    "    def move():\n",
    "        print(\"moving forward\") "
   ]
  },
  {
   "cell_type": "code",
   "execution_count": 100,
   "id": "b8dde0a2-e5fa-4b2b-9252-f3978ba32dab",
   "metadata": {},
   "outputs": [],
   "source": [
    "gadi1=Car(\"nano\",2005)"
   ]
  },
  {
   "cell_type": "code",
   "execution_count": 101,
   "id": "66922c68-2972-43ca-bfe1-840743585146",
   "metadata": {},
   "outputs": [
    {
     "name": "stdout",
     "output_type": "stream",
     "text": [
      "hi i am nano and i was made in None\n"
     ]
    }
   ],
   "source": [
    "gadi1.introduction()"
   ]
  },
  {
   "cell_type": "code",
   "execution_count": 102,
   "id": "cb13cf83-20a4-4e73-980f-36eef8a287c6",
   "metadata": {},
   "outputs": [],
   "source": [
    "gadi2=Car(\"alto\",2010)"
   ]
  },
  {
   "cell_type": "code",
   "execution_count": 103,
   "id": "5fd5babf-e753-4b9f-93e1-e06a51f892ec",
   "metadata": {},
   "outputs": [
    {
     "name": "stdout",
     "output_type": "stream",
     "text": [
      "hi i am alto and i was made in None\n"
     ]
    }
   ],
   "source": [
    "gadi2.introduction()"
   ]
  },
  {
   "cell_type": "code",
   "execution_count": 105,
   "id": "2ee82894-6c5e-4d93-8995-75d41f18082e",
   "metadata": {},
   "outputs": [],
   "source": [
    "class Human():\n",
    "    legs=2\n",
    "    def __init__(self,name,age=0):\n",
    "        self.name=name\n",
    "        self.age=age\n",
    "    def introduction (self):\n",
    "        print(f\" i am {self.name} and my age is {self.age}\")"
   ]
  },
  {
   "cell_type": "code",
   "execution_count": 106,
   "id": "7fef9b9c-45c1-4f4f-aaa8-e002b1baa4fc",
   "metadata": {},
   "outputs": [],
   "source": [
    "insan1= Human(\"kanika\",20)"
   ]
  },
  {
   "cell_type": "code",
   "execution_count": 107,
   "id": "3e4fd78d-44e8-42f0-a79e-0aa0685a0559",
   "metadata": {},
   "outputs": [
    {
     "name": "stdout",
     "output_type": "stream",
     "text": [
      " i am kanika and my age is 20\n"
     ]
    }
   ],
   "source": [
    "insan1.introduction()"
   ]
  },
  {
   "cell_type": "code",
   "execution_count": 108,
   "id": "7daf450e-178b-46e9-883f-f76669ae3cdf",
   "metadata": {},
   "outputs": [],
   "source": [
    "insan2= Human(\"teena\",19)"
   ]
  },
  {
   "cell_type": "code",
   "execution_count": 109,
   "id": "39e4932c-2096-4c99-952e-dea9eaba10eb",
   "metadata": {},
   "outputs": [
    {
     "name": "stdout",
     "output_type": "stream",
     "text": [
      " i am teena and my age is 19\n"
     ]
    }
   ],
   "source": [
    "insan2.introduction()"
   ]
  },
  {
   "cell_type": "markdown",
   "id": "dc8fa3c2-237a-4f75-818c-2f2827fc333f",
   "metadata": {},
   "source": [
    "## magic(special) functions"
   ]
  },
  {
   "cell_type": "code",
   "execution_count": 42,
   "id": "8c0d345c-eb41-4e77-ad7f-7bc546c0cc32",
   "metadata": {},
   "outputs": [],
   "source": [
    "class Account():\n",
    "    BANK_NAME=\"SBI\"\n",
    "    def __init__(self,name , initialDeposit=0):\n",
    "        self.name= name\n",
    "        self.Balance= initialDeposit\n",
    "        print(f\"{name} welcome to {self.BANK_NAME}\")\n",
    "        "
   ]
  },
  {
   "cell_type": "code",
   "execution_count": 43,
   "id": "24b08bfa-773c-49fb-926a-bd636745865d",
   "metadata": {},
   "outputs": [
    {
     "name": "stdout",
     "output_type": "stream",
     "text": [
      "kanika welcome to SBI\n"
     ]
    }
   ],
   "source": [
    "firstAccount=Account(\"kanika\",5000)"
   ]
  },
  {
   "cell_type": "code",
   "execution_count": 35,
   "id": "c9f35604-f017-43ae-aeae-b37431466e60",
   "metadata": {},
   "outputs": [
    {
     "data": {
      "text/plain": [
       "'kanika'"
      ]
     },
     "execution_count": 35,
     "metadata": {},
     "output_type": "execute_result"
    }
   ],
   "source": [
    "firstAccount.name"
   ]
  },
  {
   "cell_type": "code",
   "execution_count": 37,
   "id": "68e730d3-3053-4938-96e4-e6191eeebbb0",
   "metadata": {},
   "outputs": [
    {
     "data": {
      "text/plain": [
       "5000"
      ]
     },
     "execution_count": 37,
     "metadata": {},
     "output_type": "execute_result"
    }
   ],
   "source": [
    "firstAccount.Balance"
   ]
  },
  {
   "cell_type": "code",
   "execution_count": 44,
   "id": "31d1feb9-5b11-4e35-895f-8c393a7f9d22",
   "metadata": {},
   "outputs": [],
   "source": [
    "firstAccount.name=\"teena\""
   ]
  },
  {
   "cell_type": "code",
   "execution_count": 45,
   "id": "1e019b1e-3b58-4082-a74a-784bfdd9f1ea",
   "metadata": {},
   "outputs": [
    {
     "data": {
      "text/plain": [
       "'teena'"
      ]
     },
     "execution_count": 45,
     "metadata": {},
     "output_type": "execute_result"
    }
   ],
   "source": [
    "firstAccount.name"
   ]
  },
  {
   "cell_type": "code",
   "execution_count": 69,
   "id": "04d30423-8b2a-4e85-8303-ab7bc4f131fa",
   "metadata": {},
   "outputs": [],
   "source": [
    "#magic functions- str (use when function goes to print)\n",
    "class Account():\n",
    "    BANK_NAME=\"SBI\"\n",
    "    def __init__(self,name , initialDeposit=0):\n",
    "        self.name= name\n",
    "        self.Balance= initialDeposit\n",
    "        print(f\"{name} welcome to {self.BANK_NAME}\")\n",
    "\n",
    "    def __str__(self):\n",
    "        # mandatory to return a str\n",
    "        a= f\"\"\"\n",
    "             ======{self.BANK_NAME}======\n",
    "         Account Holder  : {self.name}\n",
    "         Account Balance : {self.Balance}\n",
    "        \"\"\"\n",
    "        return a\n",
    "        "
   ]
  },
  {
   "cell_type": "code",
   "execution_count": 70,
   "id": "1c7b68c9-6c41-461d-a9fe-0ac6180cdcb1",
   "metadata": {},
   "outputs": [
    {
     "name": "stdout",
     "output_type": "stream",
     "text": [
      "kanika welcome to SBI\n"
     ]
    }
   ],
   "source": [
    "firstAccount=Account(\"kanika\",5000)"
   ]
  },
  {
   "cell_type": "code",
   "execution_count": 71,
   "id": "c2d9c4e0-8217-4e46-aa0b-c19cec993772",
   "metadata": {},
   "outputs": [
    {
     "name": "stdout",
     "output_type": "stream",
     "text": [
      "\n",
      "             ======SBI======\n",
      "         Account Holder  : kanika\n",
      "         Account Balance : 5000\n",
      "        \n"
     ]
    }
   ],
   "source": [
    "print(firstAccount)"
   ]
  },
  {
   "cell_type": "code",
   "execution_count": 90,
   "id": "c14e95d5-8c50-4146-8917-596bdafc853c",
   "metadata": {},
   "outputs": [],
   "source": [
    "class Account():\n",
    "    BANK_NAME=\"SBI\"\n",
    "    # it runs when object if created\n",
    "    def __init__(self,name , initialDeposit=0):\n",
    "        self.name= name\n",
    "        self.Balance= initialDeposit\n",
    "        print(f\"{name} welcome to {self.BANK_NAME}\")\n",
    "    def __str__(self):\\\n",
    "        # runs before object is printed\n",
    "        # mandatory to return a str\n",
    "        a= f\"\"\"\n",
    "             ==={self.BANK_NAME}===\n",
    "         Account Holder  : {self.name}\n",
    "         Account Balance : {self.Balance}\n",
    "        \"\"\"\n",
    "        return a\n",
    "\n",
    "    def __del__(self):\n",
    "        # when memory location is cleared\n",
    "        # runs before object is deleted \n",
    "        print(\"item was deleted\")"
   ]
  },
  {
   "cell_type": "code",
   "execution_count": 87,
   "id": "1ff3904c-03f4-49e3-ae66-d3cfbb16848e",
   "metadata": {},
   "outputs": [
    {
     "name": "stdout",
     "output_type": "stream",
     "text": [
      "kanika welcome to SBI\n",
      "item was deketed\n"
     ]
    }
   ],
   "source": [
    "firstAccount = Account(\"kanika\",50000)"
   ]
  },
  {
   "cell_type": "code",
   "execution_count": 88,
   "id": "300a1374-9db3-40a0-a6d7-794a0941c67c",
   "metadata": {},
   "outputs": [
    {
     "name": "stdout",
     "output_type": "stream",
     "text": [
      "item was deleted\n"
     ]
    }
   ],
   "source": [
    "del firstAccount"
   ]
  },
  {
   "cell_type": "code",
   "execution_count": 89,
   "id": "21583a5a-2b19-41ae-9586-45d9ceabe0cf",
   "metadata": {},
   "outputs": [],
   "source": [
    "#array list ki tarah hoti hai but array mai saab items same hoti hai\n",
    "# int- use 4 byte(16 bits)\n",
    "# python is interpreted \n",
    "# ram is like continuous block\n",
    "# jad asi numpy ch array bandai ta oo c++ di tarah ek continuous line vich items rakhnai\n",
    "# garbage collection(jad ram vicho jagah saaf hundi)\n"
   ]
  },
  {
   "cell_type": "code",
   "execution_count": 91,
   "id": "09e4b214-d766-4bb3-b3ad-2bc932ea0bfa",
   "metadata": {},
   "outputs": [],
   "source": [
    "class Account():\n",
    "    BANK_NAME=\"SBI\"\n",
    "    # it runs when item create\n",
    "    def __init__(self,name , initialDeposit=0):\n",
    "        self.name= name\n",
    "        self.Balance= initialDeposit\n",
    "        print(f\"{name} welcome to {self.BANK_NAME}\")\n",
    "    # it runs when item goes to print\n",
    "    def __str__(self):\n",
    "        # mandatory to return a str\n",
    "        a= f\"\"\"\n",
    "             ==={self.BANK_NAME}===\n",
    "         Account Holder  : {self.name}\n",
    "         Account Balance : {self.Balance}\n",
    "        \"\"\"\n",
    "        return a\n",
    "\n",
    "    def __del__(self):\n",
    "        # when memory location is cleared\n",
    "        a=f\"\"\"\n",
    "                     ==={self.BANK_NAME}===\n",
    "                     we are sorry to see you go \n",
    "        \"\"\"\n",
    "        print(a)"
   ]
  },
  {
   "cell_type": "code",
   "execution_count": 95,
   "id": "b7dce293-c28c-488f-86f7-5dab5da511f1",
   "metadata": {},
   "outputs": [
    {
     "name": "stdout",
     "output_type": "stream",
     "text": [
      "kanu welcome to SBI\n"
     ]
    }
   ],
   "source": [
    "firstAccount=Account(\"kanu\",5000)"
   ]
  },
  {
   "cell_type": "code",
   "execution_count": 96,
   "id": "f242ad1e-9203-402d-af4c-1b14bfcabf1c",
   "metadata": {},
   "outputs": [
    {
     "name": "stdout",
     "output_type": "stream",
     "text": [
      "\n",
      "                     ===SBI===\n",
      "                     we are sorry to see you go \n",
      "\n",
      "        \n",
      "        \n"
     ]
    }
   ],
   "source": [
    "del firstAccount"
   ]
  },
  {
   "cell_type": "code",
   "execution_count": 101,
   "id": "e4210680-1de3-4476-b1dd-f99effb5e1fe",
   "metadata": {},
   "outputs": [],
   "source": [
    "class Car:\n",
    "    def __init__(self):\n",
    "        self.name=\"tata\"\n",
    "    def __str__(self):\n",
    "        print (\"hello\")\n",
    "        return \"runs when item is created\"\n",
    "    def __del__(self):\n",
    "        print(\"runs when memory location is cleared\")"
   ]
  },
  {
   "cell_type": "code",
   "execution_count": 102,
   "id": "5334dc91-7a5c-4a91-a523-ca5767c2cfdb",
   "metadata": {},
   "outputs": [
    {
     "name": "stdout",
     "output_type": "stream",
     "text": [
      "runs when memory location is cleared\n"
     ]
    }
   ],
   "source": [
    "gadi=Car()"
   ]
  },
  {
   "cell_type": "code",
   "execution_count": 103,
   "id": "24a10d56-4381-4be7-9453-467e08507c64",
   "metadata": {},
   "outputs": [
    {
     "name": "stdout",
     "output_type": "stream",
     "text": [
      "hello\n",
      "runs when item is created\n"
     ]
    }
   ],
   "source": [
    "print(gadi)"
   ]
  },
  {
   "cell_type": "code",
   "execution_count": 105,
   "id": "a5df47ea-6eae-4db9-9f95-5c45eb828f55",
   "metadata": {},
   "outputs": [
    {
     "name": "stdout",
     "output_type": "stream",
     "text": [
      "runs when memory location is cleared\n"
     ]
    }
   ],
   "source": [
    "del gadi"
   ]
  },
  {
   "cell_type": "markdown",
   "id": "b1b01968-09dc-44af-aca0-50687b12237b",
   "metadata": {},
   "source": [
    "## Encapsulation"
   ]
  },
  {
   "cell_type": "code",
   "execution_count": 132,
   "id": "5d605c88-4cb1-4643-9181-ddb7e2e6a423",
   "metadata": {},
   "outputs": [],
   "source": [
    "# encapsulation works on both variables and functions"
   ]
  },
  {
   "cell_type": "code",
   "execution_count": 131,
   "id": "4ea01689-a6ad-4d87-8320-7b883a70b633",
   "metadata": {},
   "outputs": [],
   "source": [
    "class Account():\n",
    "    BANK_NAME=\"SBI\"\n",
    "   # for encapsulation to balance use __balance by doing this nobody from outer can have access to change your balance \n",
    "    def __init__(self,name , initialDeposit=0):\n",
    "        self.name= name\n",
    "        self.__Balance= initialDeposit\n",
    "        print(f\"{name} welcome to {self.BANK_NAME}\")\n",
    "    # it runs when item goes to print\n",
    "    def __str__(self):\n",
    "    \n",
    "        a= f\"\"\"\n",
    "             ==={self.BANK_NAME}===\n",
    "         Account Holder  : {self.name}\n",
    "         Account Balance : {self.__Balance}\n",
    "        \"\"\"\n",
    "        return a\n",
    "\n",
    "    def __del__(self):\n",
    "        \n",
    "        a=f\"\"\"\n",
    "                     ==={self.BANK_NAME}===\n",
    "                     we are sorry to see you go \n",
    "        \"\"\"\n",
    "        print(a)"
   ]
  },
  {
   "cell_type": "code",
   "execution_count": 125,
   "id": "dc2b39b5-d1a7-45bd-ac5b-b37b96254f37",
   "metadata": {},
   "outputs": [
    {
     "name": "stdout",
     "output_type": "stream",
     "text": [
      "kanika welcome to SBI\n"
     ]
    }
   ],
   "source": [
    "firstAccount= Account(\"kanika\",50000)"
   ]
  },
  {
   "cell_type": "code",
   "execution_count": 126,
   "id": "2869bcbd-68d6-44c8-af1b-88de9b3aa08f",
   "metadata": {},
   "outputs": [
    {
     "name": "stdout",
     "output_type": "stream",
     "text": [
      "\n",
      "             ===SBI===\n",
      "         Account Holder  : kanika\n",
      "         Account Balance : 50000\n",
      "        \n"
     ]
    }
   ],
   "source": [
    "print(firstAccount)"
   ]
  },
  {
   "cell_type": "code",
   "execution_count": 127,
   "id": "fdecaa4d-5851-4b31-8fb5-c7070782e762",
   "metadata": {},
   "outputs": [
    {
     "name": "stdout",
     "output_type": "stream",
     "text": [
      "\n",
      "                     ===SBI===\n",
      "                     we are sorry to see you go \n",
      "        \n",
      "\n",
      "                     ===SBI===\n",
      "                     we are sorry to see you go \n",
      "        \n"
     ]
    },
    {
     "ename": "AttributeError",
     "evalue": "'Account' object has no attribute 'Balance'",
     "output_type": "error",
     "traceback": [
      "\u001b[1;31m---------------------------------------------------------------------------\u001b[0m",
      "\u001b[1;31mAttributeError\u001b[0m                            Traceback (most recent call last)",
      "Cell \u001b[1;32mIn[127], line 2\u001b[0m\n\u001b[0;32m      1\u001b[0m \u001b[38;5;66;03m# encapsulation - block direct access\u001b[39;00m\n\u001b[1;32m----> 2\u001b[0m firstAccount\u001b[38;5;241m.\u001b[39mBalance\n",
      "\u001b[1;31mAttributeError\u001b[0m: 'Account' object has no attribute 'Balance'"
     ]
    }
   ],
   "source": [
    "# encapsulation - block direct access\n",
    "firstAccount.Balance"
   ]
  },
  {
   "cell_type": "code",
   "execution_count": 128,
   "id": "2a873f5c-0575-40ff-8fcd-6bf897bc341a",
   "metadata": {},
   "outputs": [],
   "source": [
    "firstAccount.Balance=0"
   ]
  },
  {
   "cell_type": "code",
   "execution_count": 129,
   "id": "2223d106-cb5b-4b7e-bf39-7032e40b7e69",
   "metadata": {},
   "outputs": [
    {
     "name": "stdout",
     "output_type": "stream",
     "text": [
      "\n",
      "             ===SBI===\n",
      "         Account Holder  : kanika\n",
      "         Account Balance : 50000\n",
      "        \n"
     ]
    }
   ],
   "source": [
    "print(firstAccount)"
   ]
  },
  {
   "cell_type": "code",
   "execution_count": 161,
   "id": "156ac559-dbfc-43f7-b50d-bde4fd23d5e8",
   "metadata": {},
   "outputs": [],
   "source": [
    "class Account():\n",
    "    BANK_NAME=\"SBI\"\n",
    "    def __init__(self,name , initialDeposit=0):\n",
    "        self.name= name\n",
    "        self.__balance= initialDeposit\n",
    "        print(f\"{name} welcome to {self.BANK_NAME}\")\n",
    "    # it runs when item goes to print\n",
    "    def __str__(self):\n",
    "    \n",
    "        a= f\"\"\"\n",
    "             ======{self.BANK_NAME}======\n",
    "         Account Holder  : {self.name}\n",
    "         Account Balance : {self.__balance}\n",
    "        \"\"\"\n",
    "        return a\n",
    "\n",
    "    def __del__(self):\n",
    "        \n",
    "        a=f\"\"\"\n",
    "                     ======{self.BANK_NAME}======\n",
    "                     we are sorry to see you go \n",
    "        \"\"\"\n",
    "        print(a)\n",
    "# encapsulate transection\n",
    "    def __transection(self, ammount,T):\n",
    "        print(f\"{ammount} was {T}\")\n",
    "        print(f\" current balance {self.__balance}\")\n",
    "        if T== \"credit\":\n",
    "            print(f\" initial ammount {self.__balance - ammount}\")\n",
    "        else:\n",
    "            print(f\" initial ammount {self.__balance + ammount}\")\n",
    "        \n",
    "    # to add balance in the bank\n",
    "    def credit(self,ammount=0):\n",
    "        self.__balance+=ammount\n",
    "        self.__transection(ammount, \"credit\")\n",
    "\n",
    "    def debit(self, ammount =0):\n",
    "        if self.__balance > ammount and ammount < 10000:\n",
    "            self.__balance -= ammount\n",
    "            self.__transection(ammount, \"debit\")\n",
    "            return ammount\n",
    "        else:\n",
    "            print(\"insufficient balance\")"
   ]
  },
  {
   "cell_type": "code",
   "execution_count": 162,
   "id": "da5c6612-5822-473e-9ddd-10f13f62b50e",
   "metadata": {},
   "outputs": [
    {
     "name": "stdout",
     "output_type": "stream",
     "text": [
      "kanu welcome to SBI\n"
     ]
    }
   ],
   "source": [
    "firstAccount=Account(\"kanu\",5000)"
   ]
  },
  {
   "cell_type": "code",
   "execution_count": 163,
   "id": "da86274d-1e04-439b-a124-9c72ef86b77d",
   "metadata": {},
   "outputs": [
    {
     "name": "stdout",
     "output_type": "stream",
     "text": [
      "5000 was credit\n",
      " current balance 10000\n",
      " initial ammount 5000\n"
     ]
    }
   ],
   "source": [
    "firstAccount.credit(5000)"
   ]
  },
  {
   "cell_type": "code",
   "execution_count": 164,
   "id": "de89547d-7099-4925-9b2f-eb275fb3b20a",
   "metadata": {},
   "outputs": [
    {
     "name": "stdout",
     "output_type": "stream",
     "text": [
      "\n",
      "             ======SBI======\n",
      "         Account Holder  : kanu\n",
      "         Account Balance : 10000\n",
      "        \n"
     ]
    }
   ],
   "source": [
    "print(firstAccount)"
   ]
  },
  {
   "cell_type": "code",
   "execution_count": 165,
   "id": "e60c93e7-1246-48e5-ac44-90297f04ad8f",
   "metadata": {},
   "outputs": [
    {
     "ename": "AttributeError",
     "evalue": "'Account' object has no attribute 'transection'",
     "output_type": "error",
     "traceback": [
      "\u001b[1;31m---------------------------------------------------------------------------\u001b[0m",
      "\u001b[1;31mAttributeError\u001b[0m                            Traceback (most recent call last)",
      "Cell \u001b[1;32mIn[165], line 1\u001b[0m\n\u001b[1;32m----> 1\u001b[0m firstAccount\u001b[38;5;241m.\u001b[39mtransection(\u001b[38;5;241m3000\u001b[39m,\u001b[38;5;124m\"\u001b[39m\u001b[38;5;124mhi\u001b[39m\u001b[38;5;124m\"\u001b[39m)\n",
      "\u001b[1;31mAttributeError\u001b[0m: 'Account' object has no attribute 'transection'"
     ]
    }
   ],
   "source": [
    "firstAccount.transection(3000,\"hi\")"
   ]
  },
  {
   "cell_type": "code",
   "execution_count": 166,
   "id": "97d6ea95-8157-4ecc-9554-b424e402213b",
   "metadata": {},
   "outputs": [
    {
     "name": "stdout",
     "output_type": "stream",
     "text": [
      "2000 was debit\n",
      " current balance 8000\n",
      " initial ammount 10000\n"
     ]
    },
    {
     "data": {
      "text/plain": [
       "2000"
      ]
     },
     "execution_count": 166,
     "metadata": {},
     "output_type": "execute_result"
    }
   ],
   "source": [
    "firstAccount.debit(2000)"
   ]
  },
  {
   "cell_type": "code",
   "execution_count": null,
   "id": "684c69c5-1536-4094-9d9d-2bab40065609",
   "metadata": {},
   "outputs": [],
   "source": []
  },
  {
   "cell_type": "code",
   "execution_count": null,
   "id": "5196ffb7-20e6-44d0-8c19-2cb1dac90510",
   "metadata": {},
   "outputs": [],
   "source": []
  }
 ],
 "metadata": {
  "kernelspec": {
   "display_name": "Python [conda env:base] *",
   "language": "python",
   "name": "conda-base-py"
  },
  "language_info": {
   "codemirror_mode": {
    "name": "ipython",
    "version": 3
   },
   "file_extension": ".py",
   "mimetype": "text/x-python",
   "name": "python",
   "nbconvert_exporter": "python",
   "pygments_lexer": "ipython3",
   "version": "3.13.5"
  }
 },
 "nbformat": 4,
 "nbformat_minor": 5
}
