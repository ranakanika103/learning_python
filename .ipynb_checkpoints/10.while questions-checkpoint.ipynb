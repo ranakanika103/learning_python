{
 "cells": [
  {
   "cell_type": "code",
   "execution_count": 2,
   "id": "486079a0-b86c-4ee8-af10-c44fcad5bd70",
   "metadata": {},
   "outputs": [],
   "source": [
    "#n=number of eternations\n",
    "d={'name':'kanika','age':20,'education':'bsc'}"
   ]
  },
  {
   "cell_type": "code",
   "execution_count": 4,
   "id": "d34775c3-2df9-4d3e-9ff6-9192b1326ebb",
   "metadata": {},
   "outputs": [
    {
     "data": {
      "text/plain": [
       "{'name': 'kanika', 'age': 20, 'education': 'bsc'}"
      ]
     },
     "execution_count": 4,
     "metadata": {},
     "output_type": "execute_result"
    }
   ],
   "source": [
    "d"
   ]
  },
  {
   "cell_type": "code",
   "execution_count": 5,
   "id": "a540529c-9c99-4647-b843-6ca5a603ca9b",
   "metadata": {},
   "outputs": [
    {
     "data": {
      "text/plain": [
       "dict_keys(['name', 'age', 'education'])"
      ]
     },
     "execution_count": 5,
     "metadata": {},
     "output_type": "execute_result"
    }
   ],
   "source": [
    "d.keys()"
   ]
  },
  {
   "cell_type": "code",
   "execution_count": 7,
   "id": "dbc3784f-745b-4db5-88b7-4dfca36c4098",
   "metadata": {},
   "outputs": [
    {
     "data": {
      "text/plain": [
       "['name', 'age', 'education']"
      ]
     },
     "execution_count": 7,
     "metadata": {},
     "output_type": "execute_result"
    }
   ],
   "source": [
    "# to do indexing sciling we first need to convert dict. to list\n",
    "list(d.keys())"
   ]
  },
  {
   "cell_type": "code",
   "execution_count": 3,
   "id": "fc4f3bb6-cdca-4856-a476-f159d59020ac",
   "metadata": {},
   "outputs": [
    {
     "data": {
      "text/plain": [
       "3"
      ]
     },
     "execution_count": 3,
     "metadata": {},
     "output_type": "execute_result"
    }
   ],
   "source": [
    "len(d)"
   ]
  },
  {
   "cell_type": "code",
   "execution_count": 10,
   "id": "498b4ac9-f3b1-41f9-afc6-843f40a881fb",
   "metadata": {},
   "outputs": [
    {
     "name": "stdout",
     "output_type": "stream",
     "text": [
      "kanika\n",
      "20\n",
      "bsc\n"
     ]
    }
   ],
   "source": [
    "d={'name':'kanika','age':20,'education':'bsc'}\n",
    "i=0\n",
    "n=len(d)\n",
    "k=list(d.keys())\n",
    "    \n",
    "while i<n:\n",
    "    print(d[k[i]])\n",
    "\n",
    "\n",
    "    i+=1"
   ]
  },
  {
   "cell_type": "code",
   "execution_count": 12,
   "id": "1e8ec47c-d6c0-42b4-8ae4-953ebb6f7338",
   "metadata": {},
   "outputs": [
    {
     "data": {
      "text/plain": [
       "dict_values(['kanika', 20, 'bsc'])"
      ]
     },
     "execution_count": 12,
     "metadata": {},
     "output_type": "execute_result"
    }
   ],
   "source": [
    "d.values()"
   ]
  },
  {
   "cell_type": "code",
   "execution_count": 14,
   "id": "15f894ad-c0c3-4a74-986c-07eaccd7a604",
   "metadata": {},
   "outputs": [
    {
     "name": "stdout",
     "output_type": "stream",
     "text": [
      "8 10\n"
     ]
    }
   ],
   "source": [
    "l=[9,7,1,4,3,5,4,8,10]\n",
    "i=0\n",
    "n=len(l)\n",
    "a=0\n",
    "while i<n:\n",
    "    if l[i]>l[a]:\n",
    "        a=i\n",
    "    i+=1\n",
    "print(a,l[a]) #a shows the index number of greater element"
   ]
  },
  {
   "cell_type": "code",
   "execution_count": 26,
   "id": "e37b22aa-6ace-4710-97ae-6dc2a3356490",
   "metadata": {},
   "outputs": [
    {
     "name": "stdout",
     "output_type": "stream",
     "text": [
      "2 1\n"
     ]
    }
   ],
   "source": [
    "l=[9,7,1,4,3,5,4,8,10]\n",
    "i=0\n",
    "n=len(l)\n",
    "a=0\n",
    "while i<n:\n",
    "    \n",
    "    if l[i]<l[a]:\n",
    "        a=i\n",
    "    i+=1\n",
    "print(a,l[a]) #a shows the index number of smallest element\n"
   ]
  },
  {
   "cell_type": "code",
   "execution_count": 27,
   "id": "7f9dc27f-e4f9-4663-b952-de369545e1b0",
   "metadata": {},
   "outputs": [
    {
     "name": "stdout",
     "output_type": "stream",
     "text": [
      "0 9 0 9\n",
      "0 9 1 7\n",
      "1 7 2 1\n",
      "2 1 3 4\n",
      "2 1 4 3\n",
      "2 1 5 5\n",
      "2 1 6 4\n",
      "2 1 7 8\n",
      "2 1 8 10\n",
      "2 1\n"
     ]
    }
   ],
   "source": [
    "l=[9,7,1,4,3,5,4,8,10]\n",
    "i=0\n",
    "n=len(l)\n",
    "a=0\n",
    "while i<n:\n",
    "    print(a,l[a],i,l[i])\n",
    "    if l[i]<l[a]:\n",
    "        a=i\n",
    "    i+=1\n",
    "print(a,l[a])"
   ]
  },
  {
   "cell_type": "code",
   "execution_count": 30,
   "id": "474083df-2229-4eb4-80bb-2c95765e7452",
   "metadata": {},
   "outputs": [
    {
     "name": "stdout",
     "output_type": "stream",
     "text": [
      "total 51\n"
     ]
    }
   ],
   "source": [
    "l=[9,7,1,4,3,5,4,8,10]\n",
    "i=0\n",
    "n=len(l)\n",
    "total=0\n",
    "while i<n:\n",
    "    total+=l[i]\n",
    "    i+=1\n",
    "print(\"total\",total)"
   ]
  },
  {
   "cell_type": "code",
   "execution_count": 32,
   "id": "46863bca-e05a-4ed5-b4c2-d01c9f0e1b4b",
   "metadata": {},
   "outputs": [],
   "source": [
    "l.sort()\n"
   ]
  },
  {
   "cell_type": "code",
   "execution_count": 36,
   "id": "6ce6f113-a10e-4b00-9b18-9ae9314f6c46",
   "metadata": {},
   "outputs": [
    {
     "data": {
      "text/plain": [
       "[1, 3, 4, 4, 5, 7, 8, 9, 10]"
      ]
     },
     "execution_count": 36,
     "metadata": {},
     "output_type": "execute_result"
    }
   ],
   "source": [
    "l"
   ]
  },
  {
   "cell_type": "code",
   "execution_count": 33,
   "id": "5b876722-8516-4d00-a591-d13aedd4fc2c",
   "metadata": {},
   "outputs": [
    {
     "data": {
      "text/plain": [
       "4"
      ]
     },
     "execution_count": 33,
     "metadata": {},
     "output_type": "execute_result"
    }
   ],
   "source": [
    "len(l)//2"
   ]
  },
  {
   "cell_type": "code",
   "execution_count": 35,
   "id": "96de00ff-7be7-4329-8645-9d28422bb7c9",
   "metadata": {},
   "outputs": [
    {
     "data": {
      "text/plain": [
       "5"
      ]
     },
     "execution_count": 35,
     "metadata": {},
     "output_type": "execute_result"
    }
   ],
   "source": [
    "# to find middle item:\n",
    "l[len(l)//2]"
   ]
  },
  {
   "cell_type": "code",
   "execution_count": 45,
   "id": "faa7e352-70dd-4661-8d61-fe8089f8011f",
   "metadata": {},
   "outputs": [
    {
     "name": "stdout",
     "output_type": "stream",
     "text": [
      "2\n",
      "3\n",
      "4\n",
      "5\n",
      "25 is not a prime number\n"
     ]
    }
   ],
   "source": [
    "# to check weather a number is a prime or not (very important question)\n",
    "n =25\n",
    "prime=True\n",
    "i=2\n",
    "while i<n:\n",
    "    print(i)\n",
    "    if n %i==0:\n",
    "        prime=False\n",
    "        break\n",
    "    i+= 1\n",
    "if prime:\n",
    "    print(f\"{n} is prime number\")\n",
    "else:\n",
    "    print(f\"{n} is not a prime number\")"
   ]
  },
  {
   "cell_type": "code",
   "execution_count": 44,
   "id": "0288c5e6-3c5f-4efc-a18f-1919b0ed355e",
   "metadata": {},
   "outputs": [
    {
     "name": "stdout",
     "output_type": "stream",
     "text": [
      "2\n",
      "3\n",
      "4\n",
      "5\n",
      "6\n",
      "7\n",
      "8\n",
      "9\n",
      "10\n",
      "11 is prime number\n"
     ]
    }
   ],
   "source": [
    "n =11\n",
    "prime=True\n",
    "i=2\n",
    "while i<n:\n",
    "    print(i)\n",
    "    if n %i== 0:\n",
    "        prime=False\n",
    "        break\n",
    "    i+= 1\n",
    "if prime:\n",
    "    print(f\"{n} is prime number\")\n",
    "else:\n",
    "    print(f\"{n} is not a prime number\")"
   ]
  },
  {
   "cell_type": "code",
   "execution_count": null,
   "id": "0bc2b206-90b3-438f-8337-3bc220b11821",
   "metadata": {},
   "outputs": [],
   "source": []
  }
 ],
 "metadata": {
  "kernelspec": {
   "display_name": "Python [conda env:base] *",
   "language": "python",
   "name": "conda-base-py"
  },
  "language_info": {
   "codemirror_mode": {
    "name": "ipython",
    "version": 3
   },
   "file_extension": ".py",
   "mimetype": "text/x-python",
   "name": "python",
   "nbconvert_exporter": "python",
   "pygments_lexer": "ipython3",
   "version": "3.13.5"
  }
 },
 "nbformat": 4,
 "nbformat_minor": 5
}
