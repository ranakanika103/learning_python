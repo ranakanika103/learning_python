{
 "cells": [
  {
   "cell_type": "markdown",
   "id": "1d2c5545-50d2-4133-bd65-973da66b3491",
   "metadata": {},
   "source": [
    "# Functions\n"
   ]
  },
  {
   "cell_type": "markdown",
   "id": "e1a9947d-605b-4092-b27d-eac7e5f9ac0c",
   "metadata": {},
   "source": [
    "## Functions stop code and it executes the code when called"
   ]
  },
  {
   "cell_type": "code",
   "execution_count": 147,
   "id": "d3bf84da-a642-4341-bbd2-0e920ac50cee",
   "metadata": {},
   "outputs": [],
   "source": [
    "# define a function\n",
    "def greeting(): # eh input hundi\n",
    "    print(\"hello nice to meet you\")\n",
    "    print(2+2)"
   ]
  },
  {
   "cell_type": "code",
   "execution_count": 8,
   "id": "9029a639-8bb3-4c0b-96c6-43d4014e49b2",
   "metadata": {},
   "outputs": [
    {
     "name": "stdout",
     "output_type": "stream",
     "text": [
      "hello nice to meet you\n",
      "4\n"
     ]
    }
   ],
   "source": [
    "#call a function\n",
    "greeting()"
   ]
  },
  {
   "cell_type": "code",
   "execution_count": 9,
   "id": "518b6711-59b4-40c7-af48-385a630c2f0f",
   "metadata": {},
   "outputs": [
    {
     "name": "stdout",
     "output_type": "stream",
     "text": [
      "hello nice to meet you\n",
      "4\n",
      "hello nice to meet you\n",
      "4\n"
     ]
    }
   ],
   "source": [
    "greeting()\n",
    "greeting()"
   ]
  },
  {
   "cell_type": "markdown",
   "id": "85a27d5f-13c3-487a-b131-ef7d23b6d75d",
   "metadata": {},
   "source": [
    "## Type of functions\n"
   ]
  },
  {
   "cell_type": "markdown",
   "id": "d859631e-e258-4cba-9df0-8f8780ebc147",
   "metadata": {},
   "source": [
    "### built in functions"
   ]
  },
  {
   "cell_type": "code",
   "execution_count": 12,
   "id": "13d7cf70-e7c4-42f7-b908-4210facaae3a",
   "metadata": {},
   "outputs": [
    {
     "name": "stdout",
     "output_type": "stream",
     "text": [
      "hi\n"
     ]
    },
    {
     "data": {
      "text/plain": [
       "6"
      ]
     },
     "execution_count": 12,
     "metadata": {},
     "output_type": "execute_result"
    }
   ],
   "source": [
    "# built in functions\n",
    "print('hi')\n",
    "len(\"kanika\")\n"
   ]
  },
  {
   "cell_type": "code",
   "execution_count": 15,
   "id": "a423c3cf-c0c6-43b4-86b3-41c961bd802e",
   "metadata": {},
   "outputs": [
    {
     "data": {
      "text/plain": [
       "8"
      ]
     },
     "execution_count": 15,
     "metadata": {},
     "output_type": "execute_result"
    }
   ],
   "source": [
    "# built in functions\n",
    "min([8,15])\n",
    "max([8,4,5])"
   ]
  },
  {
   "cell_type": "markdown",
   "id": "af343b9b-0b22-4f23-a8ce-71bc51528715",
   "metadata": {},
   "source": [
    "### user defined functions"
   ]
  },
  {
   "cell_type": "code",
   "execution_count": 17,
   "id": "4597c278-64ad-4112-8c74-1624777cf81e",
   "metadata": {},
   "outputs": [
    {
     "name": "stdout",
     "output_type": "stream",
     "text": [
      "hello everyone my name is kanika\n"
     ]
    }
   ],
   "source": [
    "def greeting():\n",
    "    print(\"hello everyone my name is kanika\")\n",
    "greeting()"
   ]
  },
  {
   "cell_type": "code",
   "execution_count": 22,
   "id": "5e173a20-cac1-4155-9c8c-f924774fe6d9",
   "metadata": {},
   "outputs": [],
   "source": [
    "def greeting():\n",
    "    print(\"hello everyone my name is kanika\")\n",
    "    print(8/0)\n",
    "    print(\"hi\")"
   ]
  },
  {
   "cell_type": "code",
   "execution_count": 23,
   "id": "8b1bd8ee-c160-49f4-9acc-745431e109f4",
   "metadata": {},
   "outputs": [
    {
     "name": "stdout",
     "output_type": "stream",
     "text": [
      "hello everyone my name is kanika\n"
     ]
    },
    {
     "ename": "ZeroDivisionError",
     "evalue": "division by zero",
     "output_type": "error",
     "traceback": [
      "\u001b[1;31m---------------------------------------------------------------------------\u001b[0m",
      "\u001b[1;31mZeroDivisionError\u001b[0m                         Traceback (most recent call last)",
      "Cell \u001b[1;32mIn[23], line 1\u001b[0m\n\u001b[1;32m----> 1\u001b[0m greeting()\n",
      "Cell \u001b[1;32mIn[22], line 3\u001b[0m, in \u001b[0;36mgreeting\u001b[1;34m()\u001b[0m\n\u001b[0;32m      1\u001b[0m \u001b[38;5;28;01mdef\u001b[39;00m\u001b[38;5;250m \u001b[39m\u001b[38;5;21mgreeting\u001b[39m():\n\u001b[0;32m      2\u001b[0m     \u001b[38;5;28mprint\u001b[39m(\u001b[38;5;124m\"\u001b[39m\u001b[38;5;124mhello everyone my name is kanika\u001b[39m\u001b[38;5;124m\"\u001b[39m)\n\u001b[1;32m----> 3\u001b[0m     \u001b[38;5;28mprint\u001b[39m(\u001b[38;5;241m8\u001b[39m\u001b[38;5;241m/\u001b[39m\u001b[38;5;241m0\u001b[39m)\n\u001b[0;32m      4\u001b[0m     \u001b[38;5;28mprint\u001b[39m(\u001b[38;5;124m\"\u001b[39m\u001b[38;5;124mhi\u001b[39m\u001b[38;5;124m\"\u001b[39m)\n",
      "\u001b[1;31mZeroDivisionError\u001b[0m: division by zero"
     ]
    }
   ],
   "source": [
    "greeting()"
   ]
  },
  {
   "cell_type": "code",
   "execution_count": 24,
   "id": "0a3ec231-768f-404f-a50a-925538438492",
   "metadata": {},
   "outputs": [],
   "source": [
    "def greeting():\n",
    "    print(\"hello everyone my name is kanika\")\n",
    "    print(\"hi\")\n",
    "    print(8/0)\n",
    "   "
   ]
  },
  {
   "cell_type": "code",
   "execution_count": 25,
   "id": "e2fd606d-a71a-45ae-9714-8f3e811c81b1",
   "metadata": {},
   "outputs": [
    {
     "name": "stdout",
     "output_type": "stream",
     "text": [
      "hello everyone my name is kanika\n",
      "hi\n"
     ]
    },
    {
     "ename": "ZeroDivisionError",
     "evalue": "division by zero",
     "output_type": "error",
     "traceback": [
      "\u001b[1;31m---------------------------------------------------------------------------\u001b[0m",
      "\u001b[1;31mZeroDivisionError\u001b[0m                         Traceback (most recent call last)",
      "Cell \u001b[1;32mIn[25], line 1\u001b[0m\n\u001b[1;32m----> 1\u001b[0m greeting()\n",
      "Cell \u001b[1;32mIn[24], line 4\u001b[0m, in \u001b[0;36mgreeting\u001b[1;34m()\u001b[0m\n\u001b[0;32m      2\u001b[0m \u001b[38;5;28mprint\u001b[39m(\u001b[38;5;124m\"\u001b[39m\u001b[38;5;124mhello everyone my name is kanika\u001b[39m\u001b[38;5;124m\"\u001b[39m)\n\u001b[0;32m      3\u001b[0m \u001b[38;5;28mprint\u001b[39m(\u001b[38;5;124m\"\u001b[39m\u001b[38;5;124mhi\u001b[39m\u001b[38;5;124m\"\u001b[39m)\n\u001b[1;32m----> 4\u001b[0m \u001b[38;5;28mprint\u001b[39m(\u001b[38;5;241m8\u001b[39m\u001b[38;5;241m/\u001b[39m\u001b[38;5;241m0\u001b[39m)\n",
      "\u001b[1;31mZeroDivisionError\u001b[0m: division by zero"
     ]
    }
   ],
   "source": [
    "greeting()"
   ]
  },
  {
   "cell_type": "markdown",
   "id": "79e5d880-137e-4f14-82e6-32969a0c1479",
   "metadata": {},
   "source": [
    "### User defined functions types"
   ]
  },
  {
   "cell_type": "code",
   "execution_count": 26,
   "id": "40c26748-aa86-42f1-a76a-7441d08d2907",
   "metadata": {},
   "outputs": [],
   "source": [
    "#simple functions\n",
    "\n",
    "def greeting():\n",
    "    print(\"hello everyone nice to meet you\")"
   ]
  },
  {
   "cell_type": "code",
   "execution_count": 27,
   "id": "d8a56b0d-acec-4570-9d15-201c33c2924e",
   "metadata": {},
   "outputs": [
    {
     "name": "stdout",
     "output_type": "stream",
     "text": [
      "hello everyone nice to meet you\n"
     ]
    }
   ],
   "source": [
    "greeting()"
   ]
  },
  {
   "cell_type": "code",
   "execution_count": 41,
   "id": "c7e39811-81b3-47b8-8b09-7e4c40f3bb2f",
   "metadata": {},
   "outputs": [],
   "source": [
    "# input functions\n",
    "\n",
    "def greeting(name):\n",
    "    print(f\"hello {name} nice to meet you\")"
   ]
  },
  {
   "cell_type": "code",
   "execution_count": 42,
   "id": "b464ea50-d42f-44a1-bbe8-4f3e9f428aee",
   "metadata": {},
   "outputs": [
    {
     "name": "stdout",
     "output_type": "stream",
     "text": [
      "hello kanika nice to meet you\n"
     ]
    }
   ],
   "source": [
    "greeting(\"kanika\")"
   ]
  },
  {
   "cell_type": "code",
   "execution_count": 43,
   "id": "25e77dd6-7589-4d9d-b4a1-ed75b6e62b21",
   "metadata": {},
   "outputs": [
    {
     "name": "stdout",
     "output_type": "stream",
     "text": [
      "hello teena nice to meet you\n"
     ]
    }
   ],
   "source": [
    "greeting(\"teena\")"
   ]
  },
  {
   "cell_type": "code",
   "execution_count": 44,
   "id": "18d357ad-d9f2-4c5e-90d1-a0dd5f28d10a",
   "metadata": {},
   "outputs": [],
   "source": [
    "def area_of_circle(r):\n",
    "    print((22/7)*r*r)"
   ]
  },
  {
   "cell_type": "code",
   "execution_count": 46,
   "id": "84f9d12b-bd10-40e0-99aa-9b1aee9313bd",
   "metadata": {},
   "outputs": [
    {
     "name": "stdout",
     "output_type": "stream",
     "text": [
      "12.571428571428571\n"
     ]
    }
   ],
   "source": [
    "area_of_circle(2)"
   ]
  },
  {
   "cell_type": "code",
   "execution_count": 47,
   "id": "98e7910c-8eeb-487d-9898-1c12a320e8c2",
   "metadata": {},
   "outputs": [
    {
     "name": "stdout",
     "output_type": "stream",
     "text": [
      "113.14285714285714\n"
     ]
    }
   ],
   "source": [
    "area_of_circle(6)"
   ]
  },
  {
   "cell_type": "code",
   "execution_count": 2,
   "id": "fb8a6983-2499-4ef7-ac22-3ba01ef69f53",
   "metadata": {},
   "outputs": [],
   "source": [
    "def area_of_rectangle(lenght , width):\n",
    "    print(length*width)"
   ]
  },
  {
   "cell_type": "code",
   "execution_count": 4,
   "id": "9e1444f0-9447-4e4d-a5dd-4ece7267f924",
   "metadata": {},
   "outputs": [
    {
     "ename": "NameError",
     "evalue": "name 'length' is not defined",
     "output_type": "error",
     "traceback": [
      "\u001b[1;31m---------------------------------------------------------------------------\u001b[0m",
      "\u001b[1;31mNameError\u001b[0m                                 Traceback (most recent call last)",
      "Cell \u001b[1;32mIn[4], line 1\u001b[0m\n\u001b[1;32m----> 1\u001b[0m area_of_rectangle(\u001b[38;5;241m4\u001b[39m , \u001b[38;5;241m5\u001b[39m)\n",
      "Cell \u001b[1;32mIn[2], line 2\u001b[0m, in \u001b[0;36marea_of_rectangle\u001b[1;34m(lenght, width)\u001b[0m\n\u001b[0;32m      1\u001b[0m \u001b[38;5;28;01mdef\u001b[39;00m\u001b[38;5;250m \u001b[39m\u001b[38;5;21marea_of_rectangle\u001b[39m(lenght, width):\n\u001b[1;32m----> 2\u001b[0m     \u001b[38;5;28mprint\u001b[39m(length\u001b[38;5;241m*\u001b[39mwidth)\n",
      "\u001b[1;31mNameError\u001b[0m: name 'length' is not defined"
     ]
    }
   ],
   "source": [
    "area_of_rectangle(4 , 5)"
   ]
  },
  {
   "cell_type": "markdown",
   "id": "726c6efb-3ec8-406f-ae9c-858465024db1",
   "metadata": {},
   "source": [
    "### Scope"
   ]
  },
  {
   "cell_type": "code",
   "execution_count": 64,
   "id": "837f2717-1126-42e6-87fd-15d4bb9697b9",
   "metadata": {},
   "outputs": [],
   "source": [
    "# scope is very important topic in interview\n",
    "# jo variables kisi class ya function andr define hotai hai usai scope kahtai hai\n",
    "# scope are of two types-global scope and local scope (for outer variable it's global scope and inner variable is called local scope)"
   ]
  },
  {
   "cell_type": "code",
   "execution_count": 50,
   "id": "c5f06965-03d8-41cf-8c0a-5acdac7a2a21",
   "metadata": {},
   "outputs": [],
   "source": [
    "job=\"netmax\"\n",
    "def myProfile():\n",
    "    name=\"kanika\"\n",
    "    age=20\n",
    "    education=\"bsc\"\n",
    "    print(name,age,education)"
   ]
  },
  {
   "cell_type": "code",
   "execution_count": 51,
   "id": "2d2b37a4-dd30-4bf9-ad4e-bb990da99759",
   "metadata": {},
   "outputs": [
    {
     "name": "stdout",
     "output_type": "stream",
     "text": [
      "kanika 20 bsc\n"
     ]
    }
   ],
   "source": [
    "myProfile()"
   ]
  },
  {
   "cell_type": "code",
   "execution_count": 52,
   "id": "af814d3d-dd63-4e7d-a7b9-7595f1f2744e",
   "metadata": {},
   "outputs": [],
   "source": [
    "job=\"netmax\"\n",
    "def myProfile():\n",
    "    name=\"kanika\"\n",
    "    age=20\n",
    "    education=\"bsc\"\n",
    "    print(name,age,education,job)"
   ]
  },
  {
   "cell_type": "code",
   "execution_count": 54,
   "id": "3c3cd5c5-afbe-481c-964d-c944c3533624",
   "metadata": {},
   "outputs": [
    {
     "name": "stdout",
     "output_type": "stream",
     "text": [
      "kanika 20 bsc netmax\n"
     ]
    }
   ],
   "source": [
    "myProfile()"
   ]
  },
  {
   "cell_type": "code",
   "execution_count": 71,
   "id": "756689f7-aef4-456b-8ad2-1c240a204ec2",
   "metadata": {},
   "outputs": [
    {
     "ename": "NameError",
     "evalue": "name 'age' is not defined",
     "output_type": "error",
     "traceback": [
      "\u001b[1;31m---------------------------------------------------------------------------\u001b[0m",
      "\u001b[1;31mNameError\u001b[0m                                 Traceback (most recent call last)",
      "Cell \u001b[1;32mIn[71], line 2\u001b[0m\n\u001b[0;32m      1\u001b[0m \u001b[38;5;66;03m#andr define hai es karkai bhar kisai nu ni pta\u001b[39;00m\n\u001b[1;32m----> 2\u001b[0m age\n",
      "\u001b[1;31mNameError\u001b[0m: name 'age' is not defined"
     ]
    }
   ],
   "source": [
    "#andr define hai es karkai bhar kisai nu ni pta\n",
    "age"
   ]
  },
  {
   "cell_type": "code",
   "execution_count": 67,
   "id": "c01f264a-7c01-4534-8697-c02803bf99f3",
   "metadata": {},
   "outputs": [
    {
     "ename": "NameError",
     "evalue": "name 'name' is not defined",
     "output_type": "error",
     "traceback": [
      "\u001b[1;31m---------------------------------------------------------------------------\u001b[0m",
      "\u001b[1;31mNameError\u001b[0m                                 Traceback (most recent call last)",
      "Cell \u001b[1;32mIn[67], line 1\u001b[0m\n\u001b[1;32m----> 1\u001b[0m name\n",
      "\u001b[1;31mNameError\u001b[0m: name 'name' is not defined"
     ]
    }
   ],
   "source": [
    "name"
   ]
  },
  {
   "cell_type": "code",
   "execution_count": 72,
   "id": "c825ed4a-9ba3-4c65-a006-59d57d996dc0",
   "metadata": {},
   "outputs": [
    {
     "data": {
      "text/plain": [
       "'netmax'"
      ]
     },
     "execution_count": 72,
     "metadata": {},
     "output_type": "execute_result"
    }
   ],
   "source": [
    "#job bhar define kiti andr saab  nu pta hai\n",
    "job"
   ]
  },
  {
   "cell_type": "code",
   "execution_count": 63,
   "id": "9e69b9d9-06a7-43cd-9e6f-9c3722529a18",
   "metadata": {},
   "outputs": [],
   "source": [
    "#global scope\n",
    "job=\"netmax\"\n",
    "def myProfile():\n",
    "    #local scope\n",
    "    name=\"kanika\"\n",
    "    age=20\n",
    "    education=\"bsc\"\n",
    "    job=\"hunting\"\n",
    "    print(name,age,education,job)"
   ]
  },
  {
   "cell_type": "code",
   "execution_count": 56,
   "id": "aebc2836-c94b-4171-9e5b-1cc63e1eee59",
   "metadata": {},
   "outputs": [
    {
     "name": "stdout",
     "output_type": "stream",
     "text": [
      "kanika 20 bsc hunting\n"
     ]
    }
   ],
   "source": [
    "myProfile()"
   ]
  },
  {
   "cell_type": "code",
   "execution_count": 73,
   "id": "10c77dd8-ff79-47f3-9563-b9efa5228f11",
   "metadata": {},
   "outputs": [],
   "source": [
    "#global scope\n",
    "job=\"netmax\"\n",
    "def myProfile():\n",
    "    #local scope\n",
    "    name=\"kanika\"\n",
    "    global age\n",
    "    age=20\n",
    "    education=\"bsc\"\n",
    "    job=\"hunting\"\n",
    "    print(name,age,education,job)"
   ]
  },
  {
   "cell_type": "code",
   "execution_count": 74,
   "id": "e508815c-137b-4d17-89dd-5de27c52c086",
   "metadata": {},
   "outputs": [
    {
     "name": "stdout",
     "output_type": "stream",
     "text": [
      "kanika 20 bsc hunting\n"
     ]
    }
   ],
   "source": [
    "myProfile()"
   ]
  },
  {
   "cell_type": "code",
   "execution_count": 79,
   "id": "cf0d2be2-5eca-43d1-a95b-45269d00cfd2",
   "metadata": {},
   "outputs": [
    {
     "data": {
      "text/plain": [
       "'netmax'"
      ]
     },
     "execution_count": 79,
     "metadata": {},
     "output_type": "execute_result"
    }
   ],
   "source": [
    "# job netmax he rahni because jo andr define hoya uda bhar nhi pta lagna output sirf bhar alai di ani hai\n",
    "job"
   ]
  },
  {
   "cell_type": "code",
   "execution_count": 76,
   "id": "e42c764f-a52e-442c-8585-6ac5020e7ece",
   "metadata": {},
   "outputs": [
    {
     "data": {
      "text/plain": [
       "20"
      ]
     },
     "execution_count": 76,
     "metadata": {},
     "output_type": "execute_result"
    }
   ],
   "source": [
    "#age hun ta pta lag gi because asi age nu global karta\n",
    "age"
   ]
  },
  {
   "cell_type": "code",
   "execution_count": 77,
   "id": "8c540771-1d34-45ac-8fbd-3e1eebf36a4f",
   "metadata": {},
   "outputs": [
    {
     "ename": "NameError",
     "evalue": "name 'name' is not defined",
     "output_type": "error",
     "traceback": [
      "\u001b[1;31m---------------------------------------------------------------------------\u001b[0m",
      "\u001b[1;31mNameError\u001b[0m                                 Traceback (most recent call last)",
      "Cell \u001b[1;32mIn[77], line 1\u001b[0m\n\u001b[1;32m----> 1\u001b[0m name\n",
      "\u001b[1;31mNameError\u001b[0m: name 'name' is not defined"
     ]
    }
   ],
   "source": [
    "name"
   ]
  },
  {
   "cell_type": "code",
   "execution_count": 7,
   "id": "d947fb71-89cc-46d8-b571-e200da7390c9",
   "metadata": {},
   "outputs": [],
   "source": [
    "# default function\n",
    "def greeting(name='USER'):\n",
    "    print(f'hello {name}, nice to meet you')"
   ]
  },
  {
   "cell_type": "code",
   "execution_count": 8,
   "id": "b249729e-bf1a-4d64-bb93-a7eea846aaa0",
   "metadata": {},
   "outputs": [
    {
     "name": "stdout",
     "output_type": "stream",
     "text": [
      "hello USER, nice to meet you\n"
     ]
    }
   ],
   "source": [
    "greeting()"
   ]
  },
  {
   "cell_type": "code",
   "execution_count": 9,
   "id": "b9029aa4-2772-4c9f-acab-5948f83c1965",
   "metadata": {},
   "outputs": [],
   "source": [
    "def salary_structure(Salary,tax_rate):\n",
    "    print(Salary*tax_rate)"
   ]
  },
  {
   "cell_type": "code",
   "execution_count": 10,
   "id": "ebd115e5-fd21-4cdb-863a-7f35d0e0119c",
   "metadata": {},
   "outputs": [
    {
     "name": "stdout",
     "output_type": "stream",
     "text": [
      "9600.0\n"
     ]
    }
   ],
   "source": [
    "salary_structure(80000, 0.12)"
   ]
  },
  {
   "cell_type": "code",
   "execution_count": 11,
   "id": "489db9b8-47f4-4316-b6e1-1d37632fef1b",
   "metadata": {},
   "outputs": [],
   "source": [
    "def salary_structure(Salary,tax_rate):\n",
    "    tax=Salary*tax_rate\n",
    "    print(tax)"
   ]
  },
  {
   "cell_type": "code",
   "execution_count": 12,
   "id": "d2677cf1-c3d0-47bf-86f0-830e881c9333",
   "metadata": {},
   "outputs": [
    {
     "name": "stdout",
     "output_type": "stream",
     "text": [
      "9600.0\n"
     ]
    }
   ],
   "source": [
    "salary_structure(80000, 0.12)"
   ]
  },
  {
   "cell_type": "code",
   "execution_count": 13,
   "id": "e6eba401-80ee-4a35-aaa6-6589aab4980d",
   "metadata": {},
   "outputs": [
    {
     "name": "stdout",
     "output_type": "stream",
     "text": [
      "9600.0\n"
     ]
    }
   ],
   "source": [
    "tax=salary_structure(80000, 0.12)"
   ]
  },
  {
   "cell_type": "code",
   "execution_count": 14,
   "id": "5b190b4b-3313-49da-8c40-b1d3334a39e7",
   "metadata": {},
   "outputs": [],
   "source": [
    "# tax vich koi value save nhi hoyi because print vich kush v likan nal us variable ch value save nhi hundi\n",
    "#variable ch value save karvan layi return karn painda\n",
    "tax"
   ]
  },
  {
   "cell_type": "code",
   "execution_count": 15,
   "id": "d4fdab08-d72d-4c77-8b4e-1679c0c2ebe4",
   "metadata": {},
   "outputs": [
    {
     "ename": "SyntaxError",
     "evalue": "parameter without a default follows parameter with a default (1595269838.py, line 4)",
     "output_type": "error",
     "traceback": [
      "\u001b[1;36m  Cell \u001b[1;32mIn[15], line 4\u001b[1;36m\u001b[0m\n\u001b[1;33m    def salary_structure(Salary=0,tax_rate):\u001b[0m\n\u001b[1;37m                                  ^\u001b[0m\n\u001b[1;31mSyntaxError\u001b[0m\u001b[1;31m:\u001b[0m parameter without a default follows parameter with a default\n"
     ]
    }
   ],
   "source": [
    "# return function\n",
    "# last valai items ch default dita ja sakda but agar sirf agai alai value ch default daita ta error ana \n",
    "# default valiya sariya values last vich aniya\n",
    "def salary_structure(Salary=0,tax_rate):\n",
    "    tax=Salary*tax_rate\n",
    "    return tax"
   ]
  },
  {
   "cell_type": "code",
   "execution_count": 99,
   "id": "943d2319-1c0b-4652-8e77-20ae07e043fd",
   "metadata": {},
   "outputs": [],
   "source": [
    "tax=salary_structure(80000, 0.12)"
   ]
  },
  {
   "cell_type": "code",
   "execution_count": 100,
   "id": "747d13ca-e6df-4a69-bd93-2edb0d04df85",
   "metadata": {},
   "outputs": [
    {
     "data": {
      "text/plain": [
       "9600.0"
      ]
     },
     "execution_count": 100,
     "metadata": {},
     "output_type": "execute_result"
    }
   ],
   "source": [
    "tax"
   ]
  },
  {
   "cell_type": "code",
   "execution_count": 107,
   "id": "d36a34ba-b1e5-48d8-b2ea-130b533550e9",
   "metadata": {},
   "outputs": [],
   "source": [
    "#eh code run kar gaiya because default last value per hai\n",
    "def salary_structure(Salary,tax_rate=0):\n",
    "    tax=Salary*tax_rate\n",
    "    return tax"
   ]
  },
  {
   "cell_type": "code",
   "execution_count": 108,
   "id": "3bf8575f-2e6c-4ebc-9a7c-96e0cdacb7fd",
   "metadata": {},
   "outputs": [],
   "source": [
    "#eh code run kar gaiya because default dono values per hai\n",
    "def salary_structure(Salary=0,tax_rate=0):\n",
    "    tax=Salary*tax_rate\n",
    "    return tax"
   ]
  },
  {
   "cell_type": "code",
   "execution_count": 109,
   "id": "24fc982f-ff7f-4a3c-b5c2-8608d86bd104",
   "metadata": {},
   "outputs": [
    {
     "ename": "SyntaxError",
     "evalue": "positional argument follows keyword argument (1710532773.py, line 1)",
     "output_type": "error",
     "traceback": [
      "\u001b[1;36m  Cell \u001b[1;32mIn[109], line 1\u001b[1;36m\u001b[0m\n\u001b[1;33m    tax=salary_structure(salary=80000, 0.12)\u001b[0m\n\u001b[1;37m                                           ^\u001b[0m\n\u001b[1;31mSyntaxError\u001b[0m\u001b[1;31m:\u001b[0m positional argument follows keyword argument\n"
     ]
    }
   ],
   "source": [
    "tax=salary_structure(salary=80000, 0.12)"
   ]
  },
  {
   "cell_type": "code",
   "execution_count": 112,
   "id": "a6cb1ff1-5079-4544-850a-b23ef82000ef",
   "metadata": {},
   "outputs": [],
   "source": [
    "tax=salary_structure(Salary=80000, tax_rate= 0.12)"
   ]
  },
  {
   "cell_type": "code",
   "execution_count": 121,
   "id": "2e872ffd-9a79-4311-9ea9-76f6a2a453a3",
   "metadata": {},
   "outputs": [],
   "source": [
    "tax=salary_structure(80000, tax_rate= 0.12)"
   ]
  },
  {
   "cell_type": "code",
   "execution_count": 16,
   "id": "2918a370-47ae-4988-b00a-aa190cca93fc",
   "metadata": {},
   "outputs": [],
   "source": [
    "### imporatant question in interview\n",
    "## jo oo mangda oo paramter\n",
    "# volume of cube (length, breadth, height) these are calles parameters which are inside the brackets\n",
    "# salary structure (salary,tax_rate) there are two parameters- salary and tax_rat\n",
    "## jo cheej pass karkai andi oo argument hunda hai eg.\n",
    "# salary structure (50000)- this is argument (salary ki value argument hai ethai matlab 5000 is arugment here)"
   ]
  },
  {
   "cell_type": "code",
   "execution_count": 23,
   "id": "9cf3311b-a9bd-4652-a227-0af190920280",
   "metadata": {},
   "outputs": [],
   "source": [
    "def volume_of_cuboid(length,width,height):\n",
    "    dimensions= f\"\"\"\n",
    "    length:{length}\n",
    "    width:{width}\n",
    "    height:{height}\n",
    "    \"\"\"\n",
    "    print(dimensions)\n",
    "    return length*width*height"
   ]
  },
  {
   "cell_type": "code",
   "execution_count": 24,
   "id": "448b076f-05e1-406d-870a-f5a59418aecb",
   "metadata": {},
   "outputs": [
    {
     "name": "stdout",
     "output_type": "stream",
     "text": [
      "\n",
      "    length:50\n",
      "    width:80\n",
      "    height:40\n",
      "    \n"
     ]
    },
    {
     "data": {
      "text/plain": [
       "160000"
      ]
     },
     "execution_count": 24,
     "metadata": {},
     "output_type": "execute_result"
    }
   ],
   "source": [
    "# positional arugument means position dasdi ki kis cheej di kya value hai eg. ethai length,width,height un apnai ap positin according lai li hai\n",
    "volume_of_cuboid(50,80,40)"
   ]
  },
  {
   "cell_type": "code",
   "execution_count": 25,
   "id": "0a14dbea-ab61-4b7b-bd5b-79550f1a9008",
   "metadata": {},
   "outputs": [],
   "source": [
    "# agar asi ap kush help vich add karna hovai ta eda kardai eno asi dock string v kah dindai or documentation string v jo triple string vich likya va a \n",
    "def volume_of_cuboid(length,width,height):\n",
    "# sirf def dai nichai vali 1st string he chalni agar 2-3 strings likiya ta v sirf 1st string he chalni\n",
    "    \"\"\"   \n",
    "    this function calculates volume of cuboid \n",
    "    it takes lenght,width,height, as input and multiplies them\n",
    "    \n",
    "    \"\"\"\n",
    "    \"\"\"\n",
    "    hi    \n",
    "    \"\"\"\n",
    "    dimensions= f\"\"\"\n",
    "        length:{length}\n",
    "        width:{width}\n",
    "        height:{height}\n",
    "    \"\"\"\n",
    "    print(dimensions)\n",
    "    return length*width*height"
   ]
  },
  {
   "cell_type": "code",
   "execution_count": 26,
   "id": "ce73b1b0-6e9a-41e6-a787-a08fffc7db9b",
   "metadata": {},
   "outputs": [
    {
     "name": "stdout",
     "output_type": "stream",
     "text": [
      "Help on function volume_of_cuboid in module __main__:\n",
      "\n",
      "volume_of_cuboid(length, width, height)\n",
      "    this function calculates volume of cuboid\n",
      "    it takes lenght,width,height, as input and multiplies them\n",
      "\n"
     ]
    }
   ],
   "source": [
    "help(volume_of_cuboid)"
   ]
  },
  {
   "cell_type": "code",
   "execution_count": 141,
   "id": "30efb3a2-42ff-4c28-961a-d61e1c5cae2a",
   "metadata": {},
   "outputs": [
    {
     "name": "stdout",
     "output_type": "stream",
     "text": [
      "\n",
      "        length:50\n",
      "        width:80\n",
      "        height:100\n",
      "    \n"
     ]
    },
    {
     "data": {
      "text/plain": [
       "400000"
      ]
     },
     "execution_count": 141,
     "metadata": {},
     "output_type": "execute_result"
    }
   ],
   "source": [
    "#keyword argument\n",
    "volume_of_cuboid(length=50,height=100,width=80)"
   ]
  },
  {
   "cell_type": "code",
   "execution_count": 145,
   "id": "6312634f-a234-4189-aac2-c0cb4533b8c9",
   "metadata": {},
   "outputs": [
    {
     "ename": "SyntaxError",
     "evalue": "positional argument follows keyword argument (4080383624.py, line 2)",
     "output_type": "error",
     "traceback": [
      "\u001b[1;36m  Cell \u001b[1;32mIn[145], line 2\u001b[1;36m\u001b[0m\n\u001b[1;33m    volume_of_cuboid(length=50,height=100,80)\u001b[0m\n\u001b[1;37m                                            ^\u001b[0m\n\u001b[1;31mSyntaxError\u001b[0m\u001b[1;31m:\u001b[0m positional argument follows keyword argument\n"
     ]
    }
   ],
   "source": [
    "#equal di value valai bacho anaiya values\n",
    "volume_of_cuboid(length=50,height=100,80)"
   ]
  },
  {
   "cell_type": "code",
   "execution_count": 146,
   "id": "cd24eae4-ea4b-4b33-aad2-cd953b72e10a",
   "metadata": {},
   "outputs": [
    {
     "ename": "TypeError",
     "evalue": "volume_of_cuboid() got multiple values for argument 'length'",
     "output_type": "error",
     "traceback": [
      "\u001b[1;31m---------------------------------------------------------------------------\u001b[0m",
      "\u001b[1;31mTypeError\u001b[0m                                 Traceback (most recent call last)",
      "Cell \u001b[1;32mIn[146], line 2\u001b[0m\n\u001b[0;32m      1\u001b[0m \u001b[38;5;66;03m# es vich oo assume karda paiya ki length 80 a baad vich asi 50 kah dita jis karkai oo error daiya karda\u001b[39;00m\n\u001b[1;32m----> 2\u001b[0m volume_of_cuboid(\u001b[38;5;241m80\u001b[39m,length\u001b[38;5;241m=\u001b[39m\u001b[38;5;241m50\u001b[39m,height\u001b[38;5;241m=\u001b[39m\u001b[38;5;241m100\u001b[39m)\n",
      "\u001b[1;31mTypeError\u001b[0m: volume_of_cuboid() got multiple values for argument 'length'"
     ]
    }
   ],
   "source": [
    "# es vich oo assume karda paiya ki length 80 a baad vich asi 50 kah dita jis karkai oo error daiya karda\n",
    "volume_of_cuboid(80,length=50,height=100)"
   ]
  },
  {
   "cell_type": "code",
   "execution_count": 148,
   "id": "801cd898-2baa-4848-9e28-a3565bc82bc5",
   "metadata": {},
   "outputs": [],
   "source": [
    "li=[8,6,4,7,1,6,8,4,6]\n",
    "def sort_half(li: list): # :list ta likya because next line ch li to baad . lagan too baad tab nhi chalya karda tha es karkai eh likya\n",
    "    #li.append\n",
    "    length=len(li)\n",
    "    li.sort()\n",
    "    firstHalf=li[:length//2]\n",
    "    secondHalf=li[length//2:]\n",
    "    secondHalf.sort(reverse=True)\n",
    "    return firstHalf+secondHalf"
   ]
  },
  {
   "cell_type": "code",
   "execution_count": 150,
   "id": "02fae5f5-fb88-40d3-8cd2-bf3b2646ae95",
   "metadata": {},
   "outputs": [
    {
     "data": {
      "text/plain": [
       "[1, 4, 4, 6, 8, 8, 7, 6, 6]"
      ]
     },
     "execution_count": 150,
     "metadata": {},
     "output_type": "execute_result"
    }
   ],
   "source": [
    "sort_half(li)"
   ]
  },
  {
   "cell_type": "code",
   "execution_count": 1,
   "id": "9fd9c848-9f48-4f4f-9d97-ce2f673c6b50",
   "metadata": {},
   "outputs": [],
   "source": [
    "#palindrome- word,element,items etc. same from starting and ending\n",
    "def checking_palindrome(n):\n",
    "    return str(n)==str(n)[::-1]\n",
    "    "
   ]
  },
  {
   "cell_type": "code",
   "execution_count": 3,
   "id": "1d4d4d62-df3f-46ef-ba42-bb8eecea9a1a",
   "metadata": {},
   "outputs": [
    {
     "data": {
      "text/plain": [
       "True"
      ]
     },
     "execution_count": 3,
     "metadata": {},
     "output_type": "execute_result"
    }
   ],
   "source": [
    "checking_palindrome(\"kak\")"
   ]
  },
  {
   "cell_type": "code",
   "execution_count": 4,
   "id": "7bf8451e-e616-4fdd-a374-b6fe34225233",
   "metadata": {},
   "outputs": [],
   "source": [
    "def checking_palindrome(n):\n",
    "    return str(n).strip().lower()==str(n)[::-1].lower()\n",
    "    "
   ]
  },
  {
   "cell_type": "code",
   "execution_count": 6,
   "id": "37169c2b-ad33-411d-83b0-81440143087a",
   "metadata": {},
   "outputs": [
    {
     "data": {
      "text/plain": [
       "True"
      ]
     },
     "execution_count": 6,
     "metadata": {},
     "output_type": "execute_result"
    }
   ],
   "source": [
    "checking_palindrome(\"kaK\")"
   ]
  },
  {
   "cell_type": "code",
   "execution_count": 7,
   "id": "e9e63a16-e720-4103-a37e-dd1dfa2d8cc5",
   "metadata": {},
   "outputs": [
    {
     "data": {
      "text/plain": [
       "5"
      ]
     },
     "execution_count": 7,
     "metadata": {},
     "output_type": "execute_result"
    }
   ],
   "source": [
    "5 or 8"
   ]
  },
  {
   "cell_type": "code",
   "execution_count": 8,
   "id": "1e51f0b9-c3c4-4268-afee-17de5a84ace3",
   "metadata": {},
   "outputs": [
    {
     "data": {
      "text/plain": [
       "8"
      ]
     },
     "execution_count": 8,
     "metadata": {},
     "output_type": "execute_result"
    }
   ],
   "source": [
    "\"\" or 8"
   ]
  },
  {
   "cell_type": "code",
   "execution_count": 10,
   "id": "bf362284-1751-42ff-b2d9-b445e05a2615",
   "metadata": {},
   "outputs": [],
   "source": [
    "def checking_palindrome(n):\n",
    "    n = n or input()\n",
    "    return str(n).strip().lower()==str(n)[::-1].lower()\n",
    "    "
   ]
  },
  {
   "cell_type": "code",
   "execution_count": 16,
   "id": "731e96cf-ca6c-416c-b6ab-b47ed5287e7d",
   "metadata": {},
   "outputs": [
    {
     "name": "stdin",
     "output_type": "stream",
     "text": [
      " 125\n"
     ]
    },
    {
     "data": {
      "text/plain": [
       "False"
      ]
     },
     "execution_count": 16,
     "metadata": {},
     "output_type": "execute_result"
    }
   ],
   "source": [
    "checking_palindrome(\"\")"
   ]
  },
  {
   "cell_type": "code",
   "execution_count": 18,
   "id": "7a842f89-7f3b-4415-a514-0baebf72aa49",
   "metadata": {},
   "outputs": [
    {
     "ename": "_IncompleteInputError",
     "evalue": "incomplete input (344021185.py, line 1)",
     "output_type": "error",
     "traceback": [
      "\u001b[1;36m  Cell \u001b[1;32mIn[18], line 1\u001b[1;36m\u001b[0m\n\u001b[1;33m    def check_prime():\u001b[0m\n\u001b[1;37m                      ^\u001b[0m\n\u001b[1;31m_IncompleteInputError\u001b[0m\u001b[1;31m:\u001b[0m incomplete input\n"
     ]
    }
   ],
   "source": [
    "def check_prime():"
   ]
  },
  {
   "cell_type": "code",
   "execution_count": 17,
   "id": "eeb6d57e-6bca-4187-9d77-ea5c6b9e844d",
   "metadata": {},
   "outputs": [],
   "source": [
    "# with write pass there  \n",
    "def check_prime():\n",
    "    pass"
   ]
  },
  {
   "cell_type": "code",
   "execution_count": 21,
   "id": "625b3892-3a7b-4855-9b87-9a73c93058ed",
   "metadata": {},
   "outputs": [],
   "source": [
    "def check_prime(n):\n",
    "    for i in range(n):\n",
    "        print(i)\n",
    "    "
   ]
  },
  {
   "cell_type": "code",
   "execution_count": 22,
   "id": "1080190b-d571-4490-915f-ad75d9bdbd03",
   "metadata": {},
   "outputs": [
    {
     "name": "stdout",
     "output_type": "stream",
     "text": [
      "0\n",
      "1\n",
      "2\n",
      "3\n",
      "4\n",
      "5\n",
      "6\n",
      "7\n",
      "8\n",
      "9\n"
     ]
    }
   ],
   "source": [
    "check_prime(10)"
   ]
  },
  {
   "cell_type": "code",
   "execution_count": 23,
   "id": "188052b6-f91e-4c42-a53f-84fa63a9b269",
   "metadata": {},
   "outputs": [],
   "source": [
    "def check_prime(n):\n",
    "    for i in range(2,n):\n",
    "        if n%i==0:\n",
    "            return False\n",
    "    return True\n",
    "    "
   ]
  },
  {
   "cell_type": "code",
   "execution_count": 24,
   "id": "37e6ac56-1b6b-4ec1-9abb-bde8be9830cb",
   "metadata": {},
   "outputs": [
    {
     "data": {
      "text/plain": [
       "True"
      ]
     },
     "execution_count": 24,
     "metadata": {},
     "output_type": "execute_result"
    }
   ],
   "source": [
    "check_prime(5)"
   ]
  },
  {
   "cell_type": "code",
   "execution_count": 25,
   "id": "0972f218-ef51-41fa-899a-6704045a449b",
   "metadata": {},
   "outputs": [],
   "source": [
    "def check_prime(n):\n",
    "    for i in range(2,n):\n",
    "        print(n,i,n%i)\n",
    "        if n%i==0:\n",
    "            return False\n",
    "    return True\n",
    "    "
   ]
  },
  {
   "cell_type": "code",
   "execution_count": 26,
   "id": "f0b07cb9-9233-43fb-92ca-19faaa489e1f",
   "metadata": {},
   "outputs": [
    {
     "name": "stdout",
     "output_type": "stream",
     "text": [
      "9 2 1\n",
      "9 3 0\n"
     ]
    },
    {
     "data": {
      "text/plain": [
       "False"
      ]
     },
     "execution_count": 26,
     "metadata": {},
     "output_type": "execute_result"
    }
   ],
   "source": [
    "check_prime(9)"
   ]
  },
  {
   "cell_type": "code",
   "execution_count": 28,
   "id": "ab2d6d05-e8e6-4830-9698-01e829023511",
   "metadata": {},
   "outputs": [
    {
     "name": "stdout",
     "output_type": "stream",
     "text": [
      "3 2 1\n"
     ]
    },
    {
     "data": {
      "text/plain": [
       "True"
      ]
     },
     "execution_count": 28,
     "metadata": {},
     "output_type": "execute_result"
    }
   ],
   "source": [
    "check_prime(3)"
   ]
  },
  {
   "cell_type": "code",
   "execution_count": 29,
   "id": "61e4a1c9-a10d-48ec-b490-269fb4ecdfdd",
   "metadata": {},
   "outputs": [
    {
     "data": {
      "text/plain": [
       "True"
      ]
     },
     "execution_count": 29,
     "metadata": {},
     "output_type": "execute_result"
    }
   ],
   "source": [
    "check_prime(0)"
   ]
  },
  {
   "cell_type": "code",
   "execution_count": 30,
   "id": "2e0e9141-19f4-49e9-9033-2974ab454d2e",
   "metadata": {},
   "outputs": [
    {
     "name": "stdout",
     "output_type": "stream",
     "text": [
      "25 2 1\n",
      "25 3 1\n",
      "25 4 1\n",
      "25 5 0\n"
     ]
    },
    {
     "data": {
      "text/plain": [
       "False"
      ]
     },
     "execution_count": 30,
     "metadata": {},
     "output_type": "execute_result"
    }
   ],
   "source": [
    "check_prime(25)"
   ]
  },
  {
   "cell_type": "code",
   "execution_count": 42,
   "id": "62acffc1-e3d4-4537-8b0c-f23a0831d1f6",
   "metadata": {},
   "outputs": [],
   "source": [
    "def check_prime(n):\n",
    "    for i in range(2,int(n**(1/2))+1):\n",
    "        print(n,i,n%i)\n",
    "        if n%i==0:\n",
    "            return False\n",
    "    return True"
   ]
  },
  {
   "cell_type": "code",
   "execution_count": 43,
   "id": "a5d8cc10-bd56-4565-b9f2-5e96520b85a1",
   "metadata": {},
   "outputs": [
    {
     "name": "stdout",
     "output_type": "stream",
     "text": [
      "97 2 1\n",
      "97 3 1\n",
      "97 4 1\n",
      "97 5 2\n",
      "97 6 1\n",
      "97 7 6\n",
      "97 8 1\n",
      "97 9 7\n"
     ]
    },
    {
     "data": {
      "text/plain": [
       "True"
      ]
     },
     "execution_count": 43,
     "metadata": {},
     "output_type": "execute_result"
    }
   ],
   "source": [
    "check_prime(97)"
   ]
  },
  {
   "cell_type": "code",
   "execution_count": 72,
   "id": "d23a5301-b051-4198-be10-1a0879e8486b",
   "metadata": {},
   "outputs": [],
   "source": [
    "def check_prime(n):\n",
    "    if n <2:\n",
    "        return False\n",
    "    for i in range(2,int(n**(1/2))+1):\n",
    "        #print(n,i,n%i)\n",
    "        if n%i==0:\n",
    "            return False\n",
    "    return True"
   ]
  },
  {
   "cell_type": "code",
   "execution_count": 73,
   "id": "60f114e8-4f71-4d61-82e8-d4855bc1ea06",
   "metadata": {},
   "outputs": [
    {
     "data": {
      "text/plain": [
       "False"
      ]
     },
     "execution_count": 73,
     "metadata": {},
     "output_type": "execute_result"
    }
   ],
   "source": [
    "check_prime(1)"
   ]
  },
  {
   "cell_type": "code",
   "execution_count": 74,
   "id": "c210db23-5839-4e44-8ab5-a1191a4e5a40",
   "metadata": {},
   "outputs": [],
   "source": [
    "def primeInRange(RANGE):\n",
    "    l=[]\n",
    "    for n in range(RANGE):\n",
    "        if check_prime(n):\n",
    "            l.append(n)\n",
    "    return l"
   ]
  },
  {
   "cell_type": "code",
   "execution_count": 75,
   "id": "55e31a86-9640-4a97-9f3f-2e3d036ab42b",
   "metadata": {},
   "outputs": [
    {
     "data": {
      "text/plain": [
       "[2, 3, 5, 7]"
      ]
     },
     "execution_count": 75,
     "metadata": {},
     "output_type": "execute_result"
    }
   ],
   "source": [
    "primeInRange(10)"
   ]
  },
  {
   "cell_type": "code",
   "execution_count": 64,
   "id": "9e75cb76-0402-41cb-8c70-4775254615a9",
   "metadata": {},
   "outputs": [],
   "source": [
    "def primeInRange(start , end):\n",
    "    l=[]\n",
    "    for n in range(start , end):\n",
    "        if check_prime(n):\n",
    "            l.append(n)\n",
    "    return l"
   ]
  },
  {
   "cell_type": "code",
   "execution_count": 65,
   "id": "3090bd49-a468-4dfe-92db-5cb4a8791ce8",
   "metadata": {},
   "outputs": [
    {
     "data": {
      "text/plain": [
       "[11, 13, 17, 19, 23, 29, 31, 37, 41, 43, 47]"
      ]
     },
     "execution_count": 65,
     "metadata": {},
     "output_type": "execute_result"
    }
   ],
   "source": [
    "primeInRange(10,50)"
   ]
  },
  {
   "cell_type": "code",
   "execution_count": 76,
   "id": "1bb7e4b6-5fd2-4ba4-9825-56f8d3003a0c",
   "metadata": {},
   "outputs": [],
   "source": [
    "def primeInRange(start , end):\n",
    "    if start>end:\n",
    "        start,end=end,start\n",
    "    l=[]\n",
    "    for n in range(start , end):\n",
    "        if check_prime(n):\n",
    "            l.append(n)\n",
    "    return l"
   ]
  },
  {
   "cell_type": "code",
   "execution_count": 77,
   "id": "166e1938-c857-4cd4-b742-4218006c4101",
   "metadata": {},
   "outputs": [
    {
     "data": {
      "text/plain": [
       "[11, 13, 17, 19, 23, 29]"
      ]
     },
     "execution_count": 77,
     "metadata": {},
     "output_type": "execute_result"
    }
   ],
   "source": [
    "primeInRange(10,30)"
   ]
  },
  {
   "cell_type": "code",
   "execution_count": 1,
   "id": "3c3cd318-b086-45b0-b078-f847f4b33b2f",
   "metadata": {},
   "outputs": [
    {
     "data": {
      "text/plain": [
       "map"
      ]
     },
     "execution_count": 1,
     "metadata": {},
     "output_type": "execute_result"
    }
   ],
   "source": [
    "map"
   ]
  },
  {
   "cell_type": "code",
   "execution_count": 3,
   "id": "1d4ea021-791a-4b76-801c-9a6687e639ed",
   "metadata": {},
   "outputs": [],
   "source": [
    "a=[1,2,3]\n",
    "b=[\"a\",\"b\",\"c\"]"
   ]
  },
  {
   "cell_type": "code",
   "execution_count": 4,
   "id": "6dabf30d-4fb4-46bd-a47e-e650997a573f",
   "metadata": {},
   "outputs": [
    {
     "name": "stdout",
     "output_type": "stream",
     "text": [
      "1 a\n",
      "2 b\n",
      "3 c\n"
     ]
    }
   ],
   "source": [
    "for i,j in zip(a,b):\n",
    "    print(i,j)"
   ]
  },
  {
   "cell_type": "code",
   "execution_count": 5,
   "id": "2f9bb7b1-2a16-473a-9a31-58831808347c",
   "metadata": {},
   "outputs": [
    {
     "data": {
      "text/plain": [
       "[1, 2, 3]"
      ]
     },
     "execution_count": 5,
     "metadata": {},
     "output_type": "execute_result"
    }
   ],
   "source": [
    "a"
   ]
  },
  {
   "cell_type": "code",
   "execution_count": 16,
   "id": "2c96ad40-b8b1-4e07-9c78-001e21f0e2cf",
   "metadata": {},
   "outputs": [],
   "source": [
    "def makeSquare(n):\n",
    "    return n**2"
   ]
  },
  {
   "cell_type": "code",
   "execution_count": 17,
   "id": "53b57966-9e73-464c-bbf4-9e5d0698aa69",
   "metadata": {},
   "outputs": [],
   "source": [
    "# map - map functiom bina loop lagai sarai items per code run karwa dinda eg. sarai elements are square ekthai kar dinda single single karkai code ni likhna painda \n",
    "ans=list(map(makeSquare,a))"
   ]
  },
  {
   "cell_type": "code",
   "execution_count": 18,
   "id": "264d111d-ef01-4679-bc91-f15711f0afcb",
   "metadata": {},
   "outputs": [
    {
     "data": {
      "text/plain": [
       "[1, 4, 9]"
      ]
     },
     "execution_count": 18,
     "metadata": {},
     "output_type": "execute_result"
    }
   ],
   "source": [
    "ans"
   ]
  },
  {
   "cell_type": "code",
   "execution_count": 10,
   "id": "be0fc08a-4cad-4121-9cea-c7d4ed72187b",
   "metadata": {},
   "outputs": [],
   "source": [
    "for i in a :\n",
    "    ans.append(makeSquare(i))"
   ]
  },
  {
   "cell_type": "code",
   "execution_count": 11,
   "id": "184c037a-c3c2-4fde-89da-19a9abc3753b",
   "metadata": {},
   "outputs": [
    {
     "data": {
      "text/plain": [
       "[1, 4, 9, 1, 4, 9]"
      ]
     },
     "execution_count": 11,
     "metadata": {},
     "output_type": "execute_result"
    }
   ],
   "source": [
    "ans"
   ]
  },
  {
   "cell_type": "code",
   "execution_count": 14,
   "id": "c1d5d474-1a6f-47e3-a37a-3a3c92048bdd",
   "metadata": {},
   "outputs": [
    {
     "name": "stdout",
     "output_type": "stream",
     "text": [
      "1 k\n",
      "2 a\n",
      "3 n\n"
     ]
    }
   ],
   "source": [
    "#taking two iterables in which indexing and silicing can do eg. string,list,tuples,dic.\n",
    "for i,j in zip([1,2,3],\"kan\"):\n",
    "    print(i,j)"
   ]
  },
  {
   "cell_type": "code",
   "execution_count": 19,
   "id": "599ba004-0340-4f7c-8b58-c7949dfad7f7",
   "metadata": {},
   "outputs": [],
   "source": [
    "def makeCube(n):\n",
    "    return n**3\n",
    "    "
   ]
  },
  {
   "cell_type": "code",
   "execution_count": 21,
   "id": "292e1761-1e46-4e5c-b3be-b5a76be9813d",
   "metadata": {},
   "outputs": [],
   "source": [
    "item=list(map(makeCube,a))"
   ]
  },
  {
   "cell_type": "code",
   "execution_count": 22,
   "id": "ce586cf4-6277-48db-8ea0-51e19d9cfce2",
   "metadata": {},
   "outputs": [
    {
     "data": {
      "text/plain": [
       "[1, 8, 27]"
      ]
     },
     "execution_count": 22,
     "metadata": {},
     "output_type": "execute_result"
    }
   ],
   "source": [
    "item"
   ]
  },
  {
   "cell_type": "code",
   "execution_count": 26,
   "id": "8fb1d757-7834-4072-b435-c9312b1c312f",
   "metadata": {},
   "outputs": [
    {
     "data": {
      "text/plain": [
       "['kanika', 'rana']"
      ]
     },
     "execution_count": 26,
     "metadata": {},
     "output_type": "execute_result"
    }
   ],
   "source": [
    "# to convert a string into a list but still items are in string \n",
    "\"kanika rana\".split()"
   ]
  },
  {
   "cell_type": "code",
   "execution_count": 38,
   "id": "57de843d-3cb4-49cf-85a5-ab74d99c2f6d",
   "metadata": {},
   "outputs": [],
   "source": [
    "# to split on space\n",
    "a=\"5 2 4 6 3 1\".split()"
   ]
  },
  {
   "cell_type": "code",
   "execution_count": 32,
   "id": "48f97a5b-7598-4968-be2f-70dc2622b715",
   "metadata": {},
   "outputs": [
    {
     "data": {
      "text/plain": [
       "['5', '2', '4', '6', '3', '1']"
      ]
     },
     "execution_count": 32,
     "metadata": {},
     "output_type": "execute_result"
    }
   ],
   "source": [
    "a"
   ]
  },
  {
   "cell_type": "code",
   "execution_count": 33,
   "id": "595e7478-134c-4130-9185-c95a34c4c8e0",
   "metadata": {},
   "outputs": [],
   "source": [
    "# to convert all strings into interger\n",
    "ans= list(map(int,a))"
   ]
  },
  {
   "cell_type": "code",
   "execution_count": 34,
   "id": "61a61c34-eea4-4903-bc94-7d798ab41630",
   "metadata": {},
   "outputs": [
    {
     "data": {
      "text/plain": [
       "[5, 2, 4, 6, 3, 1]"
      ]
     },
     "execution_count": 34,
     "metadata": {},
     "output_type": "execute_result"
    }
   ],
   "source": [
    "ans"
   ]
  },
  {
   "cell_type": "code",
   "execution_count": 37,
   "id": "2b77a044-ecd1-468b-ab8a-78ef5e213ae4",
   "metadata": {},
   "outputs": [],
   "source": [
    "# to seperate on commas\n",
    "b=\"5,2,3,6,4\".split(',')"
   ]
  },
  {
   "cell_type": "code",
   "execution_count": 36,
   "id": "51664870-3f0d-4a09-bb2b-ea8f4f6d65bc",
   "metadata": {},
   "outputs": [
    {
     "data": {
      "text/plain": [
       "['5', '2', '3', '6', '4']"
      ]
     },
     "execution_count": 36,
     "metadata": {},
     "output_type": "execute_result"
    }
   ],
   "source": [
    "b"
   ]
  },
  {
   "cell_type": "code",
   "execution_count": 42,
   "id": "54fc6504-715b-43ae-802b-0938128a18c0",
   "metadata": {},
   "outputs": [],
   "source": [
    "# jab bhut he chota kam hota hai to ham lambda use kartai hai\n",
    "z=lambda x,y: x*y"
   ]
  },
  {
   "cell_type": "code",
   "execution_count": 43,
   "id": "b91d6faf-6bd5-4ff0-96f8-81c69b9c9a5b",
   "metadata": {},
   "outputs": [
    {
     "data": {
      "text/plain": [
       "30"
      ]
     },
     "execution_count": 43,
     "metadata": {},
     "output_type": "execute_result"
    }
   ],
   "source": [
    "z(5,6)"
   ]
  },
  {
   "cell_type": "code",
   "execution_count": 44,
   "id": "194651a2-ad77-4dd3-9a8d-40a87b8d48b2",
   "metadata": {},
   "outputs": [],
   "source": [
    "z=lambda x:x**3 #input(x):output(x**3)"
   ]
  },
  {
   "cell_type": "code",
   "execution_count": 45,
   "id": "bc5f5768-5365-47b6-a84f-85e4b93e0df1",
   "metadata": {},
   "outputs": [],
   "source": [
    "a=[5,2,3]"
   ]
  },
  {
   "cell_type": "code",
   "execution_count": 46,
   "id": "63752ada-dccc-41ab-a374-fe5ba776d26f",
   "metadata": {},
   "outputs": [
    {
     "data": {
      "text/plain": [
       "[125, 8, 27]"
      ]
     },
     "execution_count": 46,
     "metadata": {},
     "output_type": "execute_result"
    }
   ],
   "source": [
    "list(map(z,a))"
   ]
  },
  {
   "cell_type": "code",
   "execution_count": 47,
   "id": "5151c7d4-7ec4-4faa-8312-10d437250739",
   "metadata": {},
   "outputs": [],
   "source": [
    "z= lambda x,y:x*y"
   ]
  },
  {
   "cell_type": "code",
   "execution_count": 49,
   "id": "776f62eb-a15c-4efc-85a3-f3a82d15cc59",
   "metadata": {},
   "outputs": [
    {
     "data": {
      "text/plain": [
       "30"
      ]
     },
     "execution_count": 49,
     "metadata": {},
     "output_type": "execute_result"
    }
   ],
   "source": [
    "z(5,6)"
   ]
  },
  {
   "cell_type": "code",
   "execution_count": 50,
   "id": "20274be6-c9d9-46df-9fe9-6c661c5950b5",
   "metadata": {},
   "outputs": [],
   "source": [
    "a=[5,6,7,8,9]"
   ]
  },
  {
   "cell_type": "code",
   "execution_count": 53,
   "id": "fde786ee-e66e-43c8-b6e2-018040c568ab",
   "metadata": {},
   "outputs": [],
   "source": [
    "b=[10,50,60,80,20]"
   ]
  },
  {
   "cell_type": "code",
   "execution_count": 54,
   "id": "0e693d92-292f-4319-89ff-0f5430dd04ef",
   "metadata": {},
   "outputs": [
    {
     "data": {
      "text/plain": [
       "[50, 300, 420, 640, 180]"
      ]
     },
     "execution_count": 54,
     "metadata": {},
     "output_type": "execute_result"
    }
   ],
   "source": [
    "list(map(z,a,b))"
   ]
  },
  {
   "cell_type": "code",
   "execution_count": null,
   "id": "1b621b81-9aa2-4cca-9716-c62fce1aa97a",
   "metadata": {},
   "outputs": [],
   "source": []
  }
 ],
 "metadata": {
  "kernelspec": {
   "display_name": "Python [conda env:base] *",
   "language": "python",
   "name": "conda-base-py"
  },
  "language_info": {
   "codemirror_mode": {
    "name": "ipython",
    "version": 3
   },
   "file_extension": ".py",
   "mimetype": "text/x-python",
   "name": "python",
   "nbconvert_exporter": "python",
   "pygments_lexer": "ipython3",
   "version": "3.13.5"
  }
 },
 "nbformat": 4,
 "nbformat_minor": 5
}
