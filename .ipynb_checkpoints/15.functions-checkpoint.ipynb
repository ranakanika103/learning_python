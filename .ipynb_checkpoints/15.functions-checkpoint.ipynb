{
 "cells": [
  {
   "cell_type": "markdown",
   "id": "1d2c5545-50d2-4133-bd65-973da66b3491",
   "metadata": {},
   "source": [
    "# Functions\n"
   ]
  },
  {
   "cell_type": "markdown",
   "id": "e1a9947d-605b-4092-b27d-eac7e5f9ac0c",
   "metadata": {},
   "source": [
    "## Functions stop code and it executes the code when called"
   ]
  },
  {
   "cell_type": "code",
   "execution_count": 147,
   "id": "d3bf84da-a642-4341-bbd2-0e920ac50cee",
   "metadata": {},
   "outputs": [],
   "source": [
    "# define a function\n",
    "def greeting(): # eh input hundi\n",
    "    print(\"hello nice to meet you\")\n",
    "    print(2+2)"
   ]
  },
  {
   "cell_type": "code",
   "execution_count": 8,
   "id": "9029a639-8bb3-4c0b-96c6-43d4014e49b2",
   "metadata": {},
   "outputs": [
    {
     "name": "stdout",
     "output_type": "stream",
     "text": [
      "hello nice to meet you\n",
      "4\n"
     ]
    }
   ],
   "source": [
    "#call a function\n",
    "greeting()"
   ]
  },
  {
   "cell_type": "code",
   "execution_count": 9,
   "id": "518b6711-59b4-40c7-af48-385a630c2f0f",
   "metadata": {},
   "outputs": [
    {
     "name": "stdout",
     "output_type": "stream",
     "text": [
      "hello nice to meet you\n",
      "4\n",
      "hello nice to meet you\n",
      "4\n"
     ]
    }
   ],
   "source": [
    "greeting()\n",
    "greeting()"
   ]
  },
  {
   "cell_type": "markdown",
   "id": "85a27d5f-13c3-487a-b131-ef7d23b6d75d",
   "metadata": {},
   "source": [
    "## Type of functions\n"
   ]
  },
  {
   "cell_type": "markdown",
   "id": "d859631e-e258-4cba-9df0-8f8780ebc147",
   "metadata": {},
   "source": [
    "### built in functions"
   ]
  },
  {
   "cell_type": "code",
   "execution_count": 12,
   "id": "13d7cf70-e7c4-42f7-b908-4210facaae3a",
   "metadata": {},
   "outputs": [
    {
     "name": "stdout",
     "output_type": "stream",
     "text": [
      "hi\n"
     ]
    },
    {
     "data": {
      "text/plain": [
       "6"
      ]
     },
     "execution_count": 12,
     "metadata": {},
     "output_type": "execute_result"
    }
   ],
   "source": [
    "# built in functions\n",
    "print('hi')\n",
    "len(\"kanika\")\n"
   ]
  },
  {
   "cell_type": "code",
   "execution_count": 15,
   "id": "a423c3cf-c0c6-43b4-86b3-41c961bd802e",
   "metadata": {},
   "outputs": [
    {
     "data": {
      "text/plain": [
       "8"
      ]
     },
     "execution_count": 15,
     "metadata": {},
     "output_type": "execute_result"
    }
   ],
   "source": [
    "# built in functions\n",
    "min([8,15])\n",
    "max([8,4,5])"
   ]
  },
  {
   "cell_type": "markdown",
   "id": "af343b9b-0b22-4f23-a8ce-71bc51528715",
   "metadata": {},
   "source": [
    "### user defined functions"
   ]
  },
  {
   "cell_type": "code",
   "execution_count": 17,
   "id": "4597c278-64ad-4112-8c74-1624777cf81e",
   "metadata": {},
   "outputs": [
    {
     "name": "stdout",
     "output_type": "stream",
     "text": [
      "hello everyone my name is kanika\n"
     ]
    }
   ],
   "source": [
    "def greeting():\n",
    "    print(\"hello everyone my name is kanika\")\n",
    "greeting()"
   ]
  },
  {
   "cell_type": "code",
   "execution_count": 22,
   "id": "5e173a20-cac1-4155-9c8c-f924774fe6d9",
   "metadata": {},
   "outputs": [],
   "source": [
    "def greeting():\n",
    "    print(\"hello everyone my name is kanika\")\n",
    "    print(8/0)\n",
    "    print(\"hi\")"
   ]
  },
  {
   "cell_type": "code",
   "execution_count": 23,
   "id": "8b1bd8ee-c160-49f4-9acc-745431e109f4",
   "metadata": {},
   "outputs": [
    {
     "name": "stdout",
     "output_type": "stream",
     "text": [
      "hello everyone my name is kanika\n"
     ]
    },
    {
     "ename": "ZeroDivisionError",
     "evalue": "division by zero",
     "output_type": "error",
     "traceback": [
      "\u001b[1;31m---------------------------------------------------------------------------\u001b[0m",
      "\u001b[1;31mZeroDivisionError\u001b[0m                         Traceback (most recent call last)",
      "Cell \u001b[1;32mIn[23], line 1\u001b[0m\n\u001b[1;32m----> 1\u001b[0m greeting()\n",
      "Cell \u001b[1;32mIn[22], line 3\u001b[0m, in \u001b[0;36mgreeting\u001b[1;34m()\u001b[0m\n\u001b[0;32m      1\u001b[0m \u001b[38;5;28;01mdef\u001b[39;00m\u001b[38;5;250m \u001b[39m\u001b[38;5;21mgreeting\u001b[39m():\n\u001b[0;32m      2\u001b[0m     \u001b[38;5;28mprint\u001b[39m(\u001b[38;5;124m\"\u001b[39m\u001b[38;5;124mhello everyone my name is kanika\u001b[39m\u001b[38;5;124m\"\u001b[39m)\n\u001b[1;32m----> 3\u001b[0m     \u001b[38;5;28mprint\u001b[39m(\u001b[38;5;241m8\u001b[39m\u001b[38;5;241m/\u001b[39m\u001b[38;5;241m0\u001b[39m)\n\u001b[0;32m      4\u001b[0m     \u001b[38;5;28mprint\u001b[39m(\u001b[38;5;124m\"\u001b[39m\u001b[38;5;124mhi\u001b[39m\u001b[38;5;124m\"\u001b[39m)\n",
      "\u001b[1;31mZeroDivisionError\u001b[0m: division by zero"
     ]
    }
   ],
   "source": [
    "greeting()"
   ]
  },
  {
   "cell_type": "code",
   "execution_count": 24,
   "id": "0a3ec231-768f-404f-a50a-925538438492",
   "metadata": {},
   "outputs": [],
   "source": [
    "def greeting():\n",
    "    print(\"hello everyone my name is kanika\")\n",
    "    print(\"hi\")\n",
    "    print(8/0)\n",
    "   "
   ]
  },
  {
   "cell_type": "code",
   "execution_count": 25,
   "id": "e2fd606d-a71a-45ae-9714-8f3e811c81b1",
   "metadata": {},
   "outputs": [
    {
     "name": "stdout",
     "output_type": "stream",
     "text": [
      "hello everyone my name is kanika\n",
      "hi\n"
     ]
    },
    {
     "ename": "ZeroDivisionError",
     "evalue": "division by zero",
     "output_type": "error",
     "traceback": [
      "\u001b[1;31m---------------------------------------------------------------------------\u001b[0m",
      "\u001b[1;31mZeroDivisionError\u001b[0m                         Traceback (most recent call last)",
      "Cell \u001b[1;32mIn[25], line 1\u001b[0m\n\u001b[1;32m----> 1\u001b[0m greeting()\n",
      "Cell \u001b[1;32mIn[24], line 4\u001b[0m, in \u001b[0;36mgreeting\u001b[1;34m()\u001b[0m\n\u001b[0;32m      2\u001b[0m \u001b[38;5;28mprint\u001b[39m(\u001b[38;5;124m\"\u001b[39m\u001b[38;5;124mhello everyone my name is kanika\u001b[39m\u001b[38;5;124m\"\u001b[39m)\n\u001b[0;32m      3\u001b[0m \u001b[38;5;28mprint\u001b[39m(\u001b[38;5;124m\"\u001b[39m\u001b[38;5;124mhi\u001b[39m\u001b[38;5;124m\"\u001b[39m)\n\u001b[1;32m----> 4\u001b[0m \u001b[38;5;28mprint\u001b[39m(\u001b[38;5;241m8\u001b[39m\u001b[38;5;241m/\u001b[39m\u001b[38;5;241m0\u001b[39m)\n",
      "\u001b[1;31mZeroDivisionError\u001b[0m: division by zero"
     ]
    }
   ],
   "source": [
    "greeting()"
   ]
  },
  {
   "cell_type": "markdown",
   "id": "79e5d880-137e-4f14-82e6-32969a0c1479",
   "metadata": {},
   "source": [
    "### User defined functions types"
   ]
  },
  {
   "cell_type": "code",
   "execution_count": 26,
   "id": "40c26748-aa86-42f1-a76a-7441d08d2907",
   "metadata": {},
   "outputs": [],
   "source": [
    "#simple functions\n",
    "\n",
    "def greeting():\n",
    "    print(\"hello everyone nice to meet you\")"
   ]
  },
  {
   "cell_type": "code",
   "execution_count": 27,
   "id": "d8a56b0d-acec-4570-9d15-201c33c2924e",
   "metadata": {},
   "outputs": [
    {
     "name": "stdout",
     "output_type": "stream",
     "text": [
      "hello everyone nice to meet you\n"
     ]
    }
   ],
   "source": [
    "greeting()"
   ]
  },
  {
   "cell_type": "code",
   "execution_count": 41,
   "id": "c7e39811-81b3-47b8-8b09-7e4c40f3bb2f",
   "metadata": {},
   "outputs": [],
   "source": [
    "# input functions\n",
    "\n",
    "def greeting(name):\n",
    "    print(f\"hello {name} nice to meet you\")"
   ]
  },
  {
   "cell_type": "code",
   "execution_count": 42,
   "id": "b464ea50-d42f-44a1-bbe8-4f3e9f428aee",
   "metadata": {},
   "outputs": [
    {
     "name": "stdout",
     "output_type": "stream",
     "text": [
      "hello kanika nice to meet you\n"
     ]
    }
   ],
   "source": [
    "greeting(\"kanika\")"
   ]
  },
  {
   "cell_type": "code",
   "execution_count": 43,
   "id": "25e77dd6-7589-4d9d-b4a1-ed75b6e62b21",
   "metadata": {},
   "outputs": [
    {
     "name": "stdout",
     "output_type": "stream",
     "text": [
      "hello teena nice to meet you\n"
     ]
    }
   ],
   "source": [
    "greeting(\"teena\")"
   ]
  },
  {
   "cell_type": "code",
   "execution_count": 44,
   "id": "18d357ad-d9f2-4c5e-90d1-a0dd5f28d10a",
   "metadata": {},
   "outputs": [],
   "source": [
    "def area_of_circle(r):\n",
    "    print((22/7)*r*r)"
   ]
  },
  {
   "cell_type": "code",
   "execution_count": 46,
   "id": "84f9d12b-bd10-40e0-99aa-9b1aee9313bd",
   "metadata": {},
   "outputs": [
    {
     "name": "stdout",
     "output_type": "stream",
     "text": [
      "12.571428571428571\n"
     ]
    }
   ],
   "source": [
    "area_of_circle(2)"
   ]
  },
  {
   "cell_type": "code",
   "execution_count": 47,
   "id": "98e7910c-8eeb-487d-9898-1c12a320e8c2",
   "metadata": {},
   "outputs": [
    {
     "name": "stdout",
     "output_type": "stream",
     "text": [
      "113.14285714285714\n"
     ]
    }
   ],
   "source": [
    "area_of_circle(6)"
   ]
  },
  {
   "cell_type": "code",
   "execution_count": 81,
   "id": "fb8a6983-2499-4ef7-ac22-3ba01ef69f53",
   "metadata": {},
   "outputs": [],
   "source": [
    "def area_of_rectangle(lenght, width):\n",
    "    print(length*width)"
   ]
  },
  {
   "cell_type": "code",
   "execution_count": 82,
   "id": "9e1444f0-9447-4e4d-a5dd-4ece7267f924",
   "metadata": {},
   "outputs": [
    {
     "ename": "NameError",
     "evalue": "name 'length' is not defined",
     "output_type": "error",
     "traceback": [
      "\u001b[1;31m---------------------------------------------------------------------------\u001b[0m",
      "\u001b[1;31mNameError\u001b[0m                                 Traceback (most recent call last)",
      "Cell \u001b[1;32mIn[82], line 1\u001b[0m\n\u001b[1;32m----> 1\u001b[0m area_of_rectangle(\u001b[38;5;241m4\u001b[39m,\u001b[38;5;241m5\u001b[39m)\n",
      "Cell \u001b[1;32mIn[81], line 2\u001b[0m, in \u001b[0;36marea_of_rectangle\u001b[1;34m(lenght, width)\u001b[0m\n\u001b[0;32m      1\u001b[0m \u001b[38;5;28;01mdef\u001b[39;00m\u001b[38;5;250m \u001b[39m\u001b[38;5;21marea_of_rectangle\u001b[39m(lenght, width):\n\u001b[1;32m----> 2\u001b[0m     \u001b[38;5;28mprint\u001b[39m(length\u001b[38;5;241m*\u001b[39mwidth)\n",
      "\u001b[1;31mNameError\u001b[0m: name 'length' is not defined"
     ]
    }
   ],
   "source": [
    "area_of_rectangle(4,5)"
   ]
  },
  {
   "cell_type": "markdown",
   "id": "726c6efb-3ec8-406f-ae9c-858465024db1",
   "metadata": {},
   "source": [
    "### Scope"
   ]
  },
  {
   "cell_type": "code",
   "execution_count": 64,
   "id": "837f2717-1126-42e6-87fd-15d4bb9697b9",
   "metadata": {},
   "outputs": [],
   "source": [
    "# scope is very important topic in interview\n",
    "# jo variables kisi class ya function andr define hotai hai usai scope kahtai hai\n",
    "# scope are of two types-global scope and local scope (for outer variable it's global scope and inner variable is called local scope)"
   ]
  },
  {
   "cell_type": "code",
   "execution_count": 50,
   "id": "c5f06965-03d8-41cf-8c0a-5acdac7a2a21",
   "metadata": {},
   "outputs": [],
   "source": [
    "job=\"netmax\"\n",
    "def myProfile():\n",
    "    name=\"kanika\"\n",
    "    age=20\n",
    "    education=\"bsc\"\n",
    "    print(name,age,education)"
   ]
  },
  {
   "cell_type": "code",
   "execution_count": 51,
   "id": "2d2b37a4-dd30-4bf9-ad4e-bb990da99759",
   "metadata": {},
   "outputs": [
    {
     "name": "stdout",
     "output_type": "stream",
     "text": [
      "kanika 20 bsc\n"
     ]
    }
   ],
   "source": [
    "myProfile()"
   ]
  },
  {
   "cell_type": "code",
   "execution_count": 52,
   "id": "af814d3d-dd63-4e7d-a7b9-7595f1f2744e",
   "metadata": {},
   "outputs": [],
   "source": [
    "job=\"netmax\"\n",
    "def myProfile():\n",
    "    name=\"kanika\"\n",
    "    age=20\n",
    "    education=\"bsc\"\n",
    "    print(name,age,education,job)"
   ]
  },
  {
   "cell_type": "code",
   "execution_count": 54,
   "id": "3c3cd5c5-afbe-481c-964d-c944c3533624",
   "metadata": {},
   "outputs": [
    {
     "name": "stdout",
     "output_type": "stream",
     "text": [
      "kanika 20 bsc netmax\n"
     ]
    }
   ],
   "source": [
    "myProfile()"
   ]
  },
  {
   "cell_type": "code",
   "execution_count": 71,
   "id": "756689f7-aef4-456b-8ad2-1c240a204ec2",
   "metadata": {},
   "outputs": [
    {
     "ename": "NameError",
     "evalue": "name 'age' is not defined",
     "output_type": "error",
     "traceback": [
      "\u001b[1;31m---------------------------------------------------------------------------\u001b[0m",
      "\u001b[1;31mNameError\u001b[0m                                 Traceback (most recent call last)",
      "Cell \u001b[1;32mIn[71], line 2\u001b[0m\n\u001b[0;32m      1\u001b[0m \u001b[38;5;66;03m#andr define hai es karkai bhar kisai nu ni pta\u001b[39;00m\n\u001b[1;32m----> 2\u001b[0m age\n",
      "\u001b[1;31mNameError\u001b[0m: name 'age' is not defined"
     ]
    }
   ],
   "source": [
    "#andr define hai es karkai bhar kisai nu ni pta\n",
    "age"
   ]
  },
  {
   "cell_type": "code",
   "execution_count": 67,
   "id": "c01f264a-7c01-4534-8697-c02803bf99f3",
   "metadata": {},
   "outputs": [
    {
     "ename": "NameError",
     "evalue": "name 'name' is not defined",
     "output_type": "error",
     "traceback": [
      "\u001b[1;31m---------------------------------------------------------------------------\u001b[0m",
      "\u001b[1;31mNameError\u001b[0m                                 Traceback (most recent call last)",
      "Cell \u001b[1;32mIn[67], line 1\u001b[0m\n\u001b[1;32m----> 1\u001b[0m name\n",
      "\u001b[1;31mNameError\u001b[0m: name 'name' is not defined"
     ]
    }
   ],
   "source": [
    "name"
   ]
  },
  {
   "cell_type": "code",
   "execution_count": 72,
   "id": "c825ed4a-9ba3-4c65-a006-59d57d996dc0",
   "metadata": {},
   "outputs": [
    {
     "data": {
      "text/plain": [
       "'netmax'"
      ]
     },
     "execution_count": 72,
     "metadata": {},
     "output_type": "execute_result"
    }
   ],
   "source": [
    "#job bhar define kiti andr saab  nu pta hai\n",
    "job"
   ]
  },
  {
   "cell_type": "code",
   "execution_count": 63,
   "id": "9e69b9d9-06a7-43cd-9e6f-9c3722529a18",
   "metadata": {},
   "outputs": [],
   "source": [
    "#global scope\n",
    "job=\"netmax\"\n",
    "def myProfile():\n",
    "    #local scope\n",
    "    name=\"kanika\"\n",
    "    age=20\n",
    "    education=\"bsc\"\n",
    "    job=\"hunting\"\n",
    "    print(name,age,education,job)"
   ]
  },
  {
   "cell_type": "code",
   "execution_count": 56,
   "id": "aebc2836-c94b-4171-9e5b-1cc63e1eee59",
   "metadata": {},
   "outputs": [
    {
     "name": "stdout",
     "output_type": "stream",
     "text": [
      "kanika 20 bsc hunting\n"
     ]
    }
   ],
   "source": [
    "myProfile()"
   ]
  },
  {
   "cell_type": "code",
   "execution_count": 73,
   "id": "10c77dd8-ff79-47f3-9563-b9efa5228f11",
   "metadata": {},
   "outputs": [],
   "source": [
    "#global scope\n",
    "job=\"netmax\"\n",
    "def myProfile():\n",
    "    #local scope\n",
    "    name=\"kanika\"\n",
    "    global age\n",
    "    age=20\n",
    "    education=\"bsc\"\n",
    "    job=\"hunting\"\n",
    "    print(name,age,education,job)"
   ]
  },
  {
   "cell_type": "code",
   "execution_count": 74,
   "id": "e508815c-137b-4d17-89dd-5de27c52c086",
   "metadata": {},
   "outputs": [
    {
     "name": "stdout",
     "output_type": "stream",
     "text": [
      "kanika 20 bsc hunting\n"
     ]
    }
   ],
   "source": [
    "myProfile()"
   ]
  },
  {
   "cell_type": "code",
   "execution_count": 79,
   "id": "cf0d2be2-5eca-43d1-a95b-45269d00cfd2",
   "metadata": {},
   "outputs": [
    {
     "data": {
      "text/plain": [
       "'netmax'"
      ]
     },
     "execution_count": 79,
     "metadata": {},
     "output_type": "execute_result"
    }
   ],
   "source": [
    "# job netmax he rahni because jo andr define hoya uda bhar nhi pta lagna output sirf bhar alai di ani hai\n",
    "job"
   ]
  },
  {
   "cell_type": "code",
   "execution_count": 76,
   "id": "e42c764f-a52e-442c-8585-6ac5020e7ece",
   "metadata": {},
   "outputs": [
    {
     "data": {
      "text/plain": [
       "20"
      ]
     },
     "execution_count": 76,
     "metadata": {},
     "output_type": "execute_result"
    }
   ],
   "source": [
    "#age hun ta pta lag gi because asi age nu global karta\n",
    "age"
   ]
  },
  {
   "cell_type": "code",
   "execution_count": 77,
   "id": "8c540771-1d34-45ac-8fbd-3e1eebf36a4f",
   "metadata": {},
   "outputs": [
    {
     "ename": "NameError",
     "evalue": "name 'name' is not defined",
     "output_type": "error",
     "traceback": [
      "\u001b[1;31m---------------------------------------------------------------------------\u001b[0m",
      "\u001b[1;31mNameError\u001b[0m                                 Traceback (most recent call last)",
      "Cell \u001b[1;32mIn[77], line 1\u001b[0m\n\u001b[1;32m----> 1\u001b[0m name\n",
      "\u001b[1;31mNameError\u001b[0m: name 'name' is not defined"
     ]
    }
   ],
   "source": [
    "name"
   ]
  },
  {
   "cell_type": "code",
   "execution_count": 86,
   "id": "d947fb71-89cc-46d8-b571-e200da7390c9",
   "metadata": {},
   "outputs": [],
   "source": [
    "# default function\n",
    "def greeting(name='USER'):\n",
    "    print(f'hello {name}, nice to meet you')"
   ]
  },
  {
   "cell_type": "code",
   "execution_count": 88,
   "id": "b249729e-bf1a-4d64-bb93-a7eea846aaa0",
   "metadata": {},
   "outputs": [
    {
     "name": "stdout",
     "output_type": "stream",
     "text": [
      "hello USER, nice to meet you\n"
     ]
    }
   ],
   "source": [
    "greeting()"
   ]
  },
  {
   "cell_type": "code",
   "execution_count": 89,
   "id": "b9029aa4-2772-4c9f-acab-5948f83c1965",
   "metadata": {},
   "outputs": [],
   "source": [
    "def salary_structure(Salary,tax_rate):\n",
    "    print(Salary*tax_rate)"
   ]
  },
  {
   "cell_type": "code",
   "execution_count": 91,
   "id": "ebd115e5-fd21-4cdb-863a-7f35d0e0119c",
   "metadata": {},
   "outputs": [
    {
     "name": "stdout",
     "output_type": "stream",
     "text": [
      "9600.0\n"
     ]
    }
   ],
   "source": [
    "salary_structure(80000, 0.12)"
   ]
  },
  {
   "cell_type": "code",
   "execution_count": 92,
   "id": "489db9b8-47f4-4316-b6e1-1d37632fef1b",
   "metadata": {},
   "outputs": [],
   "source": [
    "def salary_structure(Salary,tax_rate):\n",
    "    tax=Salary*tax_rate\n",
    "    print(tax)"
   ]
  },
  {
   "cell_type": "code",
   "execution_count": 93,
   "id": "d2677cf1-c3d0-47bf-86f0-830e881c9333",
   "metadata": {},
   "outputs": [
    {
     "name": "stdout",
     "output_type": "stream",
     "text": [
      "9600.0\n"
     ]
    }
   ],
   "source": [
    "salary_structure(80000, 0.12)"
   ]
  },
  {
   "cell_type": "code",
   "execution_count": 95,
   "id": "e6eba401-80ee-4a35-aaa6-6589aab4980d",
   "metadata": {},
   "outputs": [
    {
     "name": "stdout",
     "output_type": "stream",
     "text": [
      "9600.0\n"
     ]
    }
   ],
   "source": [
    "tax=salary_structure(80000, 0.12)"
   ]
  },
  {
   "cell_type": "code",
   "execution_count": 101,
   "id": "5b190b4b-3313-49da-8c40-b1d3334a39e7",
   "metadata": {},
   "outputs": [
    {
     "data": {
      "text/plain": [
       "9600.0"
      ]
     },
     "execution_count": 101,
     "metadata": {},
     "output_type": "execute_result"
    }
   ],
   "source": [
    "# tax vich koi value save nhi hoyi because print vich jush v likan nal us variable ch value save nhi hundi\n",
    "#variable ch value save karvan layi return karn painda\n",
    "tax"
   ]
  },
  {
   "cell_type": "code",
   "execution_count": 104,
   "id": "d4fdab08-d72d-4c77-8b4e-1679c0c2ebe4",
   "metadata": {},
   "outputs": [
    {
     "ename": "SyntaxError",
     "evalue": "parameter without a default follows parameter with a default (1595269838.py, line 4)",
     "output_type": "error",
     "traceback": [
      "\u001b[1;36m  Cell \u001b[1;32mIn[104], line 4\u001b[1;36m\u001b[0m\n\u001b[1;33m    def salary_structure(Salary=0,tax_rate):\u001b[0m\n\u001b[1;37m                                  ^\u001b[0m\n\u001b[1;31mSyntaxError\u001b[0m\u001b[1;31m:\u001b[0m parameter without a default follows parameter with a default\n"
     ]
    }
   ],
   "source": [
    "# return function\n",
    "# last valai items ch default dita ja sakda but agar sirf agai alai value ch default daita ta error ana \n",
    "# default valiya sariya values last vich aniya\n",
    "def salary_structure(Salary=0,tax_rate):\n",
    "    tax=Salary*tax_rate\n",
    "    return tax"
   ]
  },
  {
   "cell_type": "code",
   "execution_count": 99,
   "id": "943d2319-1c0b-4652-8e77-20ae07e043fd",
   "metadata": {},
   "outputs": [],
   "source": [
    "tax=salary_structure(80000, 0.12)"
   ]
  },
  {
   "cell_type": "code",
   "execution_count": 100,
   "id": "747d13ca-e6df-4a69-bd93-2edb0d04df85",
   "metadata": {},
   "outputs": [
    {
     "data": {
      "text/plain": [
       "9600.0"
      ]
     },
     "execution_count": 100,
     "metadata": {},
     "output_type": "execute_result"
    }
   ],
   "source": [
    "tax"
   ]
  },
  {
   "cell_type": "code",
   "execution_count": 107,
   "id": "d36a34ba-b1e5-48d8-b2ea-130b533550e9",
   "metadata": {},
   "outputs": [],
   "source": [
    "#eh code run kar gaiya because default last value per hai\n",
    "def salary_structure(Salary,tax_rate=0):\n",
    "    tax=Salary*tax_rate\n",
    "    return tax"
   ]
  },
  {
   "cell_type": "code",
   "execution_count": 108,
   "id": "3bf8575f-2e6c-4ebc-9a7c-96e0cdacb7fd",
   "metadata": {},
   "outputs": [],
   "source": [
    "#eh code run kar gaiya because default dono values per hai\n",
    "def salary_structure(Salary=0,tax_rate=0):\n",
    "    tax=Salary*tax_rate\n",
    "    return tax"
   ]
  },
  {
   "cell_type": "code",
   "execution_count": 109,
   "id": "24fc982f-ff7f-4a3c-b5c2-8608d86bd104",
   "metadata": {},
   "outputs": [
    {
     "ename": "SyntaxError",
     "evalue": "positional argument follows keyword argument (1710532773.py, line 1)",
     "output_type": "error",
     "traceback": [
      "\u001b[1;36m  Cell \u001b[1;32mIn[109], line 1\u001b[1;36m\u001b[0m\n\u001b[1;33m    tax=salary_structure(salary=80000, 0.12)\u001b[0m\n\u001b[1;37m                                           ^\u001b[0m\n\u001b[1;31mSyntaxError\u001b[0m\u001b[1;31m:\u001b[0m positional argument follows keyword argument\n"
     ]
    }
   ],
   "source": [
    "tax=salary_structure(salary=80000, 0.12)"
   ]
  },
  {
   "cell_type": "code",
   "execution_count": 112,
   "id": "a6cb1ff1-5079-4544-850a-b23ef82000ef",
   "metadata": {},
   "outputs": [],
   "source": [
    "tax=salary_structure(Salary=80000, tax_rate= 0.12)"
   ]
  },
  {
   "cell_type": "code",
   "execution_count": 121,
   "id": "2e872ffd-9a79-4311-9ea9-76f6a2a453a3",
   "metadata": {},
   "outputs": [],
   "source": [
    "tax=salary_structure(80000, tax_rate= 0.12)"
   ]
  },
  {
   "cell_type": "code",
   "execution_count": 119,
   "id": "2918a370-47ae-4988-b00a-aa190cca93fc",
   "metadata": {},
   "outputs": [],
   "source": [
    "### imporatant question in interview\n",
    "## jo oo mangda oo paramter\n",
    "# volume of cube (length, breadth, height) these are calles parameters which are inside the brackets\n",
    "# salary structure (salary,tax_rate) there are two parameters- salary and tax_rat\n",
    "## jo cheej pass karkai andi oo argument hunda hai eg.\n",
    "# salar structure (50000)- this is argument (salary ki value argument hai ethai matlab 5000 is arugment here)"
   ]
  },
  {
   "cell_type": "code",
   "execution_count": 137,
   "id": "9cf3311b-a9bd-4652-a227-0af190920280",
   "metadata": {},
   "outputs": [],
   "source": [
    "def volume_of_cuboid(length,width,height):\n",
    "    dimensions= f\"\"\"\n",
    "        length:{length}\n",
    "        width:{width}\n",
    "        height:{height}\n",
    "    \"\"\"\n",
    "    print(dimensions)\n",
    "    return length*width*height"
   ]
  },
  {
   "cell_type": "code",
   "execution_count": 138,
   "id": "448b076f-05e1-406d-870a-f5a59418aecb",
   "metadata": {},
   "outputs": [
    {
     "name": "stdout",
     "output_type": "stream",
     "text": [
      "\n",
      "        length:50\n",
      "        width:80\n",
      "        height:40\n",
      "    \n"
     ]
    },
    {
     "data": {
      "text/plain": [
       "160000"
      ]
     },
     "execution_count": 138,
     "metadata": {},
     "output_type": "execute_result"
    }
   ],
   "source": [
    "# positional arugument means position dasdi ki kis cheej di kya value hai eg. ethai length,width,height un apnai ap positin according lai li hai\n",
    "volume_of_cuboid(50,80,40)"
   ]
  },
  {
   "cell_type": "code",
   "execution_count": 140,
   "id": "0a14dbea-ab61-4b7b-bd5b-79550f1a9008",
   "metadata": {},
   "outputs": [],
   "source": [
    "# agar asi ap kush help vich add karna hovai ta eda kardai eno asi dock string v kah dindai or documentation string v jo triple string vich likya va a \n",
    "def volume_of_cuboid(length,width,height):\n",
    "# sirf def dai nichai vali 1st string he chalni agar 2-3 strings likiya ta v sirf 1st string he chalni\n",
    "    \"\"\"   \n",
    "    this function calculates valome of cuboid \n",
    "    it takes lenght,width,height, as input and multiplies them\n",
    "    \n",
    "    \"\"\"\n",
    "    \"\"\"\n",
    "    hi    \n",
    "    \"\"\"\n",
    "    dimensions= f\"\"\"\n",
    "        length:{length}\n",
    "        width:{width}\n",
    "        height:{height}\n",
    "    \"\"\"\n",
    "    print(dimensions)\n",
    "    return length*width*height"
   ]
  },
  {
   "cell_type": "code",
   "execution_count": 133,
   "id": "ce73b1b0-6e9a-41e6-a787-a08fffc7db9b",
   "metadata": {},
   "outputs": [
    {
     "name": "stdout",
     "output_type": "stream",
     "text": [
      "Help on function volume_of_cuboid in module __main__:\n",
      "\n",
      "volume_of_cuboid(length, width, height)\n",
      "    this function calculates valome of cuboid\n",
      "    it takes lenght,width,height, as input and multiplies them\n",
      "\n"
     ]
    }
   ],
   "source": [
    "help(volume_of_cuboid)"
   ]
  },
  {
   "cell_type": "code",
   "execution_count": 141,
   "id": "30efb3a2-42ff-4c28-961a-d61e1c5cae2a",
   "metadata": {},
   "outputs": [
    {
     "name": "stdout",
     "output_type": "stream",
     "text": [
      "\n",
      "        length:50\n",
      "        width:80\n",
      "        height:100\n",
      "    \n"
     ]
    },
    {
     "data": {
      "text/plain": [
       "400000"
      ]
     },
     "execution_count": 141,
     "metadata": {},
     "output_type": "execute_result"
    }
   ],
   "source": [
    "#keyword argument\n",
    "volume_of_cuboid(length=50,height=100,width=80)"
   ]
  },
  {
   "cell_type": "code",
   "execution_count": 145,
   "id": "6312634f-a234-4189-aac2-c0cb4533b8c9",
   "metadata": {},
   "outputs": [
    {
     "ename": "SyntaxError",
     "evalue": "positional argument follows keyword argument (4080383624.py, line 2)",
     "output_type": "error",
     "traceback": [
      "\u001b[1;36m  Cell \u001b[1;32mIn[145], line 2\u001b[1;36m\u001b[0m\n\u001b[1;33m    volume_of_cuboid(length=50,height=100,80)\u001b[0m\n\u001b[1;37m                                            ^\u001b[0m\n\u001b[1;31mSyntaxError\u001b[0m\u001b[1;31m:\u001b[0m positional argument follows keyword argument\n"
     ]
    }
   ],
   "source": [
    "#equal di value valai bacho anaiya values\n",
    "volume_of_cuboid(length=50,height=100,80)"
   ]
  },
  {
   "cell_type": "code",
   "execution_count": 146,
   "id": "cd24eae4-ea4b-4b33-aad2-cd953b72e10a",
   "metadata": {},
   "outputs": [
    {
     "ename": "TypeError",
     "evalue": "volume_of_cuboid() got multiple values for argument 'length'",
     "output_type": "error",
     "traceback": [
      "\u001b[1;31m---------------------------------------------------------------------------\u001b[0m",
      "\u001b[1;31mTypeError\u001b[0m                                 Traceback (most recent call last)",
      "Cell \u001b[1;32mIn[146], line 2\u001b[0m\n\u001b[0;32m      1\u001b[0m \u001b[38;5;66;03m# es vich oo assume karda paiya ki length 80 a baad vich asi 50 kah dita jis karkai oo error daiya karda\u001b[39;00m\n\u001b[1;32m----> 2\u001b[0m volume_of_cuboid(\u001b[38;5;241m80\u001b[39m,length\u001b[38;5;241m=\u001b[39m\u001b[38;5;241m50\u001b[39m,height\u001b[38;5;241m=\u001b[39m\u001b[38;5;241m100\u001b[39m)\n",
      "\u001b[1;31mTypeError\u001b[0m: volume_of_cuboid() got multiple values for argument 'length'"
     ]
    }
   ],
   "source": [
    "# es vich oo assume karda paiya ki length 80 a baad vich asi 50 kah dita jis karkai oo error daiya karda\n",
    "volume_of_cuboid(80,length=50,height=100)"
   ]
  },
  {
   "cell_type": "code",
   "execution_count": 148,
   "id": "801cd898-2baa-4848-9e28-a3565bc82bc5",
   "metadata": {},
   "outputs": [],
   "source": [
    "li=[8,6,4,7,1,6,8,4,6]\n",
    "def sort_half(li: list): # :list ta likya because next line ch li to baad . lagan too baad tab nhi chalya karda tha es karkai eh likya\n",
    "    #li.append\n",
    "    length=len(li)\n",
    "    li.sort()\n",
    "    firstHalf=li[:length//2]\n",
    "    secondHalf=li[length//2:]\n",
    "    secondHalf.sort(reverse=True)\n",
    "    return firstHalf+secondHalf"
   ]
  },
  {
   "cell_type": "code",
   "execution_count": 150,
   "id": "02fae5f5-fb88-40d3-8cd2-bf3b2646ae95",
   "metadata": {},
   "outputs": [
    {
     "data": {
      "text/plain": [
       "[1, 4, 4, 6, 8, 8, 7, 6, 6]"
      ]
     },
     "execution_count": 150,
     "metadata": {},
     "output_type": "execute_result"
    }
   ],
   "source": [
    "sort_half(li)"
   ]
  },
  {
   "cell_type": "code",
   "execution_count": null,
   "id": "9fd9c848-9f48-4f4f-9d97-ce2f673c6b50",
   "metadata": {},
   "outputs": [],
   "source": []
  }
 ],
 "metadata": {
  "kernelspec": {
   "display_name": "Python [conda env:base] *",
   "language": "python",
   "name": "conda-base-py"
  },
  "language_info": {
   "codemirror_mode": {
    "name": "ipython",
    "version": 3
   },
   "file_extension": ".py",
   "mimetype": "text/x-python",
   "name": "python",
   "nbconvert_exporter": "python",
   "pygments_lexer": "ipython3",
   "version": "3.13.5"
  }
 },
 "nbformat": 4,
 "nbformat_minor": 5
}
