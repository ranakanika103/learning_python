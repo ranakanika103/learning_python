{
 "cells": [
  {
   "cell_type": "code",
   "execution_count": 1,
   "id": "e0d9810a-80a9-4e7c-bdd6-04722ca9a41a",
   "metadata": {},
   "outputs": [
    {
     "name": "stdout",
     "output_type": "stream",
     "text": [
      "0\n",
      "1\n",
      "2\n",
      "3\n",
      "4\n"
     ]
    }
   ],
   "source": [
    "i=0\n",
    "n=5\n",
    "while i<n:\n",
    "    print(i)\n",
    "\n",
    "    i+=1"
   ]
  },
  {
   "cell_type": "code",
   "execution_count": 2,
   "id": "f3d79eb0-069e-492c-9dbd-ea8a7449186e",
   "metadata": {},
   "outputs": [
    {
     "name": "stdout",
     "output_type": "stream",
     "text": [
      "5\n",
      "4\n",
      "3\n",
      "2\n",
      "1\n"
     ]
    }
   ],
   "source": [
    "i=5\n",
    "n=0\n",
    "while i>n:\n",
    "    print(i)\n",
    "\n",
    "    i-=1"
   ]
  },
  {
   "cell_type": "code",
   "execution_count": 3,
   "id": "ed8ab417-fccb-4790-b683-8012a80b715f",
   "metadata": {},
   "outputs": [
    {
     "name": "stdout",
     "output_type": "stream",
     "text": [
      "3\n",
      "2\n",
      "1\n"
     ]
    }
   ],
   "source": [
    "i=3\n",
    "\n",
    "while i:\n",
    "    print(i)\n",
    "    i-=1"
   ]
  },
  {
   "cell_type": "code",
   "execution_count": 5,
   "id": "d7508af2-1d57-4ece-b9dc-85d5362ab549",
   "metadata": {},
   "outputs": [
    {
     "name": "stdout",
     "output_type": "stream",
     "text": [
      "5\n",
      "4\n",
      "3\n",
      "2\n",
      "1\n"
     ]
    }
   ],
   "source": [
    "i=0\n",
    "n=5\n",
    "while i<n:\n",
    "    print(n-i)\n",
    "\n",
    "    i+=1"
   ]
  },
  {
   "cell_type": "code",
   "execution_count": 6,
   "id": "a1661223-b953-4606-9f37-29b9132d1082",
   "metadata": {},
   "outputs": [],
   "source": [
    "name=\"kanika\""
   ]
  },
  {
   "cell_type": "code",
   "execution_count": 14,
   "id": "82ca3fd0-c032-435c-8ed4-ca309c42bc56",
   "metadata": {},
   "outputs": [
    {
     "name": "stdout",
     "output_type": "stream",
     "text": [
      "hi\n",
      "hi\n",
      "hi\n",
      "hi\n",
      "hi\n",
      "hi\n"
     ]
    }
   ],
   "source": [
    "for alphabet in name: #here alphabet is a variable\n",
    "    print(\"hi\")"
   ]
  },
  {
   "cell_type": "code",
   "execution_count": 12,
   "id": "108737cd-2d51-41d0-b3b6-0ff07c412342",
   "metadata": {},
   "outputs": [
    {
     "name": "stdout",
     "output_type": "stream",
     "text": [
      "k\n",
      "a\n",
      "n\n",
      "i\n",
      "k\n",
      "a\n"
     ]
    }
   ],
   "source": [
    "for alphabet in name:\n",
    "    print(alphabet)"
   ]
  },
  {
   "cell_type": "code",
   "execution_count": 10,
   "id": "67bd4a0e-2ab9-4960-b5c8-805150a4018d",
   "metadata": {},
   "outputs": [
    {
     "name": "stdout",
     "output_type": "stream",
     "text": [
      "kho-kho\n",
      "tennis\n",
      "kabaddi\n",
      "football\n"
     ]
    }
   ],
   "source": [
    "games=[\"kho-kho\",\"tennis\",\"kabaddi\",\"football\"]\n",
    "for items in games:\n",
    "    print(items)"
   ]
  },
  {
   "cell_type": "code",
   "execution_count": 13,
   "id": "5272b722-ca20-4998-8e0c-64e08ea4816d",
   "metadata": {},
   "outputs": [
    {
     "name": "stdout",
     "output_type": "stream",
     "text": [
      "hello kanika\n",
      "hello teena\n",
      "hello adi\n",
      "hello parveen\n"
     ]
    }
   ],
   "source": [
    "course=['kanika','teena','adi','parveen']\n",
    "for person in course:\n",
    "    print(\"hello\",person)"
   ]
  },
  {
   "cell_type": "code",
   "execution_count": 15,
   "id": "78d7c3f1-6999-426b-ba60-f3eb0e3e4a67",
   "metadata": {},
   "outputs": [
    {
     "name": "stdout",
     "output_type": "stream",
     "text": [
      "8\n",
      "2\n",
      "5\n",
      "6\n"
     ]
    }
   ],
   "source": [
    "s={8,5,6,2,5}\n",
    "for i in s :\n",
    "    print(i)"
   ]
  },
  {
   "cell_type": "code",
   "execution_count": 20,
   "id": "3b59e403-a39f-465c-9a3e-616c3100b024",
   "metadata": {},
   "outputs": [
    {
     "name": "stdout",
     "output_type": "stream",
     "text": [
      "0\n",
      "2\n",
      "4\n"
     ]
    }
   ],
   "source": [
    "i=0\n",
    "n=5 \n",
    "while i<n:\n",
    "    print(i)\n",
    "    i+=2\n",
    "    "
   ]
  },
  {
   "cell_type": "code",
   "execution_count": 17,
   "id": "55a00eaf-0bae-4d38-b8e8-f6d9e3df7dfd",
   "metadata": {},
   "outputs": [
    {
     "name": "stdout",
     "output_type": "stream",
     "text": [
      "0\n",
      "1\n",
      "2\n",
      "3\n",
      "4\n"
     ]
    }
   ],
   "source": [
    "for i in range(5):\n",
    "    print(i)"
   ]
  },
  {
   "cell_type": "code",
   "execution_count": 18,
   "id": "2a17f38b-c20f-4023-9c26-8f417c528fa6",
   "metadata": {},
   "outputs": [
    {
     "name": "stdout",
     "output_type": "stream",
     "text": [
      "0\n",
      "1\n",
      "2\n"
     ]
    }
   ],
   "source": [
    "for i in range(3):\n",
    "    print(i)"
   ]
  },
  {
   "cell_type": "code",
   "execution_count": 19,
   "id": "63dd9d1e-144a-4de5-a11e-8a17ec7a4284",
   "metadata": {},
   "outputs": [
    {
     "name": "stdout",
     "output_type": "stream",
     "text": [
      "3\n",
      "4\n",
      "5\n",
      "6\n",
      "7\n",
      "8\n",
      "9\n"
     ]
    }
   ],
   "source": [
    "for i in range(3,10):\n",
    "    print(i)"
   ]
  },
  {
   "cell_type": "code",
   "execution_count": 21,
   "id": "2a136759-4205-49e5-a96f-87a10bc937a4",
   "metadata": {},
   "outputs": [
    {
     "name": "stdout",
     "output_type": "stream",
     "text": [
      "3\n",
      "5\n",
      "7\n",
      "9\n"
     ]
    }
   ],
   "source": [
    "for i in range(3,10,2):\n",
    "    print(i)"
   ]
  },
  {
   "cell_type": "code",
   "execution_count": 24,
   "id": "6ed2a83f-dd63-4305-9d2f-b6fcc2a4fc5c",
   "metadata": {},
   "outputs": [
    {
     "name": "stdout",
     "output_type": "stream",
     "text": [
      "k 0\n",
      "a 1\n",
      "n 2\n",
      "i 3\n",
      "k 4\n",
      "a 5\n"
     ]
    }
   ],
   "source": [
    "name='kanika'\n",
    "for i in range(len(name)):\n",
    "    print(name[i],i)"
   ]
  },
  {
   "cell_type": "code",
   "execution_count": null,
   "id": "c2af9e37-53a6-4a7a-9792-65dd7faa9e99",
   "metadata": {},
   "outputs": [],
   "source": []
  },
  {
   "cell_type": "code",
   "execution_count": 3,
   "id": "2c732d5a-2d46-4fe3-8e46-b5d9186957b2",
   "metadata": {},
   "outputs": [],
   "source": [
    "# if we don't have any library that we want to use then install it by write the below code and run \n",
    "# pip install (name of file like random)"
   ]
  },
  {
   "cell_type": "code",
   "execution_count": 4,
   "id": "6e99992c-92dd-48dc-ac4c-49ac8a6c26b0",
   "metadata": {},
   "outputs": [
    {
     "name": "stdout",
     "output_type": "stream",
     "text": [
      "Requirement already satisfied: pandas in c:\\users\\ranak\\anaconda3\\lib\\site-packages (2.2.3)\n",
      "Requirement already satisfied: numpy>=1.26.0 in c:\\users\\ranak\\anaconda3\\lib\\site-packages (from pandas) (2.1.3)\n",
      "Requirement already satisfied: python-dateutil>=2.8.2 in c:\\users\\ranak\\anaconda3\\lib\\site-packages (from pandas) (2.9.0.post0)\n",
      "Requirement already satisfied: pytz>=2020.1 in c:\\users\\ranak\\anaconda3\\lib\\site-packages (from pandas) (2024.1)\n",
      "Requirement already satisfied: tzdata>=2022.7 in c:\\users\\ranak\\anaconda3\\lib\\site-packages (from pandas) (2025.2)\n",
      "Requirement already satisfied: six>=1.5 in c:\\users\\ranak\\anaconda3\\lib\\site-packages (from python-dateutil>=2.8.2->pandas) (1.17.0)\n",
      "Note: you may need to restart the kernel to use updated packages.\n"
     ]
    }
   ],
   "source": [
    "pip install pandas"
   ]
  },
  {
   "cell_type": "code",
   "execution_count": 5,
   "id": "841728d6-2836-46df-ace6-04e0148fbbba",
   "metadata": {},
   "outputs": [],
   "source": [
    "import random"
   ]
  },
  {
   "cell_type": "code",
   "execution_count": 6,
   "id": "c38dfc6d-6cc0-4e97-aa56-d49af6319d9b",
   "metadata": {},
   "outputs": [
    {
     "data": {
      "text/plain": [
       "'random.py'"
      ]
     },
     "execution_count": 6,
     "metadata": {},
     "output_type": "execute_result"
    }
   ],
   "source": [
    "\"random.py\""
   ]
  },
  {
   "cell_type": "code",
   "execution_count": null,
   "id": "32dc4e96-e64e-4669-951e-214128d7cd66",
   "metadata": {},
   "outputs": [],
   "source": [
    "# to hack something time and seed should same eg.yu8nfiugrfo2"
   ]
  },
  {
   "cell_type": "code",
   "execution_count": 8,
   "id": "ab4e08be-323d-4257-b91c-1029f3dd1cbc",
   "metadata": {},
   "outputs": [
    {
     "data": {
      "text/plain": [
       "6"
      ]
     },
     "execution_count": 8,
     "metadata": {},
     "output_type": "execute_result"
    }
   ],
   "source": [
    "# random function is very important\n",
    "random.randint(1,10)"
   ]
  },
  {
   "cell_type": "code",
   "execution_count": 10,
   "id": "c5ffc621-29c9-4b21-9aa8-ced401573d61",
   "metadata": {},
   "outputs": [
    {
     "name": "stdout",
     "output_type": "stream",
     "text": [
      "0\n",
      "1\n",
      "2\n",
      "3\n",
      "4\n",
      "5\n",
      "6\n",
      "7\n",
      "8\n",
      "9\n",
      "10\n",
      "11\n",
      "12\n",
      "13\n",
      "14\n"
     ]
    }
   ],
   "source": [
    "li=[]\n",
    "for i in range(15):\n",
    "    print(i)"
   ]
  },
  {
   "cell_type": "code",
   "execution_count": 13,
   "id": "20e83160-6c59-46ce-9dc4-4b031552c85a",
   "metadata": {},
   "outputs": [
    {
     "name": "stdout",
     "output_type": "stream",
     "text": [
      "2 1 5 9 7 1 9 1 2 9 4 6 4 2 10 "
     ]
    }
   ],
   "source": [
    "#we use append to add random numbers in list and while run it again and again we get random number every time\n",
    "li=[]\n",
    "for i in range(15):\n",
    "    num=random.randint(1,10)\n",
    "    print(num,end=\" \")\n",
    "    li.append(num)"
   ]
  },
  {
   "cell_type": "code",
   "execution_count": 12,
   "id": "cc4f7a00-ca37-4244-bda9-b19d72f83d1b",
   "metadata": {},
   "outputs": [
    {
     "name": "stdout",
     "output_type": "stream",
     "text": [
      "9 5 1 8 9 2 7 2 2 10 1 10 4 3 10 "
     ]
    },
    {
     "data": {
      "text/plain": [
       "[9, 5, 1, 8, 9, 2, 7, 2, 2, 10, 1, 10, 4, 3, 10]"
      ]
     },
     "execution_count": 12,
     "metadata": {},
     "output_type": "execute_result"
    }
   ],
   "source": [
    "li=[]\n",
    "for i in range(15):\n",
    "    num=random.randint(1,10)\n",
    "    print(num,end=\" \")\n",
    "    li.append(num)\n",
    "li"
   ]
  },
  {
   "cell_type": "code",
   "execution_count": 16,
   "id": "07aa0285-3731-4f58-832c-d6fe057db6f7",
   "metadata": {},
   "outputs": [
    {
     "name": "stdout",
     "output_type": "stream",
     "text": [
      "[2, 3, 4, 5]\n",
      "[4, 9, 16, 25]\n",
      "25\n"
     ]
    }
   ],
   "source": [
    "li=[2,3,4,5]\n",
    "a=[]\n",
    "for i in li:\n",
    "    s=i**2\n",
    "    a.append(s)\n",
    "print(li)\n",
    "print(a)\n",
    "print(s)"
   ]
  },
  {
   "cell_type": "code",
   "execution_count": 18,
   "id": "3352995c-391e-480d-b0eb-88f5b5c880ee",
   "metadata": {},
   "outputs": [
    {
     "data": {
      "text/plain": [
       "[10, 1, 5, 4, 9]"
      ]
     },
     "execution_count": 18,
     "metadata": {},
     "output_type": "execute_result"
    }
   ],
   "source": [
    "a=[]\n",
    "for i in range(5):\n",
    "    a.append(random.randint(1,10))\n",
    "a"
   ]
  },
  {
   "cell_type": "code",
   "execution_count": 33,
   "id": "b24a99db-b2f1-4f76-a48c-71b7c6230bdd",
   "metadata": {},
   "outputs": [
    {
     "data": {
      "text/plain": [
       "[0, 1, 2, 3, 4]"
      ]
     },
     "execution_count": 33,
     "metadata": {},
     "output_type": "execute_result"
    }
   ],
   "source": [
    "# list comprehension\n",
    "a= [i for i in range(5)]\n",
    "a"
   ]
  },
  {
   "cell_type": "code",
   "execution_count": 21,
   "id": "d679699f-82a4-4f80-8ab0-0d58d067aa50",
   "metadata": {},
   "outputs": [
    {
     "data": {
      "text/plain": [
       "4"
      ]
     },
     "execution_count": 21,
     "metadata": {},
     "output_type": "execute_result"
    }
   ],
   "source": [
    "a= [i for i in range(5)]\n",
    "i"
   ]
  },
  {
   "cell_type": "code",
   "execution_count": 35,
   "id": "f691b5dc-e79f-4c40-9c05-a010ed33d988",
   "metadata": {},
   "outputs": [
    {
     "data": {
      "text/plain": [
       "[3, 3, 4, 5, 1]"
      ]
     },
     "execution_count": 35,
     "metadata": {},
     "output_type": "execute_result"
    }
   ],
   "source": [
    "a= [random.randint(1,10) for i in range(5)]\n",
    "a"
   ]
  },
  {
   "cell_type": "code",
   "execution_count": 34,
   "id": "904ad68e-4ccb-406e-9483-fc105dadf419",
   "metadata": {},
   "outputs": [
    {
     "name": "stdout",
     "output_type": "stream",
     "text": [
      "[0, 1, 2, 3, 4]\n",
      "[0, 1, 4, 9, 16]\n"
     ]
    }
   ],
   "source": [
    "l= [i**2 for i in range(5)]\n",
    "print(a)\n",
    "print(l)\n"
   ]
  },
  {
   "cell_type": "code",
   "execution_count": 40,
   "id": "9b29e9b5-aece-498f-8a4a-10ccc1d57475",
   "metadata": {},
   "outputs": [
    {
     "name": "stdout",
     "output_type": "stream",
     "text": [
      "[3, 3, 4, 5, 1]\n",
      "[9, 9, 16, 25, 1]\n"
     ]
    }
   ],
   "source": [
    "b=[a[i]**2 for i in range(len(a))]\n",
    "print(a)\n",
    "print(b)"
   ]
  },
  {
   "cell_type": "code",
   "execution_count": 41,
   "id": "cd011f3a-90ee-44cd-b85b-3d2ecb985fe1",
   "metadata": {},
   "outputs": [
    {
     "name": "stdout",
     "output_type": "stream",
     "text": [
      "[3, 3, 4, 5, 1]\n",
      "\n"
     ]
    }
   ],
   "source": [
    "print(a)\n",
    "l=[]\n",
    "for i in range(len(a)):\n",
    "    l.append(a[i]**2)\n",
    "print()"
   ]
  },
  {
   "cell_type": "code",
   "execution_count": 42,
   "id": "808aafc2-e75c-4df8-979f-2edd286a5af1",
   "metadata": {},
   "outputs": [],
   "source": [
    "#tuple unpacking\n",
    "(a,b)=(5,8)"
   ]
  },
  {
   "cell_type": "code",
   "execution_count": 43,
   "id": "af3e8561-6141-4450-b8b4-5b058459a6c6",
   "metadata": {},
   "outputs": [
    {
     "data": {
      "text/plain": [
       "5"
      ]
     },
     "execution_count": 43,
     "metadata": {},
     "output_type": "execute_result"
    }
   ],
   "source": [
    "a"
   ]
  },
  {
   "cell_type": "code",
   "execution_count": 44,
   "id": "457b3ff3-9768-4e33-ab64-b2522bd47cb8",
   "metadata": {},
   "outputs": [
    {
     "data": {
      "text/plain": [
       "8"
      ]
     },
     "execution_count": 44,
     "metadata": {},
     "output_type": "execute_result"
    }
   ],
   "source": [
    "b"
   ]
  },
  {
   "cell_type": "code",
   "execution_count": 45,
   "id": "98453251-05e2-4dbc-a96a-3b008514ee54",
   "metadata": {},
   "outputs": [],
   "source": [
    "name=[\"kanika\",\"teena\",\"aditya\"]\n",
    "age=[20,18,10]"
   ]
  },
  {
   "cell_type": "code",
   "execution_count": 49,
   "id": "ad0a28f5-6ee8-4d5d-bebb-4752632314d7",
   "metadata": {},
   "outputs": [
    {
     "name": "stdout",
     "output_type": "stream",
     "text": [
      "kanika 20\n",
      "teena 18\n",
      "aditya 10\n"
     ]
    }
   ],
   "source": [
    "\n",
    "li=[]\n",
    "for i,j in zip(name,age):\n",
    "    print(i,j)"
   ]
  },
  {
   "cell_type": "code",
   "execution_count": 54,
   "id": "8c02128a-bacd-4d0d-a475-6728edbd75e4",
   "metadata": {},
   "outputs": [],
   "source": [
    "# zip used in dictionanry to add items in it\n",
    "d={}\n",
    "for i,j in zip(name,age):\n",
    "    d[i]=j"
   ]
  },
  {
   "cell_type": "code",
   "execution_count": 53,
   "id": "6bd25fc3-8f2f-45bc-ad49-9e01530adbd7",
   "metadata": {},
   "outputs": [
    {
     "data": {
      "text/plain": [
       "{'kanika': 20, 'teena': 18, 'aditya': 10}"
      ]
     },
     "execution_count": 53,
     "metadata": {},
     "output_type": "execute_result"
    }
   ],
   "source": [
    "d"
   ]
  },
  {
   "cell_type": "code",
   "execution_count": 55,
   "id": "2b56535b-b52d-4f4a-b45e-003d78ede933",
   "metadata": {},
   "outputs": [
    {
     "data": {
      "text/plain": [
       "{'kanika': 20, 'teena': 18, 'aditya': 10}"
      ]
     },
     "execution_count": 55,
     "metadata": {},
     "output_type": "execute_result"
    }
   ],
   "source": [
    "{i:j for i,j in zip (name,age)}"
   ]
  },
  {
   "cell_type": "code",
   "execution_count": null,
   "id": "2d457d8c-dd0a-4b74-92f2-c022be3e8898",
   "metadata": {},
   "outputs": [],
   "source": []
  }
 ],
 "metadata": {
  "kernelspec": {
   "display_name": "Python [conda env:base] *",
   "language": "python",
   "name": "conda-base-py"
  },
  "language_info": {
   "codemirror_mode": {
    "name": "ipython",
    "version": 3
   },
   "file_extension": ".py",
   "mimetype": "text/x-python",
   "name": "python",
   "nbconvert_exporter": "python",
   "pygments_lexer": "ipython3",
   "version": "3.13.5"
  }
 },
 "nbformat": 4,
 "nbformat_minor": 5
}
