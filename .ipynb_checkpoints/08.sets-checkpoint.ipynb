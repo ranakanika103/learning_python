{
 "cells": [
  {
   "cell_type": "code",
   "execution_count": 8,
   "id": "09c2863b-f64b-41ef-827e-0581eabc8571",
   "metadata": {},
   "outputs": [],
   "source": [
    "#set is a collection of unique elements it doesn't contains repeating elements (repeating elements means if elements are repeated it \n",
    "#gives output only 1 time element)"
   ]
  },
  {
   "cell_type": "code",
   "execution_count": 6,
   "id": "6dc2c79e-1513-48eb-83f6-3643e884a2e0",
   "metadata": {},
   "outputs": [
    {
     "data": {
      "text/plain": [
       "{1, 2, 5, 6}"
      ]
     },
     "execution_count": 6,
     "metadata": {},
     "output_type": "execute_result"
    }
   ],
   "source": [
    "#we can't abstract elements from the sets and they are unordered sequence\n",
    "{1,1,1,1,2,5,5,6,6}"
   ]
  },
  {
   "cell_type": "code",
   "execution_count": 7,
   "id": "317ef87e-cfe9-42a0-8de7-0fa8cba53e42",
   "metadata": {},
   "outputs": [
    {
     "data": {
      "text/plain": [
       "{'kanika'}"
      ]
     },
     "execution_count": 7,
     "metadata": {},
     "output_type": "execute_result"
    }
   ],
   "source": [
    "{\"kanika\",\"kanika\"}"
   ]
  },
  {
   "cell_type": "code",
   "execution_count": 15,
   "id": "7cc0bfea-990f-42b3-a38f-af9d32772b0e",
   "metadata": {},
   "outputs": [],
   "source": [
    "a={1,2,3}"
   ]
  },
  {
   "cell_type": "code",
   "execution_count": 16,
   "id": "060aa504-f9a5-400f-bd2f-5fe8b3da34f3",
   "metadata": {},
   "outputs": [],
   "source": [
    "b={2,3}"
   ]
  },
  {
   "cell_type": "code",
   "execution_count": 11,
   "id": "a0d736e1-809f-4750-9cdd-0911112ad7c6",
   "metadata": {},
   "outputs": [
    {
     "data": {
      "text/plain": [
       "True"
      ]
     },
     "execution_count": 11,
     "metadata": {},
     "output_type": "execute_result"
    }
   ],
   "source": [
    "a.issuperset(b)"
   ]
  },
  {
   "cell_type": "code",
   "execution_count": 12,
   "id": "68426052-f633-403c-ae49-ba931ce091df",
   "metadata": {},
   "outputs": [
    {
     "data": {
      "text/plain": [
       "False"
      ]
     },
     "execution_count": 12,
     "metadata": {},
     "output_type": "execute_result"
    }
   ],
   "source": [
    "a.issubset(b)"
   ]
  },
  {
   "cell_type": "code",
   "execution_count": 13,
   "id": "6546eb12-7c64-4025-a485-198be476f383",
   "metadata": {},
   "outputs": [
    {
     "data": {
      "text/plain": [
       "True"
      ]
     },
     "execution_count": 13,
     "metadata": {},
     "output_type": "execute_result"
    }
   ],
   "source": [
    "b.issubset(a)"
   ]
  },
  {
   "cell_type": "code",
   "execution_count": 21,
   "id": "c1c2d2fe-25c8-4feb-8aab-3b6e3b5c6fb4",
   "metadata": {},
   "outputs": [],
   "source": [
    "a={1,2,3}"
   ]
  },
  {
   "cell_type": "code",
   "execution_count": 22,
   "id": "c80ab759-b7d4-4a08-b583-c464a395539f",
   "metadata": {},
   "outputs": [],
   "source": [
    "b={5,6,3}"
   ]
  },
  {
   "cell_type": "code",
   "execution_count": 23,
   "id": "f6a8361f-ac9b-4d91-bafd-960c492995a7",
   "metadata": {},
   "outputs": [
    {
     "data": {
      "text/plain": [
       "{1, 2, 3, 5, 6}"
      ]
     },
     "execution_count": 23,
     "metadata": {},
     "output_type": "execute_result"
    }
   ],
   "source": [
    "a.union(b)"
   ]
  },
  {
   "cell_type": "code",
   "execution_count": 24,
   "id": "c8ca266f-1eee-4665-995a-27c3b43a3a98",
   "metadata": {},
   "outputs": [
    {
     "data": {
      "text/plain": [
       "{3}"
      ]
     },
     "execution_count": 24,
     "metadata": {},
     "output_type": "execute_result"
    }
   ],
   "source": [
    "a.intersection(b)"
   ]
  },
  {
   "cell_type": "code",
   "execution_count": 25,
   "id": "b0894bb8-fff9-4424-8d18-f09ae0de65fc",
   "metadata": {},
   "outputs": [
    {
     "data": {
      "text/plain": [
       "{1, 2}"
      ]
     },
     "execution_count": 25,
     "metadata": {},
     "output_type": "execute_result"
    }
   ],
   "source": [
    "a.difference(b)"
   ]
  },
  {
   "cell_type": "code",
   "execution_count": 26,
   "id": "3c5daac5-cfd7-453e-9413-0e2bd0d43ace",
   "metadata": {},
   "outputs": [
    {
     "data": {
      "text/plain": [
       "{5, 6}"
      ]
     },
     "execution_count": 26,
     "metadata": {},
     "output_type": "execute_result"
    }
   ],
   "source": [
    "b.difference(a)"
   ]
  },
  {
   "cell_type": "code",
   "execution_count": null,
   "id": "d32353e3-5768-4ad1-be50-0275b5a9a0f5",
   "metadata": {},
   "outputs": [],
   "source": []
  }
 ],
 "metadata": {
  "kernelspec": {
   "display_name": "Python [conda env:base] *",
   "language": "python",
   "name": "conda-base-py"
  },
  "language_info": {
   "codemirror_mode": {
    "name": "ipython",
    "version": 3
   },
   "file_extension": ".py",
   "mimetype": "text/x-python",
   "name": "python",
   "nbconvert_exporter": "python",
   "pygments_lexer": "ipython3",
   "version": "3.13.5"
  }
 },
 "nbformat": 4,
 "nbformat_minor": 5
}
