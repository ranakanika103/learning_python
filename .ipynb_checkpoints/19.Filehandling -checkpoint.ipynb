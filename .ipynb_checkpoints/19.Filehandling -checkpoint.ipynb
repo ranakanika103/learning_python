{
 "cells": [
  {
   "cell_type": "markdown",
   "id": "6999b001-f5e3-4980-96e4-9ab74c14e9de",
   "metadata": {},
   "source": [
    "## File handling"
   ]
  },
  {
   "cell_type": "code",
   "execution_count": 36,
   "id": "1908b4ff-7764-4117-b220-cd3357ca4e20",
   "metadata": {},
   "outputs": [],
   "source": [
    "# if you don't tell what to do in file like read,write etc. by default it read the file\n",
    "myfile = open(\"netmax.txt\", \"r\")  "
   ]
  },
  {
   "cell_type": "code",
   "execution_count": 37,
   "id": "404f9fef-b8fb-487d-aabc-a5efe1dc46e6",
   "metadata": {},
   "outputs": [
    {
     "name": "stdout",
     "output_type": "stream",
     "text": [
      "hello how are you.\n",
      "hi everyone.\n",
      "nice to meet you.\n"
     ]
    }
   ],
   "source": [
    "print(myfile.read())"
   ]
  },
  {
   "cell_type": "code",
   "execution_count": 38,
   "id": "888b34f7-249b-4187-8edf-c445d204bfe2",
   "metadata": {},
   "outputs": [
    {
     "name": "stdout",
     "output_type": "stream",
     "text": [
      "\n"
     ]
    }
   ],
   "source": [
    "print(myfile.read())"
   ]
  },
  {
   "cell_type": "code",
   "execution_count": 39,
   "id": "b32ec6d3-00b7-475a-a1e3-7b668fd90347",
   "metadata": {},
   "outputs": [],
   "source": [
    "# it is mandatory when you open then file you should close it\n",
    "myfile.close()"
   ]
  },
  {
   "cell_type": "code",
   "execution_count": 31,
   "id": "37ae8aed-6b7b-4c1f-9c6e-bce2e10ee786",
   "metadata": {},
   "outputs": [],
   "source": [
    "myfile = open(\"netmax.txt\", \"r\")  "
   ]
  },
  {
   "cell_type": "code",
   "execution_count": 32,
   "id": "77ca6ea7-3f96-4fad-8670-0d04f5f89928",
   "metadata": {},
   "outputs": [
    {
     "name": "stdout",
     "output_type": "stream",
     "text": [
      "hello how are you.\n",
      "\n"
     ]
    }
   ],
   "source": [
    "print(myfile.readline())"
   ]
  },
  {
   "cell_type": "code",
   "execution_count": 33,
   "id": "7248d8a9-3b92-4e36-b8bc-a143e1466dc1",
   "metadata": {},
   "outputs": [
    {
     "name": "stdout",
     "output_type": "stream",
     "text": [
      "hi everyone.\n",
      "\n"
     ]
    }
   ],
   "source": [
    "print(myfile.readline())"
   ]
  },
  {
   "cell_type": "code",
   "execution_count": 34,
   "id": "2602bccd-d3db-4ae1-b496-5c7c2d56f466",
   "metadata": {},
   "outputs": [
    {
     "name": "stdout",
     "output_type": "stream",
     "text": [
      "nice to meet you.\n"
     ]
    }
   ],
   "source": [
    "print(myfile.readline())"
   ]
  },
  {
   "cell_type": "code",
   "execution_count": 35,
   "id": "3f0a6405-ae97-4c24-b4f8-8ed9349e7125",
   "metadata": {},
   "outputs": [],
   "source": [
    "myfile.close()"
   ]
  },
  {
   "cell_type": "code",
   "execution_count": 40,
   "id": "a195e278-596c-466f-91e1-c48402320fb9",
   "metadata": {},
   "outputs": [],
   "source": [
    "# when your file in inner folder of music\n",
    "#myfile= open(\"folder name eg. kanika/file name eg. netmax.txt\",\"r\")\n",
    "# and then close the file"
   ]
  },
  {
   "cell_type": "code",
   "execution_count": 41,
   "id": "6ebfc75e-07a7-43b5-af63-c91d9ce54336",
   "metadata": {},
   "outputs": [],
   "source": [
    "# when your file in outer folder not in music folder\n",
    "#myfile= open(\"../kanika/netmax.txt\",\"r\")\n",
    "# and then close the file\n"
   ]
  },
  {
   "cell_type": "code",
   "execution_count": 43,
   "id": "b795ef79-e184-4c33-90b5-cb9d301703b9",
   "metadata": {},
   "outputs": [],
   "source": [
    "# when your file in two outer folder not in music folder\n",
    "#myfile= open(\"../../kanika/netmax.txt\",\"r\")\n",
    "# and then close the file\n",
    "# ../ use to come out from any folder"
   ]
  },
  {
   "cell_type": "code",
   "execution_count": 45,
   "id": "1ab35adf-321f-4cc4-8c0a-dea1bc7f5059",
   "metadata": {},
   "outputs": [
    {
     "name": "stdout",
     "output_type": "stream",
     "text": [
      "hello how are you.\n",
      "hi everyone.\n",
      "nice to meet you.\n"
     ]
    }
   ],
   "source": [
    "try:\n",
    "    file = open (\"netmax.txt\",\"r\")\n",
    "    content= file.read()\n",
    "    print(content)\n",
    "except:\n",
    "    print(\"not work\")\n",
    "finally:\n",
    "    file.close()"
   ]
  },
  {
   "cell_type": "code",
   "execution_count": 49,
   "id": "b254695f-19f7-4580-93ab-38e3c6ef3751",
   "metadata": {},
   "outputs": [
    {
     "name": "stdout",
     "output_type": "stream",
     "text": [
      "hello how are you.\n",
      "hi everyone.\n",
      "nice to meet you.\n"
     ]
    }
   ],
   "source": [
    "with open (\"netmax.txt\",\"r\") as file:\n",
    "    content= file.read()\n",
    "    print(content)"
   ]
  },
  {
   "cell_type": "code",
   "execution_count": 52,
   "id": "50d648bc-70cf-4572-90f0-9b6bcb96c816",
   "metadata": {},
   "outputs": [],
   "source": [
    "#a = read a file if there is no such a file it will create it\n",
    "with open(\"customer.txt\",\"a\") as file :\n",
    "    c= \"\"\"\n",
    "     nice to meet you.\n",
    "     lets have dinner\n",
    "    \"\"\"\n",
    "    file.write(c)\n",
    "    "
   ]
  },
  {
   "cell_type": "code",
   "execution_count": 53,
   "id": "13756287-dd0f-4519-8272-242c931f90d0",
   "metadata": {},
   "outputs": [
    {
     "name": "stdout",
     "output_type": "stream",
     "text": [
      "\n",
      "     nice to meet you.\n",
      "     lets have dinner\n",
      "    \n"
     ]
    }
   ],
   "source": [
    "with open(\"customer.txt\",\"r\") as file :\n",
    "    print(file.read())"
   ]
  },
  {
   "cell_type": "code",
   "execution_count": null,
   "id": "e7bc1bbe-f2d4-460f-b685-48eeb96682d8",
   "metadata": {},
   "outputs": [],
   "source": []
  }
 ],
 "metadata": {
  "kernelspec": {
   "display_name": "Python [conda env:base] *",
   "language": "python",
   "name": "conda-base-py"
  },
  "language_info": {
   "codemirror_mode": {
    "name": "ipython",
    "version": 3
   },
   "file_extension": ".py",
   "mimetype": "text/x-python",
   "name": "python",
   "nbconvert_exporter": "python",
   "pygments_lexer": "ipython3",
   "version": "3.13.5"
  }
 },
 "nbformat": 4,
 "nbformat_minor": 5
}
