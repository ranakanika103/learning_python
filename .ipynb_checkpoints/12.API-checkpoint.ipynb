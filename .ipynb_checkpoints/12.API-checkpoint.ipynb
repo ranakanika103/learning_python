{
 "cells": [
  {
   "cell_type": "code",
   "execution_count": 1,
   "id": "19a1d31f-22d1-4869-a606-8dfee7d96552",
   "metadata": {},
   "outputs": [],
   "source": [
    "# we use rapid website to collect data"
   ]
  },
  {
   "cell_type": "code",
   "execution_count": 2,
   "id": "bf34bc77-2ece-4587-a516-af7b55f2d69d",
   "metadata": {},
   "outputs": [],
   "source": [
    "#json= java script object notification\n",
    "# json travels on internet in form of string"
   ]
  },
  {
   "cell_type": "code",
   "execution_count": 1,
   "id": "32e2b780-8c38-4bad-aef5-d44317c8dcf9",
   "metadata": {},
   "outputs": [],
   "source": [
    "import json"
   ]
  },
  {
   "cell_type": "code",
   "execution_count": 2,
   "id": "b0240499-07c4-416c-85e0-f8c2928e9066",
   "metadata": {},
   "outputs": [],
   "source": [
    "d={\"name\":\"kanika\",\"age\":20,\"education\":None}"
   ]
  },
  {
   "cell_type": "code",
   "execution_count": 3,
   "id": "30c7ed20-11af-4235-b39f-856d321586b5",
   "metadata": {},
   "outputs": [],
   "source": [
    "data=json.dumps(d)"
   ]
  },
  {
   "cell_type": "code",
   "execution_count": 5,
   "id": "17854f2f-cdf4-4e96-8e06-59c7d160dcad",
   "metadata": {},
   "outputs": [
    {
     "data": {
      "text/plain": [
       "'{\"name\": \"kanika\", \"age\": 20, \"education\": null}'"
      ]
     },
     "execution_count": 5,
     "metadata": {},
     "output_type": "execute_result"
    }
   ],
   "source": [
    "# now the data in string\n",
    "data"
   ]
  },
  {
   "cell_type": "code",
   "execution_count": 7,
   "id": "69513d31-78ca-49be-b4a7-5867b9638593",
   "metadata": {},
   "outputs": [
    {
     "data": {
      "text/plain": [
       "{'name': 'kanika', 'age': 20, 'education': None}"
      ]
     },
     "execution_count": 7,
     "metadata": {},
     "output_type": "execute_result"
    }
   ],
   "source": [
    "#not in  string\n",
    "json.loads(data)"
   ]
  },
  {
   "cell_type": "code",
   "execution_count": 24,
   "id": "97e03f33-d0cf-4c2f-8193-246470a1890e",
   "metadata": {},
   "outputs": [
    {
     "name": "stdout",
     "output_type": "stream",
     "text": [
      "{'messages': 'The API is unreachable, please contact the API provider', 'info': 'Your Client (working) ---> Gateway (working) ---> API (not working)'}\n"
     ]
    }
   ],
   "source": [
    "import requests\n",
    "\n",
    "url = \"https://imdb-top-100-movies1.p.rapidapi.com/\"\n",
    "\n",
    "headers = {\n",
    "\t\"x-rapidapi-key\": \"524b7b8fa7msh5643233e2c4b3aep1cec41jsn6a1b6186dfcb\",\n",
    "\t\"x-rapidapi-host\": \"imdb-top-100-movies1.p.rapidapi.com\"\n",
    "}\n",
    "\n",
    "response = requests.get(url, headers=headers)\n",
    "\n",
    "print(response.json())"
   ]
  },
  {
   "cell_type": "code",
   "execution_count": 17,
   "id": "bdd12884-d5ea-4d0d-b9e5-1cc8df3a34d2",
   "metadata": {},
   "outputs": [
    {
     "data": {
      "text/plain": [
       "{'messages': 'The API is unreachable, please contact the API provider',\n",
       " 'info': 'Your Client (working) ---> Gateway (working) ---> API (not working)'}"
      ]
     },
     "execution_count": 17,
     "metadata": {},
     "output_type": "execute_result"
    }
   ],
   "source": [
    "data"
   ]
  },
  {
   "cell_type": "code",
   "execution_count": 11,
   "id": "c92765d6-b044-4e92-b201-1926dc06df66",
   "metadata": {},
   "outputs": [],
   "source": [
    "data=response.json()"
   ]
  },
  {
   "cell_type": "code",
   "execution_count": 12,
   "id": "1b411ab0-a390-4def-a95d-5ce17b3a0c9c",
   "metadata": {},
   "outputs": [
    {
     "ename": "KeyError",
     "evalue": "0",
     "output_type": "error",
     "traceback": [
      "\u001b[1;31m---------------------------------------------------------------------------\u001b[0m",
      "\u001b[1;31mKeyError\u001b[0m                                  Traceback (most recent call last)",
      "Cell \u001b[1;32mIn[12], line 4\u001b[0m\n\u001b[0;32m      2\u001b[0m n\u001b[38;5;241m=\u001b[39m\u001b[38;5;28mlen\u001b[39m(data)\n\u001b[0;32m      3\u001b[0m \u001b[38;5;28;01mwhile\u001b[39;00m i\u001b[38;5;241m<\u001b[39mn:\n\u001b[1;32m----> 4\u001b[0m     \u001b[38;5;28mprint\u001b[39m(data[i][\u001b[38;5;124m\"\u001b[39m\u001b[38;5;124mtitle\u001b[39m\u001b[38;5;124m\"\u001b[39m])\n\u001b[0;32m      5\u001b[0m     i\u001b[38;5;241m+\u001b[39m\u001b[38;5;241m=\u001b[39m\u001b[38;5;241m1\u001b[39m\n",
      "\u001b[1;31mKeyError\u001b[0m: 0"
     ]
    }
   ],
   "source": [
    "i=0\n",
    "n=len(data)\n",
    "while i<n:\n",
    "    print(data[i][\"title\"])\n",
    "    i+=1"
   ]
  },
  {
   "cell_type": "code",
   "execution_count": 14,
   "id": "e5ac1a11-9012-4f8c-a000-2597bbe8a76a",
   "metadata": {},
   "outputs": [],
   "source": [
    "import pandas"
   ]
  },
  {
   "cell_type": "code",
   "execution_count": 16,
   "id": "7313ef4b-27fc-4a7f-92cc-621f4263ed28",
   "metadata": {},
   "outputs": [
    {
     "data": {
      "text/html": [
       "<div>\n",
       "<style scoped>\n",
       "    .dataframe tbody tr th:only-of-type {\n",
       "        vertical-align: middle;\n",
       "    }\n",
       "\n",
       "    .dataframe tbody tr th {\n",
       "        vertical-align: top;\n",
       "    }\n",
       "\n",
       "    .dataframe thead th {\n",
       "        text-align: right;\n",
       "    }\n",
       "</style>\n",
       "<table border=\"1\" class=\"dataframe\">\n",
       "  <thead>\n",
       "    <tr style=\"text-align: right;\">\n",
       "      <th></th>\n",
       "      <th>messages</th>\n",
       "      <th>info</th>\n",
       "    </tr>\n",
       "  </thead>\n",
       "  <tbody>\n",
       "    <tr>\n",
       "      <th>0</th>\n",
       "      <td>The API is unreachable, please contact the API...</td>\n",
       "      <td>Your Client (working) ---&gt; Gateway (working) -...</td>\n",
       "    </tr>\n",
       "  </tbody>\n",
       "</table>\n",
       "</div>"
      ],
      "text/plain": [
       "                                            messages  \\\n",
       "0  The API is unreachable, please contact the API...   \n",
       "\n",
       "                                                info  \n",
       "0  Your Client (working) ---> Gateway (working) -...  "
      ]
     },
     "execution_count": 16,
     "metadata": {},
     "output_type": "execute_result"
    }
   ],
   "source": [
    "pandas.json_normalize(data)"
   ]
  },
  {
   "cell_type": "code",
   "execution_count": 25,
   "id": "4b97f40c-e5ef-49ed-8e36-b870538d6051",
   "metadata": {},
   "outputs": [
    {
     "name": "stdout",
     "output_type": "stream",
     "text": [
      "{'tmdbId': 278, 'imdbId': 'tt0111161', 'lastUpdated': 1738173381282, 'ratings': {'imdb': {'score': 9.3, 'reviewsCount': 3000000, 'url': 'https://www.imdb.com/title/tt0111161/'}, 'metacritic': {'metascore': 82, 'userScore': 9.3, 'averageScore': 8.8, 'url': 'https://www.metacritic.com/movie/the-shawshank-redemption'}, 'rotten_tomatoes': {'tomatometer': 89, 'tomatometerReviewsCount': 146, 'audienceScore': 98, 'audienceScoreReviewsCount': 250000, 'averageScore': 9.4, 'url': 'https://www.rottentomatoes.com/m/shawshank_redemption'}, 'letterboxd': {'score': 4.6, 'url': 'https://letterboxd.com/film/the-shawshank-redemption'}, 'allocine': None, 'average': {'score': 9.12}}, 'media': {'backdrop_path': '/zfbjgQE1uSd9wiPTX4VzsLi0rGG.jpg', 'budget': 25000000, 'genres': [{'id': 18, 'name': 'Drama'}, {'id': 80, 'name': 'Crime'}], 'homepage': '', 'id': 278, 'imdb_id': 'tt0111161', 'origin_country': ['US'], 'original_language': 'en', 'original_title': 'The Shawshank Redemption', 'overview': 'Imprisoned in the 1940s for the double murder of his wife and her lover, upstanding banker Andy Dufresne begins a new life at the Shawshank prison, where he puts his accounting skills to work for an amoral warden. During his long stretch in prison, Dufresne comes to be admired by the other inmates -- including an older prisoner named Red -- for his integrity and unquenchable sense of hope.', 'popularity': 173.309, 'poster_path': '/9cqNxx0GxF0bflZmeSMuL5tnGzr.jpg', 'release_date': '1994-09-23', 'revenue': 28341469, 'runtime': 142, 'spoken_languages': [{'english_name': 'English', 'iso_639_1': 'en', 'name': 'English'}], 'status': 'Released', 'tagline': 'Fear can hold you prisoner. Hope can set you free.', 'title': 'The Shawshank Redemption', 'video': False, 'external_ids': {'imdb_id': 'tt0111161', 'wikidata_id': 'Q172241', 'facebook_id': None, 'instagram_id': None, 'twitter_id': None}, 'director': 'Frank Darabont', 'media_type': 'movie'}}\n"
     ]
    }
   ],
   "source": [
    "import requests\n",
    "\n",
    "url = \"https://movies-ratings2.p.rapidapi.com/ratings\"\n",
    "\n",
    "querystring = {\"id\":\"tt0111161\"}\n",
    "\n",
    "headers = {\n",
    "\t\"x-rapidapi-key\": \"524b7b8fa7msh5643233e2c4b3aep1cec41jsn6a1b6186dfcb\",\n",
    "\t\"x-rapidapi-host\": \"movies-ratings2.p.rapidapi.com\"\n",
    "}\n",
    "\n",
    "response = requests.get(url, headers=headers, params=querystring)\n",
    "\n",
    "print(response.json())"
   ]
  },
  {
   "cell_type": "code",
   "execution_count": 26,
   "id": "8f3fc5af-9c30-44b8-9a89-7afad8beaf4b",
   "metadata": {},
   "outputs": [],
   "source": [
    "data=response.json()"
   ]
  },
  {
   "cell_type": "code",
   "execution_count": 27,
   "id": "b037ad7a-314f-4330-9d76-760d322e2abf",
   "metadata": {},
   "outputs": [
    {
     "data": {
      "text/plain": [
       "{'tmdbId': 278,\n",
       " 'imdbId': 'tt0111161',\n",
       " 'lastUpdated': 1738173381282,\n",
       " 'ratings': {'imdb': {'score': 9.3,\n",
       "   'reviewsCount': 3000000,\n",
       "   'url': 'https://www.imdb.com/title/tt0111161/'},\n",
       "  'metacritic': {'metascore': 82,\n",
       "   'userScore': 9.3,\n",
       "   'averageScore': 8.8,\n",
       "   'url': 'https://www.metacritic.com/movie/the-shawshank-redemption'},\n",
       "  'rotten_tomatoes': {'tomatometer': 89,\n",
       "   'tomatometerReviewsCount': 146,\n",
       "   'audienceScore': 98,\n",
       "   'audienceScoreReviewsCount': 250000,\n",
       "   'averageScore': 9.4,\n",
       "   'url': 'https://www.rottentomatoes.com/m/shawshank_redemption'},\n",
       "  'letterboxd': {'score': 4.6,\n",
       "   'url': 'https://letterboxd.com/film/the-shawshank-redemption'},\n",
       "  'allocine': None,\n",
       "  'average': {'score': 9.12}},\n",
       " 'media': {'backdrop_path': '/zfbjgQE1uSd9wiPTX4VzsLi0rGG.jpg',\n",
       "  'budget': 25000000,\n",
       "  'genres': [{'id': 18, 'name': 'Drama'}, {'id': 80, 'name': 'Crime'}],\n",
       "  'homepage': '',\n",
       "  'id': 278,\n",
       "  'imdb_id': 'tt0111161',\n",
       "  'origin_country': ['US'],\n",
       "  'original_language': 'en',\n",
       "  'original_title': 'The Shawshank Redemption',\n",
       "  'overview': 'Imprisoned in the 1940s for the double murder of his wife and her lover, upstanding banker Andy Dufresne begins a new life at the Shawshank prison, where he puts his accounting skills to work for an amoral warden. During his long stretch in prison, Dufresne comes to be admired by the other inmates -- including an older prisoner named Red -- for his integrity and unquenchable sense of hope.',\n",
       "  'popularity': 173.309,\n",
       "  'poster_path': '/9cqNxx0GxF0bflZmeSMuL5tnGzr.jpg',\n",
       "  'release_date': '1994-09-23',\n",
       "  'revenue': 28341469,\n",
       "  'runtime': 142,\n",
       "  'spoken_languages': [{'english_name': 'English',\n",
       "    'iso_639_1': 'en',\n",
       "    'name': 'English'}],\n",
       "  'status': 'Released',\n",
       "  'tagline': 'Fear can hold you prisoner. Hope can set you free.',\n",
       "  'title': 'The Shawshank Redemption',\n",
       "  'video': False,\n",
       "  'external_ids': {'imdb_id': 'tt0111161',\n",
       "   'wikidata_id': 'Q172241',\n",
       "   'facebook_id': None,\n",
       "   'instagram_id': None,\n",
       "   'twitter_id': None},\n",
       "  'director': 'Frank Darabont',\n",
       "  'media_type': 'movie'}}"
      ]
     },
     "execution_count": 27,
     "metadata": {},
     "output_type": "execute_result"
    }
   ],
   "source": [
    "data"
   ]
  },
  {
   "cell_type": "code",
   "execution_count": 28,
   "id": "af53eb18-c7b5-43ef-83fb-41fefcdac6a9",
   "metadata": {},
   "outputs": [
    {
     "data": {
      "text/plain": [
       "dict_keys(['tmdbId', 'imdbId', 'lastUpdated', 'ratings', 'media'])"
      ]
     },
     "execution_count": 28,
     "metadata": {},
     "output_type": "execute_result"
    }
   ],
   "source": [
    "data.keys()"
   ]
  },
  {
   "cell_type": "code",
   "execution_count": 29,
   "id": "d8df159c-5fce-4b07-ad46-ba6f4f6bfb55",
   "metadata": {},
   "outputs": [
    {
     "data": {
      "text/plain": [
       "5"
      ]
     },
     "execution_count": 29,
     "metadata": {},
     "output_type": "execute_result"
    }
   ],
   "source": [
    "len(data)"
   ]
  },
  {
   "cell_type": "code",
   "execution_count": 31,
   "id": "72cec4d0-c79b-4b87-9abe-9f80d92c4dcf",
   "metadata": {},
   "outputs": [
    {
     "data": {
      "text/plain": [
       "{'backdrop_path': '/zfbjgQE1uSd9wiPTX4VzsLi0rGG.jpg',\n",
       " 'budget': 25000000,\n",
       " 'genres': [{'id': 18, 'name': 'Drama'}, {'id': 80, 'name': 'Crime'}],\n",
       " 'homepage': '',\n",
       " 'id': 278,\n",
       " 'imdb_id': 'tt0111161',\n",
       " 'origin_country': ['US'],\n",
       " 'original_language': 'en',\n",
       " 'original_title': 'The Shawshank Redemption',\n",
       " 'overview': 'Imprisoned in the 1940s for the double murder of his wife and her lover, upstanding banker Andy Dufresne begins a new life at the Shawshank prison, where he puts his accounting skills to work for an amoral warden. During his long stretch in prison, Dufresne comes to be admired by the other inmates -- including an older prisoner named Red -- for his integrity and unquenchable sense of hope.',\n",
       " 'popularity': 173.309,\n",
       " 'poster_path': '/9cqNxx0GxF0bflZmeSMuL5tnGzr.jpg',\n",
       " 'release_date': '1994-09-23',\n",
       " 'revenue': 28341469,\n",
       " 'runtime': 142,\n",
       " 'spoken_languages': [{'english_name': 'English',\n",
       "   'iso_639_1': 'en',\n",
       "   'name': 'English'}],\n",
       " 'status': 'Released',\n",
       " 'tagline': 'Fear can hold you prisoner. Hope can set you free.',\n",
       " 'title': 'The Shawshank Redemption',\n",
       " 'video': False,\n",
       " 'external_ids': {'imdb_id': 'tt0111161',\n",
       "  'wikidata_id': 'Q172241',\n",
       "  'facebook_id': None,\n",
       "  'instagram_id': None,\n",
       "  'twitter_id': None},\n",
       " 'director': 'Frank Darabont',\n",
       " 'media_type': 'movie'}"
      ]
     },
     "execution_count": 31,
     "metadata": {},
     "output_type": "execute_result"
    }
   ],
   "source": [
    "data[\"media\"]"
   ]
  },
  {
   "cell_type": "code",
   "execution_count": 32,
   "id": "97488f71-a5c1-4381-aaf0-6dc2808218aa",
   "metadata": {},
   "outputs": [
    {
     "data": {
      "text/plain": [
       "dict_keys(['backdrop_path', 'budget', 'genres', 'homepage', 'id', 'imdb_id', 'origin_country', 'original_language', 'original_title', 'overview', 'popularity', 'poster_path', 'release_date', 'revenue', 'runtime', 'spoken_languages', 'status', 'tagline', 'title', 'video', 'external_ids', 'director', 'media_type'])"
      ]
     },
     "execution_count": 32,
     "metadata": {},
     "output_type": "execute_result"
    }
   ],
   "source": [
    "data[\"media\"].keys()"
   ]
  },
  {
   "cell_type": "code",
   "execution_count": 33,
   "id": "d78fee1a-09ff-4104-b08d-92c0c772790c",
   "metadata": {},
   "outputs": [
    {
     "data": {
      "text/plain": [
       "'The Shawshank Redemption'"
      ]
     },
     "execution_count": 33,
     "metadata": {},
     "output_type": "execute_result"
    }
   ],
   "source": [
    "data[\"media\"][\"original_title\"]"
   ]
  },
  {
   "cell_type": "code",
   "execution_count": 34,
   "id": "4fdf7c53-a6c4-4c07-8bd8-b4015fdf2b1b",
   "metadata": {},
   "outputs": [
    {
     "data": {
      "text/html": [
       "<div>\n",
       "<style scoped>\n",
       "    .dataframe tbody tr th:only-of-type {\n",
       "        vertical-align: middle;\n",
       "    }\n",
       "\n",
       "    .dataframe tbody tr th {\n",
       "        vertical-align: top;\n",
       "    }\n",
       "\n",
       "    .dataframe thead th {\n",
       "        text-align: right;\n",
       "    }\n",
       "</style>\n",
       "<table border=\"1\" class=\"dataframe\">\n",
       "  <thead>\n",
       "    <tr style=\"text-align: right;\">\n",
       "      <th></th>\n",
       "      <th>backdrop_path</th>\n",
       "      <th>budget</th>\n",
       "      <th>genres</th>\n",
       "      <th>homepage</th>\n",
       "      <th>id</th>\n",
       "      <th>imdb_id</th>\n",
       "      <th>origin_country</th>\n",
       "      <th>original_language</th>\n",
       "      <th>original_title</th>\n",
       "      <th>overview</th>\n",
       "      <th>...</th>\n",
       "      <th>tagline</th>\n",
       "      <th>title</th>\n",
       "      <th>video</th>\n",
       "      <th>director</th>\n",
       "      <th>media_type</th>\n",
       "      <th>external_ids.imdb_id</th>\n",
       "      <th>external_ids.wikidata_id</th>\n",
       "      <th>external_ids.facebook_id</th>\n",
       "      <th>external_ids.instagram_id</th>\n",
       "      <th>external_ids.twitter_id</th>\n",
       "    </tr>\n",
       "  </thead>\n",
       "  <tbody>\n",
       "    <tr>\n",
       "      <th>0</th>\n",
       "      <td>/zfbjgQE1uSd9wiPTX4VzsLi0rGG.jpg</td>\n",
       "      <td>25000000</td>\n",
       "      <td>[{'id': 18, 'name': 'Drama'}, {'id': 80, 'name...</td>\n",
       "      <td></td>\n",
       "      <td>278</td>\n",
       "      <td>tt0111161</td>\n",
       "      <td>[US]</td>\n",
       "      <td>en</td>\n",
       "      <td>The Shawshank Redemption</td>\n",
       "      <td>Imprisoned in the 1940s for the double murder ...</td>\n",
       "      <td>...</td>\n",
       "      <td>Fear can hold you prisoner. Hope can set you f...</td>\n",
       "      <td>The Shawshank Redemption</td>\n",
       "      <td>False</td>\n",
       "      <td>Frank Darabont</td>\n",
       "      <td>movie</td>\n",
       "      <td>tt0111161</td>\n",
       "      <td>Q172241</td>\n",
       "      <td>None</td>\n",
       "      <td>None</td>\n",
       "      <td>None</td>\n",
       "    </tr>\n",
       "  </tbody>\n",
       "</table>\n",
       "<p>1 rows × 27 columns</p>\n",
       "</div>"
      ],
      "text/plain": [
       "                      backdrop_path    budget  \\\n",
       "0  /zfbjgQE1uSd9wiPTX4VzsLi0rGG.jpg  25000000   \n",
       "\n",
       "                                              genres homepage   id    imdb_id  \\\n",
       "0  [{'id': 18, 'name': 'Drama'}, {'id': 80, 'name...           278  tt0111161   \n",
       "\n",
       "  origin_country original_language            original_title  \\\n",
       "0           [US]                en  The Shawshank Redemption   \n",
       "\n",
       "                                            overview  ...  \\\n",
       "0  Imprisoned in the 1940s for the double murder ...  ...   \n",
       "\n",
       "                                             tagline  \\\n",
       "0  Fear can hold you prisoner. Hope can set you f...   \n",
       "\n",
       "                      title  video        director  media_type  \\\n",
       "0  The Shawshank Redemption  False  Frank Darabont       movie   \n",
       "\n",
       "  external_ids.imdb_id external_ids.wikidata_id external_ids.facebook_id  \\\n",
       "0            tt0111161                  Q172241                     None   \n",
       "\n",
       "  external_ids.instagram_id  external_ids.twitter_id  \n",
       "0                      None                     None  \n",
       "\n",
       "[1 rows x 27 columns]"
      ]
     },
     "execution_count": 34,
     "metadata": {},
     "output_type": "execute_result"
    }
   ],
   "source": [
    "pandas.json_normalize(data[\"media\"])"
   ]
  },
  {
   "cell_type": "code",
   "execution_count": 1,
   "id": "50ab2447-0f47-4626-a876-2ae10250df7b",
   "metadata": {},
   "outputs": [],
   "source": [
    "# four major types of request\n",
    "#1.GET request\n",
    "#2.POST\n",
    "#3.PUT/PATCH\n",
    "#4.DELETE"
   ]
  },
  {
   "cell_type": "code",
   "execution_count": 2,
   "id": "ce94499c-405d-4ebc-8c14-1db0302eb376",
   "metadata": {},
   "outputs": [],
   "source": [
    "#json/XML (type of file)\n",
    "#(things under response)-\n",
    "#header-\n",
    "#status code-200(success),300(request denied),400(fail)\n",
    "#encoding\n",
    "#etc.extra  data can also beunder this"
   ]
  },
  {
   "cell_type": "code",
   "execution_count": 5,
   "id": "9f29d061-53e9-4766-899f-6f86604bf974",
   "metadata": {},
   "outputs": [],
   "source": [
    "#steps:\n",
    "#import json\n",
    "#data=json.loads(.....jis vich v data hai)\n",
    "#res.status\n",
    "#print(res.headers)\n",
    "#data.keys\n",
    "#data[....] (jis v data andr nevigate karna hovai)\n",
    "#pandas.json_normalize(data['....'])\n",
    "\n",
    "\n"
   ]
  },
  {
   "cell_type": "code",
   "execution_count": null,
   "id": "cdbee8b3-f64c-4f0d-829c-580156371d89",
   "metadata": {},
   "outputs": [],
   "source": []
  }
 ],
 "metadata": {
  "kernelspec": {
   "display_name": "Python [conda env:base] *",
   "language": "python",
   "name": "conda-base-py"
  },
  "language_info": {
   "codemirror_mode": {
    "name": "ipython",
    "version": 3
   },
   "file_extension": ".py",
   "mimetype": "text/x-python",
   "name": "python",
   "nbconvert_exporter": "python",
   "pygments_lexer": "ipython3",
   "version": "3.13.5"
  }
 },
 "nbformat": 4,
 "nbformat_minor": 5
}
