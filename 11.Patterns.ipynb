{
 "cells": [
  {
   "cell_type": "code",
   "execution_count": 49,
   "id": "2c1dae0a-2a2c-4115-8f0a-8c98143c3ec8",
   "metadata": {},
   "outputs": [
    {
     "name": "stdout",
     "output_type": "stream",
     "text": [
      "  *  *  *  *  *\n",
      "  *  *  *  *  *\n",
      "  *  *  *  *  *\n",
      "  *  *  *  *  *\n",
      "  *  *  *  *  *\n"
     ]
    }
   ],
   "source": [
    "i=0\n",
    "n=5\n",
    "while i<n:\n",
    "    j=0\n",
    "    m=5\n",
    "    while j<m:\n",
    "        print(\" \",\"*\",end=\"\")\n",
    "\n",
    "        j+=1\n",
    "\n",
    "    print()\n",
    "    i+=1"
   ]
  },
  {
   "cell_type": "code",
   "execution_count": 8,
   "id": "87641b81-0dd5-44c3-a555-1e1f3452f386",
   "metadata": {},
   "outputs": [
    {
     "name": "stdout",
     "output_type": "stream",
     "text": [
      "0 \n",
      "0 1 \n",
      "0 1 2 \n",
      "0 1 2 3 \n"
     ]
    }
   ],
   "source": [
    "#upper triangle\n",
    "i=1\n",
    "n=5\n",
    "while i<n:\n",
    "    j=0\n",
    "    \n",
    "    while j<i:\n",
    "        print(j,end=\" \")\n",
    "\n",
    "        j+=1\n",
    "\n",
    "    print()\n",
    "    i+=1"
   ]
  },
  {
   "cell_type": "code",
   "execution_count": 17,
   "id": "b5064958-7058-40d8-a6e1-b13d0952c1cc",
   "metadata": {},
   "outputs": [
    {
     "name": "stdout",
     "output_type": "stream",
     "text": [
      "**\n",
      "***\n",
      "****\n",
      "*****\n"
     ]
    }
   ],
   "source": [
    "i=2\n",
    "n=6\n",
    "while i<n:\n",
    "    j=0\n",
    "    while j<i:\n",
    "        print(\"*\",end=\"\")\n",
    "        j+=1\n",
    "    print()\n",
    "    i+=1"
   ]
  },
  {
   "cell_type": "code",
   "execution_count": 2,
   "id": "26a2acb3-64c1-45f0-859c-086f769b8d43",
   "metadata": {},
   "outputs": [
    {
     "name": "stdout",
     "output_type": "stream",
     "text": [
      "*******\n",
      "******\n",
      "*****\n",
      "****\n",
      "***\n",
      "**\n"
     ]
    }
   ],
   "source": [
    "i=6\n",
    "n=6\n",
    "while i>0:\n",
    "    j=0\n",
    "    while j<=i:\n",
    "        print(\"*\",end=\"\")\n",
    "        j+=1\n",
    "    print()\n",
    "    i-=1"
   ]
  },
  {
   "cell_type": "code",
   "execution_count": 10,
   "id": "6bab3266-6070-4c75-90fa-a53b43bfbb03",
   "metadata": {},
   "outputs": [
    {
     "name": "stdout",
     "output_type": "stream",
     "text": [
      "5 5 5 5 5 \n",
      "4 4 4 4 \n",
      "3 3 3 \n",
      "2 2 \n",
      "1 \n"
     ]
    }
   ],
   "source": [
    "i=0\n",
    "n=5\n",
    "while i<n:\n",
    "    j=0\n",
    "    \n",
    "    while j<n-i:\n",
    "        print(n-i,end=\" \")\n",
    "\n",
    "        j+=1\n",
    "\n",
    "    print()\n",
    "    i+=1"
   ]
  },
  {
   "cell_type": "code",
   "execution_count": 8,
   "id": "c6ca8dd7-98ed-436c-828e-6c63ddda3100",
   "metadata": {},
   "outputs": [
    {
     "name": "stdout",
     "output_type": "stream",
     "text": [
      "5 4 3 2 1 \n",
      "5 4 3 2 \n",
      "5 4 3 \n",
      "5 4 \n",
      "5 \n"
     ]
    }
   ],
   "source": [
    "i=0\n",
    "n=5\n",
    "while i<n:\n",
    "    j=0\n",
    "    \n",
    "    while j<n-i:\n",
    "        print(n-j,end=\" \")\n",
    "\n",
    "        j+=1\n",
    "\n",
    "    print()\n",
    "    i+=1"
   ]
  },
  {
   "cell_type": "code",
   "execution_count": 11,
   "id": "56dbba4a-9ab5-4c3c-928b-6e563fceaebd",
   "metadata": {},
   "outputs": [
    {
     "name": "stdout",
     "output_type": "stream",
     "text": [
      "4 3 2 1 0 \n",
      "4 3 2 1 \n",
      "4 3 2 \n",
      "4 3 \n",
      "4 \n"
     ]
    }
   ],
   "source": [
    "i=0\n",
    "n=5\n",
    "while i<n:\n",
    "    j=0\n",
    "    \n",
    "    while j<n-i:\n",
    "        print(n-j-1,end=\" \")\n",
    "\n",
    "        j+=1\n",
    "\n",
    "    print()\n",
    "    i+=1"
   ]
  },
  {
   "cell_type": "code",
   "execution_count": 1,
   "id": "0218a267-72b4-4c9f-bd13-278348fe7963",
   "metadata": {},
   "outputs": [
    {
     "name": "stdout",
     "output_type": "stream",
     "text": [
      "*****\n",
      "**\n",
      "**\n",
      "**\n",
      "*****\n"
     ]
    }
   ],
   "source": [
    "i=0\n",
    "n=5\n",
    "while i<n:\n",
    "    j=0\n",
    "    \n",
    "    while j<n:\n",
    "        if i==0 or i==n-1 or j==0 or j==n-1:\n",
    "            \n",
    "            print(\"*\",end=\"\")\n",
    "        \n",
    "        j+=1\n",
    "\n",
    "    print()\n",
    "    i+=1"
   ]
  },
  {
   "cell_type": "code",
   "execution_count": 19,
   "id": "cd9b45f6-c05a-4d79-8a1b-f899dd54d842",
   "metadata": {},
   "outputs": [
    {
     "name": "stdout",
     "output_type": "stream",
     "text": [
      "*****\n",
      "* \n",
      " \n",
      " \n",
      "*\n",
      "* \n",
      " \n",
      " \n",
      "*\n",
      "* \n",
      " \n",
      " \n",
      "*\n",
      "*****\n"
     ]
    }
   ],
   "source": [
    "i=0\n",
    "n=5\n",
    "while i<n:\n",
    "    j=0\n",
    "    \n",
    "    while j<n:\n",
    "        if i==0 or i==n-1 or j==0 or j==n-1:\n",
    "            \n",
    "            print(\"*\",end=\"\")\n",
    "        else:\n",
    "            print(\" \")\n",
    "        j+=1\n",
    "\n",
    "    print()\n",
    "    i+=1"
   ]
  },
  {
   "cell_type": "code",
   "execution_count": 4,
   "id": "2feba6f0-b915-4b0f-b8a9-6255e3ddcce8",
   "metadata": {},
   "outputs": [
    {
     "name": "stdout",
     "output_type": "stream",
     "text": [
      "* * * * * \n",
      "*       * \n",
      "*       * \n",
      "*       * \n",
      "* * * * * \n"
     ]
    }
   ],
   "source": [
    "i=0\n",
    "n=5\n",
    "while i<n:\n",
    "    j=0\n",
    "    while j<n:\n",
    "        if i==0 or i==n-1 or j==0 or j==n-1:\n",
    "            \n",
    "            print(\"*\",end=\" \")\n",
    "        else:\n",
    "            print(\" \",end=\" \")\n",
    "        j+=1\n",
    "    print()\n",
    "    i+=1"
   ]
  },
  {
   "cell_type": "code",
   "execution_count": 3,
   "id": "1e210c7d-4ada-49b1-b754-330177b9c269",
   "metadata": {},
   "outputs": [
    {
     "name": "stdout",
     "output_type": "stream",
     "text": [
      "*****\n",
      "*   *\n",
      "*   *\n",
      "*   *\n",
      "*****\n"
     ]
    }
   ],
   "source": [
    "i=0\n",
    "n=5\n",
    "while i<n:\n",
    "    j=0    \n",
    "    while j<n:\n",
    "        if i==0 or i==n-1 or j==0 or j==n-1:\n",
    "            print(\"*\",end=\"\")\n",
    "        else:\n",
    "            print(\" \",end=\"\")\n",
    "        j+=1\n",
    "    print()\n",
    "    i+=1"
   ]
  },
  {
   "cell_type": "code",
   "execution_count": 23,
   "id": "bc766253-5e74-43d0-b5ef-e31515b6f896",
   "metadata": {},
   "outputs": [
    {
     "name": "stdout",
     "output_type": "stream",
     "text": [
      "*****\n",
      "*      *\n",
      "*      *\n",
      "*      *\n",
      "*****\n"
     ]
    }
   ],
   "source": [
    "i=0\n",
    "n=5\n",
    "while i<n:\n",
    "    j=0\n",
    "    \n",
    "    while j<n:\n",
    "        if i==0 or i==n-1 or j==0 or j==n-1:\n",
    "            \n",
    "            print(\"*\",end=\"\")\n",
    "        else:\n",
    "            print(\" \",end=\" \")\n",
    "        j+=1\n",
    "\n",
    "    print()\n",
    "    i+=1"
   ]
  },
  {
   "cell_type": "code",
   "execution_count": 30,
   "id": "91a55645-4962-4f9b-8913-44afeaf71274",
   "metadata": {},
   "outputs": [
    {
     "name": "stdout",
     "output_type": "stream",
     "text": [
      "*****\n",
      "*   *\n",
      "*   *\n",
      "*   *\n",
      "*****\n"
     ]
    }
   ],
   "source": [
    "i=0\n",
    "n=5\n",
    "while i<n:\n",
    "    j=0\n",
    "    \n",
    "    while j<n:\n",
    "        if i==0 or i==n-1 or j==0 or j==n-1:\n",
    "            \n",
    "            print(\"*\",end=\"\")\n",
    "        else:\n",
    "            print(\" \",end=\"\")\n",
    "        j+=1\n",
    "\n",
    "    print()\n",
    "    i+=1"
   ]
  },
  {
   "cell_type": "code",
   "execution_count": 25,
   "id": "af7edf46-3dba-48dd-8fda-f4713612bb25",
   "metadata": {},
   "outputs": [
    {
     "name": "stdout",
     "output_type": "stream",
     "text": [
      "*****\n",
      "*   *\n",
      "*   *\n",
      "*   *\n",
      "*   *\n"
     ]
    }
   ],
   "source": [
    "i=0\n",
    "n=5\n",
    "while i<n:\n",
    "    j=0\n",
    "    \n",
    "    while j<n:\n",
    "        if i==0 or i==n or j==0 or j==n-1:\n",
    "            \n",
    "            print(\"*\",end=\"\")\n",
    "        else:\n",
    "            print(\" \",end=\"\")\n",
    "        j+=1\n",
    "\n",
    "    print()\n",
    "    i+=1"
   ]
  },
  {
   "cell_type": "code",
   "execution_count": 28,
   "id": "b90cd8cf-dc72-4149-9ec2-56dc4f490387",
   "metadata": {},
   "outputs": [
    {
     "name": "stdout",
     "output_type": "stream",
     "text": [
      "*****\n",
      "*    \n",
      "*    \n",
      "*    \n",
      "*    \n"
     ]
    }
   ],
   "source": [
    "i=0\n",
    "n=5\n",
    "while i<n:\n",
    "    j=0\n",
    "    \n",
    "    while j<n:\n",
    "        if i==0 or i==n or j==0 or j==n:\n",
    "            \n",
    "            print(\"*\",end=\"\")\n",
    "        else:\n",
    "            print(\" \",end=\"\")\n",
    "        j+=1\n",
    "\n",
    "    print()\n",
    "    i+=1"
   ]
  },
  {
   "cell_type": "code",
   "execution_count": 33,
   "id": "da3c9d73-707a-45b8-b6ba-d35a718e45d7",
   "metadata": {},
   "outputs": [
    {
     "name": "stdout",
     "output_type": "stream",
     "text": [
      "  *  \n",
      "*****\n",
      "  *  \n",
      "  *  \n",
      "  *  \n"
     ]
    }
   ],
   "source": [
    "i=0\n",
    "n=5\n",
    "while i<n:\n",
    "    j=0\n",
    "    \n",
    "    while j<n:\n",
    "        if i==1 or i==n or j==2 or j==n:\n",
    "            \n",
    "            print(\"*\",end=\"\")\n",
    "        else:\n",
    "            print(\" \",end=\"\")\n",
    "        j+=1\n",
    "\n",
    "    print()\n",
    "    i+=1"
   ]
  },
  {
   "cell_type": "code",
   "execution_count": 5,
   "id": "291fcc76-5561-4772-b2d6-7ebfba03d266",
   "metadata": {},
   "outputs": [
    {
     "name": "stdout",
     "output_type": "stream",
     "text": [
      "  *  \n",
      "  *  \n",
      "*****\n",
      "  *  \n",
      "  *  \n"
     ]
    }
   ],
   "source": [
    "i=0\n",
    "n=5\n",
    "while i<n:\n",
    "    j=0\n",
    "    while j<n:\n",
    "        if i==2 or i==n or j==2 or j==n:\n",
    "            \n",
    "            print(\"*\",end=\"\")\n",
    "        else:\n",
    "            print(\" \",end=\"\")\n",
    "        j+=1\n",
    "    print()\n",
    "    i+=1"
   ]
  },
  {
   "cell_type": "code",
   "execution_count": 6,
   "id": "c9835c2e-4c61-410b-b98f-e22518fc172f",
   "metadata": {},
   "outputs": [
    {
     "name": "stdout",
     "output_type": "stream",
     "text": [
      "  *  \n",
      "  *  \n",
      "*****\n",
      "  *  \n",
      "*****\n"
     ]
    }
   ],
   "source": [
    "i=0\n",
    "n=5\n",
    "while i<n:\n",
    "    j=0    \n",
    "    while j<n:\n",
    "        if i==2 or i==n-1 or j==2 or j==n:\n",
    "            \n",
    "            print(\"*\",end=\"\")\n",
    "        else:\n",
    "            print(\" \",end=\"\")\n",
    "        j+=1\n",
    "    print()\n",
    "    i+=1"
   ]
  },
  {
   "cell_type": "code",
   "execution_count": 42,
   "id": "de0dfaf7-218e-4ddc-896f-db88b28afec6",
   "metadata": {},
   "outputs": [
    {
     "name": "stdout",
     "output_type": "stream",
     "text": [
      "01234\n",
      "  2 4\n",
      "  2 4\n",
      "  2 4\n",
      "01234\n"
     ]
    }
   ],
   "source": [
    "i=0\n",
    "n=5\n",
    "while i<n:\n",
    "    j=0\n",
    "    \n",
    "    while j<n:\n",
    "        if i==0 or i==n-1 or j==2 or j==n-1:\n",
    "            \n",
    "            print(j,end=\"\")\n",
    "        else:\n",
    "            print(\" \",end=\"\")\n",
    "        j+=1\n",
    "\n",
    "    print()\n",
    "    i+=1"
   ]
  },
  {
   "cell_type": "code",
   "execution_count": 45,
   "id": "7a33005d-5c7e-41f7-b76f-e2860b3b2f30",
   "metadata": {},
   "outputs": [
    {
     "name": "stdout",
     "output_type": "stream",
     "text": [
      "*****\n",
      "1*****\n",
      "22*****\n",
      "333*****\n",
      "4444*****\n"
     ]
    }
   ],
   "source": [
    "i=0\n",
    "n=5\n",
    "while i<n:\n",
    "    k=0 # here k  is used to print triangle\n",
    "    while k<i:\n",
    "        print(i,end=\"\")\n",
    "        k+=1\n",
    "    j=0 # here j is used to print rectangle\n",
    "    while j<n:\n",
    "        print(\"*\",end=\"\")\n",
    "        j+=1\n",
    "\n",
    "    print()\n",
    "    i+=1"
   ]
  },
  {
   "cell_type": "code",
   "execution_count": 60,
   "id": "6acdc08f-957b-468a-b212-0a5bf9ad7a67",
   "metadata": {},
   "outputs": [
    {
     "name": "stdout",
     "output_type": "stream",
     "text": [
      "\n",
      " *\n",
      "  **\n",
      "   ***\n",
      "    ****\n"
     ]
    }
   ],
   "source": [
    "i=0\n",
    "n=5\n",
    "while i<n:\n",
    "    k=0 # here k  is used to print triangle\n",
    "    while k<i:\n",
    "        print(\" \",end=\"\")\n",
    "        k+=1\n",
    "    j=0 # here j is used to print rectangle\n",
    "    while j<i:\n",
    "        print(\"*\",end=\"\")\n",
    "        j+=1\n",
    "\n",
    "    print()\n",
    "    i+=1"
   ]
  },
  {
   "cell_type": "code",
   "execution_count": 56,
   "id": "7fc32a57-35f7-45d7-8383-1eb1a79fcc8b",
   "metadata": {},
   "outputs": [
    {
     "name": "stdout",
     "output_type": "stream",
     "text": [
      "\n",
      " 1\n",
      "  22\n",
      "   333\n",
      "    4444\n"
     ]
    }
   ],
   "source": [
    "i=0\n",
    "n=5\n",
    "while i<n:\n",
    "    k=0 \n",
    "    while k<i:\n",
    "        print(\" \",end=\"\")\n",
    "        k+=1\n",
    "    j=0 \n",
    "    while j<i:\n",
    "        print(i,end=\"\")\n",
    "        j+=1\n",
    "\n",
    "    print()\n",
    "    i+=1"
   ]
  },
  {
   "cell_type": "code",
   "execution_count": 9,
   "id": "f4f1b9ab-92d5-42d6-a4cd-8e527062154e",
   "metadata": {},
   "outputs": [
    {
     "name": "stdout",
     "output_type": "stream",
     "text": [
      "*****\n",
      " *****\n",
      "  *****\n",
      "   *****\n",
      "    *****\n"
     ]
    }
   ],
   "source": [
    "i=0\n",
    "n=5\n",
    "while i<n:\n",
    "    k=0 # here k  is used to print triangle\n",
    "    while k<i:\n",
    "        print(\" \",end=\"\")\n",
    "        k+=1\n",
    "    j=0 # here j is used to print rectangle\n",
    "    while j<n:\n",
    "        print(\"*\",end=\"\")\n",
    "        j+=1\n",
    "    print()\n",
    "    i+=1"
   ]
  },
  {
   "cell_type": "code",
   "execution_count": 10,
   "id": "609a0ea7-70cb-4c20-8dd5-2fd38ba41e9a",
   "metadata": {},
   "outputs": [
    {
     "name": "stdout",
     "output_type": "stream",
     "text": [
      "     *****\n",
      "    *****\n",
      "   *****\n",
      "  *****\n",
      " *****\n"
     ]
    }
   ],
   "source": [
    "i=5\n",
    "n=5\n",
    "while i>0:\n",
    "    k=0 # here k  is used to print triangle\n",
    "    while k<i:\n",
    "        print(\" \",end=\"\")\n",
    "        k+=1\n",
    "    j=0 # here j is used to print rectangle\n",
    "    while j<n:\n",
    "        print(\"*\",end=\"\")\n",
    "        j+=1\n",
    "    print()\n",
    "    i-=1"
   ]
  },
  {
   "cell_type": "code",
   "execution_count": 70,
   "id": "76b1a9d6-8c50-42df-ae20-4eea578879d8",
   "metadata": {},
   "outputs": [
    {
     "name": "stdout",
     "output_type": "stream",
     "text": [
      "     55555\n",
      "    44444\n",
      "   33333\n",
      "  22222\n",
      " 11111\n"
     ]
    }
   ],
   "source": [
    "i=0\n",
    "n=5\n",
    "while i<n:\n",
    "    k=0 # here k  is used to print triangle\n",
    "    while k<n-i:\n",
    "        print(\" \",end=\"\")\n",
    "        k+=1\n",
    "    j=0 # here j is used to print rectangle\n",
    "    while j<n:\n",
    "        print(n-i,end=\"\")\n",
    "        j+=1\n",
    "\n",
    "    print()\n",
    "    i+=1"
   ]
  },
  {
   "cell_type": "code",
   "execution_count": 11,
   "id": "f0d9a9ab-4982-40c5-b06b-8ac53465d7a8",
   "metadata": {},
   "outputs": [
    {
     "name": "stdout",
     "output_type": "stream",
     "text": [
      "     \n",
      "    *\n",
      "   ***\n",
      "  *****\n",
      " *******\n"
     ]
    }
   ],
   "source": [
    "i=0\n",
    "n=5\n",
    "while i<n:\n",
    "    k=0 # here k  is used to print triangle\n",
    "    while k<n-i:\n",
    "        print(\" \",end=\"\")\n",
    "        k+=1\n",
    "    j=0 # here j is used to print rectangle\n",
    "    while j<i*2-1:\n",
    "        print(\"*\",end=\"\")\n",
    "        j+=1\n",
    "\n",
    "    print()\n",
    "    i+=1"
   ]
  },
  {
   "cell_type": "code",
   "execution_count": 11,
   "id": "d9a48ff9-91d3-4e60-92c3-4441a8ee8bef",
   "metadata": {},
   "outputs": [
    {
     "name": "stdout",
     "output_type": "stream",
     "text": [
      "        \n",
      "      * \n",
      "    * * * \n",
      "  * * * * * \n",
      "* * * * * * * \n"
     ]
    }
   ],
   "source": [
    "i=0\n",
    "n=5\n",
    "while i<n:\n",
    "    k=1 # here k  is used to print triangle\n",
    "    while k<(n-i)*2-1:\n",
    "        print(\" \",end=\"\")\n",
    "        k+=1\n",
    "    j=0 # here j is used to print rectangle\n",
    "    while j<i*2-1:\n",
    "        print(\"*\",end=\" \")\n",
    "        j+=1\n",
    "    print()\n",
    "    i+=1"
   ]
  },
  {
   "cell_type": "code",
   "execution_count": 12,
   "id": "32ada35f-425c-4b3c-9489-3358eff6de97",
   "metadata": {},
   "outputs": [
    {
     "name": "stdout",
     "output_type": "stream",
     "text": [
      "* * * * * * * * * \n",
      "  * * * * * * * \n",
      "    * * * * * \n",
      "      * * * \n",
      "        * \n",
      "          \n",
      "        * \n",
      "      * * * \n",
      "    * * * * * \n",
      "  * * * * * * * \n",
      "* * * * * * * * * \n"
     ]
    }
   ],
   "source": [
    "i=0\n",
    "n=5\n",
    "while i<n:\n",
    "    k=0 # here k  is used to print triangle\n",
    "    while k<i*2:\n",
    "        print(\" \",end=\"\")\n",
    "        k+=1\n",
    "    j=0 # here j is used to print rectangle\n",
    "    while j<(n-i)*2-1:\n",
    "        print(\"*\",end=\" \")\n",
    "        j+=1\n",
    "    print()\n",
    "    i+=1\n",
    "i=0\n",
    "n=6\n",
    "while i<n:\n",
    "    k=1 # here k  is used to print triangle\n",
    "    while k<(n-i)*2-1:\n",
    "        print(\" \",end=\"\")\n",
    "        k+=1\n",
    "    j=0 # here j is used to print rectangle\n",
    "    while j<i*2-1:\n",
    "        print(\"*\",end=\" \")\n",
    "        j+=1\n",
    "    print()\n",
    "    i+=1"
   ]
  },
  {
   "cell_type": "code",
   "execution_count": 76,
   "id": "59073d21-6342-4725-847d-fa0295025d3b",
   "metadata": {},
   "outputs": [
    {
     "name": "stdout",
     "output_type": "stream",
     "text": [
      "    \n",
      "   **\n",
      "  *  *\n",
      " *    *\n",
      "********\n"
     ]
    }
   ],
   "source": [
    "n=4\n",
    "i=0\n",
    "while i<=n:\n",
    "    #print spaces\n",
    "    j=1\n",
    "    while j<=n-i:\n",
    "        print(\" \",end=\"\")\n",
    "        j+=1\n",
    "    # print stars( hollow in between except first/last or edges)\n",
    "    k=0\n",
    "    while k<=(2*i-1):\n",
    "        if k==0 or k==(2*i-1) or i==n:\n",
    "            print(\"*\",end=\"\")\n",
    "        else:\n",
    "            print(\" \",end=\"\")\n",
    "        k+=1\n",
    "    print()\n",
    "    i+=1\n",
    "    "
   ]
  },
  {
   "cell_type": "code",
   "execution_count": 15,
   "id": "47d04377-a3a1-4982-ba1c-bc061ec51811",
   "metadata": {},
   "outputs": [
    {
     "name": "stdout",
     "output_type": "stream",
     "text": [
      "   *\n",
      "  * *\n",
      " *   *\n",
      "*******\n"
     ]
    }
   ],
   "source": [
    "i=1\n",
    "n=4\n",
    "while i<=n:\n",
    "    j=1\n",
    "    while j<=n-i:\n",
    "        print(\" \",end=\"\")\n",
    "        j+=1\n",
    "    k=1\n",
    "    while k<=(2*i-1):\n",
    "        if k==1 or k==(2*i-1) or i==n:\n",
    "            print(\"*\",end=\"\")\n",
    "        else:\n",
    "            print(\" \",end=\"\")\n",
    "        k+=1\n",
    "    print()\n",
    "    i+=1"
   ]
  },
  {
   "cell_type": "code",
   "execution_count": 94,
   "id": "462d463c-e8be-4c2f-9d47-6c5c9c68cb05",
   "metadata": {},
   "outputs": [
    {
     "name": "stdout",
     "output_type": "stream",
     "text": [
      "*******\n",
      " *   *\n",
      "  * *\n",
      "   *\n"
     ]
    }
   ],
   "source": [
    "i=4\n",
    "n=4\n",
    "while i>=1:\n",
    "    j=1\n",
    "    while j<=n-i:\n",
    "        print(\" \",end=\"\")\n",
    "        j+=1\n",
    "    k=1\n",
    "    while k<=(2*i-1):\n",
    "        if k==1 or k==(2*i-1) or i==n:\n",
    "            print(\"*\",end=\"\")\n",
    "        else:\n",
    "            print(\" \",end=\"\")\n",
    "        k+=1\n",
    "    print()\n",
    "    i-=1"
   ]
  },
  {
   "cell_type": "code",
   "execution_count": 17,
   "id": "5017d29a-250b-4421-bcf2-1199d8e5a856",
   "metadata": {},
   "outputs": [
    {
     "name": "stdout",
     "output_type": "stream",
     "text": [
      "*\n",
      "**\n",
      "***\n",
      "****\n",
      "***\n",
      "**\n",
      "*\n"
     ]
    }
   ],
   "source": [
    "i=1\n",
    "n=4\n",
    "# upper half\n",
    "while i<=n:\n",
    "    j=1\n",
    "    while j<=i:\n",
    "        print(\"*\",end=\"\")\n",
    "        j+=1\n",
    "    print()\n",
    "    i+=1\n",
    "# lower half\n",
    "i=n-1\n",
    "while i>=1:\n",
    "    j=1\n",
    "    while j<=i:\n",
    "        print(\"*\",end=\"\")\n",
    "        j+=1\n",
    "    print()\n",
    "    i-=1"
   ]
  },
  {
   "cell_type": "code",
   "execution_count": 98,
   "id": "6764ffe3-b6e1-4032-9362-4b53a8628d03",
   "metadata": {},
   "outputs": [
    {
     "name": "stdout",
     "output_type": "stream",
     "text": [
      "   *\n",
      "  **\n",
      " ***\n",
      "****\n",
      " ***\n",
      "  **\n",
      "   *\n"
     ]
    }
   ],
   "source": [
    "i=1\n",
    "n=4\n",
    "#upper half\n",
    "while i<=n:\n",
    "    #print spaces\n",
    "    j=1\n",
    "    while j<=n-i:\n",
    "        print( \" \",end=\"\")\n",
    "        j+=1\n",
    "    # print stars\n",
    "    k=1\n",
    "    while k<=i:\n",
    "        print(\"*\",end=\"\")\n",
    "        k+=1\n",
    "    print()\n",
    "    i+=1\n",
    "# lower half\n",
    "i=n-1\n",
    "while i>=1:\n",
    "    # print spaces\n",
    "    j=1\n",
    "    while j<=n-i:\n",
    "        print(\" \",end=\"\")\n",
    "        j+=1\n",
    "    #print stars\n",
    "    k=1\n",
    "    while k<=i:\n",
    "        print(\"*\",end=\"\")\n",
    "        k+=1\n",
    "    print()\n",
    "    i-=1"
   ]
  },
  {
   "cell_type": "code",
   "execution_count": 1,
   "id": "c30562b4-f971-4f6b-b685-d40818e0f67a",
   "metadata": {},
   "outputs": [
    {
     "name": "stdout",
     "output_type": "stream",
     "text": [
      "   *\n",
      "  ***\n",
      " *****\n",
      "*******\n",
      " *****\n",
      "  ***\n",
      "   *\n"
     ]
    }
   ],
   "source": [
    "i=1\n",
    "n=4\n",
    "while i<=n:\n",
    "    j=1\n",
    "    while j<=n-i:\n",
    "        print(\" \",end=\"\")\n",
    "        j+=1\n",
    "    k=1\n",
    "    while k<=(2*i-1):\n",
    "        print(\"*\",end=\"\")\n",
    "        k+=1\n",
    "    print()\n",
    "    i+=1\n",
    "i=n-1\n",
    "while i>=1:\n",
    "    j=1\n",
    "    while j<=n-i:\n",
    "        print(\" \",end=\"\")\n",
    "        j+=1\n",
    "\n",
    "    k=1\n",
    "    while k<=(2*i-1):\n",
    "        print(\"*\",end=\"\")\n",
    "        k+=1\n",
    "    print()\n",
    "    i-=1"
   ]
  },
  {
   "cell_type": "code",
   "execution_count": 30,
   "id": "183163d8-2307-42ef-8b70-0b38f5126a77",
   "metadata": {},
   "outputs": [
    {
     "name": "stdout",
     "output_type": "stream",
     "text": [
      "01234*\n",
      "0123***\n",
      "012*****\n",
      "01*******\n",
      "0*********\n",
      "0*********\n",
      "01*******\n",
      "012*****\n",
      "0123***\n",
      "01234*\n"
     ]
    }
   ],
   "source": [
    "i=0\n",
    "n=5\n",
    "while i<n:\n",
    "    j=0\n",
    "    while j<n-i:\n",
    "        \n",
    "        print(j,end=\"\")\n",
    "        j+=1\n",
    "    k=0\n",
    "    while k<((i+1)*2)-1:\n",
    "        print(\"*\",end=\"\")\n",
    "        k+=1\n",
    "\n",
    "    print()\n",
    "    i+=1\n",
    "\n",
    "i=0\n",
    "n=5\n",
    "while i<n:\n",
    "    j=0\n",
    "    while j<(i+1):\n",
    "        \n",
    "        print(j,end=\"\")\n",
    "        j+=1\n",
    "    k=0\n",
    "    while k<(n-i)*2-1:\n",
    "        print(\"*\",end=\"\")\n",
    "        k+=1\n",
    "    print()\n",
    "    i+=1"
   ]
  },
  {
   "cell_type": "code",
   "execution_count": 45,
   "id": "fe9421ef-8d17-4b00-842b-1b7c9648b4e2",
   "metadata": {},
   "outputs": [
    {
     "name": "stdout",
     "output_type": "stream",
     "text": [
      "    *\n",
      "   ***\n",
      "  *****\n",
      " *******\n",
      "*********\n",
      " *******\n",
      "  *****\n",
      "   ***\n",
      "    *\n"
     ]
    }
   ],
   "source": [
    "i=0\n",
    "n=5\n",
    "while i<n:\n",
    "    j=0\n",
    "    while j<n-i-1:\n",
    "        \n",
    "        print(\" \",end=\"\")\n",
    "        j+=1\n",
    "    k=0\n",
    "    while k<((i+1)*2)-1:\n",
    "        print(\"*\",end=\"\")\n",
    "        k+=1\n",
    "\n",
    "    print()\n",
    "    i+=1\n",
    "\n",
    "i=0\n",
    "n=4\n",
    "while i<n:\n",
    "    j=0\n",
    "    while j<(i+1):\n",
    "        \n",
    "        print(\" \",end=\"\")\n",
    "        j+=1\n",
    "    k=0\n",
    "    while k<(n-i)*2-1:\n",
    "        print(\"*\",end=\"\")\n",
    "        k+=1\n",
    "    print()\n",
    "    i+=1"
   ]
  },
  {
   "cell_type": "code",
   "execution_count": 6,
   "id": "c8aa0283-6d3c-41a7-95b8-ee1a074f62b0",
   "metadata": {},
   "outputs": [
    {
     "name": "stdout",
     "output_type": "stream",
     "text": [
      "*******\n",
      " *****\n",
      "  ***\n",
      "   *\n",
      "  ***\n",
      " *****\n",
      "*******\n"
     ]
    }
   ],
   "source": [
    "n=4\n",
    "i=4\n",
    "while i>=1:\n",
    "    spaces=n-i\n",
    "    stars=2*i-1\n",
    "    print(\" \"*spaces + \"*\" * stars)\n",
    "    i-=1\n",
    "i=2\n",
    "while i<=n:\n",
    "    spaces=n-i\n",
    "    stars=2*i-1\n",
    "    print(\" \" * spaces + \"*\" * stars)\n",
    "    i+=1"
   ]
  },
  {
   "cell_type": "code",
   "execution_count": 9,
   "id": "48458b62-994d-4731-a125-0de7295f2d7a",
   "metadata": {},
   "outputs": [
    {
     "name": "stdout",
     "output_type": "stream",
     "text": [
      "*      *\n",
      "**    **\n",
      "***  ***\n",
      "********\n",
      "***  ***\n",
      "**    **\n",
      "*      *\n"
     ]
    }
   ],
   "source": [
    "i=1\n",
    "n=4\n",
    "while i<=n:\n",
    "    print(\"*\" * i+ \" \" * (2*(n-i)) + \"*\" * i)\n",
    "    i+=1\n",
    "i=n-1\n",
    "while i>=1:\n",
    "    print(\"*\" * i + \" \" * (2 * (n-i)) + \"*\" * i)\n",
    "    i-=1"
   ]
  },
  {
   "cell_type": "code",
   "execution_count": null,
   "id": "c5167c32-9ab2-4644-b65e-a0a6e255d47c",
   "metadata": {},
   "outputs": [],
   "source": []
  }
 ],
 "metadata": {
  "kernelspec": {
   "display_name": "Python [conda env:base] *",
   "language": "python",
   "name": "conda-base-py"
  },
  "language_info": {
   "codemirror_mode": {
    "name": "ipython",
    "version": 3
   },
   "file_extension": ".py",
   "mimetype": "text/x-python",
   "name": "python",
   "nbconvert_exporter": "python",
   "pygments_lexer": "ipython3",
   "version": "3.13.5"
  }
 },
 "nbformat": 4,
 "nbformat_minor": 5
}
