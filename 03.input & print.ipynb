{
 "cells": [
  {
   "cell_type": "code",
   "execution_count": 2,
   "id": "cc09b115-dfe8-4e6f-86ec-2bdfbaa2af45",
   "metadata": {},
   "outputs": [
    {
     "name": "stdout",
     "output_type": "stream",
     "text": [
      "kanika\n"
     ]
    }
   ],
   "source": [
    "print(\"kanika\")"
   ]
  },
  {
   "cell_type": "code",
   "execution_count": 4,
   "id": "09859c2a-07cf-4f6c-b4b5-73c6f200cfda",
   "metadata": {},
   "outputs": [],
   "source": [
    "a=5\n",
    "b=6"
   ]
  },
  {
   "cell_type": "code",
   "execution_count": 5,
   "id": "a269d617-5fdf-4e94-a96f-06e4307754d8",
   "metadata": {},
   "outputs": [
    {
     "data": {
      "text/plain": [
       "5"
      ]
     },
     "execution_count": 5,
     "metadata": {},
     "output_type": "execute_result"
    }
   ],
   "source": [
    "a"
   ]
  },
  {
   "cell_type": "code",
   "execution_count": 6,
   "id": "7f73ded3-05ac-4124-bd24-3d0c237d4429",
   "metadata": {},
   "outputs": [
    {
     "data": {
      "text/plain": [
       "6"
      ]
     },
     "execution_count": 6,
     "metadata": {},
     "output_type": "execute_result"
    }
   ],
   "source": [
    "b"
   ]
  },
  {
   "cell_type": "code",
   "execution_count": 7,
   "id": "5614c87b-4adc-4b3a-bde3-d77b18a6fbb5",
   "metadata": {},
   "outputs": [
    {
     "data": {
      "text/plain": [
       "6"
      ]
     },
     "execution_count": 7,
     "metadata": {},
     "output_type": "execute_result"
    }
   ],
   "source": [
    "a\n",
    "b"
   ]
  },
  {
   "cell_type": "code",
   "execution_count": 8,
   "id": "2c4bb99a-8212-47d7-855a-a96f4bc33f01",
   "metadata": {},
   "outputs": [
    {
     "name": "stdout",
     "output_type": "stream",
     "text": [
      "5\n",
      "6\n"
     ]
    }
   ],
   "source": [
    "print(a)\n",
    "print(b)"
   ]
  },
  {
   "cell_type": "code",
   "execution_count": 9,
   "id": "aa949d45-2e43-460d-99d5-b5977011a753",
   "metadata": {},
   "outputs": [
    {
     "data": {
      "text/plain": [
       "5"
      ]
     },
     "execution_count": 9,
     "metadata": {},
     "output_type": "execute_result"
    }
   ],
   "source": [
    "5"
   ]
  },
  {
   "cell_type": "code",
   "execution_count": 10,
   "id": "50b55e3f-3520-45d7-b613-d882ea6ba4ac",
   "metadata": {},
   "outputs": [
    {
     "name": "stdout",
     "output_type": "stream",
     "text": [
      "5\n"
     ]
    }
   ],
   "source": [
    "print(5)"
   ]
  },
  {
   "cell_type": "code",
   "execution_count": 11,
   "id": "da45a65a-c795-45c7-8a92-faf80cbe9852",
   "metadata": {},
   "outputs": [
    {
     "name": "stdout",
     "output_type": "stream",
     "text": [
      "5\n"
     ]
    }
   ],
   "source": [
    "a=print(5)"
   ]
  },
  {
   "cell_type": "code",
   "execution_count": 12,
   "id": "d2bccdfc-e181-4f0d-b9d6-328abac20630",
   "metadata": {},
   "outputs": [],
   "source": [
    "a"
   ]
  },
  {
   "cell_type": "code",
   "execution_count": 13,
   "id": "2e24524b-dee9-493b-97e5-66203a6b2fcb",
   "metadata": {},
   "outputs": [
    {
     "name": "stdout",
     "output_type": "stream",
     "text": [
      "None\n"
     ]
    }
   ],
   "source": [
    "print(a)"
   ]
  },
  {
   "cell_type": "code",
   "execution_count": 14,
   "id": "9ec55f49-f9fb-4b2f-8b39-081ef38ee3d5",
   "metadata": {},
   "outputs": [
    {
     "data": {
      "text/plain": [
       "NoneType"
      ]
     },
     "execution_count": 14,
     "metadata": {},
     "output_type": "execute_result"
    }
   ],
   "source": [
    "type(a)"
   ]
  },
  {
   "cell_type": "markdown",
   "id": "841f2cfb-8093-4be0-ab4d-4c769db3c513",
   "metadata": {},
   "source": [
    "# Input"
   ]
  },
  {
   "cell_type": "code",
   "execution_count": 1,
   "id": "e1f15fac-dfe8-4562-90bb-e281a4330558",
   "metadata": {},
   "outputs": [
    {
     "name": "stdin",
     "output_type": "stream",
     "text": [
      " kanika\n"
     ]
    }
   ],
   "source": [
    "#error=if you don't run this code other codes also  don't run and you have to click on enter button only when you write in input box you can't click on shift+enter also you can't delete the cell if you delete it to correct the error you have to go on interrupt the kernal ◼️ sign shows in upper bar\n",
    "name=input()"
   ]
  },
  {
   "cell_type": "code",
   "execution_count": 19,
   "id": "83b715ac-90fd-464b-9d84-68890db43ab8",
   "metadata": {},
   "outputs": [
    {
     "name": "stdin",
     "output_type": "stream",
     "text": [
      "enter you age 15\n"
     ]
    }
   ],
   "source": [
    "age=input('enter you age')"
   ]
  },
  {
   "cell_type": "code",
   "execution_count": 20,
   "id": "6ea31621-d772-4482-bf75-189587741f67",
   "metadata": {},
   "outputs": [
    {
     "data": {
      "text/plain": [
       "str"
      ]
     },
     "execution_count": 20,
     "metadata": {},
     "output_type": "execute_result"
    }
   ],
   "source": [
    "type(age)"
   ]
  },
  {
   "cell_type": "code",
   "execution_count": 21,
   "id": "4cedb7aa-6679-4a0d-814a-e0cd7f43552b",
   "metadata": {},
   "outputs": [
    {
     "data": {
      "text/plain": [
       "'15'"
      ]
     },
     "execution_count": 21,
     "metadata": {},
     "output_type": "execute_result"
    }
   ],
   "source": [
    "age"
   ]
  },
  {
   "cell_type": "code",
   "execution_count": 23,
   "id": "dd19db53-20d2-4734-9e9e-a0642eb68758",
   "metadata": {},
   "outputs": [
    {
     "data": {
      "text/plain": [
       "15"
      ]
     },
     "execution_count": 23,
     "metadata": {},
     "output_type": "execute_result"
    }
   ],
   "source": [
    "#type casting\n",
    "int(age)"
   ]
  },
  {
   "cell_type": "code",
   "execution_count": 24,
   "id": "ce4c1af4-4699-4413-9d6f-32d820c92a30",
   "metadata": {},
   "outputs": [
    {
     "data": {
      "text/plain": [
       "'15'"
      ]
     },
     "execution_count": 24,
     "metadata": {},
     "output_type": "execute_result"
    }
   ],
   "source": [
    "age"
   ]
  },
  {
   "cell_type": "code",
   "execution_count": 25,
   "id": "70998ee4-b72d-4513-b735-f4ecf7c873a2",
   "metadata": {},
   "outputs": [],
   "source": [
    "age=int(age)"
   ]
  },
  {
   "cell_type": "code",
   "execution_count": 26,
   "id": "60193b74-e2d3-4193-aa5d-ea29cc4b3ab6",
   "metadata": {},
   "outputs": [
    {
     "data": {
      "text/plain": [
       "15"
      ]
     },
     "execution_count": 26,
     "metadata": {},
     "output_type": "execute_result"
    }
   ],
   "source": [
    "age"
   ]
  },
  {
   "cell_type": "code",
   "execution_count": 28,
   "id": "cde08492-9bda-4898-a2a9-b409397bbc54",
   "metadata": {},
   "outputs": [
    {
     "data": {
      "text/plain": [
       "int"
      ]
     },
     "execution_count": 28,
     "metadata": {},
     "output_type": "execute_result"
    }
   ],
   "source": [
    "#to get age in integer not in string\n",
    "type(age)"
   ]
  },
  {
   "cell_type": "code",
   "execution_count": 30,
   "id": "df445fcf-0357-44d8-9113-8337d5e070e8",
   "metadata": {},
   "outputs": [
    {
     "name": "stdin",
     "output_type": "stream",
     "text": [
      " kanika\n"
     ]
    },
    {
     "ename": "ValueError",
     "evalue": "invalid literal for int() with base 10: 'kanika'",
     "output_type": "error",
     "traceback": [
      "\u001b[1;31m---------------------------------------------------------------------------\u001b[0m",
      "\u001b[1;31mValueError\u001b[0m                                Traceback (most recent call last)",
      "Cell \u001b[1;32mIn[30], line 3\u001b[0m\n\u001b[0;32m      1\u001b[0m \u001b[38;5;66;03m#error after age in integer\u001b[39;00m\n\u001b[0;32m      2\u001b[0m age\u001b[38;5;241m=\u001b[39m\u001b[38;5;28minput\u001b[39m()\n\u001b[1;32m----> 3\u001b[0m age\u001b[38;5;241m=\u001b[39m\u001b[38;5;28mint\u001b[39m(age)\n",
      "\u001b[1;31mValueError\u001b[0m: invalid literal for int() with base 10: 'kanika'"
     ]
    }
   ],
   "source": [
    "#error after age in integer\n",
    "age=input()\n",
    "age=int(age)"
   ]
  },
  {
   "cell_type": "code",
   "execution_count": 1,
   "id": "4e8b4500-da9e-4cc3-868f-4225d029fb2b",
   "metadata": {},
   "outputs": [
    {
     "name": "stdin",
     "output_type": "stream",
     "text": [
      " hello nice to meet you\n"
     ]
    }
   ],
   "source": [
    "name=input()\n",
    "l=len(name)//2\n",
    "new=name[:l]+name[l:][::-1]"
   ]
  },
  {
   "cell_type": "code",
   "execution_count": 2,
   "id": "6a1c5389-04a8-44b6-a5b2-a9f54b075240",
   "metadata": {},
   "outputs": [
    {
     "data": {
      "text/plain": [
       "'hello nice uoy teem ot'"
      ]
     },
     "execution_count": 2,
     "metadata": {},
     "output_type": "execute_result"
    }
   ],
   "source": [
    "new"
   ]
  },
  {
   "cell_type": "code",
   "execution_count": 12,
   "id": "d19f50a2-bb5e-43f1-a1fe-e2d82d64abea",
   "metadata": {},
   "outputs": [
    {
     "name": "stdin",
     "output_type": "stream",
     "text": [
      " 22\n"
     ]
    }
   ],
   "source": [
    "age=input()\n",
    "age=int(age)"
   ]
  },
  {
   "cell_type": "markdown",
   "id": "68cd20d3-6cf2-42c9-a652-249a0e4d1818",
   "metadata": {},
   "source": [
    "# type casting"
   ]
  },
  {
   "cell_type": "code",
   "execution_count": 1,
   "id": "9643586e-f6cb-447e-97c8-1652432ba36f",
   "metadata": {},
   "outputs": [
    {
     "data": {
      "text/plain": [
       "'50.6'"
      ]
     },
     "execution_count": 1,
     "metadata": {},
     "output_type": "execute_result"
    }
   ],
   "source": [
    "str(50.6)"
   ]
  },
  {
   "cell_type": "code",
   "execution_count": 2,
   "id": "309310c0-65e0-41b5-b5a0-90c25db0383f",
   "metadata": {},
   "outputs": [
    {
     "data": {
      "text/plain": [
       "40"
      ]
     },
     "execution_count": 2,
     "metadata": {},
     "output_type": "execute_result"
    }
   ],
   "source": [
    "int(40.9)"
   ]
  },
  {
   "cell_type": "code",
   "execution_count": 4,
   "id": "ad2f768b-5152-418a-bc16-68c2c609214a",
   "metadata": {},
   "outputs": [
    {
     "ename": "ValueError",
     "evalue": "invalid literal for int() with base 10: '80.9'",
     "output_type": "error",
     "traceback": [
      "\u001b[1;31m---------------------------------------------------------------------------\u001b[0m",
      "\u001b[1;31mValueError\u001b[0m                                Traceback (most recent call last)",
      "Cell \u001b[1;32mIn[4], line 2\u001b[0m\n\u001b[0;32m      1\u001b[0m \u001b[38;5;66;03m#first yoy have to convert it into float\u001b[39;00m\n\u001b[1;32m----> 2\u001b[0m \u001b[38;5;28mint\u001b[39m(\u001b[38;5;124m\"\u001b[39m\u001b[38;5;124m80.9\u001b[39m\u001b[38;5;124m\"\u001b[39m)\n",
      "\u001b[1;31mValueError\u001b[0m: invalid literal for int() with base 10: '80.9'"
     ]
    }
   ],
   "source": [
    "#first yoy have to convert it into float\n",
    "int(\"80.9\")"
   ]
  },
  {
   "cell_type": "code",
   "execution_count": 6,
   "id": "74700f52-987f-42ad-855d-9a8517cd2e2e",
   "metadata": {},
   "outputs": [
    {
     "data": {
      "text/plain": [
       "80"
      ]
     },
     "execution_count": 6,
     "metadata": {},
     "output_type": "execute_result"
    }
   ],
   "source": [
    "int(float(\"80.9\"))"
   ]
  },
  {
   "cell_type": "markdown",
   "id": "41f78a2b-73b4-4201-b687-c8254df55648",
   "metadata": {},
   "source": [
    "# print"
   ]
  },
  {
   "cell_type": "markdown",
   "id": "219ff52a-429a-4848-aae8-664c0c5ae778",
   "metadata": {},
   "source": [
    "#print gives user's output"
   ]
  },
  {
   "cell_type": "code",
   "execution_count": 8,
   "id": "753e0851-7ed5-4eca-9e38-e91f06286360",
   "metadata": {},
   "outputs": [
    {
     "name": "stdout",
     "output_type": "stream",
     "text": [
      "5\n"
     ]
    }
   ],
   "source": [
    "print(5)"
   ]
  },
  {
   "cell_type": "code",
   "execution_count": 9,
   "id": "6434b802-1d83-462c-afc7-1dcc7db1de08",
   "metadata": {},
   "outputs": [
    {
     "name": "stdout",
     "output_type": "stream",
     "text": [
      "9\n"
     ]
    }
   ],
   "source": [
    "a=print(9)"
   ]
  },
  {
   "cell_type": "code",
   "execution_count": 10,
   "id": "a4818b0e-0d9a-43cf-9343-7940945cf9b8",
   "metadata": {},
   "outputs": [],
   "source": [
    "a"
   ]
  },
  {
   "cell_type": "code",
   "execution_count": 11,
   "id": "9da26a81-51d7-472e-903a-9bd1622bb741",
   "metadata": {},
   "outputs": [
    {
     "data": {
      "text/plain": [
       "NoneType"
      ]
     },
     "execution_count": 11,
     "metadata": {},
     "output_type": "execute_result"
    }
   ],
   "source": [
    "type(a)"
   ]
  },
  {
   "cell_type": "code",
   "execution_count": 12,
   "id": "2bc08226-55e5-42da-8467-9c18b2c427c0",
   "metadata": {},
   "outputs": [
    {
     "name": "stdout",
     "output_type": "stream",
     "text": [
      "None\n"
     ]
    }
   ],
   "source": [
    "print(a)"
   ]
  },
  {
   "cell_type": "code",
   "execution_count": 13,
   "id": "7388aca4-3327-44ff-9aec-758917fbfb13",
   "metadata": {},
   "outputs": [
    {
     "name": "stdout",
     "output_type": "stream",
     "text": [
      "5 3 kanika rana\n"
     ]
    }
   ],
   "source": [
    "print(5,3,\"kanika\",\"rana\")"
   ]
  },
  {
   "cell_type": "code",
   "execution_count": 7,
   "id": "362f2ec5-49e0-4a76-be88-f1348ac885fe",
   "metadata": {},
   "outputs": [
    {
     "name": "stdout",
     "output_type": "stream",
     "text": [
      "53kanikarana\n"
     ]
    }
   ],
   "source": [
    "print(5,3,\"kanika\",\"rana\", sep=\"\")"
   ]
  },
  {
   "cell_type": "code",
   "execution_count": 15,
   "id": "eb357a20-4d92-411a-a898-f25190eec3d1",
   "metadata": {},
   "outputs": [
    {
     "name": "stdout",
     "output_type": "stream",
     "text": [
      "5 3 kanika rana\n"
     ]
    }
   ],
   "source": [
    "print(5,3,\"kanika\",\"rana\", sep=\" \")"
   ]
  },
  {
   "cell_type": "code",
   "execution_count": 16,
   "id": "d31b1667-22e6-4657-bb6a-e93e958af09d",
   "metadata": {},
   "outputs": [
    {
     "name": "stdout",
     "output_type": "stream",
     "text": [
      "5*3*kanika*rana\n"
     ]
    }
   ],
   "source": [
    "print(5,3,\"kanika\",\"rana\", sep=\"*\")"
   ]
  },
  {
   "cell_type": "code",
   "execution_count": 17,
   "id": "f6b6fa8e-35f7-4da5-a0ee-65c5d2683331",
   "metadata": {},
   "outputs": [
    {
     "name": "stdout",
     "output_type": "stream",
     "text": [
      "5 *  3 *  kanika *  rana\n"
     ]
    }
   ],
   "source": [
    "print(5,3,\"kanika\",\"rana\", sep=\" *  \")"
   ]
  },
  {
   "cell_type": "code",
   "execution_count": 18,
   "id": "611bda27-6e23-4959-814b-deabc25b542c",
   "metadata": {},
   "outputs": [
    {
     "name": "stdout",
     "output_type": "stream",
     "text": [
      "50\n",
      "30\n"
     ]
    }
   ],
   "source": [
    "print(50)\n",
    "print(30)"
   ]
  },
  {
   "cell_type": "code",
   "execution_count": 20,
   "id": "c707b6a9-56e2-4227-9bd0-02e40d3a0dc2",
   "metadata": {},
   "outputs": [
    {
     "name": "stdout",
     "output_type": "stream",
     "text": [
      "50 60 70 8030\n",
      "40\n"
     ]
    }
   ],
   "source": [
    "print(50,60,70,80,end=\"\")\n",
    "print(30)\n",
    "print(40)"
   ]
  },
  {
   "cell_type": "code",
   "execution_count": 21,
   "id": "b5baa364-d1e7-4284-afe1-df5a0e2958b1",
   "metadata": {},
   "outputs": [
    {
     "name": "stdout",
     "output_type": "stream",
     "text": [
      "50 60 70 80\n",
      "30\n",
      "40\n"
     ]
    }
   ],
   "source": [
    "print(50,60,70,80,end=\"\\n\")\n",
    "print(30)\n",
    "print(40)"
   ]
  },
  {
   "cell_type": "code",
   "execution_count": 22,
   "id": "9dbbd7a2-a668-48ad-bce6-fbf8029709cb",
   "metadata": {},
   "outputs": [
    {
     "name": "stdout",
     "output_type": "stream",
     "text": [
      "50 60 70 80 * 30\n",
      "40\n"
     ]
    }
   ],
   "source": [
    "print(50,60,70,80,end=\" * \")\n",
    "print(30)\n",
    "print(40)"
   ]
  },
  {
   "cell_type": "code",
   "execution_count": 23,
   "id": "cd14f636-7033-4a24-befb-e81e192601b6",
   "metadata": {},
   "outputs": [
    {
     "name": "stdout",
     "output_type": "stream",
     "text": [
      "50 60 70 80 * 30 - 40\n"
     ]
    }
   ],
   "source": [
    "print(50,60,70,80,end=\" * \")\n",
    "print(30, end=\" - \")\n",
    "print(40)"
   ]
  },
  {
   "cell_type": "code",
   "execution_count": 24,
   "id": "63257df3-5135-4974-9f16-697b93916da0",
   "metadata": {},
   "outputs": [
    {
     "name": "stdout",
     "output_type": "stream",
     "text": [
      "50 60 70 80 *\n",
      " 30 - 40\n"
     ]
    }
   ],
   "source": [
    "print(50,60,70,80,end=\" *\\n \")\n",
    "print(30, end=\" - \")\n",
    "print(40)"
   ]
  },
  {
   "cell_type": "code",
   "execution_count": 26,
   "id": "05784cc0-78dc-465e-802a-48f2a21bc7a2",
   "metadata": {},
   "outputs": [
    {
     "name": "stdout",
     "output_type": "stream",
     "text": [
      "50 60 70 80 \n",
      "*\n",
      " 30 \n",
      "- 40\n"
     ]
    }
   ],
   "source": [
    "print(50,60,70,80,end=\" \\n*\\n \")\n",
    "print(30, end=\" \\n- \")\n",
    "print(40)"
   ]
  },
  {
   "cell_type": "code",
   "execution_count": 28,
   "id": "d681b065-6756-4167-886c-29d2e87b6385",
   "metadata": {},
   "outputs": [
    {
     "ename": "TypeError",
     "evalue": "can only concatenate str (not \"int\") to str",
     "output_type": "error",
     "traceback": [
      "\u001b[1;31m---------------------------------------------------------------------------\u001b[0m",
      "\u001b[1;31mTypeError\u001b[0m                                 Traceback (most recent call last)",
      "Cell \u001b[1;32mIn[28], line 2\u001b[0m\n\u001b[0;32m      1\u001b[0m \u001b[38;5;66;03m#error in string \u001b[39;00m\n\u001b[1;32m----> 2\u001b[0m \u001b[38;5;124m\"\u001b[39m\u001b[38;5;124mkanika\u001b[39m\u001b[38;5;124m\"\u001b[39m\u001b[38;5;241m+\u001b[39m\u001b[38;5;241m5000\u001b[39m\n",
      "\u001b[1;31mTypeError\u001b[0m: can only concatenate str (not \"int\") to str"
     ]
    }
   ],
   "source": [
    "#error in string \n",
    "\"kanika\"+5000"
   ]
  },
  {
   "cell_type": "code",
   "execution_count": 29,
   "id": "b0cb7ab4-3b31-4ca8-b845-ef301dc8f74b",
   "metadata": {},
   "outputs": [
    {
     "name": "stdout",
     "output_type": "stream",
     "text": [
      "kanika 5000\n"
     ]
    }
   ],
   "source": [
    "#not error in print\n",
    "print(\"kanika\",5000)"
   ]
  },
  {
   "cell_type": "code",
   "execution_count": 30,
   "id": "47b614f6-04ba-47a7-a603-cf04ad841830",
   "metadata": {},
   "outputs": [],
   "source": [
    "name=\"kanika\""
   ]
  },
  {
   "cell_type": "code",
   "execution_count": 31,
   "id": "a91731fc-4959-4e8c-98bf-f1a8395c6e08",
   "metadata": {},
   "outputs": [],
   "source": [
    "age=20"
   ]
  },
  {
   "cell_type": "code",
   "execution_count": 34,
   "id": "1e1ba1db-6185-4158-a35f-055813dcfcd7",
   "metadata": {},
   "outputs": [
    {
     "name": "stdout",
     "output_type": "stream",
     "text": [
      "kanika 20\n"
     ]
    }
   ],
   "source": [
    "# in functions we can't use print therefore we use f in functions it can also use in print\n",
    "print(f'{name} {age}')"
   ]
  },
  {
   "cell_type": "code",
   "execution_count": 35,
   "id": "f1fce8de-7715-4628-8250-22a75d888664",
   "metadata": {},
   "outputs": [
    {
     "name": "stdout",
     "output_type": "stream",
     "text": [
      "kanika      20\n"
     ]
    }
   ],
   "source": [
    "print(f'{name}      {age}')"
   ]
  },
  {
   "cell_type": "code",
   "execution_count": 36,
   "id": "88de4387-424a-419f-9b41-a7b33dd07255",
   "metadata": {},
   "outputs": [
    {
     "name": "stdout",
     "output_type": "stream",
     "text": [
      "kanika 20\n"
     ]
    }
   ],
   "source": [
    "print(name,age)"
   ]
  },
  {
   "cell_type": "code",
   "execution_count": 37,
   "id": "227c2b9f-5cac-4776-b8f1-d3bc2b60baed",
   "metadata": {},
   "outputs": [
    {
     "name": "stdout",
     "output_type": "stream",
     "text": [
      "kanika        20\n"
     ]
    }
   ],
   "source": [
    "print(name,age, sep=\"        \")"
   ]
  },
  {
   "cell_type": "code",
   "execution_count": 38,
   "id": "b088a3e2-8ca8-4bbc-868b-3daf943d0a13",
   "metadata": {},
   "outputs": [
    {
     "data": {
      "text/plain": [
       "'hahaha'"
      ]
     },
     "execution_count": 38,
     "metadata": {},
     "output_type": "execute_result"
    }
   ],
   "source": [
    "\"ha\"*3"
   ]
  },
  {
   "cell_type": "code",
   "execution_count": 39,
   "id": "c2d70c7c-82df-420c-9ce8-2c41ea269414",
   "metadata": {},
   "outputs": [],
   "source": [
    "a=\"hello kan\\nika\""
   ]
  },
  {
   "cell_type": "code",
   "execution_count": 40,
   "id": "a1ab1d47-45de-4d71-a3a7-fffa376762fd",
   "metadata": {},
   "outputs": [
    {
     "name": "stdout",
     "output_type": "stream",
     "text": [
      "hello kan\n",
      "ika\n"
     ]
    }
   ],
   "source": [
    "print(a)"
   ]
  },
  {
   "cell_type": "code",
   "execution_count": 43,
   "id": "55400a04-eb8d-4f53-af38-ab2c5e15ea1e",
   "metadata": {},
   "outputs": [],
   "source": [
    "#\\t=tab\n",
    "a=\"hello kan\\tika\""
   ]
  },
  {
   "cell_type": "code",
   "execution_count": 44,
   "id": "c72830e1-f757-41a4-8c03-b81b202fbb35",
   "metadata": {},
   "outputs": [
    {
     "name": "stdout",
     "output_type": "stream",
     "text": [
      "hello kan\tika\n"
     ]
    }
   ],
   "source": [
    "print(a)"
   ]
  },
  {
   "cell_type": "code",
   "execution_count": 50,
   "id": "7c44f232-c613-41c4-a467-af4a382aa708",
   "metadata": {},
   "outputs": [
    {
     "name": "stdout",
     "output_type": "stream",
     "text": [
      "a\\b\n"
     ]
    }
   ],
   "source": [
    "#escape character= \\n,\\t,\\\\=backslash,\n",
    "print('a\\\\b')"
   ]
  },
  {
   "cell_type": "code",
   "execution_count": 53,
   "id": "484548de-0292-4700-aeec-1b1fe1cd5d88",
   "metadata": {},
   "outputs": [
    {
     "name": "stdout",
     "output_type": "stream",
     "text": [
      "🤣\n"
     ]
    }
   ],
   "source": [
    "#unicode codes characters=emoji's(go on google and open the website of emoji in python copy and paste in codes)\n",
    "print(\"\\U0001F923\")"
   ]
  },
  {
   "cell_type": "code",
   "execution_count": 58,
   "id": "19cc0db8-fa38-469d-b6be-12bdffac8a55",
   "metadata": {},
   "outputs": [
    {
     "name": "stdout",
     "output_type": "stream",
     "text": [
      "😁\n"
     ]
    }
   ],
   "source": [
    "print(\"\\U0001F601\")"
   ]
  },
  {
   "cell_type": "code",
   "execution_count": 59,
   "id": "dbd6c2d5-720f-4b35-984a-a839cd7326bc",
   "metadata": {},
   "outputs": [
    {
     "data": {
      "text/plain": [
       "0"
      ]
     },
     "execution_count": 59,
     "metadata": {},
     "output_type": "execute_result"
    }
   ],
   "source": [
    "#1 bit\n",
    "0"
   ]
  },
  {
   "cell_type": "code",
   "execution_count": 60,
   "id": "d1ca5d37-b99c-46fb-8e0e-84bf4c5426ca",
   "metadata": {},
   "outputs": [
    {
     "data": {
      "text/plain": [
       "12481234"
      ]
     },
     "execution_count": 60,
     "metadata": {},
     "output_type": "execute_result"
    }
   ],
   "source": [
    "# byte=8 bit\n",
    "12481234"
   ]
  },
  {
   "cell_type": "code",
   "execution_count": 64,
   "id": "ed643045-6a97-4267-9795-3106e02c275a",
   "metadata": {},
   "outputs": [
    {
     "ename": "SyntaxError",
     "evalue": "invalid decimal literal (308572198.py, line 2)",
     "output_type": "error",
     "traceback": [
      "\u001b[1;36m  Cell \u001b[1;32mIn[64], line 2\u001b[1;36m\u001b[0m\n\u001b[1;33m    1kb=1024 bytes\u001b[0m\n\u001b[1;37m    ^\u001b[0m\n\u001b[1;31mSyntaxError\u001b[0m\u001b[1;31m:\u001b[0m invalid decimal literal\n"
     ]
    }
   ],
   "source": [
    "# kb= killo byte(thousand) (1kb=1024 bytes)\n",
    "1kb=1024 bytes"
   ]
  },
  {
   "cell_type": "code",
   "execution_count": 62,
   "id": "28248b2f-e41c-4be6-a090-ce35d2645c28",
   "metadata": {},
   "outputs": [
    {
     "name": "stdout",
     "output_type": "stream",
     "text": [
      "Help on class bytes in module builtins:\n",
      "\n",
      "class bytes(object)\n",
      " |  bytes(iterable_of_ints) -> bytes\n",
      " |  bytes(string, encoding[, errors]) -> bytes\n",
      " |  bytes(bytes_or_buffer) -> immutable copy of bytes_or_buffer\n",
      " |  bytes(int) -> bytes object of size given by the parameter initialized with null bytes\n",
      " |  bytes() -> empty bytes object\n",
      " |\n",
      " |  Construct an immutable array of bytes from:\n",
      " |    - an iterable yielding integers in range(256)\n",
      " |    - a text string encoded using the specified encoding\n",
      " |    - any object implementing the buffer API.\n",
      " |    - an integer\n",
      " |\n",
      " |  Methods defined here:\n",
      " |\n",
      " |  __add__(self, value, /)\n",
      " |      Return self+value.\n",
      " |\n",
      " |  __buffer__(self, flags, /)\n",
      " |      Return a buffer object that exposes the underlying memory of the object.\n",
      " |\n",
      " |  __bytes__(self, /)\n",
      " |      Convert this value to exact type bytes.\n",
      " |\n",
      " |  __contains__(self, key, /)\n",
      " |      Return bool(key in self).\n",
      " |\n",
      " |  __eq__(self, value, /)\n",
      " |      Return self==value.\n",
      " |\n",
      " |  __ge__(self, value, /)\n",
      " |      Return self>=value.\n",
      " |\n",
      " |  __getattribute__(self, name, /)\n",
      " |      Return getattr(self, name).\n",
      " |\n",
      " |  __getitem__(self, key, /)\n",
      " |      Return self[key].\n",
      " |\n",
      " |  __getnewargs__(self, /)\n",
      " |\n",
      " |  __gt__(self, value, /)\n",
      " |      Return self>value.\n",
      " |\n",
      " |  __hash__(self, /)\n",
      " |      Return hash(self).\n",
      " |\n",
      " |  __iter__(self, /)\n",
      " |      Implement iter(self).\n",
      " |\n",
      " |  __le__(self, value, /)\n",
      " |      Return self<=value.\n",
      " |\n",
      " |  __len__(self, /)\n",
      " |      Return len(self).\n",
      " |\n",
      " |  __lt__(self, value, /)\n",
      " |      Return self<value.\n",
      " |\n",
      " |  __mod__(self, value, /)\n",
      " |      Return self%value.\n",
      " |\n",
      " |  __mul__(self, value, /)\n",
      " |      Return self*value.\n",
      " |\n",
      " |  __ne__(self, value, /)\n",
      " |      Return self!=value.\n",
      " |\n",
      " |  __repr__(self, /)\n",
      " |      Return repr(self).\n",
      " |\n",
      " |  __rmod__(self, value, /)\n",
      " |      Return value%self.\n",
      " |\n",
      " |  __rmul__(self, value, /)\n",
      " |      Return value*self.\n",
      " |\n",
      " |  __str__(self, /)\n",
      " |      Return str(self).\n",
      " |\n",
      " |  capitalize(self, /)\n",
      " |      B.capitalize() -> copy of B\n",
      " |\n",
      " |      Return a copy of B with only its first character capitalized (ASCII)\n",
      " |      and the rest lower-cased.\n",
      " |\n",
      " |  center(self, width, fillchar=b' ', /)\n",
      " |      Return a centered string of length width.\n",
      " |\n",
      " |      Padding is done using the specified fill character.\n",
      " |\n",
      " |  count(self, sub[, start[, end]], /)\n",
      " |      Return the number of non-overlapping occurrences of subsection 'sub' in bytes B[start:end].\n",
      " |\n",
      " |      start\n",
      " |        Optional start position. Default: start of the bytes.\n",
      " |      end\n",
      " |        Optional stop position. Default: end of the bytes.\n",
      " |\n",
      " |  decode(self, /, encoding='utf-8', errors='strict')\n",
      " |      Decode the bytes using the codec registered for encoding.\n",
      " |\n",
      " |      encoding\n",
      " |        The encoding with which to decode the bytes.\n",
      " |      errors\n",
      " |        The error handling scheme to use for the handling of decoding errors.\n",
      " |        The default is 'strict' meaning that decoding errors raise a\n",
      " |        UnicodeDecodeError. Other possible values are 'ignore' and 'replace'\n",
      " |        as well as any other name registered with codecs.register_error that\n",
      " |        can handle UnicodeDecodeErrors.\n",
      " |\n",
      " |  endswith(self, suffix[, start[, end]], /)\n",
      " |      Return True if the bytes ends with the specified suffix, False otherwise.\n",
      " |\n",
      " |      suffix\n",
      " |        A bytes or a tuple of bytes to try.\n",
      " |      start\n",
      " |        Optional start position. Default: start of the bytes.\n",
      " |      end\n",
      " |        Optional stop position. Default: end of the bytes.\n",
      " |\n",
      " |  expandtabs(self, /, tabsize=8)\n",
      " |      Return a copy where all tab characters are expanded using spaces.\n",
      " |\n",
      " |      If tabsize is not given, a tab size of 8 characters is assumed.\n",
      " |\n",
      " |  find(self, sub[, start[, end]], /)\n",
      " |      Return the lowest index in B where subsection 'sub' is found, such that 'sub' is contained within B[start,end].\n",
      " |\n",
      " |        start\n",
      " |          Optional start position. Default: start of the bytes.\n",
      " |        end\n",
      " |          Optional stop position. Default: end of the bytes.\n",
      " |\n",
      " |      Return -1 on failure.\n",
      " |\n",
      " |  hex(self, /, sep=<unrepresentable>, bytes_per_sep=1)\n",
      " |      Create a string of hexadecimal numbers from a bytes object.\n",
      " |\n",
      " |        sep\n",
      " |          An optional single character or byte to separate hex bytes.\n",
      " |        bytes_per_sep\n",
      " |          How many bytes between separators.  Positive values count from the\n",
      " |          right, negative values count from the left.\n",
      " |\n",
      " |      Example:\n",
      " |      >>> value = b'\\xb9\\x01\\xef'\n",
      " |      >>> value.hex()\n",
      " |      'b901ef'\n",
      " |      >>> value.hex(':')\n",
      " |      'b9:01:ef'\n",
      " |      >>> value.hex(':', 2)\n",
      " |      'b9:01ef'\n",
      " |      >>> value.hex(':', -2)\n",
      " |      'b901:ef'\n",
      " |\n",
      " |  index(self, sub[, start[, end]], /)\n",
      " |      Return the lowest index in B where subsection 'sub' is found, such that 'sub' is contained within B[start,end].\n",
      " |\n",
      " |        start\n",
      " |          Optional start position. Default: start of the bytes.\n",
      " |        end\n",
      " |          Optional stop position. Default: end of the bytes.\n",
      " |\n",
      " |      Raise ValueError if the subsection is not found.\n",
      " |\n",
      " |  isalnum(self, /)\n",
      " |      B.isalnum() -> bool\n",
      " |\n",
      " |      Return True if all characters in B are alphanumeric\n",
      " |      and there is at least one character in B, False otherwise.\n",
      " |\n",
      " |  isalpha(self, /)\n",
      " |      B.isalpha() -> bool\n",
      " |\n",
      " |      Return True if all characters in B are alphabetic\n",
      " |      and there is at least one character in B, False otherwise.\n",
      " |\n",
      " |  isascii(self, /)\n",
      " |      B.isascii() -> bool\n",
      " |\n",
      " |      Return True if B is empty or all characters in B are ASCII,\n",
      " |      False otherwise.\n",
      " |\n",
      " |  isdigit(self, /)\n",
      " |      B.isdigit() -> bool\n",
      " |\n",
      " |      Return True if all characters in B are digits\n",
      " |      and there is at least one character in B, False otherwise.\n",
      " |\n",
      " |  islower(self, /)\n",
      " |      B.islower() -> bool\n",
      " |\n",
      " |      Return True if all cased characters in B are lowercase and there is\n",
      " |      at least one cased character in B, False otherwise.\n",
      " |\n",
      " |  isspace(self, /)\n",
      " |      B.isspace() -> bool\n",
      " |\n",
      " |      Return True if all characters in B are whitespace\n",
      " |      and there is at least one character in B, False otherwise.\n",
      " |\n",
      " |  istitle(self, /)\n",
      " |      B.istitle() -> bool\n",
      " |\n",
      " |      Return True if B is a titlecased string and there is at least one\n",
      " |      character in B, i.e. uppercase characters may only follow uncased\n",
      " |      characters and lowercase characters only cased ones. Return False\n",
      " |      otherwise.\n",
      " |\n",
      " |  isupper(self, /)\n",
      " |      B.isupper() -> bool\n",
      " |\n",
      " |      Return True if all cased characters in B are uppercase and there is\n",
      " |      at least one cased character in B, False otherwise.\n",
      " |\n",
      " |  join(self, iterable_of_bytes, /)\n",
      " |      Concatenate any number of bytes objects.\n",
      " |\n",
      " |      The bytes whose method is called is inserted in between each pair.\n",
      " |\n",
      " |      The result is returned as a new bytes object.\n",
      " |\n",
      " |      Example: b'.'.join([b'ab', b'pq', b'rs']) -> b'ab.pq.rs'.\n",
      " |\n",
      " |  ljust(self, width, fillchar=b' ', /)\n",
      " |      Return a left-justified string of length width.\n",
      " |\n",
      " |      Padding is done using the specified fill character.\n",
      " |\n",
      " |  lower(self, /)\n",
      " |      B.lower() -> copy of B\n",
      " |\n",
      " |      Return a copy of B with all ASCII characters converted to lowercase.\n",
      " |\n",
      " |  lstrip(self, bytes=None, /)\n",
      " |      Strip leading bytes contained in the argument.\n",
      " |\n",
      " |      If the argument is omitted or None, strip leading  ASCII whitespace.\n",
      " |\n",
      " |  partition(self, sep, /)\n",
      " |      Partition the bytes into three parts using the given separator.\n",
      " |\n",
      " |      This will search for the separator sep in the bytes. If the separator is found,\n",
      " |      returns a 3-tuple containing the part before the separator, the separator\n",
      " |      itself, and the part after it.\n",
      " |\n",
      " |      If the separator is not found, returns a 3-tuple containing the original bytes\n",
      " |      object and two empty bytes objects.\n",
      " |\n",
      " |  removeprefix(self, prefix, /)\n",
      " |      Return a bytes object with the given prefix string removed if present.\n",
      " |\n",
      " |      If the bytes starts with the prefix string, return bytes[len(prefix):].\n",
      " |      Otherwise, return a copy of the original bytes.\n",
      " |\n",
      " |  removesuffix(self, suffix, /)\n",
      " |      Return a bytes object with the given suffix string removed if present.\n",
      " |\n",
      " |      If the bytes ends with the suffix string and that suffix is not empty,\n",
      " |      return bytes[:-len(prefix)].  Otherwise, return a copy of the original\n",
      " |      bytes.\n",
      " |\n",
      " |  replace(self, old, new, count=-1, /)\n",
      " |      Return a copy with all occurrences of substring old replaced by new.\n",
      " |\n",
      " |        count\n",
      " |          Maximum number of occurrences to replace.\n",
      " |          -1 (the default value) means replace all occurrences.\n",
      " |\n",
      " |      If the optional argument count is given, only the first count occurrences are\n",
      " |      replaced.\n",
      " |\n",
      " |  rfind(self, sub[, start[, end]], /)\n",
      " |      Return the highest index in B where subsection 'sub' is found, such that 'sub' is contained within B[start,end].\n",
      " |\n",
      " |        start\n",
      " |          Optional start position. Default: start of the bytes.\n",
      " |        end\n",
      " |          Optional stop position. Default: end of the bytes.\n",
      " |\n",
      " |      Return -1 on failure.\n",
      " |\n",
      " |  rindex(self, sub[, start[, end]], /)\n",
      " |      Return the highest index in B where subsection 'sub' is found, such that 'sub' is contained within B[start,end].\n",
      " |\n",
      " |        start\n",
      " |          Optional start position. Default: start of the bytes.\n",
      " |        end\n",
      " |          Optional stop position. Default: end of the bytes.\n",
      " |\n",
      " |      Raise ValueError if the subsection is not found.\n",
      " |\n",
      " |  rjust(self, width, fillchar=b' ', /)\n",
      " |      Return a right-justified string of length width.\n",
      " |\n",
      " |      Padding is done using the specified fill character.\n",
      " |\n",
      " |  rpartition(self, sep, /)\n",
      " |      Partition the bytes into three parts using the given separator.\n",
      " |\n",
      " |      This will search for the separator sep in the bytes, starting at the end. If\n",
      " |      the separator is found, returns a 3-tuple containing the part before the\n",
      " |      separator, the separator itself, and the part after it.\n",
      " |\n",
      " |      If the separator is not found, returns a 3-tuple containing two empty bytes\n",
      " |      objects and the original bytes object.\n",
      " |\n",
      " |  rsplit(self, /, sep=None, maxsplit=-1)\n",
      " |      Return a list of the sections in the bytes, using sep as the delimiter.\n",
      " |\n",
      " |        sep\n",
      " |          The delimiter according which to split the bytes.\n",
      " |          None (the default value) means split on ASCII whitespace characters\n",
      " |          (space, tab, return, newline, formfeed, vertical tab).\n",
      " |        maxsplit\n",
      " |          Maximum number of splits to do.\n",
      " |          -1 (the default value) means no limit.\n",
      " |\n",
      " |      Splitting is done starting at the end of the bytes and working to the front.\n",
      " |\n",
      " |  rstrip(self, bytes=None, /)\n",
      " |      Strip trailing bytes contained in the argument.\n",
      " |\n",
      " |      If the argument is omitted or None, strip trailing ASCII whitespace.\n",
      " |\n",
      " |  split(self, /, sep=None, maxsplit=-1)\n",
      " |      Return a list of the sections in the bytes, using sep as the delimiter.\n",
      " |\n",
      " |      sep\n",
      " |        The delimiter according which to split the bytes.\n",
      " |        None (the default value) means split on ASCII whitespace characters\n",
      " |        (space, tab, return, newline, formfeed, vertical tab).\n",
      " |      maxsplit\n",
      " |        Maximum number of splits to do.\n",
      " |        -1 (the default value) means no limit.\n",
      " |\n",
      " |  splitlines(self, /, keepends=False)\n",
      " |      Return a list of the lines in the bytes, breaking at line boundaries.\n",
      " |\n",
      " |      Line breaks are not included in the resulting list unless keepends is given and\n",
      " |      true.\n",
      " |\n",
      " |  startswith(self, prefix[, start[, end]], /)\n",
      " |      Return True if the bytes starts with the specified prefix, False otherwise.\n",
      " |\n",
      " |      prefix\n",
      " |        A bytes or a tuple of bytes to try.\n",
      " |      start\n",
      " |        Optional start position. Default: start of the bytes.\n",
      " |      end\n",
      " |        Optional stop position. Default: end of the bytes.\n",
      " |\n",
      " |  strip(self, bytes=None, /)\n",
      " |      Strip leading and trailing bytes contained in the argument.\n",
      " |\n",
      " |      If the argument is omitted or None, strip leading and trailing ASCII whitespace.\n",
      " |\n",
      " |  swapcase(self, /)\n",
      " |      B.swapcase() -> copy of B\n",
      " |\n",
      " |      Return a copy of B with uppercase ASCII characters converted\n",
      " |      to lowercase ASCII and vice versa.\n",
      " |\n",
      " |  title(self, /)\n",
      " |      B.title() -> copy of B\n",
      " |\n",
      " |      Return a titlecased version of B, i.e. ASCII words start with uppercase\n",
      " |      characters, all remaining cased characters have lowercase.\n",
      " |\n",
      " |  translate(self, table, /, delete=b'')\n",
      " |      Return a copy with each character mapped by the given translation table.\n",
      " |\n",
      " |        table\n",
      " |          Translation table, which must be a bytes object of length 256.\n",
      " |\n",
      " |      All characters occurring in the optional argument delete are removed.\n",
      " |      The remaining characters are mapped through the given translation table.\n",
      " |\n",
      " |  upper(self, /)\n",
      " |      B.upper() -> copy of B\n",
      " |\n",
      " |      Return a copy of B with all ASCII characters converted to uppercase.\n",
      " |\n",
      " |  zfill(self, width, /)\n",
      " |      Pad a numeric string with zeros on the left, to fill a field of the given width.\n",
      " |\n",
      " |      The original string is never truncated.\n",
      " |\n",
      " |  ----------------------------------------------------------------------\n",
      " |  Class methods defined here:\n",
      " |\n",
      " |  fromhex(string, /)\n",
      " |      Create a bytes object from a string of hexadecimal numbers.\n",
      " |\n",
      " |      Spaces between two numbers are accepted.\n",
      " |      Example: bytes.fromhex('B9 01EF') -> b'\\\\xb9\\\\x01\\\\xef'.\n",
      " |\n",
      " |  ----------------------------------------------------------------------\n",
      " |  Static methods defined here:\n",
      " |\n",
      " |  __new__(*args, **kwargs)\n",
      " |      Create and return a new object.  See help(type) for accurate signature.\n",
      " |\n",
      " |  maketrans(frm, to, /)\n",
      " |      Return a translation table usable for the bytes or bytearray translate method.\n",
      " |\n",
      " |      The returned table will be one where each byte in frm is mapped to the byte at\n",
      " |      the same position in to.\n",
      " |\n",
      " |      The bytes objects frm and to must be of the same length.\n",
      "\n"
     ]
    }
   ],
   "source": [
    "help(bytes)"
   ]
  },
  {
   "cell_type": "code",
   "execution_count": 63,
   "id": "10cf28b0-88e9-43a2-a292-4ca86e832561",
   "metadata": {},
   "outputs": [
    {
     "data": {
      "text/plain": [
       "b'\\x00\\x00\\x00\\x00\\x00\\x00\\x00\\x00\\x00\\x00'"
      ]
     },
     "execution_count": 63,
     "metadata": {},
     "output_type": "execute_result"
    }
   ],
   "source": [
    "bytes(10)"
   ]
  },
  {
   "cell_type": "code",
   "execution_count": 65,
   "id": "9fcd2c7b-b7ea-48bc-80e8-4866c8fb1410",
   "metadata": {},
   "outputs": [],
   "source": [
    "#1Mb=1024KB( ypu have to know about data smallest and largest unit)"
   ]
  },
  {
   "cell_type": "code",
   "execution_count": 8,
   "id": "b059a270-c607-4c0e-8f12-4f75d625d2ad",
   "metadata": {},
   "outputs": [],
   "source": [
    "#you have to learn these\n",
    "#0 or 1 = bit\n",
    "#8 bit = 1 byte\n",
    "#1024 byte = 1kb (killobyte)\n",
    "#1024kb = 1Mb (megabyte)\n",
    "#1024Mb = 1Gb (gegabyte)\n",
    "#1024Gb = 1TB (terabyte)\n",
    "#1024TB = 1 PB (peta byte)"
   ]
  },
  {
   "cell_type": "code",
   "execution_count": 67,
   "id": "1da3fa18-8eea-494e-a683-a03e5e56a51f",
   "metadata": {},
   "outputs": [],
   "source": [
    "#1Mb and 1MB both are different"
   ]
  },
  {
   "cell_type": "code",
   "execution_count": 69,
   "id": "b8f2d791-5939-4c89-b65d-63ae91b7079e",
   "metadata": {},
   "outputs": [
    {
     "data": {
      "text/plain": [
       "128584"
      ]
     },
     "execution_count": 69,
     "metadata": {},
     "output_type": "execute_result"
    }
   ],
   "source": [
    "#to check the unicode of any emo\n",
    "ord('🙈')"
   ]
  },
  {
   "cell_type": "code",
   "execution_count": 77,
   "id": "c52bdf1a-8cad-4c8a-bb63-ff1159d6e237",
   "metadata": {},
   "outputs": [
    {
     "data": {
      "text/plain": [
       "2312213937840"
      ]
     },
     "execution_count": 77,
     "metadata": {},
     "output_type": "execute_result"
    }
   ],
   "source": [
    "#id shows memory location in ram\n",
    "id('🙈')"
   ]
  },
  {
   "cell_type": "code",
   "execution_count": 72,
   "id": "be04ef1d-23f0-4d01-8cac-794589025ee8",
   "metadata": {},
   "outputs": [
    {
     "data": {
      "text/plain": [
       "49"
      ]
     },
     "execution_count": 72,
     "metadata": {},
     "output_type": "execute_result"
    }
   ],
   "source": [
    "ord('1')"
   ]
  },
  {
   "cell_type": "code",
   "execution_count": 73,
   "id": "abc69932-1602-4e89-a6c6-366271b82b96",
   "metadata": {},
   "outputs": [
    {
     "data": {
      "text/plain": [
       "50"
      ]
     },
     "execution_count": 73,
     "metadata": {},
     "output_type": "execute_result"
    }
   ],
   "source": [
    "ord('2')"
   ]
  },
  {
   "cell_type": "code",
   "execution_count": 74,
   "id": "4580f033-c102-4985-8b00-43900712d7b2",
   "metadata": {},
   "outputs": [
    {
     "data": {
      "text/plain": [
       "97"
      ]
     },
     "execution_count": 74,
     "metadata": {},
     "output_type": "execute_result"
    }
   ],
   "source": [
    "ord('a')"
   ]
  },
  {
   "cell_type": "code",
   "execution_count": 75,
   "id": "68250c46-ad8d-4da1-8379-21fba7f344f8",
   "metadata": {},
   "outputs": [
    {
     "data": {
      "text/plain": [
       "98"
      ]
     },
     "execution_count": 75,
     "metadata": {},
     "output_type": "execute_result"
    }
   ],
   "source": [
    "ord('b')"
   ]
  },
  {
   "cell_type": "code",
   "execution_count": 76,
   "id": "18597a2f-c0a8-4b67-b7c4-78fae84c8f2e",
   "metadata": {},
   "outputs": [
    {
     "data": {
      "text/plain": [
       "65"
      ]
     },
     "execution_count": 76,
     "metadata": {},
     "output_type": "execute_result"
    }
   ],
   "source": [
    "ord(\"A\")"
   ]
  },
  {
   "cell_type": "code",
   "execution_count": null,
   "id": "802e1c52-f4dc-46dc-9811-b453999c4903",
   "metadata": {},
   "outputs": [],
   "source": []
  }
 ],
 "metadata": {
  "kernelspec": {
   "display_name": "Python [conda env:base] *",
   "language": "python",
   "name": "conda-base-py"
  },
  "language_info": {
   "codemirror_mode": {
    "name": "ipython",
    "version": 3
   },
   "file_extension": ".py",
   "mimetype": "text/x-python",
   "name": "python",
   "nbconvert_exporter": "python",
   "pygments_lexer": "ipython3",
   "version": "3.13.5"
  }
 },
 "nbformat": 4,
 "nbformat_minor": 5
}
