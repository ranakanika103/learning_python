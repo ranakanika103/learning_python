{
 "cells": [
  {
   "cell_type": "code",
   "execution_count": 1,
   "id": "84418e14-2364-49de-aa94-527d0ddbc8ed",
   "metadata": {},
   "outputs": [
    {
     "data": {
      "text/plain": [
       "'kanika'"
      ]
     },
     "execution_count": 1,
     "metadata": {},
     "output_type": "execute_result"
    }
   ],
   "source": [
    "\"kanika\""
   ]
  },
  {
   "cell_type": "code",
   "execution_count": 2,
   "id": "bb410002-c247-4c38-a5ce-cf94cfebe890",
   "metadata": {},
   "outputs": [
    {
     "data": {
      "text/plain": [
       "'kanika'"
      ]
     },
     "execution_count": 2,
     "metadata": {},
     "output_type": "execute_result"
    }
   ],
   "source": [
    "'kanika'"
   ]
  },
  {
   "cell_type": "code",
   "execution_count": 3,
   "id": "1d73fff5-2bca-4fe5-93c1-8be15c51f6fb",
   "metadata": {},
   "outputs": [
    {
     "data": {
      "text/plain": [
       "'kanika'"
      ]
     },
     "execution_count": 3,
     "metadata": {},
     "output_type": "execute_result"
    }
   ],
   "source": [
    "\"\"\"kanika\"\"\""
   ]
  },
  {
   "cell_type": "code",
   "execution_count": 4,
   "id": "6e66cddc-87b0-4486-8f06-230333c87acc",
   "metadata": {},
   "outputs": [
    {
     "ename": "SyntaxError",
     "evalue": "unterminated string literal (detected at line 1) (1088974085.py, line 1)",
     "output_type": "error",
     "traceback": [
      "\u001b[1;36m  Cell \u001b[1;32mIn[4], line 1\u001b[1;36m\u001b[0m\n\u001b[1;33m    'that's mine'\u001b[0m\n\u001b[1;37m                ^\u001b[0m\n\u001b[1;31mSyntaxError\u001b[0m\u001b[1;31m:\u001b[0m unterminated string literal (detected at line 1)\n"
     ]
    }
   ],
   "source": [
    "#single quotation not work in this format\n",
    "'that's mine'"
   ]
  },
  {
   "cell_type": "code",
   "execution_count": 5,
   "id": "8910e667-b696-4503-be2c-1ce0175c0d7e",
   "metadata": {},
   "outputs": [
    {
     "data": {
      "text/plain": [
       "\"that's mine\""
      ]
     },
     "execution_count": 5,
     "metadata": {},
     "output_type": "execute_result"
    }
   ],
   "source": [
    "\"that's mine\""
   ]
  },
  {
   "cell_type": "code",
   "execution_count": 6,
   "id": "bbe80549-3705-4573-9f0b-d7eb4ddbaca5",
   "metadata": {},
   "outputs": [
    {
     "ename": "SyntaxError",
     "evalue": "unterminated string literal (detected at line 1) (2926218714.py, line 1)",
     "output_type": "error",
     "traceback": [
      "\u001b[1;36m  Cell \u001b[1;32mIn[6], line 1\u001b[1;36m\u001b[0m\n\u001b[1;33m    \"hi nice to meet you\u001b[0m\n\u001b[1;37m    ^\u001b[0m\n\u001b[1;31mSyntaxError\u001b[0m\u001b[1;31m:\u001b[0m unterminated string literal (detected at line 1)\n"
     ]
    }
   ],
   "source": [
    "#double quotation not work in this format\n",
    "\"hi nice to meet you\n",
    "my name is kanika\""
   ]
  },
  {
   "cell_type": "code",
   "execution_count": 8,
   "id": "9946d290-8c53-41ec-9abb-a6d337e1e700",
   "metadata": {},
   "outputs": [
    {
     "data": {
      "text/plain": [
       "'\\nhi nice to meet you \\nmy name is kanika\\n'"
      ]
     },
     "execution_count": 8,
     "metadata": {},
     "output_type": "execute_result"
    }
   ],
   "source": [
    "#triple quotation is not work in this format\n",
    "\"\"\"\n",
    "hi nice to meet you \n",
    "my name is kanika\n",
    "\"\"\""
   ]
  },
  {
   "cell_type": "code",
   "execution_count": 9,
   "id": "4f2b7d48-35db-4e74-83b7-7fe10cdd1aca",
   "metadata": {},
   "outputs": [
    {
     "name": "stdout",
     "output_type": "stream",
     "text": [
      "\n",
      "hi nice to meet you\n",
      "my name is kanika\n",
      "\n"
     ]
    }
   ],
   "source": [
    "print(\"\"\"\n",
    "hi nice to meet you\n",
    "my name is kanika\n",
    "\"\"\")"
   ]
  },
  {
   "cell_type": "code",
   "execution_count": 10,
   "id": "a58c0cff-d8bb-4057-8a14-0f47e6c9c295",
   "metadata": {},
   "outputs": [
    {
     "data": {
      "text/plain": [
       "str"
      ]
     },
     "execution_count": 10,
     "metadata": {},
     "output_type": "execute_result"
    }
   ],
   "source": [
    "type(\"kanika\")"
   ]
  },
  {
   "cell_type": "code",
   "execution_count": 11,
   "id": "ba71ceaf-2026-4bb9-b938-026ff9897d1a",
   "metadata": {},
   "outputs": [
    {
     "data": {
      "text/plain": [
       "'Kanika'"
      ]
     },
     "execution_count": 11,
     "metadata": {},
     "output_type": "execute_result"
    }
   ],
   "source": [
    "\"kanika\".capitalize()"
   ]
  },
  {
   "cell_type": "code",
   "execution_count": 12,
   "id": "ac07610b-e17f-4956-9345-e16cdd42731e",
   "metadata": {},
   "outputs": [
    {
     "data": {
      "text/plain": [
       "'KANIKA'"
      ]
     },
     "execution_count": 12,
     "metadata": {},
     "output_type": "execute_result"
    }
   ],
   "source": [
    "\"kanika\".upper()"
   ]
  },
  {
   "cell_type": "code",
   "execution_count": 13,
   "id": "f071c714-96ae-4d89-af83-b30b924c29ef",
   "metadata": {},
   "outputs": [
    {
     "data": {
      "text/plain": [
       "'kanika'"
      ]
     },
     "execution_count": 13,
     "metadata": {},
     "output_type": "execute_result"
    }
   ],
   "source": [
    "\"KANIKA\".lower()"
   ]
  },
  {
   "cell_type": "code",
   "execution_count": 26,
   "id": "92cb1ba5-7950-4cf4-894a-63f1ff8f40da",
   "metadata": {},
   "outputs": [
    {
     "data": {
      "text/plain": [
       "3"
      ]
     },
     "execution_count": 26,
     "metadata": {},
     "output_type": "execute_result"
    }
   ],
   "source": [
    "#to count the letter\n",
    "\"kanikaankur\".count('a')"
   ]
  },
  {
   "cell_type": "code",
   "execution_count": 17,
   "id": "f3a644c5-f5f1-4881-a0ff-c4191e20de3f",
   "metadata": {},
   "outputs": [],
   "source": [
    "name=\"kanika Rana\""
   ]
  },
  {
   "cell_type": "code",
   "execution_count": 25,
   "id": "abfaa917-c74e-4a35-9fc6-9b4eab2494e4",
   "metadata": {},
   "outputs": [
    {
     "data": {
      "text/plain": [
       "7"
      ]
     },
     "execution_count": 25,
     "metadata": {},
     "output_type": "execute_result"
    }
   ],
   "source": [
    "#find the place of the alphabet and counting starts from zero\n",
    "name.find('R')"
   ]
  },
  {
   "cell_type": "code",
   "execution_count": 19,
   "id": "5af18208-8f34-40fd-addf-612c02408320",
   "metadata": {},
   "outputs": [
    {
     "data": {
      "text/plain": [
       "1"
      ]
     },
     "execution_count": 19,
     "metadata": {},
     "output_type": "execute_result"
    }
   ],
   "source": [
    "name.find('a')"
   ]
  },
  {
   "cell_type": "code",
   "execution_count": 27,
   "id": "05423774-877b-46f3-bbe0-76701b6b7aee",
   "metadata": {},
   "outputs": [
    {
     "data": {
      "text/plain": [
       "-1"
      ]
     },
     "execution_count": 27,
     "metadata": {},
     "output_type": "execute_result"
    }
   ],
   "source": [
    "#case sensitive \n",
    "name.find('I')"
   ]
  },
  {
   "cell_type": "code",
   "execution_count": 28,
   "id": "6a7be5d9-aaa0-4491-b034-92b0f4d3ed72",
   "metadata": {},
   "outputs": [
    {
     "data": {
      "text/plain": [
       "11"
      ]
     },
     "execution_count": 28,
     "metadata": {},
     "output_type": "execute_result"
    }
   ],
   "source": [
    "#len=lenght and in length counting starts from 1\n",
    "len(name)"
   ]
  },
  {
   "cell_type": "code",
   "execution_count": 23,
   "id": "85849f2c-c86d-42b6-86a4-8ac701a5f14c",
   "metadata": {},
   "outputs": [
    {
     "ename": "TypeError",
     "evalue": "object of type 'int' has no len()",
     "output_type": "error",
     "traceback": [
      "\u001b[1;31m---------------------------------------------------------------------------\u001b[0m",
      "\u001b[1;31mTypeError\u001b[0m                                 Traceback (most recent call last)",
      "Cell \u001b[1;32mIn[23], line 1\u001b[0m\n\u001b[1;32m----> 1\u001b[0m \u001b[38;5;28mlen\u001b[39m(\u001b[38;5;241m287\u001b[39m)\n",
      "\u001b[1;31mTypeError\u001b[0m: object of type 'int' has no len()"
     ]
    }
   ],
   "source": [
    "len(287)"
   ]
  },
  {
   "cell_type": "code",
   "execution_count": 24,
   "id": "4a813ee6-644f-4010-8b12-c8478b41d090",
   "metadata": {},
   "outputs": [
    {
     "ename": "NameError",
     "evalue": "name 'i' is not defined",
     "output_type": "error",
     "traceback": [
      "\u001b[1;31m---------------------------------------------------------------------------\u001b[0m",
      "\u001b[1;31mNameError\u001b[0m                                 Traceback (most recent call last)",
      "Cell \u001b[1;32mIn[24], line 1\u001b[0m\n\u001b[1;32m----> 1\u001b[0m name\u001b[38;5;241m.\u001b[39mindex(i)\n",
      "\u001b[1;31mNameError\u001b[0m: name 'i' is not defined"
     ]
    }
   ],
   "source": [
    "name.index(i)"
   ]
  },
  {
   "cell_type": "code",
   "execution_count": 29,
   "id": "1f3cc068-1c87-4824-a992-96bcadd69b41",
   "metadata": {},
   "outputs": [],
   "source": [
    "first_name=\"Kanika\""
   ]
  },
  {
   "cell_type": "code",
   "execution_count": 30,
   "id": "c28fc231-bf51-4b7a-bd86-0424ba4dddd5",
   "metadata": {},
   "outputs": [],
   "source": [
    "Last_name=\"Rana\""
   ]
  },
  {
   "cell_type": "code",
   "execution_count": 31,
   "id": "057e5e70-3052-4b3a-8697-ec3d8b65db1c",
   "metadata": {},
   "outputs": [
    {
     "data": {
      "text/plain": [
       "'KanikaRana'"
      ]
     },
     "execution_count": 31,
     "metadata": {},
     "output_type": "execute_result"
    }
   ],
   "source": [
    "first_name+Last_name"
   ]
  },
  {
   "cell_type": "code",
   "execution_count": 33,
   "id": "f0190da7-fdce-4427-9579-4ccde6ee9c9a",
   "metadata": {},
   "outputs": [
    {
     "data": {
      "text/plain": [
       "'Kanika Rana'"
      ]
     },
     "execution_count": 33,
     "metadata": {},
     "output_type": "execute_result"
    }
   ],
   "source": [
    "#\" \"=space\n",
    "first_name+\" \"+ Last_name"
   ]
  },
  {
   "cell_type": "code",
   "execution_count": 34,
   "id": "a7821228-90d2-4876-aa5f-901eeaa0d450",
   "metadata": {},
   "outputs": [
    {
     "data": {
      "text/plain": [
       "10"
      ]
     },
     "execution_count": 34,
     "metadata": {},
     "output_type": "execute_result"
    }
   ],
   "source": [
    "5+5"
   ]
  },
  {
   "cell_type": "code",
   "execution_count": 1,
   "id": "5662b995-a27a-4834-a723-da73e669846b",
   "metadata": {},
   "outputs": [
    {
     "data": {
      "text/plain": [
       "'55'"
      ]
     },
     "execution_count": 1,
     "metadata": {},
     "output_type": "execute_result"
    }
   ],
   "source": [
    "# this is called quotanition\n",
    "\"5\"+\"5\""
   ]
  },
  {
   "cell_type": "code",
   "execution_count": 36,
   "id": "c1a203aa-b65f-408e-8722-64aafd87203b",
   "metadata": {},
   "outputs": [
    {
     "data": {
      "text/plain": [
       "str"
      ]
     },
     "execution_count": 36,
     "metadata": {},
     "output_type": "execute_result"
    }
   ],
   "source": [
    "type('55')"
   ]
  },
  {
   "cell_type": "code",
   "execution_count": 37,
   "id": "4944aeb9-520e-476a-a9f2-3037a02fcd71",
   "metadata": {},
   "outputs": [
    {
     "data": {
      "text/plain": [
       "int"
      ]
     },
     "execution_count": 37,
     "metadata": {},
     "output_type": "execute_result"
    }
   ],
   "source": [
    "type(55)"
   ]
  },
  {
   "cell_type": "code",
   "execution_count": 38,
   "id": "b4b3582d-fa26-4c5b-a73f-b2f936a1be66",
   "metadata": {},
   "outputs": [
    {
     "name": "stdout",
     "output_type": "stream",
     "text": [
      "55\n"
     ]
    }
   ],
   "source": [
    "print('55')"
   ]
  },
  {
   "cell_type": "code",
   "execution_count": 39,
   "id": "846c6b13-c609-4f80-b073-b8f45ef0a445",
   "metadata": {},
   "outputs": [
    {
     "ename": "TypeError",
     "evalue": "unsupported operand type(s) for +: 'int' and 'str'",
     "output_type": "error",
     "traceback": [
      "\u001b[1;31m---------------------------------------------------------------------------\u001b[0m",
      "\u001b[1;31mTypeError\u001b[0m                                 Traceback (most recent call last)",
      "Cell \u001b[1;32mIn[39], line 2\u001b[0m\n\u001b[0;32m      1\u001b[0m \u001b[38;5;66;03m#you can't add string and integer\u001b[39;00m\n\u001b[1;32m----> 2\u001b[0m \u001b[38;5;241m5\u001b[39m\u001b[38;5;241m+\u001b[39m\u001b[38;5;124m\"\u001b[39m\u001b[38;5;124m5\u001b[39m\u001b[38;5;124m\"\u001b[39m\n",
      "\u001b[1;31mTypeError\u001b[0m: unsupported operand type(s) for +: 'int' and 'str'"
     ]
    }
   ],
   "source": [
    "#you can't add string and integer\n",
    "5+\"5\""
   ]
  },
  {
   "cell_type": "code",
   "execution_count": 41,
   "id": "5306837d-c625-4b27-94d3-8dc8ca014ed2",
   "metadata": {},
   "outputs": [
    {
     "ename": "TypeError",
     "evalue": "can only concatenate str (not \"int\") to str",
     "output_type": "error",
     "traceback": [
      "\u001b[1;31m---------------------------------------------------------------------------\u001b[0m",
      "\u001b[1;31mTypeError\u001b[0m                                 Traceback (most recent call last)",
      "Cell \u001b[1;32mIn[41], line 1\u001b[0m\n\u001b[1;32m----> 1\u001b[0m \u001b[38;5;124m\"\u001b[39m\u001b[38;5;124m5\u001b[39m\u001b[38;5;124m\"\u001b[39m\u001b[38;5;241m+\u001b[39m\u001b[38;5;241m5\u001b[39m\n",
      "\u001b[1;31mTypeError\u001b[0m: can only concatenate str (not \"int\") to str"
     ]
    }
   ],
   "source": [
    "\"5\"+5"
   ]
  },
  {
   "cell_type": "code",
   "execution_count": 48,
   "id": "886f5637-7b7e-4c7b-8cf6-8caac8fd3412",
   "metadata": {},
   "outputs": [],
   "source": [
    "name=\"ankur\"\n",
    "salary=80000"
   ]
  },
  {
   "cell_type": "code",
   "execution_count": 49,
   "id": "536e570c-d077-410f-81f1-db2eaf3dcd5b",
   "metadata": {},
   "outputs": [
    {
     "data": {
      "text/plain": [
       "'hi my name is ankur and my salary is 80000'"
      ]
     },
     "execution_count": 49,
     "metadata": {},
     "output_type": "execute_result"
    }
   ],
   "source": [
    "\"hi my name is ankur and my salary is 80000\""
   ]
  },
  {
   "cell_type": "code",
   "execution_count": 53,
   "id": "6766f719-9725-4b19-85e8-6e67d58aba52",
   "metadata": {},
   "outputs": [
    {
     "data": {
      "text/plain": [
       "'hi my name is ankur'"
      ]
     },
     "execution_count": 53,
     "metadata": {},
     "output_type": "execute_result"
    }
   ],
   "source": [
    "# when you change the name then output also change on clicking shift and enter\n",
    "\"hi my name is \"+ name"
   ]
  },
  {
   "cell_type": "code",
   "execution_count": 54,
   "id": "6a9959b8-679c-49b3-968a-f8fbe80baba3",
   "metadata": {},
   "outputs": [
    {
     "ename": "TypeError",
     "evalue": "can only concatenate str (not \"int\") to str",
     "output_type": "error",
     "traceback": [
      "\u001b[1;31m---------------------------------------------------------------------------\u001b[0m",
      "\u001b[1;31mTypeError\u001b[0m                                 Traceback (most recent call last)",
      "Cell \u001b[1;32mIn[54], line 2\u001b[0m\n\u001b[0;32m      1\u001b[0m \u001b[38;5;66;03m#we can't write numbers\u001b[39;00m\n\u001b[1;32m----> 2\u001b[0m \u001b[38;5;124m\"\u001b[39m\u001b[38;5;124mhi my name is \u001b[39m\u001b[38;5;124m\"\u001b[39m \u001b[38;5;241m+\u001b[39m name \u001b[38;5;241m+\u001b[39m \u001b[38;5;124m\"\u001b[39m\u001b[38;5;124m and my salary is \u001b[39m\u001b[38;5;124m\"\u001b[39m \u001b[38;5;241m+\u001b[39m salary\n",
      "\u001b[1;31mTypeError\u001b[0m: can only concatenate str (not \"int\") to str"
     ]
    }
   ],
   "source": [
    "#we can't write numbers\n",
    "\"hi my name is \" + name + \" and my salary is \" + salary"
   ]
  },
  {
   "cell_type": "code",
   "execution_count": 56,
   "id": "ad3c50d8-6c1c-4178-a1d3-1a801d8d1a64",
   "metadata": {},
   "outputs": [
    {
     "data": {
      "text/plain": [
       "'hi my name is ankur and my salary is 80000'"
      ]
     },
     "execution_count": 56,
     "metadata": {},
     "output_type": "execute_result"
    }
   ],
   "source": [
    "\"hi my name is {} and my salary is {}\".format(\"ankur\",80000)"
   ]
  },
  {
   "cell_type": "code",
   "execution_count": 58,
   "id": "1565047b-eb28-4c73-96b5-f3a5a56230aa",
   "metadata": {},
   "outputs": [
    {
     "ename": "IndexError",
     "evalue": "Replacement index 1 out of range for positional args tuple",
     "output_type": "error",
     "traceback": [
      "\u001b[1;31m---------------------------------------------------------------------------\u001b[0m",
      "\u001b[1;31mIndexError\u001b[0m                                Traceback (most recent call last)",
      "Cell \u001b[1;32mIn[58], line 1\u001b[0m\n\u001b[1;32m----> 1\u001b[0m \u001b[38;5;124m\"\u001b[39m\u001b[38;5;124mhi my name is \u001b[39m\u001b[38;5;132;01m{}\u001b[39;00m\u001b[38;5;124m jr and my salary is \u001b[39m\u001b[38;5;132;01m{}\u001b[39;00m\u001b[38;5;124m. i am \u001b[39m\u001b[38;5;132;01m{}\u001b[39;00m\u001b[38;5;124m\"\u001b[39m\u001b[38;5;241m.\u001b[39mformat(\u001b[38;5;124m\"\u001b[39m\u001b[38;5;124mankur,80000\u001b[39m\u001b[38;5;124m\"\u001b[39m)\n",
      "\u001b[1;31mIndexError\u001b[0m: Replacement index 1 out of range for positional args tuple"
     ]
    }
   ],
   "source": [
    "\"hi my name is {} jr and my salary is {}. i am {}\".format(\"ankur,80000\")"
   ]
  },
  {
   "cell_type": "code",
   "execution_count": 61,
   "id": "e6b47a4b-5382-4870-817a-ee592e02b51f",
   "metadata": {},
   "outputs": [
    {
     "data": {
      "text/plain": [
       "'hi my name is ankur jr and my salary is 80000. i am of ankur'"
      ]
     },
     "execution_count": 61,
     "metadata": {},
     "output_type": "execute_result"
    }
   ],
   "source": [
    "\"hi my name is {0} jr and my salary is {1}. i am of {0}\".format(\"ankur\",80000)"
   ]
  },
  {
   "cell_type": "code",
   "execution_count": 63,
   "id": "9d950b2b-1a55-4a67-8e5b-0f7fbe5a53ba",
   "metadata": {},
   "outputs": [
    {
     "data": {
      "text/plain": [
       "'hi my name is ankur jr and my salary is 80000. i am ofankur, and i live in nangal'"
      ]
     },
     "execution_count": 63,
     "metadata": {},
     "output_type": "execute_result"
    }
   ],
   "source": [
    "\"hi my name is {0} jr and my salary is {1}. i am of{0}, and i live in {2}\".format(\"ankur\",80000,\"nangal\")"
   ]
  },
  {
   "cell_type": "code",
   "execution_count": 64,
   "id": "98686690-e3a1-40ce-ad8b-b082c5a4e427",
   "metadata": {},
   "outputs": [
    {
     "data": {
      "text/plain": [
       "'hi my name is ankur jr and my salary is 80000. i am ofankur, and i live in nangal'"
      ]
     },
     "execution_count": 64,
     "metadata": {},
     "output_type": "execute_result"
    }
   ],
   "source": [
    "\"hi my name is {name} jr and my salary is {salary}. i am of{name}, and i live in {place}\".format(name=\"ankur\",salary=80000,place=\"nangal\")"
   ]
  },
  {
   "cell_type": "code",
   "execution_count": 65,
   "id": "4d44d167-c639-40a4-8762-d9584b04faa2",
   "metadata": {},
   "outputs": [],
   "source": [
    "name=\"ankur\"\n",
    "age=23\n",
    "salary=70000\n",
    "place=\"nangal\""
   ]
  },
  {
   "cell_type": "code",
   "execution_count": 68,
   "id": "99aff76c-7d39-4402-8781-ac98568766b5",
   "metadata": {},
   "outputs": [
    {
     "data": {
      "text/plain": [
       "'hi my name is ankur, and my age is 23, and my salary is 70000, and i live in nangal'"
      ]
     },
     "execution_count": 68,
     "metadata": {},
     "output_type": "execute_result"
    }
   ],
   "source": [
    "#f means place the values in bracket\\\n",
    "f'hi my name is {name}, and my age is {age}, and my salary is {salary}, and i live in {place}'"
   ]
  },
  {
   "cell_type": "code",
   "execution_count": 67,
   "id": "387048cc-bcea-498b-91fe-6463f7990321",
   "metadata": {},
   "outputs": [
    {
     "data": {
      "text/plain": [
       "'hi my name is {name}, and my age is {age}, and my salary is {salary}, and i live in {place}'"
      ]
     },
     "execution_count": 67,
     "metadata": {},
     "output_type": "execute_result"
    }
   ],
   "source": [
    "'hi my name is {name}, and my age is {age}, and my salary is {salary}, and i live in {place}'"
   ]
  },
  {
   "cell_type": "code",
   "execution_count": 70,
   "id": "ab99bf54-ae0c-4693-8dac-b3abe01714dd",
   "metadata": {},
   "outputs": [
    {
     "data": {
      "text/plain": [
       "['kanika', 'rana']"
      ]
     },
     "execution_count": 70,
     "metadata": {},
     "output_type": "execute_result"
    }
   ],
   "source": [
    "#important function\n",
    "\"kanika rana\".split()"
   ]
  },
  {
   "cell_type": "code",
   "execution_count": 71,
   "id": "fdea64ae-d845-4fe3-a8e3-c2e611244ebc",
   "metadata": {},
   "outputs": [
    {
     "data": {
      "text/plain": [
       "['tom', 'jerry', 'motu', 'patlu']"
      ]
     },
     "execution_count": 71,
     "metadata": {},
     "output_type": "execute_result"
    }
   ],
   "source": [
    "\"tom jerry motu patlu\".split()"
   ]
  },
  {
   "cell_type": "code",
   "execution_count": 72,
   "id": "43e2296b-fd7d-44fb-8189-d0ba343e7624",
   "metadata": {},
   "outputs": [
    {
     "data": {
      "text/plain": [
       "'ANKUR'"
      ]
     },
     "execution_count": 72,
     "metadata": {},
     "output_type": "execute_result"
    }
   ],
   "source": [
    "name.upper()"
   ]
  },
  {
   "cell_type": "code",
   "execution_count": 73,
   "id": "656ebe73-15a0-4bfb-9f1e-7628ed98f91b",
   "metadata": {},
   "outputs": [
    {
     "data": {
      "text/plain": [
       "'ankur'"
      ]
     },
     "execution_count": 73,
     "metadata": {},
     "output_type": "execute_result"
    }
   ],
   "source": [
    "name"
   ]
  },
  {
   "cell_type": "code",
   "execution_count": 74,
   "id": "bed405db-5326-4016-a34b-c88b697d89b1",
   "metadata": {},
   "outputs": [],
   "source": [
    "name=name.upper()"
   ]
  },
  {
   "cell_type": "code",
   "execution_count": 75,
   "id": "a9e12bc5-ad1e-40ba-a3f1-e4c631419584",
   "metadata": {},
   "outputs": [
    {
     "data": {
      "text/plain": [
       "'ANKUR'"
      ]
     },
     "execution_count": 75,
     "metadata": {},
     "output_type": "execute_result"
    }
   ],
   "source": [
    "name"
   ]
  },
  {
   "cell_type": "code",
   "execution_count": 77,
   "id": "beeb3362-d22f-4ff8-8dae-7cf1553da898",
   "metadata": {},
   "outputs": [
    {
     "data": {
      "text/plain": [
       "['tom j', 'rry motu patlu']"
      ]
     },
     "execution_count": 77,
     "metadata": {},
     "output_type": "execute_result"
    }
   ],
   "source": [
    "\"tom jerry motu patlu\".split(\"e\")"
   ]
  },
  {
   "cell_type": "code",
   "execution_count": 78,
   "id": "c1a1e384-7115-4cf5-a113-e07c4d809396",
   "metadata": {},
   "outputs": [
    {
     "data": {
      "text/plain": [
       "['tomjerry', 'motupatlu']"
      ]
     },
     "execution_count": 78,
     "metadata": {},
     "output_type": "execute_result"
    }
   ],
   "source": [
    "\"tomjerry motupatlu\".split()"
   ]
  },
  {
   "cell_type": "code",
   "execution_count": 79,
   "id": "663fae8c-ecc8-4d9d-beb2-0266d1715fef",
   "metadata": {},
   "outputs": [
    {
     "data": {
      "text/plain": [
       "['hi', 'my', 'name', 'is', 'kanika']"
      ]
     },
     "execution_count": 79,
     "metadata": {},
     "output_type": "execute_result"
    }
   ],
   "source": [
    "\"hi my name is kanika\".split()"
   ]
  },
  {
   "cell_type": "code",
   "execution_count": 80,
   "id": "b92951e5-0d00-4680-b6cc-d47d80c0ded3",
   "metadata": {},
   "outputs": [
    {
     "data": {
      "text/plain": [
       "['2025', '07', '25']"
      ]
     },
     "execution_count": 80,
     "metadata": {},
     "output_type": "execute_result"
    }
   ],
   "source": [
    "\"2025-07-25\".split(\"-\")"
   ]
  },
  {
   "cell_type": "code",
   "execution_count": 81,
   "id": "2ea1f03a-d720-4947-9d9b-4abe04debd40",
   "metadata": {},
   "outputs": [],
   "source": [
    "name=\"kanika\""
   ]
  },
  {
   "cell_type": "code",
   "execution_count": 82,
   "id": "6d9d5a50-6092-46fb-9c25-eb6cc57a77d8",
   "metadata": {},
   "outputs": [
    {
     "data": {
      "text/plain": [
       "'kanika'"
      ]
     },
     "execution_count": 82,
     "metadata": {},
     "output_type": "execute_result"
    }
   ],
   "source": [
    "name"
   ]
  },
  {
   "cell_type": "code",
   "execution_count": 83,
   "id": "4eba51f1-0785-4ec5-8beb-3c4eb3f55dec",
   "metadata": {},
   "outputs": [
    {
     "data": {
      "text/plain": [
       "'kanika'"
      ]
     },
     "execution_count": 83,
     "metadata": {},
     "output_type": "execute_result"
    }
   ],
   "source": [
    "#strip use to remove space\n",
    "\" kanika \".strip()"
   ]
  },
  {
   "cell_type": "code",
   "execution_count": 85,
   "id": "42a81fd8-21c3-4d12-80df-b88d54674549",
   "metadata": {},
   "outputs": [
    {
     "name": "stdout",
     "output_type": "stream",
     "text": [
      "kanika\n",
      "kanika \n"
     ]
    }
   ],
   "source": [
    "print('kanika')\n",
    "print('kanika ')"
   ]
  },
  {
   "cell_type": "code",
   "execution_count": 86,
   "id": "cd7bc411-be6e-4730-82af-69f075da4ba8",
   "metadata": {},
   "outputs": [
    {
     "name": "stdout",
     "output_type": "stream",
     "text": [
      "kanika\n",
      " kanika \n"
     ]
    }
   ],
   "source": [
    "print('kanika')\n",
    "print(' kanika ')"
   ]
  },
  {
   "cell_type": "code",
   "execution_count": 89,
   "id": "b54e758b-5f91-48f4-b062-94a5c23cd081",
   "metadata": {},
   "outputs": [
    {
     "data": {
      "text/plain": [
       "True"
      ]
     },
     "execution_count": 89,
     "metadata": {},
     "output_type": "execute_result"
    }
   ],
   "source": [
    "#is use for true or false \n",
    "\"kanika\".islower()"
   ]
  },
  {
   "cell_type": "code",
   "execution_count": 90,
   "id": "348665a8-b716-4947-8b17-f67e3fddfd73",
   "metadata": {},
   "outputs": [
    {
     "data": {
      "text/plain": [
       "True"
      ]
     },
     "execution_count": 90,
     "metadata": {},
     "output_type": "execute_result"
    }
   ],
   "source": [
    "\"KANIKA\".isupper()"
   ]
  },
  {
   "cell_type": "code",
   "execution_count": 92,
   "id": "73efe106-e770-4426-9ab0-9fb145f8b88c",
   "metadata": {},
   "outputs": [
    {
     "data": {
      "text/plain": [
       "False"
      ]
     },
     "execution_count": 92,
     "metadata": {},
     "output_type": "execute_result"
    }
   ],
   "source": [
    "\"kanika\".isupper()"
   ]
  },
  {
   "cell_type": "code",
   "execution_count": 93,
   "id": "5c227202-8d21-41f3-a766-c7dcd9748571",
   "metadata": {},
   "outputs": [
    {
     "data": {
      "text/plain": [
       "False"
      ]
     },
     "execution_count": 93,
     "metadata": {},
     "output_type": "execute_result"
    }
   ],
   "source": [
    "\"Kanika\".isupper()"
   ]
  },
  {
   "cell_type": "code",
   "execution_count": 94,
   "id": "e4574952-c5cb-4863-8a0c-3a798e204807",
   "metadata": {},
   "outputs": [
    {
     "data": {
      "text/plain": [
       "True"
      ]
     },
     "execution_count": 94,
     "metadata": {},
     "output_type": "execute_result"
    }
   ],
   "source": [
    "\"kanika\".isalpha()"
   ]
  },
  {
   "cell_type": "code",
   "execution_count": 95,
   "id": "08550501-8381-4499-b691-de4d8532fe40",
   "metadata": {},
   "outputs": [
    {
     "data": {
      "text/plain": [
       "True"
      ]
     },
     "execution_count": 95,
     "metadata": {},
     "output_type": "execute_result"
    }
   ],
   "source": [
    "\"27656\".isdigit()"
   ]
  },
  {
   "cell_type": "code",
   "execution_count": 96,
   "id": "c878614f-9668-49ff-9eb4-f74eea19c810",
   "metadata": {},
   "outputs": [
    {
     "data": {
      "text/plain": [
       "False"
      ]
     },
     "execution_count": 96,
     "metadata": {},
     "output_type": "execute_result"
    }
   ],
   "source": [
    "'2585'.isalpha()"
   ]
  },
  {
   "cell_type": "code",
   "execution_count": 97,
   "id": "19599f66-d23d-4b72-86d3-fc9f31c742ae",
   "metadata": {},
   "outputs": [
    {
     "data": {
      "text/plain": [
       "True"
      ]
     },
     "execution_count": 97,
     "metadata": {},
     "output_type": "execute_result"
    }
   ],
   "source": [
    "\"kanika11\".isalnum()"
   ]
  },
  {
   "cell_type": "code",
   "execution_count": 100,
   "id": "8b1ae79d-9c06-42b9-8478-e5274231f190",
   "metadata": {},
   "outputs": [
    {
     "data": {
      "text/plain": [
       "False"
      ]
     },
     "execution_count": 100,
     "metadata": {},
     "output_type": "execute_result"
    }
   ],
   "source": [
    "#it doen't work on space\n",
    "\"kanika rana\".isalpha()"
   ]
  },
  {
   "cell_type": "code",
   "execution_count": 99,
   "id": "0e3f1527-377c-4d98-bda8-a6fc25edee4f",
   "metadata": {},
   "outputs": [
    {
     "data": {
      "text/plain": [
       "True"
      ]
     },
     "execution_count": 99,
     "metadata": {},
     "output_type": "execute_result"
    }
   ],
   "source": [
    "\" \".isspace()"
   ]
  },
  {
   "cell_type": "code",
   "execution_count": 101,
   "id": "1cd309e6-4124-457a-a502-b3a0e17aeead",
   "metadata": {},
   "outputs": [
    {
     "name": "stdout",
     "output_type": "stream",
     "text": [
      "Object `replace` not found.\n"
     ]
    }
   ],
   "source": [
    "\"kanika rana\".replace?"
   ]
  },
  {
   "cell_type": "code",
   "execution_count": 102,
   "id": "07f38a5c-ffd1-45d3-92a6-0db30f506801",
   "metadata": {},
   "outputs": [
    {
     "name": "stdout",
     "output_type": "stream",
     "text": [
      "Help on built-in function replace:\n",
      "\n",
      "replace(old, new, /, count=-1) method of builtins.str instance\n",
      "    Return a copy with all occurrences of substring old replaced by new.\n",
      "\n",
      "      count\n",
      "        Maximum number of occurrences to replace.\n",
      "        -1 (the default value) means replace all occurrences.\n",
      "\n",
      "    If the optional argument count is given, only the first count occurrences are\n",
      "    replaced.\n",
      "\n"
     ]
    }
   ],
   "source": [
    "help(\"kanika rana\".replace)"
   ]
  },
  {
   "cell_type": "code",
   "execution_count": 106,
   "id": "6f22f35d-35fd-4c7c-914e-cc5ab5ec3367",
   "metadata": {},
   "outputs": [
    {
     "data": {
      "text/plain": [
       "'ka7ika ra7a'"
      ]
     },
     "execution_count": 106,
     "metadata": {},
     "output_type": "execute_result"
    }
   ],
   "source": [
    "\"kanika rana\".replace(\"n\", \"7\")"
   ]
  },
  {
   "cell_type": "code",
   "execution_count": 110,
   "id": "5df6ae86-0c1d-4a2b-9e7c-010b3650d0cf",
   "metadata": {},
   "outputs": [
    {
     "data": {
      "text/plain": [
       "'ka7ika rana'"
      ]
     },
     "execution_count": 110,
     "metadata": {},
     "output_type": "execute_result"
    }
   ],
   "source": [
    "#on write 1 it replace 1st n\n",
    "\"kanika rana\".replace(\"n\", \"7\", 1)"
   ]
  },
  {
   "cell_type": "code",
   "execution_count": 109,
   "id": "77dba55f-9b12-461c-959c-0e24994dfcbf",
   "metadata": {},
   "outputs": [
    {
     "data": {
      "text/plain": [
       "'ka7ika ra7a'"
      ]
     },
     "execution_count": 109,
     "metadata": {},
     "output_type": "execute_result"
    }
   ],
   "source": [
    "#on write 2 it replace both n\n",
    "\"kanika rana\".replace(\"n\", \"7\", 2)"
   ]
  },
  {
   "cell_type": "markdown",
   "id": "91c3254a-9843-4dce-af4f-d0e5e72533f4",
   "metadata": {},
   "source": [
    "# Indexing "
   ]
  },
  {
   "cell_type": "markdown",
   "id": "07ab6545-9aae-4881-a144-fcddfadb1a3f",
   "metadata": {},
   "source": [
    "indexing very important topic"
   ]
  },
  {
   "cell_type": "code",
   "execution_count": 112,
   "id": "c1be77a3-bb09-49bb-8273-8f2cbc499f8b",
   "metadata": {},
   "outputs": [],
   "source": [
    "name=\"kanika rana\""
   ]
  },
  {
   "cell_type": "code",
   "execution_count": 113,
   "id": "d388e94a-a7d0-4914-94dd-2f50e21291ae",
   "metadata": {},
   "outputs": [
    {
     "data": {
      "text/plain": [
       "'kanika rana'"
      ]
     },
     "execution_count": 113,
     "metadata": {},
     "output_type": "execute_result"
    }
   ],
   "source": [
    "name"
   ]
  },
  {
   "cell_type": "code",
   "execution_count": 114,
   "id": "0c98052b-b22e-4e9d-a7b1-8e34c79dc7c9",
   "metadata": {},
   "outputs": [
    {
     "data": {
      "text/plain": [
       "'k'"
      ]
     },
     "execution_count": 114,
     "metadata": {},
     "output_type": "execute_result"
    }
   ],
   "source": [
    "name[0]"
   ]
  },
  {
   "cell_type": "code",
   "execution_count": 115,
   "id": "a8b3a8bd-e4de-4e8a-964e-e7522cc9984f",
   "metadata": {},
   "outputs": [
    {
     "data": {
      "text/plain": [
       "'i'"
      ]
     },
     "execution_count": 115,
     "metadata": {},
     "output_type": "execute_result"
    }
   ],
   "source": [
    "name[3]"
   ]
  },
  {
   "cell_type": "code",
   "execution_count": 117,
   "id": "a9776ddb-ccf5-4035-b236-9ab7dd8ff0d0",
   "metadata": {},
   "outputs": [
    {
     "data": {
      "text/plain": [
       "' '"
      ]
     },
     "execution_count": 117,
     "metadata": {},
     "output_type": "execute_result"
    }
   ],
   "source": [
    "#''space\n",
    "name[6]"
   ]
  },
  {
   "cell_type": "code",
   "execution_count": 118,
   "id": "81c906fb-c476-4a19-9f93-8c334e7e6d11",
   "metadata": {},
   "outputs": [
    {
     "ename": "IndexError",
     "evalue": "string index out of range",
     "output_type": "error",
     "traceback": [
      "\u001b[1;31m---------------------------------------------------------------------------\u001b[0m",
      "\u001b[1;31mIndexError\u001b[0m                                Traceback (most recent call last)",
      "Cell \u001b[1;32mIn[118], line 1\u001b[0m\n\u001b[1;32m----> 1\u001b[0m name[\u001b[38;5;241m11\u001b[39m]\n",
      "\u001b[1;31mIndexError\u001b[0m: string index out of range"
     ]
    }
   ],
   "source": [
    "name[11]"
   ]
  },
  {
   "cell_type": "code",
   "execution_count": 119,
   "id": "b6d05ea9-3516-41c5-a8a8-93999fb4ba6d",
   "metadata": {},
   "outputs": [
    {
     "data": {
      "text/plain": [
       "11"
      ]
     },
     "execution_count": 119,
     "metadata": {},
     "output_type": "execute_result"
    }
   ],
   "source": [
    "len(name)"
   ]
  },
  {
   "cell_type": "code",
   "execution_count": 122,
   "id": "20a034d5-dac0-43f2-8ade-07209517b526",
   "metadata": {},
   "outputs": [
    {
     "data": {
      "text/plain": [
       "'a'"
      ]
     },
     "execution_count": 122,
     "metadata": {},
     "output_type": "execute_result"
    }
   ],
   "source": [
    "# minus - means last alphabet to counting start ho jani and counting 1 to start ho jani\n",
    "name[-1]"
   ]
  },
  {
   "cell_type": "code",
   "execution_count": 121,
   "id": "0ee9eea3-d2b8-4439-a3d8-2c6d006632bc",
   "metadata": {},
   "outputs": [
    {
     "data": {
      "text/plain": [
       "'n'"
      ]
     },
     "execution_count": 121,
     "metadata": {},
     "output_type": "execute_result"
    }
   ],
   "source": [
    "name[-2]"
   ]
  },
  {
   "cell_type": "code",
   "execution_count": 123,
   "id": "c0e6ec11-0577-44e4-b0d7-8f26dd7f9e7c",
   "metadata": {},
   "outputs": [
    {
     "data": {
      "text/plain": [
       "' '"
      ]
     },
     "execution_count": 123,
     "metadata": {},
     "output_type": "execute_result"
    }
   ],
   "source": [
    "name[-5]"
   ]
  },
  {
   "cell_type": "code",
   "execution_count": 125,
   "id": "9b6ca854-7d75-41b9-92c8-b5ebc8bd5a92",
   "metadata": {},
   "outputs": [
    {
     "data": {
      "text/plain": [
       "'n'"
      ]
     },
     "execution_count": 125,
     "metadata": {},
     "output_type": "execute_result"
    }
   ],
   "source": [
    "name[-9]"
   ]
  },
  {
   "cell_type": "code",
   "execution_count": 126,
   "id": "71fa253e-90b9-4e37-aeaf-2ca8b7ea9997",
   "metadata": {},
   "outputs": [
    {
     "data": {
      "text/plain": [
       "'k'"
      ]
     },
     "execution_count": 126,
     "metadata": {},
     "output_type": "execute_result"
    }
   ],
   "source": [
    "name[-11]"
   ]
  },
  {
   "cell_type": "code",
   "execution_count": 127,
   "id": "7b77c970-f9d1-4c1b-abd8-58115834d4ed",
   "metadata": {},
   "outputs": [
    {
     "ename": "IndexError",
     "evalue": "string index out of range",
     "output_type": "error",
     "traceback": [
      "\u001b[1;31m---------------------------------------------------------------------------\u001b[0m",
      "\u001b[1;31mIndexError\u001b[0m                                Traceback (most recent call last)",
      "Cell \u001b[1;32mIn[127], line 1\u001b[0m\n\u001b[1;32m----> 1\u001b[0m name[\u001b[38;5;241m-\u001b[39m\u001b[38;5;241m12\u001b[39m]\n",
      "\u001b[1;31mIndexError\u001b[0m: string index out of range"
     ]
    }
   ],
   "source": [
    "name[-12]"
   ]
  },
  {
   "cell_type": "code",
   "execution_count": 1,
   "id": "1eead43e-cc7b-4229-a58f-4bcec0a30ecd",
   "metadata": {},
   "outputs": [
    {
     "data": {
      "text/plain": [
       "'k'"
      ]
     },
     "execution_count": 1,
     "metadata": {},
     "output_type": "execute_result"
    }
   ],
   "source": [
    "\"kanika\"[0]"
   ]
  },
  {
   "cell_type": "code",
   "execution_count": 3,
   "id": "c95e47fb-a41a-4d8c-b777-ddab8e7dc403",
   "metadata": {},
   "outputs": [
    {
     "data": {
      "text/plain": [
       "'n'"
      ]
     },
     "execution_count": 3,
     "metadata": {},
     "output_type": "execute_result"
    }
   ],
   "source": [
    "\"kanika\"[2]"
   ]
  },
  {
   "cell_type": "code",
   "execution_count": 4,
   "id": "f45c210e-b8d5-46b6-bafd-53da6c5c98bf",
   "metadata": {},
   "outputs": [
    {
     "data": {
      "text/plain": [
       "6"
      ]
     },
     "execution_count": 4,
     "metadata": {},
     "output_type": "execute_result"
    }
   ],
   "source": [
    "len('kanika')"
   ]
  },
  {
   "cell_type": "code",
   "execution_count": 5,
   "id": "cbee8315-7996-4c5e-a60a-e752f8770afd",
   "metadata": {},
   "outputs": [
    {
     "data": {
      "text/plain": [
       "'i'"
      ]
     },
     "execution_count": 5,
     "metadata": {},
     "output_type": "execute_result"
    }
   ],
   "source": [
    "\"kanika\"[-3]"
   ]
  },
  {
   "cell_type": "code",
   "execution_count": 1,
   "id": "e31a0508-b6bc-4410-8e3d-c671f987efe4",
   "metadata": {},
   "outputs": [],
   "source": [
    "#sliicing\n",
    "name=\"kanika rana\""
   ]
  },
  {
   "cell_type": "code",
   "execution_count": 7,
   "id": "37032304-9b34-48c1-8879-1461d2df8d0d",
   "metadata": {},
   "outputs": [
    {
     "data": {
      "text/plain": [
       "'kanika rana'"
      ]
     },
     "execution_count": 7,
     "metadata": {},
     "output_type": "execute_result"
    }
   ],
   "source": [
    "name"
   ]
  },
  {
   "cell_type": "code",
   "execution_count": 8,
   "id": "fb55d658-94dc-4b58-b59c-bb82096e8c6d",
   "metadata": {},
   "outputs": [
    {
     "data": {
      "text/plain": [
       "' '"
      ]
     },
     "execution_count": 8,
     "metadata": {},
     "output_type": "execute_result"
    }
   ],
   "source": [
    "name[6]"
   ]
  },
  {
   "cell_type": "code",
   "execution_count": 11,
   "id": "b51979d0-f09c-42ef-b8aa-2b0d16aca129",
   "metadata": {},
   "outputs": [
    {
     "data": {
      "text/plain": [
       "'rana'"
      ]
     },
     "execution_count": 11,
     "metadata": {},
     "output_type": "execute_result"
    }
   ],
   "source": [
    "#using colon to get all elements \n",
    "name[7:]"
   ]
  },
  {
   "cell_type": "code",
   "execution_count": 12,
   "id": "46d0a7c9-1b48-40fc-9a4e-c58e396a92b9",
   "metadata": {},
   "outputs": [
    {
     "data": {
      "text/plain": [
       "'kanika rana'"
      ]
     },
     "execution_count": 12,
     "metadata": {},
     "output_type": "execute_result"
    }
   ],
   "source": [
    "name[0:]"
   ]
  },
  {
   "cell_type": "code",
   "execution_count": 14,
   "id": "324b39e0-eae1-4422-9801-3e603a93276c",
   "metadata": {},
   "outputs": [
    {
     "data": {
      "text/plain": [
       "'ka rana'"
      ]
     },
     "execution_count": 14,
     "metadata": {},
     "output_type": "execute_result"
    }
   ],
   "source": [
    "name[4:]"
   ]
  },
  {
   "cell_type": "code",
   "execution_count": 16,
   "id": "e3347dba-787a-4dfe-890b-a1a97de56d4c",
   "metadata": {},
   "outputs": [
    {
     "data": {
      "text/plain": [
       "'ka'"
      ]
     },
     "execution_count": 16,
     "metadata": {},
     "output_type": "execute_result"
    }
   ],
   "source": [
    "name[0:2]"
   ]
  },
  {
   "cell_type": "code",
   "execution_count": 21,
   "id": "503ee7a7-1305-4a4d-966e-2aafd0119904",
   "metadata": {},
   "outputs": [
    {
     "data": {
      "text/plain": [
       "'kanika'"
      ]
     },
     "execution_count": 21,
     "metadata": {},
     "output_type": "execute_result"
    }
   ],
   "source": [
    "#to get reverse elements \n",
    "name[:6]"
   ]
  },
  {
   "cell_type": "code",
   "execution_count": 22,
   "id": "f6333cac-9311-4f66-9c02-05f2af8f7b24",
   "metadata": {},
   "outputs": [
    {
     "data": {
      "text/plain": [
       "'kanik'"
      ]
     },
     "execution_count": 22,
     "metadata": {},
     "output_type": "execute_result"
    }
   ],
   "source": [
    "#in reverse direction one element excluded\n",
    "name[:5]"
   ]
  },
  {
   "cell_type": "code",
   "execution_count": 23,
   "id": "71ab53f1-8de4-433b-843f-8472b05255b2",
   "metadata": {},
   "outputs": [
    {
     "data": {
      "text/plain": [
       "'kanika ran'"
      ]
     },
     "execution_count": 23,
     "metadata": {},
     "output_type": "execute_result"
    }
   ],
   "source": [
    "name[:10]"
   ]
  },
  {
   "cell_type": "code",
   "execution_count": 24,
   "id": "47959938-c788-4621-8c21-621a25c1ab04",
   "metadata": {},
   "outputs": [],
   "source": [
    "greet='hello kanika nice to meet you'"
   ]
  },
  {
   "cell_type": "code",
   "execution_count": 25,
   "id": "b0e11cb2-057b-4278-92b7-e5b2ad198403",
   "metadata": {},
   "outputs": [
    {
     "data": {
      "text/plain": [
       "'hello kanika nice to meet you'"
      ]
     },
     "execution_count": 25,
     "metadata": {},
     "output_type": "execute_result"
    }
   ],
   "source": [
    "greet"
   ]
  },
  {
   "cell_type": "code",
   "execution_count": 27,
   "id": "cb2ccb41-cc6e-49c1-acaf-8a5b1770f2b4",
   "metadata": {},
   "outputs": [
    {
     "data": {
      "text/plain": [
       "'k'"
      ]
     },
     "execution_count": 27,
     "metadata": {},
     "output_type": "execute_result"
    }
   ],
   "source": [
    "greet[6]"
   ]
  },
  {
   "cell_type": "code",
   "execution_count": 29,
   "id": "aa916f3f-e1d4-4465-9e1e-87c159dc4acf",
   "metadata": {},
   "outputs": [
    {
     "data": {
      "text/plain": [
       "'kanika '"
      ]
     },
     "execution_count": 29,
     "metadata": {},
     "output_type": "execute_result"
    }
   ],
   "source": [
    "#from index 6 to 13(to extract something from sentence)\n",
    "greet[6:13]"
   ]
  },
  {
   "cell_type": "code",
   "execution_count": 30,
   "id": "c9e22d43-ed9e-407f-960d-77455e4d07dd",
   "metadata": {},
   "outputs": [
    {
     "data": {
      "text/plain": [
       "'0123456789'"
      ]
     },
     "execution_count": 30,
     "metadata": {},
     "output_type": "execute_result"
    }
   ],
   "source": [
    "\"0123456789\""
   ]
  },
  {
   "cell_type": "code",
   "execution_count": 31,
   "id": "97aa7ae1-32e8-45d7-8d5e-783703b1bf0d",
   "metadata": {},
   "outputs": [
    {
     "data": {
      "text/plain": [
       "'6'"
      ]
     },
     "execution_count": 31,
     "metadata": {},
     "output_type": "execute_result"
    }
   ],
   "source": [
    "\"0123456789\"[6]"
   ]
  },
  {
   "cell_type": "code",
   "execution_count": 32,
   "id": "ca5544c9-3ded-42d1-a25c-c344e3b05967",
   "metadata": {},
   "outputs": [
    {
     "data": {
      "text/plain": [
       "'45'"
      ]
     },
     "execution_count": 32,
     "metadata": {},
     "output_type": "execute_result"
    }
   ],
   "source": [
    "\"0123456789\"[4:6]"
   ]
  },
  {
   "cell_type": "code",
   "execution_count": 33,
   "id": "14d2b60b-2cb1-4792-b508-f60f6346aeed",
   "metadata": {},
   "outputs": [
    {
     "data": {
      "text/plain": [
       "'456'"
      ]
     },
     "execution_count": 33,
     "metadata": {},
     "output_type": "execute_result"
    }
   ],
   "source": [
    "\"0123456789\"[4:7]"
   ]
  },
  {
   "cell_type": "code",
   "execution_count": 35,
   "id": "1088ae05-9f7f-4ba4-90e2-1896c19dd9b0",
   "metadata": {},
   "outputs": [],
   "source": [
    "s=\"the fox ran\""
   ]
  },
  {
   "cell_type": "code",
   "execution_count": 36,
   "id": "0267a262-3c3d-4b76-8721-42e2f74d7dec",
   "metadata": {},
   "outputs": [
    {
     "data": {
      "text/plain": [
       "'the fox ran'"
      ]
     },
     "execution_count": 36,
     "metadata": {},
     "output_type": "execute_result"
    }
   ],
   "source": [
    "s"
   ]
  },
  {
   "cell_type": "code",
   "execution_count": 37,
   "id": "09bc5f53-5d14-4c1b-8485-e27f8262d3ca",
   "metadata": {},
   "outputs": [
    {
     "data": {
      "text/plain": [
       "'fox ran'"
      ]
     },
     "execution_count": 37,
     "metadata": {},
     "output_type": "execute_result"
    }
   ],
   "source": [
    "s[4:]"
   ]
  },
  {
   "cell_type": "code",
   "execution_count": 39,
   "id": "b7322b2d-ab71-4238-8443-c0ff2e58ed57",
   "metadata": {},
   "outputs": [
    {
     "data": {
      "text/plain": [
       "'fox'"
      ]
     },
     "execution_count": 39,
     "metadata": {},
     "output_type": "execute_result"
    }
   ],
   "source": [
    "#index eliminates one element so you have to write one number increase\n",
    "s[4:7]"
   ]
  },
  {
   "cell_type": "code",
   "execution_count": 40,
   "id": "08de3513-1465-49a0-86ca-2c9ab3eceb92",
   "metadata": {},
   "outputs": [],
   "source": [
    "b=\"hi! what's your name\""
   ]
  },
  {
   "cell_type": "code",
   "execution_count": 41,
   "id": "76d09abf-be03-4ea0-9719-0dcfa8d2b067",
   "metadata": {},
   "outputs": [
    {
     "data": {
      "text/plain": [
       "\"hi! what's your name\""
      ]
     },
     "execution_count": 41,
     "metadata": {},
     "output_type": "execute_result"
    }
   ],
   "source": [
    "b"
   ]
  },
  {
   "cell_type": "code",
   "execution_count": 42,
   "id": "0f4b91c1-b3ef-4938-a188-093c7787423e",
   "metadata": {},
   "outputs": [
    {
     "data": {
      "text/plain": [
       "'t'"
      ]
     },
     "execution_count": 42,
     "metadata": {},
     "output_type": "execute_result"
    }
   ],
   "source": [
    "b[7]"
   ]
  },
  {
   "cell_type": "code",
   "execution_count": 43,
   "id": "f20336ad-8380-4b37-8756-25933f907668",
   "metadata": {},
   "outputs": [
    {
     "data": {
      "text/plain": [
       "'what'"
      ]
     },
     "execution_count": 43,
     "metadata": {},
     "output_type": "execute_result"
    }
   ],
   "source": [
    "b[4:8]"
   ]
  },
  {
   "cell_type": "code",
   "execution_count": 44,
   "id": "76977f7d-40c6-4a7b-a870-ba281eb6d25c",
   "metadata": {},
   "outputs": [
    {
     "data": {
      "text/plain": [
       "' your'"
      ]
     },
     "execution_count": 44,
     "metadata": {},
     "output_type": "execute_result"
    }
   ],
   "source": [
    "b[10:15]"
   ]
  },
  {
   "cell_type": "code",
   "execution_count": 45,
   "id": "bcde20bd-0af0-4f02-b8ff-f36f3abf77bc",
   "metadata": {},
   "outputs": [],
   "source": [
    "name=\"dhyanender partap singh\""
   ]
  },
  {
   "cell_type": "code",
   "execution_count": 46,
   "id": "08c5c1ba-3072-48f7-a5b9-79fe09a5faa3",
   "metadata": {},
   "outputs": [
    {
     "data": {
      "text/plain": [
       "'dhyanender partap singh'"
      ]
     },
     "execution_count": 46,
     "metadata": {},
     "output_type": "execute_result"
    }
   ],
   "source": [
    "name[:]"
   ]
  },
  {
   "cell_type": "code",
   "execution_count": 47,
   "id": "7c398d1f-63fc-4caa-a422-54b9da0f6cee",
   "metadata": {},
   "outputs": [
    {
     "data": {
      "text/plain": [
       "'yanender partap singh'"
      ]
     },
     "execution_count": 47,
     "metadata": {},
     "output_type": "execute_result"
    }
   ],
   "source": [
    "name[2:]"
   ]
  },
  {
   "cell_type": "code",
   "execution_count": 48,
   "id": "43acdf48-9bed-49ed-b6fa-00948206edb1",
   "metadata": {},
   "outputs": [
    {
     "data": {
      "text/plain": [
       "'dhyanender'"
      ]
     },
     "execution_count": 48,
     "metadata": {},
     "output_type": "execute_result"
    }
   ],
   "source": [
    "name[:10]"
   ]
  },
  {
   "cell_type": "code",
   "execution_count": 61,
   "id": "7afc20a6-0605-4056-909d-93ca7b5fa2e1",
   "metadata": {},
   "outputs": [],
   "source": [
    "name=\"dhyanender pratap singh\""
   ]
  },
  {
   "cell_type": "code",
   "execution_count": 62,
   "id": "561712dd-8614-48c2-a976-f2594a9072eb",
   "metadata": {},
   "outputs": [
    {
     "data": {
      "text/plain": [
       "'dynne rtpsnh'"
      ]
     },
     "execution_count": 62,
     "metadata": {},
     "output_type": "execute_result"
    }
   ],
   "source": [
    "#step size\n",
    "name[::2]"
   ]
  },
  {
   "cell_type": "code",
   "execution_count": 63,
   "id": "0dd45010-e04b-438b-b50f-8850fdb47c8b",
   "metadata": {},
   "outputs": [
    {
     "data": {
      "text/plain": [
       "'danrrasg'"
      ]
     },
     "execution_count": 63,
     "metadata": {},
     "output_type": "execute_result"
    }
   ],
   "source": [
    "name[::3]"
   ]
  },
  {
   "cell_type": "code",
   "execution_count": 64,
   "id": "993ccf85-0b2b-4ec6-9ff5-1afce47bbf4b",
   "metadata": {},
   "outputs": [
    {
     "data": {
      "text/plain": [
       "'dynne'"
      ]
     },
     "execution_count": 64,
     "metadata": {},
     "output_type": "execute_result"
    }
   ],
   "source": [
    "#starting number, ending number, steo size\n",
    "name[0:10:2]"
   ]
  },
  {
   "cell_type": "code",
   "execution_count": 65,
   "id": "87afb077-4284-4a65-a935-5e7d433487a7",
   "metadata": {},
   "outputs": [
    {
     "data": {
      "text/plain": [
       "'dhyanender pratap'"
      ]
     },
     "execution_count": 65,
     "metadata": {},
     "output_type": "execute_result"
    }
   ],
   "source": [
    "name[:-6]"
   ]
  },
  {
   "cell_type": "code",
   "execution_count": 66,
   "id": "34963f36-68b2-4f53-aca8-45f495829456",
   "metadata": {},
   "outputs": [
    {
     "data": {
      "text/plain": [
       "' singh'"
      ]
     },
     "execution_count": 66,
     "metadata": {},
     "output_type": "execute_result"
    }
   ],
   "source": [
    "name[-6:]"
   ]
  },
  {
   "cell_type": "code",
   "execution_count": 5,
   "id": "1a3775b1-5696-4cbb-93d8-4f50e6713b6b",
   "metadata": {},
   "outputs": [],
   "source": [
    "name=\"dhyanender pratap singh\""
   ]
  },
  {
   "cell_type": "code",
   "execution_count": 8,
   "id": "4d979931-cc81-4693-8104-531facff41cc",
   "metadata": {},
   "outputs": [
    {
     "data": {
      "text/plain": [
       "'ender pratap'"
      ]
     },
     "execution_count": 8,
     "metadata": {},
     "output_type": "execute_result"
    }
   ],
   "source": [
    "name[5:-6]"
   ]
  },
  {
   "cell_type": "code",
   "execution_count": 68,
   "id": "a0822cf2-56b4-485f-814e-9cdc6692ec87",
   "metadata": {},
   "outputs": [
    {
     "data": {
      "text/plain": [
       "'edrpaa'"
      ]
     },
     "execution_count": 68,
     "metadata": {},
     "output_type": "execute_result"
    }
   ],
   "source": [
    "name[5:-6:2]"
   ]
  },
  {
   "cell_type": "code",
   "execution_count": 69,
   "id": "a420e25e-005c-4d89-b417-0e76408e2257",
   "metadata": {},
   "outputs": [
    {
     "data": {
      "text/plain": [
       "'pratap'"
      ]
     },
     "execution_count": 69,
     "metadata": {},
     "output_type": "execute_result"
    }
   ],
   "source": [
    "#index sciling\n",
    "name[5:-6][6:]"
   ]
  },
  {
   "cell_type": "code",
   "execution_count": 70,
   "id": "95c364a9-e99c-4e6e-8bb7-c05cd08dcf7a",
   "metadata": {},
   "outputs": [
    {
     "data": {
      "text/plain": [
       "'t'"
      ]
     },
     "execution_count": 70,
     "metadata": {},
     "output_type": "execute_result"
    }
   ],
   "source": [
    "name[5:-6][6:][3]"
   ]
  },
  {
   "cell_type": "code",
   "execution_count": 71,
   "id": "5020b9f6-4b47-47ae-bd7e-0e5830ab17a0",
   "metadata": {},
   "outputs": [
    {
     "data": {
      "text/plain": [
       "'tap'"
      ]
     },
     "execution_count": 71,
     "metadata": {},
     "output_type": "execute_result"
    }
   ],
   "source": [
    "name[5:-6][6:][3:]"
   ]
  },
  {
   "cell_type": "code",
   "execution_count": 72,
   "id": "1afc123f-f552-48b9-9cbd-15b1704bdcb9",
   "metadata": {},
   "outputs": [
    {
     "data": {
      "text/plain": [
       "'dhyanender pratap singh'"
      ]
     },
     "execution_count": 72,
     "metadata": {},
     "output_type": "execute_result"
    }
   ],
   "source": [
    "name"
   ]
  },
  {
   "cell_type": "code",
   "execution_count": 12,
   "id": "3a6581e2-4e39-4ff3-9a2c-269cc9ca25aa",
   "metadata": {},
   "outputs": [
    {
     "data": {
      "text/plain": [
       "'hgnis patarp rednenayhd'"
      ]
     },
     "execution_count": 12,
     "metadata": {},
     "output_type": "execute_result"
    }
   ],
   "source": [
    "#in reverse direction\n",
    "name[::-1]"
   ]
  },
  {
   "cell_type": "code",
   "execution_count": 76,
   "id": "2f2874fc-7494-4514-8108-d554f2f291a8",
   "metadata": {},
   "outputs": [
    {
     "data": {
      "text/plain": [
       "'patarp'"
      ]
     },
     "execution_count": 76,
     "metadata": {},
     "output_type": "execute_result"
    }
   ],
   "source": [
    "name[11:17][::-1]"
   ]
  },
  {
   "cell_type": "code",
   "execution_count": 107,
   "id": "cd69804f-3b7f-45df-8917-303e6e9599f0",
   "metadata": {},
   "outputs": [
    {
     "data": {
      "text/plain": [
       "'dhyanender pratap singh'"
      ]
     },
     "execution_count": 107,
     "metadata": {},
     "output_type": "execute_result"
    }
   ],
   "source": [
    "#to write a sentence half in descending and half in ascending order\n",
    "name"
   ]
  },
  {
   "cell_type": "code",
   "execution_count": 108,
   "id": "7e872d8a-68bf-47e4-a61a-a5c164fccc25",
   "metadata": {},
   "outputs": [
    {
     "data": {
      "text/plain": [
       "'dhyanende'"
      ]
     },
     "execution_count": 108,
     "metadata": {},
     "output_type": "execute_result"
    }
   ],
   "source": [
    "name[0:9]"
   ]
  },
  {
   "cell_type": "code",
   "execution_count": 109,
   "id": "e8493cc0-d560-4ce8-b890-b285205dca75",
   "metadata": {},
   "outputs": [
    {
     "data": {
      "text/plain": [
       "'r pratap singh'"
      ]
     },
     "execution_count": 109,
     "metadata": {},
     "output_type": "execute_result"
    }
   ],
   "source": [
    "name[9:]"
   ]
  },
  {
   "cell_type": "code",
   "execution_count": 110,
   "id": "de2d3031-d8bc-4b41-a22f-6122c130c4b9",
   "metadata": {},
   "outputs": [
    {
     "data": {
      "text/plain": [
       "'ednenayhdr pratap singh'"
      ]
     },
     "execution_count": 110,
     "metadata": {},
     "output_type": "execute_result"
    }
   ],
   "source": [
    "name[:9][::-1]+ name[9:]"
   ]
  },
  {
   "cell_type": "code",
   "execution_count": 111,
   "id": "1fe70b2b-1c84-412f-9584-689ef638d8eb",
   "metadata": {},
   "outputs": [
    {
     "data": {
      "text/plain": [
       "'dhyanender pratap singh'"
      ]
     },
     "execution_count": 111,
     "metadata": {},
     "output_type": "execute_result"
    }
   ],
   "source": [
    "name"
   ]
  },
  {
   "cell_type": "code",
   "execution_count": 112,
   "id": "3559c048-17db-4978-90e4-ddced768196c",
   "metadata": {},
   "outputs": [],
   "source": [
    "a=len(name)//2"
   ]
  },
  {
   "cell_type": "code",
   "execution_count": 114,
   "id": "18961ebb-9971-4afd-93fc-857d327d0e79",
   "metadata": {},
   "outputs": [
    {
     "data": {
      "text/plain": [
       "' rednenayhdpratap singh'"
      ]
     },
     "execution_count": 114,
     "metadata": {},
     "output_type": "execute_result"
    }
   ],
   "source": [
    "name[:a][::-1]+name[a:]"
   ]
  },
  {
   "cell_type": "code",
   "execution_count": 115,
   "id": "f50ed5a7-864b-4cc6-ad0a-c6c108436426",
   "metadata": {},
   "outputs": [
    {
     "data": {
      "text/plain": [
       "'dhyanender hgnis patarp'"
      ]
     },
     "execution_count": 115,
     "metadata": {},
     "output_type": "execute_result"
    }
   ],
   "source": [
    "name[:a]+name[a:][::-1]"
   ]
  },
  {
   "cell_type": "code",
   "execution_count": null,
   "id": "20bbb85d-318b-40b0-9140-2fb82527be8a",
   "metadata": {},
   "outputs": [],
   "source": []
  },
  {
   "cell_type": "code",
   "execution_count": null,
   "id": "b7669bd7-f80b-449b-9e0f-e20aa7bf92af",
   "metadata": {},
   "outputs": [],
   "source": []
  }
 ],
 "metadata": {
  "kernelspec": {
   "display_name": "Python [conda env:base] *",
   "language": "python",
   "name": "conda-base-py"
  },
  "language_info": {
   "codemirror_mode": {
    "name": "ipython",
    "version": 3
   },
   "file_extension": ".py",
   "mimetype": "text/x-python",
   "name": "python",
   "nbconvert_exporter": "python",
   "pygments_lexer": "ipython3",
   "version": "3.13.5"
  }
 },
 "nbformat": 4,
 "nbformat_minor": 5
}
