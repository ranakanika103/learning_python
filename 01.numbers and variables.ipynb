{
 "cells": [
  {
   "cell_type": "markdown",
   "id": "80e32be4-08fb-49af-b02e-d8924010c881",
   "metadata": {
    "jp-MarkdownHeadingCollapsed": true
   },
   "source": [
    "# working with numbers"
   ]
  },
  {
   "cell_type": "markdown",
   "id": "c145aa5d-eed5-4b93-95b9-931f15e37e3f",
   "metadata": {},
   "source": [
    "using a you can add a upper row  using'a' and lower row'b' and using d you can remove the row"
   ]
  },
  {
   "cell_type": "code",
   "execution_count": 1,
   "id": "a738f870-920c-4477-a4da-299793159aa1",
   "metadata": {},
   "outputs": [
    {
     "data": {
      "text/plain": [
       "float"
      ]
     },
     "execution_count": 1,
     "metadata": {},
     "output_type": "execute_result"
    }
   ],
   "source": [
    "type(8/3)"
   ]
  },
  {
   "cell_type": "code",
   "execution_count": 2,
   "id": "af29b172-d5a0-4c7c-b27a-650606267d83",
   "metadata": {},
   "outputs": [
    {
     "data": {
      "text/plain": [
       "243"
      ]
     },
     "execution_count": 2,
     "metadata": {},
     "output_type": "execute_result"
    }
   ],
   "source": [
    "3**5"
   ]
  },
  {
   "cell_type": "code",
   "execution_count": 3,
   "id": "a857e7f3-6389-4c3c-b317-bdf96e728574",
   "metadata": {},
   "outputs": [
    {
     "data": {
      "text/plain": [
       "2.8844991406148166"
      ]
     },
     "execution_count": 3,
     "metadata": {},
     "output_type": "execute_result"
    }
   ],
   "source": [
    "24**(1/3)"
   ]
  },
  {
   "cell_type": "code",
   "execution_count": 4,
   "id": "77b5e3b5-34c5-4026-8b2e-de68765e8314",
   "metadata": {},
   "outputs": [
    {
     "data": {
      "text/plain": [
       "3.142857142857143"
      ]
     },
     "execution_count": 4,
     "metadata": {},
     "output_type": "execute_result"
    }
   ],
   "source": [
    "22/7"
   ]
  },
  {
   "cell_type": "code",
   "execution_count": 5,
   "id": "143467e2-383a-43b4-b5e7-e73c631abe7e",
   "metadata": {},
   "outputs": [
    {
     "data": {
      "text/plain": [
       "3"
      ]
     },
     "execution_count": 5,
     "metadata": {},
     "output_type": "execute_result"
    }
   ],
   "source": [
    "22//7"
   ]
  },
  {
   "cell_type": "code",
   "execution_count": 6,
   "id": "4be2d64c-e7f5-4ea7-8c25-33b7e43f3206",
   "metadata": {},
   "outputs": [
    {
     "data": {
      "text/plain": [
       "1"
      ]
     },
     "execution_count": 6,
     "metadata": {},
     "output_type": "execute_result"
    }
   ],
   "source": [
    "22%7"
   ]
  },
  {
   "cell_type": "markdown",
   "id": "a857ca48-aca6-4787-b7e6-9bfbd040a102",
   "metadata": {},
   "source": [
    "# variables"
   ]
  },
  {
   "cell_type": "code",
   "execution_count": 11,
   "id": "6215eee1-3656-47ed-a0f4-658145443efe",
   "metadata": {},
   "outputs": [],
   "source": [
    "a=5"
   ]
  },
  {
   "cell_type": "code",
   "execution_count": 12,
   "id": "76094874-23fd-4b0e-b967-85f6caae155e",
   "metadata": {},
   "outputs": [
    {
     "data": {
      "text/plain": [
       "5"
      ]
     },
     "execution_count": 12,
     "metadata": {},
     "output_type": "execute_result"
    }
   ],
   "source": [
    "a"
   ]
  },
  {
   "cell_type": "code",
   "execution_count": 14,
   "id": "c4ba5543-5840-4770-9ce1-4f9baeb0618d",
   "metadata": {},
   "outputs": [
    {
     "ename": "SyntaxError",
     "evalue": "invalid syntax (3814840753.py, line 2)",
     "output_type": "error",
     "traceback": [
      "\u001b[1;36m  Cell \u001b[1;32mIn[14], line 2\u001b[1;36m\u001b[0m\n\u001b[1;33m    roll no = 24\u001b[0m\n\u001b[1;37m         ^\u001b[0m\n\u001b[1;31mSyntaxError\u001b[0m\u001b[1;31m:\u001b[0m invalid syntax\n"
     ]
    }
   ],
   "source": [
    "#space in a variable is not allowed\n",
    "roll no = 24"
   ]
  },
  {
   "cell_type": "code",
   "execution_count": 15,
   "id": "5f7b8c23-46e8-4cee-ad61-738f7fccc0b9",
   "metadata": {},
   "outputs": [],
   "source": [
    "#you can write like this it's called SNAKE CASING\n",
    "roll_no=24"
   ]
  },
  {
   "cell_type": "code",
   "execution_count": 16,
   "id": "0d648654-78e3-4409-983a-58d91225f5d6",
   "metadata": {},
   "outputs": [],
   "source": [
    "password_of_wifi=987"
   ]
  },
  {
   "cell_type": "code",
   "execution_count": 18,
   "id": "7911b18a-76e1-446d-b642-ebd33c421a06",
   "metadata": {},
   "outputs": [],
   "source": [
    "#camel casing\n",
    "passwordOfWifiOfIt=9867"
   ]
  },
  {
   "cell_type": "code",
   "execution_count": 20,
   "id": "2fc62f9f-0504-473d-a72d-0d6b2ea30310",
   "metadata": {},
   "outputs": [],
   "source": [
    "#be more specific with your naming \n",
    "dogs=4"
   ]
  },
  {
   "cell_type": "code",
   "execution_count": 21,
   "id": "092952ba-fd3b-4f92-8f1c-7550930dc2d5",
   "metadata": {},
   "outputs": [],
   "source": [
    "#python is a case sensitive language\n",
    "a=8"
   ]
  },
  {
   "cell_type": "code",
   "execution_count": 25,
   "id": "d3951221-311b-410f-b96a-35068056026a",
   "metadata": {},
   "outputs": [],
   "source": [
    "A=6"
   ]
  },
  {
   "cell_type": "code",
   "execution_count": 26,
   "id": "7d471de7-f4d9-425c-a829-e59bec097816",
   "metadata": {},
   "outputs": [
    {
     "data": {
      "text/plain": [
       "6"
      ]
     },
     "execution_count": 26,
     "metadata": {},
     "output_type": "execute_result"
    }
   ],
   "source": [
    "A"
   ]
  },
  {
   "cell_type": "code",
   "execution_count": 27,
   "id": "bdd6b1fc-8a90-4e7f-8e7e-179f70633291",
   "metadata": {},
   "outputs": [
    {
     "data": {
      "text/plain": [
       "8"
      ]
     },
     "execution_count": 27,
     "metadata": {},
     "output_type": "execute_result"
    }
   ],
   "source": [
    "a"
   ]
  },
  {
   "cell_type": "code",
   "execution_count": 28,
   "id": "3dd0dd79-fcb3-43af-baf1-8a7c245750e2",
   "metadata": {},
   "outputs": [],
   "source": [
    "name='kanika'"
   ]
  },
  {
   "cell_type": "code",
   "execution_count": 29,
   "id": "b8f0667b-648f-471e-bb6c-84a1d3544677",
   "metadata": {},
   "outputs": [],
   "source": [
    "Name='Inder'"
   ]
  },
  {
   "cell_type": "code",
   "execution_count": 30,
   "id": "419c5807-d129-49a9-9c22-b34b00f96c82",
   "metadata": {},
   "outputs": [
    {
     "data": {
      "text/plain": [
       "'kanika'"
      ]
     },
     "execution_count": 30,
     "metadata": {},
     "output_type": "execute_result"
    }
   ],
   "source": [
    "name"
   ]
  },
  {
   "cell_type": "code",
   "execution_count": 31,
   "id": "d81eec24-fe07-4624-89cd-054edbee64f3",
   "metadata": {},
   "outputs": [
    {
     "data": {
      "text/plain": [
       "'Inder'"
      ]
     },
     "execution_count": 31,
     "metadata": {},
     "output_type": "execute_result"
    }
   ],
   "source": [
    "Name"
   ]
  },
  {
   "cell_type": "code",
   "execution_count": 32,
   "id": "d14c0dff-5e82-4498-ba93-11ccac2a0e0e",
   "metadata": {},
   "outputs": [
    {
     "ename": "NameError",
     "evalue": "name 'p' is not defined",
     "output_type": "error",
     "traceback": [
      "\u001b[1;31m---------------------------------------------------------------------------\u001b[0m",
      "\u001b[1;31mNameError\u001b[0m                                 Traceback (most recent call last)",
      "Cell \u001b[1;32mIn[32], line 1\u001b[0m\n\u001b[1;32m----> 1\u001b[0m p\n",
      "\u001b[1;31mNameError\u001b[0m: name 'p' is not defined"
     ]
    }
   ],
   "source": [
    "#if variable does not exist then we get a name error\n",
    "p"
   ]
  },
  {
   "cell_type": "code",
   "execution_count": 11,
   "id": "8dbcfc9c-03b4-4c21-8ec5-111267072ea3",
   "metadata": {},
   "outputs": [],
   "source": [
    "#some times students doest not execute cell again after change the value yellow colour shows that cell not execute"
   ]
  },
  {
   "cell_type": "code",
   "execution_count": null,
   "id": "adb4dbeb-79d2-461b-967b-ddafc4ccaadf",
   "metadata": {},
   "outputs": [],
   "source": [
    "n=8"
   ]
  },
  {
   "cell_type": "code",
   "execution_count": 37,
   "id": "1003d4db-3639-452f-b772-e026fb16dc5b",
   "metadata": {},
   "outputs": [
    {
     "data": {
      "text/plain": [
       "10"
      ]
     },
     "execution_count": 37,
     "metadata": {},
     "output_type": "execute_result"
    }
   ],
   "source": [
    "n"
   ]
  },
  {
   "cell_type": "code",
   "execution_count": 57,
   "id": "3e7cb7e6-24e3-4f65-9e52-1f727591ab88",
   "metadata": {},
   "outputs": [],
   "source": [
    "ammount=6"
   ]
  },
  {
   "cell_type": "code",
   "execution_count": 58,
   "id": "aefb3f3e-9d44-45c7-96dd-abf257a380f8",
   "metadata": {},
   "outputs": [
    {
     "data": {
      "text/plain": [
       "8"
      ]
     },
     "execution_count": 58,
     "metadata": {},
     "output_type": "execute_result"
    }
   ],
   "source": [
    "ammount+2"
   ]
  },
  {
   "cell_type": "code",
   "execution_count": 56,
   "id": "c36832ed-4383-4ddb-a520-66ce1d882d27",
   "metadata": {},
   "outputs": [
    {
     "data": {
      "text/plain": [
       "30"
      ]
     },
     "execution_count": 56,
     "metadata": {},
     "output_type": "execute_result"
    }
   ],
   "source": [
    "amount*3"
   ]
  },
  {
   "cell_type": "code",
   "execution_count": 59,
   "id": "2f3712b7-7e3a-4ad9-a71d-d30af0f96ec6",
   "metadata": {},
   "outputs": [
    {
     "data": {
      "text/plain": [
       "6"
      ]
     },
     "execution_count": 59,
     "metadata": {},
     "output_type": "execute_result"
    }
   ],
   "source": [
    "ammount"
   ]
  },
  {
   "cell_type": "code",
   "execution_count": 60,
   "id": "0f161389-c19b-4528-847c-d39ad7abcd45",
   "metadata": {},
   "outputs": [],
   "source": [
    "ammount=10"
   ]
  },
  {
   "cell_type": "code",
   "execution_count": 61,
   "id": "68b89291-ad02-4d27-9221-eee18d1db1d8",
   "metadata": {},
   "outputs": [
    {
     "data": {
      "text/plain": [
       "10"
      ]
     },
     "execution_count": 61,
     "metadata": {},
     "output_type": "execute_result"
    }
   ],
   "source": [
    "ammount"
   ]
  },
  {
   "cell_type": "code",
   "execution_count": 62,
   "id": "6ed37ddc-37b0-431c-bcd4-4febd7a6b77c",
   "metadata": {},
   "outputs": [],
   "source": [
    "ammount= amount+5"
   ]
  },
  {
   "cell_type": "code",
   "execution_count": 63,
   "id": "ea8c981c-3865-43dd-8149-8886521235bb",
   "metadata": {},
   "outputs": [
    {
     "data": {
      "text/plain": [
       "15"
      ]
     },
     "execution_count": 63,
     "metadata": {},
     "output_type": "execute_result"
    }
   ],
   "source": [
    "ammount"
   ]
  },
  {
   "cell_type": "markdown",
   "id": "e6a7f68b-7431-4e84-b332-8bbc74b4d440",
   "metadata": {},
   "source": [
    "# assignment operations"
   ]
  },
  {
   "cell_type": "code",
   "execution_count": 94,
   "id": "eec778d6-d5ae-4b3f-901f-fd91ce464f17",
   "metadata": {},
   "outputs": [],
   "source": [
    "a=10"
   ]
  },
  {
   "cell_type": "code",
   "execution_count": 102,
   "id": "dbcf64da-31b2-486d-bafc-b6be1c74b896",
   "metadata": {},
   "outputs": [],
   "source": [
    "#on running cell again and again value inc. by 1 because we add 1 \n",
    "a=a+1"
   ]
  },
  {
   "cell_type": "code",
   "execution_count": 98,
   "id": "acb7a9a7-3fba-4592-9f88-7f59051b2441",
   "metadata": {},
   "outputs": [
    {
     "data": {
      "text/plain": [
       "12"
      ]
     },
     "execution_count": 98,
     "metadata": {},
     "output_type": "execute_result"
    }
   ],
   "source": [
    "a"
   ]
  },
  {
   "cell_type": "code",
   "execution_count": 99,
   "id": "46eb6815-f377-4103-991e-a99ff7651dc9",
   "metadata": {},
   "outputs": [],
   "source": [
    "a=a+2"
   ]
  },
  {
   "cell_type": "code",
   "execution_count": 100,
   "id": "c413068f-79cd-4d01-bd0d-44a5a0eba9de",
   "metadata": {},
   "outputs": [
    {
     "data": {
      "text/plain": [
       "14"
      ]
     },
     "execution_count": 100,
     "metadata": {},
     "output_type": "execute_result"
    }
   ],
   "source": [
    "a"
   ]
  },
  {
   "cell_type": "code",
   "execution_count": 103,
   "id": "69019023-c07b-4826-b729-93db821c2ff9",
   "metadata": {},
   "outputs": [],
   "source": [
    "a+=1"
   ]
  },
  {
   "cell_type": "code",
   "execution_count": 104,
   "id": "6453e0aa-8627-4f73-b7a6-3d93e843fddf",
   "metadata": {},
   "outputs": [
    {
     "data": {
      "text/plain": [
       "17"
      ]
     },
     "execution_count": 104,
     "metadata": {},
     "output_type": "execute_result"
    }
   ],
   "source": [
    "a"
   ]
  },
  {
   "cell_type": "code",
   "execution_count": 105,
   "id": "f977fe0c-2104-482d-8c38-10fa8b89117c",
   "metadata": {},
   "outputs": [],
   "source": [
    "a-=1"
   ]
  },
  {
   "cell_type": "code",
   "execution_count": 106,
   "id": "398fa5c7-d3fc-42b0-a8bf-8125f6a72624",
   "metadata": {},
   "outputs": [
    {
     "data": {
      "text/plain": [
       "16"
      ]
     },
     "execution_count": 106,
     "metadata": {},
     "output_type": "execute_result"
    }
   ],
   "source": [
    "#on running code againa and again value dec. by 1 because we minus 1\n",
    "a"
   ]
  },
  {
   "cell_type": "code",
   "execution_count": 74,
   "id": "6293e36c-8592-4891-b21b-ec9c0b13e539",
   "metadata": {},
   "outputs": [],
   "source": [
    "a*=2"
   ]
  },
  {
   "cell_type": "code",
   "execution_count": 75,
   "id": "cf213b92-20f2-4f0e-943f-f56c1b49588e",
   "metadata": {},
   "outputs": [
    {
     "data": {
      "text/plain": [
       "26"
      ]
     },
     "execution_count": 75,
     "metadata": {},
     "output_type": "execute_result"
    }
   ],
   "source": [
    "a"
   ]
  },
  {
   "cell_type": "code",
   "execution_count": 76,
   "id": "5824ddbe-9df1-4009-a3ad-40d7136f99dd",
   "metadata": {},
   "outputs": [],
   "source": [
    "a/=2"
   ]
  },
  {
   "cell_type": "code",
   "execution_count": 77,
   "id": "d8753844-fdce-4f07-a815-94fbae808570",
   "metadata": {},
   "outputs": [
    {
     "data": {
      "text/plain": [
       "13.0"
      ]
     },
     "execution_count": 77,
     "metadata": {},
     "output_type": "execute_result"
    }
   ],
   "source": [
    "a"
   ]
  },
  {
   "cell_type": "code",
   "execution_count": 78,
   "id": "518e8c2d-d9a4-4578-bcd0-ab19b0216235",
   "metadata": {},
   "outputs": [],
   "source": [
    "a//=3"
   ]
  },
  {
   "cell_type": "code",
   "execution_count": 79,
   "id": "c5106fbe-5781-4240-ad3d-9ec9f8e25f38",
   "metadata": {},
   "outputs": [
    {
     "data": {
      "text/plain": [
       "4.0"
      ]
     },
     "execution_count": 79,
     "metadata": {},
     "output_type": "execute_result"
    }
   ],
   "source": [
    "a"
   ]
  },
  {
   "cell_type": "code",
   "execution_count": 80,
   "id": "b1477b76-a34d-4c17-ba6b-29117cf3ec63",
   "metadata": {},
   "outputs": [],
   "source": [
    "a%=3"
   ]
  },
  {
   "cell_type": "code",
   "execution_count": 81,
   "id": "e2317f95-11ed-4918-b6a2-2882fd61b779",
   "metadata": {},
   "outputs": [
    {
     "data": {
      "text/plain": [
       "1.0"
      ]
     },
     "execution_count": 81,
     "metadata": {},
     "output_type": "execute_result"
    }
   ],
   "source": [
    "a"
   ]
  },
  {
   "cell_type": "code",
   "execution_count": 82,
   "id": "a5c192db-f8a4-4694-af4b-efdad4eacb8d",
   "metadata": {},
   "outputs": [],
   "source": [
    "a**=2"
   ]
  },
  {
   "cell_type": "code",
   "execution_count": 83,
   "id": "615424dc-403e-4bd2-832c-be886a2372bb",
   "metadata": {},
   "outputs": [
    {
     "data": {
      "text/plain": [
       "1.0"
      ]
     },
     "execution_count": 83,
     "metadata": {},
     "output_type": "execute_result"
    }
   ],
   "source": [
    "a"
   ]
  },
  {
   "cell_type": "code",
   "execution_count": 84,
   "id": "61f91459-3bdf-412b-b060-e80ff68db019",
   "metadata": {},
   "outputs": [
    {
     "ename": "SyntaxError",
     "evalue": "invalid syntax. Perhaps you forgot a comma? (520476512.py, line 1)",
     "output_type": "error",
     "traceback": [
      "\u001b[1;36m  Cell \u001b[1;32mIn[84], line 1\u001b[1;36m\u001b[0m\n\u001b[1;33m    ipynb(interactive python notebook)\u001b[0m\n\u001b[1;37m          ^\u001b[0m\n\u001b[1;31mSyntaxError\u001b[0m\u001b[1;31m:\u001b[0m invalid syntax. Perhaps you forgot a comma?\n"
     ]
    }
   ],
   "source": [
    "ipynb(interactive python notebook)"
   ]
  }
 ],
 "metadata": {
  "kernelspec": {
   "display_name": "Python [conda env:base] *",
   "language": "python",
   "name": "conda-base-py"
  },
  "language_info": {
   "codemirror_mode": {
    "name": "ipython",
    "version": 3
   },
   "file_extension": ".py",
   "mimetype": "text/x-python",
   "name": "python",
   "nbconvert_exporter": "python",
   "pygments_lexer": "ipython3",
   "version": "3.13.5"
  }
 },
 "nbformat": 4,
 "nbformat_minor": 5
}
