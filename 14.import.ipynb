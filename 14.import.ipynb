{
 "cells": [
  {
   "cell_type": "code",
   "execution_count": 2,
   "id": "fe844a09-eae6-49d9-8e9c-e547b7c8cdd2",
   "metadata": {},
   "outputs": [],
   "source": [
    "# install a library\n",
    "# pip install is from command prompt not from python"
   ]
  },
  {
   "cell_type": "code",
   "execution_count": 2,
   "id": "9ca7de46-1072-4cde-afe3-ee0ab18af808",
   "metadata": {},
   "outputs": [
    {
     "name": "stdout",
     "output_type": "stream",
     "text": [
      "Requirement already satisfied: Django==5.2.5 in c:\\users\\ranak\\anaconda3\\lib\\site-packages (5.2.5)\n",
      "Requirement already satisfied: asgiref>=3.8.1 in c:\\users\\ranak\\anaconda3\\lib\\site-packages (from Django==5.2.5) (3.9.1)\n",
      "Requirement already satisfied: sqlparse>=0.3.1 in c:\\users\\ranak\\anaconda3\\lib\\site-packages (from Django==5.2.5) (0.5.3)\n",
      "Requirement already satisfied: tzdata in c:\\users\\ranak\\anaconda3\\lib\\site-packages (from Django==5.2.5) (2025.2)\n",
      "Note: you may need to restart the kernel to use updated packages.\n"
     ]
    }
   ],
   "source": [
    "pip install Django==5.2.5"
   ]
  },
  {
   "cell_type": "code",
   "execution_count": 2,
   "id": "3c133fc2-b457-464c-9952-330dcdb1a28a",
   "metadata": {},
   "outputs": [
    {
     "name": "stdout",
     "output_type": "stream",
     "text": [
      "Requirement already satisfied: pandas in c:\\users\\ranak\\anaconda3\\lib\\site-packages (2.2.3)\n",
      "Requirement already satisfied: numpy>=1.26.0 in c:\\users\\ranak\\anaconda3\\lib\\site-packages (from pandas) (2.1.3)\n",
      "Requirement already satisfied: python-dateutil>=2.8.2 in c:\\users\\ranak\\anaconda3\\lib\\site-packages (from pandas) (2.9.0.post0)\n",
      "Requirement already satisfied: pytz>=2020.1 in c:\\users\\ranak\\anaconda3\\lib\\site-packages (from pandas) (2024.1)\n",
      "Requirement already satisfied: tzdata>=2022.7 in c:\\users\\ranak\\anaconda3\\lib\\site-packages (from pandas) (2025.2)\n",
      "Requirement already satisfied: six>=1.5 in c:\\users\\ranak\\anaconda3\\lib\\site-packages (from python-dateutil>=2.8.2->pandas) (1.17.0)\n",
      "Note: you may need to restart the kernel to use updated packages.\n"
     ]
    }
   ],
   "source": [
    "pip install pandas"
   ]
  },
  {
   "cell_type": "code",
   "execution_count": 3,
   "id": "57da39e0-77b1-4832-a72b-d7df06adb904",
   "metadata": {},
   "outputs": [],
   "source": [
    "import random"
   ]
  },
  {
   "cell_type": "code",
   "execution_count": 4,
   "id": "b97592c8-05e9-4286-8f5a-d00df713aaf7",
   "metadata": {},
   "outputs": [
    {
     "data": {
      "text/plain": [
       "14"
      ]
     },
     "execution_count": 4,
     "metadata": {},
     "output_type": "execute_result"
    }
   ],
   "source": [
    "random.randint(10,20)"
   ]
  },
  {
   "cell_type": "code",
   "execution_count": 6,
   "id": "ec6521d3-e628-49a2-b21e-d33f8fc1c6b6",
   "metadata": {},
   "outputs": [
    {
     "name": "stdout",
     "output_type": "stream",
     "text": [
      "Requirement already satisfied: numpy in c:\\users\\ranak\\anaconda3\\lib\\site-packages (2.1.3)\n",
      "Note: you may need to restart the kernel to use updated packages.\n"
     ]
    }
   ],
   "source": [
    "pip install numpy"
   ]
  },
  {
   "cell_type": "code",
   "execution_count": 7,
   "id": "6bf2a9b6-5530-4e98-a170-2a91e69736f3",
   "metadata": {},
   "outputs": [],
   "source": [
    "import pandas as pd"
   ]
  },
  {
   "cell_type": "code",
   "execution_count": 8,
   "id": "4ab754c5-cdfb-45b1-ad92-a770341baede",
   "metadata": {},
   "outputs": [
    {
     "ename": "NameError",
     "evalue": "name 'pandas' is not defined",
     "output_type": "error",
     "traceback": [
      "\u001b[1;31m---------------------------------------------------------------------------\u001b[0m",
      "\u001b[1;31mNameError\u001b[0m                                 Traceback (most recent call last)",
      "Cell \u001b[1;32mIn[8], line 1\u001b[0m\n\u001b[1;32m----> 1\u001b[0m pandas\n",
      "\u001b[1;31mNameError\u001b[0m: name 'pandas' is not defined"
     ]
    }
   ],
   "source": [
    "pandas"
   ]
  },
  {
   "cell_type": "code",
   "execution_count": 9,
   "id": "e02d98fb-a250-49a7-ae02-51849c021f3b",
   "metadata": {},
   "outputs": [
    {
     "data": {
      "text/plain": [
       "<module 'pandas' from 'C:\\\\Users\\\\ranak\\\\anaconda3\\\\Lib\\\\site-packages\\\\pandas\\\\__init__.py'>"
      ]
     },
     "execution_count": 9,
     "metadata": {},
     "output_type": "execute_result"
    }
   ],
   "source": [
    "pd"
   ]
  },
  {
   "cell_type": "code",
   "execution_count": 10,
   "id": "f48c2177-150b-4ef9-b197-adbb25aaad7f",
   "metadata": {},
   "outputs": [
    {
     "data": {
      "text/html": [
       "<div>\n",
       "<style scoped>\n",
       "    .dataframe tbody tr th:only-of-type {\n",
       "        vertical-align: middle;\n",
       "    }\n",
       "\n",
       "    .dataframe tbody tr th {\n",
       "        vertical-align: top;\n",
       "    }\n",
       "\n",
       "    .dataframe thead th {\n",
       "        text-align: right;\n",
       "    }\n",
       "</style>\n",
       "<table border=\"1\" class=\"dataframe\">\n",
       "  <thead>\n",
       "    <tr style=\"text-align: right;\">\n",
       "      <th></th>\n",
       "      <th>name</th>\n",
       "      <th>age</th>\n",
       "    </tr>\n",
       "  </thead>\n",
       "  <tbody>\n",
       "    <tr>\n",
       "      <th>0</th>\n",
       "      <td>kanika</td>\n",
       "      <td>20</td>\n",
       "    </tr>\n",
       "    <tr>\n",
       "      <th>1</th>\n",
       "      <td>adi</td>\n",
       "      <td>10</td>\n",
       "    </tr>\n",
       "  </tbody>\n",
       "</table>\n",
       "</div>"
      ],
      "text/plain": [
       "     name  age\n",
       "0  kanika   20\n",
       "1     adi   10"
      ]
     },
     "execution_count": 10,
     "metadata": {},
     "output_type": "execute_result"
    }
   ],
   "source": [
    "pd.DataFrame({\"name\":[\"kanika\",\"adi\"], \"age\":[20,10]})"
   ]
  },
  {
   "cell_type": "code",
   "execution_count": 11,
   "id": "0396a117-72a8-4453-a740-a449f623f83f",
   "metadata": {},
   "outputs": [],
   "source": [
    "from random import randint"
   ]
  },
  {
   "cell_type": "code",
   "execution_count": 18,
   "id": "14112661-45a1-441c-9cc6-343b66377b4e",
   "metadata": {},
   "outputs": [
    {
     "data": {
      "text/plain": [
       "23"
      ]
     },
     "execution_count": 18,
     "metadata": {},
     "output_type": "execute_result"
    }
   ],
   "source": [
    "randint(20,25)"
   ]
  },
  {
   "cell_type": "code",
   "execution_count": 19,
   "id": "c2ae4e9a-df05-4dd0-ae17-13ec71ab6a60",
   "metadata": {},
   "outputs": [],
   "source": [
    "# don't ever use \n",
    "#from random import * (* use to import all files at once but by doimg this our files clash)"
   ]
  },
  {
   "cell_type": "code",
   "execution_count": null,
   "id": "56ad8f6a-120e-4c9e-9786-59817030ba3e",
   "metadata": {},
   "outputs": [],
   "source": []
  },
  {
   "cell_type": "code",
   "execution_count": 13,
   "id": "f40cd0f5-efb4-4cb1-9230-deb6d31765b5",
   "metadata": {},
   "outputs": [],
   "source": [
    "from datetime import datetime"
   ]
  },
  {
   "cell_type": "code",
   "execution_count": 14,
   "id": "27cd2cb4-9b0b-4eb9-980d-3c240b2f16a9",
   "metadata": {},
   "outputs": [
    {
     "data": {
      "text/plain": [
       "datetime.datetime(2025, 8, 19, 17, 23, 12, 815755)"
      ]
     },
     "execution_count": 14,
     "metadata": {},
     "output_type": "execute_result"
    }
   ],
   "source": [
    "datetime.today()"
   ]
  },
  {
   "cell_type": "code",
   "execution_count": 15,
   "id": "514da56d-8850-4c78-aca6-9752696a3ec3",
   "metadata": {},
   "outputs": [
    {
     "data": {
      "text/plain": [
       "datetime.datetime(2025, 8, 19, 17, 23, 13, 335120)"
      ]
     },
     "execution_count": 15,
     "metadata": {},
     "output_type": "execute_result"
    }
   ],
   "source": [
    "datetime.now()"
   ]
  },
  {
   "cell_type": "code",
   "execution_count": 16,
   "id": "c869b6a4-c2e7-40cd-ae83-fdc4aacd6385",
   "metadata": {},
   "outputs": [],
   "source": [
    "a=datetime.now()"
   ]
  },
  {
   "cell_type": "code",
   "execution_count": 17,
   "id": "5067623e-15ab-4a20-a19d-f3956e097205",
   "metadata": {},
   "outputs": [
    {
     "data": {
      "text/plain": [
       "19"
      ]
     },
     "execution_count": 17,
     "metadata": {},
     "output_type": "execute_result"
    }
   ],
   "source": [
    "a.day"
   ]
  },
  {
   "cell_type": "code",
   "execution_count": 28,
   "id": "fa3aa43f-9ce5-4880-81a9-d79c38333d85",
   "metadata": {},
   "outputs": [
    {
     "data": {
      "text/plain": [
       "datetime.date(2025, 8, 19)"
      ]
     },
     "execution_count": 28,
     "metadata": {},
     "output_type": "execute_result"
    }
   ],
   "source": [
    "a.date()"
   ]
  },
  {
   "cell_type": "code",
   "execution_count": 32,
   "id": "aee57c8b-17d2-41ce-bceb-7930e44f5b25",
   "metadata": {},
   "outputs": [
    {
     "data": {
      "text/plain": [
       "13"
      ]
     },
     "execution_count": 32,
     "metadata": {},
     "output_type": "execute_result"
    }
   ],
   "source": [
    "a.hour"
   ]
  },
  {
   "cell_type": "code",
   "execution_count": 34,
   "id": "fac6ed03-863f-4753-8833-ce36624889a1",
   "metadata": {},
   "outputs": [
    {
     "data": {
      "text/plain": [
       "datetime.IsoCalendarDate(year=2025, week=34, weekday=2)"
      ]
     },
     "execution_count": 34,
     "metadata": {},
     "output_type": "execute_result"
    }
   ],
   "source": [
    "a.isocalendar()"
   ]
  },
  {
   "cell_type": "code",
   "execution_count": 36,
   "id": "260f89a6-10c5-4c2f-ab82-bcc0f22c5e82",
   "metadata": {},
   "outputs": [
    {
     "data": {
      "text/plain": [
       "datetime.datetime(9999, 12, 31, 23, 59, 59, 999999)"
      ]
     },
     "execution_count": 36,
     "metadata": {},
     "output_type": "execute_result"
    }
   ],
   "source": [
    "a.max "
   ]
  },
  {
   "cell_type": "code",
   "execution_count": 37,
   "id": "63579d7c-8ad6-45a4-8a81-e64dfd45d02d",
   "metadata": {},
   "outputs": [
    {
     "data": {
      "text/plain": [
       "datetime.datetime(1, 1, 1, 0, 0)"
      ]
     },
     "execution_count": 37,
     "metadata": {},
     "output_type": "execute_result"
    }
   ],
   "source": [
    "a.min"
   ]
  },
  {
   "cell_type": "code",
   "execution_count": 39,
   "id": "08c87b03-2952-4bc7-be6e-5ff864141ea1",
   "metadata": {},
   "outputs": [
    {
     "data": {
      "text/plain": [
       "datetime.date(2025, 8, 19)"
      ]
     },
     "execution_count": 39,
     "metadata": {},
     "output_type": "execute_result"
    }
   ],
   "source": [
    "datetime.date(a)"
   ]
  },
  {
   "cell_type": "code",
   "execution_count": 41,
   "id": "16960f1e-c67c-417a-bdcd-b08cd65eeea9",
   "metadata": {},
   "outputs": [
    {
     "data": {
      "text/plain": [
       "datetime.time(13, 15, 9, 689439)"
      ]
     },
     "execution_count": 41,
     "metadata": {},
     "output_type": "execute_result"
    }
   ],
   "source": [
    "datetime.time(a)"
   ]
  },
  {
   "cell_type": "code",
   "execution_count": 18,
   "id": "2c715d1b-4fb5-4e09-b298-31cf1fb755ce",
   "metadata": {},
   "outputs": [],
   "source": [
    "d=datetime(2005,8,15)"
   ]
  },
  {
   "cell_type": "code",
   "execution_count": 43,
   "id": "50fde256-9bab-4195-bd2d-fe9ca6bfda42",
   "metadata": {},
   "outputs": [
    {
     "data": {
      "text/plain": [
       "datetime.datetime(2005, 8, 15, 0, 0)"
      ]
     },
     "execution_count": 43,
     "metadata": {},
     "output_type": "execute_result"
    }
   ],
   "source": [
    "d"
   ]
  },
  {
   "cell_type": "code",
   "execution_count": 28,
   "id": "b142c90a-4520-459e-95a7-cef171f01bbd",
   "metadata": {},
   "outputs": [
    {
     "data": {
      "text/plain": [
       "'08'"
      ]
     },
     "execution_count": 28,
     "metadata": {},
     "output_type": "execute_result"
    }
   ],
   "source": [
    "datetime.strftime(d,\"%m\")"
   ]
  },
  {
   "cell_type": "code",
   "execution_count": 48,
   "id": "da3d3f1e-64a4-426a-b998-5fa9db92e8c7",
   "metadata": {},
   "outputs": [
    {
     "data": {
      "text/plain": [
       "'2005'"
      ]
     },
     "execution_count": 48,
     "metadata": {},
     "output_type": "execute_result"
    }
   ],
   "source": [
    "datetime.strftime(d,\"%Y\")"
   ]
  },
  {
   "cell_type": "code",
   "execution_count": 49,
   "id": "876cb16c-5eb3-443f-9ec2-0961e0a25363",
   "metadata": {},
   "outputs": [
    {
     "data": {
      "text/plain": [
       "'05'"
      ]
     },
     "execution_count": 49,
     "metadata": {},
     "output_type": "execute_result"
    }
   ],
   "source": [
    "datetime.strftime(d,\"%y\")"
   ]
  },
  {
   "cell_type": "code",
   "execution_count": 50,
   "id": "911e7336-5a9e-4d4d-808d-920c58251b15",
   "metadata": {},
   "outputs": [
    {
     "data": {
      "text/plain": [
       "'00'"
      ]
     },
     "execution_count": 50,
     "metadata": {},
     "output_type": "execute_result"
    }
   ],
   "source": [
    "datetime.strftime(d,\"%M\")"
   ]
  },
  {
   "cell_type": "code",
   "execution_count": 51,
   "id": "0e51cd61-0773-45d9-b8d7-d0f38f405bed",
   "metadata": {},
   "outputs": [
    {
     "data": {
      "text/plain": [
       "'08'"
      ]
     },
     "execution_count": 51,
     "metadata": {},
     "output_type": "execute_result"
    }
   ],
   "source": [
    "datetime.strftime(d,\"%m\")"
   ]
  },
  {
   "cell_type": "code",
   "execution_count": 52,
   "id": "791cb35a-fa32-4dba-9345-0386bbdcca93",
   "metadata": {},
   "outputs": [
    {
     "data": {
      "text/plain": [
       "'Mon'"
      ]
     },
     "execution_count": 52,
     "metadata": {},
     "output_type": "execute_result"
    }
   ],
   "source": [
    "datetime.strftime(d,\"%a\")"
   ]
  },
  {
   "cell_type": "code",
   "execution_count": 53,
   "id": "ce94e089-16eb-46e7-aefd-0d9df80604a1",
   "metadata": {},
   "outputs": [
    {
     "data": {
      "text/plain": [
       "'Monday'"
      ]
     },
     "execution_count": 53,
     "metadata": {},
     "output_type": "execute_result"
    }
   ],
   "source": [
    "datetime.strftime(d,\"%A\")"
   ]
  },
  {
   "cell_type": "code",
   "execution_count": 19,
   "id": "cbed8a6b-c121-488b-80e8-e0fe8b397440",
   "metadata": {},
   "outputs": [
    {
     "data": {
      "text/plain": [
       "'2005 / 08 / 15'"
      ]
     },
     "execution_count": 19,
     "metadata": {},
     "output_type": "execute_result"
    }
   ],
   "source": [
    "datetime.strftime(d,\"%Y / %m / %d\")"
   ]
  },
  {
   "cell_type": "code",
   "execution_count": 8,
   "id": "9885ce99-5228-4ea8-b505-63d427603057",
   "metadata": {},
   "outputs": [
    {
     "data": {
      "text/plain": [
       "'19 August 2025'"
      ]
     },
     "execution_count": 8,
     "metadata": {},
     "output_type": "execute_result"
    }
   ],
   "source": [
    "datetime.strftime(datetime.now(),\"%d %B %Y\")"
   ]
  },
  {
   "cell_type": "code",
   "execution_count": 9,
   "id": "e6cc6ed0-b849-49dd-a76a-ddbf2929aa42",
   "metadata": {},
   "outputs": [],
   "source": [
    "from random import choice,choices"
   ]
  },
  {
   "cell_type": "code",
   "execution_count": 10,
   "id": "3c763da6-3c6b-49f9-8909-208563622e9d",
   "metadata": {},
   "outputs": [
    {
     "data": {
      "text/plain": [
       "'a'"
      ]
     },
     "execution_count": 10,
     "metadata": {},
     "output_type": "execute_result"
    }
   ],
   "source": [
    "choice([\"a\",\"b\",\"c\",\"d\"])"
   ]
  },
  {
   "cell_type": "code",
   "execution_count": 11,
   "id": "3a47acb9-2e4f-4866-8b7f-d54db4988ef9",
   "metadata": {},
   "outputs": [
    {
     "data": {
      "text/plain": [
       "['a', 'a']"
      ]
     },
     "execution_count": 11,
     "metadata": {},
     "output_type": "execute_result"
    }
   ],
   "source": [
    "choices([\"a\",\"b\",\"c\"] ,k=2)"
   ]
  },
  {
   "cell_type": "code",
   "execution_count": null,
   "id": "d52c4edb-c8b2-416f-bd5d-3997b4741183",
   "metadata": {},
   "outputs": [],
   "source": []
  },
  {
   "cell_type": "code",
   "execution_count": null,
   "id": "d07bde0b-8f78-4a0b-b2dd-62a3b7abf4d8",
   "metadata": {},
   "outputs": [],
   "source": []
  },
  {
   "cell_type": "code",
   "execution_count": null,
   "id": "af0e36cf-8b60-4985-83df-fa453618fe3f",
   "metadata": {},
   "outputs": [],
   "source": []
  },
  {
   "cell_type": "code",
   "execution_count": null,
   "id": "ac032c84-69ff-4931-b3ab-11556293b520",
   "metadata": {},
   "outputs": [],
   "source": []
  },
  {
   "cell_type": "code",
   "execution_count": null,
   "id": "26e707e0-1e21-4eda-8842-2fcd177ec41d",
   "metadata": {},
   "outputs": [],
   "source": []
  },
  {
   "cell_type": "code",
   "execution_count": null,
   "id": "48b68f42-57fa-4477-b498-5302e511d668",
   "metadata": {},
   "outputs": [],
   "source": []
  },
  {
   "cell_type": "code",
   "execution_count": null,
   "id": "14dffc0c-514a-45cd-96b9-cb594f833f1d",
   "metadata": {},
   "outputs": [],
   "source": []
  },
  {
   "cell_type": "code",
   "execution_count": null,
   "id": "d490138f-f0e6-4b72-b08e-28cbc62f3aa1",
   "metadata": {},
   "outputs": [],
   "source": []
  },
  {
   "cell_type": "code",
   "execution_count": null,
   "id": "5da606ba-7ff7-4162-95ab-5b43204825cd",
   "metadata": {},
   "outputs": [],
   "source": []
  },
  {
   "cell_type": "code",
   "execution_count": null,
   "id": "d022789b-94d9-403c-8eb3-f2e57fe35b1b",
   "metadata": {},
   "outputs": [],
   "source": []
  },
  {
   "cell_type": "code",
   "execution_count": null,
   "id": "689cfd21-479c-4fcf-bfbf-fbdab54f2752",
   "metadata": {},
   "outputs": [],
   "source": []
  },
  {
   "cell_type": "code",
   "execution_count": null,
   "id": "d3a5b2e1-9a74-4237-a1e3-194c04c3456e",
   "metadata": {},
   "outputs": [],
   "source": []
  },
  {
   "cell_type": "code",
   "execution_count": null,
   "id": "dcc452f2-a43c-4641-9ed7-d77c5b73551a",
   "metadata": {},
   "outputs": [],
   "source": []
  },
  {
   "cell_type": "code",
   "execution_count": null,
   "id": "f523d88c-4000-4d3e-96ed-e3251d62730b",
   "metadata": {},
   "outputs": [],
   "source": []
  },
  {
   "cell_type": "code",
   "execution_count": null,
   "id": "e1150676-fd2c-435f-b222-55c3a91dcb5a",
   "metadata": {},
   "outputs": [],
   "source": []
  },
  {
   "cell_type": "code",
   "execution_count": null,
   "id": "a71b4cb4-4d35-4572-b4b7-3a4668415b90",
   "metadata": {},
   "outputs": [],
   "source": []
  },
  {
   "cell_type": "code",
   "execution_count": null,
   "id": "eaaabf9d-96c4-4214-8c95-f8c409d96271",
   "metadata": {},
   "outputs": [],
   "source": []
  }
 ],
 "metadata": {
  "kernelspec": {
   "display_name": "Python [conda env:base] *",
   "language": "python",
   "name": "conda-base-py"
  },
  "language_info": {
   "codemirror_mode": {
    "name": "ipython",
    "version": 3
   },
   "file_extension": ".py",
   "mimetype": "text/x-python",
   "name": "python",
   "nbconvert_exporter": "python",
   "pygments_lexer": "ipython3",
   "version": "3.13.5"
  }
 },
 "nbformat": 4,
 "nbformat_minor": 5
}
