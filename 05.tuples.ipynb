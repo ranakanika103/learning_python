{
 "cells": [
  {
   "cell_type": "markdown",
   "id": "61204091-e997-4134-b05a-c2bf9e34c778",
   "metadata": {
    "jp-MarkdownHeadingCollapsed": true
   },
   "source": [
    "# tuples"
   ]
  },
  {
   "cell_type": "code",
   "execution_count": 57,
   "id": "294b7c10-52e5-426e-87fc-41dde30e93bf",
   "metadata": {},
   "outputs": [],
   "source": [
    "#you use tuples to store multiples items (penthathis () are these brackets)\n",
    "dogs=(\"tom\",\"jack\",\"rocky\")"
   ]
  },
  {
   "cell_type": "code",
   "execution_count": 2,
   "id": "a0012f6e-0620-4a7c-a2ef-7f0d8368e912",
   "metadata": {},
   "outputs": [
    {
     "data": {
      "text/plain": [
       "('tom', 'jack', 'rocky')"
      ]
     },
     "execution_count": 2,
     "metadata": {},
     "output_type": "execute_result"
    }
   ],
   "source": [
    "dogs"
   ]
  },
  {
   "cell_type": "code",
   "execution_count": 4,
   "id": "cc070127-b1f4-467c-8355-9e0696f6dc66",
   "metadata": {},
   "outputs": [
    {
     "data": {
      "text/plain": [
       "(2, 3, 8)"
      ]
     },
     "execution_count": 4,
     "metadata": {},
     "output_type": "execute_result"
    }
   ],
   "source": [
    "#commas and seperate values are aslo considered as tuples\n",
    "2,3,8"
   ]
  },
  {
   "cell_type": "code",
   "execution_count": 5,
   "id": "93f8f2ad-a2b3-428b-90b4-233da63696f3",
   "metadata": {},
   "outputs": [
    {
     "data": {
      "text/plain": [
       "(('tom', 'jack', 'rocky'), 8, 10)"
      ]
     },
     "execution_count": 5,
     "metadata": {},
     "output_type": "execute_result"
    }
   ],
   "source": [
    "dogs, 8, 10"
   ]
  },
  {
   "cell_type": "markdown",
   "id": "c7a97616-4fe3-4e61-8222-94b74bfc7264",
   "metadata": {},
   "source": [
    "## tuple unpacking"
   ]
  },
  {
   "cell_type": "code",
   "execution_count": 12,
   "id": "d5673b80-1c12-4d0d-929b-77182f4ba3b7",
   "metadata": {},
   "outputs": [],
   "source": [
    "\n",
    "a,b=5,8"
   ]
  },
  {
   "cell_type": "code",
   "execution_count": 7,
   "id": "e855b3aa-4259-4e0e-983b-62c154f1d200",
   "metadata": {},
   "outputs": [
    {
     "data": {
      "text/plain": [
       "5"
      ]
     },
     "execution_count": 7,
     "metadata": {},
     "output_type": "execute_result"
    }
   ],
   "source": [
    "a"
   ]
  },
  {
   "cell_type": "code",
   "execution_count": 8,
   "id": "2cfe9787-a77c-4bb7-9240-b2a46a9dbf00",
   "metadata": {},
   "outputs": [
    {
     "data": {
      "text/plain": [
       "8"
      ]
     },
     "execution_count": 8,
     "metadata": {},
     "output_type": "execute_result"
    }
   ],
   "source": [
    "b"
   ]
  },
  {
   "cell_type": "code",
   "execution_count": 9,
   "id": "97079385-99b1-45b7-9863-89cd33185649",
   "metadata": {},
   "outputs": [],
   "source": [
    "a,b=b,a"
   ]
  },
  {
   "cell_type": "code",
   "execution_count": 10,
   "id": "cfb0edbf-eb05-4504-b062-444e1d575190",
   "metadata": {},
   "outputs": [
    {
     "data": {
      "text/plain": [
       "8"
      ]
     },
     "execution_count": 10,
     "metadata": {},
     "output_type": "execute_result"
    }
   ],
   "source": [
    "a"
   ]
  },
  {
   "cell_type": "code",
   "execution_count": 11,
   "id": "ded9f77c-5140-45bb-a169-6d7390ce34ad",
   "metadata": {},
   "outputs": [
    {
     "data": {
      "text/plain": [
       "5"
      ]
     },
     "execution_count": 11,
     "metadata": {},
     "output_type": "execute_result"
    }
   ],
   "source": [
    "b"
   ]
  },
  {
   "cell_type": "markdown",
   "id": "021cfcea-9f30-4a14-9200-3cbbc7a09558",
   "metadata": {},
   "source": [
    "## tuple understanding\n",
    "\n",
    "### tuples are ordered squence(means in ordered squence we can do indexing and silicing)"
   ]
  },
  {
   "cell_type": "code",
   "execution_count": 24,
   "id": "0fac575f-9893-452a-9026-cc4e3a5e86bf",
   "metadata": {},
   "outputs": [
    {
     "data": {
      "text/plain": [
       "('tom', 'jack', 'rocky')"
      ]
     },
     "execution_count": 24,
     "metadata": {},
     "output_type": "execute_result"
    }
   ],
   "source": [
    "#strings tuples and list these three are ordered squence\n",
    "dogs"
   ]
  },
  {
   "cell_type": "code",
   "execution_count": 15,
   "id": "8a849198-03d7-4643-aa60-62009e227d0c",
   "metadata": {},
   "outputs": [
    {
     "data": {
      "text/plain": [
       "'tom'"
      ]
     },
     "execution_count": 15,
     "metadata": {},
     "output_type": "execute_result"
    }
   ],
   "source": [
    "dogs[0]"
   ]
  },
  {
   "cell_type": "code",
   "execution_count": 23,
   "id": "3215d407-adf3-4910-8f37-4b216e3fba8a",
   "metadata": {},
   "outputs": [
    {
     "data": {
      "text/plain": [
       "'rocky'"
      ]
     },
     "execution_count": 23,
     "metadata": {},
     "output_type": "execute_result"
    }
   ],
   "source": [
    "dogs[2][:]"
   ]
  },
  {
   "cell_type": "code",
   "execution_count": 17,
   "id": "e75e63dd-f3dd-44c8-92b7-379f50ce93a0",
   "metadata": {},
   "outputs": [
    {
     "data": {
      "text/plain": [
       "'m'"
      ]
     },
     "execution_count": 17,
     "metadata": {},
     "output_type": "execute_result"
    }
   ],
   "source": [
    "dogs[0][2]"
   ]
  },
  {
   "cell_type": "code",
   "execution_count": 19,
   "id": "30a2e0b5-3e80-42c5-aa28-de2d840850fd",
   "metadata": {},
   "outputs": [
    {
     "data": {
      "text/plain": [
       "'j'"
      ]
     },
     "execution_count": 19,
     "metadata": {},
     "output_type": "execute_result"
    }
   ],
   "source": [
    "dogs[1][0]"
   ]
  },
  {
   "cell_type": "code",
   "execution_count": 37,
   "id": "bf1bdcf7-df3b-4299-9e7e-e1b3f201ac18",
   "metadata": {},
   "outputs": [
    {
     "ename": "NameError",
     "evalue": "name 'bili' is not defined",
     "output_type": "error",
     "traceback": [
      "\u001b[1;31m---------------------------------------------------------------------------\u001b[0m",
      "\u001b[1;31mNameError\u001b[0m                                 Traceback (most recent call last)",
      "Cell \u001b[1;32mIn[37], line 2\u001b[0m\n\u001b[0;32m      1\u001b[0m \u001b[38;5;66;03m#in tuples we can't change items\u001b[39;00m\n\u001b[1;32m----> 2\u001b[0m dogs[\u001b[38;5;241m0\u001b[39m]\u001b[38;5;241m=\u001b[39m[bili]\n",
      "\u001b[1;31mNameError\u001b[0m: name 'bili' is not defined"
     ]
    }
   ],
   "source": [
    "#in tuples we can't change items\n",
    "dogs[0]=[bili]"
   ]
  },
  {
   "cell_type": "code",
   "execution_count": 38,
   "id": "340c472c-38b7-4946-aad5-18e32193b5da",
   "metadata": {},
   "outputs": [
    {
     "ename": "TypeError",
     "evalue": "'str' object does not support item assignment",
     "output_type": "error",
     "traceback": [
      "\u001b[1;31m---------------------------------------------------------------------------\u001b[0m",
      "\u001b[1;31mTypeError\u001b[0m                                 Traceback (most recent call last)",
      "Cell \u001b[1;32mIn[38], line 2\u001b[0m\n\u001b[0;32m      1\u001b[0m \u001b[38;5;66;03m# in string also we can't change item\u001b[39;00m\n\u001b[1;32m----> 2\u001b[0m \u001b[38;5;124m\"\u001b[39m\u001b[38;5;124mkanika\u001b[39m\u001b[38;5;124m\"\u001b[39m[\u001b[38;5;241m0\u001b[39m]\u001b[38;5;241m=\u001b[39m\u001b[38;5;124m\"\u001b[39m\u001b[38;5;124ma\u001b[39m\u001b[38;5;124m\"\u001b[39m\n",
      "\u001b[1;31mTypeError\u001b[0m: 'str' object does not support item assignment"
     ]
    }
   ],
   "source": [
    "# in string also we can't change item\n",
    "\"kanika\"[0]=\"a\""
   ]
  },
  {
   "cell_type": "code",
   "execution_count": 29,
   "id": "cf31b634-ae0a-470a-818c-3d8c085722ff",
   "metadata": {},
   "outputs": [
    {
     "data": {
      "text/plain": [
       "[100, 2, 3]"
      ]
     },
     "execution_count": 29,
     "metadata": {},
     "output_type": "execute_result"
    }
   ],
   "source": [
    "# but in list we can change items\n",
    "li=[1,2,3]\n",
    "li[0]=100\n",
    "li"
   ]
  },
  {
   "cell_type": "code",
   "execution_count": 36,
   "id": "ba9ff4fd-a647-4e67-853f-c921f0bcf922",
   "metadata": {},
   "outputs": [
    {
     "data": {
      "text/plain": [
       "1"
      ]
     },
     "execution_count": 36,
     "metadata": {},
     "output_type": "execute_result"
    }
   ],
   "source": [
    "# we can only count and index value in tuple\n",
    "dogs.count(\"tom\")"
   ]
  },
  {
   "cell_type": "code",
   "execution_count": 53,
   "id": "fd4f3f7a-b21a-423c-a77e-18558a9120ba",
   "metadata": {},
   "outputs": [],
   "source": [
    "tu=(1,1,1,2,5,2,3,4,2,5)"
   ]
  },
  {
   "cell_type": "code",
   "execution_count": 34,
   "id": "901014db-5bf8-4124-924c-f11fd2b973e3",
   "metadata": {},
   "outputs": [
    {
     "data": {
      "text/plain": [
       "2"
      ]
     },
     "execution_count": 34,
     "metadata": {},
     "output_type": "execute_result"
    }
   ],
   "source": [
    "tu.count(5)"
   ]
  },
  {
   "cell_type": "code",
   "execution_count": 35,
   "id": "d5ee210a-7891-47dc-914c-a425b879f835",
   "metadata": {},
   "outputs": [
    {
     "data": {
      "text/plain": [
       "3"
      ]
     },
     "execution_count": 35,
     "metadata": {},
     "output_type": "execute_result"
    }
   ],
   "source": [
    "tu.count(1)"
   ]
  },
  {
   "cell_type": "code",
   "execution_count": 40,
   "id": "ae3fcdab-d3b8-43ff-a6f3-267e4b61964a",
   "metadata": {},
   "outputs": [
    {
     "data": {
      "text/plain": [
       "7"
      ]
     },
     "execution_count": 40,
     "metadata": {},
     "output_type": "execute_result"
    }
   ],
   "source": [
    "tu.index(4)"
   ]
  },
  {
   "cell_type": "code",
   "execution_count": 41,
   "id": "5e9d4f7a-8930-4920-b6e7-d00958455713",
   "metadata": {},
   "outputs": [
    {
     "data": {
      "text/plain": [
       "4"
      ]
     },
     "execution_count": 41,
     "metadata": {},
     "output_type": "execute_result"
    }
   ],
   "source": [
    "tu.index(5)"
   ]
  },
  {
   "cell_type": "code",
   "execution_count": 43,
   "id": "bb916520-1b0a-4809-8248-57e8fb0c436e",
   "metadata": {},
   "outputs": [
    {
     "data": {
      "text/plain": [
       "0"
      ]
     },
     "execution_count": 43,
     "metadata": {},
     "output_type": "execute_result"
    }
   ],
   "source": [
    "tu.index(1)"
   ]
  },
  {
   "cell_type": "markdown",
   "id": "82fa5865-7f0a-49b7-b4b5-979fa99cee30",
   "metadata": {},
   "source": [
    "## indexing slicing"
   ]
  },
  {
   "cell_type": "code",
   "execution_count": 54,
   "id": "55c70bf9-809c-4ddf-bc57-f9cad0d3c191",
   "metadata": {},
   "outputs": [
    {
     "data": {
      "text/plain": [
       "(5, 2, 3, 4)"
      ]
     },
     "execution_count": 54,
     "metadata": {},
     "output_type": "execute_result"
    }
   ],
   "source": [
    "# you can also do indexing sclicing in tuples \n",
    "tu[4:8]"
   ]
  },
  {
   "cell_type": "code",
   "execution_count": 50,
   "id": "6aee0d3a-6011-4007-a433-99bff58d9c88",
   "metadata": {},
   "outputs": [],
   "source": [
    "#we can change value in tuple in this way\n",
    "tu=tu[4:8]"
   ]
  },
  {
   "cell_type": "code",
   "execution_count": 47,
   "id": "fff47e01-8ba1-45fd-b984-45fd8e40ec3f",
   "metadata": {},
   "outputs": [
    {
     "data": {
      "text/plain": [
       "(5, 2, 3, 4)"
      ]
     },
     "execution_count": 47,
     "metadata": {},
     "output_type": "execute_result"
    }
   ],
   "source": [
    "tu"
   ]
  },
  {
   "cell_type": "code",
   "execution_count": 55,
   "id": "d966db34-eb74-4047-96f7-2ec52623a7be",
   "metadata": {},
   "outputs": [
    {
     "data": {
      "text/plain": [
       "'ack'"
      ]
     },
     "execution_count": 55,
     "metadata": {},
     "output_type": "execute_result"
    }
   ],
   "source": [
    "dogs[1][1:4]"
   ]
  },
  {
   "cell_type": "code",
   "execution_count": 63,
   "id": "a98d0547-eb7b-4019-9424-1540738d3a31",
   "metadata": {},
   "outputs": [
    {
     "data": {
      "text/plain": [
       "('tom', 'jack', 'rocky')"
      ]
     },
     "execution_count": 63,
     "metadata": {},
     "output_type": "execute_result"
    }
   ],
   "source": [
    "dogs"
   ]
  },
  {
   "cell_type": "code",
   "execution_count": 65,
   "id": "7029e807-f719-4933-801e-dab9d9be1193",
   "metadata": {},
   "outputs": [
    {
     "data": {
      "text/plain": [
       "('jack',)"
      ]
     },
     "execution_count": 65,
     "metadata": {},
     "output_type": "execute_result"
    }
   ],
   "source": [
    "#slicing sai jo cheej bhar ati hai vo tuple hoti hai \n",
    "#slicing\n",
    "dogs[1:2]"
   ]
  },
  {
   "cell_type": "code",
   "execution_count": 61,
   "id": "1e9316c1-5d43-42e2-9f52-c50c7b007b17",
   "metadata": {},
   "outputs": [
    {
     "data": {
      "text/plain": [
       "'jack'"
      ]
     },
     "execution_count": 61,
     "metadata": {},
     "output_type": "execute_result"
    }
   ],
   "source": [
    "#indexing give output not in tuple\n",
    "dogs[1]"
   ]
  },
  {
   "cell_type": "code",
   "execution_count": null,
   "id": "29d96e0a-33cf-474f-b0b8-304983da7e71",
   "metadata": {},
   "outputs": [],
   "source": []
  }
 ],
 "metadata": {
  "kernelspec": {
   "display_name": "Python [conda env:base] *",
   "language": "python",
   "name": "conda-base-py"
  },
  "language_info": {
   "codemirror_mode": {
    "name": "ipython",
    "version": 3
   },
   "file_extension": ".py",
   "mimetype": "text/x-python",
   "name": "python",
   "nbconvert_exporter": "python",
   "pygments_lexer": "ipython3",
   "version": "3.13.5"
  }
 },
 "nbformat": 4,
 "nbformat_minor": 5
}
