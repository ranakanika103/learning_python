{
 "cells": [
  {
   "cell_type": "markdown",
   "id": "3107eae1-5c8c-4779-878e-582fa2402477",
   "metadata": {},
   "source": [
    "# booleans"
   ]
  },
  {
   "cell_type": "code",
   "execution_count": 1,
   "id": "558d6416-254d-4aea-bfb7-07f5a30a4851",
   "metadata": {},
   "outputs": [
    {
     "data": {
      "text/plain": [
       "1"
      ]
     },
     "execution_count": 1,
     "metadata": {},
     "output_type": "execute_result"
    }
   ],
   "source": [
    "0 or 1"
   ]
  },
  {
   "cell_type": "code",
   "execution_count": 12,
   "id": "8b989f50-15cc-48ea-ae3b-cf57acefc540",
   "metadata": {},
   "outputs": [
    {
     "data": {
      "text/plain": [
       "1"
      ]
     },
     "execution_count": 12,
     "metadata": {},
     "output_type": "execute_result"
    }
   ],
   "source": [
    "#in boolean write first letter in capital\n",
    "int(True)"
   ]
  },
  {
   "cell_type": "code",
   "execution_count": 13,
   "id": "37ee53e7-7aa0-47ca-9f32-9f2b1c75be07",
   "metadata": {},
   "outputs": [
    {
     "data": {
      "text/plain": [
       "0"
      ]
     },
     "execution_count": 13,
     "metadata": {},
     "output_type": "execute_result"
    }
   ],
   "source": [
    "#only zero,none and blank text in  boolean is false rather all numbers are true\n",
    "int(False)"
   ]
  },
  {
   "cell_type": "code",
   "execution_count": 5,
   "id": "0fdcbfaa-b23d-4127-9162-27f171a5192f",
   "metadata": {},
   "outputs": [
    {
     "data": {
      "text/plain": [
       "True"
      ]
     },
     "execution_count": 5,
     "metadata": {},
     "output_type": "execute_result"
    }
   ],
   "source": [
    "bool(5)"
   ]
  },
  {
   "cell_type": "code",
   "execution_count": 6,
   "id": "49ef2007-96c1-4322-9ef3-e93e837768aa",
   "metadata": {},
   "outputs": [
    {
     "data": {
      "text/plain": [
       "True"
      ]
     },
     "execution_count": 6,
     "metadata": {},
     "output_type": "execute_result"
    }
   ],
   "source": [
    "bool(-7)"
   ]
  },
  {
   "cell_type": "code",
   "execution_count": 8,
   "id": "94bb6911-0db7-4fd0-9d16-ce3df6955ac2",
   "metadata": {},
   "outputs": [
    {
     "data": {
      "text/plain": [
       "True"
      ]
     },
     "execution_count": 8,
     "metadata": {},
     "output_type": "execute_result"
    }
   ],
   "source": [
    "bool(5/7)"
   ]
  },
  {
   "cell_type": "code",
   "execution_count": 9,
   "id": "efd3dd62-0124-46ba-b475-264a1cf7d69f",
   "metadata": {},
   "outputs": [
    {
     "data": {
      "text/plain": [
       "False"
      ]
     },
     "execution_count": 9,
     "metadata": {},
     "output_type": "execute_result"
    }
   ],
   "source": [
    "bool()"
   ]
  },
  {
   "cell_type": "code",
   "execution_count": 11,
   "id": "b9da2e8d-1ef6-4758-b21d-fbe5cdb0a237",
   "metadata": {},
   "outputs": [
    {
     "data": {
      "text/plain": [
       "False"
      ]
     },
     "execution_count": 11,
     "metadata": {},
     "output_type": "execute_result"
    }
   ],
   "source": [
    "bool(None)"
   ]
  },
  {
   "cell_type": "code",
   "execution_count": 17,
   "id": "eec15f45-336c-4737-a825-1b83ea814e06",
   "metadata": {},
   "outputs": [
    {
     "data": {
      "text/plain": [
       "False"
      ]
     },
     "execution_count": 17,
     "metadata": {},
     "output_type": "execute_result"
    }
   ],
   "source": [
    "#blank list also false\n",
    "bool([])"
   ]
  },
  {
   "cell_type": "code",
   "execution_count": 18,
   "id": "c3c91244-6dd0-4d5c-a7f7-f71d45136baf",
   "metadata": {},
   "outputs": [
    {
     "data": {
      "text/plain": [
       "False"
      ]
     },
     "execution_count": 18,
     "metadata": {},
     "output_type": "execute_result"
    }
   ],
   "source": [
    "#blank tuple also false\n",
    "bool(())"
   ]
  },
  {
   "cell_type": "code",
   "execution_count": 19,
   "id": "2c38ec62-f124-4553-adb8-7e5548bfe220",
   "metadata": {},
   "outputs": [
    {
     "data": {
      "text/plain": [
       "False"
      ]
     },
     "execution_count": 19,
     "metadata": {},
     "output_type": "execute_result"
    }
   ],
   "source": [
    "#blank dictonary also false\n",
    "bool({})"
   ]
  },
  {
   "cell_type": "code",
   "execution_count": 20,
   "id": "602fe650-4bac-401a-b503-0f7286abcbdb",
   "metadata": {
    "scrolled": true
   },
   "outputs": [
    {
     "data": {
      "text/plain": [
       "True"
      ]
     },
     "execution_count": 20,
     "metadata": {},
     "output_type": "execute_result"
    }
   ],
   "source": [
    "bool({7})"
   ]
  },
  {
   "cell_type": "markdown",
   "id": "da16c7ff-8b2a-4406-ae97-c38e1d06b32a",
   "metadata": {},
   "source": [
    "# comparison operators"
   ]
  },
  {
   "cell_type": "code",
   "execution_count": 39,
   "id": "120819ec-e66d-43cd-b1a9-c574003524aa",
   "metadata": {
    "scrolled": true
   },
   "outputs": [
    {
     "data": {
      "text/plain": [
       "False"
      ]
     },
     "execution_count": 39,
     "metadata": {},
     "output_type": "execute_result"
    }
   ],
   "source": [
    "5>10"
   ]
  },
  {
   "cell_type": "code",
   "execution_count": 40,
   "id": "4289c7e1-761d-4ade-84be-6c713c2a4133",
   "metadata": {},
   "outputs": [
    {
     "data": {
      "text/plain": [
       "True"
      ]
     },
     "execution_count": 40,
     "metadata": {},
     "output_type": "execute_result"
    }
   ],
   "source": [
    "10>5"
   ]
  },
  {
   "cell_type": "code",
   "execution_count": 51,
   "id": "ff1968e7-48d3-4fbf-9846-046eb1f84a41",
   "metadata": {},
   "outputs": [],
   "source": [
    "age=20"
   ]
  },
  {
   "cell_type": "code",
   "execution_count": 42,
   "id": "f3acc65c-0a2c-4708-8547-8db391388ed4",
   "metadata": {},
   "outputs": [
    {
     "data": {
      "text/plain": [
       "False"
      ]
     },
     "execution_count": 42,
     "metadata": {},
     "output_type": "execute_result"
    }
   ],
   "source": [
    "age==18"
   ]
  },
  {
   "cell_type": "code",
   "execution_count": 49,
   "id": "71c78a6b-31c2-43e9-87ce-6883b20fea9a",
   "metadata": {},
   "outputs": [
    {
     "ename": "SyntaxError",
     "evalue": "cannot assign to literal here. Maybe you meant '==' instead of '='? (980191137.py, line 2)",
     "output_type": "error",
     "traceback": [
      "\u001b[1;36m  Cell \u001b[1;32mIn[49], line 2\u001b[1;36m\u001b[0m\n\u001b[1;33m    5=5\u001b[0m\n\u001b[1;37m    ^\u001b[0m\n\u001b[1;31mSyntaxError\u001b[0m\u001b[1;31m:\u001b[0m cannot assign to literal here. Maybe you meant '==' instead of '='?\n"
     ]
    }
   ],
   "source": [
    "#error because you have to use two equal sign(=assign value,==equal to condition)\n",
    "5=5"
   ]
  },
  {
   "cell_type": "code",
   "execution_count": 46,
   "id": "cc89d68b-f617-400d-bac3-4bbe19d7163f",
   "metadata": {},
   "outputs": [
    {
     "data": {
      "text/plain": [
       "True"
      ]
     },
     "execution_count": 46,
     "metadata": {},
     "output_type": "execute_result"
    }
   ],
   "source": [
    "5==5"
   ]
  },
  {
   "cell_type": "code",
   "execution_count": 52,
   "id": "672aafac-64a7-4b9c-be5f-25f02d7e5641",
   "metadata": {},
   "outputs": [
    {
     "data": {
      "text/plain": [
       "True"
      ]
     },
     "execution_count": 52,
     "metadata": {},
     "output_type": "execute_result"
    }
   ],
   "source": [
    "age>=18"
   ]
  },
  {
   "cell_type": "code",
   "execution_count": 53,
   "id": "a6fc1357-5a2c-445d-bcf7-90acc8a2c80e",
   "metadata": {},
   "outputs": [
    {
     "data": {
      "text/plain": [
       "False"
      ]
     },
     "execution_count": 53,
     "metadata": {},
     "output_type": "execute_result"
    }
   ],
   "source": [
    "age<=18"
   ]
  },
  {
   "cell_type": "code",
   "execution_count": 54,
   "id": "aaaee270-5326-4408-80ed-7933fb8d12a0",
   "metadata": {},
   "outputs": [
    {
     "data": {
      "text/plain": [
       "True"
      ]
     },
     "execution_count": 54,
     "metadata": {},
     "output_type": "execute_result"
    }
   ],
   "source": [
    "#not eqal to\n",
    "age!=19"
   ]
  },
  {
   "cell_type": "code",
   "execution_count": 55,
   "id": "5a6e04e0-e1f9-41f8-867c-6d16baf174a2",
   "metadata": {},
   "outputs": [
    {
     "data": {
      "text/plain": [
       "False"
      ]
     },
     "execution_count": 55,
     "metadata": {},
     "output_type": "execute_result"
    }
   ],
   "source": [
    "age!=20"
   ]
  },
  {
   "cell_type": "code",
   "execution_count": 56,
   "id": "96ef0e1e-679a-49fc-95fd-391ae9639324",
   "metadata": {},
   "outputs": [
    {
     "data": {
      "text/plain": [
       "True"
      ]
     },
     "execution_count": 56,
     "metadata": {},
     "output_type": "execute_result"
    }
   ],
   "source": [
    "age>18"
   ]
  },
  {
   "cell_type": "code",
   "execution_count": null,
   "id": "e71184ec-5ad3-428b-8767-8b672eb63281",
   "metadata": {},
   "outputs": [],
   "source": []
  },
  {
   "cell_type": "markdown",
   "id": "f4589b6d-089b-41f7-8e86-db136b0dd857",
   "metadata": {},
   "source": [
    "# if elif else"
   ]
  },
  {
   "cell_type": "code",
   "execution_count": 34,
   "id": "dc14fce2-a22c-4737-96bb-ef5c89ec76da",
   "metadata": {},
   "outputs": [],
   "source": [
    "age=12"
   ]
  },
  {
   "cell_type": "code",
   "execution_count": 37,
   "id": "2b260985-6ea4-4e30-abd5-406128ae052d",
   "metadata": {},
   "outputs": [
    {
     "name": "stdout",
     "output_type": "stream",
     "text": [
      "bye\n"
     ]
    }
   ],
   "source": [
    "#indentation=four space before print\n",
    "if age>18:\n",
    "    print(\"welcome\")\n",
    "else:\n",
    "    print(\"bye\")"
   ]
  },
  {
   "cell_type": "code",
   "execution_count": 57,
   "id": "334bb896-420a-44dd-9592-b13c31b83229",
   "metadata": {},
   "outputs": [
    {
     "data": {
      "text/plain": [
       "True"
      ]
     },
     "execution_count": 57,
     "metadata": {},
     "output_type": "execute_result"
    }
   ],
   "source": [
    "age>18"
   ]
  },
  {
   "cell_type": "code",
   "execution_count": 58,
   "id": "b47160f2-bd44-40bb-ad22-fb0403c7ca6c",
   "metadata": {},
   "outputs": [
    {
     "name": "stdout",
     "output_type": "stream",
     "text": [
      "welcome\n"
     ]
    }
   ],
   "source": [
    "if age>18:\n",
    "    print('welcome')"
   ]
  },
  {
   "cell_type": "code",
   "execution_count": 59,
   "id": "d9bfeb95-73d3-4e30-a203-433a6b33997e",
   "metadata": {},
   "outputs": [
    {
     "name": "stdout",
     "output_type": "stream",
     "text": [
      "welcome\n"
     ]
    }
   ],
   "source": [
    "if True:\n",
    "    print('welcome')"
   ]
  },
  {
   "cell_type": "code",
   "execution_count": 63,
   "id": "e3f804b4-c9b9-45f7-8942-9706068b1b5f",
   "metadata": {},
   "outputs": [],
   "source": [
    "marks=35"
   ]
  },
  {
   "cell_type": "code",
   "execution_count": 64,
   "id": "a223ef6b-40b8-4f21-9f1b-be230b28e892",
   "metadata": {},
   "outputs": [
    {
     "name": "stdout",
     "output_type": "stream",
     "text": [
      "Fail\n"
     ]
    }
   ],
   "source": [
    "if marks>=90:\n",
    "    print(\"A\")\n",
    "elif marks>=75:\n",
    "    print(\"B\")\n",
    "elif marks>=60:\n",
    "    print(\"C\")\n",
    "elif marks>=40:\n",
    "    print(\"D\")\n",
    "else:\n",
    "    print(\"Fail\")"
   ]
  },
  {
   "cell_type": "code",
   "execution_count": 65,
   "id": "52c5901c-864f-415d-aa11-3dc135ada98e",
   "metadata": {},
   "outputs": [],
   "source": [
    "marks=64"
   ]
  },
  {
   "cell_type": "code",
   "execution_count": 66,
   "id": "4448cfcf-ea63-4fef-a593-b477ab2bdc2e",
   "metadata": {},
   "outputs": [
    {
     "name": "stdout",
     "output_type": "stream",
     "text": [
      "C\n"
     ]
    }
   ],
   "source": [
    "if marks>=90:\n",
    "    print(\"A\")\n",
    "elif marks>=75:\n",
    "    print(\"B\")\n",
    "elif marks>=60:\n",
    "    print(\"C\")\n",
    "elif marks>=40:\n",
    "    print(\"D\")\n",
    "else:\n",
    "    print(\"Fail\")"
   ]
  },
  {
   "cell_type": "code",
   "execution_count": 68,
   "id": "4dfbd94f-317d-4a24-9094-e35efdfd1750",
   "metadata": {},
   "outputs": [
    {
     "name": "stdout",
     "output_type": "stream",
     "text": [
      "Hello\n"
     ]
    }
   ],
   "source": [
    "if True:\n",
    "    print('Hello')\n",
    "elif False:\n",
    "    print ('hi')\n",
    "else:\n",
    "    print('bye')"
   ]
  },
  {
   "cell_type": "code",
   "execution_count": 71,
   "id": "58c70feb-06fb-4b95-8568-0f27843d58b9",
   "metadata": {},
   "outputs": [
    {
     "name": "stdout",
     "output_type": "stream",
     "text": [
      "bye\n"
     ]
    }
   ],
   "source": [
    "if False:\n",
    "    print('Hello')\n",
    "elif False:\n",
    "    print ('hi')\n",
    "else:\n",
    "    print('bye')"
   ]
  },
  {
   "cell_type": "code",
   "execution_count": 72,
   "id": "b877478a-2bb3-4a2b-8d2c-3f9af57ae553",
   "metadata": {},
   "outputs": [
    {
     "name": "stdout",
     "output_type": "stream",
     "text": [
      "hi\n"
     ]
    }
   ],
   "source": [
    "if False:\n",
    "    print('Hello')\n",
    "elif True:\n",
    "    print ('hi')\n",
    "else:\n",
    "    print('bye')"
   ]
  },
  {
   "cell_type": "code",
   "execution_count": 3,
   "id": "d5a1c144-50e8-48ba-9887-4f007b0612ef",
   "metadata": {},
   "outputs": [],
   "source": [
    "#que.1)positive number or negative"
   ]
  },
  {
   "cell_type": "code",
   "execution_count": 9,
   "id": "4414d2c4-92eb-4187-b45f-cc8e32be9317",
   "metadata": {},
   "outputs": [
    {
     "name": "stdout",
     "output_type": "stream",
     "text": [
      "zero\n"
     ]
    }
   ],
   "source": [
    "n=0\n",
    "if n> 0:\n",
    " print(\"positive\")\n",
    "elif n < 0:\n",
    "    print(\"negative\")\n",
    "else:\n",
    "    print(\"zero\")"
   ]
  },
  {
   "cell_type": "code",
   "execution_count": 10,
   "id": "e6a17d2e-76d4-49a7-abc6-b65bfc55859d",
   "metadata": {},
   "outputs": [
    {
     "name": "stdout",
     "output_type": "stream",
     "text": [
      "positive\n"
     ]
    }
   ],
   "source": [
    "n=5\n",
    "if n> 0:\n",
    " print(\"positive\")\n",
    "elif n < 0:\n",
    "    print(\"negative\")\n",
    "else:\n",
    "    print(\"zero\")"
   ]
  },
  {
   "cell_type": "code",
   "execution_count": 11,
   "id": "660b827c-0e85-40a4-a5a1-a590f35741b0",
   "metadata": {},
   "outputs": [
    {
     "name": "stdout",
     "output_type": "stream",
     "text": [
      "negative\n"
     ]
    }
   ],
   "source": [
    "n=-9\n",
    "if n> 0:\n",
    " print(\"positive\")\n",
    "elif n < 0:\n",
    "    print(\"negative\")\n",
    "else:\n",
    "    print(\"zero\")"
   ]
  },
  {
   "cell_type": "code",
   "execution_count": 20,
   "id": "e3df84ef-6967-4f64-950f-fdaa4d9aa223",
   "metadata": {},
   "outputs": [
    {
     "ename": "IndentationError",
     "evalue": "unindent does not match any outer indentation level (<string>, line 7)",
     "output_type": "error",
     "traceback": [
      "\u001b[1;36m  File \u001b[1;32m<string>:7\u001b[1;36m\u001b[0m\n\u001b[1;33m    print(\"hi\")\u001b[0m\n\u001b[1;37m               ^\u001b[0m\n\u001b[1;31mIndentationError\u001b[0m\u001b[1;31m:\u001b[0m unindent does not match any outer indentation level\n"
     ]
    }
   ],
   "source": [
    "#indent(4spaces or a tab) if indent not equal than it cause error there can be 1 space 2,3 or so on but spacing must be same in whole input\n",
    "n=10\n",
    "m=15\n",
    "\n",
    "if m>n:\n",
    "    print(\"hello\")\n",
    " print(\"hi\")"
   ]
  },
  {
   "cell_type": "code",
   "execution_count": 18,
   "id": "e0190c34-9beb-439f-9263-cdf31aafe8df",
   "metadata": {},
   "outputs": [
    {
     "name": "stdout",
     "output_type": "stream",
     "text": [
      "hello\n",
      "hi\n"
     ]
    }
   ],
   "source": [
    "n=10\n",
    "m=15\n",
    "\n",
    "if m>n:\n",
    "  print(\"hello\")\n",
    "  print(\"hi\")"
   ]
  },
  {
   "cell_type": "code",
   "execution_count": 22,
   "id": "bbab81ab-809f-44f6-a917-f165b0cf944b",
   "metadata": {},
   "outputs": [
    {
     "name": "stdout",
     "output_type": "stream",
     "text": [
      "hi\n"
     ]
    }
   ],
   "source": [
    "#jo cheej indent kai andr hai bas vo chalaigi, here m>n is not true therefore it don't work hi is out of indent therefore it gives output \n",
    "n=10\n",
    "m=5\n",
    "\n",
    "if m>n:\n",
    "  print(\"hello\")\n",
    "print(\"hi\")"
   ]
  },
  {
   "cell_type": "code",
   "execution_count": 23,
   "id": "a6c68bce-2a76-4bc8-a4d6-5e62639a712d",
   "metadata": {},
   "outputs": [
    {
     "name": "stdout",
     "output_type": "stream",
     "text": [
      "bye\n",
      "hi\n"
     ]
    }
   ],
   "source": [
    "n=10\n",
    "m=5\n",
    "\n",
    "if m>n:\n",
    "  print(\"hello\")\n",
    "else:\n",
    "    print(\"bye\")\n",
    "print(\"hi\")"
   ]
  },
  {
   "cell_type": "code",
   "execution_count": 25,
   "id": "ca24e756-0004-44e0-b9fb-7a283548d7a8",
   "metadata": {},
   "outputs": [
    {
     "ename": "SyntaxError",
     "evalue": "invalid syntax (3270537336.py, line 8)",
     "output_type": "error",
     "traceback": [
      "\u001b[1;36m  Cell \u001b[1;32mIn[25], line 8\u001b[1;36m\u001b[0m\n\u001b[1;33m    else:\u001b[0m\n\u001b[1;37m    ^\u001b[0m\n\u001b[1;31mSyntaxError\u001b[0m\u001b[1;31m:\u001b[0m invalid syntax\n"
     ]
    }
   ],
   "source": [
    "#if and else work together we can't add another print between them\n",
    "n=10\n",
    "m=5\n",
    "\n",
    "if m>n:\n",
    "  print(\"hello\")\n",
    "print(\"hi\")\n",
    "else:\n",
    "    print(\"bye\")\n"
   ]
  },
  {
   "cell_type": "code",
   "execution_count": 33,
   "id": "e9d3d5c1-618b-4c0c-866d-d5f7917ada66",
   "metadata": {},
   "outputs": [
    {
     "name": "stdout",
     "output_type": "stream",
     "text": [
      "hi\n"
     ]
    }
   ],
   "source": [
    "m=10\n",
    "n=20\n",
    "o=30\n",
    "\n",
    "if o> n:\n",
    "    print(\"hi\")\n",
    "elif o> m:\n",
    "    print(\"hello\")\n",
    "else:\n",
    "    print(\"bye\")"
   ]
  },
  {
   "cell_type": "code",
   "execution_count": 31,
   "id": "6c6775c4-5c0f-4aa4-8657-60478be9a7ec",
   "metadata": {},
   "outputs": [
    {
     "name": "stdout",
     "output_type": "stream",
     "text": [
      "hello\n"
     ]
    }
   ],
   "source": [
    "m=10\n",
    "n=20\n",
    "o=15\n",
    "\n",
    "if o> n:\n",
    "    print(\"hi\")\n",
    "elif o> m:\n",
    "    print(\"hello\")\n",
    "else:\n",
    "    print(\"bye\")"
   ]
  },
  {
   "cell_type": "code",
   "execution_count": 32,
   "id": "c837e754-5f94-4985-a0d4-691970d0c020",
   "metadata": {},
   "outputs": [
    {
     "name": "stdout",
     "output_type": "stream",
     "text": [
      "hi\n",
      "hello\n"
     ]
    }
   ],
   "source": [
    "#both if are independent\n",
    "m=10\n",
    "n=20\n",
    "o=30\n",
    "\n",
    "if o> n:\n",
    "    print(\"hi\")\n",
    "if o> m:\n",
    "    print(\"hello\")"
   ]
  },
  {
   "cell_type": "code",
   "execution_count": 34,
   "id": "aef93fdc-625f-4ead-899d-0bebdb90970e",
   "metadata": {},
   "outputs": [
    {
     "data": {
      "text/plain": [
       "0"
      ]
     },
     "execution_count": 34,
     "metadata": {},
     "output_type": "execute_result"
    }
   ],
   "source": [
    "28%7"
   ]
  },
  {
   "cell_type": "code",
   "execution_count": 35,
   "id": "a3253705-160c-4e84-ad19-eeeb30737676",
   "metadata": {},
   "outputs": [
    {
     "name": "stdout",
     "output_type": "stream",
     "text": [
      "division\n"
     ]
    }
   ],
   "source": [
    "if 28%7 ==0:\n",
    "    print(\"division\")"
   ]
  },
  {
   "cell_type": "code",
   "execution_count": 36,
   "id": "178498d9-e8fb-40e8-ba94-a310f5828b1f",
   "metadata": {},
   "outputs": [
    {
     "name": "stdout",
     "output_type": "stream",
     "text": [
      "division\n"
     ]
    }
   ],
   "source": [
    "if 28%2 ==0:\n",
    "    print(\"division\")"
   ]
  },
  {
   "cell_type": "code",
   "execution_count": 37,
   "id": "f9260f79-996a-4b44-86d9-98f3f5d53d2a",
   "metadata": {},
   "outputs": [
    {
     "name": "stdout",
     "output_type": "stream",
     "text": [
      "even\n"
     ]
    }
   ],
   "source": [
    "if 28%7 ==0:\n",
    "    print(\"even\")"
   ]
  },
  {
   "cell_type": "code",
   "execution_count": 38,
   "id": "58c56c38-cf6f-4563-a53a-86153c69519e",
   "metadata": {},
   "outputs": [
    {
     "data": {
      "text/plain": [
       "True"
      ]
     },
     "execution_count": 38,
     "metadata": {},
     "output_type": "execute_result"
    }
   ],
   "source": [
    "22%2 == 0"
   ]
  },
  {
   "cell_type": "code",
   "execution_count": 40,
   "id": "90195bf0-384f-4afc-b57f-25e2407360e1",
   "metadata": {},
   "outputs": [
    {
     "name": "stdout",
     "output_type": "stream",
     "text": [
      "odd\n"
     ]
    }
   ],
   "source": [
    "n=15\n",
    "if n%2 ==0:\n",
    "    print(\"even\")\n",
    "else:\n",
    "    print(\"odd\")"
   ]
  },
  {
   "cell_type": "code",
   "execution_count": 41,
   "id": "40e13032-3326-47c5-afad-8cf1bc3f7a2c",
   "metadata": {},
   "outputs": [
    {
     "name": "stdin",
     "output_type": "stream",
     "text": [
      " 21\n"
     ]
    },
    {
     "name": "stdout",
     "output_type": "stream",
     "text": [
      "odd\n"
     ]
    }
   ],
   "source": [
    "n=int(input())\n",
    "if n%2 ==0:\n",
    "    print(\"even\")\n",
    "else:\n",
    "    print(\"odd\")"
   ]
  },
  {
   "cell_type": "code",
   "execution_count": 42,
   "id": "8c619ff4-150b-48c6-9ae2-9c6e97db7b79",
   "metadata": {},
   "outputs": [
    {
     "name": "stdin",
     "output_type": "stream",
     "text": [
      " 42\n"
     ]
    },
    {
     "name": "stdout",
     "output_type": "stream",
     "text": [
      "even\n"
     ]
    }
   ],
   "source": [
    "n=int(input())\n",
    "if n%2 ==0:\n",
    "    print(\"even\")\n",
    "else:\n",
    "    print(\"odd\")"
   ]
  },
  {
   "cell_type": "code",
   "execution_count": 43,
   "id": "58baca10-51ae-416f-9cfd-3f9bca3361c4",
   "metadata": {},
   "outputs": [
    {
     "name": "stdout",
     "output_type": "stream",
     "text": [
      "hello\n"
     ]
    }
   ],
   "source": [
    "if 0:\n",
    "    print('hi')\n",
    "if 5:\n",
    "    print(\"hello\")"
   ]
  },
  {
   "cell_type": "code",
   "execution_count": 44,
   "id": "e0af55f8-bf36-404f-be08-89fce0d7c447",
   "metadata": {},
   "outputs": [
    {
     "data": {
      "text/plain": [
       "42"
      ]
     },
     "execution_count": 44,
     "metadata": {},
     "output_type": "execute_result"
    }
   ],
   "source": [
    "n"
   ]
  },
  {
   "cell_type": "code",
   "execution_count": 45,
   "id": "77056c92-44fd-4622-8346-bcb8bf267a2e",
   "metadata": {},
   "outputs": [
    {
     "name": "stdout",
     "output_type": "stream",
     "text": [
      "even\n"
     ]
    }
   ],
   "source": [
    "if n%2:\n",
    "    print(\"odd\")\n",
    "else:\n",
    "    print(\"even\")\n",
    "    "
   ]
  },
  {
   "cell_type": "code",
   "execution_count": 46,
   "id": "a49e6d14-2faf-42b0-933b-4ad1ee7b0ce4",
   "metadata": {},
   "outputs": [],
   "source": [
    "n=31"
   ]
  },
  {
   "cell_type": "code",
   "execution_count": 47,
   "id": "51daf840-b0b1-494a-9265-e31c25f6b43c",
   "metadata": {},
   "outputs": [
    {
     "data": {
      "text/plain": [
       "31"
      ]
     },
     "execution_count": 47,
     "metadata": {},
     "output_type": "execute_result"
    }
   ],
   "source": [
    "n"
   ]
  },
  {
   "cell_type": "code",
   "execution_count": 48,
   "id": "d8445d2b-3b42-40c9-9906-e653ab3142d4",
   "metadata": {},
   "outputs": [
    {
     "name": "stdout",
     "output_type": "stream",
     "text": [
      "odd\n"
     ]
    }
   ],
   "source": [
    "if n%2:\n",
    "    print(\"odd\")\n",
    "else:\n",
    "    print(\"even\")\n",
    "    "
   ]
  },
  {
   "cell_type": "code",
   "execution_count": 53,
   "id": "fa331101-7ca8-4e1c-b8e2-943e191cd31f",
   "metadata": {},
   "outputs": [],
   "source": [
    "n=19\n",
    "m=20\n",
    "o=21"
   ]
  },
  {
   "cell_type": "code",
   "execution_count": 54,
   "id": "1560818b-6aef-4e50-a2f2-275bc805851e",
   "metadata": {},
   "outputs": [
    {
     "data": {
      "text/plain": [
       "1"
      ]
     },
     "execution_count": 54,
     "metadata": {},
     "output_type": "execute_result"
    }
   ],
   "source": [
    "n%3"
   ]
  },
  {
   "cell_type": "code",
   "execution_count": 55,
   "id": "b1b1dec5-8f73-4a7f-9904-beb2100e341c",
   "metadata": {},
   "outputs": [
    {
     "data": {
      "text/plain": [
       "2"
      ]
     },
     "execution_count": 55,
     "metadata": {},
     "output_type": "execute_result"
    }
   ],
   "source": [
    "m%3"
   ]
  },
  {
   "cell_type": "code",
   "execution_count": 56,
   "id": "28ed59f6-4bb4-44f3-b294-d2c35daf7b65",
   "metadata": {},
   "outputs": [
    {
     "data": {
      "text/plain": [
       "0"
      ]
     },
     "execution_count": 56,
     "metadata": {},
     "output_type": "execute_result"
    }
   ],
   "source": [
    "o%3"
   ]
  },
  {
   "cell_type": "code",
   "execution_count": 57,
   "id": "faa81452-ea43-4cdf-9a66-c4eb1766abb2",
   "metadata": {},
   "outputs": [
    {
     "name": "stdout",
     "output_type": "stream",
     "text": [
      "not divisible\n"
     ]
    }
   ],
   "source": [
    "if n%3:\n",
    "    print(\"not divisible\")"
   ]
  },
  {
   "cell_type": "code",
   "execution_count": 62,
   "id": "bbd4c2b2-5b84-455e-ac99-202232660a0f",
   "metadata": {},
   "outputs": [
    {
     "name": "stdout",
     "output_type": "stream",
     "text": [
      "not divisible\n"
     ]
    }
   ],
   "source": [
    "if m%3:#output will be not zero therefore not divisble and true in bool expect zero all are true numbers\n",
    "    print(\"not divisible\")"
   ]
  },
  {
   "cell_type": "code",
   "execution_count": 60,
   "id": "25d63465-1e95-41c8-9faf-dae99fcd40e8",
   "metadata": {},
   "outputs": [
    {
     "name": "stdout",
     "output_type": "stream",
     "text": [
      "divisible\n"
     ]
    }
   ],
   "source": [
    "if o%3: #output will be zero therefore divisble and false in bool expect zero all are true numbers\n",
    "    print(\"not divisible\")\n",
    "else:\n",
    "    print('divisible')"
   ]
  },
  {
   "cell_type": "code",
   "execution_count": 63,
   "id": "ac4d3bae-478c-495b-b0c6-a600e250f2e3",
   "metadata": {},
   "outputs": [
    {
     "name": "stdout",
     "output_type": "stream",
     "text": [
      "not divisible by 2\n"
     ]
    }
   ],
   "source": [
    "if n%2 ==0:\n",
    "    print(\"divisible by 2\")\n",
    "else:\n",
    "    print(\"not divisible by 2\")"
   ]
  },
  {
   "cell_type": "markdown",
   "id": "a713fdd7-7d10-43eb-8f61-36eeb4cd509d",
   "metadata": {},
   "source": [
    "# Nested"
   ]
  },
  {
   "cell_type": "code",
   "execution_count": 89,
   "id": "f007bedf-e17f-4663-983f-b583ccda32e4",
   "metadata": {},
   "outputs": [
    {
     "name": "stdout",
     "output_type": "stream",
     "text": [
      "not divisible by 2\n"
     ]
    }
   ],
   "source": [
    "#nested=one inside another\n",
    "#2,3,4\n",
    "if n%2 == 0:\n",
    "    # divisible by 2\n",
    "   if n%3 == 0:\n",
    "    # divisible by 3\n",
    "    print(\"divisible by 2 and 3\")\n",
    "   else:\n",
    "    print(\"divisible by 2\")\n",
    "else:\n",
    "    print(\"not divisible by 2\")"
   ]
  },
  {
   "cell_type": "code",
   "execution_count": 90,
   "id": "2ee842d0-710c-4643-8fca-3688ec785222",
   "metadata": {},
   "outputs": [
    {
     "data": {
      "text/plain": [
       "21"
      ]
     },
     "execution_count": 90,
     "metadata": {},
     "output_type": "execute_result"
    }
   ],
   "source": [
    "n"
   ]
  },
  {
   "cell_type": "code",
   "execution_count": 74,
   "id": "52376906-46da-423e-a5d2-78878886fadb",
   "metadata": {},
   "outputs": [],
   "source": [
    "n=20"
   ]
  },
  {
   "cell_type": "code",
   "execution_count": 76,
   "id": "af4e180f-ed66-4c74-870c-fda3807a7bdf",
   "metadata": {},
   "outputs": [
    {
     "name": "stdout",
     "output_type": "stream",
     "text": [
      "divisible by 2\n"
     ]
    }
   ],
   "source": [
    "if n%2 == 0:\n",
    "    # divisible by 2\n",
    "   if n%3 == 0:\n",
    "    # divisible by 3\n",
    "    print(\"divisible by 2 and 3\")\n",
    "   else:\n",
    "    print(\"divisible by 2\")\n",
    "else:\n",
    "    print(\"not divisible by 2\")"
   ]
  },
  {
   "cell_type": "code",
   "execution_count": 77,
   "id": "949a88a7-9568-46a9-8c74-97a0355c3c21",
   "metadata": {},
   "outputs": [],
   "source": [
    "n=12"
   ]
  },
  {
   "cell_type": "code",
   "execution_count": 78,
   "id": "5e3a4b89-bb17-4080-ab10-ba68bfd19b8f",
   "metadata": {},
   "outputs": [
    {
     "name": "stdout",
     "output_type": "stream",
     "text": [
      "divisible by 2 and 3\n"
     ]
    }
   ],
   "source": [
    "if n%2 == 0:\n",
    "    # divisible by 2\n",
    "   if n%3 == 0:\n",
    "    # divisible by 3\n",
    "    print(\"divisible by 2 and 3\")\n",
    "   else:\n",
    "    print(\"divisible by 2\")\n",
    "else:\n",
    "    print(\"not divisible by 2\")"
   ]
  },
  {
   "cell_type": "code",
   "execution_count": 80,
   "id": "593b1a87-8bfd-4f61-acc5-6a83ef16e243",
   "metadata": {},
   "outputs": [
    {
     "name": "stdout",
     "output_type": "stream",
     "text": [
      "divisible by 2 and 3\n"
     ]
    }
   ],
   "source": [
    "if n%2 == 0:\n",
    "    # divisible by 2\n",
    "   if n%3 == 0:\n",
    "    # divisible by 3\n",
    "    print(\"divisible by 2 and 3\")\n",
    "   else:\n",
    "     print(\"divisible by 2 not 3\")\n",
    "elif n%3 ==0:\n",
    "    print('divisible by 3 but not 2')\n",
    "else:\n",
    "    print(\"not divisible by 2 and3\")"
   ]
  },
  {
   "cell_type": "code",
   "execution_count": 81,
   "id": "d0bbceb5-41cf-45d8-9159-488ef4e0b7ea",
   "metadata": {},
   "outputs": [],
   "source": [
    "n=19"
   ]
  },
  {
   "cell_type": "code",
   "execution_count": 82,
   "id": "c55d6a53-146a-4899-98bc-598a31107de2",
   "metadata": {},
   "outputs": [
    {
     "name": "stdout",
     "output_type": "stream",
     "text": [
      "not divisible by 2 and3\n"
     ]
    }
   ],
   "source": [
    "if n%2 == 0:\n",
    "    # divisible by 2\n",
    "   if n%3 == 0:\n",
    "    # divisible by 3\n",
    "    print(\"divisible by 2 and 3\")\n",
    "   else:\n",
    "     print(\"divisible by 2 not 3\")\n",
    "elif n%3 ==0:\n",
    "    print('divisible by 3 but not 2')\n",
    "else:\n",
    "    print(\"not divisible by 2 and3\")"
   ]
  },
  {
   "cell_type": "code",
   "execution_count": 83,
   "id": "2a2a19ab-6db8-4cec-9881-a6c1790e8ab6",
   "metadata": {},
   "outputs": [],
   "source": [
    "n=22"
   ]
  },
  {
   "cell_type": "code",
   "execution_count": 84,
   "id": "dde13532-9847-4201-98c9-2f37187a8287",
   "metadata": {},
   "outputs": [
    {
     "name": "stdout",
     "output_type": "stream",
     "text": [
      "divisible by 2 not 3\n"
     ]
    }
   ],
   "source": [
    "if n%2 == 0:\n",
    "    # divisible by 2\n",
    "   if n%3 == 0:\n",
    "    # divisible by 3\n",
    "    print(\"divisible by 2 and 3\")\n",
    "   else:\n",
    "     print(\"divisible by 2 not 3\")\n",
    "elif n%3 ==0:\n",
    "    print('divisible by 3 but not 2')\n",
    "else:\n",
    "    print(\"not divisible by 2 and3\")"
   ]
  },
  {
   "cell_type": "code",
   "execution_count": 85,
   "id": "c09e4a00-fdcd-45ca-910a-d2f8fc3702d6",
   "metadata": {},
   "outputs": [],
   "source": [
    "n=21"
   ]
  },
  {
   "cell_type": "code",
   "execution_count": 91,
   "id": "a65da29f-d66a-4924-8004-2815059d4539",
   "metadata": {},
   "outputs": [
    {
     "name": "stdout",
     "output_type": "stream",
     "text": [
      "divisible by 3 but not 2\n"
     ]
    }
   ],
   "source": [
    "if n%2 == 0:\n",
    "   if n%3 == 0: #4 spaces\n",
    "    print(\"divisible by 2 and 3\") #8 spaces\n",
    "   else: #4 spaces (this else is indent of 3 therefore have 4 spaces)\n",
    "     print(\"divisible by 2 not 3\") #8 spaces after 8 then 12 then 16 etc.\n",
    "elif n%3 ==0:\n",
    "    print('divisible by 3 but not 2')\n",
    "else:\n",
    "    print(\"not divisible by 2 and3\")"
   ]
  },
  {
   "cell_type": "code",
   "execution_count": 92,
   "id": "e9ab36e7-bdb0-4700-a7bd-1de90f7ec730",
   "metadata": {},
   "outputs": [],
   "source": [
    "#combination of 2,3,5\n",
    "n=4"
   ]
  },
  {
   "cell_type": "code",
   "execution_count": 93,
   "id": "2f66ed45-c0b1-4dab-826e-62989b599c93",
   "metadata": {},
   "outputs": [
    {
     "name": "stdout",
     "output_type": "stream",
     "text": [
      "divisible by 2\n"
     ]
    }
   ],
   "source": [
    "if n%2 == 0:\n",
    "    print(\"divisible by 2\")\n",
    "else:\n",
    "    print('not divisible by 2')"
   ]
  },
  {
   "cell_type": "code",
   "execution_count": 94,
   "id": "cf2b970a-d5ec-4cd0-860c-51785b492c17",
   "metadata": {},
   "outputs": [],
   "source": [
    "n=6"
   ]
  },
  {
   "cell_type": "code",
   "execution_count": 95,
   "id": "ba5a230f-434a-4789-84b5-97731772feec",
   "metadata": {},
   "outputs": [
    {
     "name": "stdout",
     "output_type": "stream",
     "text": [
      "divisible by 2 and 3\n"
     ]
    }
   ],
   "source": [
    "if n%2 == 0:\n",
    "    if n%3 == 0:\n",
    "        print(\"divisible by 2 and 3\")\n",
    "    else:\n",
    "        print(\"divisible by 2 but not 3\")\n",
    "elif n% 3:\n",
    "    print(\"divisible by 3 but not 2\")\n",
    "else:\n",
    "    print('not divisible by 2 and 3')"
   ]
  },
  {
   "cell_type": "code",
   "execution_count": 96,
   "id": "d7ccde22-4270-4321-a3c0-2803a9c75e39",
   "metadata": {},
   "outputs": [],
   "source": [
    "n=30"
   ]
  },
  {
   "cell_type": "code",
   "execution_count": 102,
   "id": "dbb3d741-ade8-4ce2-b4bf-523fbf9313a9",
   "metadata": {},
   "outputs": [
    {
     "name": "stdout",
     "output_type": "stream",
     "text": [
      "divisible by 2,3,5\n"
     ]
    }
   ],
   "source": [
    "if n%2 == 0:\n",
    "    if n%3 == 0:\n",
    "        if n%5 == 0:\n",
    "            print(\"divisible by 2,3,5\")\n",
    "        else:\n",
    "            print(\"divisible by 2,3 but not 5\")\n",
    "    elif n% 5:\n",
    "        \n",
    "        print(\"divisible by 2 but not by 5 and 3\")\n",
    "    else:\n",
    "        print('not divisible by 2 and 3')"
   ]
  },
  {
   "cell_type": "code",
   "execution_count": 103,
   "id": "b94abd66-1899-46c0-abe7-defa8fd8aa87",
   "metadata": {},
   "outputs": [],
   "source": [
    "n=15"
   ]
  },
  {
   "cell_type": "code",
   "execution_count": 105,
   "id": "ad4311df-7e92-4eba-890a-9172089a1500",
   "metadata": {},
   "outputs": [],
   "source": [
    "if n%2 == 0:\n",
    "    if n%3 == 0:\n",
    "        if n%5 == 0:\n",
    "            print(\"divisible by 2,3,5\")\n",
    "        else:\n",
    "            print(\"divisible by 2,3 but not 5\")\n",
    "    elif n% 5:\n",
    "        \n",
    "        print(\"divisible by 2 but not by 5 and 3\")\n",
    "    else:\n",
    "        print('not divisible by 2 and 3')"
   ]
  },
  {
   "cell_type": "code",
   "execution_count": 109,
   "id": "aa0ffe31-ba5e-4a3e-ad9a-6ffb0c6bbb4e",
   "metadata": {},
   "outputs": [
    {
     "name": "stdout",
     "output_type": "stream",
     "text": [
      "divisible by 3 and 5\n"
     ]
    }
   ],
   "source": [
    "if n%2 == 0:\n",
    "    if n%3 == 0:\n",
    "        if n%5 == 0:\n",
    "            print(\"divisible by 2,3,5\")\n",
    "        else:\n",
    "            print(\"divisible by 2and 3 not 5\")\n",
    "    elif n% 5:\n",
    "        print(\"divisible by 2 not 3 and 5\")\n",
    "elif n%3 == 0:\n",
    "    if n% 5 == 0:\n",
    "        print('divisible by 3 and 5')\n",
    "    else:\n",
    "        print('divisible by 3')\n",
    "elif n%5 ==0:\n",
    "    print(\"divisible by 5\")\n",
    "else:\n",
    "    print(\"not divisible by any number\")"
   ]
  },
  {
   "cell_type": "code",
   "execution_count": 118,
   "id": "4a304089-f49b-4b81-a621-7d7a7540bd85",
   "metadata": {},
   "outputs": [],
   "source": [
    "age=40\n",
    "city=\"delhi\""
   ]
  },
  {
   "cell_type": "code",
   "execution_count": 111,
   "id": "b69c8270-731d-4b89-b123-d8c0cdb37f97",
   "metadata": {},
   "outputs": [
    {
     "name": "stdout",
     "output_type": "stream",
     "text": [
      "welcome to delhi\n"
     ]
    }
   ],
   "source": [
    "if city ==\"delhi\":\n",
    "    print(\"welcome to delhi\")"
   ]
  },
  {
   "cell_type": "code",
   "execution_count": 112,
   "id": "7149b526-ba59-400f-9ac0-b69223fc1c6e",
   "metadata": {},
   "outputs": [],
   "source": [
    "city=\"chd\""
   ]
  },
  {
   "cell_type": "code",
   "execution_count": 113,
   "id": "73da0cd1-e0ea-44d6-86f6-298b7233076e",
   "metadata": {},
   "outputs": [
    {
     "name": "stdout",
     "output_type": "stream",
     "text": [
      "welcome to chd\n"
     ]
    }
   ],
   "source": [
    "if city ==\"delhi\":\n",
    "    print(\"welcome to delhi\")\n",
    "elif city ==\"chd\":\n",
    "    print(\"welcome to chd\")"
   ]
  },
  {
   "cell_type": "code",
   "execution_count": 114,
   "id": "e27995d8-b707-4992-bd93-d48c045cd0f5",
   "metadata": {},
   "outputs": [],
   "source": [
    "city=\"agra\""
   ]
  },
  {
   "cell_type": "code",
   "execution_count": 116,
   "id": "27452001-ec76-4255-846b-4eb764faafb2",
   "metadata": {},
   "outputs": [
    {
     "name": "stdout",
     "output_type": "stream",
     "text": [
      "where are you?\n"
     ]
    }
   ],
   "source": [
    "if city ==\"delhi\":\n",
    "    print(\"welcome to delhi\")\n",
    "elif city ==\"chd\":\n",
    "    print(\"welcome to chd\")\n",
    "else:\n",
    "    print(\"where are you?\")"
   ]
  },
  {
   "cell_type": "code",
   "execution_count": 119,
   "id": "95510857-d596-4e73-befc-27df10944ba9",
   "metadata": {},
   "outputs": [
    {
     "name": "stdout",
     "output_type": "stream",
     "text": [
      "meet me outside\n"
     ]
    }
   ],
   "source": [
    "if city ==\"delhi\":\n",
    "    if age<30:\n",
    "        print(\"welcome to delhi young man\")\n",
    "    else:\n",
    "        print(\"meet me outside\")\n",
    "elif city ==\"chd\":\n",
    "    print(\"welcome to chd\")\n",
    "else:\n",
    "    print(\"where are you?\")"
   ]
  },
  {
   "cell_type": "code",
   "execution_count": 127,
   "id": "bdc3a935-a0a3-468c-b9eb-bbe96513cc4f",
   "metadata": {},
   "outputs": [],
   "source": [
    "age=40\n",
    "city=\"chd\""
   ]
  },
  {
   "cell_type": "code",
   "execution_count": 128,
   "id": "9e568f05-5b9d-46f1-8929-e48968131ed2",
   "metadata": {},
   "outputs": [
    {
     "name": "stdout",
     "output_type": "stream",
     "text": [
      "welcome to chd retirement\n"
     ]
    }
   ],
   "source": [
    "if city ==\"delhi\":\n",
    "    if age<30:\n",
    "        print(\"welcome to delhi young man\")\n",
    "    else:\n",
    "        print(\"meet me outside\")\n",
    "elif city ==\"chd\":\n",
    "    if age >50:\n",
    "        print(\"welcome to chd\")\n",
    "    else:\n",
    "        print(\"welcome to chd retirement\")\n",
    "else:\n",
    "    print(\"where are you?\")"
   ]
  },
  {
   "cell_type": "code",
   "execution_count": null,
   "id": "a077822b-6cf4-4a4f-a50c-643346e00ba5",
   "metadata": {},
   "outputs": [],
   "source": []
  }
 ],
 "metadata": {
  "kernelspec": {
   "display_name": "Python [conda env:base] *",
   "language": "python",
   "name": "conda-base-py"
  },
  "language_info": {
   "codemirror_mode": {
    "name": "ipython",
    "version": 3
   },
   "file_extension": ".py",
   "mimetype": "text/x-python",
   "name": "python",
   "nbconvert_exporter": "python",
   "pygments_lexer": "ipython3",
   "version": "3.13.5"
  }
 },
 "nbformat": 4,
 "nbformat_minor": 5
}
