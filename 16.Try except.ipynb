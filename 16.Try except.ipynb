{
 "cells": [
  {
   "cell_type": "code",
   "execution_count": 1,
   "id": "6ec3c38f-0665-48ea-8c19-8c00ee4aef03",
   "metadata": {},
   "outputs": [
    {
     "name": "stdout",
     "output_type": "stream",
     "text": [
      "hi\n"
     ]
    },
    {
     "ename": "ZeroDivisionError",
     "evalue": "division by zero",
     "output_type": "error",
     "traceback": [
      "\u001b[1;31m---------------------------------------------------------------------------\u001b[0m",
      "\u001b[1;31mZeroDivisionError\u001b[0m                         Traceback (most recent call last)",
      "Cell \u001b[1;32mIn[1], line 2\u001b[0m\n\u001b[0;32m      1\u001b[0m \u001b[38;5;28mprint\u001b[39m(\u001b[38;5;124m'\u001b[39m\u001b[38;5;124mhi\u001b[39m\u001b[38;5;124m'\u001b[39m)\n\u001b[1;32m----> 2\u001b[0m \u001b[38;5;28mprint\u001b[39m(\u001b[38;5;241m5\u001b[39m\u001b[38;5;241m/\u001b[39m\u001b[38;5;241m0\u001b[39m)\n\u001b[0;32m      3\u001b[0m \u001b[38;5;28mprint\u001b[39m(\u001b[38;5;124m\"\u001b[39m\u001b[38;5;124mhello\u001b[39m\u001b[38;5;124m\"\u001b[39m)\n",
      "\u001b[1;31mZeroDivisionError\u001b[0m: division by zero"
     ]
    }
   ],
   "source": [
    "print('hi')\n",
    "print(5/0)\n",
    "print(\"hello\")"
   ]
  },
  {
   "cell_type": "code",
   "execution_count": 5,
   "id": "8f3469c5-867e-426b-9d5a-9528c834d2d2",
   "metadata": {},
   "outputs": [
    {
     "name": "stdout",
     "output_type": "stream",
     "text": [
      "hi\n",
      "nhi chala code\n"
     ]
    }
   ],
   "source": [
    "try:\n",
    "    print(\"hi\")\n",
    "    print(5/0)\n",
    "    print(\"hello\")\n",
    "except:\n",
    "    print('nhi chala code')"
   ]
  },
  {
   "cell_type": "code",
   "execution_count": 8,
   "id": "0ab180c2-b587-4eed-a99a-6b0eeb53d112",
   "metadata": {},
   "outputs": [
    {
     "name": "stdout",
     "output_type": "stream",
     "text": [
      "hi\n",
      "nhi chala code\n"
     ]
    }
   ],
   "source": [
    "# ethai else es karkai nhi chalya because try vich error c or try da pura code nhi chalya\n",
    "try:\n",
    "    print(\"hi\")\n",
    "    print(5/0)\n",
    "    print(\"hello\")\n",
    "except:\n",
    "    print('nhi chala code')\n",
    "else:\n",
    "    print(\"kanika\")"
   ]
  },
  {
   "cell_type": "code",
   "execution_count": 9,
   "id": "1856e9a8-b156-4749-93a8-17ef16f54e6f",
   "metadata": {},
   "outputs": [
    {
     "name": "stdout",
     "output_type": "stream",
     "text": [
      "hi\n",
      "5\n",
      "hello\n",
      "kanika\n"
     ]
    }
   ],
   "source": [
    "# jab try bina kisi error kai chalta hai tab else v output  daita hai\n",
    "try:\n",
    "    print(\"hi\")\n",
    "    print(5)\n",
    "    print(\"hello\")\n",
    "except:\n",
    "    print('nhi chala code')\n",
    "else:\n",
    "    print(\"kanika\")"
   ]
  },
  {
   "cell_type": "code",
   "execution_count": 12,
   "id": "71c75515-7d07-49be-94a6-57b394c5d931",
   "metadata": {},
   "outputs": [
    {
     "name": "stdout",
     "output_type": "stream",
     "text": [
      "hi\n",
      "nhi chala code\n",
      "teena\n"
     ]
    }
   ],
   "source": [
    "#finally run hota he hota hai chahai try mai error ay chahai na ay\n",
    "try:\n",
    "    print(\"hi\")\n",
    "    print(5/0)\n",
    "    print(\"hello\")\n",
    "except:\n",
    "    print('nhi chala code')\n",
    "else:\n",
    "    print(\"kanika\")\n",
    "finally:\n",
    "    print(\"teena\")"
   ]
  },
  {
   "cell_type": "code",
   "execution_count": 14,
   "id": "0f78b482-8829-421a-a171-d19ac9d70e68",
   "metadata": {},
   "outputs": [
    {
     "ename": "ZeroDivisionError",
     "evalue": "division by zero",
     "output_type": "error",
     "traceback": [
      "\u001b[1;31m---------------------------------------------------------------------------\u001b[0m",
      "\u001b[1;31mZeroDivisionError\u001b[0m                         Traceback (most recent call last)",
      "Cell \u001b[1;32mIn[14], line 1\u001b[0m\n\u001b[1;32m----> 1\u001b[0m \u001b[38;5;241m5\u001b[39m\u001b[38;5;241m/\u001b[39m\u001b[38;5;241m0\u001b[39m\n",
      "\u001b[1;31mZeroDivisionError\u001b[0m: division by zero"
     ]
    }
   ],
   "source": [
    "5/0"
   ]
  },
  {
   "cell_type": "code",
   "execution_count": 15,
   "id": "a0a9b2cf-3a06-4a4a-a69f-c65bca7cd9ab",
   "metadata": {},
   "outputs": [
    {
     "name": "stdout",
     "output_type": "stream",
     "text": [
      "hi\n",
      "ZeroDivisionError aya hai\n",
      "teena\n"
     ]
    }
   ],
   "source": [
    "try:\n",
    "    print(\"hi\")\n",
    "    print(5/0)\n",
    "    print(\"hello\")\n",
    "except ZeroDivisionError:\n",
    "    print('ZeroDivisionError aya hai')\n",
    "except:\n",
    "    print(\"eroor hai\")\n",
    "else:\n",
    "    print(\"kanika\")\n",
    "finally:\n",
    "    print(\"teena\")"
   ]
  },
  {
   "cell_type": "code",
   "execution_count": 16,
   "id": "7f8d93b3-4ad0-4c00-8709-a833e8e4e988",
   "metadata": {},
   "outputs": [
    {
     "name": "stdout",
     "output_type": "stream",
     "text": [
      "hi\n",
      "eroor hai\n",
      "teena\n"
     ]
    }
   ],
   "source": [
    "try:\n",
    "    print(\"hi\")\n",
    "    print(int(\"kanika\"))\n",
    "    print(\"hello\")\n",
    "except ZeroDivisionError:\n",
    "    print('ZeroDivisionError aya hai')\n",
    "except:\n",
    "    print(\"eroor hai\")\n",
    "else:\n",
    "    print(\"kanika\")\n",
    "finally:\n",
    "    print(\"teena\")"
   ]
  },
  {
   "cell_type": "code",
   "execution_count": 18,
   "id": "d58aad80-15b8-495b-ad40-e30fadc67608",
   "metadata": {},
   "outputs": [
    {
     "ename": "ZeroDivisionError",
     "evalue": "division by zero",
     "output_type": "error",
     "traceback": [
      "\u001b[1;31m---------------------------------------------------------------------------\u001b[0m",
      "\u001b[1;31mZeroDivisionError\u001b[0m                         Traceback (most recent call last)",
      "Cell \u001b[1;32mIn[18], line 1\u001b[0m\n\u001b[1;32m----> 1\u001b[0m \u001b[38;5;241m5\u001b[39m\u001b[38;5;241m/\u001b[39m\u001b[38;5;241m0\u001b[39m\n",
      "\u001b[1;31mZeroDivisionError\u001b[0m: division by zero"
     ]
    }
   ],
   "source": [
    "5/0"
   ]
  },
  {
   "cell_type": "code",
   "execution_count": 20,
   "id": "dcda7b93-ce35-4883-bc11-839a22aa495a",
   "metadata": {},
   "outputs": [
    {
     "name": "stdout",
     "output_type": "stream",
     "text": [
      "hi\n",
      "division by zero\n",
      "teena\n"
     ]
    }
   ],
   "source": [
    "try:\n",
    "    print(\"hi\")\n",
    "    print(5/0)\n",
    "    print(\"hello\")\n",
    "except ZeroDivisionError as e:\n",
    "    print(e) # e likan nal un api das daini kahdi error a (e di jagah jahda marji variable use kar sakhdai eg. a,b,c etc.)\n",
    "except:\n",
    "    print(\"eroor hai\")\n",
    "else:\n",
    "    print(\"kanika\")\n",
    "finally:\n",
    "    print(\"teena\")"
   ]
  },
  {
   "cell_type": "code",
   "execution_count": null,
   "id": "f744473d-56c6-4873-94dd-26a49bade711",
   "metadata": {},
   "outputs": [],
   "source": []
  },
  {
   "cell_type": "code",
   "execution_count": 21,
   "id": "b25942ae-5a5f-4a9f-aea1-27aad5c294e7",
   "metadata": {},
   "outputs": [
    {
     "name": "stdin",
     "output_type": "stream",
     "text": [
      " 15\n"
     ]
    },
    {
     "name": "stdout",
     "output_type": "stream",
     "text": [
      "33.333333333333336\n",
      "everthing worked fine\n",
      "close connection\n"
     ]
    }
   ],
   "source": [
    "try:\n",
    "    a=500\n",
    "    b= int(input())\n",
    "    c= (a/b)\n",
    "    print(c)\n",
    "except ValueError as v:\n",
    "    print(v)\n",
    "except ZeroDivisionError as z:\n",
    "    print(z)\n",
    "except:\n",
    "    print(\"check something\")\n",
    "else:\n",
    "    print(\"everthing worked fine\")\n",
    "finally:\n",
    "    print(\"close connection\")"
   ]
  },
  {
   "cell_type": "code",
   "execution_count": 22,
   "id": "f872f6bf-76c5-41f3-b7fb-d7053e649187",
   "metadata": {},
   "outputs": [
    {
     "name": "stdin",
     "output_type": "stream",
     "text": [
      " kanika\n"
     ]
    },
    {
     "name": "stdout",
     "output_type": "stream",
     "text": [
      "invalid literal for int() with base 10: 'kanika'\n",
      "close connection\n"
     ]
    }
   ],
   "source": [
    "try:\n",
    "    a=500\n",
    "    b= int(input())\n",
    "    c= (a/b)\n",
    "    print(c)\n",
    "except ValueError as v:\n",
    "    print(v)\n",
    "except ZeroDivisionError as z:\n",
    "    print(z)\n",
    "except:\n",
    "    print(\"check something\")\n",
    "else:\n",
    "    print(\"everthing worked fine\")\n",
    "finally:\n",
    "    print(\"close connection\")"
   ]
  },
  {
   "cell_type": "code",
   "execution_count": 25,
   "id": "ddf4d249-2101-48ca-8338-75330ff8e34d",
   "metadata": {},
   "outputs": [
    {
     "name": "stdin",
     "output_type": "stream",
     "text": [
      " 0\n"
     ]
    },
    {
     "name": "stdout",
     "output_type": "stream",
     "text": [
      "division by zero\n",
      "close connection\n"
     ]
    }
   ],
   "source": [
    "try:\n",
    "    a=500\n",
    "    b= int(input())\n",
    "    c= (a/b)\n",
    "    print(c)\n",
    "except ValueError as v:\n",
    "    print(v)\n",
    "except ZeroDivisionError as z:\n",
    "    print(z)\n",
    "except:\n",
    "    print(\"check something\")\n",
    "else:\n",
    "    print(\"everthing worked fine\")\n",
    "finally:\n",
    "    print(\"close connection\")"
   ]
  },
  {
   "cell_type": "code",
   "execution_count": null,
   "id": "fdf49dd9-44b3-45f2-bd41-0e7c037a8e3d",
   "metadata": {},
   "outputs": [],
   "source": []
  },
  {
   "cell_type": "code",
   "execution_count": null,
   "id": "b89e43d1-26cb-4235-bacc-0fa59cc1bcee",
   "metadata": {},
   "outputs": [],
   "source": []
  }
 ],
 "metadata": {
  "kernelspec": {
   "display_name": "Python [conda env:base] *",
   "language": "python",
   "name": "conda-base-py"
  },
  "language_info": {
   "codemirror_mode": {
    "name": "ipython",
    "version": 3
   },
   "file_extension": ".py",
   "mimetype": "text/x-python",
   "name": "python",
   "nbconvert_exporter": "python",
   "pygments_lexer": "ipython3",
   "version": "3.13.5"
  }
 },
 "nbformat": 4,
 "nbformat_minor": 5
}
