{
 "cells": [
  {
   "cell_type": "markdown",
   "id": "e90466b3-e9fc-4254-861a-069f77ed07b5",
   "metadata": {},
   "source": [
    "# While loop"
   ]
  },
  {
   "cell_type": "markdown",
   "id": "04e2294d-8b80-4d25-8254-d25cb3067cf3",
   "metadata": {},
   "source": [
    "# repeating a task again and again until certain criteria is sertisfied"
   ]
  },
  {
   "cell_type": "code",
   "execution_count": null,
   "id": "1e13f050-51a1-4b95-b400-b303abf1244e",
   "metadata": {},
   "outputs": [],
   "source": [
    "# you must have to write break using while loop, if you don't add it the laptop will be crash therefore don't write only while \n",
    "#if by accident this happens restart your laptop or else  you can use the restart icon shown in above"
   ]
  },
  {
   "cell_type": "markdown",
   "id": "5a11c49b-ace8-4699-bcdc-43ceec2113ce",
   "metadata": {},
   "source": [
    "# while gives output on true not on false so use true"
   ]
  },
  {
   "cell_type": "code",
   "execution_count": 3,
   "id": "08480b05-0050-420a-80f6-5672463c2ed1",
   "metadata": {},
   "outputs": [
    {
     "name": "stdout",
     "output_type": "stream",
     "text": [
      "hi\n",
      "hello\n",
      "kanika\n"
     ]
    }
   ],
   "source": [
    "# starting an infinite while loop\n",
    "while True:\n",
    "    print(\"hi\")\n",
    "    print(\"hello\")\n",
    "    # exiting a loop\n",
    "    break\n",
    "    print(\"bye\")\n",
    "# printing a value after while loop\n",
    "print(\"kanika\")"
   ]
  },
  {
   "cell_type": "code",
   "execution_count": 6,
   "id": "91cb616e-7e72-43ca-9825-e9bf9afae0d8",
   "metadata": {},
   "outputs": [],
   "source": [
    "i=1"
   ]
  },
  {
   "cell_type": "code",
   "execution_count": 7,
   "id": "b1b0c5ca-4bed-41e1-9411-c98e69bcb6b1",
   "metadata": {},
   "outputs": [
    {
     "name": "stdout",
     "output_type": "stream",
     "text": [
      "1\n",
      "2\n"
     ]
    }
   ],
   "source": [
    "# starting a number\n",
    "i=1\n",
    "# starting an infinite while loop\n",
    "while True:\n",
    "    #printing i\n",
    "    print(i)\n",
    "    #increasing i\n",
    "    i+=1\n",
    "    print(i)\n",
    "    break"
   ]
  },
  {
   "cell_type": "code",
   "execution_count": 5,
   "id": "ca8fa7d8-0b13-4b02-a0a4-f8fe46d72001",
   "metadata": {},
   "outputs": [
    {
     "data": {
      "text/plain": [
       "2"
      ]
     },
     "execution_count": 5,
     "metadata": {},
     "output_type": "execute_result"
    }
   ],
   "source": [
    "i"
   ]
  },
  {
   "cell_type": "markdown",
   "id": "c2823cfd-8f2d-4d56-b93e-9989069b3ff3",
   "metadata": {},
   "source": [
    "# you must be very very very careful about indentation otherwise code will go infinte and laptop will be crash and if accidently this happen restart you laptop or else use restart icon shown above"
   ]
  },
  {
   "cell_type": "code",
   "execution_count": 8,
   "id": "793d1c36-f90b-4361-90a7-aa9ea2fa8e5c",
   "metadata": {},
   "outputs": [
    {
     "name": "stdout",
     "output_type": "stream",
     "text": [
      "1\n",
      "2\n",
      "3\n",
      "4\n",
      "5\n"
     ]
    }
   ],
   "source": [
    "i=1\n",
    "while True:\n",
    "    print(i)\n",
    "    if i == 5:\n",
    "        break\n",
    "    i +=1"
   ]
  },
  {
   "cell_type": "code",
   "execution_count": 9,
   "id": "22c2cc9f-e8c9-4e90-aa23-8b6afa317e02",
   "metadata": {},
   "outputs": [
    {
     "name": "stdout",
     "output_type": "stream",
     "text": [
      "1\n",
      "2\n",
      "3\n",
      "4\n"
     ]
    }
   ],
   "source": [
    "i=1\n",
    "while True:\n",
    "    print(i)\n",
    "    i +=1\n",
    "    if i == 5:\n",
    "        break\n",
    "    "
   ]
  },
  {
   "cell_type": "code",
   "execution_count": 4,
   "id": "828e1416-188e-45dd-bf65-62f7771862b2",
   "metadata": {},
   "outputs": [
    {
     "name": "stdout",
     "output_type": "stream",
     "text": [
      "0\n",
      "1\n",
      "2\n"
     ]
    }
   ],
   "source": [
    "# starting  number\n",
    "i=0\n",
    "# starting a while loop for i < 3 - 0,1,2\n",
    "while i < 3:\n",
    "    print(i)\n",
    "    # increasing i till it reaches 3 \n",
    "    i+=1"
   ]
  },
  {
   "cell_type": "code",
   "execution_count": 11,
   "id": "e1178812-4a08-4da8-923c-4e7d3f83adb2",
   "metadata": {},
   "outputs": [
    {
     "name": "stdout",
     "output_type": "stream",
     "text": [
      "0\n",
      "1\n",
      "2\n"
     ]
    }
   ],
   "source": [
    "i=0\n",
    "n=3\n",
    "while i < n:\n",
    "    print(i)\n",
    "    i+=1"
   ]
  },
  {
   "cell_type": "code",
   "execution_count": 13,
   "id": "9dc10dc3-c045-4503-a974-d58bfafef30a",
   "metadata": {},
   "outputs": [
    {
     "name": "stdout",
     "output_type": "stream",
     "text": [
      "0\n",
      "2\n",
      "4\n",
      "6\n",
      "8\n"
     ]
    }
   ],
   "source": [
    "#0 is starting number 10 is ending number and 2 is step sizing \n",
    "i=0\n",
    "n=10\n",
    "while i < n:\n",
    "    print(i)\n",
    "    i+=2"
   ]
  },
  {
   "cell_type": "code",
   "execution_count": 14,
   "id": "4325245a-e923-4352-9b04-61d34ab23088",
   "metadata": {},
   "outputs": [
    {
     "name": "stdout",
     "output_type": "stream",
     "text": [
      "0\n",
      "4\n",
      "8\n"
     ]
    }
   ],
   "source": [
    "i=0\n",
    "n=10\n",
    "while i < n:\n",
    "    print(i)\n",
    "    i+=4"
   ]
  },
  {
   "cell_type": "code",
   "execution_count": 15,
   "id": "8c1526b5-bb4e-4acb-9c87-7b23a77ba2c1",
   "metadata": {},
   "outputs": [
    {
     "name": "stdout",
     "output_type": "stream",
     "text": [
      "0\n",
      "1\n",
      "2\n",
      "3\n",
      "4\n",
      "5\n",
      "6\n",
      "7\n",
      "8\n",
      "9\n"
     ]
    }
   ],
   "source": [
    "i=0\n",
    "n=10\n",
    "while i < n:\n",
    "    print(i)\n",
    "    i+=1"
   ]
  },
  {
   "cell_type": "code",
   "execution_count": 17,
   "id": "f814623e-8c28-4ea7-8519-8a9c7df70c0f",
   "metadata": {},
   "outputs": [
    {
     "name": "stdout",
     "output_type": "stream",
     "text": [
      "2\n",
      "5\n",
      "8\n",
      "11\n",
      "14\n",
      "17\n",
      "20\n"
     ]
    }
   ],
   "source": [
    "i=2\n",
    "n=20\n",
    "while i <=n:\n",
    "    print(i)\n",
    "    i += 3"
   ]
  },
  {
   "cell_type": "code",
   "execution_count": 18,
   "id": "8fd42aa3-b09e-4f3f-981a-6d318bd5e410",
   "metadata": {},
   "outputs": [
    {
     "name": "stdout",
     "output_type": "stream",
     "text": [
      "1\n",
      "2\n",
      "3\n",
      "4\n",
      "5\n",
      "6\n",
      "7\n",
      "8\n",
      "9\n",
      "10\n"
     ]
    }
   ],
   "source": [
    "i=1\n",
    "n=11\n",
    "while i < n:\n",
    "    print(i)\n",
    "    i += 1"
   ]
  },
  {
   "cell_type": "code",
   "execution_count": 19,
   "id": "0ae456f5-79df-4206-b208-bcd81f8c3698",
   "metadata": {},
   "outputs": [
    {
     "name": "stdout",
     "output_type": "stream",
     "text": [
      "7 1\n",
      "7 2\n",
      "7 3\n",
      "7 4\n",
      "7 5\n",
      "7 6\n",
      "7 7\n",
      "7 8\n",
      "7 9\n",
      "7 10\n"
     ]
    }
   ],
   "source": [
    "i=1\n",
    "n=11\n",
    "while i < n:\n",
    "    print(7,i)\n",
    "    i += 1"
   ]
  },
  {
   "cell_type": "code",
   "execution_count": 20,
   "id": "40d76509-d22c-4bd5-bbeb-cb8302a30305",
   "metadata": {},
   "outputs": [
    {
     "name": "stdout",
     "output_type": "stream",
     "text": [
      "7  x 1 =\n",
      "7  x 2 =\n",
      "7  x 3 =\n",
      "7  x 4 =\n",
      "7  x 5 =\n",
      "7  x 6 =\n",
      "7  x 7 =\n",
      "7  x 8 =\n",
      "7  x 9 =\n",
      "7  x 10 =\n"
     ]
    }
   ],
   "source": [
    "i=1\n",
    "n=11\n",
    "while i < n:\n",
    "    print(7, \" x\" ,i,\"=\")\n",
    "    i += 1"
   ]
  },
  {
   "cell_type": "code",
   "execution_count": 21,
   "id": "0828db22-c38f-4723-b0bb-072f68e210ab",
   "metadata": {},
   "outputs": [
    {
     "name": "stdout",
     "output_type": "stream",
     "text": [
      "7  x 1 = 7\n",
      "7  x 2 = 14\n",
      "7  x 3 = 21\n",
      "7  x 4 = 28\n",
      "7  x 5 = 35\n",
      "7  x 6 = 42\n",
      "7  x 7 = 49\n",
      "7  x 8 = 56\n",
      "7  x 9 = 63\n",
      "7  x 10 = 70\n"
     ]
    }
   ],
   "source": [
    "i=1\n",
    "n=11\n",
    "while i < n:\n",
    "    print(7, \" x\" ,i,\"=\", i*7)\n",
    "    i += 1"
   ]
  },
  {
   "cell_type": "code",
   "execution_count": 1,
   "id": "36d97033-f2e4-4a56-a099-694f3b2afaad",
   "metadata": {},
   "outputs": [
    {
     "name": "stdout",
     "output_type": "stream",
     "text": [
      "24 x 1 = 24\n",
      "24 x 2 = 48\n",
      "24 x 3 = 72\n",
      "24 x 4 = 96\n",
      "24 x 5 = 120\n",
      "24 x 6 = 144\n",
      "24 x 7 = 168\n",
      "24 x 8 = 192\n",
      "24 x 9 = 216\n",
      "24 x 10 = 240\n"
     ]
    }
   ],
   "source": [
    "i=1\n",
    "n=11\n",
    "while i <n :\n",
    "    print(24,\"x\",i,\"=\",i*24)\n",
    "    i +=1\n",
    "    "
   ]
  },
  {
   "cell_type": "markdown",
   "id": "7bb357a7-ae9e-42fb-b063-01dd887b942a",
   "metadata": {},
   "source": [
    "first you must have to write these three things and also you can add break at the end of the code \n",
    "i=0\n",
    "n=4\n",
    "while i < n:\n",
    "\n",
    "    i+=1"
   ]
  },
  {
   "cell_type": "code",
   "execution_count": 9,
   "id": "fd0f0bec-232f-455c-8204-9f12cf91faf7",
   "metadata": {},
   "outputs": [
    {
     "name": "stdout",
     "output_type": "stream",
     "text": [
      "0 0\n",
      "1 1\n",
      "2 3\n",
      "3 6\n",
      "4 10\n",
      "5 15\n",
      "6 21\n",
      "21\n"
     ]
    }
   ],
   "source": [
    "#sum of n natural numbers\n",
    "i=0\n",
    "n=7\n",
    "a=0 # if you add another variable then must write it outside the loop before while like here we write a , \n",
    "#if we write it inside the loop it not works properly\n",
    "while i < n :\n",
    "    a +=i\n",
    "    print(i,a)\n",
    "\n",
    "    i+=1\n",
    "print(a)"
   ]
  },
  {
   "cell_type": "code",
   "execution_count": 5,
   "id": "8534cb9a-2a07-4050-9f54-1e8319ab2a8a",
   "metadata": {},
   "outputs": [
    {
     "name": "stdout",
     "output_type": "stream",
     "text": [
      "0 0\n",
      "1 1\n",
      "2 3\n",
      "3 6\n",
      "4 10\n",
      "5 15\n",
      "6 21\n"
     ]
    }
   ],
   "source": [
    "i=0\n",
    "n=7\n",
    "a=0\n",
    "while i < n :\n",
    "    a +=i\n",
    "    print(i,a)\n",
    "\n",
    "    i+=1\n"
   ]
  },
  {
   "cell_type": "code",
   "execution_count": 6,
   "id": "2e4e4366-b83c-4acc-92e9-e79dd40717d3",
   "metadata": {},
   "outputs": [
    {
     "name": "stdout",
     "output_type": "stream",
     "text": [
      "0 0\n",
      "1 1\n",
      "2 3\n",
      "3 6\n",
      "4 10\n",
      "5 15\n",
      "6 21\n",
      "hi\n"
     ]
    }
   ],
   "source": [
    "i=0\n",
    "n=7\n",
    "a=0\n",
    "while i < n :\n",
    "    a +=i\n",
    "    print(i,a)\n",
    "\n",
    "    i+=1\n",
    "print(\"hi\")"
   ]
  },
  {
   "cell_type": "code",
   "execution_count": 11,
   "id": "d94134b8-b8f0-46b8-abcf-b89074bdef70",
   "metadata": {},
   "outputs": [
    {
     "name": "stdout",
     "output_type": "stream",
     "text": [
      "51\n"
     ]
    }
   ],
   "source": [
    "# sum of numbers in a range\n",
    "i=50\n",
    "n=101\n",
    "a=0\n",
    "while i<n:\n",
    "    a+=1\n",
    "    i+=1\n",
    "print(a)"
   ]
  },
  {
   "cell_type": "code",
   "execution_count": 12,
   "id": "aa9b35e2-18ef-4389-8153-505b0eb5b8b2",
   "metadata": {},
   "outputs": [],
   "source": [
    "name=\"kanika\""
   ]
  },
  {
   "cell_type": "code",
   "execution_count": 14,
   "id": "665bc812-31b8-4a27-92fb-7b10b99b3e27",
   "metadata": {},
   "outputs": [
    {
     "data": {
      "text/plain": [
       "6"
      ]
     },
     "execution_count": 14,
     "metadata": {},
     "output_type": "execute_result"
    }
   ],
   "source": [
    "len(name)"
   ]
  },
  {
   "cell_type": "code",
   "execution_count": 19,
   "id": "180030ab-856a-45db-a83e-f33ff585c532",
   "metadata": {},
   "outputs": [
    {
     "name": "stdout",
     "output_type": "stream",
     "text": [
      "6 kanika 0 k\n",
      "6 kanika 1 a\n",
      "6 kanika 2 n\n",
      "6 kanika 3 i\n",
      "6 kanika 4 k\n",
      "6 kanika 5 a\n"
     ]
    }
   ],
   "source": [
    "name=\"kanika\"\n",
    "i=0\n",
    "n=len(name)\n",
    "while i < n:\n",
    "    print(n, name , i ,name[i])\n",
    "\n",
    "\n",
    "\n",
    "    i += 1"
   ]
  },
  {
   "cell_type": "code",
   "execution_count": 18,
   "id": "a5381ea8-2026-40bb-b5df-a30bb2bcf3e2",
   "metadata": {},
   "outputs": [
    {
     "name": "stdout",
     "output_type": "stream",
     "text": [
      "k\n",
      "a\n",
      "n\n",
      "i\n",
      "k\n",
      "a\n",
      " \n",
      "r\n",
      "a\n",
      "n\n",
      "a\n"
     ]
    }
   ],
   "source": [
    "name=\"kanika rana\"\n",
    "i=0\n",
    "n=len(name)\n",
    "while i < n:\n",
    "    print(name[i])\n",
    "\n",
    "\n",
    "\n",
    "    i += 1"
   ]
  },
  {
   "cell_type": "code",
   "execution_count": 21,
   "id": "490d3f39-fe7f-4b2f-90af-a4858695242d",
   "metadata": {},
   "outputs": [
    {
     "name": "stdin",
     "output_type": "stream",
     "text": [
      "enter inder\n"
     ]
    },
    {
     "name": "stdout",
     "output_type": "stream",
     "text": [
      "i\n",
      "n\n",
      "d\n",
      "e\n",
      "r\n"
     ]
    }
   ],
   "source": [
    "name=input(\"enter\")\n",
    "i=0\n",
    "n=len(name)\n",
    "while i < n:\n",
    "    print(name[i])\n",
    "\n",
    "\n",
    "\n",
    "    i += 1"
   ]
  },
  {
   "cell_type": "code",
   "execution_count": 23,
   "id": "6938fce0-2368-4c15-97a7-84ff4675f5a7",
   "metadata": {},
   "outputs": [
    {
     "name": "stdout",
     "output_type": "stream",
     "text": [
      "8\n",
      "4\n",
      "6\n",
      "1\n",
      "2\n",
      "3\n",
      "5\n",
      "7\n",
      "9\n"
     ]
    }
   ],
   "source": [
    "li=[8,4,6,1,2,3,5,7,9]\n",
    "i=0\n",
    "n=len(li)\n",
    "while i < n:\n",
    "    print(li[i])\n",
    "    i+=1"
   ]
  },
  {
   "cell_type": "code",
   "execution_count": 25,
   "id": "f2811f97-9af0-43c2-91c4-06ac39addf85",
   "metadata": {},
   "outputs": [
    {
     "name": "stdout",
     "output_type": "stream",
     "text": [
      "45\n"
     ]
    }
   ],
   "source": [
    "#to add items abstract from a list\n",
    "li=[8,4,6,1,2,3,5,7,9]\n",
    "i=0\n",
    "n=len(li)\n",
    "total=0\n",
    "while i < n:\n",
    "    total+=li[i]\n",
    "    i+=1\n",
    "print(total)"
   ]
  },
  {
   "cell_type": "code",
   "execution_count": null,
   "id": "efe3f390-aa62-4f5a-98a3-4a55cc9d21ed",
   "metadata": {},
   "outputs": [],
   "source": []
  }
 ],
 "metadata": {
  "kernelspec": {
   "display_name": "Python [conda env:base] *",
   "language": "python",
   "name": "conda-base-py"
  },
  "language_info": {
   "codemirror_mode": {
    "name": "ipython",
    "version": 3
   },
   "file_extension": ".py",
   "mimetype": "text/x-python",
   "name": "python",
   "nbconvert_exporter": "python",
   "pygments_lexer": "ipython3",
   "version": "3.13.5"
  }
 },
 "nbformat": 4,
 "nbformat_minor": 5
}
