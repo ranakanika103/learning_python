{
 "cells": [
  {
   "cell_type": "markdown",
   "id": "e90466b3-e9fc-4254-861a-069f77ed07b5",
   "metadata": {
    "jp-MarkdownHeadingCollapsed": true
   },
   "source": [
    "# While loop"
   ]
  },
  {
   "cell_type": "markdown",
   "id": "04e2294d-8b80-4d25-8254-d25cb3067cf3",
   "metadata": {},
   "source": [
    "# repeating a task again and again until certain criteria is sertisfied"
   ]
  },
  {
   "cell_type": "code",
   "execution_count": null,
   "id": "1e13f050-51a1-4b95-b400-b303abf1244e",
   "metadata": {},
   "outputs": [],
   "source": [
    "# you must have to write break using while loop, if you don't add it the laptop will be crash therefore don't write only while \n",
    "#if by accident this happens restart your laptop or else  you can use the restart icon shown in above"
   ]
  },
  {
   "cell_type": "markdown",
   "id": "5a11c49b-ace8-4699-bcdc-43ceec2113ce",
   "metadata": {},
   "source": [
    "# while gives output on true not on false so use true"
   ]
  },
  {
   "cell_type": "code",
   "execution_count": 3,
   "id": "c2fac272-e052-4185-91be-902ee9131dd8",
   "metadata": {},
   "outputs": [
    {
     "name": "stdout",
     "output_type": "stream",
     "text": [
      "hi\n",
      "hello\n",
      "kanika\n"
     ]
    }
   ],
   "source": [
    "#starting an infinite while loop\n",
    "while True:\n",
    "    print(\"hi\")\n",
    "    print(\"hello\")\n",
    "    # exiting a loop\n",
    "    break\n",
    "    print(\"bye\")\n",
    "# printing a value after while loop\n",
    "print(\"kanika\")"
   ]
  },
  {
   "cell_type": "code",
   "execution_count": 1,
   "id": "08480b05-0050-420a-80f6-5672463c2ed1",
   "metadata": {},
   "outputs": [
    {
     "name": "stdout",
     "output_type": "stream",
     "text": [
      "kanika\n"
     ]
    }
   ],
   "source": [
    "# starting an infinite while loop\n",
    "while False:\n",
    "    print(\"hi\")\n",
    "    print(\"hello\")\n",
    "    # exiting a loop\n",
    "    break\n",
    "    print(\"bye\")\n",
    "# printing a value after while loop\n",
    "print(\"kanika\")"
   ]
  },
  {
   "cell_type": "code",
   "execution_count": 6,
   "id": "91cb616e-7e72-43ca-9825-e9bf9afae0d8",
   "metadata": {},
   "outputs": [],
   "source": [
    "i=1"
   ]
  },
  {
   "cell_type": "code",
   "execution_count": 7,
   "id": "b1b0c5ca-4bed-41e1-9411-c98e69bcb6b1",
   "metadata": {},
   "outputs": [
    {
     "name": "stdout",
     "output_type": "stream",
     "text": [
      "1\n",
      "2\n"
     ]
    }
   ],
   "source": [
    "# starting a number\n",
    "i=1\n",
    "# starting an infinite while loop\n",
    "while True:\n",
    "    #printing i\n",
    "    print(i)\n",
    "    #increasing i\n",
    "    i+=1\n",
    "    print(i)\n",
    "    break"
   ]
  },
  {
   "cell_type": "code",
   "execution_count": 5,
   "id": "ca8fa7d8-0b13-4b02-a0a4-f8fe46d72001",
   "metadata": {},
   "outputs": [
    {
     "data": {
      "text/plain": [
       "2"
      ]
     },
     "execution_count": 5,
     "metadata": {},
     "output_type": "execute_result"
    }
   ],
   "source": [
    "i"
   ]
  },
  {
   "cell_type": "markdown",
   "id": "c2823cfd-8f2d-4d56-b93e-9989069b3ff3",
   "metadata": {},
   "source": [
    "# you must be very very very careful about indentation otherwise code will go infinte and laptop will be crash and if accidently this happen restart you laptop or else use restart icon shown above"
   ]
  },
  {
   "cell_type": "code",
   "execution_count": 5,
   "id": "793d1c36-f90b-4361-90a7-aa9ea2fa8e5c",
   "metadata": {},
   "outputs": [
    {
     "name": "stdout",
     "output_type": "stream",
     "text": [
      "1\n",
      "2\n",
      "3\n",
      "4\n",
      "5\n"
     ]
    }
   ],
   "source": [
    "# starting a number\n",
    "i=1\n",
    "# starting an infinite while loop\n",
    "while True:\n",
    "    #printing i\n",
    "    print(i)\n",
    "    #checking if i has reached value 5\n",
    "    if i == 5:\n",
    "    #breaking out of loop\n",
    "        break\n",
    "    #increasing i\n",
    "    i +=1"
   ]
  },
  {
   "cell_type": "code",
   "execution_count": 9,
   "id": "22c2cc9f-e8c9-4e90-aa23-8b6afa317e02",
   "metadata": {},
   "outputs": [
    {
     "name": "stdout",
     "output_type": "stream",
     "text": [
      "1\n",
      "2\n",
      "3\n",
      "4\n"
     ]
    }
   ],
   "source": [
    "i=1\n",
    "while True:\n",
    "    print(i)\n",
    "    i +=1\n",
    "    if i == 5:\n",
    "        break\n",
    "    "
   ]
  },
  {
   "cell_type": "code",
   "execution_count": 4,
   "id": "828e1416-188e-45dd-bf65-62f7771862b2",
   "metadata": {},
   "outputs": [
    {
     "name": "stdout",
     "output_type": "stream",
     "text": [
      "0\n",
      "1\n",
      "2\n"
     ]
    }
   ],
   "source": [
    "# starting  number\n",
    "i=0\n",
    "# starting a while loop for i < 3 - 0,1,2\n",
    "while i < 3:\n",
    "    print(i)\n",
    "    # increasing i till it reaches 3 \n",
    "    i+=1"
   ]
  },
  {
   "cell_type": "code",
   "execution_count": 11,
   "id": "e1178812-4a08-4da8-923c-4e7d3f83adb2",
   "metadata": {},
   "outputs": [
    {
     "name": "stdout",
     "output_type": "stream",
     "text": [
      "0\n",
      "1\n",
      "2\n"
     ]
    }
   ],
   "source": [
    "i=0\n",
    "n=3\n",
    "while i < n:\n",
    "    print(i)\n",
    "    i+=1"
   ]
  },
  {
   "cell_type": "code",
   "execution_count": 13,
   "id": "9dc10dc3-c045-4503-a974-d58bfafef30a",
   "metadata": {},
   "outputs": [
    {
     "name": "stdout",
     "output_type": "stream",
     "text": [
      "0\n",
      "2\n",
      "4\n",
      "6\n",
      "8\n"
     ]
    }
   ],
   "source": [
    "#0 is starting number 10 is ending number and 2 is step sizing \n",
    "i=0\n",
    "n=10\n",
    "while i < n:\n",
    "    print(i)\n",
    "    i+=2"
   ]
  },
  {
   "cell_type": "code",
   "execution_count": 14,
   "id": "4325245a-e923-4352-9b04-61d34ab23088",
   "metadata": {},
   "outputs": [
    {
     "name": "stdout",
     "output_type": "stream",
     "text": [
      "0\n",
      "4\n",
      "8\n"
     ]
    }
   ],
   "source": [
    "i=0\n",
    "n=10\n",
    "while i < n:\n",
    "    print(i)\n",
    "    i+=4"
   ]
  },
  {
   "cell_type": "code",
   "execution_count": 15,
   "id": "8c1526b5-bb4e-4acb-9c87-7b23a77ba2c1",
   "metadata": {},
   "outputs": [
    {
     "name": "stdout",
     "output_type": "stream",
     "text": [
      "0\n",
      "1\n",
      "2\n",
      "3\n",
      "4\n",
      "5\n",
      "6\n",
      "7\n",
      "8\n",
      "9\n"
     ]
    }
   ],
   "source": [
    "i=0\n",
    "n=10\n",
    "while i < n:\n",
    "    print(i)\n",
    "    i+=1"
   ]
  },
  {
   "cell_type": "code",
   "execution_count": 17,
   "id": "f814623e-8c28-4ea7-8519-8a9c7df70c0f",
   "metadata": {},
   "outputs": [
    {
     "name": "stdout",
     "output_type": "stream",
     "text": [
      "2\n",
      "5\n",
      "8\n",
      "11\n",
      "14\n",
      "17\n",
      "20\n"
     ]
    }
   ],
   "source": [
    "i=2\n",
    "n=20\n",
    "while i <=n:\n",
    "    print(i)\n",
    "    i += 3"
   ]
  },
  {
   "cell_type": "code",
   "execution_count": 18,
   "id": "8fd42aa3-b09e-4f3f-981a-6d318bd5e410",
   "metadata": {},
   "outputs": [
    {
     "name": "stdout",
     "output_type": "stream",
     "text": [
      "1\n",
      "2\n",
      "3\n",
      "4\n",
      "5\n",
      "6\n",
      "7\n",
      "8\n",
      "9\n",
      "10\n"
     ]
    }
   ],
   "source": [
    "i=1\n",
    "n=11\n",
    "while i < n:\n",
    "    print(i)\n",
    "    i += 1"
   ]
  },
  {
   "cell_type": "code",
   "execution_count": 19,
   "id": "0ae456f5-79df-4206-b208-bcd81f8c3698",
   "metadata": {},
   "outputs": [
    {
     "name": "stdout",
     "output_type": "stream",
     "text": [
      "7 1\n",
      "7 2\n",
      "7 3\n",
      "7 4\n",
      "7 5\n",
      "7 6\n",
      "7 7\n",
      "7 8\n",
      "7 9\n",
      "7 10\n"
     ]
    }
   ],
   "source": [
    "i=1\n",
    "n=11\n",
    "while i < n:\n",
    "    print(7,i)\n",
    "    i += 1"
   ]
  },
  {
   "cell_type": "code",
   "execution_count": 6,
   "id": "40d76509-d22c-4bd5-bbeb-cb8302a30305",
   "metadata": {},
   "outputs": [
    {
     "name": "stdout",
     "output_type": "stream",
     "text": [
      "7  x 1 =\n",
      "7  x 2 =\n",
      "7  x 3 =\n",
      "7  x 4 =\n",
      "7  x 5 =\n",
      "7  x 6 =\n",
      "7  x 7 =\n",
      "7  x 8 =\n",
      "7  x 9 =\n",
      "7  x 10 =\n"
     ]
    }
   ],
   "source": [
    "#starting number\n",
    "i=1\n",
    "#ending number\n",
    "n=11\n",
    "#while loop till i reaches n \n",
    "while i < n:\n",
    "    #printing a table\n",
    "    print(7, \" x\" ,i,\"=\")\n",
    "    #incrementing a value of i\n",
    "    i += 1"
   ]
  },
  {
   "cell_type": "code",
   "execution_count": 21,
   "id": "0828db22-c38f-4723-b0bb-072f68e210ab",
   "metadata": {},
   "outputs": [
    {
     "name": "stdout",
     "output_type": "stream",
     "text": [
      "7  x 1 = 7\n",
      "7  x 2 = 14\n",
      "7  x 3 = 21\n",
      "7  x 4 = 28\n",
      "7  x 5 = 35\n",
      "7  x 6 = 42\n",
      "7  x 7 = 49\n",
      "7  x 8 = 56\n",
      "7  x 9 = 63\n",
      "7  x 10 = 70\n"
     ]
    }
   ],
   "source": [
    "i=1\n",
    "n=11\n",
    "while i < n:\n",
    "    print(7, \" x\" ,i,\"=\", i*7)\n",
    "    i += 1"
   ]
  },
  {
   "cell_type": "code",
   "execution_count": 1,
   "id": "36d97033-f2e4-4a56-a099-694f3b2afaad",
   "metadata": {},
   "outputs": [
    {
     "name": "stdout",
     "output_type": "stream",
     "text": [
      "24 x 1 = 24\n",
      "24 x 2 = 48\n",
      "24 x 3 = 72\n",
      "24 x 4 = 96\n",
      "24 x 5 = 120\n",
      "24 x 6 = 144\n",
      "24 x 7 = 168\n",
      "24 x 8 = 192\n",
      "24 x 9 = 216\n",
      "24 x 10 = 240\n"
     ]
    }
   ],
   "source": [
    "i=1\n",
    "n=11\n",
    "while i <n :\n",
    "    print(24,\"x\",i,\"=\",i*24)\n",
    "    i +=1\n",
    "    "
   ]
  },
  {
   "cell_type": "markdown",
   "id": "7bb357a7-ae9e-42fb-b063-01dd887b942a",
   "metadata": {},
   "source": [
    "first you must have to write these three things and also you can add break at the end of the code \n",
    "i=0\n",
    "n=4\n",
    "while i < n:\n",
    "\n",
    "    i+=1"
   ]
  },
  {
   "cell_type": "code",
   "execution_count": 9,
   "id": "fd0f0bec-232f-455c-8204-9f12cf91faf7",
   "metadata": {},
   "outputs": [
    {
     "name": "stdout",
     "output_type": "stream",
     "text": [
      "0 0\n",
      "1 1\n",
      "2 3\n",
      "3 6\n",
      "4 10\n",
      "5 15\n",
      "6 21\n",
      "21\n"
     ]
    }
   ],
   "source": [
    "#sum of n natural numbers\n",
    "i=0\n",
    "n=7\n",
    "a=0 # if you add another variable then must write it outside the loop before while like here we write a , \n",
    "#if we write it inside the loop it not works properly\n",
    "while i < n :\n",
    "    a +=i\n",
    "    print(i,a)\n",
    "\n",
    "    i+=1\n",
    "print(a)"
   ]
  },
  {
   "cell_type": "code",
   "execution_count": 5,
   "id": "8534cb9a-2a07-4050-9f54-1e8319ab2a8a",
   "metadata": {},
   "outputs": [
    {
     "name": "stdout",
     "output_type": "stream",
     "text": [
      "0 0\n",
      "1 1\n",
      "2 3\n",
      "3 6\n",
      "4 10\n",
      "5 15\n",
      "6 21\n"
     ]
    }
   ],
   "source": [
    "i=0\n",
    "n=7\n",
    "a=0\n",
    "while i < n :\n",
    "    a +=i\n",
    "    print(i,a)\n",
    "\n",
    "    i+=1\n"
   ]
  },
  {
   "cell_type": "code",
   "execution_count": 6,
   "id": "2e4e4366-b83c-4acc-92e9-e79dd40717d3",
   "metadata": {},
   "outputs": [
    {
     "name": "stdout",
     "output_type": "stream",
     "text": [
      "0 0\n",
      "1 1\n",
      "2 3\n",
      "3 6\n",
      "4 10\n",
      "5 15\n",
      "6 21\n",
      "hi\n"
     ]
    }
   ],
   "source": [
    "i=0\n",
    "n=7\n",
    "a=0\n",
    "while i < n :\n",
    "    a +=i\n",
    "    print(i,a)\n",
    "\n",
    "    i+=1\n",
    "print(\"hi\")"
   ]
  },
  {
   "cell_type": "code",
   "execution_count": 4,
   "id": "d94134b8-b8f0-46b8-abcf-b89074bdef70",
   "metadata": {},
   "outputs": [
    {
     "name": "stdout",
     "output_type": "stream",
     "text": [
      "1 50\n",
      "2 51\n",
      "3 52\n",
      "4 53\n",
      "5 54\n",
      "6 55\n",
      "7 56\n",
      "8 57\n",
      "9 58\n",
      "10 59\n",
      "10\n"
     ]
    }
   ],
   "source": [
    "# sum of numbers in a range\n",
    "i=50\n",
    "n=60\n",
    "a=0\n",
    "while i<n:\n",
    "    a+=1\n",
    "    print(a,i)\n",
    "    i+=1\n",
    "print(a)"
   ]
  },
  {
   "cell_type": "code",
   "execution_count": 12,
   "id": "aa9b35e2-18ef-4389-8153-505b0eb5b8b2",
   "metadata": {},
   "outputs": [],
   "source": [
    "name=\"kanika\""
   ]
  },
  {
   "cell_type": "code",
   "execution_count": 14,
   "id": "665bc812-31b8-4a27-92fb-7b10b99b3e27",
   "metadata": {},
   "outputs": [
    {
     "data": {
      "text/plain": [
       "6"
      ]
     },
     "execution_count": 14,
     "metadata": {},
     "output_type": "execute_result"
    }
   ],
   "source": [
    "len(name)"
   ]
  },
  {
   "cell_type": "code",
   "execution_count": 19,
   "id": "180030ab-856a-45db-a83e-f33ff585c532",
   "metadata": {},
   "outputs": [
    {
     "name": "stdout",
     "output_type": "stream",
     "text": [
      "6 kanika 0 k\n",
      "6 kanika 1 a\n",
      "6 kanika 2 n\n",
      "6 kanika 3 i\n",
      "6 kanika 4 k\n",
      "6 kanika 5 a\n"
     ]
    }
   ],
   "source": [
    "name=\"kanika\"\n",
    "i=0\n",
    "n=len(name)\n",
    "while i < n:\n",
    "    print(n, name , i ,name[i])\n",
    "\n",
    "\n",
    "\n",
    "    i += 1"
   ]
  },
  {
   "cell_type": "code",
   "execution_count": 18,
   "id": "a5381ea8-2026-40bb-b5df-a30bb2bcf3e2",
   "metadata": {},
   "outputs": [
    {
     "name": "stdout",
     "output_type": "stream",
     "text": [
      "k\n",
      "a\n",
      "n\n",
      "i\n",
      "k\n",
      "a\n",
      " \n",
      "r\n",
      "a\n",
      "n\n",
      "a\n"
     ]
    }
   ],
   "source": [
    "name=\"kanika rana\"\n",
    "i=0\n",
    "n=len(name)\n",
    "while i < n:\n",
    "    print(name[i])\n",
    "\n",
    "\n",
    "\n",
    "    i += 1"
   ]
  },
  {
   "cell_type": "code",
   "execution_count": 21,
   "id": "490d3f39-fe7f-4b2f-90af-a4858695242d",
   "metadata": {},
   "outputs": [
    {
     "name": "stdin",
     "output_type": "stream",
     "text": [
      "enter inder\n"
     ]
    },
    {
     "name": "stdout",
     "output_type": "stream",
     "text": [
      "i\n",
      "n\n",
      "d\n",
      "e\n",
      "r\n"
     ]
    }
   ],
   "source": [
    "name=input(\"enter\")\n",
    "i=0\n",
    "n=len(name)\n",
    "while i < n:\n",
    "    print(name[i])\n",
    "\n",
    "\n",
    "\n",
    "    i += 1"
   ]
  },
  {
   "cell_type": "code",
   "execution_count": 23,
   "id": "6938fce0-2368-4c15-97a7-84ff4675f5a7",
   "metadata": {},
   "outputs": [
    {
     "name": "stdout",
     "output_type": "stream",
     "text": [
      "8\n",
      "4\n",
      "6\n",
      "1\n",
      "2\n",
      "3\n",
      "5\n",
      "7\n",
      "9\n"
     ]
    }
   ],
   "source": [
    "li=[8,4,6,1,2,3,5,7,9]\n",
    "i=0\n",
    "n=len(li)\n",
    "while i < n:\n",
    "    print(li[i])\n",
    "    i+=1"
   ]
  },
  {
   "cell_type": "code",
   "execution_count": 25,
   "id": "f2811f97-9af0-43c2-91c4-06ac39addf85",
   "metadata": {},
   "outputs": [
    {
     "name": "stdout",
     "output_type": "stream",
     "text": [
      "45\n"
     ]
    }
   ],
   "source": [
    "#to add items abstract from a list\n",
    "li=[8,4,6,1,2,3,5,7,9]\n",
    "i=0\n",
    "n=len(li)\n",
    "total=0\n",
    "while i < n:\n",
    "    total+=li[i]\n",
    "    i+=1\n",
    "print(total)"
   ]
  },
  {
   "cell_type": "code",
   "execution_count": 9,
   "id": "efe3f390-aa62-4f5a-98a3-4a55cc9d21ed",
   "metadata": {},
   "outputs": [
    {
     "name": "stdout",
     "output_type": "stream",
     "text": [
      "9\n"
     ]
    }
   ],
   "source": [
    "#to find larget element in array\n",
    "li=[8,4,6,1,2,3,5,9,7]\n",
    "li.sort()\n",
    "print(li[-1])\n"
   ]
  },
  {
   "cell_type": "code",
   "execution_count": 22,
   "id": "786e3414-2e62-4f5c-92f1-58454fd24916",
   "metadata": {},
   "outputs": [
    {
     "name": "stdout",
     "output_type": "stream",
     "text": [
      "1\n"
     ]
    }
   ],
   "source": [
    "li=[8,4,6,1,2,3,5,9,7]\n",
    "li.sort()\n",
    "print(li[0])\n"
   ]
  },
  {
   "cell_type": "code",
   "execution_count": 10,
   "id": "f5e5cd58-b8c8-4072-a2b8-1eb235cb72c2",
   "metadata": {},
   "outputs": [
    {
     "name": "stdout",
     "output_type": "stream",
     "text": [
      "9\n"
     ]
    }
   ],
   "source": [
    " li=[8,4,6,1,2,3,5,7,9]\n",
    "print(max(li))"
   ]
  },
  {
   "cell_type": "code",
   "execution_count": 11,
   "id": "e02da0d7-421f-4d72-aaf1-a6cae78da906",
   "metadata": {},
   "outputs": [
    {
     "name": "stdout",
     "output_type": "stream",
     "text": [
      "1\n"
     ]
    }
   ],
   "source": [
    "li=[8,4,6,1,2,3,5,7,9]\n",
    "print(min(li))"
   ]
  },
  {
   "cell_type": "code",
   "execution_count": 21,
   "id": "f2c34cc7-0a8d-45d6-a5ca-e2f9548151a0",
   "metadata": {},
   "outputs": [
    {
     "name": "stdout",
     "output_type": "stream",
     "text": [
      "maximum number is: 89\n"
     ]
    }
   ],
   "source": [
    "numbers=[12,45,23,67,34,89,10]\n",
    "i=1\n",
    "max_num=numbers[0]\n",
    "while i < len(numbers):\n",
    "    if numbers[i]>max_num:\n",
    "        max_num = numbers[i]\n",
    "    i+=1\n",
    "print(\"maximum number is:\",max_num)"
   ]
  },
  {
   "cell_type": "code",
   "execution_count": 23,
   "id": "cffb09fa-6e79-49a4-a4ee-295ff9dc6e84",
   "metadata": {},
   "outputs": [
    {
     "name": "stdout",
     "output_type": "stream",
     "text": [
      "maximum number is: 10\n"
     ]
    }
   ],
   "source": [
    "numbers=[12,45,23,67,34,89,10]\n",
    "i=1\n",
    "min_num=numbers[0]\n",
    "while i < len(numbers):\n",
    "    if numbers[i]<min_num:\n",
    "        min_num = numbers[i]\n",
    "    i+=1\n",
    "print(\"maximum number is:\",min_num)"
   ]
  },
  {
   "cell_type": "code",
   "execution_count": 36,
   "id": "878f49d9-0f9d-42cb-a78b-00a4cdfbd699",
   "metadata": {},
   "outputs": [
    {
     "name": "stdout",
     "output_type": "stream",
     "text": [
      "1\n",
      "9\n"
     ]
    }
   ],
   "source": [
    "li=[8,4,6,1,2,3,5,9,7]\n",
    "li.sort()\n",
    "print(li[0])\n",
    "print(li[-1])"
   ]
  },
  {
   "cell_type": "code",
   "execution_count": 37,
   "id": "92abe6cb-56a5-442b-a840-ecd67d54e1b1",
   "metadata": {},
   "outputs": [
    {
     "name": "stdout",
     "output_type": "stream",
     "text": [
      "1\n",
      "9\n"
     ]
    }
   ],
   "source": [
    "li=[8,4,6,1,2,3,5,7,9]\n",
    "print(min(li))\n",
    "print(max(li))"
   ]
  },
  {
   "cell_type": "code",
   "execution_count": 38,
   "id": "8d58450c-0322-415e-b310-76b0059cac3a",
   "metadata": {},
   "outputs": [
    {
     "name": "stdout",
     "output_type": "stream",
     "text": [
      "maximum number is: 89\n",
      "minimum number is: 10\n"
     ]
    }
   ],
   "source": [
    "numbers=[12,45,23,67,34,89,10]\n",
    "i=1\n",
    "max_num=numbers[0]\n",
    "min_num=numbers[0]\n",
    "while i < len(numbers):\n",
    "    if numbers[i]>max_num:\n",
    "        max_num = numbers[i]\n",
    "    if number[i]<min_num:\n",
    "        min_num=numbers[i]\n",
    "    i+=1\n",
    "print(\"maximum number is:\",max_num)\n",
    "print(\"minimum number is:\",min_num)"
   ]
  },
  {
   "cell_type": "code",
   "execution_count": 39,
   "id": "6dc94fbb-2cd6-46a6-9d91-5b2f059df028",
   "metadata": {},
   "outputs": [
    {
     "name": "stdout",
     "output_type": "stream",
     "text": [
      "8\n"
     ]
    }
   ],
   "source": [
    "li=[8,4,6,1,2,3,5,9,7]\n",
    "li.sort()\n",
    "print(li[-2])"
   ]
  },
  {
   "cell_type": "code",
   "execution_count": 2,
   "id": "df655068-50cd-4076-9888-02c6c262d1a2",
   "metadata": {},
   "outputs": [
    {
     "name": "stdout",
     "output_type": "stream",
     "text": [
      "second max num: 6\n"
     ]
    }
   ],
   "source": [
    "numbers=[5,3,6,4,8,2]\n",
    "i=0\n",
    "max1=float('-inf')# this means negative infinity, which is lower than any number\n",
    "max2=float('-inf')\n",
    "while i <len(numbers):\n",
    "    num=numbers[i]\n",
    "    if num>max1:\n",
    "        \n",
    "        max2=max1\n",
    "        max1=num\n",
    "    elif num >max2 and num !=max1:\n",
    "        max2=num\n",
    "    i+=1\n",
    "print(\"second max num:\",max2)"
   ]
  },
  {
   "cell_type": "code",
   "execution_count": 41,
   "id": "b6ac2eea-9b5b-4d68-82fd-900e965adf8a",
   "metadata": {},
   "outputs": [
    {
     "name": "stdout",
     "output_type": "stream",
     "text": [
      "28\n"
     ]
    }
   ],
   "source": [
    "numbers=[5,3,6,4,8,2]\n",
    "print(sum(numbers))"
   ]
  },
  {
   "cell_type": "code",
   "execution_count": 43,
   "id": "a79a499b-5fb0-44ff-b3e7-fb0ea74e41ae",
   "metadata": {},
   "outputs": [
    {
     "name": "stdout",
     "output_type": "stream",
     "text": [
      "sum is: 18\n"
     ]
    }
   ],
   "source": [
    "i=5\n",
    "n=7\n",
    "total=0\n",
    "while i<=n:\n",
    "    total +=i\n",
    "    i+=1\n",
    "print(\"sum is:\",total)"
   ]
  },
  {
   "cell_type": "code",
   "execution_count": 45,
   "id": "3c7f1a2b-56d8-4b9c-8043-d94c7af88582",
   "metadata": {},
   "outputs": [
    {
     "name": "stdin",
     "output_type": "stream",
     "text": [
      "enter a number: 5\n"
     ]
    },
    {
     "name": "stdout",
     "output_type": "stream",
     "text": [
      "sum is: 15\n"
     ]
    }
   ],
   "source": [
    "n=int(input(\"enter a number:\"))\n",
    "i=1\n",
    "total=0\n",
    "while i<=n:\n",
    "    total+=i\n",
    "    i+=1\n",
    "print(\"sum is:\",total)"
   ]
  },
  {
   "cell_type": "code",
   "execution_count": 46,
   "id": "6cdf0c0f-0e52-4ebb-9101-56edff929f67",
   "metadata": {},
   "outputs": [
    {
     "name": "stdout",
     "output_type": "stream",
     "text": [
      "45\n"
     ]
    }
   ],
   "source": [
    "li=[8,4,6,1,2,3,5,7,9]\n",
    "i=0\n",
    "n=len(li)\n",
    "total=0\n",
    "while i < n:\n",
    "    total+=li[i]\n",
    "    i+=1\n",
    "print(total)"
   ]
  },
  {
   "cell_type": "code",
   "execution_count": 47,
   "id": "03a9833d-6e89-4466-9917-dec25835f0c9",
   "metadata": {},
   "outputs": [
    {
     "name": "stdout",
     "output_type": "stream",
     "text": [
      "[9, 7, 5, 3, 2, 1, 6, 4, 8]\n"
     ]
    }
   ],
   "source": [
    "li=[8,4,6,1,2,3,5,7,9]\n",
    "print(li[::-1])"
   ]
  },
  {
   "cell_type": "code",
   "execution_count": 51,
   "id": "30ad791b-96a8-4f89-928d-40dc1eee4c78",
   "metadata": {},
   "outputs": [
    {
     "name": "stdout",
     "output_type": "stream",
     "text": [
      "[5, 4, 3, 2, 1]\n"
     ]
    }
   ],
   "source": [
    "my_list=[1,2,3,4,5]\n",
    "reversed_list=[]\n",
    "i=len(my_list)-1\n",
    "while i>=0:\n",
    "    reversed_list.append(my_list[i])\n",
    "    i-=1\n",
    "print(reversed_list)"
   ]
  },
  {
   "cell_type": "code",
   "execution_count": 28,
   "id": "824ef5b7-2388-489f-9c68-a4d1e574f8d9",
   "metadata": {},
   "outputs": [
    {
     "name": "stdout",
     "output_type": "stream",
     "text": [
      "[6, 7, 8, 9, 5, 4, 3, 2, 1]\n"
     ]
    }
   ],
   "source": [
    "# sort first half in ascending and second half in descending order:\n",
    "li=[9,8,7,6,5,4,3,2,1]\n",
    "n=len(li)\n",
    "mid = n//2\n",
    "first_half = sorted(li[:mid])\n",
    "second_half = sorted(li[mid:],reverse=True)\n",
    "result = first_half + second_half \n",
    "print(result)"
   ]
  },
  {
   "cell_type": "code",
   "execution_count": 2,
   "id": "06509342-8d96-4ba3-8f31-09c544dda349",
   "metadata": {},
   "outputs": [
    {
     "name": "stdout",
     "output_type": "stream",
     "text": [
      "result [6, 7, 8, 9, 5, 4, 3, 2, 1]\n"
     ]
    }
   ],
   "source": [
    "li=[9,8,7,6,5,4,3,2,1]\n",
    "n=len(li)\n",
    "mid =n//2\n",
    "i=0\n",
    "while i<mid:\n",
    "    j=i+1\n",
    "    while j<mid:\n",
    "        if li[i]>li[j]: #swap for ascending\n",
    "            li[i],li[j]=li[j],li[i]\n",
    "        j+=1\n",
    "    i+=1 \n",
    "i=mid\n",
    "while i<n:\n",
    "    j=i+1\n",
    "    while  j<n:\n",
    "        if li[i]<li[j]:\n",
    "            li[i],li[j]=li[j],li[i]\n",
    "        j+=1\n",
    "    i+=1\n",
    "print(\"result\",li)"
   ]
  },
  {
   "cell_type": "code",
   "execution_count": 1,
   "id": "9ec84960-7a33-4658-b0d0-16363546b5ae",
   "metadata": {},
   "outputs": [
    {
     "name": "stdout",
     "output_type": "stream",
     "text": [
      "ascending: [1, 2, 2, 4, 5, 5, 8]\n"
     ]
    }
   ],
   "source": [
    "# sort the elements of an array:\n",
    "li=[5,8,2,5,1,4,2]\n",
    "li.sort()\n",
    "print(\"ascending:\",li)\n"
   ]
  },
  {
   "cell_type": "code",
   "execution_count": 4,
   "id": "b0db2201-a5ba-4839-b7f1-76ac48e7c7a7",
   "metadata": {},
   "outputs": [
    {
     "name": "stdout",
     "output_type": "stream",
     "text": [
      "descending: [8, 5, 5, 4, 2, 2, 1]\n"
     ]
    }
   ],
   "source": [
    "#in descending\n",
    "li=[5,8,2,5,1,4,2]\n",
    "li.sort(reverse=True)\n",
    "print(\"descending:\",li)\n"
   ]
  },
  {
   "cell_type": "code",
   "execution_count": 5,
   "id": "fcb0bc7b-baff-425d-a1c1-f6acf4216746",
   "metadata": {},
   "outputs": [
    {
     "name": "stdout",
     "output_type": "stream",
     "text": [
      "ascending [1, 3, 4, 5, 5, 8, 8, 9]\n"
     ]
    }
   ],
   "source": [
    "li=[9,8,5,3,5,8,1,4]\n",
    "n=len(li)\n",
    "i=0\n",
    "while i<n:\n",
    "    j=i+1\n",
    "    while j<n:\n",
    "        if li[i] >li[j]:#swap for ascending\n",
    "            li[i],li[j]=li[j],li[i]\n",
    "        j+=1\n",
    "    i+=1\n",
    "print(\"ascending\",li)\n",
    "        "
   ]
  },
  {
   "cell_type": "code",
   "execution_count": 6,
   "id": "a019b3b1-6099-4d14-9092-42fb9c25da0b",
   "metadata": {},
   "outputs": [
    {
     "name": "stdout",
     "output_type": "stream",
     "text": [
      "ascending [9, 8, 8, 5, 5, 4, 3, 1]\n"
     ]
    }
   ],
   "source": [
    "li=[9,8,5,3,5,8,1,4]\n",
    "n=len(li)\n",
    "i=0\n",
    "while i<n:\n",
    "    j=i+1\n",
    "    while j<n:\n",
    "        if li[i] <li[j]:#swap for ascending\n",
    "            li[i],li[j]=li[j],li[i]\n",
    "        j+=1\n",
    "    i+=1\n",
    "print(\"ascending\",li)\n",
    "        "
   ]
  },
  {
   "cell_type": "code",
   "execution_count": 7,
   "id": "bda57ba5-bac5-4f92-8003-193f162572fc",
   "metadata": {},
   "outputs": [
    {
     "name": "stdout",
     "output_type": "stream",
     "text": [
      "frequency: {5: 1, 8: 1, 5.9: 1, 7: 1, 6: 2, 2: 2, 3: 1, 1: 1}\n"
     ]
    }
   ],
   "source": [
    "# finding the frequency of elements in an array:(frequency means how many times an element occurs)\\\n",
    "#using dictionary\n",
    "li=[5,8,5.9,7,6,2,3,2,1,6]\n",
    "freq={}\n",
    "for num in li:\n",
    "    if num in freq:\n",
    "        freq[num]+=1\n",
    "    else:\n",
    "        freq[num]=1\n",
    "print(\"frequency:\",freq)\n"
   ]
  },
  {
   "cell_type": "code",
   "execution_count": 9,
   "id": "a1821e8d-d19a-40ce-a8f1-9c822789a228",
   "metadata": {},
   "outputs": [
    {
     "name": "stdout",
     "output_type": "stream",
     "text": [
      "frequency: {7: 2, 8: 2, 2: 2, 4: 1, 1: 1}\n"
     ]
    }
   ],
   "source": [
    "#using collections.counnter\n",
    "from collections import Counter\n",
    "li=[7,8,8,2,2,7,4,1]\n",
    "freq=Counter(li)\n",
    "print(\"frequency:\",dict(freq))"
   ]
  },
  {
   "cell_type": "code",
   "execution_count": 12,
   "id": "94f894bc-1783-46d8-9212-4b43cee84fdd",
   "metadata": {},
   "outputs": [
    {
     "name": "stdout",
     "output_type": "stream",
     "text": [
      "7 occurs 2 time(s)\n",
      "8 occurs 2 time(s)\n",
      "9 occurs 1 time(s)\n",
      "5 occurs 1 time(s)\n",
      "1 occurs 1 time(s)\n",
      "4 occurs 2 time(s)\n"
     ]
    }
   ],
   "source": [
    "# using while\n",
    "li=[7,8,9,5,1,4,7,8,4]\n",
    "n=len(li)\n",
    "visited=[False]*n\n",
    "i=0\n",
    "while i<n:\n",
    "    if not visited[i]:\n",
    "        count=1\n",
    "        j=i+1\n",
    "        while j<n:\n",
    "            if li[i]==li[j]:\n",
    "                count+=1\n",
    "                visited[j]=True\n",
    "            j+=1\n",
    "        print(f\"{li[i]} occurs {count} time(s)\")\n",
    "    i+=1"
   ]
  },
  {
   "cell_type": "code",
   "execution_count": 2,
   "id": "d3172526-68a1-47a5-8a0b-854d461920d0",
   "metadata": {},
   "outputs": [
    {
     "name": "stdout",
     "output_type": "stream",
     "text": [
      "sorted by frequency: [2, 2, 4, 4, 7, 7, 8, 8, 5]\n"
     ]
    }
   ],
   "source": [
    "# sorting elements of an array by frequency:\n",
    "l=[7,8,4,7,8,5,2,4,2]\n",
    "# step1: count frequency manually using while loop\n",
    "freq_dict={}\n",
    "i=0\n",
    "while i<len(l):\n",
    "    if l[i] in freq_dict:\n",
    "        freq_dict[l[i]]+=1\n",
    "    else:\n",
    "        freq_dict[l[i]]=1\n",
    "    i+=1\n",
    "# step 2: sort the l by frequency (highest first)\n",
    "# convert l to a new sorted list\n",
    "sorted_l=l[:] # copy\n",
    "i=0\n",
    "while i<len(sorted_l):\n",
    "    j=i+1\n",
    "    while j<len(sorted_l):\n",
    "        #compare frequency\n",
    "        if freq_dict[sorted_l[j]]>freq_dict[sorted_l[i]]:\n",
    "            sorted_l[i],sorted_l[j]=sorted_l[j], sorted_l[i]\n",
    "        elif freq_dict[sorted_l[j]]==freq_dict[sorted_l[i]] and sorted_l[j]<sorted_l[i]:\n",
    "            # if same frequency, sort by value(optional)\n",
    "            sorted_l[i],sorted_l[j]=sorted_l[j],sorted_l[i]\n",
    "        j+=1\n",
    "    i+=1\n",
    "print(\"sorted by frequency:\",sorted_l)"
   ]
  },
  {
   "cell_type": "code",
   "execution_count": 4,
   "id": "6fafec79-54e8-47e1-8985-c4fb2c5b32fa",
   "metadata": {},
   "outputs": [
    {
     "name": "stdout",
     "output_type": "stream",
     "text": [
      "longest palindrome: racecar\n"
     ]
    }
   ],
   "source": [
    "# finding the longest palindrome in an array:\n",
    "l=[\"madam\",\"racecar\",\"apple\",\"level\",\"noon\"]\n",
    "# step1: function to check palindrome manually using while loop:\n",
    "def is_palindrome(word):\n",
    "    left=0\n",
    "    right=len(word)-1\n",
    "    while left<right:\n",
    "        if word[left] !=word[right]:\n",
    "            return False\n",
    "        left+=1\n",
    "        right-=1\n",
    "    return True\n",
    "# step 2: find the longest palindrome\n",
    "i=0\n",
    "longest=\"\"\n",
    "while i<len(l):\n",
    "    if is_palindrome(l[i]):\n",
    "        if len(l[i])>len(longest):\n",
    "            longest = l[i]\n",
    "    i+=1\n",
    "#step3: print result\n",
    "if longest !=\"\":\n",
    "    print(\"longest palindrome:\",longest)\n",
    "else:\n",
    "    print(\"no palindrome found\")"
   ]
  },
  {
   "cell_type": "code",
   "execution_count": 1,
   "id": "ea707990-703c-416a-8f17-e1aa62ece517",
   "metadata": {},
   "outputs": [
    {
     "name": "stdout",
     "output_type": "stream",
     "text": [
      "number of distinct elements: 5\n"
     ]
    }
   ],
   "source": [
    "# counting distinct elements in an array:\n",
    "l=[1,2,3,5,8,5]\n",
    "unique_list=[] #to store unique elements\n",
    "i=0 # starting index\n",
    "while i<len(l):\n",
    "    if l[i] not in unique_list: #check if not already added\n",
    "        unique_list.append(l[i])\n",
    "    i+=1 # move to next element\n",
    "count=len(unique_list)\n",
    "print(\"number of distinct elements:\",count)\n"
   ]
  },
  {
   "cell_type": "code",
   "execution_count": null,
   "id": "194cffeb-a51f-4cab-ab23-bb9e911c6387",
   "metadata": {},
   "outputs": [],
   "source": [
    "# finding repeating elements in an array:"
   ]
  },
  {
   "cell_type": "code",
   "execution_count": null,
   "id": "0900cae2-47c2-4ff1-87d4-f9b37bc3ddc4",
   "metadata": {},
   "outputs": [],
   "source": [
    "#  finding non repeating elements in an array:\n"
   ]
  },
  {
   "cell_type": "code",
   "execution_count": null,
   "id": "a1eeb51e-55b4-4ac6-b30e-abb4899cc791",
   "metadata": {},
   "outputs": [],
   "source": [
    "# removing duplicate elements from an array:\n"
   ]
  },
  {
   "cell_type": "code",
   "execution_count": 6,
   "id": "b5f4fdef-7fd3-49d9-ae6d-fb8289a5477b",
   "metadata": {},
   "outputs": [],
   "source": [
    "# finding minimum scalar product of two vectors:\n"
   ]
  },
  {
   "cell_type": "code",
   "execution_count": 7,
   "id": "47e66f4e-b4ba-49f0-8074-65970edf1b50",
   "metadata": {},
   "outputs": [],
   "source": [
    "# finding maximum scalar product of two vectors:\n"
   ]
  },
  {
   "cell_type": "code",
   "execution_count": 8,
   "id": "23651d69-79a5-4331-a850-40f63795be37",
   "metadata": {},
   "outputs": [],
   "source": [
    "# counting the number of even and odd elements:\n"
   ]
  },
  {
   "cell_type": "code",
   "execution_count": 9,
   "id": "a97b5b09-bd73-4f71-bbdc-1b114c8459c0",
   "metadata": {},
   "outputs": [],
   "source": [
    "# find all symmetric pairs in an array:\n"
   ]
  },
  {
   "cell_type": "code",
   "execution_count": 10,
   "id": "200ce27c-c212-4a1e-a139-28be7116f2ce",
   "metadata": {},
   "outputs": [],
   "source": [
    "# find maximum product sub-array in a given array:\n"
   ]
  },
  {
   "cell_type": "code",
   "execution_count": 11,
   "id": "0b1c0f72-2f7e-43cb-9fbd-5f5e041f0cec",
   "metadata": {},
   "outputs": [],
   "source": [
    "# finding arrays are disjoint or not:\n"
   ]
  },
  {
   "cell_type": "code",
   "execution_count": 12,
   "id": "1c5c32bb-2055-418d-a80d-399120eca411",
   "metadata": {},
   "outputs": [],
   "source": [
    "# determine array is a subset of another array or not:\n"
   ]
  },
  {
   "cell_type": "code",
   "execution_count": 13,
   "id": "86377ef7-b833-4b99-9a34-4f45625556f6",
   "metadata": {},
   "outputs": [],
   "source": [
    "# determine can all numbers of an array be made equal:\n"
   ]
  },
  {
   "cell_type": "code",
   "execution_count": 14,
   "id": "e346a039-645d-4783-ae94-ac040cee1b62",
   "metadata": {},
   "outputs": [],
   "source": [
    "# finding minimum sum of absolute difference of given array:\n"
   ]
  },
  {
   "cell_type": "code",
   "execution_count": 15,
   "id": "84dff3ab-af2c-4029-86e2-6740980e1dda",
   "metadata": {},
   "outputs": [],
   "source": [
    "# sort an array according to the order defined by another array:\n"
   ]
  },
  {
   "cell_type": "code",
   "execution_count": 16,
   "id": "8cce4c19-bb8a-488d-8ef5-dd59f66d832d",
   "metadata": {},
   "outputs": [],
   "source": [
    "# replace each element of the array by it rank in the array:\n"
   ]
  },
  {
   "cell_type": "code",
   "execution_count": 17,
   "id": "ff6becc8-f89f-43e3-a59d-cfa88be9edfd",
   "metadata": {},
   "outputs": [],
   "source": [
    "# finding equilibrium index of an array:\n"
   ]
  },
  {
   "cell_type": "code",
   "execution_count": 19,
   "id": "acf5ce76-9dfe-461e-ab18-801aacd3f822",
   "metadata": {},
   "outputs": [],
   "source": [
    "# rotation of elements of array-left and right:\n"
   ]
  },
  {
   "cell_type": "code",
   "execution_count": 20,
   "id": "0dd0f316-6df6-4022-a531-610f9b669a9b",
   "metadata": {},
   "outputs": [],
   "source": [
    "# block swap algorithm for array rotation:\n"
   ]
  },
  {
   "cell_type": "code",
   "execution_count": 21,
   "id": "5114fc46-f15f-495f-8980-dc3cdcca85b4",
   "metadata": {},
   "outputs": [],
   "source": [
    "# juggling algorithm for array rotation:\n"
   ]
  },
  {
   "cell_type": "code",
   "execution_count": 22,
   "id": "9073e67b-048b-4329-9293-5e4b3909a572",
   "metadata": {},
   "outputs": [],
   "source": [
    "# finding circular rotation of an array by K positions:\n"
   ]
  },
  {
   "cell_type": "code",
   "execution_count": 23,
   "id": "f2cc6e70-f8c9-4123-ae7e-a2794f592d92",
   "metadata": {},
   "outputs": [],
   "source": [
    "# balanced parenthesis problem:\n"
   ]
  },
  {
   "cell_type": "code",
   "execution_count": null,
   "id": "8defbaed-d600-4717-8e05-cd811e973480",
   "metadata": {},
   "outputs": [],
   "source": []
  }
 ],
 "metadata": {
  "kernelspec": {
   "display_name": "Python [conda env:base] *",
   "language": "python",
   "name": "conda-base-py"
  },
  "language_info": {
   "codemirror_mode": {
    "name": "ipython",
    "version": 3
   },
   "file_extension": ".py",
   "mimetype": "text/x-python",
   "name": "python",
   "nbconvert_exporter": "python",
   "pygments_lexer": "ipython3",
   "version": "3.13.5"
  }
 },
 "nbformat": 4,
 "nbformat_minor": 5
}
