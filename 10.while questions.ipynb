{
 "cells": [
  {
   "cell_type": "code",
   "execution_count": 2,
   "id": "486079a0-b86c-4ee8-af10-c44fcad5bd70",
   "metadata": {},
   "outputs": [],
   "source": [
    "#n=number of eternations\n",
    "d={'name':'kanika','age':20,'education':'bsc'}"
   ]
  },
  {
   "cell_type": "code",
   "execution_count": 4,
   "id": "d34775c3-2df9-4d3e-9ff6-9192b1326ebb",
   "metadata": {},
   "outputs": [
    {
     "data": {
      "text/plain": [
       "{'name': 'kanika', 'age': 20, 'education': 'bsc'}"
      ]
     },
     "execution_count": 4,
     "metadata": {},
     "output_type": "execute_result"
    }
   ],
   "source": [
    "d"
   ]
  },
  {
   "cell_type": "code",
   "execution_count": 5,
   "id": "a540529c-9c99-4647-b843-6ca5a603ca9b",
   "metadata": {},
   "outputs": [
    {
     "data": {
      "text/plain": [
       "dict_keys(['name', 'age', 'education'])"
      ]
     },
     "execution_count": 5,
     "metadata": {},
     "output_type": "execute_result"
    }
   ],
   "source": [
    "d.keys()"
   ]
  },
  {
   "cell_type": "code",
   "execution_count": 7,
   "id": "dbc3784f-745b-4db5-88b7-4dfca36c4098",
   "metadata": {},
   "outputs": [
    {
     "data": {
      "text/plain": [
       "['name', 'age', 'education']"
      ]
     },
     "execution_count": 7,
     "metadata": {},
     "output_type": "execute_result"
    }
   ],
   "source": [
    "# to do indexing sciling we first need to convert dict. to list\n",
    "list(d.keys())"
   ]
  },
  {
   "cell_type": "code",
   "execution_count": 3,
   "id": "fc4f3bb6-cdca-4856-a476-f159d59020ac",
   "metadata": {},
   "outputs": [
    {
     "data": {
      "text/plain": [
       "3"
      ]
     },
     "execution_count": 3,
     "metadata": {},
     "output_type": "execute_result"
    }
   ],
   "source": [
    "len(d)"
   ]
  },
  {
   "cell_type": "code",
   "execution_count": 10,
   "id": "498b4ac9-f3b1-41f9-afc6-843f40a881fb",
   "metadata": {},
   "outputs": [
    {
     "name": "stdout",
     "output_type": "stream",
     "text": [
      "kanika\n",
      "20\n",
      "bsc\n"
     ]
    }
   ],
   "source": [
    "d={'name':'kanika','age':20,'education':'bsc'}\n",
    "i=0\n",
    "n=len(d)\n",
    "k=list(d.keys())\n",
    "    \n",
    "while i<n:\n",
    "    print(d[k[i]])\n",
    "\n",
    "\n",
    "    i+=1"
   ]
  },
  {
   "cell_type": "code",
   "execution_count": 12,
   "id": "1e8ec47c-d6c0-42b4-8ae4-953ebb6f7338",
   "metadata": {},
   "outputs": [
    {
     "data": {
      "text/plain": [
       "dict_values(['kanika', 20, 'bsc'])"
      ]
     },
     "execution_count": 12,
     "metadata": {},
     "output_type": "execute_result"
    }
   ],
   "source": [
    "d.values()"
   ]
  },
  {
   "cell_type": "code",
   "execution_count": 14,
   "id": "15f894ad-c0c3-4a74-986c-07eaccd7a604",
   "metadata": {},
   "outputs": [
    {
     "name": "stdout",
     "output_type": "stream",
     "text": [
      "8 10\n"
     ]
    }
   ],
   "source": [
    "l=[9,7,1,4,3,5,4,8,10]\n",
    "i=0\n",
    "n=len(l)\n",
    "a=0\n",
    "while i<n:\n",
    "    if l[i]>l[a]:\n",
    "        a=i\n",
    "    i+=1\n",
    "print(a,l[a]) #a shows the index number of greater element"
   ]
  },
  {
   "cell_type": "code",
   "execution_count": 26,
   "id": "e37b22aa-6ace-4710-97ae-6dc2a3356490",
   "metadata": {},
   "outputs": [
    {
     "name": "stdout",
     "output_type": "stream",
     "text": [
      "2 1\n"
     ]
    }
   ],
   "source": [
    "l=[9,7,1,4,3,5,4,8,10]\n",
    "i=0\n",
    "n=len(l)\n",
    "a=0\n",
    "while i<n:\n",
    "    \n",
    "    if l[i]<l[a]:\n",
    "        a=i\n",
    "    i+=1\n",
    "print(a,l[a]) #a shows the index number of smallest element\n"
   ]
  },
  {
   "cell_type": "code",
   "execution_count": 27,
   "id": "7f9dc27f-e4f9-4663-b952-de369545e1b0",
   "metadata": {},
   "outputs": [
    {
     "name": "stdout",
     "output_type": "stream",
     "text": [
      "0 9 0 9\n",
      "0 9 1 7\n",
      "1 7 2 1\n",
      "2 1 3 4\n",
      "2 1 4 3\n",
      "2 1 5 5\n",
      "2 1 6 4\n",
      "2 1 7 8\n",
      "2 1 8 10\n",
      "2 1\n"
     ]
    }
   ],
   "source": [
    "l=[9,7,1,4,3,5,4,8,10]\n",
    "i=0\n",
    "n=len(l)\n",
    "a=0\n",
    "while i<n:\n",
    "    print(a,l[a],i,l[i])\n",
    "    if l[i]<l[a]:\n",
    "        a=i\n",
    "    i+=1\n",
    "print(a,l[a])"
   ]
  },
  {
   "cell_type": "code",
   "execution_count": 30,
   "id": "474083df-2229-4eb4-80bb-2c95765e7452",
   "metadata": {},
   "outputs": [
    {
     "name": "stdout",
     "output_type": "stream",
     "text": [
      "total 51\n"
     ]
    }
   ],
   "source": [
    "l=[9,7,1,4,3,5,4,8,10]\n",
    "i=0\n",
    "n=len(l)\n",
    "total=0\n",
    "while i<n:\n",
    "    total+=l[i]\n",
    "    i+=1\n",
    "print(\"total\",total)"
   ]
  },
  {
   "cell_type": "code",
   "execution_count": 32,
   "id": "46863bca-e05a-4ed5-b4c2-d01c9f0e1b4b",
   "metadata": {},
   "outputs": [],
   "source": [
    "l.sort()\n"
   ]
  },
  {
   "cell_type": "code",
   "execution_count": 36,
   "id": "6ce6f113-a10e-4b00-9b18-9ae9314f6c46",
   "metadata": {},
   "outputs": [
    {
     "data": {
      "text/plain": [
       "[1, 3, 4, 4, 5, 7, 8, 9, 10]"
      ]
     },
     "execution_count": 36,
     "metadata": {},
     "output_type": "execute_result"
    }
   ],
   "source": [
    "l"
   ]
  },
  {
   "cell_type": "code",
   "execution_count": 33,
   "id": "5b876722-8516-4d00-a591-d13aedd4fc2c",
   "metadata": {},
   "outputs": [
    {
     "data": {
      "text/plain": [
       "4"
      ]
     },
     "execution_count": 33,
     "metadata": {},
     "output_type": "execute_result"
    }
   ],
   "source": [
    "len(l)//2"
   ]
  },
  {
   "cell_type": "code",
   "execution_count": 35,
   "id": "96de00ff-7be7-4329-8645-9d28422bb7c9",
   "metadata": {},
   "outputs": [
    {
     "data": {
      "text/plain": [
       "5"
      ]
     },
     "execution_count": 35,
     "metadata": {},
     "output_type": "execute_result"
    }
   ],
   "source": [
    "# to find middle item:\n",
    "l[len(l)//2]"
   ]
  },
  {
   "cell_type": "code",
   "execution_count": 2,
   "id": "faa7e352-70dd-4661-8d61-fe8089f8011f",
   "metadata": {},
   "outputs": [
    {
     "name": "stdout",
     "output_type": "stream",
     "text": [
      "2\n",
      "3\n",
      "4\n",
      "5\n",
      "25 is not a prime number\n"
     ]
    }
   ],
   "source": [
    "# to check weather a number is a prime or not (very important question)\n",
    "n =25\n",
    "prime=True\n",
    "i=2\n",
    "while i<n:\n",
    "    print(i)\n",
    "    if n %i==0:\n",
    "        prime=False\n",
    "        break\n",
    "    i+= 1\n",
    "if prime:\n",
    "    print(f\"{n} is prime number\")\n",
    "else:\n",
    "    print(f\"{n} is not a prime number\")"
   ]
  },
  {
   "cell_type": "code",
   "execution_count": 44,
   "id": "0288c5e6-3c5f-4efc-a18f-1919b0ed355e",
   "metadata": {},
   "outputs": [
    {
     "name": "stdout",
     "output_type": "stream",
     "text": [
      "2\n",
      "3\n",
      "4\n",
      "5\n",
      "6\n",
      "7\n",
      "8\n",
      "9\n",
      "10\n",
      "11 is prime number\n"
     ]
    }
   ],
   "source": [
    "n =11\n",
    "prime=True\n",
    "i=2\n",
    "while i<n:\n",
    "    print(i)\n",
    "    if n %i== 0:\n",
    "        prime=False\n",
    "        break\n",
    "    i+= 1\n",
    "if prime:\n",
    "    print(f\"{n} is prime number\")\n",
    "else:\n",
    "    print(f\"{n} is not a prime number\")"
   ]
  },
  {
   "cell_type": "code",
   "execution_count": 5,
   "id": "fc74a876-b507-406f-8566-bf9b35962deb",
   "metadata": {},
   "outputs": [
    {
     "name": "stdout",
     "output_type": "stream",
     "text": [
      "1\n",
      "2\n",
      "3\n",
      "4\n",
      "6\n",
      "8\n",
      "12\n",
      "24\n",
      "[1, 2, 3, 4, 6, 8, 12, 24]\n"
     ]
    }
   ],
   "source": [
    "#to find the factors of a number\n",
    "i=1\n",
    "n=24\n",
    "l=[]\n",
    "while i<=n:\n",
    "    if n%i==0:\n",
    "        print(i)\n",
    "        l.append(i)\n",
    "    \n",
    "\n",
    "\n",
    "    i+=1\n",
    "print(l)"
   ]
  },
  {
   "cell_type": "code",
   "execution_count": 6,
   "id": "2259ee8a-e04e-4e67-90b2-e96478300b73",
   "metadata": {},
   "outputs": [
    {
     "name": "stdout",
     "output_type": "stream",
     "text": [
      "7  %  1  =  7.0\n",
      "7  %  7  =  1.0\n",
      "[1, 7]\n",
      "7 is a prime number\n"
     ]
    }
   ],
   "source": [
    "i=1\n",
    "n=7\n",
    "l=[]\n",
    "while i<=n:\n",
    "    if n%i==0:\n",
    "        print(n,\" % \",i ,\" = \",n/i)\n",
    "        l.append(i)\n",
    "    \n",
    "\n",
    "\n",
    "    i+=1\n",
    "print(l)\n",
    "if len(l)==2:\n",
    "    print(n,\"is a prime number\")"
   ]
  },
  {
   "cell_type": "code",
   "execution_count": null,
   "id": "86629a1b-aede-4cb2-a4e6-62337b9c4ace",
   "metadata": {},
   "outputs": [],
   "source": []
  },
  {
   "cell_type": "code",
   "execution_count": 6,
   "id": "90bc0473-91b7-4c64-a5ce-f3e5edfd791f",
   "metadata": {},
   "outputs": [
    {
     "name": "stdout",
     "output_type": "stream",
     "text": [
      "largest number 45\n",
      "second largest number 10\n"
     ]
    }
   ],
   "source": [
    "# second largest number\n",
    "a=[9,8,7,10,5,45]\n",
    "i=0\n",
    "n=len(a)\n",
    "l=a[0]\n",
    "s=a[0]\n",
    "while i<n:\n",
    "    if a[i]>l:\n",
    "        s=l\n",
    "        l=a[i]\n",
    "    elif a[i]>s :\n",
    "        s=a[i]\n",
    "\n",
    "    i+=1\n",
    "print(\"largest number\",l)\n",
    "\n",
    "print(\"second largest number\",s)"
   ]
  },
  {
   "cell_type": "code",
   "execution_count": 8,
   "id": "8f91bdd0-6e5a-4ef1-a24b-44568ace61ab",
   "metadata": {},
   "outputs": [
    {
     "name": "stdout",
     "output_type": "stream",
     "text": [
      "[1, 24, 2, 12, 3, 8, 4, 6]\n"
     ]
    }
   ],
   "source": [
    "#to find the factors of a number\n",
    "i=1\n",
    "n=24\n",
    "l=[]\n",
    "while i<=n**(1/2):\n",
    "    if n%i==0:\n",
    "        \n",
    "        l.append(i)\n",
    "        l.append(n//i)\n",
    "\n",
    "\n",
    "    i+=1\n",
    "print(l)"
   ]
  },
  {
   "cell_type": "code",
   "execution_count": 14,
   "id": "f0791e59-2965-4aae-acd7-1424f9b784b3",
   "metadata": {},
   "outputs": [
    {
     "name": "stdout",
     "output_type": "stream",
     "text": [
      "0123"
     ]
    }
   ],
   "source": [
    "j=0\n",
    "m=4\n",
    "while j<m:\n",
    "    print(j,end=\"\")\n",
    "    j+=1\n",
    "    \n",
    "    "
   ]
  },
  {
   "cell_type": "code",
   "execution_count": 12,
   "id": "c625688e-ecbd-4c93-b940-45c35fd7f884",
   "metadata": {},
   "outputs": [
    {
     "name": "stdout",
     "output_type": "stream",
     "text": [
      "0123012301230123"
     ]
    }
   ],
   "source": [
    "i=0\n",
    "n=4\n",
    "while i<n:\n",
    "    j=0\n",
    "    m=4\n",
    "    while j<m:\n",
    "        print(j,end=\"\")\n",
    "        j+=1\n",
    "    i+=1"
   ]
  },
  {
   "cell_type": "code",
   "execution_count": 31,
   "id": "41cf7685-443c-4727-b7e7-da9d66a6adfd",
   "metadata": {},
   "outputs": [
    {
     "name": "stdout",
     "output_type": "stream",
     "text": [
      "0123\n",
      "0123\n",
      "0123\n",
      "0123\n"
     ]
    }
   ],
   "source": [
    "i=0\n",
    "n=4\n",
    "while i<n:\n",
    "    j=0\n",
    "    m=4\n",
    "    while j<m:\n",
    "        print(j,end=\"\")\n",
    "        j+=1\n",
    "    print()\n",
    "    i+=1"
   ]
  },
  {
   "cell_type": "code",
   "execution_count": 17,
   "id": "cc85fbe4-9f86-4809-8155-a7b636d2d604",
   "metadata": {},
   "outputs": [
    {
     "name": "stdout",
     "output_type": "stream",
     "text": [
      "0\n",
      "1\n",
      "2\n",
      "3\n",
      "\n",
      "0\n",
      "1\n",
      "2\n",
      "3\n",
      "\n",
      "0\n",
      "1\n",
      "2\n",
      "3\n",
      "\n",
      "0\n",
      "1\n",
      "2\n",
      "3\n",
      "\n"
     ]
    }
   ],
   "source": [
    "i=0\n",
    "n=4\n",
    "while i<n:\n",
    "    j=0\n",
    "    m=4\n",
    "    while j<m:\n",
    "        print(j)\n",
    "        j+=1\n",
    "    print()\n",
    "    i+=1"
   ]
  },
  {
   "cell_type": "code",
   "execution_count": 19,
   "id": "923fd962-23a0-4a9a-b5d2-068e2574bc27",
   "metadata": {},
   "outputs": [
    {
     "name": "stdout",
     "output_type": "stream",
     "text": [
      "0\n",
      "1\n",
      "2\n",
      "3\n",
      "0\n",
      "1\n",
      "2\n",
      "3\n",
      "0\n",
      "1\n",
      "2\n",
      "3\n",
      "0\n",
      "1\n",
      "2\n",
      "3\n"
     ]
    }
   ],
   "source": [
    "i=0\n",
    "n=4\n",
    "while i<n:\n",
    "    j=0\n",
    "    m=4\n",
    "    while j<m:\n",
    "        print(j)\n",
    "        j+=1\n",
    "    \n",
    "    i+=1"
   ]
  },
  {
   "cell_type": "code",
   "execution_count": 23,
   "id": "24748613-fae3-4635-a8b0-9f6d1ad637ab",
   "metadata": {},
   "outputs": [
    {
     "name": "stdout",
     "output_type": "stream",
     "text": [
      "012\n",
      "012\n",
      "012\n",
      "012\n",
      "012\n"
     ]
    }
   ],
   "source": [
    "#increases rows\n",
    "i=0\n",
    "n=5\n",
    "while i<n:\n",
    "    j=0\n",
    "    m=3\n",
    "    while j<m:\n",
    "        print(j,end=\"\")\n",
    "        j+=1\n",
    "    print()\n",
    "    i+=1"
   ]
  },
  {
   "cell_type": "code",
   "execution_count": 22,
   "id": "328dbdaa-7a5c-483c-80ea-3a790dad6b4e",
   "metadata": {},
   "outputs": [
    {
     "name": "stdout",
     "output_type": "stream",
     "text": [
      "01234\n",
      "01234\n",
      "01234\n"
     ]
    }
   ],
   "source": [
    "#increases column\n",
    "i=0\n",
    "n=3\n",
    "while i<n:\n",
    "    j=0\n",
    "    m=5\n",
    "    while j<m:\n",
    "        print(j,end=\"\")\n",
    "        j+=1\n",
    "    print()\n",
    "    i+=1"
   ]
  },
  {
   "cell_type": "code",
   "execution_count": 29,
   "id": "f92480f1-6bde-45fb-9dbf-edd88303ded4",
   "metadata": {},
   "outputs": [
    {
     "name": "stdout",
     "output_type": "stream",
     "text": [
      "00000\n",
      "11111\n",
      "22222\n"
     ]
    }
   ],
   "source": [
    "#increases value in a column by replacing in print j with i\n",
    "i=0\n",
    "n=3\n",
    "while i<n:\n",
    "    j=0\n",
    "    m=5\n",
    "    while j<m:\n",
    "        print(i,end=\"\")\n",
    "        j+=1\n",
    "    print()\n",
    "    i+=1"
   ]
  },
  {
   "cell_type": "code",
   "execution_count": 32,
   "id": "046cc9b3-d6fc-4969-9d05-91c250bef699",
   "metadata": {},
   "outputs": [
    {
     "name": "stdout",
     "output_type": "stream",
     "text": [
      "0 0 0 0 0 \n",
      "1 1 1 1 1 \n",
      "2 2 2 2 2 \n"
     ]
    }
   ],
   "source": [
    "i=0\n",
    "n=3\n",
    "while i<n:\n",
    "    j=0\n",
    "    m=5\n",
    "    while j<m:\n",
    "        print(i,end=\" \")\n",
    "        j+=1\n",
    "    print()\n",
    "    i+=1"
   ]
  },
  {
   "cell_type": "code",
   "execution_count": 9,
   "id": "393b862f-f946-43e4-be7b-ef8cc527aa29",
   "metadata": {},
   "outputs": [
    {
     "data": {
      "text/plain": [
       "3"
      ]
     },
     "execution_count": 9,
     "metadata": {},
     "output_type": "execute_result"
    }
   ],
   "source": [
    "l=[\"kanika\",\"teena\",\"aditya\"]\n",
    "len(l)"
   ]
  },
  {
   "cell_type": "code",
   "execution_count": 2,
   "id": "78773839-1e92-4823-b626-f32e00d88921",
   "metadata": {},
   "outputs": [
    {
     "name": "stdout",
     "output_type": "stream",
     "text": [
      "0 k\n",
      "1 a\n",
      "2 n\n",
      "3 i\n",
      "4 k\n",
      "5 a\n",
      "0 t\n",
      "1 e\n",
      "2 e\n",
      "3 n\n",
      "4 a\n",
      "0 a\n",
      "1 d\n",
      "2 i\n",
      "3 t\n",
      "4 y\n",
      "5 a\n"
     ]
    }
   ],
   "source": [
    "l=[\"kanika\",\"teena\",\"aditya\"]\n",
    "i=0\n",
    "n=len(l) #lenght of list\n",
    "while i<n:\n",
    "    \n",
    "    j = 0\n",
    "    m=len(l[i]) #lenght of item \n",
    "    while j<m:\n",
    "        print(j,l[i][j])\n",
    "        j+=1\n",
    "\n",
    "    i+=1"
   ]
  },
  {
   "cell_type": "code",
   "execution_count": 43,
   "id": "55181900-4894-44c3-af98-ee258546718e",
   "metadata": {},
   "outputs": [
    {
     "name": "stdout",
     "output_type": "stream",
     "text": [
      "0 kanika\n",
      "0 k\n",
      "1 a\n",
      "2 n\n",
      "3 i\n",
      "4 k\n",
      "5 a\n",
      "1 teena\n",
      "0 t\n",
      "1 e\n",
      "2 e\n",
      "3 n\n",
      "4 a\n",
      "2 aditya\n",
      "0 a\n",
      "1 d\n",
      "2 i\n",
      "3 t\n",
      "4 y\n",
      "5 a\n"
     ]
    }
   ],
   "source": [
    "l=[\"kanika\",\"teena\",\"aditya\"]\n",
    "i=0\n",
    "n=len(l) #lenght of list\n",
    "while i<n:\n",
    "    print(i,l[i])\n",
    "    j = 0\n",
    "    m=len(l[i]) #lenght of item \n",
    "    while j<m:\n",
    "        print(j,l[i][j])\n",
    "        j+=1\n",
    "\n",
    "    i+=1"
   ]
  },
  {
   "cell_type": "code",
   "execution_count": 44,
   "id": "ae957f87-6adb-429a-a9fd-ea747ec9bcb9",
   "metadata": {},
   "outputs": [
    {
     "name": "stdout",
     "output_type": "stream",
     "text": [
      "0 kanika\n",
      "0 kanika\n",
      "1 kanika\n",
      "2 kanika\n",
      "3 kanika\n",
      "4 kanika\n",
      "5 kanika\n",
      "1 teena\n",
      "0 teena\n",
      "1 teena\n",
      "2 teena\n",
      "3 teena\n",
      "4 teena\n",
      "2 aditya\n",
      "0 aditya\n",
      "1 aditya\n",
      "2 aditya\n",
      "3 aditya\n",
      "4 aditya\n",
      "5 aditya\n"
     ]
    }
   ],
   "source": [
    "l=[\"kanika\",\"teena\",\"aditya\"]\n",
    "i=0\n",
    "n=len(l) #lenght of list\n",
    "while i<n:\n",
    "    print(i,l[i])\n",
    "    j = 0\n",
    "    m=len(l[i]) #lenght of item \n",
    "    while j<m:\n",
    "        print(j,l[i])\n",
    "        j+=1\n",
    "\n",
    "    i+=1"
   ]
  },
  {
   "cell_type": "code",
   "execution_count": 45,
   "id": "c94b3ca8-5d5b-488f-bf39-dbb6f91ddc7b",
   "metadata": {},
   "outputs": [
    {
     "name": "stdout",
     "output_type": "stream",
     "text": [
      "0 kanika\n",
      "0\n",
      "1\n",
      "2\n",
      "3\n",
      "4\n",
      "5\n",
      "1 teena\n",
      "0\n",
      "1\n",
      "2\n",
      "3\n",
      "4\n",
      "2 aditya\n",
      "0\n",
      "1\n",
      "2\n",
      "3\n",
      "4\n",
      "5\n"
     ]
    }
   ],
   "source": [
    "l=[\"kanika\",\"teena\",\"aditya\"]\n",
    "i=0\n",
    "n=len(l) #lenght of list\n",
    "while i<n:\n",
    "    print(i,l[i])\n",
    "    j = 0\n",
    "    m=len(l[i]) #lenght of item \n",
    "    while j<m:\n",
    "        print(j)\n",
    "        j+=1\n",
    "\n",
    "    i+=1"
   ]
  },
  {
   "cell_type": "code",
   "execution_count": null,
   "id": "980d6a0d-729a-4308-85c2-56ba6bc0701a",
   "metadata": {},
   "outputs": [],
   "source": []
  }
 ],
 "metadata": {
  "kernelspec": {
   "display_name": "Python [conda env:base] *",
   "language": "python",
   "name": "conda-base-py"
  },
  "language_info": {
   "codemirror_mode": {
    "name": "ipython",
    "version": 3
   },
   "file_extension": ".py",
   "mimetype": "text/x-python",
   "name": "python",
   "nbconvert_exporter": "python",
   "pygments_lexer": "ipython3",
   "version": "3.13.5"
  }
 },
 "nbformat": 4,
 "nbformat_minor": 5
}
