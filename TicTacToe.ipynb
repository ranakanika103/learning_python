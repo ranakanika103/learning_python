{
 "cells": [
  {
   "cell_type": "markdown",
   "id": "b435e614-aa01-4e1d-9fca-e3e8f16c768e",
   "metadata": {},
   "source": [
    "## display\n"
   ]
  },
  {
   "cell_type": "markdown",
   "id": "d451dd19-88c6-4ea2-8bdb-8ce72b8a00af",
   "metadata": {},
   "source": [
    "### baisc (intro)"
   ]
  },
  {
   "cell_type": "code",
   "execution_count": 11,
   "id": "d9851d84-eb81-4cff-a4b5-78e3573364d5",
   "metadata": {},
   "outputs": [],
   "source": [
    "li=[\"X\"]*10\n"
   ]
  },
  {
   "cell_type": "code",
   "execution_count": 12,
   "id": "8e530324-429e-4bab-a689-479fdd49fd4e",
   "metadata": {},
   "outputs": [
    {
     "data": {
      "text/plain": [
       "['X', 'X', 'X', 'X', 'X', 'X', 'X', 'X', 'X', 'X']"
      ]
     },
     "execution_count": 12,
     "metadata": {},
     "output_type": "execute_result"
    }
   ],
   "source": [
    "li"
   ]
  },
  {
   "cell_type": "code",
   "execution_count": 38,
   "id": "198b9d24-5461-4b53-9ba7-fe7c470a16ba",
   "metadata": {},
   "outputs": [],
   "source": [
    "# how to make a board\n",
    "def display():\n",
    "    print(li[7],\" | \",li[8],\" | \",li[9])\n",
    "    print(\"-\"*14)\n",
    "    print(li[4],\" | \",li[5],\" | \",li[6])\n",
    "    print(\"-\"*14)\n",
    "    print(li[1],\" | \",li[2],\" | \",li[3])"
   ]
  },
  {
   "cell_type": "code",
   "execution_count": 14,
   "id": "ba805a51-205f-42f5-94b9-fdd94a273d52",
   "metadata": {},
   "outputs": [
    {
     "name": "stdout",
     "output_type": "stream",
     "text": [
      "X  |  X  |  X\n",
      "--------------\n",
      "X  |  X  |  X\n",
      "--------------\n",
      "X  |  X  |  X\n"
     ]
    }
   ],
   "source": [
    "display()"
   ]
  },
  {
   "cell_type": "code",
   "execution_count": 39,
   "id": "29e82ce7-66f8-4f78-bafa-fe8ef9fba69c",
   "metadata": {},
   "outputs": [
    {
     "data": {
      "text/plain": [
       "[' ', ' ', ' ', ' ', ' ', ' ', ' ', ' ', ' ', ' ']"
      ]
     },
     "execution_count": 39,
     "metadata": {},
     "output_type": "execute_result"
    }
   ],
   "source": [
    "# starting of tictactoe game\n",
    "li=[\" \"]*10\n",
    "li"
   ]
  },
  {
   "cell_type": "code",
   "execution_count": 16,
   "id": "e81c9b33-10c9-4d75-aa02-11d04f617878",
   "metadata": {},
   "outputs": [],
   "source": [
    "li[5]=\"X\""
   ]
  },
  {
   "cell_type": "code",
   "execution_count": 17,
   "id": "fd39bb07-7a6f-43f2-95e6-393efca5e38e",
   "metadata": {},
   "outputs": [],
   "source": [
    "li[7]=\"0\""
   ]
  },
  {
   "cell_type": "code",
   "execution_count": 18,
   "id": "fb8f1451-0549-42a9-bcb5-d387b39b8ea7",
   "metadata": {},
   "outputs": [],
   "source": [
    "def display():\n",
    "    print(li[7],\" | \",li[8],\" | \",li[9])\n",
    "    print(\"-\"*14)\n",
    "    print(li[4],\" | \",li[5],\" | \",li[6])\n",
    "    print(\"-\"*14)\n",
    "    print(li[1],\" | \",li[2],\" | \",li[3])"
   ]
  },
  {
   "cell_type": "code",
   "execution_count": 19,
   "id": "c100520e-e2c1-42c6-8754-617924e43b4a",
   "metadata": {},
   "outputs": [
    {
     "name": "stdout",
     "output_type": "stream",
     "text": [
      "0  |     |   \n",
      "--------------\n",
      "   |  X  |   \n",
      "--------------\n",
      "   |     |   \n"
     ]
    }
   ],
   "source": [
    "display()"
   ]
  },
  {
   "cell_type": "code",
   "execution_count": 18,
   "id": "4f611eb0-6cdd-4675-831d-a2ab4fe4b397",
   "metadata": {},
   "outputs": [],
   "source": [
    "def put_marker(position,marker):\n",
    "    li[position]=marker"
   ]
  },
  {
   "cell_type": "code",
   "execution_count": 21,
   "id": "3919c513-a7c1-4120-81e0-3322cbffb84a",
   "metadata": {},
   "outputs": [],
   "source": [
    "put_marker(3,\"X\")"
   ]
  },
  {
   "cell_type": "code",
   "execution_count": 22,
   "id": "250eefa1-7ed2-4d4a-9e28-68b50f1651ca",
   "metadata": {},
   "outputs": [
    {
     "name": "stdout",
     "output_type": "stream",
     "text": [
      "0  |     |   \n",
      "--------------\n",
      "   |  X  |   \n",
      "--------------\n",
      "   |     |  X\n"
     ]
    }
   ],
   "source": [
    "display()"
   ]
  },
  {
   "cell_type": "code",
   "execution_count": 23,
   "id": "d3ce69a1-7aa3-4392-b8cc-13bad1fa3896",
   "metadata": {},
   "outputs": [],
   "source": [
    "def check_position_empty(position):\n",
    "    if li[position]==\" \":\n",
    "        return True\n",
    "    else:\n",
    "        return False"
   ]
  },
  {
   "cell_type": "code",
   "execution_count": 24,
   "id": "0dcb71ea-8be6-4b1c-bd2b-3798b30a6d19",
   "metadata": {},
   "outputs": [
    {
     "data": {
      "text/plain": [
       "True"
      ]
     },
     "execution_count": 24,
     "metadata": {},
     "output_type": "execute_result"
    }
   ],
   "source": [
    " check_position_empty(1)"
   ]
  },
  {
   "cell_type": "code",
   "execution_count": 25,
   "id": "b716daab-9cc7-4041-9ddb-c2ddd6198945",
   "metadata": {},
   "outputs": [
    {
     "data": {
      "text/plain": [
       "False"
      ]
     },
     "execution_count": 25,
     "metadata": {},
     "output_type": "execute_result"
    }
   ],
   "source": [
    " check_position_empty(3)"
   ]
  },
  {
   "cell_type": "code",
   "execution_count": 26,
   "id": "620cb6fd-8eec-46da-a783-596b5d846bc1",
   "metadata": {},
   "outputs": [
    {
     "name": "stdin",
     "output_type": "stream",
     "text": [
      " kanika\n"
     ]
    },
    {
     "ename": "ValueError",
     "evalue": "invalid literal for int() with base 10: 'kanika'",
     "output_type": "error",
     "traceback": [
      "\u001b[1;31m---------------------------------------------------------------------------\u001b[0m",
      "\u001b[1;31mValueError\u001b[0m                                Traceback (most recent call last)",
      "Cell \u001b[1;32mIn[26], line 1\u001b[0m\n\u001b[1;32m----> 1\u001b[0m \u001b[38;5;28mint\u001b[39m(\u001b[38;5;28minput\u001b[39m())\n",
      "\u001b[1;31mValueError\u001b[0m: invalid literal for int() with base 10: 'kanika'"
     ]
    }
   ],
   "source": [
    "int(input())"
   ]
  },
  {
   "cell_type": "code",
   "execution_count": 113,
   "id": "f6cdc402-6aa2-4434-b4c9-6d3588b3b55b",
   "metadata": {},
   "outputs": [
    {
     "name": "stdin",
     "output_type": "stream",
     "text": [
      "None kanika\n"
     ]
    },
    {
     "name": "stdout",
     "output_type": "stream",
     "text": [
      "please provide a number\n"
     ]
    },
    {
     "name": "stdin",
     "output_type": "stream",
     "text": [
      "None teena\n"
     ]
    },
    {
     "name": "stdout",
     "output_type": "stream",
     "text": [
      "please provide a number\n"
     ]
    },
    {
     "name": "stdin",
     "output_type": "stream",
     "text": [
      "None 4\n"
     ]
    }
   ],
   "source": [
    "while not position:   \n",
    "    position=None\n",
    "    try:\n",
    "        position=int(input(position))\n",
    "    except ValueError:\n",
    "        print(\"please provide a number\")"
   ]
  },
  {
   "cell_type": "code",
   "execution_count": 112,
   "id": "70d20872-8c89-4d68-b3bd-d0dd2d63bb8c",
   "metadata": {},
   "outputs": [
    {
     "name": "stdin",
     "output_type": "stream",
     "text": [
      "None kanika\n"
     ]
    },
    {
     "name": "stdout",
     "output_type": "stream",
     "text": [
      "please provide a number\n"
     ]
    }
   ],
   "source": [
    "position=None\n",
    "try:\n",
    "    position=int(input(position))\n",
    "except ValueError:\n",
    "    print(\"please provide a number\")"
   ]
  },
  {
   "cell_type": "code",
   "execution_count": 87,
   "id": "d238c5c1-ce1f-400a-ba5b-a7ed1554968b",
   "metadata": {},
   "outputs": [
    {
     "name": "stdout",
     "output_type": "stream",
     "text": [
      "0  |     |   \n",
      "--------------\n",
      "   |  X  |   \n",
      "--------------\n",
      "   |     |  X\n"
     ]
    }
   ],
   "source": [
    "display()"
   ]
  },
  {
   "cell_type": "markdown",
   "id": "66f000c3-e58a-4930-bdac-5fe524638dda",
   "metadata": {},
   "source": [
    "### how to make it "
   ]
  },
  {
   "cell_type": "code",
   "execution_count": 8,
   "id": "f8005f1a-dc6c-4b18-82f2-15d1e6757324",
   "metadata": {},
   "outputs": [
    {
     "data": {
      "text/plain": [
       "[' ', ' ', ' ', ' ', ' ', ' ', ' ', ' ', ' ', ' ']"
      ]
     },
     "execution_count": 8,
     "metadata": {},
     "output_type": "execute_result"
    }
   ],
   "source": [
    "li=[\" \"]*10\n",
    "li"
   ]
  },
  {
   "cell_type": "code",
   "execution_count": 9,
   "id": "31e963e8-5344-47c3-8993-a9ebb0ac3728",
   "metadata": {},
   "outputs": [],
   "source": [
    "li[5]=\"X\""
   ]
  },
  {
   "cell_type": "code",
   "execution_count": 10,
   "id": "eb5fd315-fce7-4097-9535-531943191c3a",
   "metadata": {},
   "outputs": [],
   "source": [
    "li[7]=\"0\"\n",
    "li[3]=\"X\""
   ]
  },
  {
   "cell_type": "code",
   "execution_count": 11,
   "id": "b73ef445-e197-4abc-a9c4-8cf54f89f953",
   "metadata": {},
   "outputs": [],
   "source": [
    "def display():\n",
    "    print(li[7],\" | \",li[8],\" | \",li[9])\n",
    "    print(\"-\"*14)\n",
    "    print(li[4],\" | \",li[5],\" | \",li[6])\n",
    "    print(\"-\"*14)\n",
    "    print(li[1],\" | \",li[2],\" | \",li[3])"
   ]
  },
  {
   "cell_type": "code",
   "execution_count": 12,
   "id": "450837ca-8494-4fcb-8712-83271d35ef3f",
   "metadata": {},
   "outputs": [
    {
     "name": "stdout",
     "output_type": "stream",
     "text": [
      "0  |     |   \n",
      "--------------\n",
      "   |  X  |   \n",
      "--------------\n",
      "   |     |  X\n"
     ]
    }
   ],
   "source": [
    "display()"
   ]
  },
  {
   "cell_type": "code",
   "execution_count": 13,
   "id": "b85707da-e348-40a8-acd0-9814b17a8431",
   "metadata": {},
   "outputs": [],
   "source": [
    "# to find empty position\n",
    "def empty_position():\n",
    "    ans=[]\n",
    "    for i in range(1, len(li)):\n",
    "        if li[i] == \" \":\n",
    "            ans.append(i)\n",
    "    return ans"
   ]
  },
  {
   "cell_type": "code",
   "execution_count": 14,
   "id": "24e94136-3bfc-489b-bb49-6bd4c2584a39",
   "metadata": {},
   "outputs": [
    {
     "data": {
      "text/plain": [
       "[1, 2, 4, 6, 8, 9]"
      ]
     },
     "execution_count": 14,
     "metadata": {},
     "output_type": "execute_result"
    }
   ],
   "source": [
    "empty_position()"
   ]
  },
  {
   "cell_type": "code",
   "execution_count": 15,
   "id": "d2a6ae04-630f-454e-9ccd-147a0ad864f2",
   "metadata": {},
   "outputs": [],
   "source": [
    "def take_position():\n",
    "    position=None\n",
    "    available=empty_position()\n",
    "    while not position: #while position in None (you can also write this)\n",
    "        try:\n",
    "            position=int(input(f'please choose among{available}'))\n",
    "        except ValueError:\n",
    "            print(f\"please provide a number among{available}\")\n",
    "        else:\n",
    "            if position in available:\n",
    "                return position\n",
    "            else:\n",
    "                print(f\"please provide a number among{available}\")\n",
    "                position=None"
   ]
  },
  {
   "cell_type": "code",
   "execution_count": 16,
   "id": "2fb558c2-652b-4177-b803-461c0054fa43",
   "metadata": {},
   "outputs": [
    {
     "name": "stdin",
     "output_type": "stream",
     "text": [
      "please choose among[1, 2, 4, 6, 8, 9] 3\n"
     ]
    },
    {
     "name": "stdout",
     "output_type": "stream",
     "text": [
      "please provide a number among[1, 2, 4, 6, 8, 9]\n"
     ]
    },
    {
     "name": "stdin",
     "output_type": "stream",
     "text": [
      "please choose among[1, 2, 4, 6, 8, 9] 7\n"
     ]
    },
    {
     "name": "stdout",
     "output_type": "stream",
     "text": [
      "please provide a number among[1, 2, 4, 6, 8, 9]\n"
     ]
    },
    {
     "name": "stdin",
     "output_type": "stream",
     "text": [
      "please choose among[1, 2, 4, 6, 8, 9] 8\n"
     ]
    },
    {
     "data": {
      "text/plain": [
       "8"
      ]
     },
     "execution_count": 16,
     "metadata": {},
     "output_type": "execute_result"
    }
   ],
   "source": [
    "take_position()"
   ]
  },
  {
   "cell_type": "code",
   "execution_count": 114,
   "id": "455f1e06-3af2-4303-9286-254e1c8d2402",
   "metadata": {},
   "outputs": [],
   "source": [
    "#while-else (you can see while-else if you want)"
   ]
  },
  {
   "cell_type": "code",
   "execution_count": 21,
   "id": "2f06d9b6-8fdb-4438-8ab1-d10acb71ab29",
   "metadata": {},
   "outputs": [],
   "source": [
    "def check_win():\n",
    "    if (li[7]==li[8]==li[9]!=\" \") or \\\n",
    "    (li[4]==li[5]==li[6]!=\" \") or \\\n",
    "    (li[1]==li[2]==li[3]!=\" \") or \\\n",
    "    (li[7]==li[4]==li[1]!=\" \") or \\\n",
    "    (li[8]==li[5]==li[2]!=\" \") or \\\n",
    "    (li[9]==li[6]==li[3]!=\" \") or \\\n",
    "    (li[7]==li[5]==li[3]!=\" \") or \\\n",
    "    (li[1]==li[5]==li[9]!=\" \"):\n",
    "        return True\n",
    "    else:\n",
    "        return False"
   ]
  },
  {
   "cell_type": "code",
   "execution_count": 20,
   "id": "fcd0a5ca-18f0-4494-8fd5-bc36729fa1ce",
   "metadata": {},
   "outputs": [],
   "source": [
    "def board_full():\n",
    "    if len(empty_position())==0:\n",
    "        return True\n",
    "    else:\n",
    "        return False"
   ]
  },
  {
   "cell_type": "code",
   "execution_count": 33,
   "id": "39ab20e1-f15a-488e-ae5f-0617e707c33e",
   "metadata": {},
   "outputs": [
    {
     "data": {
      "text/plain": [
       "False"
      ]
     },
     "execution_count": 33,
     "metadata": {},
     "output_type": "execute_result"
    }
   ],
   "source": [
    "board_full()"
   ]
  },
  {
   "cell_type": "code",
   "execution_count": 34,
   "id": "d2e4e40f-afd5-477b-bc25-e8373ba60e8e",
   "metadata": {},
   "outputs": [],
   "source": [
    "# board full kita ethai\n",
    "li=[\"X\"]*10"
   ]
  },
  {
   "cell_type": "code",
   "execution_count": 35,
   "id": "5135c847-e080-4b8e-87f1-e64914886b80",
   "metadata": {},
   "outputs": [
    {
     "data": {
      "text/plain": [
       "True"
      ]
     },
     "execution_count": 35,
     "metadata": {},
     "output_type": "execute_result"
    }
   ],
   "source": [
    "board_full()"
   ]
  },
  {
   "cell_type": "code",
   "execution_count": 1,
   "id": "99f29427-e9a0-4144-80cf-45cc5e14daaa",
   "metadata": {},
   "outputs": [],
   "source": [
    "def change_marker(marker):\n",
    "    if marker==\"0\":\n",
    "        return\"X\"\n",
    "    else:\n",
    "        return\"0\""
   ]
  },
  {
   "cell_type": "code",
   "execution_count": 1,
   "id": "7b84faa6-9618-43a7-b619-de4358af3060",
   "metadata": {},
   "outputs": [],
   "source": [
    "# player1,2 in input (use random function if randint...),choose marker, scores, who win and losse and show scores if player don't want to play again, timing , whose turn with marker, also use global to quit or exit the game "
   ]
  },
  {
   "cell_type": "code",
   "execution_count": 24,
   "id": "929ee6cf-f9e4-4c89-8dbd-69d9f394f033",
   "metadata": {},
   "outputs": [
    {
     "name": "stdout",
     "output_type": "stream",
     "text": [
      "   |     |   \n",
      "--------------\n",
      "   |     |   \n",
      "--------------\n",
      "   |     |   \n"
     ]
    },
    {
     "name": "stdin",
     "output_type": "stream",
     "text": [
      "please choose among[1, 2, 3, 4, 5, 6, 7, 8, 9] 1\n"
     ]
    },
    {
     "name": "stdout",
     "output_type": "stream",
     "text": [
      "   |     |   \n",
      "--------------\n",
      "   |     |   \n",
      "--------------\n",
      "0  |     |   \n",
      "   |     |   \n",
      "--------------\n",
      "   |     |   \n",
      "--------------\n",
      "0  |     |   \n"
     ]
    },
    {
     "name": "stdin",
     "output_type": "stream",
     "text": [
      "please choose among[2, 3, 4, 5, 6, 7, 8, 9] 5\n"
     ]
    },
    {
     "name": "stdout",
     "output_type": "stream",
     "text": [
      "   |     |   \n",
      "--------------\n",
      "   |  X  |   \n",
      "--------------\n",
      "0  |     |   \n",
      "   |     |   \n",
      "--------------\n",
      "   |  X  |   \n",
      "--------------\n",
      "0  |     |   \n"
     ]
    },
    {
     "name": "stdin",
     "output_type": "stream",
     "text": [
      "please choose among[2, 3, 4, 6, 7, 8, 9] 9\n"
     ]
    },
    {
     "name": "stdout",
     "output_type": "stream",
     "text": [
      "   |     |  0\n",
      "--------------\n",
      "   |  X  |   \n",
      "--------------\n",
      "0  |     |   \n",
      "   |     |  0\n",
      "--------------\n",
      "   |  X  |   \n",
      "--------------\n",
      "0  |     |   \n"
     ]
    },
    {
     "name": "stdin",
     "output_type": "stream",
     "text": [
      "please choose among[2, 3, 4, 6, 7, 8] 3\n"
     ]
    },
    {
     "name": "stdout",
     "output_type": "stream",
     "text": [
      "   |     |  0\n",
      "--------------\n",
      "   |  X  |   \n",
      "--------------\n",
      "0  |     |  X\n",
      "   |     |  0\n",
      "--------------\n",
      "   |  X  |   \n",
      "--------------\n",
      "0  |     |  X\n"
     ]
    },
    {
     "name": "stdin",
     "output_type": "stream",
     "text": [
      "please choose among[2, 4, 6, 7, 8] 6\n"
     ]
    },
    {
     "name": "stdout",
     "output_type": "stream",
     "text": [
      "   |     |  0\n",
      "--------------\n",
      "   |  X  |  0\n",
      "--------------\n",
      "0  |     |  X\n",
      "   |     |  0\n",
      "--------------\n",
      "   |  X  |  0\n",
      "--------------\n",
      "0  |     |  X\n"
     ]
    },
    {
     "name": "stdin",
     "output_type": "stream",
     "text": [
      "please choose among[2, 4, 7, 8] 7\n"
     ]
    },
    {
     "name": "stdout",
     "output_type": "stream",
     "text": [
      "X  |     |  0\n",
      "--------------\n",
      "   |  X  |  0\n",
      "--------------\n",
      "0  |     |  X\n",
      "congratulations X won the game\n"
     ]
    }
   ],
   "source": [
    "li=[\" \"]*10\n",
    "game=True\n",
    "marker=\"0\"\n",
    "while game:\n",
    "    display()\n",
    "    position=take_position()\n",
    "    put_marker(position,marker)\n",
    "    display()\n",
    "    if check_win():\n",
    "        print(f\"congratulations {marker} won the game\")\n",
    "        game=False\n",
    "        break \n",
    "    elif board_full():\n",
    "        print(f\" board full,game draw, do you want to play again\")\n",
    "        game=False\n",
    "        break\n",
    "    else:\n",
    "        marker=change_marker(marker)"
   ]
  },
  {
   "cell_type": "code",
   "execution_count": 29,
   "id": "1fb75505-6e01-414d-9c06-cdca5b21f0b6",
   "metadata": {},
   "outputs": [
    {
     "name": "stdout",
     "output_type": "stream",
     "text": [
      "   |     |   \n",
      "--------------\n",
      "   |     |   \n",
      "--------------\n",
      "   |     |   \n"
     ]
    },
    {
     "name": "stdin",
     "output_type": "stream",
     "text": [
      "please choose among[1, 2, 3, 4, 5, 6, 7, 8, 9] 1\n"
     ]
    },
    {
     "name": "stdout",
     "output_type": "stream",
     "text": [
      "   |     |   \n",
      "--------------\n",
      "   |     |   \n",
      "--------------\n",
      "0  |     |   \n"
     ]
    },
    {
     "name": "stdin",
     "output_type": "stream",
     "text": [
      "please choose among[2, 3, 4, 5, 6, 7, 8, 9] 5\n"
     ]
    },
    {
     "name": "stdout",
     "output_type": "stream",
     "text": [
      "   |     |   \n",
      "--------------\n",
      "   |  X  |   \n",
      "--------------\n",
      "0  |     |   \n"
     ]
    },
    {
     "name": "stdin",
     "output_type": "stream",
     "text": [
      "please choose among[2, 3, 4, 6, 7, 8, 9] 2\n"
     ]
    },
    {
     "name": "stdout",
     "output_type": "stream",
     "text": [
      "   |     |   \n",
      "--------------\n",
      "   |  X  |   \n",
      "--------------\n",
      "0  |  0  |   \n"
     ]
    },
    {
     "name": "stdin",
     "output_type": "stream",
     "text": [
      "please choose among[3, 4, 6, 7, 8, 9] 3\n"
     ]
    },
    {
     "name": "stdout",
     "output_type": "stream",
     "text": [
      "   |     |   \n",
      "--------------\n",
      "   |  X  |   \n",
      "--------------\n",
      "0  |  0  |  X\n"
     ]
    },
    {
     "name": "stdin",
     "output_type": "stream",
     "text": [
      "please choose among[4, 6, 7, 8, 9] 7\n"
     ]
    },
    {
     "name": "stdout",
     "output_type": "stream",
     "text": [
      "0  |     |   \n",
      "--------------\n",
      "   |  X  |   \n",
      "--------------\n",
      "0  |  0  |  X\n"
     ]
    },
    {
     "name": "stdin",
     "output_type": "stream",
     "text": [
      "please choose among[4, 6, 8, 9] 4\n"
     ]
    },
    {
     "name": "stdout",
     "output_type": "stream",
     "text": [
      "0  |     |   \n",
      "--------------\n",
      "X  |  X  |   \n",
      "--------------\n",
      "0  |  0  |  X\n"
     ]
    },
    {
     "name": "stdin",
     "output_type": "stream",
     "text": [
      "please choose among[6, 8, 9] 6\n"
     ]
    },
    {
     "name": "stdout",
     "output_type": "stream",
     "text": [
      "0  |     |   \n",
      "--------------\n",
      "X  |  X  |  0\n",
      "--------------\n",
      "0  |  0  |  X\n"
     ]
    },
    {
     "name": "stdin",
     "output_type": "stream",
     "text": [
      "please choose among[8, 9] 8\n"
     ]
    },
    {
     "name": "stdout",
     "output_type": "stream",
     "text": [
      "0  |  X  |   \n",
      "--------------\n",
      "X  |  X  |  0\n",
      "--------------\n",
      "0  |  0  |  X\n"
     ]
    },
    {
     "name": "stdin",
     "output_type": "stream",
     "text": [
      "please choose among[9] 9\n"
     ]
    },
    {
     "name": "stdout",
     "output_type": "stream",
     "text": [
      "0  |  X  |  0\n",
      "--------------\n",
      "X  |  X  |  0\n",
      "--------------\n",
      "0  |  0  |  X\n",
      " board full,game draw, do you want to play again\n"
     ]
    }
   ],
   "source": [
    "li=[\" \"]*10\n",
    "game=True\n",
    "marker=\"0\"\n",
    "display()\n",
    "while game:\n",
    "    \n",
    "    position=take_position()\n",
    "    put_marker(position,marker)\n",
    "    display()\n",
    "    if check_win():\n",
    "        print(f\"congratulations {marker} won the game\")\n",
    "        game=False\n",
    "        break \n",
    "    elif board_full():\n",
    "        print(f\" board full,game draw, do you want to play again\")\n",
    "        game=False\n",
    "        break\n",
    "    else:\n",
    "        marker=change_marker(marker)"
   ]
  },
  {
   "cell_type": "code",
   "execution_count": 32,
   "id": "371d3aed-4ff4-4994-8de2-8eddb41f2c3d",
   "metadata": {},
   "outputs": [
    {
     "name": "stdout",
     "output_type": "stream",
     "text": [
      "   |     |   \n",
      "--------------\n",
      "   |     |   \n",
      "--------------\n",
      "   |     |   \n"
     ]
    },
    {
     "name": "stdin",
     "output_type": "stream",
     "text": [
      "please choose among[1, 2, 3, 4, 5, 6, 7, 8, 9] 1\n"
     ]
    },
    {
     "name": "stdout",
     "output_type": "stream",
     "text": [
      "   |     |   \n",
      "--------------\n",
      "   |     |   \n",
      "--------------\n",
      "0  |     |   \n"
     ]
    },
    {
     "name": "stdin",
     "output_type": "stream",
     "text": [
      "please choose among[2, 3, 4, 5, 6, 7, 8, 9] 5\n"
     ]
    },
    {
     "name": "stdout",
     "output_type": "stream",
     "text": [
      "   |     |   \n",
      "--------------\n",
      "   |  X  |   \n",
      "--------------\n",
      "0  |     |   \n"
     ]
    },
    {
     "name": "stdin",
     "output_type": "stream",
     "text": [
      "please choose among[2, 3, 4, 6, 7, 8, 9] 2\n"
     ]
    },
    {
     "name": "stdout",
     "output_type": "stream",
     "text": [
      "   |     |   \n",
      "--------------\n",
      "   |  X  |   \n",
      "--------------\n",
      "0  |  0  |   \n"
     ]
    },
    {
     "name": "stdin",
     "output_type": "stream",
     "text": [
      "please choose among[3, 4, 6, 7, 8, 9] 3\n"
     ]
    },
    {
     "name": "stdout",
     "output_type": "stream",
     "text": [
      "   |     |   \n",
      "--------------\n",
      "   |  X  |   \n",
      "--------------\n",
      "0  |  0  |  X\n"
     ]
    },
    {
     "name": "stdin",
     "output_type": "stream",
     "text": [
      "please choose among[4, 6, 7, 8, 9] 7\n"
     ]
    },
    {
     "name": "stdout",
     "output_type": "stream",
     "text": [
      "0  |     |   \n",
      "--------------\n",
      "   |  X  |   \n",
      "--------------\n",
      "0  |  0  |  X\n"
     ]
    },
    {
     "name": "stdin",
     "output_type": "stream",
     "text": [
      "please choose among[4, 6, 8, 9] 4\n"
     ]
    },
    {
     "name": "stdout",
     "output_type": "stream",
     "text": [
      "0  |     |   \n",
      "--------------\n",
      "X  |  X  |   \n",
      "--------------\n",
      "0  |  0  |  X\n"
     ]
    },
    {
     "name": "stdin",
     "output_type": "stream",
     "text": [
      "please choose among[6, 8, 9] 6\n"
     ]
    },
    {
     "name": "stdout",
     "output_type": "stream",
     "text": [
      "0  |     |   \n",
      "--------------\n",
      "X  |  X  |  0\n",
      "--------------\n",
      "0  |  0  |  X\n"
     ]
    },
    {
     "name": "stdin",
     "output_type": "stream",
     "text": [
      "please choose among[8, 9] 8\n"
     ]
    },
    {
     "name": "stdout",
     "output_type": "stream",
     "text": [
      "0  |  X  |   \n",
      "--------------\n",
      "X  |  X  |  0\n",
      "--------------\n",
      "0  |  0  |  X\n"
     ]
    },
    {
     "name": "stdin",
     "output_type": "stream",
     "text": [
      "please choose among[9] 9\n"
     ]
    },
    {
     "name": "stdout",
     "output_type": "stream",
     "text": [
      "0  |  X  |  0\n",
      "--------------\n",
      "X  |  X  |  0\n",
      "--------------\n",
      "0  |  0  |  X\n",
      " board full,game draw, do you want to play again\n"
     ]
    },
    {
     "name": "stdin",
     "output_type": "stream",
     "text": [
      "do you want to play again, yes, no ? y\n"
     ]
    },
    {
     "name": "stdout",
     "output_type": "stream",
     "text": [
      "new game\n",
      "   |     |   \n",
      "--------------\n",
      "   |     |   \n",
      "--------------\n",
      "   |     |   \n"
     ]
    },
    {
     "name": "stdin",
     "output_type": "stream",
     "text": [
      "please choose among[1, 2, 3, 4, 5, 6, 7, 8, 9] 5\n"
     ]
    },
    {
     "name": "stdout",
     "output_type": "stream",
     "text": [
      "   |     |   \n",
      "--------------\n",
      "   |  0  |   \n",
      "--------------\n",
      "   |     |   \n"
     ]
    },
    {
     "name": "stdin",
     "output_type": "stream",
     "text": [
      "please choose among[1, 2, 3, 4, 6, 7, 8, 9] 1\n"
     ]
    },
    {
     "name": "stdout",
     "output_type": "stream",
     "text": [
      "   |     |   \n",
      "--------------\n",
      "   |  0  |   \n",
      "--------------\n",
      "X  |     |   \n"
     ]
    },
    {
     "name": "stdin",
     "output_type": "stream",
     "text": [
      "please choose among[2, 3, 4, 6, 7, 8, 9] 3\n"
     ]
    },
    {
     "name": "stdout",
     "output_type": "stream",
     "text": [
      "   |     |   \n",
      "--------------\n",
      "   |  0  |   \n",
      "--------------\n",
      "X  |     |  0\n"
     ]
    },
    {
     "name": "stdin",
     "output_type": "stream",
     "text": [
      "please choose among[2, 4, 6, 7, 8, 9] 4\n"
     ]
    },
    {
     "name": "stdout",
     "output_type": "stream",
     "text": [
      "   |     |   \n",
      "--------------\n",
      "X  |  0  |   \n",
      "--------------\n",
      "X  |     |  0\n"
     ]
    },
    {
     "name": "stdin",
     "output_type": "stream",
     "text": [
      "please choose among[2, 6, 7, 8, 9] 7\n"
     ]
    },
    {
     "name": "stdout",
     "output_type": "stream",
     "text": [
      "0  |     |   \n",
      "--------------\n",
      "X  |  0  |   \n",
      "--------------\n",
      "X  |     |  0\n",
      "congratulations 0 won the game\n"
     ]
    }
   ],
   "source": [
    "li=[\" \"]*10\n",
    "game=True\n",
    "marker=\"0\"\n",
    "display()\n",
    "while game:\n",
    "    \n",
    "    position=take_position()\n",
    "    put_marker(position,marker)\n",
    "    display()\n",
    "    if check_win():\n",
    "        print(f\"congratulations {marker} won the game\")\n",
    "        game=False\n",
    "        break \n",
    "    elif board_full():\n",
    "        print(f\" board full,game draw, do you want to play again\")\n",
    "        playAgain=input(\"do you want to play again, yes, no ?\")\n",
    "        if playAgain[0].lower()=='y':\n",
    "            li=[\" \"]*10\n",
    "            print(\"new game\")\n",
    "            display()\n",
    "            game=True\n",
    "        else:\n",
    "            \n",
    "            game=False\n",
    "            break\n",
    "    else:\n",
    "        marker=change_marker(marker)"
   ]
  },
  {
   "cell_type": "code",
   "execution_count": 37,
   "id": "6167112b-45cc-4c64-9cc2-7393d25868d1",
   "metadata": {},
   "outputs": [],
   "source": [
    "# to clear earlier output shows when we play game\n",
    "from IPython.display import clear_output"
   ]
  },
  {
   "cell_type": "code",
   "execution_count": 49,
   "id": "f7aaf22a-7cbb-44d8-b6d9-f7cc895b0172",
   "metadata": {},
   "outputs": [
    {
     "name": "stdout",
     "output_type": "stream",
     "text": [
      "0  |  X  |  X\n",
      "--------------\n",
      "0  |  0  |   \n",
      "--------------\n",
      "0  |  X  |   \n",
      "congratulations 0 won the game\n"
     ]
    }
   ],
   "source": [
    "# put marker dai just nichai he clear_ouput likhna display dai nichai likan nal blank show hona\n",
    "li=[\" \"]*10\n",
    "game=True\n",
    "marker=\"0\"\n",
    "display()\n",
    "while game:\n",
    "    \n",
    "    position=take_position()\n",
    "    put_marker(position,marker)\n",
    "    clear_output()\n",
    "    display()\n",
    "    if check_win():\n",
    "        print(f\"congratulations {marker} won the game\")\n",
    "        game=False\n",
    "        break \n",
    "    elif board_full():\n",
    "        print(f\" board full,game draw, do you want to play again\")\n",
    "        playAgain=input(\"do you want to play again, yes, no ?\")\n",
    "        if playAgain[0] in (\"y\",\"Y\"):\n",
    "            li=[\" \"]*10\n",
    "            print(\"new game\")\n",
    "            display()\n",
    "            game=True\n",
    "        else:\n",
    "            \n",
    "            game=False\n",
    "            break\n",
    "    else:\n",
    "        marker=change_marker(marker)"
   ]
  },
  {
   "cell_type": "code",
   "execution_count": 41,
   "id": "1c0bd19b-4bd5-4b2a-bf27-4d2c615fabe6",
   "metadata": {},
   "outputs": [],
   "source": [
    "import random"
   ]
  },
  {
   "cell_type": "code",
   "execution_count": 48,
   "id": "feecfabd-3e42-4681-a23f-e83d2bff9ed2",
   "metadata": {},
   "outputs": [
    {
     "name": "stdout",
     "output_type": "stream",
     "text": [
      "player1\n"
     ]
    }
   ],
   "source": [
    "if random.randint(0,1):\n",
    "    print(\"player1\")\n",
    "else:\n",
    "    print(\"player2\")"
   ]
  },
  {
   "cell_type": "code",
   "execution_count": null,
   "id": "e0d7f922-a80b-4c59-a3df-dcc144dae73e",
   "metadata": {},
   "outputs": [],
   "source": []
  },
  {
   "cell_type": "code",
   "execution_count": null,
   "id": "eb29105b-b397-4283-96c8-34af789e3592",
   "metadata": {},
   "outputs": [],
   "source": []
  }
 ],
 "metadata": {
  "kernelspec": {
   "display_name": "Python [conda env:base] *",
   "language": "python",
   "name": "conda-base-py"
  },
  "language_info": {
   "codemirror_mode": {
    "name": "ipython",
    "version": 3
   },
   "file_extension": ".py",
   "mimetype": "text/x-python",
   "name": "python",
   "nbconvert_exporter": "python",
   "pygments_lexer": "ipython3",
   "version": "3.13.5"
  }
 },
 "nbformat": 4,
 "nbformat_minor": 5
}
